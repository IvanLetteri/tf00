{
  "nbformat": 4,
  "nbformat_minor": 0,
  "metadata": {
    "colab": {
      "name": "Untitled51.ipynb",
      "provenance": [],
      "authorship_tag": "ABX9TyNdAkcXAcAbEW1clbPfiQwM",
      "include_colab_link": true
    },
    "kernelspec": {
      "name": "python3",
      "display_name": "Python 3"
    }
  },
  "cells": [
    {
      "cell_type": "markdown",
      "metadata": {
        "id": "view-in-github",
        "colab_type": "text"
      },
      "source": [
        "<a href=\"https://colab.research.google.com/github/ProfAI/tf00/blob/master/tabella_dnn.ipynb\" target=\"_parent\"><img src=\"https://colab.research.google.com/assets/colab-badge.svg\" alt=\"Open In Colab\"/></a>"
      ]
    },
    {
      "cell_type": "markdown",
      "metadata": {
        "id": "qFjs4t6x9plr",
        "colab_type": "text"
      },
      "source": [
        "# Tabella di Recap\n",
        ">Problema | Funzione di attivazione | Funzione di Costo | Metriche | Algoritmo* |\n",
        ">--- | --- | --- | --- | --- |\n",
        ">Regressione | Lineare | MSE, MAE | MSE, RMSE, MAE, R2 | Adam\n",
        ">Classificazione Binaria | Sigmoid | Binary Crossentropy | Binary Crossentropy, Accuracy, Confusion Matrix | Adam |\n",
        ">Classificazione Multiclasse | Softmax | Categorical Crossentropy | Categorical Crossentropy, Accuracy, Confusion Matrix | Adam |\n",
        ">Classificazione con matrice sparsa| Softmax | Sparse Categorical Crossentropy | Sparse Categorical Crossentropy, Accuracy, Confusion Matrix | Adamax\n",
        "\n",
        ">Funzioni di Attivazione Strati nascosti |\n",
        ">--- |\n",
        ">Rectified Linear Unit (ReLu), Tangente Iperbolica (Tanh) |\n",
        "\n",
        "*Scelta più comune ma non obbligatoria, è possibile valutare anche le altre opzioni.\n"
      ]
    },
    {
      "cell_type": "code",
      "metadata": {
        "id": "1osMTbqH9oRD",
        "colab_type": "code",
        "colab": {}
      },
      "source": [
        ""
      ],
      "execution_count": null,
      "outputs": []
    }
  ]
}