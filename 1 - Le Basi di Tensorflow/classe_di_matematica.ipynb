{
  "nbformat": 4,
  "nbformat_minor": 0,
  "metadata": {
    "colab": {
      "name": "Untitled43.ipynb",
      "provenance": [],
      "toc_visible": true,
      "authorship_tag": "ABX9TyNJvEDrz0yzNk5BSe3v4El5",
      "include_colab_link": true
    },
    "kernelspec": {
      "name": "python3",
      "display_name": "Python 3"
    }
  },
  "cells": [
    {
      "cell_type": "markdown",
      "metadata": {
        "id": "view-in-github",
        "colab_type": "text"
      },
      "source": [
        "<a href=\"https://colab.research.google.com/github/ProfAI/tf00/blob/master/1%20-%20Le%20Basi%20di%20Tensorflow/classe_di_matematica.ipynb\" target=\"_parent\"><img src=\"https://colab.research.google.com/assets/colab-badge.svg\" alt=\"Open In Colab\"/></a>"
      ]
    },
    {
      "cell_type": "markdown",
      "metadata": {
        "id": "9kqPfOLAOoYi",
        "colab_type": "text"
      },
      "source": [
        "# Chi passerà matematica ?\n",
        "La classificazione è il problema in cui cerchiamo di approssimare una funzione il cui output è una classe, cioè un valore appartenente ad un set di valori finiti.\n",
        "Per approcciarci alla classificazione, in questo notebook addestreremo un modello di machine learning per predire quali studenti passeranno la classe di matematica, quindi i possibili output del modello sono solamente 2: promosso o bocciato."
      ]
    },
    {
      "cell_type": "markdown",
      "metadata": {
        "id": "jz_rnk_5ymNK",
        "colab_type": "text"
      },
      "source": [
        "## Importiamo i Moduli\n",
        "Per scaricare ed operare sul dataset utilizzeremo il modulo Pandas."
      ]
    },
    {
      "cell_type": "code",
      "metadata": {
        "id": "xXoHP4J0OVVk",
        "colab_type": "code",
        "colab": {}
      },
      "source": [
        "import numpy as np\n",
        "import tensorflow as tf\n",
        "from tensorflow import keras\n",
        "import pandas as pd"
      ],
      "execution_count": 0,
      "outputs": []
    },
    {
      "cell_type": "markdown",
      "metadata": {
        "id": "zWGl7RKGytf0",
        "colab_type": "text"
      },
      "source": [
        "## Creiamo il Dataset"
      ]
    },
    {
      "cell_type": "markdown",
      "metadata": {
        "id": "I7qz3lufywIr",
        "colab_type": "text"
      },
      "source": [
        "Utilizziamo Pandas per caricare il file csv contenente le informazioni sugli studenti direttamente dentro un DataFrame, un'oggetto che Pandas utilizza per rappresentare dati in forma tabulare."
      ]
    },
    {
      "cell_type": "code",
      "metadata": {
        "id": "HqMMKIcIOvyG",
        "colab_type": "code",
        "outputId": "d19d753b-1ca5-4a9d-8280-e49f4dbb2b56",
        "colab": {
          "base_uri": "https://localhost:8080/",
          "height": 204
        }
      },
      "source": [
        "csv_url = \"https://raw.githubusercontent.com/ProfAI/tf00/master/datasets/math_class/math_class.csv\"\n",
        "df = pd.read_csv(csv_url) # carichiamo il csv in un DataFrame\n",
        "df.head() # stampiamo le prime 5 righe"
      ],
      "execution_count": 0,
      "outputs": [
        {
          "output_type": "execute_result",
          "data": {
            "text/html": [
              "<div>\n",
              "<style scoped>\n",
              "    .dataframe tbody tr th:only-of-type {\n",
              "        vertical-align: middle;\n",
              "    }\n",
              "\n",
              "    .dataframe tbody tr th {\n",
              "        vertical-align: top;\n",
              "    }\n",
              "\n",
              "    .dataframe thead th {\n",
              "        text-align: right;\n",
              "    }\n",
              "</style>\n",
              "<table border=\"1\" class=\"dataframe\">\n",
              "  <thead>\n",
              "    <tr style=\"text-align: right;\">\n",
              "      <th></th>\n",
              "      <th>student_id</th>\n",
              "      <th>studytime</th>\n",
              "      <th>failures</th>\n",
              "      <th>absences</th>\n",
              "      <th>promoted</th>\n",
              "    </tr>\n",
              "  </thead>\n",
              "  <tbody>\n",
              "    <tr>\n",
              "      <th>0</th>\n",
              "      <td>0</td>\n",
              "      <td>2</td>\n",
              "      <td>0</td>\n",
              "      <td>6</td>\n",
              "      <td>0</td>\n",
              "    </tr>\n",
              "    <tr>\n",
              "      <th>1</th>\n",
              "      <td>1</td>\n",
              "      <td>2</td>\n",
              "      <td>0</td>\n",
              "      <td>4</td>\n",
              "      <td>0</td>\n",
              "    </tr>\n",
              "    <tr>\n",
              "      <th>2</th>\n",
              "      <td>2</td>\n",
              "      <td>2</td>\n",
              "      <td>3</td>\n",
              "      <td>10</td>\n",
              "      <td>1</td>\n",
              "    </tr>\n",
              "    <tr>\n",
              "      <th>3</th>\n",
              "      <td>3</td>\n",
              "      <td>3</td>\n",
              "      <td>0</td>\n",
              "      <td>2</td>\n",
              "      <td>1</td>\n",
              "    </tr>\n",
              "    <tr>\n",
              "      <th>4</th>\n",
              "      <td>4</td>\n",
              "      <td>2</td>\n",
              "      <td>0</td>\n",
              "      <td>4</td>\n",
              "      <td>1</td>\n",
              "    </tr>\n",
              "  </tbody>\n",
              "</table>\n",
              "</div>"
            ],
            "text/plain": [
              "   student_id  studytime  failures  absences  promoted\n",
              "0           0          2         0         6         0\n",
              "1           1          2         0         4         0\n",
              "2           2          2         3        10         1\n",
              "3           3          3         0         2         1\n",
              "4           4          2         0         4         1"
            ]
          },
          "metadata": {
            "tags": []
          },
          "execution_count": 11
        }
      ]
    },
    {
      "cell_type": "markdown",
      "metadata": {
        "id": "5HbWGf4AzAZh",
        "colab_type": "text"
      },
      "source": [
        "Ogni riga rappresenta uno studente e ogni colonna una determinata informazione. Le informazioni che abbiamo a disposizione sono le seguenti:\n",
        "* **student_id**: codice identificativo dello studente.\n",
        "* **studytime**: ore di studio al giorno.\n",
        "* **failures**: numero di volte che lo studene è stato rimandato in matematica in passato.\n",
        "* **absences**: ore di assenze nella classe di matematica per il quadrimestre corrente.\n",
        "* **promoted**: variabile booleana (True=1,False=0) che indica se lo studente è stato promosso.\n",
        "\n",
        "**promoted** è l'informazione che dobbiamo predire, quindi il target dentro modello, mentre utilizzeremo le altre colonne come features, ad eccezione di **student_id**, la quale non contiene alcuna informazione utile ai fini della classificazione.\n",
        "<br>\n",
        "Otteniamo i corrispondenti array numpy, per features e target, dal DataFrame."
      ]
    },
    {
      "cell_type": "code",
      "metadata": {
        "id": "60nNdvl_Q84Y",
        "colab_type": "code",
        "colab": {}
      },
      "source": [
        "X = df.drop([\"promoted\", \"student_id\"], axis=1).values\n",
        "y = df[[\"promoted\"]].values"
      ],
      "execution_count": 0,
      "outputs": []
    },
    {
      "cell_type": "markdown",
      "metadata": {
        "id": "vRMjmsHC0XBW",
        "colab_type": "text"
      },
      "source": [
        "## Creiamo il Modello\n",
        "Addestriamo il modello, per eseguire la classificazione dobbiamo definire una *funzione di attivazione*, che per problemi di classificazione binaria (cioè tra due classi) è la sigmoide."
      ]
    },
    {
      "cell_type": "code",
      "metadata": {
        "id": "fnd5ukKLRNEc",
        "colab_type": "code",
        "colab": {}
      },
      "source": [
        "model = keras.models.Sequential([\n",
        "    keras.layers.Dense(1, input_shape=[3], activation=\"sigmoid\")\n",
        "])"
      ],
      "execution_count": 0,
      "outputs": []
    },
    {
      "cell_type": "markdown",
      "metadata": {
        "id": "NokXzjAi0r2_",
        "colab_type": "text"
      },
      "source": [
        "Utilizziamo la **Binary Crossentropy (o Log Loss)** come funzione di costo, la quale tiene conto della probabilità di quanto le predizione del modello siano corrette, e aggiungiamo **l'Accuracy** come metrica, che indica semplicemente la percentuale di classficazioni che il modello ha eseguito correttamente."
      ]
    },
    {
      "cell_type": "code",
      "metadata": {
        "id": "1JgLMl2ySLMB",
        "colab_type": "code",
        "colab": {}
      },
      "source": [
        "model.compile(optimizer=\"sgd\", loss=\"binary_crossentropy\", metrics=[\"accuracy\"])"
      ],
      "execution_count": 0,
      "outputs": []
    },
    {
      "cell_type": "markdown",
      "metadata": {
        "id": "FL0rAi6Z1Apj",
        "colab_type": "text"
      },
      "source": [
        "Avviamo l'addestramento per 100 epoche."
      ]
    },
    {
      "cell_type": "code",
      "metadata": {
        "id": "2CYqsXJmSThE",
        "colab_type": "code",
        "outputId": "2fef139e-0c03-488d-ee57-ecad242f4c8f",
        "colab": {
          "base_uri": "https://localhost:8080/",
          "height": 1000
        }
      },
      "source": [
        "model.fit(X, y, epochs=100)"
      ],
      "execution_count": 0,
      "outputs": [
        {
          "output_type": "stream",
          "text": [
            "Epoch 1/100\n",
            "13/13 [==============================] - 0s 1ms/step - loss: 1.2986 - accuracy: 0.4025\n",
            "Epoch 2/100\n",
            "13/13 [==============================] - 0s 1ms/step - loss: 0.7572 - accuracy: 0.6152\n",
            "Epoch 3/100\n",
            "13/13 [==============================] - 0s 1ms/step - loss: 0.7368 - accuracy: 0.6734\n",
            "Epoch 4/100\n",
            "13/13 [==============================] - 0s 1ms/step - loss: 0.7343 - accuracy: 0.6709\n",
            "Epoch 5/100\n",
            "13/13 [==============================] - 0s 1ms/step - loss: 0.7278 - accuracy: 0.6759\n",
            "Epoch 6/100\n",
            "13/13 [==============================] - 0s 1ms/step - loss: 0.7233 - accuracy: 0.6633\n",
            "Epoch 7/100\n",
            "13/13 [==============================] - 0s 1ms/step - loss: 0.7196 - accuracy: 0.6633\n",
            "Epoch 8/100\n",
            "13/13 [==============================] - 0s 1ms/step - loss: 0.7172 - accuracy: 0.6734\n",
            "Epoch 9/100\n",
            "13/13 [==============================] - 0s 1ms/step - loss: 0.7127 - accuracy: 0.6684\n",
            "Epoch 10/100\n",
            "13/13 [==============================] - 0s 1ms/step - loss: 0.7096 - accuracy: 0.6759\n",
            "Epoch 11/100\n",
            "13/13 [==============================] - 0s 1ms/step - loss: 0.7089 - accuracy: 0.6633\n",
            "Epoch 12/100\n",
            "13/13 [==============================] - 0s 1ms/step - loss: 0.7035 - accuracy: 0.6759\n",
            "Epoch 13/100\n",
            "13/13 [==============================] - 0s 1ms/step - loss: 0.7012 - accuracy: 0.6759\n",
            "Epoch 14/100\n",
            "13/13 [==============================] - 0s 1ms/step - loss: 0.6977 - accuracy: 0.6734\n",
            "Epoch 15/100\n",
            "13/13 [==============================] - 0s 1ms/step - loss: 0.6950 - accuracy: 0.6658\n",
            "Epoch 16/100\n",
            "13/13 [==============================] - 0s 1ms/step - loss: 0.6927 - accuracy: 0.6709\n",
            "Epoch 17/100\n",
            "13/13 [==============================] - 0s 1ms/step - loss: 0.6876 - accuracy: 0.6734\n",
            "Epoch 18/100\n",
            "13/13 [==============================] - 0s 1ms/step - loss: 0.6847 - accuracy: 0.6734\n",
            "Epoch 19/100\n",
            "13/13 [==============================] - 0s 1ms/step - loss: 0.6828 - accuracy: 0.6810\n",
            "Epoch 20/100\n",
            "13/13 [==============================] - 0s 1ms/step - loss: 0.6800 - accuracy: 0.6810\n",
            "Epoch 21/100\n",
            "13/13 [==============================] - 0s 1ms/step - loss: 0.6780 - accuracy: 0.6709\n",
            "Epoch 22/100\n",
            "13/13 [==============================] - 0s 1ms/step - loss: 0.6749 - accuracy: 0.6734\n",
            "Epoch 23/100\n",
            "13/13 [==============================] - 0s 1ms/step - loss: 0.6768 - accuracy: 0.6582\n",
            "Epoch 24/100\n",
            "13/13 [==============================] - 0s 1ms/step - loss: 0.6678 - accuracy: 0.6709\n",
            "Epoch 25/100\n",
            "13/13 [==============================] - 0s 1ms/step - loss: 0.6640 - accuracy: 0.6759\n",
            "Epoch 26/100\n",
            "13/13 [==============================] - 0s 1ms/step - loss: 0.6628 - accuracy: 0.6633\n",
            "Epoch 27/100\n",
            "13/13 [==============================] - 0s 1ms/step - loss: 0.6627 - accuracy: 0.6709\n",
            "Epoch 28/100\n",
            "13/13 [==============================] - 0s 2ms/step - loss: 0.6598 - accuracy: 0.6734\n",
            "Epoch 29/100\n",
            "13/13 [==============================] - 0s 1ms/step - loss: 0.6545 - accuracy: 0.6759\n",
            "Epoch 30/100\n",
            "13/13 [==============================] - 0s 1ms/step - loss: 0.6532 - accuracy: 0.6759\n",
            "Epoch 31/100\n",
            "13/13 [==============================] - 0s 1ms/step - loss: 0.6523 - accuracy: 0.6734\n",
            "Epoch 32/100\n",
            "13/13 [==============================] - 0s 1ms/step - loss: 0.6504 - accuracy: 0.6785\n",
            "Epoch 33/100\n",
            "13/13 [==============================] - 0s 1ms/step - loss: 0.6476 - accuracy: 0.6785\n",
            "Epoch 34/100\n",
            "13/13 [==============================] - 0s 1ms/step - loss: 0.6479 - accuracy: 0.6759\n",
            "Epoch 35/100\n",
            "13/13 [==============================] - 0s 1ms/step - loss: 0.6445 - accuracy: 0.6709\n",
            "Epoch 36/100\n",
            "13/13 [==============================] - 0s 1ms/step - loss: 0.6420 - accuracy: 0.6734\n",
            "Epoch 37/100\n",
            "13/13 [==============================] - 0s 1ms/step - loss: 0.6375 - accuracy: 0.6658\n",
            "Epoch 38/100\n",
            "13/13 [==============================] - 0s 1ms/step - loss: 0.6373 - accuracy: 0.6759\n",
            "Epoch 39/100\n",
            "13/13 [==============================] - 0s 1ms/step - loss: 0.6370 - accuracy: 0.6709\n",
            "Epoch 40/100\n",
            "13/13 [==============================] - 0s 1ms/step - loss: 0.6344 - accuracy: 0.6684\n",
            "Epoch 41/100\n",
            "13/13 [==============================] - 0s 1ms/step - loss: 0.6340 - accuracy: 0.6734\n",
            "Epoch 42/100\n",
            "13/13 [==============================] - 0s 1ms/step - loss: 0.6283 - accuracy: 0.6861\n",
            "Epoch 43/100\n",
            "13/13 [==============================] - 0s 1ms/step - loss: 0.6349 - accuracy: 0.6608\n",
            "Epoch 44/100\n",
            "13/13 [==============================] - 0s 1ms/step - loss: 0.6291 - accuracy: 0.6810\n",
            "Epoch 45/100\n",
            "13/13 [==============================] - 0s 1ms/step - loss: 0.6270 - accuracy: 0.6734\n",
            "Epoch 46/100\n",
            "13/13 [==============================] - 0s 1ms/step - loss: 0.6269 - accuracy: 0.6785\n",
            "Epoch 47/100\n",
            "13/13 [==============================] - 0s 2ms/step - loss: 0.6225 - accuracy: 0.6759\n",
            "Epoch 48/100\n",
            "13/13 [==============================] - 0s 1ms/step - loss: 0.6230 - accuracy: 0.6785\n",
            "Epoch 49/100\n",
            "13/13 [==============================] - 0s 1ms/step - loss: 0.6227 - accuracy: 0.6759\n",
            "Epoch 50/100\n",
            "13/13 [==============================] - 0s 1ms/step - loss: 0.6221 - accuracy: 0.6835\n",
            "Epoch 51/100\n",
            "13/13 [==============================] - 0s 1ms/step - loss: 0.6189 - accuracy: 0.6709\n",
            "Epoch 52/100\n",
            "13/13 [==============================] - 0s 1ms/step - loss: 0.6215 - accuracy: 0.6759\n",
            "Epoch 53/100\n",
            "13/13 [==============================] - 0s 1ms/step - loss: 0.6201 - accuracy: 0.6759\n",
            "Epoch 54/100\n",
            "13/13 [==============================] - 0s 1ms/step - loss: 0.6182 - accuracy: 0.6734\n",
            "Epoch 55/100\n",
            "13/13 [==============================] - 0s 1ms/step - loss: 0.6188 - accuracy: 0.6810\n",
            "Epoch 56/100\n",
            "13/13 [==============================] - 0s 1ms/step - loss: 0.6184 - accuracy: 0.6709\n",
            "Epoch 57/100\n",
            "13/13 [==============================] - 0s 1ms/step - loss: 0.6153 - accuracy: 0.6785\n",
            "Epoch 58/100\n",
            "13/13 [==============================] - 0s 1ms/step - loss: 0.6117 - accuracy: 0.6835\n",
            "Epoch 59/100\n",
            "13/13 [==============================] - 0s 1ms/step - loss: 0.6156 - accuracy: 0.6810\n",
            "Epoch 60/100\n",
            "13/13 [==============================] - 0s 1ms/step - loss: 0.6136 - accuracy: 0.6810\n",
            "Epoch 61/100\n",
            "13/13 [==============================] - 0s 1ms/step - loss: 0.6109 - accuracy: 0.6911\n",
            "Epoch 62/100\n",
            "13/13 [==============================] - 0s 2ms/step - loss: 0.6103 - accuracy: 0.6810\n",
            "Epoch 63/100\n",
            "13/13 [==============================] - 0s 1ms/step - loss: 0.6091 - accuracy: 0.6886\n",
            "Epoch 64/100\n",
            "13/13 [==============================] - 0s 1ms/step - loss: 0.6104 - accuracy: 0.7013\n",
            "Epoch 65/100\n",
            "13/13 [==============================] - 0s 1ms/step - loss: 0.6138 - accuracy: 0.6911\n",
            "Epoch 66/100\n",
            "13/13 [==============================] - 0s 1ms/step - loss: 0.6104 - accuracy: 0.6911\n",
            "Epoch 67/100\n",
            "13/13 [==============================] - 0s 1ms/step - loss: 0.6073 - accuracy: 0.6987\n",
            "Epoch 68/100\n",
            "13/13 [==============================] - 0s 1ms/step - loss: 0.6078 - accuracy: 0.7063\n",
            "Epoch 69/100\n",
            "13/13 [==============================] - 0s 1ms/step - loss: 0.6040 - accuracy: 0.7114\n",
            "Epoch 70/100\n",
            "13/13 [==============================] - 0s 1ms/step - loss: 0.6075 - accuracy: 0.7089\n",
            "Epoch 71/100\n",
            "13/13 [==============================] - 0s 1ms/step - loss: 0.6040 - accuracy: 0.7063\n",
            "Epoch 72/100\n",
            "13/13 [==============================] - 0s 1ms/step - loss: 0.6062 - accuracy: 0.7063\n",
            "Epoch 73/100\n",
            "13/13 [==============================] - 0s 1ms/step - loss: 0.6047 - accuracy: 0.6937\n",
            "Epoch 74/100\n",
            "13/13 [==============================] - 0s 1ms/step - loss: 0.6043 - accuracy: 0.7114\n",
            "Epoch 75/100\n",
            "13/13 [==============================] - 0s 1ms/step - loss: 0.6024 - accuracy: 0.7139\n",
            "Epoch 76/100\n",
            "13/13 [==============================] - 0s 1ms/step - loss: 0.6053 - accuracy: 0.7089\n",
            "Epoch 77/100\n",
            "13/13 [==============================] - 0s 1ms/step - loss: 0.6024 - accuracy: 0.7139\n",
            "Epoch 78/100\n",
            "13/13 [==============================] - 0s 1ms/step - loss: 0.6017 - accuracy: 0.7165\n",
            "Epoch 79/100\n",
            "13/13 [==============================] - 0s 1ms/step - loss: 0.6000 - accuracy: 0.7190\n",
            "Epoch 80/100\n",
            "13/13 [==============================] - 0s 1ms/step - loss: 0.6031 - accuracy: 0.7114\n",
            "Epoch 81/100\n",
            "13/13 [==============================] - 0s 1ms/step - loss: 0.6008 - accuracy: 0.7063\n",
            "Epoch 82/100\n",
            "13/13 [==============================] - 0s 1ms/step - loss: 0.6007 - accuracy: 0.7165\n",
            "Epoch 83/100\n",
            "13/13 [==============================] - 0s 1ms/step - loss: 0.6016 - accuracy: 0.7063\n",
            "Epoch 84/100\n",
            "13/13 [==============================] - 0s 1ms/step - loss: 0.5986 - accuracy: 0.7139\n",
            "Epoch 85/100\n",
            "13/13 [==============================] - 0s 1ms/step - loss: 0.5985 - accuracy: 0.7190\n",
            "Epoch 86/100\n",
            "13/13 [==============================] - 0s 1ms/step - loss: 0.5976 - accuracy: 0.7139\n",
            "Epoch 87/100\n",
            "13/13 [==============================] - 0s 1ms/step - loss: 0.5979 - accuracy: 0.7089\n",
            "Epoch 88/100\n",
            "13/13 [==============================] - 0s 1ms/step - loss: 0.5985 - accuracy: 0.7190\n",
            "Epoch 89/100\n",
            "13/13 [==============================] - 0s 1ms/step - loss: 0.5981 - accuracy: 0.7190\n",
            "Epoch 90/100\n",
            "13/13 [==============================] - 0s 1ms/step - loss: 0.5984 - accuracy: 0.7241\n",
            "Epoch 91/100\n",
            "13/13 [==============================] - 0s 1ms/step - loss: 0.5974 - accuracy: 0.7165\n",
            "Epoch 92/100\n",
            "13/13 [==============================] - 0s 2ms/step - loss: 0.5990 - accuracy: 0.7215\n",
            "Epoch 93/100\n",
            "13/13 [==============================] - 0s 1ms/step - loss: 0.5963 - accuracy: 0.7114\n",
            "Epoch 94/100\n",
            "13/13 [==============================] - 0s 1ms/step - loss: 0.5950 - accuracy: 0.7139\n",
            "Epoch 95/100\n",
            "13/13 [==============================] - 0s 1ms/step - loss: 0.5951 - accuracy: 0.7139\n",
            "Epoch 96/100\n",
            "13/13 [==============================] - 0s 1ms/step - loss: 0.5975 - accuracy: 0.7190\n",
            "Epoch 97/100\n",
            "13/13 [==============================] - 0s 1ms/step - loss: 0.5941 - accuracy: 0.7165\n",
            "Epoch 98/100\n",
            "13/13 [==============================] - 0s 1ms/step - loss: 0.5964 - accuracy: 0.7139\n",
            "Epoch 99/100\n",
            "13/13 [==============================] - 0s 1ms/step - loss: 0.5958 - accuracy: 0.7241\n",
            "Epoch 100/100\n",
            "13/13 [==============================] - 0s 1ms/step - loss: 0.5986 - accuracy: 0.7190\n"
          ],
          "name": "stdout"
        },
        {
          "output_type": "execute_result",
          "data": {
            "text/plain": [
              "<tensorflow.python.keras.callbacks.History at 0x7f056d763048>"
            ]
          },
          "metadata": {
            "tags": []
          },
          "execution_count": 15
        }
      ]
    },
    {
      "cell_type": "markdown",
      "metadata": {
        "id": "wA4_j-jU1DKD",
        "colab_type": "text"
      },
      "source": [
        "Il valore della Binary Crossentropy (o Log Loss) all'ultima epoca è 0.5986, che è discreto ma non eccellente, risultato rispecchiato anche dall'accuracy: 0.719, questo vuol dire che il modello ha classificato correttamente il 72% degli esempi del set di addestramento."
      ]
    },
    {
      "cell_type": "markdown",
      "metadata": {
        "id": "iMwGpRHZ1iwO",
        "colab_type": "text"
      },
      "source": [
        "## I miei figli verranno bocciati ?\n",
        "Ora che abbiamo un modello discreto addestrato, utilizziamolo per cercare di sapere preventivamente se i miei 3 figli verranno bocciato, questi sono i loro dati:\n",
        "* **Alex**: non studia per niente, è già stato rimandato in matematica 3 volte e questo trimestre ha già fatto 10 assenze.\n",
        "* **Albert**: studia 6 ore al giorno, non è mai stato rimandato ed ha fatto solo 2 assenze.\n",
        "* **Galileo**: studia 2 ore al giorno, in passato è stato rimandato una volta e questo trimestre ha fatto 5 assenze."
      ]
    },
    {
      "cell_type": "code",
      "metadata": {
        "id": "9ckz6ortSfgd",
        "colab_type": "code",
        "outputId": "d39a82fa-4afb-4c8a-ef9c-960700e3f011",
        "colab": {
          "base_uri": "https://localhost:8080/",
          "height": 71
        }
      },
      "source": [
        "X_test = [[0, 3, 10], [6, 0, 2], [2, 1, 5]]\n",
        "model.predict(X_test)"
      ],
      "execution_count": 0,
      "outputs": [
        {
          "output_type": "execute_result",
          "data": {
            "text/plain": [
              "array([[0.18776762],\n",
              "       [0.9094189 ],\n",
              "       [0.58225733]], dtype=float32)"
            ]
          },
          "metadata": {
            "tags": []
          },
          "execution_count": 16
        }
      ]
    },
    {
      "cell_type": "markdown",
      "metadata": {
        "id": "XOVlmzx72efg",
        "colab_type": "text"
      },
      "source": [
        "In caso di classificazione, utilizzando la sigmoide come funzione di attivazione, il metodo *predict* ritorna la probabilità di apperteneza alla classe positiva, in questo caso la probabilità che l'utente venga promosso in matematica. I nostri risultati sono i seguenti:\n",
        "* **Alex**: 18.7% di probabilità di venire promosso.\n",
        "* **Albert**: 91% di probabilità di venire promosso.\n",
        "* **Galileo**: 58.2% di probabilità di venire promosso."
      ]
    },
    {
      "cell_type": "markdown",
      "metadata": {
        "id": "hdCJy6Bs3lhq",
        "colab_type": "text"
      },
      "source": [
        "Se piuttosto che la probabilità vogliamo ottenere direttamente la classe di appartenenza (1=classe positiva=promosso, 0=classe negativa=bocciato), possiamo usare il metodo *predict_classes*."
      ]
    },
    {
      "cell_type": "code",
      "metadata": {
        "id": "6lfz5uMnS7wT",
        "colab_type": "code",
        "outputId": "7dfdaed0-861b-4f93-c39b-42f455f267ae",
        "colab": {
          "base_uri": "https://localhost:8080/",
          "height": 145
        }
      },
      "source": [
        "model.predict_classes(X_test)"
      ],
      "execution_count": 0,
      "outputs": [
        {
          "output_type": "stream",
          "text": [
            "WARNING:tensorflow:From <ipython-input-17-bc459dba29cd>:1: Sequential.predict_classes (from tensorflow.python.keras.engine.sequential) is deprecated and will be removed after 2021-01-01.\n",
            "Instructions for updating:\n",
            "Please use instead:* `np.argmax(model.predict(x), axis=-1)`,   if your model does multi-class classification   (e.g. if it uses a `softmax` last-layer activation).* `(model.predict(x) > 0.5).astype(\"int32\")`,   if your model does binary classification   (e.g. if it uses a `sigmoid` last-layer activation).\n"
          ],
          "name": "stdout"
        },
        {
          "output_type": "execute_result",
          "data": {
            "text/plain": [
              "array([[0],\n",
              "       [1],\n",
              "       [1]], dtype=int32)"
            ]
          },
          "metadata": {
            "tags": []
          },
          "execution_count": 17
        }
      ]
    },
    {
      "cell_type": "markdown",
      "metadata": {
        "id": "xtUdGPAE31GC",
        "colab_type": "text"
      },
      "source": [
        "# Qual è la \"Formula della Promozione\" ?\n",
        "Anche in questo caso possiamo estrarre dal modello pesi e bias e ricostruire la relazione tra features e target."
      ]
    },
    {
      "cell_type": "code",
      "metadata": {
        "id": "g9-ft4cIS_X5",
        "colab_type": "code",
        "outputId": "16c0ebf0-e359-43d5-8f7e-2aafd644e005",
        "colab": {
          "base_uri": "https://localhost:8080/",
          "height": 107
        }
      },
      "source": [
        "model.weights"
      ],
      "execution_count": 0,
      "outputs": [
        {
          "output_type": "execute_result",
          "data": {
            "text/plain": [
              "[<tf.Variable 'dense/kernel:0' shape=(3, 1) dtype=float32, numpy=\n",
              " array([[ 0.3558504 ],\n",
              "        [-0.4992251 ],\n",
              "        [-0.01729545]], dtype=float32)>,\n",
              " <tf.Variable 'dense/bias:0' shape=(1,) dtype=float32, numpy=array([0.2060485], dtype=float32)>]"
            ]
          },
          "metadata": {
            "tags": []
          },
          "execution_count": 18
        }
      ]
    },
    {
      "cell_type": "markdown",
      "metadata": {
        "id": "zemIlEA94AmF",
        "colab_type": "text"
      },
      "source": [
        "$$y=0.36x_1-\\frac{x_2}{2}-0.018x_3+\\frac{1}{5}$$"
      ]
    }
  ]
}