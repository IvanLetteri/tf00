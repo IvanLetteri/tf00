{
  "nbformat": 4,
  "nbformat_minor": 0,
  "metadata": {
    "colab": {
      "name": "Untitled61.ipynb",
      "provenance": [],
      "authorship_tag": "ABX9TyM8v/UNdpWvaCbdtDIFGOrX",
      "include_colab_link": true
    },
    "kernelspec": {
      "name": "python3",
      "display_name": "Python 3"
    },
    "accelerator": "GPU"
  },
  "cells": [
    {
      "cell_type": "markdown",
      "metadata": {
        "id": "view-in-github",
        "colab_type": "text"
      },
      "source": [
        "<a href=\"https://colab.research.google.com/github/ProfAI/tf00/blob/master/6%20-%20Generatori%20e%20Images%20Augmentation/images_augmentation.ipynb\" target=\"_parent\"><img src=\"https://colab.research.google.com/assets/colab-badge.svg\" alt=\"Open In Colab\"/></a>"
      ]
    },
    {
      "cell_type": "markdown",
      "metadata": {
        "id": "2_sCdb2ev6PG",
        "colab_type": "text"
      },
      "source": [
        "# Images Augmentation\n",
        "Per addestrare una rete neurale, specialmente una molto profonda, è necessario avere a disposizione una grande quantità di dati. Se il dataset che abbiamo è limitato, una soluzione potrebbe consistere nel generare nuovi dati sintetici partendo da quelli di cui già disponiamo. Nell'ambito della computer vision questa pratica è chiamata Images Aumentation, in questo notebook vedremo come applicarla utilizzando i generatori di tf.keras."
      ]
    },
    {
      "cell_type": "markdown",
      "metadata": {
        "id": "qnVZkxBMKDhZ",
        "colab_type": "text"
      },
      "source": [
        "## Scarichiamo il Dataset\n",
        "Anche in questo notebook proveremo a classificare immagini di dessert, ma questa volta avremo a disposizione soltanto 1000 immagini in totale per l'addestramento, 200 per ogni classe."
      ]
    },
    {
      "cell_type": "code",
      "metadata": {
        "id": "9rEisNbnv39C",
        "colab_type": "code",
        "colab": {
          "base_uri": "https://localhost:8080/",
          "height": 215
        },
        "outputId": "12751ebf-2a05-4bd4-afef-65fe07d0adf7"
      },
      "source": [
        "!wget https://profession.ai/datasets/dessert_small.zip\n",
        "!unzip -qq dessert_small.zip"
      ],
      "execution_count": 5,
      "outputs": [
        {
          "output_type": "stream",
          "text": [
            "--2020-06-29 11:12:10--  https://profession.ai/datasets/dessert_small.zip\n",
            "Resolving profession.ai (profession.ai)... 13.224.166.2, 13.224.166.63, 13.224.166.122, ...\n",
            "Connecting to profession.ai (profession.ai)|13.224.166.2|:443... connected.\n",
            "HTTP request sent, awaiting response... 200 OK\n",
            "Length: 52003499 (50M) [application/zip]\n",
            "Saving to: ‘dessert_small.zip’\n",
            "\n",
            "dessert_small.zip   100%[===================>]  49.59M  15.3MB/s    in 4.1s    \n",
            "\n",
            "2020-06-29 11:12:15 (12.1 MB/s) - ‘dessert_small.zip’ saved [52003499/52003499]\n",
            "\n"
          ],
          "name": "stdout"
        }
      ]
    },
    {
      "cell_type": "markdown",
      "metadata": {
        "id": "DJw2UYzZKQgo",
        "colab_type": "text"
      },
      "source": [
        "## Importiamo i Moduli"
      ]
    },
    {
      "cell_type": "code",
      "metadata": {
        "id": "YMNhZYK1v5iA",
        "colab_type": "code",
        "colab": {}
      },
      "source": [
        "import tensorflow as tf\n",
        "\n",
        "from tensorflow.keras.models import Sequential\n",
        "from tensorflow.keras.layers import Conv2D, MaxPooling2D\n",
        "from tensorflow.keras.layers import Dropout, Flatten, Dense\n",
        "\n",
        "from tensorflow.keras.preprocessing.image import ImageDataGenerator"
      ],
      "execution_count": 6,
      "outputs": []
    },
    {
      "cell_type": "markdown",
      "metadata": {
        "id": "LdWpKvOBKUAt",
        "colab_type": "text"
      },
      "source": [
        "## Definiamo le Costanti"
      ]
    },
    {
      "cell_type": "code",
      "metadata": {
        "id": "7XAMfu4uv_nM",
        "colab_type": "code",
        "colab": {}
      },
      "source": [
        "DATASET_DIR = \"dessert_small/\"\n",
        "BATCH_SIZE = 64\n",
        "\n",
        "TOT_IMAGES = 1000 \n",
        "IMG_SIZE = (228, 228)"
      ],
      "execution_count": 7,
      "outputs": []
    },
    {
      "cell_type": "markdown",
      "metadata": {
        "id": "FH3c7Gy4KgWP",
        "colab_type": "text"
      },
      "source": [
        "## Usiamo il Generatori per Generare nuove Immagini\n",
        "Per generare nuove immagini dobbiamo applicare delle trasformazioni alle immagini di cui già disponiamo, come rotazioni, translazioni o zoom. Per definire diverse trasformazioni da applicare possiamo utilizzare i parametri della classe *ImageDataGenerator*. [Qui](https://www.tensorflow.org/api_docs/python/tf/keras/preprocessing/image/ImageDataGenerator) puoi trovare la lista di tutti i parametri e di tutte le possibili trasformazioni."
      ]
    },
    {
      "cell_type": "code",
      "metadata": {
        "id": "lAqakwfJwJp3",
        "colab_type": "code",
        "colab": {}
      },
      "source": [
        "datagen_train = ImageDataGenerator(validation_split=0.2, \n",
        "                            rescale=1./255,\n",
        "                            shear_range=0.2, \n",
        "                            zoom_range=0.2, \n",
        "                            horizontal_flip=True)"
      ],
      "execution_count": 8,
      "outputs": []
    },
    {
      "cell_type": "markdown",
      "metadata": {
        "id": "zQOQoBOkNRfD",
        "colab_type": "text"
      },
      "source": [
        "Adesso possiamo creare i generatori di immagini per addestramento e validazione."
      ]
    },
    {
      "cell_type": "code",
      "metadata": {
        "id": "6R0xYjsswMnC",
        "colab_type": "code",
        "colab": {
          "base_uri": "https://localhost:8080/",
          "height": 89
        },
        "outputId": "9995c873-8ee8-44de-d47a-c281789b1310"
      },
      "source": [
        "train_generator = datagen_train.flow_from_directory(\n",
        "        DATASET_DIR+\"train\", \n",
        "        target_size=IMG_SIZE, \n",
        "        batch_size=BATCH_SIZE,\n",
        "        class_mode='categorical',\n",
        "        subset='training')\n",
        "\n",
        "valid_generator = datagen_train.flow_from_directory(\n",
        "        DATASET_DIR+\"train\",\n",
        "        target_size=IMG_SIZE,\n",
        "        batch_size=BATCH_SIZE,\n",
        "        class_mode='categorical',\n",
        "        subset='validation')\n",
        "\n",
        "\n",
        "print(train_generator.class_indices)"
      ],
      "execution_count": 9,
      "outputs": [
        {
          "output_type": "stream",
          "text": [
            "Found 800 images belonging to 5 classes.\n",
            "Found 200 images belonging to 5 classes.\n",
            "Found 1250 images belonging to 5 classes.\n",
            "{'cannoli': 0, 'gelato': 1, 'panna_cotta': 2, 'tiramisu': 3, 'torta_di_mele': 4}\n"
          ],
          "name": "stdout"
        }
      ]
    },
    {
      "cell_type": "markdown",
      "metadata": {
        "id": "h3zeebeTNdk2",
        "colab_type": "text"
      },
      "source": [
        "Creiamo il generatore per il test, in questo caso non dobbiamo applicare trasformazioni."
      ]
    },
    {
      "cell_type": "code",
      "metadata": {
        "id": "LI-N0VvfNd2y",
        "colab_type": "code",
        "colab": {}
      },
      "source": [
        "datagen_test = ImageDataGenerator(validation_split=0.2, rescale=1./255)\n",
        "\n",
        "\n",
        "test_generator = datagen_test.flow_from_directory(\n",
        "        DATASET_DIR+\"test\",\n",
        "        target_size=IMG_SIZE,\n",
        "        batch_size=BATCH_SIZE,\n",
        "        class_mode='categorical')"
      ],
      "execution_count": null,
      "outputs": []
    },
    {
      "cell_type": "markdown",
      "metadata": {
        "id": "cTqheZWBOAlO",
        "colab_type": "text"
      },
      "source": [
        "## Addestriamo la Rete Neurale Convoluzionale sul Generatore\n",
        "Utilizziamo la stessa architettura che abbiamo definito per l'esempio dei generatori."
      ]
    },
    {
      "cell_type": "code",
      "metadata": {
        "id": "bt4mnDAJxaea",
        "colab_type": "code",
        "colab": {
          "base_uri": "https://localhost:8080/",
          "height": 611
        },
        "outputId": "f123ec70-feaf-47c9-bc92-44a7b31f09ca"
      },
      "source": [
        "#regularizer = tf.keras.regularizers.L1L2(l1=0.01, l2=0.1)\n",
        "regularizer = tf.keras.regularizers.L1L2(l2=0.1)\n",
        "\n",
        "model = Sequential()\n",
        "\n",
        "model.add(Conv2D(filters=64, kernel_size=3, padding='same', activation='relu', input_shape=(IMG_SIZE[0], IMG_SIZE[1], 3)))\n",
        "model.add(Conv2D(filters=64, kernel_size=3, padding='same', activation='relu'))\n",
        "model.add(MaxPooling2D(pool_size=3, strides=3))\n",
        "model.add(Dropout(0.5))\n",
        "model.add(Conv2D(filters=32, kernel_size=3, padding='same', activation='relu'))\n",
        "model.add(Conv2D(filters=32, kernel_size=3, padding='same', activation='relu'))\n",
        "model.add(MaxPooling2D(pool_size=3, strides=3))\n",
        "model.add(Dropout(0.5))\n",
        "model.add(Flatten())\n",
        "model.add(Dense(256, activation='relu'))\n",
        "model.add(Dropout(0.5))\n",
        "#model.add(Dense(64, activation='relu'))\n",
        "#model.add(Dropout(0.4))\n",
        "model.add(Dense(5, activation='softmax'))\n",
        "\n",
        "print(model.summary())"
      ],
      "execution_count": 26,
      "outputs": [
        {
          "output_type": "stream",
          "text": [
            "Model: \"sequential_8\"\n",
            "_________________________________________________________________\n",
            "Layer (type)                 Output Shape              Param #   \n",
            "=================================================================\n",
            "conv2d_32 (Conv2D)           (None, 228, 228, 64)      1792      \n",
            "_________________________________________________________________\n",
            "conv2d_33 (Conv2D)           (None, 228, 228, 64)      36928     \n",
            "_________________________________________________________________\n",
            "max_pooling2d_16 (MaxPooling (None, 76, 76, 64)        0         \n",
            "_________________________________________________________________\n",
            "dropout_29 (Dropout)         (None, 76, 76, 64)        0         \n",
            "_________________________________________________________________\n",
            "conv2d_34 (Conv2D)           (None, 76, 76, 32)        18464     \n",
            "_________________________________________________________________\n",
            "conv2d_35 (Conv2D)           (None, 76, 76, 32)        9248      \n",
            "_________________________________________________________________\n",
            "max_pooling2d_17 (MaxPooling (None, 25, 25, 32)        0         \n",
            "_________________________________________________________________\n",
            "dropout_30 (Dropout)         (None, 25, 25, 32)        0         \n",
            "_________________________________________________________________\n",
            "flatten_8 (Flatten)          (None, 20000)             0         \n",
            "_________________________________________________________________\n",
            "dense_21 (Dense)             (None, 256)               5120256   \n",
            "_________________________________________________________________\n",
            "dropout_31 (Dropout)         (None, 256)               0         \n",
            "_________________________________________________________________\n",
            "dense_22 (Dense)             (None, 5)                 1285      \n",
            "=================================================================\n",
            "Total params: 5,187,973\n",
            "Trainable params: 5,187,973\n",
            "Non-trainable params: 0\n",
            "_________________________________________________________________\n",
            "None\n"
          ],
          "name": "stdout"
        }
      ]
    },
    {
      "cell_type": "markdown",
      "metadata": {
        "id": "SozvS0ucOKSd",
        "colab_type": "text"
      },
      "source": [
        "Il processo di addestramento è esattamente ugualea quanto già fatto per i generatori."
      ]
    },
    {
      "cell_type": "code",
      "metadata": {
        "id": "6jEfxCCBxmel",
        "colab_type": "code",
        "colab": {
          "base_uri": "https://localhost:8080/",
          "height": 1000
        },
        "outputId": "1618c88e-01fb-4381-b32c-23154713446d"
      },
      "source": [
        "model.compile(optimizer=\"adam\", loss=\"categorical_crossentropy\", metrics=[\"accuracy\"])\n",
        "\n",
        "early_stopping = tf.keras.callbacks.EarlyStopping(monitor=\"val_accuracy\",\n",
        "                              min_delta=0.01,\n",
        "                              patience=3,\n",
        "                              restore_best_weights=True)\n",
        "\n",
        "model.fit(\n",
        "        train_generator,\n",
        "        steps_per_epoch=int(TOT_IMAGES*0.8 // BATCH_SIZE),\n",
        "        validation_data=valid_generator, \n",
        "        validation_steps=int(TOT_IMAGES*0.2 // BATCH_SIZE),\n",
        "        epochs=100)"
      ],
      "execution_count": 27,
      "outputs": [
        {
          "output_type": "stream",
          "text": [
            "Epoch 1/100\n",
            "12/12 [==============================] - 16s 1s/step - loss: 1.6895 - accuracy: 0.1848 - val_loss: 1.6094 - val_accuracy: 0.2083\n",
            "Epoch 2/100\n",
            "12/12 [==============================] - 15s 1s/step - loss: 1.6100 - accuracy: 0.2038 - val_loss: 1.6094 - val_accuracy: 0.1927\n",
            "Epoch 3/100\n",
            "12/12 [==============================] - 15s 1s/step - loss: 1.6093 - accuracy: 0.1984 - val_loss: 1.6094 - val_accuracy: 0.1979\n",
            "Epoch 4/100\n",
            "12/12 [==============================] - 16s 1s/step - loss: 1.6094 - accuracy: 0.1970 - val_loss: 1.6094 - val_accuracy: 0.1927\n",
            "Epoch 5/100\n",
            "12/12 [==============================] - 16s 1s/step - loss: 1.6074 - accuracy: 0.2092 - val_loss: 1.6071 - val_accuracy: 0.2031\n",
            "Epoch 6/100\n",
            "12/12 [==============================] - 16s 1s/step - loss: 1.6026 - accuracy: 0.2310 - val_loss: 1.6091 - val_accuracy: 0.2344\n",
            "Epoch 7/100\n",
            "12/12 [==============================] - 16s 1s/step - loss: 1.5989 - accuracy: 0.2331 - val_loss: 1.6057 - val_accuracy: 0.2083\n",
            "Epoch 8/100\n",
            "12/12 [==============================] - 16s 1s/step - loss: 1.5866 - accuracy: 0.2649 - val_loss: 1.6041 - val_accuracy: 0.2188\n",
            "Epoch 9/100\n",
            "12/12 [==============================] - 16s 1s/step - loss: 1.5855 - accuracy: 0.2486 - val_loss: 1.5873 - val_accuracy: 0.3073\n",
            "Epoch 10/100\n",
            "12/12 [==============================] - 15s 1s/step - loss: 1.5576 - accuracy: 0.2785 - val_loss: 1.5663 - val_accuracy: 0.2552\n",
            "Epoch 11/100\n",
            "12/12 [==============================] - 16s 1s/step - loss: 1.5564 - accuracy: 0.2758 - val_loss: 1.5942 - val_accuracy: 0.3229\n",
            "Epoch 12/100\n",
            "12/12 [==============================] - 16s 1s/step - loss: 1.5443 - accuracy: 0.3111 - val_loss: 1.5332 - val_accuracy: 0.2969\n",
            "Epoch 13/100\n",
            "12/12 [==============================] - 16s 1s/step - loss: 1.5399 - accuracy: 0.3111 - val_loss: 1.5797 - val_accuracy: 0.2812\n",
            "Epoch 14/100\n",
            "12/12 [==============================] - 16s 1s/step - loss: 1.5442 - accuracy: 0.3043 - val_loss: 1.5836 - val_accuracy: 0.3594\n",
            "Epoch 15/100\n",
            "12/12 [==============================] - 16s 1s/step - loss: 1.5196 - accuracy: 0.3247 - val_loss: 1.5519 - val_accuracy: 0.3021\n",
            "Epoch 16/100\n",
            "12/12 [==============================] - 16s 1s/step - loss: 1.4907 - accuracy: 0.3587 - val_loss: 1.5242 - val_accuracy: 0.3021\n",
            "Epoch 17/100\n",
            "12/12 [==============================] - 16s 1s/step - loss: 1.5083 - accuracy: 0.3084 - val_loss: 1.5573 - val_accuracy: 0.2917\n",
            "Epoch 18/100\n",
            "12/12 [==============================] - 15s 1s/step - loss: 1.4898 - accuracy: 0.3478 - val_loss: 1.5649 - val_accuracy: 0.3229\n",
            "Epoch 19/100\n",
            "12/12 [==============================] - 15s 1s/step - loss: 1.4552 - accuracy: 0.3628 - val_loss: 1.4978 - val_accuracy: 0.3229\n",
            "Epoch 20/100\n",
            "12/12 [==============================] - 15s 1s/step - loss: 1.4751 - accuracy: 0.3478 - val_loss: 1.5515 - val_accuracy: 0.2552\n",
            "Epoch 21/100\n",
            "12/12 [==============================] - 16s 1s/step - loss: 1.4617 - accuracy: 0.3723 - val_loss: 1.5344 - val_accuracy: 0.3073\n",
            "Epoch 22/100\n",
            "12/12 [==============================] - 15s 1s/step - loss: 1.4289 - accuracy: 0.3668 - val_loss: 1.4957 - val_accuracy: 0.3542\n",
            "Epoch 23/100\n",
            "12/12 [==============================] - 16s 1s/step - loss: 1.4030 - accuracy: 0.4035 - val_loss: 1.5192 - val_accuracy: 0.3229\n",
            "Epoch 24/100\n",
            "12/12 [==============================] - 16s 1s/step - loss: 1.4102 - accuracy: 0.4076 - val_loss: 1.5064 - val_accuracy: 0.3490\n",
            "Epoch 25/100\n",
            "12/12 [==============================] - 15s 1s/step - loss: 1.3833 - accuracy: 0.4035 - val_loss: 1.5934 - val_accuracy: 0.3125\n",
            "Epoch 26/100\n",
            "12/12 [==============================] - 15s 1s/step - loss: 1.3940 - accuracy: 0.4158 - val_loss: 1.4950 - val_accuracy: 0.3229\n",
            "Epoch 27/100\n",
            "12/12 [==============================] - 16s 1s/step - loss: 1.3953 - accuracy: 0.3859 - val_loss: 1.4810 - val_accuracy: 0.3281\n",
            "Epoch 28/100\n",
            "12/12 [==============================] - 16s 1s/step - loss: 1.3419 - accuracy: 0.4443 - val_loss: 1.4900 - val_accuracy: 0.3542\n",
            "Epoch 29/100\n",
            "12/12 [==============================] - 16s 1s/step - loss: 1.3325 - accuracy: 0.4226 - val_loss: 1.4768 - val_accuracy: 0.3490\n",
            "Epoch 30/100\n",
            "12/12 [==============================] - 16s 1s/step - loss: 1.3114 - accuracy: 0.4321 - val_loss: 1.5247 - val_accuracy: 0.3698\n",
            "Epoch 31/100\n",
            "12/12 [==============================] - 16s 1s/step - loss: 1.2768 - accuracy: 0.4783 - val_loss: 1.5146 - val_accuracy: 0.3802\n",
            "Epoch 32/100\n",
            "12/12 [==============================] - 16s 1s/step - loss: 1.3026 - accuracy: 0.4674 - val_loss: 1.4714 - val_accuracy: 0.3542\n",
            "Epoch 33/100\n",
            "12/12 [==============================] - 16s 1s/step - loss: 1.2981 - accuracy: 0.4647 - val_loss: 1.4878 - val_accuracy: 0.3698\n",
            "Epoch 34/100\n",
            "12/12 [==============================] - 16s 1s/step - loss: 1.2158 - accuracy: 0.5109 - val_loss: 1.4882 - val_accuracy: 0.4010\n",
            "Epoch 35/100\n",
            "12/12 [==============================] - 16s 1s/step - loss: 1.2297 - accuracy: 0.5109 - val_loss: 1.5621 - val_accuracy: 0.3750\n",
            "Epoch 36/100\n",
            "12/12 [==============================] - 16s 1s/step - loss: 1.1747 - accuracy: 0.5367 - val_loss: 1.4880 - val_accuracy: 0.3698\n",
            "Epoch 37/100\n",
            "12/12 [==============================] - 16s 1s/step - loss: 1.1701 - accuracy: 0.5217 - val_loss: 1.4925 - val_accuracy: 0.4062\n",
            "Epoch 38/100\n",
            "12/12 [==============================] - 16s 1s/step - loss: 1.1206 - accuracy: 0.5707 - val_loss: 1.4693 - val_accuracy: 0.4375\n",
            "Epoch 39/100\n",
            "12/12 [==============================] - 16s 1s/step - loss: 1.0930 - accuracy: 0.5543 - val_loss: 1.4774 - val_accuracy: 0.3854\n",
            "Epoch 40/100\n",
            "12/12 [==============================] - 16s 1s/step - loss: 1.1258 - accuracy: 0.5408 - val_loss: 1.5569 - val_accuracy: 0.3542\n",
            "Epoch 41/100\n",
            "12/12 [==============================] - 16s 1s/step - loss: 1.0987 - accuracy: 0.5842 - val_loss: 1.4954 - val_accuracy: 0.4219\n",
            "Epoch 42/100\n",
            "12/12 [==============================] - 16s 1s/step - loss: 1.0619 - accuracy: 0.5829 - val_loss: 1.4047 - val_accuracy: 0.4219\n",
            "Epoch 43/100\n",
            "12/12 [==============================] - 15s 1s/step - loss: 1.0003 - accuracy: 0.6277 - val_loss: 1.5440 - val_accuracy: 0.4219\n",
            "Epoch 44/100\n",
            "12/12 [==============================] - 15s 1s/step - loss: 0.9787 - accuracy: 0.6019 - val_loss: 1.5655 - val_accuracy: 0.4375\n",
            "Epoch 45/100\n",
            "12/12 [==============================] - 16s 1s/step - loss: 0.9501 - accuracy: 0.6250 - val_loss: 1.4853 - val_accuracy: 0.4115\n",
            "Epoch 46/100\n",
            "12/12 [==============================] - 16s 1s/step - loss: 0.9401 - accuracy: 0.6508 - val_loss: 1.6026 - val_accuracy: 0.3646\n",
            "Epoch 47/100\n",
            "12/12 [==============================] - 15s 1s/step - loss: 0.9705 - accuracy: 0.6250 - val_loss: 1.4986 - val_accuracy: 0.4167\n",
            "Epoch 48/100\n",
            "12/12 [==============================] - 15s 1s/step - loss: 0.9337 - accuracy: 0.6250 - val_loss: 1.6230 - val_accuracy: 0.4219\n",
            "Epoch 49/100\n",
            "12/12 [==============================] - 15s 1s/step - loss: 0.8794 - accuracy: 0.6712 - val_loss: 1.5168 - val_accuracy: 0.4479\n",
            "Epoch 50/100\n",
            "12/12 [==============================] - 15s 1s/step - loss: 0.8757 - accuracy: 0.6680 - val_loss: 1.6484 - val_accuracy: 0.4062\n",
            "Epoch 51/100\n",
            "12/12 [==============================] - 15s 1s/step - loss: 0.9107 - accuracy: 0.6522 - val_loss: 1.4831 - val_accuracy: 0.4271\n",
            "Epoch 52/100\n",
            "12/12 [==============================] - 15s 1s/step - loss: 0.8925 - accuracy: 0.6617 - val_loss: 1.6379 - val_accuracy: 0.4323\n",
            "Epoch 53/100\n",
            "12/12 [==============================] - 15s 1s/step - loss: 0.8427 - accuracy: 0.6861 - val_loss: 1.5279 - val_accuracy: 0.4323\n",
            "Epoch 54/100\n",
            "12/12 [==============================] - 15s 1s/step - loss: 0.8070 - accuracy: 0.6780 - val_loss: 1.6629 - val_accuracy: 0.4375\n",
            "Epoch 55/100\n",
            "12/12 [==============================] - 16s 1s/step - loss: 0.7897 - accuracy: 0.6784 - val_loss: 1.6624 - val_accuracy: 0.3958\n",
            "Epoch 56/100\n",
            "12/12 [==============================] - 15s 1s/step - loss: 0.7841 - accuracy: 0.7133 - val_loss: 1.6627 - val_accuracy: 0.4271\n",
            "Epoch 57/100\n",
            "12/12 [==============================] - 16s 1s/step - loss: 0.8069 - accuracy: 0.6834 - val_loss: 1.6187 - val_accuracy: 0.4583\n",
            "Epoch 58/100\n",
            "12/12 [==============================] - 16s 1s/step - loss: 0.7080 - accuracy: 0.7473 - val_loss: 1.6879 - val_accuracy: 0.4271\n",
            "Epoch 59/100\n",
            "12/12 [==============================] - 16s 1s/step - loss: 0.6572 - accuracy: 0.7677 - val_loss: 1.7505 - val_accuracy: 0.4427\n",
            "Epoch 60/100\n",
            "12/12 [==============================] - 17s 1s/step - loss: 0.6903 - accuracy: 0.7459 - val_loss: 1.8359 - val_accuracy: 0.4167\n",
            "Epoch 61/100\n",
            "12/12 [==============================] - 16s 1s/step - loss: 0.7439 - accuracy: 0.7323 - val_loss: 1.8546 - val_accuracy: 0.4010\n",
            "Epoch 62/100\n",
            "12/12 [==============================] - 16s 1s/step - loss: 0.6119 - accuracy: 0.7717 - val_loss: 1.8412 - val_accuracy: 0.4062\n",
            "Epoch 63/100\n",
            "12/12 [==============================] - 16s 1s/step - loss: 0.6801 - accuracy: 0.7323 - val_loss: 1.8871 - val_accuracy: 0.4167\n",
            "Epoch 64/100\n",
            "12/12 [==============================] - 16s 1s/step - loss: 0.6619 - accuracy: 0.7554 - val_loss: 1.7170 - val_accuracy: 0.4583\n",
            "Epoch 65/100\n",
            "12/12 [==============================] - 16s 1s/step - loss: 0.6378 - accuracy: 0.7636 - val_loss: 1.8572 - val_accuracy: 0.4010\n",
            "Epoch 66/100\n",
            "12/12 [==============================] - 16s 1s/step - loss: 0.6306 - accuracy: 0.7704 - val_loss: 1.8306 - val_accuracy: 0.4375\n",
            "Epoch 67/100\n",
            "12/12 [==============================] - 15s 1s/step - loss: 0.6353 - accuracy: 0.7772 - val_loss: 2.0678 - val_accuracy: 0.4010\n",
            "Epoch 68/100\n",
            "12/12 [==============================] - 15s 1s/step - loss: 0.6541 - accuracy: 0.7595 - val_loss: 1.8573 - val_accuracy: 0.4375\n",
            "Epoch 69/100\n",
            "12/12 [==============================] - 15s 1s/step - loss: 0.5858 - accuracy: 0.7894 - val_loss: 1.8826 - val_accuracy: 0.4323\n",
            "Epoch 70/100\n",
            "12/12 [==============================] - 15s 1s/step - loss: 0.6034 - accuracy: 0.7826 - val_loss: 1.8111 - val_accuracy: 0.4531\n",
            "Epoch 71/100\n",
            "12/12 [==============================] - 15s 1s/step - loss: 0.6127 - accuracy: 0.7930 - val_loss: 1.6950 - val_accuracy: 0.4792\n",
            "Epoch 72/100\n",
            "12/12 [==============================] - 15s 1s/step - loss: 0.5454 - accuracy: 0.7976 - val_loss: 1.8664 - val_accuracy: 0.4531\n",
            "Epoch 73/100\n",
            "12/12 [==============================] - 16s 1s/step - loss: 0.5291 - accuracy: 0.8021 - val_loss: 1.9559 - val_accuracy: 0.4375\n",
            "Epoch 74/100\n",
            "12/12 [==============================] - 15s 1s/step - loss: 0.5730 - accuracy: 0.8043 - val_loss: 1.7993 - val_accuracy: 0.4010\n",
            "Epoch 75/100\n",
            "12/12 [==============================] - 15s 1s/step - loss: 0.5037 - accuracy: 0.8193 - val_loss: 2.0615 - val_accuracy: 0.4115\n",
            "Epoch 76/100\n",
            "12/12 [==============================] - 15s 1s/step - loss: 0.5686 - accuracy: 0.8016 - val_loss: 1.9252 - val_accuracy: 0.4479\n",
            "Epoch 77/100\n",
            "12/12 [==============================] - 15s 1s/step - loss: 0.5808 - accuracy: 0.7948 - val_loss: 2.0155 - val_accuracy: 0.4792\n",
            "Epoch 78/100\n",
            "12/12 [==============================] - 16s 1s/step - loss: 0.5760 - accuracy: 0.7976 - val_loss: 2.0044 - val_accuracy: 0.4375\n",
            "Epoch 79/100\n",
            "12/12 [==============================] - 16s 1s/step - loss: 0.5005 - accuracy: 0.8166 - val_loss: 2.0218 - val_accuracy: 0.4531\n",
            "Epoch 80/100\n",
            "12/12 [==============================] - 16s 1s/step - loss: 0.4950 - accuracy: 0.8166 - val_loss: 2.0925 - val_accuracy: 0.4531\n",
            "Epoch 81/100\n",
            "12/12 [==============================] - 16s 1s/step - loss: 0.5225 - accuracy: 0.8057 - val_loss: 2.0640 - val_accuracy: 0.4323\n",
            "Epoch 82/100\n",
            "12/12 [==============================] - 16s 1s/step - loss: 0.5116 - accuracy: 0.8071 - val_loss: 2.0554 - val_accuracy: 0.4531\n",
            "Epoch 83/100\n",
            "12/12 [==============================] - 16s 1s/step - loss: 0.4360 - accuracy: 0.8315 - val_loss: 2.0414 - val_accuracy: 0.4010\n",
            "Epoch 84/100\n",
            "12/12 [==============================] - 16s 1s/step - loss: 0.5140 - accuracy: 0.8111 - val_loss: 2.0506 - val_accuracy: 0.3958\n",
            "Epoch 85/100\n",
            "12/12 [==============================] - 16s 1s/step - loss: 0.4438 - accuracy: 0.8424 - val_loss: 1.9545 - val_accuracy: 0.4427\n",
            "Epoch 86/100\n",
            "12/12 [==============================] - 16s 1s/step - loss: 0.4483 - accuracy: 0.8383 - val_loss: 2.1897 - val_accuracy: 0.4219\n",
            "Epoch 87/100\n",
            "12/12 [==============================] - 16s 1s/step - loss: 0.4381 - accuracy: 0.8342 - val_loss: 1.9117 - val_accuracy: 0.4531\n",
            "Epoch 88/100\n",
            "12/12 [==============================] - 16s 1s/step - loss: 0.5250 - accuracy: 0.8057 - val_loss: 2.1378 - val_accuracy: 0.4583\n",
            "Epoch 89/100\n",
            "12/12 [==============================] - 16s 1s/step - loss: 0.4571 - accuracy: 0.8315 - val_loss: 2.1852 - val_accuracy: 0.4167\n",
            "Epoch 90/100\n",
            "12/12 [==============================] - 16s 1s/step - loss: 0.5265 - accuracy: 0.8125 - val_loss: 2.1511 - val_accuracy: 0.4635\n",
            "Epoch 91/100\n",
            "12/12 [==============================] - 16s 1s/step - loss: 0.4039 - accuracy: 0.8465 - val_loss: 2.0546 - val_accuracy: 0.4896\n",
            "Epoch 92/100\n",
            "12/12 [==============================] - 16s 1s/step - loss: 0.3891 - accuracy: 0.8659 - val_loss: 2.2342 - val_accuracy: 0.4740\n",
            "Epoch 93/100\n",
            "12/12 [==============================] - 16s 1s/step - loss: 0.4230 - accuracy: 0.8383 - val_loss: 2.0678 - val_accuracy: 0.4323\n",
            "Epoch 94/100\n",
            "12/12 [==============================] - 16s 1s/step - loss: 0.4005 - accuracy: 0.8546 - val_loss: 2.2785 - val_accuracy: 0.4427\n",
            "Epoch 95/100\n",
            "12/12 [==============================] - 16s 1s/step - loss: 0.4492 - accuracy: 0.8451 - val_loss: 2.1955 - val_accuracy: 0.4167\n",
            "Epoch 96/100\n",
            "12/12 [==============================] - 16s 1s/step - loss: 0.3840 - accuracy: 0.8641 - val_loss: 2.4478 - val_accuracy: 0.4219\n",
            "Epoch 97/100\n",
            "12/12 [==============================] - 16s 1s/step - loss: 0.3667 - accuracy: 0.8668 - val_loss: 2.3050 - val_accuracy: 0.4219\n",
            "Epoch 98/100\n",
            "12/12 [==============================] - 16s 1s/step - loss: 0.4331 - accuracy: 0.8492 - val_loss: 2.3427 - val_accuracy: 0.4531\n",
            "Epoch 99/100\n",
            "12/12 [==============================] - 16s 1s/step - loss: 0.3996 - accuracy: 0.8505 - val_loss: 2.1537 - val_accuracy: 0.4792\n",
            "Epoch 100/100\n",
            "12/12 [==============================] - 16s 1s/step - loss: 0.4102 - accuracy: 0.8546 - val_loss: 1.8876 - val_accuracy: 0.4219\n"
          ],
          "name": "stdout"
        },
        {
          "output_type": "execute_result",
          "data": {
            "text/plain": [
              "<tensorflow.python.keras.callbacks.History at 0x7fb09ce80908>"
            ]
          },
          "metadata": {
            "tags": []
          },
          "execution_count": 27
        }
      ]
    },
    {
      "cell_type": "markdown",
      "metadata": {
        "id": "iXNxgI7dOS6D",
        "colab_type": "text"
      },
      "source": [
        "# Testiamo la Rete sul Generatore\n",
        "Per testare sul generatore possiamo sempre usare il metodo *evaluate*."
      ]
    },
    {
      "cell_type": "code",
      "metadata": {
        "id": "1B5vHWKiyCnZ",
        "colab_type": "code",
        "colab": {
          "base_uri": "https://localhost:8080/",
          "height": 89
        },
        "outputId": "6a7044bb-df68-4930-d3b5-fb4b329afc74"
      },
      "source": [
        "metrics_train = model.evaluate(train_generator)\n",
        "metrics_test = model.evaluate(test_generator)\n",
        "\n",
        "print(\"Train Accuracy = %.4f - Train Loss = %.4f\" % (metrics_train[1], metrics_train[0]))\n",
        "print(\"Test Accuracy = %.4f - Test Loss = %.4f\" % (metrics_test[1], metrics_test[0]))"
      ],
      "execution_count": 28,
      "outputs": [
        {
          "output_type": "stream",
          "text": [
            "13/13 [==============================] - 11s 819ms/step - loss: 0.1707 - accuracy: 0.9725\n",
            "20/20 [==============================] - 18s 911ms/step - loss: 2.2509 - accuracy: 0.4144\n",
            "Train Accuracy = 0.9725 - Train Loss = 0.1707\n",
            "Test Accuracy = 0.4144 - Test Loss = 2.2509\n"
          ],
          "name": "stdout"
        }
      ]
    }
  ]
}