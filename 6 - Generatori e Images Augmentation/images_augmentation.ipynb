{
  "nbformat": 4,
  "nbformat_minor": 0,
  "metadata": {
    "colab": {
      "name": "Untitled61.ipynb",
      "provenance": [],
      "authorship_tag": "ABX9TyPRecxdcKl1dZ4axPpJmByB",
      "include_colab_link": true
    },
    "kernelspec": {
      "name": "python3",
      "display_name": "Python 3"
    },
    "accelerator": "GPU"
  },
  "cells": [
    {
      "cell_type": "markdown",
      "metadata": {
        "id": "view-in-github",
        "colab_type": "text"
      },
      "source": [
        "<a href=\"https://colab.research.google.com/github/ProfAI/tf00/blob/master/6%20-%20Generatori%20e%20Images%20Augmentation/images_augmentation.ipynb\" target=\"_parent\"><img src=\"https://colab.research.google.com/assets/colab-badge.svg\" alt=\"Open In Colab\"/></a>"
      ]
    },
    {
      "cell_type": "markdown",
      "metadata": {
        "id": "2_sCdb2ev6PG",
        "colab_type": "text"
      },
      "source": [
        "# Images Augmentation"
      ]
    },
    {
      "cell_type": "code",
      "metadata": {
        "id": "9rEisNbnv39C",
        "colab_type": "code",
        "colab": {
          "base_uri": "https://localhost:8080/",
          "height": 215
        },
        "outputId": "12751ebf-2a05-4bd4-afef-65fe07d0adf7"
      },
      "source": [
        "!wget https://profession.ai/datasets/dessert_small.zip\n",
        "!unzip -qq dessert_small.zip"
      ],
      "execution_count": 5,
      "outputs": [
        {
          "output_type": "stream",
          "text": [
            "--2020-06-29 11:12:10--  https://profession.ai/datasets/dessert_small.zip\n",
            "Resolving profession.ai (profession.ai)... 13.224.166.2, 13.224.166.63, 13.224.166.122, ...\n",
            "Connecting to profession.ai (profession.ai)|13.224.166.2|:443... connected.\n",
            "HTTP request sent, awaiting response... 200 OK\n",
            "Length: 52003499 (50M) [application/zip]\n",
            "Saving to: ‘dessert_small.zip’\n",
            "\n",
            "dessert_small.zip   100%[===================>]  49.59M  15.3MB/s    in 4.1s    \n",
            "\n",
            "2020-06-29 11:12:15 (12.1 MB/s) - ‘dessert_small.zip’ saved [52003499/52003499]\n",
            "\n"
          ],
          "name": "stdout"
        }
      ]
    },
    {
      "cell_type": "code",
      "metadata": {
        "id": "YMNhZYK1v5iA",
        "colab_type": "code",
        "colab": {}
      },
      "source": [
        "import tensorflow as tf\n",
        "\n",
        "from tensorflow.keras.models import Sequential\n",
        "from tensorflow.keras.layers import Conv2D, MaxPooling2D\n",
        "from tensorflow.keras.layers import Dropout, Flatten, Dense\n",
        "\n",
        "from tensorflow.keras.preprocessing.image import ImageDataGenerator"
      ],
      "execution_count": 6,
      "outputs": []
    },
    {
      "cell_type": "code",
      "metadata": {
        "id": "7XAMfu4uv_nM",
        "colab_type": "code",
        "colab": {}
      },
      "source": [
        "DATASET_DIR = \"dessert_small/\"\n",
        "BATCH_SIZE = 64\n",
        "\n",
        "TOT_IMAGES = 1000 \n",
        "IMG_SIZE = (228, 228)"
      ],
      "execution_count": 7,
      "outputs": []
    },
    {
      "cell_type": "code",
      "metadata": {
        "id": "lAqakwfJwJp3",
        "colab_type": "code",
        "colab": {}
      },
      "source": [
        "datagen = ImageDataGenerator(validation_split=0.2, \n",
        "                            rescale=1./255,\n",
        "                            shear_range=0.2,\n",
        "                            zoom_range=0.2,\n",
        "                            horizontal_flip=True)"
      ],
      "execution_count": 8,
      "outputs": []
    },
    {
      "cell_type": "code",
      "metadata": {
        "id": "6R0xYjsswMnC",
        "colab_type": "code",
        "colab": {
          "base_uri": "https://localhost:8080/",
          "height": 89
        },
        "outputId": "9995c873-8ee8-44de-d47a-c281789b1310"
      },
      "source": [
        "train_generator = datagen.flow_from_directory(\n",
        "        DATASET_DIR+\"train\", \n",
        "        target_size=IMG_SIZE, \n",
        "        batch_size=BATCH_SIZE,\n",
        "        class_mode='categorical',\n",
        "        subset='training')\n",
        "\n",
        "valid_generator = datagen.flow_from_directory(\n",
        "        DATASET_DIR+\"train\",\n",
        "        target_size=IMG_SIZE,\n",
        "        batch_size=BATCH_SIZE,\n",
        "        class_mode='categorical',\n",
        "        subset='validation')\n",
        "\n",
        "\n",
        "test_generator = datagen.flow_from_directory(\n",
        "        DATASET_DIR+\"test\",\n",
        "        target_size=IMG_SIZE,\n",
        "        batch_size=BATCH_SIZE,\n",
        "        class_mode='categorical')\n",
        "\n",
        "print(train_generator.class_indices)"
      ],
      "execution_count": 9,
      "outputs": [
        {
          "output_type": "stream",
          "text": [
            "Found 800 images belonging to 5 classes.\n",
            "Found 200 images belonging to 5 classes.\n",
            "Found 1250 images belonging to 5 classes.\n",
            "{'cannoli': 0, 'gelato': 1, 'panna_cotta': 2, 'tiramisu': 3, 'torta_di_mele': 4}\n"
          ],
          "name": "stdout"
        }
      ]
    },
    {
      "cell_type": "code",
      "metadata": {
        "id": "bt4mnDAJxaea",
        "colab_type": "code",
        "colab": {
          "base_uri": "https://localhost:8080/",
          "height": 683
        },
        "outputId": "5078e076-a945-4c41-ad80-376adcc39276"
      },
      "source": [
        "#regularizer = tf.keras.regularizers.L1L2(l1=0.01, l2=0.1)\n",
        "regularizer = tf.keras.regularizers.L1L2(l2=0.1)\n",
        "\n",
        "model = Sequential()\n",
        "\n",
        "model.add(Conv2D(filters=64, kernel_size=3, padding='same', activation='relu', input_shape=(IMG_SIZE[0], IMG_SIZE[1], 3)))\n",
        "model.add(Conv2D(filters=64, kernel_size=3, padding='same', activation='relu'))\n",
        "model.add(MaxPooling2D(pool_size=3, strides=3))\n",
        "model.add(Dropout(0.4))\n",
        "model.add(Conv2D(filters=32, kernel_size=3, padding='same', activation='relu'))\n",
        "model.add(Conv2D(filters=32, kernel_size=3, padding='same', activation='relu'))\n",
        "model.add(MaxPooling2D(pool_size=3, strides=3))\n",
        "model.add(Dropout(0.4))\n",
        "model.add(Flatten())\n",
        "model.add(Dense(256, activation='relu'))\n",
        "model.add(Dropout(0.4))\n",
        "model.add(Dense(64, activation='relu'))\n",
        "model.add(Dropout(0.4))\n",
        "model.add(Dense(5, activation='softmax'))\n",
        "\n",
        "print(model.summary())"
      ],
      "execution_count": 24,
      "outputs": [
        {
          "output_type": "stream",
          "text": [
            "Model: \"sequential_7\"\n",
            "_________________________________________________________________\n",
            "Layer (type)                 Output Shape              Param #   \n",
            "=================================================================\n",
            "conv2d_28 (Conv2D)           (None, 228, 228, 64)      1792      \n",
            "_________________________________________________________________\n",
            "conv2d_29 (Conv2D)           (None, 228, 228, 64)      36928     \n",
            "_________________________________________________________________\n",
            "max_pooling2d_14 (MaxPooling (None, 76, 76, 64)        0         \n",
            "_________________________________________________________________\n",
            "dropout_25 (Dropout)         (None, 76, 76, 64)        0         \n",
            "_________________________________________________________________\n",
            "conv2d_30 (Conv2D)           (None, 76, 76, 32)        18464     \n",
            "_________________________________________________________________\n",
            "conv2d_31 (Conv2D)           (None, 76, 76, 32)        9248      \n",
            "_________________________________________________________________\n",
            "max_pooling2d_15 (MaxPooling (None, 25, 25, 32)        0         \n",
            "_________________________________________________________________\n",
            "dropout_26 (Dropout)         (None, 25, 25, 32)        0         \n",
            "_________________________________________________________________\n",
            "flatten_7 (Flatten)          (None, 20000)             0         \n",
            "_________________________________________________________________\n",
            "dense_18 (Dense)             (None, 256)               5120256   \n",
            "_________________________________________________________________\n",
            "dropout_27 (Dropout)         (None, 256)               0         \n",
            "_________________________________________________________________\n",
            "dense_19 (Dense)             (None, 64)                16448     \n",
            "_________________________________________________________________\n",
            "dropout_28 (Dropout)         (None, 64)                0         \n",
            "_________________________________________________________________\n",
            "dense_20 (Dense)             (None, 5)                 325       \n",
            "=================================================================\n",
            "Total params: 5,203,461\n",
            "Trainable params: 5,203,461\n",
            "Non-trainable params: 0\n",
            "_________________________________________________________________\n",
            "None\n"
          ],
          "name": "stdout"
        }
      ]
    },
    {
      "cell_type": "code",
      "metadata": {
        "id": "6jEfxCCBxmel",
        "colab_type": "code",
        "colab": {
          "base_uri": "https://localhost:8080/",
          "height": 325
        },
        "outputId": "2c08f740-b9eb-4874-b217-b10ca178575d"
      },
      "source": [
        "model.compile(optimizer=\"adam\", loss=\"categorical_crossentropy\", metrics=[\"accuracy\"])\n",
        "\n",
        "early_stopping = tf.keras.callbacks.EarlyStopping(monitor=\"val_accuracy\",\n",
        "                              min_delta=0.01,\n",
        "                              patience=3,\n",
        "                              restore_best_weights=True)\n",
        "\n",
        "model.fit(\n",
        "        train_generator,\n",
        "        steps_per_epoch=int(TOT_IMAGES*0.8 // BATCH_SIZE),\n",
        "        validation_data=valid_generator, \n",
        "        validation_steps=int(TOT_IMAGES*0.2 // BATCH_SIZE),\n",
        "        epochs=100)"
      ],
      "execution_count": null,
      "outputs": [
        {
          "output_type": "stream",
          "text": [
            "Epoch 1/100\n",
            "12/12 [==============================] - 16s 1s/step - loss: 1.6478 - accuracy: 0.2228 - val_loss: 1.6089 - val_accuracy: 0.2344\n",
            "Epoch 2/100\n",
            "12/12 [==============================] - 16s 1s/step - loss: 1.6087 - accuracy: 0.2160 - val_loss: 1.6093 - val_accuracy: 0.1979\n",
            "Epoch 3/100\n",
            "12/12 [==============================] - 16s 1s/step - loss: 1.6080 - accuracy: 0.1929 - val_loss: 1.6073 - val_accuracy: 0.1979\n",
            "Epoch 4/100\n",
            "12/12 [==============================] - 15s 1s/step - loss: 1.6000 - accuracy: 0.2120 - val_loss: 1.6028 - val_accuracy: 0.2865\n",
            "Epoch 5/100\n",
            "12/12 [==============================] - 15s 1s/step - loss: 1.5949 - accuracy: 0.2133 - val_loss: 1.6047 - val_accuracy: 0.2292\n",
            "Epoch 6/100\n",
            "12/12 [==============================] - 16s 1s/step - loss: 1.5900 - accuracy: 0.2609 - val_loss: 1.5833 - val_accuracy: 0.2500\n",
            "Epoch 7/100\n",
            "12/12 [==============================] - 16s 1s/step - loss: 1.5930 - accuracy: 0.2636 - val_loss: 1.5994 - val_accuracy: 0.2396\n",
            "Epoch 8/100\n",
            " 5/12 [===========>..................] - ETA: 6s - loss: 1.5836 - accuracy: 0.2875"
          ],
          "name": "stdout"
        }
      ]
    },
    {
      "cell_type": "code",
      "metadata": {
        "id": "1B5vHWKiyCnZ",
        "colab_type": "code",
        "colab": {}
      },
      "source": [
        ""
      ],
      "execution_count": null,
      "outputs": []
    }
  ]
}