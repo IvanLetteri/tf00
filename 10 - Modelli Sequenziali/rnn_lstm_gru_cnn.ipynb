{
  "nbformat": 4,
  "nbformat_minor": 0,
  "metadata": {
    "colab": {
      "name": "Untitled75.ipynb",
      "provenance": [],
      "authorship_tag": "ABX9TyOIsejlMuDeABdR0wdvcexe",
      "include_colab_link": true
    },
    "kernelspec": {
      "name": "python3",
      "display_name": "Python 3"
    },
    "accelerator": "GPU"
  },
  "cells": [
    {
      "cell_type": "markdown",
      "metadata": {
        "id": "view-in-github",
        "colab_type": "text"
      },
      "source": [
        "<a href=\"https://colab.research.google.com/github/ProfAI/tf00/blob/master/10%20-%20Modelli%20Sequenziali/rnn_lstm_gru_cnn.ipynb\" target=\"_parent\"><img src=\"https://colab.research.google.com/assets/colab-badge.svg\" alt=\"Open In Colab\"/></a>"
      ]
    },
    {
      "cell_type": "markdown",
      "metadata": {
        "id": "Zn1qDQ4h7C4F",
        "colab_type": "text"
      },
      "source": [
        " # Reti Neurali Ricorrenti\n",
        " Le Reti Neurali Ricorrenti sono una particolare architettura di Reti Neurali molto utilizzate nell'analisi di dati sequenziali e nell'analisi di testi. Il vantaggio principale che offrono è che in fase di predizione tengono conto anche delle osservazioni precedenti e/o successive all'interno di una sequenza. In questo notebook vedremo come utilizzare le reti neurali ricorrenti per classificare correttamente una recensione di film come negativa o positiva, utilizzando sempre l'IMDB Movies Reviews Dataset."
      ]
    },
    {
      "cell_type": "markdown",
      "metadata": {
        "id": "9VAoFmmp779a",
        "colab_type": "text"
      },
      "source": [
        "## Importiamo i Moduli"
      ]
    },
    {
      "cell_type": "code",
      "metadata": {
        "id": "x616gmcH4e39",
        "colab_type": "code",
        "colab": {}
      },
      "source": [
        "import numpy as np\n",
        "\n",
        "import tensorflow as tf\n",
        "from tensorflow.keras.preprocessing.text import Tokenizer\n",
        "from tensorflow.keras.preprocessing.sequence import pad_sequences\n",
        "\n",
        "from tensorflow.keras.models import Sequential\n",
        "from tensorflow.keras.layers import Dense, Dropout\n",
        "from tensorflow.keras.layers import Embedding, SimpleRNN, GRU, LSTM, Bidirectional, GlobalMaxPooling1D, Conv1D"
      ],
      "execution_count": 85,
      "outputs": []
    },
    {
      "cell_type": "markdown",
      "metadata": {
        "id": "WSniTxaj7-AY",
        "colab_type": "text"
      },
      "source": [
        "## Definiamo le Costanti"
      ]
    },
    {
      "cell_type": "code",
      "metadata": {
        "id": "xtYtnAFl5sZF",
        "colab_type": "code",
        "colab": {}
      },
      "source": [
        "MAX_WORDS = 6000\n",
        "NUM_EMBEDDING = 64\n",
        "SEQ_MAX_LENGTH = 200\n",
        "\n",
        "BATCH_SIZE = 128\n",
        "NUM_EPOCHS = 3\n",
        "VALIDATION_SPLIT = 0.2"
      ],
      "execution_count": 72,
      "outputs": []
    },
    {
      "cell_type": "markdown",
      "metadata": {
        "id": "CuDuVYdB8AJf",
        "colab_type": "text"
      },
      "source": [
        "## Carichiamo il Dataset"
      ]
    },
    {
      "cell_type": "code",
      "metadata": {
        "id": "d4P320Dm5uID",
        "colab_type": "code",
        "colab": {}
      },
      "source": [
        "import os\n",
        "from sklearn.utils import shuffle\n",
        "import subprocess\n",
        "\n",
        "\n",
        "def load_imdb(files_path, labels=[\"pos\", \"neg\"]):\n",
        "    \n",
        "    if(not os.path.isfile(\"aclImdb_v1.tar.gz\")):\n",
        "      os.system(\"wget https://ai.stanford.edu/~amaas/data/sentiment/aclImdb_v1.tar.gz\")\n",
        "      os.system(\"tar -xf aclImdb_v1.tar.gz\")\n",
        "    \n",
        "    label_map = {labels[0]:1, labels[1]:0}\n",
        "    \n",
        "    reviews = []\n",
        "    y = []\n",
        "    \n",
        "    for label in labels:\n",
        "      path = files_path+label\n",
        "      for file in os.listdir(path):\n",
        "        review_file = open(path+\"/\"+file)\n",
        "        review = review_file.read()    \n",
        "        \n",
        "        reviews.append(review)\n",
        "        y.append(label_map[label])\n",
        "        \n",
        "    # la funzione shuffle di sklearn ci permette di\n",
        "    # mescolare più array allo stesso modo\n",
        "    \n",
        "    reviews, y = shuffle(reviews,y)\n",
        "    \n",
        "    return(reviews,y)"
      ],
      "execution_count": 50,
      "outputs": []
    },
    {
      "cell_type": "markdown",
      "metadata": {
        "id": "3O8gG7Q_8SSk",
        "colab_type": "text"
      },
      "source": [
        "# Prepariamo i Dati"
      ]
    },
    {
      "cell_type": "code",
      "metadata": {
        "id": "d4JKOkIm5uaN",
        "colab_type": "code",
        "colab": {}
      },
      "source": [
        "reviews_train, y_train = load_imdb(\"aclImdb/train/\")\n",
        "reviews_test, y_test = load_imdb(\"aclImdb/test/\")\n",
        "\n",
        "tokenizer = Tokenizer(num_words=MAX_WORDS)\n",
        "tokenizer.fit_on_texts(reviews_train)\n",
        "\n",
        "X_train = tokenizer.texts_to_sequences(reviews_train)\n",
        "X_test = tokenizer.texts_to_sequences(reviews_test)\n",
        "\n",
        "X_train = pad_sequences(X_train, maxlen = SEQ_MAX_LENGTH)\n",
        "X_test = pad_sequences(X_test, maxlen = SEQ_MAX_LENGTH)\n",
        "\n",
        "y_train = np.array(y_train)\n",
        "y_test = np.array(y_test)"
      ],
      "execution_count": 51,
      "outputs": []
    },
    {
      "cell_type": "markdown",
      "metadata": {
        "id": "8EENrcnZ7lgh",
        "colab_type": "text"
      },
      "source": [
        "## Rete Ricorrente Semplice\n",
        "Per utilizzare dei semplici strati Ricorrenti, possiamo utilizzare la classe *SimpleRNN* di tf.keras."
      ]
    },
    {
      "cell_type": "code",
      "metadata": {
        "id": "OMnGE7G36gU1",
        "colab_type": "code",
        "colab": {
          "base_uri": "https://localhost:8080/",
          "height": 289
        },
        "outputId": "2c717890-edbc-457a-924b-060d68854a7a"
      },
      "source": [
        "model = Sequential()\n",
        "\n",
        "model.add(Embedding(MAX_WORDS, NUM_EMBEDDING, input_length=SEQ_MAX_LENGTH))\n",
        "model.add(SimpleRNN(32))\n",
        "model.add(Dropout(0.5))\n",
        "model.add(Dense(1, activation='relu'))\n",
        "\n",
        "model.summary()"
      ],
      "execution_count": 73,
      "outputs": [
        {
          "output_type": "stream",
          "text": [
            "Model: \"sequential_27\"\n",
            "_________________________________________________________________\n",
            "Layer (type)                 Output Shape              Param #   \n",
            "=================================================================\n",
            "embedding_27 (Embedding)     (None, 200, 64)           384000    \n",
            "_________________________________________________________________\n",
            "simple_rnn_2 (SimpleRNN)     (None, 32)                3104      \n",
            "_________________________________________________________________\n",
            "dropout_41 (Dropout)         (None, 32)                0         \n",
            "_________________________________________________________________\n",
            "dense_45 (Dense)             (None, 1)                 33        \n",
            "=================================================================\n",
            "Total params: 387,137\n",
            "Trainable params: 387,137\n",
            "Non-trainable params: 0\n",
            "_________________________________________________________________\n"
          ],
          "name": "stdout"
        }
      ]
    },
    {
      "cell_type": "code",
      "metadata": {
        "id": "QQ-L69AJ6oDt",
        "colab_type": "code",
        "colab": {
          "base_uri": "https://localhost:8080/",
          "height": 204
        },
        "outputId": "5b0d28e6-eb4c-4327-f90b-486751c2de4b"
      },
      "source": [
        "model.compile(loss='binary_crossentropy', optimizer=\"adam\", metrics=['accuracy'])\n",
        "model.fit(X_train, y_train, batch_size=BATCH_SIZE, validation_split=VALIDATION_SPLIT, epochs=5)"
      ],
      "execution_count": 74,
      "outputs": [
        {
          "output_type": "stream",
          "text": [
            "Epoch 1/5\n",
            "157/157 [==============================] - 33s 210ms/step - loss: 1.8225 - accuracy: 0.5291 - val_loss: 0.7203 - val_accuracy: 0.5472\n",
            "Epoch 2/5\n",
            "157/157 [==============================] - 33s 208ms/step - loss: 1.2312 - accuracy: 0.5897 - val_loss: 0.7364 - val_accuracy: 0.5776\n",
            "Epoch 3/5\n",
            "157/157 [==============================] - 33s 210ms/step - loss: 0.8028 - accuracy: 0.6438 - val_loss: 0.6487 - val_accuracy: 0.6224\n",
            "Epoch 4/5\n",
            "157/157 [==============================] - 32s 205ms/step - loss: 0.6665 - accuracy: 0.6852 - val_loss: 0.6477 - val_accuracy: 0.6316\n",
            "Epoch 5/5\n",
            "157/157 [==============================] - 33s 207ms/step - loss: 0.5884 - accuracy: 0.7183 - val_loss: 0.6175 - val_accuracy: 0.6568\n"
          ],
          "name": "stdout"
        },
        {
          "output_type": "execute_result",
          "data": {
            "text/plain": [
              "<tensorflow.python.keras.callbacks.History at 0x7fc0a64fb9b0>"
            ]
          },
          "metadata": {
            "tags": []
          },
          "execution_count": 74
        }
      ]
    },
    {
      "cell_type": "markdown",
      "metadata": {
        "id": "H-mfNsvM8_tx",
        "colab_type": "text"
      },
      "source": [
        "Il risultato è scarso in quanto la classe *SimpleRNN* definisce, appunto, una rete ricorrente semplice e non andrebbe mai utilizzata nella pratica."
      ]
    },
    {
      "cell_type": "markdown",
      "metadata": {
        "id": "RermmGEg7or6",
        "colab_type": "text"
      },
      "source": [
        "## Rete Ricorrente Gated Recurrent Unit (GRU)\n",
        "Le Reti Ricorrenti Semplici hanno il problema di non riuscire a operare su sequenza mediamente o molto lunghe, le Reti Gated Recurrent Unit risolvono questo problema."
      ]
    },
    {
      "cell_type": "code",
      "metadata": {
        "id": "yCAXdCIX7PSO",
        "colab_type": "code",
        "colab": {
          "base_uri": "https://localhost:8080/",
          "height": 289
        },
        "outputId": "1f50c357-ceb5-472b-a51d-186dd0ad72bc"
      },
      "source": [
        "model = Sequential()\n",
        "\n",
        "model.add(Embedding(MAX_WORDS, NUM_EMBEDDING, input_length=SEQ_MAX_LENGTH))\n",
        "model.add(GRU(32))\n",
        "model.add(Dropout(0.5))\n",
        "model.add(Dense(1, activation='sigmoid'))\n",
        "\n",
        "model.summary()"
      ],
      "execution_count": 75,
      "outputs": [
        {
          "output_type": "stream",
          "text": [
            "Model: \"sequential_28\"\n",
            "_________________________________________________________________\n",
            "Layer (type)                 Output Shape              Param #   \n",
            "=================================================================\n",
            "embedding_28 (Embedding)     (None, 200, 64)           384000    \n",
            "_________________________________________________________________\n",
            "gru_3 (GRU)                  (None, 32)                9408      \n",
            "_________________________________________________________________\n",
            "dropout_42 (Dropout)         (None, 32)                0         \n",
            "_________________________________________________________________\n",
            "dense_46 (Dense)             (None, 1)                 33        \n",
            "=================================================================\n",
            "Total params: 393,441\n",
            "Trainable params: 393,441\n",
            "Non-trainable params: 0\n",
            "_________________________________________________________________\n"
          ],
          "name": "stdout"
        }
      ]
    },
    {
      "cell_type": "code",
      "metadata": {
        "id": "-Ov2Zxa073Uf",
        "colab_type": "code",
        "colab": {
          "base_uri": "https://localhost:8080/",
          "height": 136
        },
        "outputId": "9481aeb2-c637-4b63-ac28-7fe8bd9287d8"
      },
      "source": [
        "model.compile(loss='binary_crossentropy', optimizer=\"adam\", metrics=['accuracy'])\n",
        "model.fit(X_train, y_train, batch_size=BATCH_SIZE, validation_split=VALIDATION_SPLIT, epochs=NUM_EPOCHS)"
      ],
      "execution_count": 76,
      "outputs": [
        {
          "output_type": "stream",
          "text": [
            "Epoch 1/3\n",
            "157/157 [==============================] - 7s 46ms/step - loss: 0.5368 - accuracy: 0.7144 - val_loss: 0.3552 - val_accuracy: 0.8486\n",
            "Epoch 2/3\n",
            "157/157 [==============================] - 7s 46ms/step - loss: 0.2945 - accuracy: 0.8820 - val_loss: 0.3052 - val_accuracy: 0.8708\n",
            "Epoch 3/3\n",
            "157/157 [==============================] - 7s 46ms/step - loss: 0.2236 - accuracy: 0.9164 - val_loss: 0.3151 - val_accuracy: 0.8774\n"
          ],
          "name": "stdout"
        },
        {
          "output_type": "execute_result",
          "data": {
            "text/plain": [
              "<tensorflow.python.keras.callbacks.History at 0x7fc0a5a39e10>"
            ]
          },
          "metadata": {
            "tags": []
          },
          "execution_count": 76
        }
      ]
    },
    {
      "cell_type": "markdown",
      "metadata": {
        "id": "2Jn-ra1r9pM5",
        "colab_type": "text"
      },
      "source": [
        "Tramite l'utilizzo di strati GRU siamo riusciti ad ottenere risultato ancora migliori"
      ]
    },
    {
      "cell_type": "markdown",
      "metadata": {
        "id": "EMvSx-Ez9Z_E",
        "colab_type": "text"
      },
      "source": [
        "## Rete Ricorrente Long-Short Term Memory (LSTM)\n",
        "Le Reti Long-Short Term Memory (LSTM) sono un'altra architettura di Reti Ricorrenti che, come le GRU, riescono ad operare su sequenze lunghe. Le LSTM riescono a gestire sequenze ancora più lunghe delle GRU, ma d'altra parte sono computazionalmente più espensive."
      ]
    },
    {
      "cell_type": "code",
      "metadata": {
        "id": "NBvh8bKN73_7",
        "colab_type": "code",
        "colab": {
          "base_uri": "https://localhost:8080/",
          "height": 289
        },
        "outputId": "0ff96c9a-aaec-48a4-9c71-f92851a202ad"
      },
      "source": [
        "model = Sequential()\n",
        "\n",
        "model.add(Embedding(MAX_WORDS, NUM_EMBEDDING, input_length=SEQ_MAX_LENGTH))\n",
        "model.add(LSTM(32))\n",
        "model.add(Dropout(0.5))\n",
        "model.add(Dense(1, activation='sigmoid'))\n",
        "\n",
        "model.summary()"
      ],
      "execution_count": 77,
      "outputs": [
        {
          "output_type": "stream",
          "text": [
            "Model: \"sequential_29\"\n",
            "_________________________________________________________________\n",
            "Layer (type)                 Output Shape              Param #   \n",
            "=================================================================\n",
            "embedding_29 (Embedding)     (None, 200, 64)           384000    \n",
            "_________________________________________________________________\n",
            "lstm_40 (LSTM)               (None, 32)                12416     \n",
            "_________________________________________________________________\n",
            "dropout_43 (Dropout)         (None, 32)                0         \n",
            "_________________________________________________________________\n",
            "dense_47 (Dense)             (None, 1)                 33        \n",
            "=================================================================\n",
            "Total params: 396,449\n",
            "Trainable params: 396,449\n",
            "Non-trainable params: 0\n",
            "_________________________________________________________________\n"
          ],
          "name": "stdout"
        }
      ]
    },
    {
      "cell_type": "code",
      "metadata": {
        "id": "pRyBj0W390pC",
        "colab_type": "code",
        "colab": {
          "base_uri": "https://localhost:8080/",
          "height": 136
        },
        "outputId": "b76f51f9-6956-4fd8-88a0-80d1108b479c"
      },
      "source": [
        "model.compile(loss='binary_crossentropy', optimizer=\"adam\", metrics=['accuracy'])\n",
        "model.fit(X_train, y_train, batch_size=BATCH_SIZE, validation_split=VALIDATION_SPLIT, epochs=NUM_EPOCHS)"
      ],
      "execution_count": 78,
      "outputs": [
        {
          "output_type": "stream",
          "text": [
            "Epoch 1/3\n",
            "157/157 [==============================] - 8s 48ms/step - loss: 0.5017 - accuracy: 0.7580 - val_loss: 0.3178 - val_accuracy: 0.8718\n",
            "Epoch 2/3\n",
            "157/157 [==============================] - 7s 46ms/step - loss: 0.2782 - accuracy: 0.8939 - val_loss: 0.2870 - val_accuracy: 0.8844\n",
            "Epoch 3/3\n",
            "157/157 [==============================] - 7s 45ms/step - loss: 0.2178 - accuracy: 0.9208 - val_loss: 0.3157 - val_accuracy: 0.8776\n"
          ],
          "name": "stdout"
        },
        {
          "output_type": "execute_result",
          "data": {
            "text/plain": [
              "<tensorflow.python.keras.callbacks.History at 0x7fc0a3af7208>"
            ]
          },
          "metadata": {
            "tags": []
          },
          "execution_count": 78
        }
      ]
    },
    {
      "cell_type": "markdown",
      "metadata": {
        "id": "JxYh3VeO-NZH",
        "colab_type": "text"
      },
      "source": [
        "Il risultato che abbiamo ottenuto utilizzando strati LSTM è simile a quello ottenuto utilizzando strati GRU."
      ]
    },
    {
      "cell_type": "markdown",
      "metadata": {
        "id": "hj3L9JgE91nL",
        "colab_type": "text"
      },
      "source": [
        "## Rete Ricorrente Profonda\n",
        "Una strato ricorrente richiede in input una sequenza, quindi per definire più strati ricorrenti dobbiamo fare in modo che quello precedente ritorni una sequenza in output, per farlo ci basta utilizzare il parametro *return_sequences*."
      ]
    },
    {
      "cell_type": "code",
      "metadata": {
        "id": "s8JWqzm694La",
        "colab_type": "code",
        "colab": {
          "base_uri": "https://localhost:8080/",
          "height": 391
        },
        "outputId": "0b3fdf9d-fe61-4fc7-dc3a-991daba71575"
      },
      "source": [
        "model = Sequential()\n",
        "\n",
        "model.add(Embedding(MAX_WORDS, NUM_EMBEDDING, input_length=SEQ_MAX_LENGTH))\n",
        "model.add(Dropout(0.5))\n",
        "model.add(LSTM(32, return_sequences=True))\n",
        "model.add(LSTM(32))\n",
        "model.add(Dense(64, activation='relu'))\n",
        "model.add(Dropout(0.5))\n",
        "model.add(Dense(1, activation='sigmoid'))\n",
        "\n",
        "model.summary()"
      ],
      "execution_count": 79,
      "outputs": [
        {
          "output_type": "stream",
          "text": [
            "Model: \"sequential_30\"\n",
            "_________________________________________________________________\n",
            "Layer (type)                 Output Shape              Param #   \n",
            "=================================================================\n",
            "embedding_30 (Embedding)     (None, 200, 64)           384000    \n",
            "_________________________________________________________________\n",
            "dropout_44 (Dropout)         (None, 200, 64)           0         \n",
            "_________________________________________________________________\n",
            "lstm_41 (LSTM)               (None, 200, 32)           12416     \n",
            "_________________________________________________________________\n",
            "lstm_42 (LSTM)               (None, 32)                8320      \n",
            "_________________________________________________________________\n",
            "dense_48 (Dense)             (None, 64)                2112      \n",
            "_________________________________________________________________\n",
            "dropout_45 (Dropout)         (None, 64)                0         \n",
            "_________________________________________________________________\n",
            "dense_49 (Dense)             (None, 1)                 65        \n",
            "=================================================================\n",
            "Total params: 406,913\n",
            "Trainable params: 406,913\n",
            "Non-trainable params: 0\n",
            "_________________________________________________________________\n"
          ],
          "name": "stdout"
        }
      ]
    },
    {
      "cell_type": "code",
      "metadata": {
        "id": "5GgnJY9J9-n_",
        "colab_type": "code",
        "colab": {
          "base_uri": "https://localhost:8080/",
          "height": 136
        },
        "outputId": "1bb4fbb2-e80d-4cc5-a2af-bd841b9f9b7c"
      },
      "source": [
        "model.compile(loss='binary_crossentropy', optimizer=\"adam\", metrics=['accuracy'])\n",
        "model.fit(X_train, y_train, batch_size=BATCH_SIZE, validation_split=VALIDATION_SPLIT, epochs=NUM_EPOCHS)"
      ],
      "execution_count": 80,
      "outputs": [
        {
          "output_type": "stream",
          "text": [
            "Epoch 1/3\n",
            "157/157 [==============================] - 14s 91ms/step - loss: 0.5215 - accuracy: 0.7304 - val_loss: 0.3335 - val_accuracy: 0.8622\n",
            "Epoch 2/3\n",
            "157/157 [==============================] - 14s 86ms/step - loss: 0.2979 - accuracy: 0.8781 - val_loss: 0.2910 - val_accuracy: 0.8816\n",
            "Epoch 3/3\n",
            "157/157 [==============================] - 14s 86ms/step - loss: 0.2374 - accuracy: 0.9100 - val_loss: 0.2873 - val_accuracy: 0.8832\n"
          ],
          "name": "stdout"
        },
        {
          "output_type": "execute_result",
          "data": {
            "text/plain": [
              "<tensorflow.python.keras.callbacks.History at 0x7fc0a24644e0>"
            ]
          },
          "metadata": {
            "tags": []
          },
          "execution_count": 80
        }
      ]
    },
    {
      "cell_type": "markdown",
      "metadata": {
        "id": "3pg3_MKlzokn",
        "colab_type": "text"
      },
      "source": [
        "## Reti Ricorrenti Bidirezionali\n",
        "Le Reti Ricorrenti che abbiamo definito fino ad ora sono unidirezionali, tengono conto soltanto dei valori precedenti all'interno della sequenza. Per definire degli strati ricorrenti bidirezionali possiamo usare la classse *Bidirectional*."
      ]
    },
    {
      "cell_type": "code",
      "metadata": {
        "id": "i_mWTfGj_wZc",
        "colab_type": "code",
        "colab": {
          "base_uri": "https://localhost:8080/",
          "height": 391
        },
        "outputId": "a12cbdda-50a3-4679-feb2-f6e2e53f428b"
      },
      "source": [
        "model = Sequential()\n",
        "\n",
        "model.add(Embedding(MAX_WORDS, NUM_EMBEDDING, input_length=SEQ_MAX_LENGTH))\n",
        "model.add(Dropout(0.5))\n",
        "model.add(Bidirectional(LSTM(32, return_sequences=True)))\n",
        "model.add(Bidirectional(LSTM(32)))\n",
        "model.add(Dense(64, activation='relu'))\n",
        "model.add(Dropout(0.5))\n",
        "model.add(Dense(1, activation='sigmoid'))\n",
        "\n",
        "model.summary()"
      ],
      "execution_count": 81,
      "outputs": [
        {
          "output_type": "stream",
          "text": [
            "Model: \"sequential_31\"\n",
            "_________________________________________________________________\n",
            "Layer (type)                 Output Shape              Param #   \n",
            "=================================================================\n",
            "embedding_31 (Embedding)     (None, 200, 64)           384000    \n",
            "_________________________________________________________________\n",
            "dropout_46 (Dropout)         (None, 200, 64)           0         \n",
            "_________________________________________________________________\n",
            "bidirectional_28 (Bidirectio (None, 200, 64)           24832     \n",
            "_________________________________________________________________\n",
            "bidirectional_29 (Bidirectio (None, 64)                24832     \n",
            "_________________________________________________________________\n",
            "dense_50 (Dense)             (None, 64)                4160      \n",
            "_________________________________________________________________\n",
            "dropout_47 (Dropout)         (None, 64)                0         \n",
            "_________________________________________________________________\n",
            "dense_51 (Dense)             (None, 1)                 65        \n",
            "=================================================================\n",
            "Total params: 437,889\n",
            "Trainable params: 437,889\n",
            "Non-trainable params: 0\n",
            "_________________________________________________________________\n"
          ],
          "name": "stdout"
        }
      ]
    },
    {
      "cell_type": "code",
      "metadata": {
        "id": "so9vks-j0h0k",
        "colab_type": "code",
        "colab": {
          "base_uri": "https://localhost:8080/",
          "height": 136
        },
        "outputId": "8b5c478a-9ba8-4f78-c880-e9004fe2c3ec"
      },
      "source": [
        "model.compile(loss='binary_crossentropy', optimizer=\"adam\", metrics=['accuracy'])\n",
        "model.fit(X_train, y_train, batch_size=BATCH_SIZE, validation_split=VALIDATION_SPLIT, epochs=NUM_EPOCHS)"
      ],
      "execution_count": 82,
      "outputs": [
        {
          "output_type": "stream",
          "text": [
            "Epoch 1/3\n",
            "157/157 [==============================] - 31s 196ms/step - loss: 0.4851 - accuracy: 0.7484 - val_loss: 0.3041 - val_accuracy: 0.8704\n",
            "Epoch 2/3\n",
            "157/157 [==============================] - 29s 187ms/step - loss: 0.2774 - accuracy: 0.8903 - val_loss: 0.2827 - val_accuracy: 0.8836\n",
            "Epoch 3/3\n",
            "157/157 [==============================] - 29s 187ms/step - loss: 0.2183 - accuracy: 0.9179 - val_loss: 0.2973 - val_accuracy: 0.8794\n"
          ],
          "name": "stdout"
        },
        {
          "output_type": "execute_result",
          "data": {
            "text/plain": [
              "<tensorflow.python.keras.callbacks.History at 0x7fc0a0815c18>"
            ]
          },
          "metadata": {
            "tags": []
          },
          "execution_count": 82
        }
      ]
    },
    {
      "cell_type": "markdown",
      "metadata": {
        "id": "VLFXSfII13L6",
        "colab_type": "text"
      },
      "source": [
        "## Pooling nelle Reti Ricorrenti\n",
        "Il Pooling può essere utilizzato anche nelle Reti Ricorrenti, ma con una funzione diversa, infatti in questo caso ci permette di far diventare la rete location-invariant, cioè non dipendente dalla posizione dei valori all'interno della sequenza."
      ]
    },
    {
      "cell_type": "code",
      "metadata": {
        "id": "ondA0G6v0iEg",
        "colab_type": "code",
        "colab": {
          "base_uri": "https://localhost:8080/",
          "height": 490
        },
        "outputId": "219aa638-fd4d-43a1-9900-6a360d644924"
      },
      "source": [
        "model = Sequential()\n",
        "\n",
        "model.add(Embedding(MAX_WORDS, NUM_EMBEDDING, input_length=SEQ_MAX_LENGTH))\n",
        "model.add(Dropout(0.5))\n",
        "model.add(Bidirectional(LSTM(32, return_sequences=True)))\n",
        "model.add(Dropout(0.5))\n",
        "model.add(Bidirectional(LSTM(32, return_sequences=True)))\n",
        "model.add(GlobalMaxPooling1D())\n",
        "model.add(Dense(64, activation='relu'))\n",
        "model.add(Dropout(0.5))\n",
        "model.add(Dense(1, activation='sigmoid'))\n",
        "\n",
        "model.summary()"
      ],
      "execution_count": 83,
      "outputs": [
        {
          "output_type": "stream",
          "text": [
            "Model: \"sequential_32\"\n",
            "_________________________________________________________________\n",
            "Layer (type)                 Output Shape              Param #   \n",
            "=================================================================\n",
            "embedding_32 (Embedding)     (None, 200, 64)           384000    \n",
            "_________________________________________________________________\n",
            "dropout_48 (Dropout)         (None, 200, 64)           0         \n",
            "_________________________________________________________________\n",
            "bidirectional_30 (Bidirectio (None, 200, 64)           24832     \n",
            "_________________________________________________________________\n",
            "dropout_49 (Dropout)         (None, 200, 64)           0         \n",
            "_________________________________________________________________\n",
            "bidirectional_31 (Bidirectio (None, 200, 64)           24832     \n",
            "_________________________________________________________________\n",
            "global_max_pooling1d_9 (Glob (None, 64)                0         \n",
            "_________________________________________________________________\n",
            "dense_52 (Dense)             (None, 64)                4160      \n",
            "_________________________________________________________________\n",
            "dropout_50 (Dropout)         (None, 64)                0         \n",
            "_________________________________________________________________\n",
            "dense_53 (Dense)             (None, 1)                 65        \n",
            "=================================================================\n",
            "Total params: 437,889\n",
            "Trainable params: 437,889\n",
            "Non-trainable params: 0\n",
            "_________________________________________________________________\n"
          ],
          "name": "stdout"
        }
      ]
    },
    {
      "cell_type": "code",
      "metadata": {
        "id": "F06fJxP5DKN6",
        "colab_type": "code",
        "colab": {
          "base_uri": "https://localhost:8080/",
          "height": 145
        },
        "outputId": "6f6f7b09-f3c5-455b-daef-230916d201ab"
      },
      "source": [
        "model.compile(loss='binary_crossentropy', optimizer=\"adam\", metrics=['accuracy'])\n",
        "model.fit(X_train, y_train, batch_size=BATCH_SIZE, validation_split=VALIDATION_SPLIT, epochs=NUM_EPOCHS)"
      ],
      "execution_count": 90,
      "outputs": [
        {
          "output_type": "stream",
          "text": [
            "Epoch 1/3\n",
            "157/157 [==============================] - 3s 20ms/step - loss: 0.1598 - accuracy: 0.9426 - val_loss: 0.3069 - val_accuracy: 0.8826\n",
            "Epoch 2/3\n",
            "157/157 [==============================] - 3s 19ms/step - loss: 0.1468 - accuracy: 0.9471 - val_loss: 0.3110 - val_accuracy: 0.8816\n",
            "Epoch 3/3\n",
            "157/157 [==============================] - 3s 19ms/step - loss: 0.1306 - accuracy: 0.9530 - val_loss: 0.3348 - val_accuracy: 0.8810\n"
          ],
          "name": "stdout"
        },
        {
          "output_type": "execute_result",
          "data": {
            "text/plain": [
              "<tensorflow.python.keras.callbacks.History at 0x7fc09b153f98>"
            ]
          },
          "metadata": {
            "tags": []
          },
          "execution_count": 90
        }
      ]
    },
    {
      "cell_type": "markdown",
      "metadata": {
        "id": "sjHyHQ2BAVnB",
        "colab_type": "text"
      },
      "source": [
        "## Classificazione di nuove recensioni\n",
        "Vediamo ora come si comporta quest'ultimo modello sulla classificazione di nuove recensioni."
      ]
    },
    {
      "cell_type": "code",
      "metadata": {
        "id": "w2nRVUQWAZTh",
        "colab_type": "code",
        "colab": {
          "base_uri": "https://localhost:8080/",
          "height": 72
        },
        "outputId": "f69b9453-678c-481d-d734-b5fd933cf0e8"
      },
      "source": [
        "reviews = [\"This movie sucks, I just wasted two hours of my life\", \"Best movie I have ever seen, the ending was so touching and I made me crying so much.\", \"Not a bad movie\"]\n",
        "\n",
        "reviews = tokenizer.texts_to_sequences(reviews)\n",
        "X = pad_sequences(reviews, maxlen = SEQ_MAX_LENGTH)\n",
        "\n",
        "y = model.predict(X)\n",
        "print(y)"
      ],
      "execution_count": 71,
      "outputs": [
        {
          "output_type": "stream",
          "text": [
            "[[0.19489302]\n",
            " [0.97196925]\n",
            " [0.4444822 ]]\n"
          ],
          "name": "stdout"
        }
      ]
    },
    {
      "cell_type": "markdown",
      "metadata": {
        "id": "KRj7o4S4BYyC",
        "colab_type": "text"
      },
      "source": [
        "Nessuna sorpresa sulle prime due classificazione, mentre la terza viene classificata come \"neutrale\", questo vuol dire che il modello è riuscito a comprendere la negazione."
      ]
    },
    {
      "cell_type": "markdown",
      "metadata": {
        "id": "xEmfrUxFDFfM",
        "colab_type": "text"
      },
      "source": [
        "## Reti Convoluzionali Monodimensionali\n",
        "Le Reti Convoluzionali possonno anche essere utilizzate per la classificazione di sequenze, in questo caso la classe da utilizzare è Conv1D."
      ]
    },
    {
      "cell_type": "code",
      "metadata": {
        "id": "cXNJcufRDRov",
        "colab_type": "code",
        "colab": {
          "base_uri": "https://localhost:8080/",
          "height": 454
        },
        "outputId": "5067c06c-c6b5-49b5-d6e6-371b094c8e1d"
      },
      "source": [
        "model = Sequential()\n",
        "\n",
        "model.add(Embedding(MAX_WORDS, NUM_EMBEDDING, input_length=SEQ_MAX_LENGTH))\n",
        "model.add(Dropout(0.5))\n",
        "model.add(Conv1D(32, kernel_size=3))\n",
        "model.add(Conv1D(32, kernel_size=3))\n",
        "model.add(GlobalMaxPooling1D())\n",
        "model.add(Dense(64, activation='relu'))\n",
        "model.add(Dropout(0.5))\n",
        "model.add(Dense(1, activation='sigmoid'))\n",
        "\n",
        "model.summary()"
      ],
      "execution_count": 87,
      "outputs": [
        {
          "output_type": "stream",
          "text": [
            "Model: \"sequential_34\"\n",
            "_________________________________________________________________\n",
            "Layer (type)                 Output Shape              Param #   \n",
            "=================================================================\n",
            "embedding_34 (Embedding)     (None, 200, 64)           384000    \n",
            "_________________________________________________________________\n",
            "dropout_52 (Dropout)         (None, 200, 64)           0         \n",
            "_________________________________________________________________\n",
            "conv1d (Conv1D)              (None, 198, 32)           6176      \n",
            "_________________________________________________________________\n",
            "conv1d_1 (Conv1D)            (None, 196, 32)           3104      \n",
            "_________________________________________________________________\n",
            "global_max_pooling1d_10 (Glo (None, 32)                0         \n",
            "_________________________________________________________________\n",
            "dense_54 (Dense)             (None, 64)                2112      \n",
            "_________________________________________________________________\n",
            "dropout_53 (Dropout)         (None, 64)                0         \n",
            "_________________________________________________________________\n",
            "dense_55 (Dense)             (None, 1)                 65        \n",
            "=================================================================\n",
            "Total params: 395,457\n",
            "Trainable params: 395,457\n",
            "Non-trainable params: 0\n",
            "_________________________________________________________________\n"
          ],
          "name": "stdout"
        }
      ]
    },
    {
      "cell_type": "code",
      "metadata": {
        "id": "-VB8g9fe2Zvh",
        "colab_type": "code",
        "colab": {
          "base_uri": "https://localhost:8080/",
          "height": 145
        },
        "outputId": "3740a014-f188-4d1f-eb6c-204e85287587"
      },
      "source": [
        "model.compile(loss='binary_crossentropy', optimizer=\"adam\", metrics=['accuracy'])\n",
        "model.fit(X_train, y_train, batch_size=BATCH_SIZE, validation_split=VALIDATION_SPLIT, epochs=NUM_EPOCHS)"
      ],
      "execution_count": 84,
      "outputs": [
        {
          "output_type": "stream",
          "text": [
            "Epoch 1/3\n",
            "157/157 [==============================] - 31s 199ms/step - loss: 0.5102 - accuracy: 0.7257 - val_loss: 0.3157 - val_accuracy: 0.8744\n",
            "Epoch 2/3\n",
            "157/157 [==============================] - 30s 191ms/step - loss: 0.2811 - accuracy: 0.8889 - val_loss: 0.2907 - val_accuracy: 0.8806\n",
            "Epoch 3/3\n",
            "157/157 [==============================] - 30s 192ms/step - loss: 0.2287 - accuracy: 0.9126 - val_loss: 0.2988 - val_accuracy: 0.8778\n"
          ],
          "name": "stdout"
        },
        {
          "output_type": "execute_result",
          "data": {
            "text/plain": [
              "<tensorflow.python.keras.callbacks.History at 0x7fc09ddaa588>"
            ]
          },
          "metadata": {
            "tags": []
          },
          "execution_count": 84
        }
      ]
    }
  ]
}