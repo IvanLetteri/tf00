{
  "nbformat": 4,
  "nbformat_minor": 0,
  "metadata": {
    "colab": {
      "name": "Untitled75.ipynb",
      "provenance": [],
      "authorship_tag": "ABX9TyNqjvnwwWO9PTjItPVgZqcw",
      "include_colab_link": true
    },
    "kernelspec": {
      "name": "python3",
      "display_name": "Python 3"
    }
  },
  "cells": [
    {
      "cell_type": "markdown",
      "metadata": {
        "id": "view-in-github",
        "colab_type": "text"
      },
      "source": [
        "<a href=\"https://colab.research.google.com/github/ProfAI/tf00/blob/master/10%20-%20Modelli%20Sequenziali/rnn_lstm_gru.ipynb\" target=\"_parent\"><img src=\"https://colab.research.google.com/assets/colab-badge.svg\" alt=\"Open In Colab\"/></a>"
      ]
    },
    {
      "cell_type": "code",
      "metadata": {
        "id": "x616gmcH4e39",
        "colab_type": "code",
        "colab": {}
      },
      "source": [
        "import numpy as np\n",
        "\n",
        "import tensorflow as tf\n",
        "from tensorflow.keras.preprocessing.text import Tokenizer\n",
        "from tensorflow.keras.preprocessing.sequence import pad_sequences\n",
        "\n",
        "from tensorflow.keras.models import Sequential\n",
        "from tensorflow.keras.layers import Dense, Dropout\n",
        "from tensorflow.keras.layers import Embedding, SimpleRNN, GRU, LSTM"
      ],
      "execution_count": 30,
      "outputs": []
    },
    {
      "cell_type": "code",
      "metadata": {
        "id": "xtYtnAFl5sZF",
        "colab_type": "code",
        "colab": {}
      },
      "source": [
        "MAX_WORDS = 10000\n",
        "NUM_EMBEDDING = 50\n",
        "SEQ_MAX_LENGTH = 50\n",
        "\n",
        "BATCH_SIZE = 512\n",
        "VALIDATION_SPLIT = 0.2"
      ],
      "execution_count": 69,
      "outputs": []
    },
    {
      "cell_type": "code",
      "metadata": {
        "id": "d4P320Dm5uID",
        "colab_type": "code",
        "colab": {}
      },
      "source": [
        "import os\n",
        "from sklearn.utils import shuffle\n",
        "import subprocess\n",
        "\n",
        "\n",
        "def load_imdb(files_path, labels=[\"pos\", \"neg\"]):\n",
        "    \n",
        "    if(not os.path.isfile(\"aclImdb_v1.tar.gz\")):\n",
        "      os.system(\"wget https://ai.stanford.edu/~amaas/data/sentiment/aclImdb_v1.tar.gz\")\n",
        "      os.system(\"tar -xf aclImdb_v1.tar.gz\")\n",
        "    \n",
        "    label_map = {labels[0]:1, labels[1]:0}\n",
        "    \n",
        "    reviews = []\n",
        "    y = []\n",
        "    \n",
        "    for label in labels:\n",
        "      path = files_path+label\n",
        "      for file in os.listdir(path):\n",
        "        review_file = open(path+\"/\"+file)\n",
        "        review = review_file.read()    \n",
        "        \n",
        "        reviews.append(review)\n",
        "        y.append(label_map[label])\n",
        "        \n",
        "    # la funzione shuffle di sklearn ci permette di\n",
        "    # mescolare più array allo stesso modo\n",
        "    \n",
        "    reviews, y = shuffle(reviews,y)\n",
        "    \n",
        "    return(reviews,y)"
      ],
      "execution_count": 70,
      "outputs": []
    },
    {
      "cell_type": "code",
      "metadata": {
        "id": "d4JKOkIm5uaN",
        "colab_type": "code",
        "colab": {}
      },
      "source": [
        "reviews_train, y_train = load_imdb(\"aclImdb/train/\")\n",
        "reviews_test, y_test = load_imdb(\"aclImdb/test/\")\n",
        "\n",
        "tokenizer = Tokenizer(num_words=MAX_WORDS)\n",
        "tokenizer.fit_on_texts(reviews_train)\n",
        "\n",
        "X_train = tokenizer.texts_to_sequences(reviews_train)\n",
        "X_test = tokenizer.texts_to_sequences(reviews_test)\n",
        "\n",
        "X_train = pad_sequences(X_train, maxlen = SEQ_MAX_LENGTH)\n",
        "X_test = pad_sequences(X_test, maxlen = SEQ_MAX_LENGTH)\n",
        "\n",
        "y_train = np.array(y_train)\n",
        "y_test = np.array(y_test)"
      ],
      "execution_count": 71,
      "outputs": []
    },
    {
      "cell_type": "markdown",
      "metadata": {
        "id": "8EENrcnZ7lgh",
        "colab_type": "text"
      },
      "source": [
        "## Rete Ricorrente Semplice"
      ]
    },
    {
      "cell_type": "code",
      "metadata": {
        "id": "OMnGE7G36gU1",
        "colab_type": "code",
        "colab": {
          "base_uri": "https://localhost:8080/",
          "height": 289
        },
        "outputId": "a7d3cc07-cc5d-4eab-8f48-af7f83ac01d6"
      },
      "source": [
        "model = Sequential()\n",
        "\n",
        "model.add(Embedding(MAX_WORDS, NUM_EMBEDDING, input_length=SEQ_MAX_LENGTH))\n",
        "model.add(SimpleRNN(32))\n",
        "model.add(Dropout(0.5))\n",
        "model.add(Dense(1, activation='relu'))\n",
        "\n",
        "model.summary()"
      ],
      "execution_count": 72,
      "outputs": [
        {
          "output_type": "stream",
          "text": [
            "Model: \"sequential_27\"\n",
            "_________________________________________________________________\n",
            "Layer (type)                 Output Shape              Param #   \n",
            "=================================================================\n",
            "embedding_28 (Embedding)     (None, 50, 50)            500000    \n",
            "_________________________________________________________________\n",
            "simple_rnn_14 (SimpleRNN)    (None, 32)                2656      \n",
            "_________________________________________________________________\n",
            "dropout_35 (Dropout)         (None, 32)                0         \n",
            "_________________________________________________________________\n",
            "dense_36 (Dense)             (None, 1)                 33        \n",
            "=================================================================\n",
            "Total params: 502,689\n",
            "Trainable params: 502,689\n",
            "Non-trainable params: 0\n",
            "_________________________________________________________________\n"
          ],
          "name": "stdout"
        }
      ]
    },
    {
      "cell_type": "code",
      "metadata": {
        "id": "QQ-L69AJ6oDt",
        "colab_type": "code",
        "colab": {
          "base_uri": "https://localhost:8080/",
          "height": 204
        },
        "outputId": "0fb156a8-9f60-4ffb-b8ff-a1f2b0bf64c3"
      },
      "source": [
        "model.compile(loss='binary_crossentropy', optimizer=\"adam\", metrics=['accuracy'])\n",
        "model.fit(X_train, y_train, batch_size=BATCH_SIZE, validation_split=VALIDATION_SPLIT, epochs=5)"
      ],
      "execution_count": 73,
      "outputs": [
        {
          "output_type": "stream",
          "text": [
            "Epoch 1/5\n",
            "40/40 [==============================] - 2s 51ms/step - loss: 1.8142 - accuracy: 0.5094 - val_loss: 0.7176 - val_accuracy: 0.5384\n",
            "Epoch 2/5\n",
            "40/40 [==============================] - 2s 47ms/step - loss: 0.9016 - accuracy: 0.5860 - val_loss: 0.6629 - val_accuracy: 0.5878\n",
            "Epoch 3/5\n",
            "40/40 [==============================] - 2s 48ms/step - loss: 0.7224 - accuracy: 0.6337 - val_loss: 0.6467 - val_accuracy: 0.6090\n",
            "Epoch 4/5\n",
            "40/40 [==============================] - 2s 47ms/step - loss: 0.6250 - accuracy: 0.6852 - val_loss: 0.6154 - val_accuracy: 0.6466\n",
            "Epoch 5/5\n",
            "40/40 [==============================] - 2s 47ms/step - loss: 0.5443 - accuracy: 0.7389 - val_loss: 0.5833 - val_accuracy: 0.6890\n"
          ],
          "name": "stdout"
        },
        {
          "output_type": "execute_result",
          "data": {
            "text/plain": [
              "<tensorflow.python.keras.callbacks.History at 0x7f3ee741e320>"
            ]
          },
          "metadata": {
            "tags": []
          },
          "execution_count": 73
        }
      ]
    },
    {
      "cell_type": "markdown",
      "metadata": {
        "id": "RermmGEg7or6",
        "colab_type": "text"
      },
      "source": [
        "## Rete Ricorrente Gated Recurrent Unit (GRU)"
      ]
    },
    {
      "cell_type": "code",
      "metadata": {
        "id": "yCAXdCIX7PSO",
        "colab_type": "code",
        "colab": {
          "base_uri": "https://localhost:8080/",
          "height": 289
        },
        "outputId": "0a484238-c964-44c4-a001-4fa0638424b8"
      },
      "source": [
        "model = Sequential()\n",
        "\n",
        "model.add(Embedding(MAX_WORDS, NUM_EMBEDDING, input_length=SEQ_MAX_LENGTH))\n",
        "model.add(GRU(32, dropout=0.5, recurrent_dropout=0.5))\n",
        "model.add(Dropout(0.5))\n",
        "model.add(Dense(1, activation='sigmoid'))\n",
        "\n",
        "model.summary()"
      ],
      "execution_count": 74,
      "outputs": [
        {
          "output_type": "stream",
          "text": [
            "Model: \"sequential_28\"\n",
            "_________________________________________________________________\n",
            "Layer (type)                 Output Shape              Param #   \n",
            "=================================================================\n",
            "embedding_29 (Embedding)     (None, 50, 50)            500000    \n",
            "_________________________________________________________________\n",
            "gru_6 (GRU)                  (None, 32)                8064      \n",
            "_________________________________________________________________\n",
            "dropout_36 (Dropout)         (None, 32)                0         \n",
            "_________________________________________________________________\n",
            "dense_37 (Dense)             (None, 1)                 33        \n",
            "=================================================================\n",
            "Total params: 508,097\n",
            "Trainable params: 508,097\n",
            "Non-trainable params: 0\n",
            "_________________________________________________________________\n"
          ],
          "name": "stdout"
        }
      ]
    },
    {
      "cell_type": "code",
      "metadata": {
        "id": "-Ov2Zxa073Uf",
        "colab_type": "code",
        "colab": {
          "base_uri": "https://localhost:8080/",
          "height": 196
        },
        "outputId": "9c2a473f-12ff-4c2e-8a77-85dc6b9473e7"
      },
      "source": [
        "model.compile(loss='binary_crossentropy', optimizer=\"adam\", metrics=['accuracy'])\n",
        "model.fit(X_train, y_train, batch_size=BATCH_SIZE, validation_split=VALIDATION_SPLIT, epochs=5)"
      ],
      "execution_count": 75,
      "outputs": [
        {
          "output_type": "stream",
          "text": [
            "Epoch 1/5\n",
            "40/40 [==============================] - 8s 197ms/step - loss: 0.6890 - accuracy: 0.5483 - val_loss: 0.6781 - val_accuracy: 0.6280\n",
            "Epoch 2/5\n",
            "40/40 [==============================] - 8s 189ms/step - loss: 0.6090 - accuracy: 0.6983 - val_loss: 0.4827 - val_accuracy: 0.7814\n",
            "Epoch 3/5\n",
            "40/40 [==============================] - 8s 191ms/step - loss: 0.4317 - accuracy: 0.8136 - val_loss: 0.4056 - val_accuracy: 0.8152\n",
            "Epoch 4/5\n",
            "40/40 [==============================] - 8s 191ms/step - loss: 0.3565 - accuracy: 0.8505 - val_loss: 0.4196 - val_accuracy: 0.8172\n",
            "Epoch 5/5\n",
            "40/40 [==============================] - 8s 195ms/step - loss: 0.3194 - accuracy: 0.8715 - val_loss: 0.4110 - val_accuracy: 0.8130\n"
          ],
          "name": "stdout"
        },
        {
          "output_type": "execute_result",
          "data": {
            "text/plain": [
              "<tensorflow.python.keras.callbacks.History at 0x7f3ee724ff60>"
            ]
          },
          "metadata": {
            "tags": []
          },
          "execution_count": 75
        }
      ]
    },
    {
      "cell_type": "markdown",
      "metadata": {
        "id": "EMvSx-Ez9Z_E",
        "colab_type": "text"
      },
      "source": [
        "## Rete Ricorrente Long-Short Term Memory (LSTM)"
      ]
    },
    {
      "cell_type": "code",
      "metadata": {
        "id": "NBvh8bKN73_7",
        "colab_type": "code",
        "colab": {
          "base_uri": "https://localhost:8080/",
          "height": 304
        },
        "outputId": "cb0dbd50-95de-458a-c819-38f21031d4b6"
      },
      "source": [
        "model = Sequential()\n",
        "\n",
        "model.add(Embedding(MAX_WORDS, NUM_EMBEDDING, input_length=SEQ_MAX_LENGTH))\n",
        "model.add(LSTM(32, dropout=0.4, recurrent_dropout=0.4))\n",
        "model.add(Dropout(0.5))\n",
        "model.add(Dense(1, activation='sigmoid'))\n",
        "\n",
        "model.summary()"
      ],
      "execution_count": 76,
      "outputs": [
        {
          "output_type": "stream",
          "text": [
            "Model: \"sequential_29\"\n",
            "_________________________________________________________________\n",
            "Layer (type)                 Output Shape              Param #   \n",
            "=================================================================\n",
            "embedding_30 (Embedding)     (None, 50, 50)            500000    \n",
            "_________________________________________________________________\n",
            "lstm_13 (LSTM)               (None, 32)                10624     \n",
            "_________________________________________________________________\n",
            "dropout_37 (Dropout)         (None, 32)                0         \n",
            "_________________________________________________________________\n",
            "dense_38 (Dense)             (None, 1)                 33        \n",
            "=================================================================\n",
            "Total params: 510,657\n",
            "Trainable params: 510,657\n",
            "Non-trainable params: 0\n",
            "_________________________________________________________________\n"
          ],
          "name": "stdout"
        }
      ]
    },
    {
      "cell_type": "code",
      "metadata": {
        "id": "pRyBj0W390pC",
        "colab_type": "code",
        "colab": {
          "base_uri": "https://localhost:8080/",
          "height": 214
        },
        "outputId": "0ac1b9aa-678b-450d-ffe1-bc7e52b6022c"
      },
      "source": [
        "model.compile(loss='binary_crossentropy', optimizer=\"adam\", metrics=['accuracy'])\n",
        "model.fit(X_train, y_train, batch_size=BATCH_SIZE, validation_split=VALIDATION_SPLIT, epochs=5)"
      ],
      "execution_count": 77,
      "outputs": [
        {
          "output_type": "stream",
          "text": [
            "Epoch 1/5\n",
            "40/40 [==============================] - 9s 228ms/step - loss: 0.6861 - accuracy: 0.5919 - val_loss: 0.6450 - val_accuracy: 0.7378\n",
            "Epoch 2/5\n",
            "40/40 [==============================] - 9s 223ms/step - loss: 0.5283 - accuracy: 0.7587 - val_loss: 0.4446 - val_accuracy: 0.8056\n",
            "Epoch 3/5\n",
            "40/40 [==============================] - 9s 226ms/step - loss: 0.3841 - accuracy: 0.8370 - val_loss: 0.3989 - val_accuracy: 0.8158\n",
            "Epoch 4/5\n",
            "40/40 [==============================] - 9s 225ms/step - loss: 0.3204 - accuracy: 0.8728 - val_loss: 0.4112 - val_accuracy: 0.8118\n",
            "Epoch 5/5\n",
            "40/40 [==============================] - 9s 226ms/step - loss: 0.2774 - accuracy: 0.8931 - val_loss: 0.4362 - val_accuracy: 0.8122\n"
          ],
          "name": "stdout"
        },
        {
          "output_type": "execute_result",
          "data": {
            "text/plain": [
              "<tensorflow.python.keras.callbacks.History at 0x7f3ef7086d30>"
            ]
          },
          "metadata": {
            "tags": []
          },
          "execution_count": 77
        }
      ]
    },
    {
      "cell_type": "markdown",
      "metadata": {
        "id": "hj3L9JgE91nL",
        "colab_type": "text"
      },
      "source": [
        "## Rete Ricorrente Profonda"
      ]
    },
    {
      "cell_type": "code",
      "metadata": {
        "id": "s8JWqzm694La",
        "colab_type": "code",
        "colab": {
          "base_uri": "https://localhost:8080/",
          "height": 370
        },
        "outputId": "27ce3aa4-ae47-42ef-f02e-e9f13b41eb80"
      },
      "source": [
        "model = Sequential()\n",
        "\n",
        "model.add(Embedding(MAX_WORDS, NUM_EMBEDDING, input_length=SEQ_MAX_LENGTH))\n",
        "model.add(Dropout(0.6))\n",
        "model.add(LSTM(32, dropout=0.5, recurrent_dropout=0.5, return_sequences=True))\n",
        "model.add(LSTM(32, dropout=0.5, recurrent_dropout=0.5))\n",
        "model.add(Dropout(0.5))\n",
        "model.add(Dense(64, activation='relu'))\n",
        "model.add(Dense(1, activation='sigmoid'))\n",
        "\n",
        "model.summary()"
      ],
      "execution_count": 78,
      "outputs": [
        {
          "output_type": "stream",
          "text": [
            "Model: \"sequential_30\"\n",
            "_________________________________________________________________\n",
            "Layer (type)                 Output Shape              Param #   \n",
            "=================================================================\n",
            "embedding_31 (Embedding)     (None, 50, 50)            500000    \n",
            "_________________________________________________________________\n",
            "dropout_38 (Dropout)         (None, 50, 50)            0         \n",
            "_________________________________________________________________\n",
            "lstm_14 (LSTM)               (None, 50, 32)            10624     \n",
            "_________________________________________________________________\n",
            "lstm_15 (LSTM)               (None, 32)                8320      \n",
            "_________________________________________________________________\n",
            "dropout_39 (Dropout)         (None, 32)                0         \n",
            "_________________________________________________________________\n",
            "dense_39 (Dense)             (None, 64)                2112      \n",
            "_________________________________________________________________\n",
            "dense_40 (Dense)             (None, 1)                 65        \n",
            "=================================================================\n",
            "Total params: 521,121\n",
            "Trainable params: 521,121\n",
            "Non-trainable params: 0\n",
            "_________________________________________________________________\n"
          ],
          "name": "stdout"
        }
      ]
    },
    {
      "cell_type": "code",
      "metadata": {
        "id": "5GgnJY9J9-n_",
        "colab_type": "code",
        "colab": {
          "base_uri": "https://localhost:8080/",
          "height": 354
        },
        "outputId": "961b09c6-33b7-46d8-886c-7b74adbbd9d1"
      },
      "source": [
        "model.compile(loss='binary_crossentropy', optimizer=\"adam\", metrics=['accuracy'])\n",
        "model.fit(X_train, y_train, batch_size=BATCH_SIZE, validation_split=VALIDATION_SPLIT, epochs=10)"
      ],
      "execution_count": 79,
      "outputs": [
        {
          "output_type": "stream",
          "text": [
            "Epoch 1/10\n",
            "40/40 [==============================] - 17s 433ms/step - loss: 0.6921 - accuracy: 0.5297 - val_loss: 0.6841 - val_accuracy: 0.6206\n",
            "Epoch 2/10\n",
            "40/40 [==============================] - 19s 477ms/step - loss: 0.5990 - accuracy: 0.6858 - val_loss: 0.4769 - val_accuracy: 0.7874\n",
            "Epoch 3/10\n",
            "40/40 [==============================] - 17s 419ms/step - loss: 0.4677 - accuracy: 0.7825 - val_loss: 0.4250 - val_accuracy: 0.8002\n",
            "Epoch 4/10\n",
            "40/40 [==============================] - 17s 413ms/step - loss: 0.4145 - accuracy: 0.8134 - val_loss: 0.4062 - val_accuracy: 0.8170\n",
            "Epoch 5/10\n",
            "40/40 [==============================] - 17s 415ms/step - loss: 0.3699 - accuracy: 0.8381 - val_loss: 0.3959 - val_accuracy: 0.8178\n",
            "Epoch 6/10\n",
            "40/40 [==============================] - 17s 423ms/step - loss: 0.3506 - accuracy: 0.8519 - val_loss: 0.4032 - val_accuracy: 0.8114\n",
            "Epoch 7/10\n",
            "40/40 [==============================] - 17s 419ms/step - loss: 0.3300 - accuracy: 0.8624 - val_loss: 0.4031 - val_accuracy: 0.8140\n",
            "Epoch 8/10\n",
            "40/40 [==============================] - 17s 416ms/step - loss: 0.3139 - accuracy: 0.8702 - val_loss: 0.4287 - val_accuracy: 0.8166\n",
            "Epoch 9/10\n",
            "40/40 [==============================] - 17s 418ms/step - loss: 0.3057 - accuracy: 0.8732 - val_loss: 0.4123 - val_accuracy: 0.8138\n",
            "Epoch 10/10\n",
            "40/40 [==============================] - 17s 416ms/step - loss: 0.2894 - accuracy: 0.8833 - val_loss: 0.4308 - val_accuracy: 0.8152\n"
          ],
          "name": "stdout"
        },
        {
          "output_type": "execute_result",
          "data": {
            "text/plain": [
              "<tensorflow.python.keras.callbacks.History at 0x7f3ee73ad0f0>"
            ]
          },
          "metadata": {
            "tags": []
          },
          "execution_count": 79
        }
      ]
    },
    {
      "cell_type": "code",
      "metadata": {
        "id": "i_mWTfGj_wZc",
        "colab_type": "code",
        "colab": {}
      },
      "source": [
        ""
      ],
      "execution_count": null,
      "outputs": []
    }
  ]
}