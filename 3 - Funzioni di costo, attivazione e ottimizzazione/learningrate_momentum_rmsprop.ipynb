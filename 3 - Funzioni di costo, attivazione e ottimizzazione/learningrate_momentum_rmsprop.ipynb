{
  "nbformat": 4,
  "nbformat_minor": 0,
  "metadata": {
    "colab": {
      "name": "Untitled45.ipynb",
      "provenance": [],
      "collapsed_sections": [],
      "authorship_tag": "ABX9TyMFkvZqbGv/xX76e0wLyhaM",
      "include_colab_link": true
    },
    "kernelspec": {
      "name": "python3",
      "display_name": "Python 3"
    },
    "accelerator": "GPU",
    "widgets": {
      "application/vnd.jupyter.widget-state+json": {
        "5db3e50bd8d34ff5ad2d62841adc9d4f": {
          "model_module": "@jupyter-widgets/controls",
          "model_name": "HBoxModel",
          "state": {
            "_view_name": "HBoxView",
            "_dom_classes": [],
            "_model_name": "HBoxModel",
            "_view_module": "@jupyter-widgets/controls",
            "_model_module_version": "1.5.0",
            "_view_count": null,
            "_view_module_version": "1.5.0",
            "box_style": "",
            "layout": "IPY_MODEL_fb471248e5924b61b9ec01ee768c9e87",
            "_model_module": "@jupyter-widgets/controls",
            "children": [
              "IPY_MODEL_b1f6db235604442c991ebffd68d55db3",
              "IPY_MODEL_108d12261c024a9c8c23ece8fb78bfcd"
            ]
          }
        },
        "fb471248e5924b61b9ec01ee768c9e87": {
          "model_module": "@jupyter-widgets/base",
          "model_name": "LayoutModel",
          "state": {
            "_view_name": "LayoutView",
            "grid_template_rows": null,
            "right": null,
            "justify_content": null,
            "_view_module": "@jupyter-widgets/base",
            "overflow": null,
            "_model_module_version": "1.2.0",
            "_view_count": null,
            "flex_flow": null,
            "width": null,
            "min_width": null,
            "border": null,
            "align_items": null,
            "bottom": null,
            "_model_module": "@jupyter-widgets/base",
            "top": null,
            "grid_column": null,
            "overflow_y": null,
            "overflow_x": null,
            "grid_auto_flow": null,
            "grid_area": null,
            "grid_template_columns": null,
            "flex": null,
            "_model_name": "LayoutModel",
            "justify_items": null,
            "grid_row": null,
            "max_height": null,
            "align_content": null,
            "visibility": null,
            "align_self": null,
            "height": null,
            "min_height": null,
            "padding": null,
            "grid_auto_rows": null,
            "grid_gap": null,
            "max_width": null,
            "order": null,
            "_view_module_version": "1.2.0",
            "grid_template_areas": null,
            "object_position": null,
            "object_fit": null,
            "grid_auto_columns": null,
            "margin": null,
            "display": null,
            "left": null
          }
        },
        "b1f6db235604442c991ebffd68d55db3": {
          "model_module": "@jupyter-widgets/controls",
          "model_name": "FloatProgressModel",
          "state": {
            "_view_name": "ProgressView",
            "style": "IPY_MODEL_23e9c48cd94a45a8be706c2084d1ba63",
            "_dom_classes": [],
            "description": "Dl Completed...: 100%",
            "_model_name": "FloatProgressModel",
            "bar_style": "success",
            "max": 1,
            "_view_module": "@jupyter-widgets/controls",
            "_model_module_version": "1.5.0",
            "value": 1,
            "_view_count": null,
            "_view_module_version": "1.5.0",
            "orientation": "horizontal",
            "min": 0,
            "description_tooltip": null,
            "_model_module": "@jupyter-widgets/controls",
            "layout": "IPY_MODEL_213241e59b7e4dd88374dd62a31e6036"
          }
        },
        "108d12261c024a9c8c23ece8fb78bfcd": {
          "model_module": "@jupyter-widgets/controls",
          "model_name": "HTMLModel",
          "state": {
            "_view_name": "HTMLView",
            "style": "IPY_MODEL_ad9dd7b6f50d493b86c4d886d1c3023a",
            "_dom_classes": [],
            "description": "",
            "_model_name": "HTMLModel",
            "placeholder": "​",
            "_view_module": "@jupyter-widgets/controls",
            "_model_module_version": "1.5.0",
            "value": " 4/4 [00:02&lt;00:00,  1.88 url/s]",
            "_view_count": null,
            "_view_module_version": "1.5.0",
            "description_tooltip": null,
            "_model_module": "@jupyter-widgets/controls",
            "layout": "IPY_MODEL_d89b6483a29549f8988d979ade1f2189"
          }
        },
        "23e9c48cd94a45a8be706c2084d1ba63": {
          "model_module": "@jupyter-widgets/controls",
          "model_name": "ProgressStyleModel",
          "state": {
            "_view_name": "StyleView",
            "_model_name": "ProgressStyleModel",
            "description_width": "initial",
            "_view_module": "@jupyter-widgets/base",
            "_model_module_version": "1.5.0",
            "_view_count": null,
            "_view_module_version": "1.2.0",
            "bar_color": null,
            "_model_module": "@jupyter-widgets/controls"
          }
        },
        "213241e59b7e4dd88374dd62a31e6036": {
          "model_module": "@jupyter-widgets/base",
          "model_name": "LayoutModel",
          "state": {
            "_view_name": "LayoutView",
            "grid_template_rows": null,
            "right": null,
            "justify_content": null,
            "_view_module": "@jupyter-widgets/base",
            "overflow": null,
            "_model_module_version": "1.2.0",
            "_view_count": null,
            "flex_flow": null,
            "width": null,
            "min_width": null,
            "border": null,
            "align_items": null,
            "bottom": null,
            "_model_module": "@jupyter-widgets/base",
            "top": null,
            "grid_column": null,
            "overflow_y": null,
            "overflow_x": null,
            "grid_auto_flow": null,
            "grid_area": null,
            "grid_template_columns": null,
            "flex": null,
            "_model_name": "LayoutModel",
            "justify_items": null,
            "grid_row": null,
            "max_height": null,
            "align_content": null,
            "visibility": null,
            "align_self": null,
            "height": null,
            "min_height": null,
            "padding": null,
            "grid_auto_rows": null,
            "grid_gap": null,
            "max_width": null,
            "order": null,
            "_view_module_version": "1.2.0",
            "grid_template_areas": null,
            "object_position": null,
            "object_fit": null,
            "grid_auto_columns": null,
            "margin": null,
            "display": null,
            "left": null
          }
        },
        "ad9dd7b6f50d493b86c4d886d1c3023a": {
          "model_module": "@jupyter-widgets/controls",
          "model_name": "DescriptionStyleModel",
          "state": {
            "_view_name": "StyleView",
            "_model_name": "DescriptionStyleModel",
            "description_width": "",
            "_view_module": "@jupyter-widgets/base",
            "_model_module_version": "1.5.0",
            "_view_count": null,
            "_view_module_version": "1.2.0",
            "_model_module": "@jupyter-widgets/controls"
          }
        },
        "d89b6483a29549f8988d979ade1f2189": {
          "model_module": "@jupyter-widgets/base",
          "model_name": "LayoutModel",
          "state": {
            "_view_name": "LayoutView",
            "grid_template_rows": null,
            "right": null,
            "justify_content": null,
            "_view_module": "@jupyter-widgets/base",
            "overflow": null,
            "_model_module_version": "1.2.0",
            "_view_count": null,
            "flex_flow": null,
            "width": null,
            "min_width": null,
            "border": null,
            "align_items": null,
            "bottom": null,
            "_model_module": "@jupyter-widgets/base",
            "top": null,
            "grid_column": null,
            "overflow_y": null,
            "overflow_x": null,
            "grid_auto_flow": null,
            "grid_area": null,
            "grid_template_columns": null,
            "flex": null,
            "_model_name": "LayoutModel",
            "justify_items": null,
            "grid_row": null,
            "max_height": null,
            "align_content": null,
            "visibility": null,
            "align_self": null,
            "height": null,
            "min_height": null,
            "padding": null,
            "grid_auto_rows": null,
            "grid_gap": null,
            "max_width": null,
            "order": null,
            "_view_module_version": "1.2.0",
            "grid_template_areas": null,
            "object_position": null,
            "object_fit": null,
            "grid_auto_columns": null,
            "margin": null,
            "display": null,
            "left": null
          }
        },
        "9c073126e2e74dd4aebfbf97b9f1848c": {
          "model_module": "@jupyter-widgets/controls",
          "model_name": "HBoxModel",
          "state": {
            "_view_name": "HBoxView",
            "_dom_classes": [],
            "_model_name": "HBoxModel",
            "_view_module": "@jupyter-widgets/controls",
            "_model_module_version": "1.5.0",
            "_view_count": null,
            "_view_module_version": "1.5.0",
            "box_style": "",
            "layout": "IPY_MODEL_42fe01db4a034584b1f6f9dc53071ae3",
            "_model_module": "@jupyter-widgets/controls",
            "children": [
              "IPY_MODEL_6fc14a6906fd476ca2744a1cde21e699",
              "IPY_MODEL_496915b139ca4798b83c9e3e1b205fee"
            ]
          }
        },
        "42fe01db4a034584b1f6f9dc53071ae3": {
          "model_module": "@jupyter-widgets/base",
          "model_name": "LayoutModel",
          "state": {
            "_view_name": "LayoutView",
            "grid_template_rows": null,
            "right": null,
            "justify_content": null,
            "_view_module": "@jupyter-widgets/base",
            "overflow": null,
            "_model_module_version": "1.2.0",
            "_view_count": null,
            "flex_flow": null,
            "width": null,
            "min_width": null,
            "border": null,
            "align_items": null,
            "bottom": null,
            "_model_module": "@jupyter-widgets/base",
            "top": null,
            "grid_column": null,
            "overflow_y": null,
            "overflow_x": null,
            "grid_auto_flow": null,
            "grid_area": null,
            "grid_template_columns": null,
            "flex": null,
            "_model_name": "LayoutModel",
            "justify_items": null,
            "grid_row": null,
            "max_height": null,
            "align_content": null,
            "visibility": null,
            "align_self": null,
            "height": null,
            "min_height": null,
            "padding": null,
            "grid_auto_rows": null,
            "grid_gap": null,
            "max_width": null,
            "order": null,
            "_view_module_version": "1.2.0",
            "grid_template_areas": null,
            "object_position": null,
            "object_fit": null,
            "grid_auto_columns": null,
            "margin": null,
            "display": null,
            "left": null
          }
        },
        "6fc14a6906fd476ca2744a1cde21e699": {
          "model_module": "@jupyter-widgets/controls",
          "model_name": "FloatProgressModel",
          "state": {
            "_view_name": "ProgressView",
            "style": "IPY_MODEL_e8e5ff3c32eb41908692a444aef13715",
            "_dom_classes": [],
            "description": "Dl Size...: 100%",
            "_model_name": "FloatProgressModel",
            "bar_style": "success",
            "max": 1,
            "_view_module": "@jupyter-widgets/controls",
            "_model_module_version": "1.5.0",
            "value": 1,
            "_view_count": null,
            "_view_module_version": "1.5.0",
            "orientation": "horizontal",
            "min": 0,
            "description_tooltip": null,
            "_model_module": "@jupyter-widgets/controls",
            "layout": "IPY_MODEL_8ee77f162038411395f36259acb0681a"
          }
        },
        "496915b139ca4798b83c9e3e1b205fee": {
          "model_module": "@jupyter-widgets/controls",
          "model_name": "HTMLModel",
          "state": {
            "_view_name": "HTMLView",
            "style": "IPY_MODEL_f1178912811743749ea15983ac927212",
            "_dom_classes": [],
            "description": "",
            "_model_name": "HTMLModel",
            "placeholder": "​",
            "_view_module": "@jupyter-widgets/controls",
            "_model_module_version": "1.5.0",
            "value": " 29/29 [00:02&lt;00:00, 13.80 MiB/s]",
            "_view_count": null,
            "_view_module_version": "1.5.0",
            "description_tooltip": null,
            "_model_module": "@jupyter-widgets/controls",
            "layout": "IPY_MODEL_da9fce75bc8c4308b952fbb1e68e1c75"
          }
        },
        "e8e5ff3c32eb41908692a444aef13715": {
          "model_module": "@jupyter-widgets/controls",
          "model_name": "ProgressStyleModel",
          "state": {
            "_view_name": "StyleView",
            "_model_name": "ProgressStyleModel",
            "description_width": "initial",
            "_view_module": "@jupyter-widgets/base",
            "_model_module_version": "1.5.0",
            "_view_count": null,
            "_view_module_version": "1.2.0",
            "bar_color": null,
            "_model_module": "@jupyter-widgets/controls"
          }
        },
        "8ee77f162038411395f36259acb0681a": {
          "model_module": "@jupyter-widgets/base",
          "model_name": "LayoutModel",
          "state": {
            "_view_name": "LayoutView",
            "grid_template_rows": null,
            "right": null,
            "justify_content": null,
            "_view_module": "@jupyter-widgets/base",
            "overflow": null,
            "_model_module_version": "1.2.0",
            "_view_count": null,
            "flex_flow": null,
            "width": null,
            "min_width": null,
            "border": null,
            "align_items": null,
            "bottom": null,
            "_model_module": "@jupyter-widgets/base",
            "top": null,
            "grid_column": null,
            "overflow_y": null,
            "overflow_x": null,
            "grid_auto_flow": null,
            "grid_area": null,
            "grid_template_columns": null,
            "flex": null,
            "_model_name": "LayoutModel",
            "justify_items": null,
            "grid_row": null,
            "max_height": null,
            "align_content": null,
            "visibility": null,
            "align_self": null,
            "height": null,
            "min_height": null,
            "padding": null,
            "grid_auto_rows": null,
            "grid_gap": null,
            "max_width": null,
            "order": null,
            "_view_module_version": "1.2.0",
            "grid_template_areas": null,
            "object_position": null,
            "object_fit": null,
            "grid_auto_columns": null,
            "margin": null,
            "display": null,
            "left": null
          }
        },
        "f1178912811743749ea15983ac927212": {
          "model_module": "@jupyter-widgets/controls",
          "model_name": "DescriptionStyleModel",
          "state": {
            "_view_name": "StyleView",
            "_model_name": "DescriptionStyleModel",
            "description_width": "",
            "_view_module": "@jupyter-widgets/base",
            "_model_module_version": "1.5.0",
            "_view_count": null,
            "_view_module_version": "1.2.0",
            "_model_module": "@jupyter-widgets/controls"
          }
        },
        "da9fce75bc8c4308b952fbb1e68e1c75": {
          "model_module": "@jupyter-widgets/base",
          "model_name": "LayoutModel",
          "state": {
            "_view_name": "LayoutView",
            "grid_template_rows": null,
            "right": null,
            "justify_content": null,
            "_view_module": "@jupyter-widgets/base",
            "overflow": null,
            "_model_module_version": "1.2.0",
            "_view_count": null,
            "flex_flow": null,
            "width": null,
            "min_width": null,
            "border": null,
            "align_items": null,
            "bottom": null,
            "_model_module": "@jupyter-widgets/base",
            "top": null,
            "grid_column": null,
            "overflow_y": null,
            "overflow_x": null,
            "grid_auto_flow": null,
            "grid_area": null,
            "grid_template_columns": null,
            "flex": null,
            "_model_name": "LayoutModel",
            "justify_items": null,
            "grid_row": null,
            "max_height": null,
            "align_content": null,
            "visibility": null,
            "align_self": null,
            "height": null,
            "min_height": null,
            "padding": null,
            "grid_auto_rows": null,
            "grid_gap": null,
            "max_width": null,
            "order": null,
            "_view_module_version": "1.2.0",
            "grid_template_areas": null,
            "object_position": null,
            "object_fit": null,
            "grid_auto_columns": null,
            "margin": null,
            "display": null,
            "left": null
          }
        },
        "14bc8d90409a41b7aef3ddf25eca503a": {
          "model_module": "@jupyter-widgets/controls",
          "model_name": "HBoxModel",
          "state": {
            "_view_name": "HBoxView",
            "_dom_classes": [],
            "_model_name": "HBoxModel",
            "_view_module": "@jupyter-widgets/controls",
            "_model_module_version": "1.5.0",
            "_view_count": null,
            "_view_module_version": "1.5.0",
            "box_style": "",
            "layout": "IPY_MODEL_3fdfe62d9a314641bd7962d0ee978d7f",
            "_model_module": "@jupyter-widgets/controls",
            "children": [
              "IPY_MODEL_1b111dc4ff3d4d61ab097b4f30ad7415",
              "IPY_MODEL_edce56ce833646dd99dfea5bacf4178d"
            ]
          }
        },
        "3fdfe62d9a314641bd7962d0ee978d7f": {
          "model_module": "@jupyter-widgets/base",
          "model_name": "LayoutModel",
          "state": {
            "_view_name": "LayoutView",
            "grid_template_rows": null,
            "right": null,
            "justify_content": null,
            "_view_module": "@jupyter-widgets/base",
            "overflow": null,
            "_model_module_version": "1.2.0",
            "_view_count": null,
            "flex_flow": null,
            "width": null,
            "min_width": null,
            "border": null,
            "align_items": null,
            "bottom": null,
            "_model_module": "@jupyter-widgets/base",
            "top": null,
            "grid_column": null,
            "overflow_y": null,
            "overflow_x": null,
            "grid_auto_flow": null,
            "grid_area": null,
            "grid_template_columns": null,
            "flex": null,
            "_model_name": "LayoutModel",
            "justify_items": null,
            "grid_row": null,
            "max_height": null,
            "align_content": null,
            "visibility": null,
            "align_self": null,
            "height": null,
            "min_height": null,
            "padding": null,
            "grid_auto_rows": null,
            "grid_gap": null,
            "max_width": null,
            "order": null,
            "_view_module_version": "1.2.0",
            "grid_template_areas": null,
            "object_position": null,
            "object_fit": null,
            "grid_auto_columns": null,
            "margin": null,
            "display": null,
            "left": null
          }
        },
        "1b111dc4ff3d4d61ab097b4f30ad7415": {
          "model_module": "@jupyter-widgets/controls",
          "model_name": "FloatProgressModel",
          "state": {
            "_view_name": "ProgressView",
            "style": "IPY_MODEL_70542c7fb41a44a08dbf2ee8bfc8eda2",
            "_dom_classes": [],
            "description": "Extraction completed...: 100%",
            "_model_name": "FloatProgressModel",
            "bar_style": "success",
            "max": 1,
            "_view_module": "@jupyter-widgets/controls",
            "_model_module_version": "1.5.0",
            "value": 1,
            "_view_count": null,
            "_view_module_version": "1.5.0",
            "orientation": "horizontal",
            "min": 0,
            "description_tooltip": null,
            "_model_module": "@jupyter-widgets/controls",
            "layout": "IPY_MODEL_79b51e5f2252440db5573d702f637ff9"
          }
        },
        "edce56ce833646dd99dfea5bacf4178d": {
          "model_module": "@jupyter-widgets/controls",
          "model_name": "HTMLModel",
          "state": {
            "_view_name": "HTMLView",
            "style": "IPY_MODEL_37119518ca144223b109e2047a0411ed",
            "_dom_classes": [],
            "description": "",
            "_model_name": "HTMLModel",
            "placeholder": "​",
            "_view_module": "@jupyter-widgets/controls",
            "_model_module_version": "1.5.0",
            "value": " 4/4 [00:02&lt;00:00,  1.94 file/s]",
            "_view_count": null,
            "_view_module_version": "1.5.0",
            "description_tooltip": null,
            "_model_module": "@jupyter-widgets/controls",
            "layout": "IPY_MODEL_07eff01661c8435c86af1153a81e0bbc"
          }
        },
        "70542c7fb41a44a08dbf2ee8bfc8eda2": {
          "model_module": "@jupyter-widgets/controls",
          "model_name": "ProgressStyleModel",
          "state": {
            "_view_name": "StyleView",
            "_model_name": "ProgressStyleModel",
            "description_width": "initial",
            "_view_module": "@jupyter-widgets/base",
            "_model_module_version": "1.5.0",
            "_view_count": null,
            "_view_module_version": "1.2.0",
            "bar_color": null,
            "_model_module": "@jupyter-widgets/controls"
          }
        },
        "79b51e5f2252440db5573d702f637ff9": {
          "model_module": "@jupyter-widgets/base",
          "model_name": "LayoutModel",
          "state": {
            "_view_name": "LayoutView",
            "grid_template_rows": null,
            "right": null,
            "justify_content": null,
            "_view_module": "@jupyter-widgets/base",
            "overflow": null,
            "_model_module_version": "1.2.0",
            "_view_count": null,
            "flex_flow": null,
            "width": null,
            "min_width": null,
            "border": null,
            "align_items": null,
            "bottom": null,
            "_model_module": "@jupyter-widgets/base",
            "top": null,
            "grid_column": null,
            "overflow_y": null,
            "overflow_x": null,
            "grid_auto_flow": null,
            "grid_area": null,
            "grid_template_columns": null,
            "flex": null,
            "_model_name": "LayoutModel",
            "justify_items": null,
            "grid_row": null,
            "max_height": null,
            "align_content": null,
            "visibility": null,
            "align_self": null,
            "height": null,
            "min_height": null,
            "padding": null,
            "grid_auto_rows": null,
            "grid_gap": null,
            "max_width": null,
            "order": null,
            "_view_module_version": "1.2.0",
            "grid_template_areas": null,
            "object_position": null,
            "object_fit": null,
            "grid_auto_columns": null,
            "margin": null,
            "display": null,
            "left": null
          }
        },
        "37119518ca144223b109e2047a0411ed": {
          "model_module": "@jupyter-widgets/controls",
          "model_name": "DescriptionStyleModel",
          "state": {
            "_view_name": "StyleView",
            "_model_name": "DescriptionStyleModel",
            "description_width": "",
            "_view_module": "@jupyter-widgets/base",
            "_model_module_version": "1.5.0",
            "_view_count": null,
            "_view_module_version": "1.2.0",
            "_model_module": "@jupyter-widgets/controls"
          }
        },
        "07eff01661c8435c86af1153a81e0bbc": {
          "model_module": "@jupyter-widgets/base",
          "model_name": "LayoutModel",
          "state": {
            "_view_name": "LayoutView",
            "grid_template_rows": null,
            "right": null,
            "justify_content": null,
            "_view_module": "@jupyter-widgets/base",
            "overflow": null,
            "_model_module_version": "1.2.0",
            "_view_count": null,
            "flex_flow": null,
            "width": null,
            "min_width": null,
            "border": null,
            "align_items": null,
            "bottom": null,
            "_model_module": "@jupyter-widgets/base",
            "top": null,
            "grid_column": null,
            "overflow_y": null,
            "overflow_x": null,
            "grid_auto_flow": null,
            "grid_area": null,
            "grid_template_columns": null,
            "flex": null,
            "_model_name": "LayoutModel",
            "justify_items": null,
            "grid_row": null,
            "max_height": null,
            "align_content": null,
            "visibility": null,
            "align_self": null,
            "height": null,
            "min_height": null,
            "padding": null,
            "grid_auto_rows": null,
            "grid_gap": null,
            "max_width": null,
            "order": null,
            "_view_module_version": "1.2.0",
            "grid_template_areas": null,
            "object_position": null,
            "object_fit": null,
            "grid_auto_columns": null,
            "margin": null,
            "display": null,
            "left": null
          }
        },
        "d42b82e3faa9464f921d390a2e171a77": {
          "model_module": "@jupyter-widgets/controls",
          "model_name": "HBoxModel",
          "state": {
            "_view_name": "HBoxView",
            "_dom_classes": [],
            "_model_name": "HBoxModel",
            "_view_module": "@jupyter-widgets/controls",
            "_model_module_version": "1.5.0",
            "_view_count": null,
            "_view_module_version": "1.5.0",
            "box_style": "",
            "layout": "IPY_MODEL_141e2da4f8834724bd4539bf1a78a3fc",
            "_model_module": "@jupyter-widgets/controls",
            "children": [
              "IPY_MODEL_8292d6362a8d4b3e963304d9dd2e4adf",
              "IPY_MODEL_7e1e241c42c94e0fa77df91bef47847f"
            ]
          }
        },
        "141e2da4f8834724bd4539bf1a78a3fc": {
          "model_module": "@jupyter-widgets/base",
          "model_name": "LayoutModel",
          "state": {
            "_view_name": "LayoutView",
            "grid_template_rows": null,
            "right": null,
            "justify_content": null,
            "_view_module": "@jupyter-widgets/base",
            "overflow": null,
            "_model_module_version": "1.2.0",
            "_view_count": null,
            "flex_flow": null,
            "width": null,
            "min_width": null,
            "border": null,
            "align_items": null,
            "bottom": null,
            "_model_module": "@jupyter-widgets/base",
            "top": null,
            "grid_column": null,
            "overflow_y": null,
            "overflow_x": null,
            "grid_auto_flow": null,
            "grid_area": null,
            "grid_template_columns": null,
            "flex": null,
            "_model_name": "LayoutModel",
            "justify_items": null,
            "grid_row": null,
            "max_height": null,
            "align_content": null,
            "visibility": null,
            "align_self": null,
            "height": null,
            "min_height": null,
            "padding": null,
            "grid_auto_rows": null,
            "grid_gap": null,
            "max_width": null,
            "order": null,
            "_view_module_version": "1.2.0",
            "grid_template_areas": null,
            "object_position": null,
            "object_fit": null,
            "grid_auto_columns": null,
            "margin": null,
            "display": null,
            "left": null
          }
        },
        "8292d6362a8d4b3e963304d9dd2e4adf": {
          "model_module": "@jupyter-widgets/controls",
          "model_name": "FloatProgressModel",
          "state": {
            "_view_name": "ProgressView",
            "style": "IPY_MODEL_b0939a5e4c8e4d42adff437b4ddbd0aa",
            "_dom_classes": [],
            "description": "",
            "_model_name": "FloatProgressModel",
            "bar_style": "info",
            "max": 1,
            "_view_module": "@jupyter-widgets/controls",
            "_model_module_version": "1.5.0",
            "value": 1,
            "_view_count": null,
            "_view_module_version": "1.5.0",
            "orientation": "horizontal",
            "min": 0,
            "description_tooltip": null,
            "_model_module": "@jupyter-widgets/controls",
            "layout": "IPY_MODEL_888a23a2728b4e4cb3ff119e1f6497b9"
          }
        },
        "7e1e241c42c94e0fa77df91bef47847f": {
          "model_module": "@jupyter-widgets/controls",
          "model_name": "HTMLModel",
          "state": {
            "_view_name": "HTMLView",
            "style": "IPY_MODEL_85d11bfa5be64c6f84f3290a2b35bf2b",
            "_dom_classes": [],
            "description": "",
            "_model_name": "HTMLModel",
            "placeholder": "​",
            "_view_module": "@jupyter-widgets/controls",
            "_model_module_version": "1.5.0",
            "value": " 60000/0 [00:28&lt;00:00, 2970.44 examples/s]",
            "_view_count": null,
            "_view_module_version": "1.5.0",
            "description_tooltip": null,
            "_model_module": "@jupyter-widgets/controls",
            "layout": "IPY_MODEL_0d5915c57b794b3aa26c9dbf9f255b3b"
          }
        },
        "b0939a5e4c8e4d42adff437b4ddbd0aa": {
          "model_module": "@jupyter-widgets/controls",
          "model_name": "ProgressStyleModel",
          "state": {
            "_view_name": "StyleView",
            "_model_name": "ProgressStyleModel",
            "description_width": "initial",
            "_view_module": "@jupyter-widgets/base",
            "_model_module_version": "1.5.0",
            "_view_count": null,
            "_view_module_version": "1.2.0",
            "bar_color": null,
            "_model_module": "@jupyter-widgets/controls"
          }
        },
        "888a23a2728b4e4cb3ff119e1f6497b9": {
          "model_module": "@jupyter-widgets/base",
          "model_name": "LayoutModel",
          "state": {
            "_view_name": "LayoutView",
            "grid_template_rows": null,
            "right": null,
            "justify_content": null,
            "_view_module": "@jupyter-widgets/base",
            "overflow": null,
            "_model_module_version": "1.2.0",
            "_view_count": null,
            "flex_flow": null,
            "width": null,
            "min_width": null,
            "border": null,
            "align_items": null,
            "bottom": null,
            "_model_module": "@jupyter-widgets/base",
            "top": null,
            "grid_column": null,
            "overflow_y": null,
            "overflow_x": null,
            "grid_auto_flow": null,
            "grid_area": null,
            "grid_template_columns": null,
            "flex": null,
            "_model_name": "LayoutModel",
            "justify_items": null,
            "grid_row": null,
            "max_height": null,
            "align_content": null,
            "visibility": null,
            "align_self": null,
            "height": null,
            "min_height": null,
            "padding": null,
            "grid_auto_rows": null,
            "grid_gap": null,
            "max_width": null,
            "order": null,
            "_view_module_version": "1.2.0",
            "grid_template_areas": null,
            "object_position": null,
            "object_fit": null,
            "grid_auto_columns": null,
            "margin": null,
            "display": null,
            "left": null
          }
        },
        "85d11bfa5be64c6f84f3290a2b35bf2b": {
          "model_module": "@jupyter-widgets/controls",
          "model_name": "DescriptionStyleModel",
          "state": {
            "_view_name": "StyleView",
            "_model_name": "DescriptionStyleModel",
            "description_width": "",
            "_view_module": "@jupyter-widgets/base",
            "_model_module_version": "1.5.0",
            "_view_count": null,
            "_view_module_version": "1.2.0",
            "_model_module": "@jupyter-widgets/controls"
          }
        },
        "0d5915c57b794b3aa26c9dbf9f255b3b": {
          "model_module": "@jupyter-widgets/base",
          "model_name": "LayoutModel",
          "state": {
            "_view_name": "LayoutView",
            "grid_template_rows": null,
            "right": null,
            "justify_content": null,
            "_view_module": "@jupyter-widgets/base",
            "overflow": null,
            "_model_module_version": "1.2.0",
            "_view_count": null,
            "flex_flow": null,
            "width": null,
            "min_width": null,
            "border": null,
            "align_items": null,
            "bottom": null,
            "_model_module": "@jupyter-widgets/base",
            "top": null,
            "grid_column": null,
            "overflow_y": null,
            "overflow_x": null,
            "grid_auto_flow": null,
            "grid_area": null,
            "grid_template_columns": null,
            "flex": null,
            "_model_name": "LayoutModel",
            "justify_items": null,
            "grid_row": null,
            "max_height": null,
            "align_content": null,
            "visibility": null,
            "align_self": null,
            "height": null,
            "min_height": null,
            "padding": null,
            "grid_auto_rows": null,
            "grid_gap": null,
            "max_width": null,
            "order": null,
            "_view_module_version": "1.2.0",
            "grid_template_areas": null,
            "object_position": null,
            "object_fit": null,
            "grid_auto_columns": null,
            "margin": null,
            "display": null,
            "left": null
          }
        },
        "23992aebab904c228c43fd3cdfe0aeae": {
          "model_module": "@jupyter-widgets/controls",
          "model_name": "HBoxModel",
          "state": {
            "_view_name": "HBoxView",
            "_dom_classes": [],
            "_model_name": "HBoxModel",
            "_view_module": "@jupyter-widgets/controls",
            "_model_module_version": "1.5.0",
            "_view_count": null,
            "_view_module_version": "1.5.0",
            "box_style": "",
            "layout": "IPY_MODEL_236b61d44340406e9ab92b33a41275ec",
            "_model_module": "@jupyter-widgets/controls",
            "children": [
              "IPY_MODEL_7890668ac5df4816a27ed843394ada69",
              "IPY_MODEL_73564ae586034357928d2e39205d88cc"
            ]
          }
        },
        "236b61d44340406e9ab92b33a41275ec": {
          "model_module": "@jupyter-widgets/base",
          "model_name": "LayoutModel",
          "state": {
            "_view_name": "LayoutView",
            "grid_template_rows": null,
            "right": null,
            "justify_content": null,
            "_view_module": "@jupyter-widgets/base",
            "overflow": null,
            "_model_module_version": "1.2.0",
            "_view_count": null,
            "flex_flow": null,
            "width": null,
            "min_width": null,
            "border": null,
            "align_items": null,
            "bottom": null,
            "_model_module": "@jupyter-widgets/base",
            "top": null,
            "grid_column": null,
            "overflow_y": null,
            "overflow_x": null,
            "grid_auto_flow": null,
            "grid_area": null,
            "grid_template_columns": null,
            "flex": null,
            "_model_name": "LayoutModel",
            "justify_items": null,
            "grid_row": null,
            "max_height": null,
            "align_content": null,
            "visibility": null,
            "align_self": null,
            "height": null,
            "min_height": null,
            "padding": null,
            "grid_auto_rows": null,
            "grid_gap": null,
            "max_width": null,
            "order": null,
            "_view_module_version": "1.2.0",
            "grid_template_areas": null,
            "object_position": null,
            "object_fit": null,
            "grid_auto_columns": null,
            "margin": null,
            "display": null,
            "left": null
          }
        },
        "7890668ac5df4816a27ed843394ada69": {
          "model_module": "@jupyter-widgets/controls",
          "model_name": "FloatProgressModel",
          "state": {
            "_view_name": "ProgressView",
            "style": "IPY_MODEL_40574cdc78f84e02af3ba1b2e99bb49a",
            "_dom_classes": [],
            "description": " 91%",
            "_model_name": "FloatProgressModel",
            "bar_style": "danger",
            "max": 60000,
            "_view_module": "@jupyter-widgets/controls",
            "_model_module_version": "1.5.0",
            "value": 54359,
            "_view_count": null,
            "_view_module_version": "1.5.0",
            "orientation": "horizontal",
            "min": 0,
            "description_tooltip": null,
            "_model_module": "@jupyter-widgets/controls",
            "layout": "IPY_MODEL_dede6696835b47e395ee277bbd0ccb0b"
          }
        },
        "73564ae586034357928d2e39205d88cc": {
          "model_module": "@jupyter-widgets/controls",
          "model_name": "HTMLModel",
          "state": {
            "_view_name": "HTMLView",
            "style": "IPY_MODEL_645e029d7a6a427c9bb7186afbd68dab",
            "_dom_classes": [],
            "description": "",
            "_model_name": "HTMLModel",
            "placeholder": "​",
            "_view_module": "@jupyter-widgets/controls",
            "_model_module_version": "1.5.0",
            "value": " 54359/60000 [00:00&lt;00:00, 118732.65 examples/s]",
            "_view_count": null,
            "_view_module_version": "1.5.0",
            "description_tooltip": null,
            "_model_module": "@jupyter-widgets/controls",
            "layout": "IPY_MODEL_4011e09026274375bf309f74ee97f382"
          }
        },
        "40574cdc78f84e02af3ba1b2e99bb49a": {
          "model_module": "@jupyter-widgets/controls",
          "model_name": "ProgressStyleModel",
          "state": {
            "_view_name": "StyleView",
            "_model_name": "ProgressStyleModel",
            "description_width": "initial",
            "_view_module": "@jupyter-widgets/base",
            "_model_module_version": "1.5.0",
            "_view_count": null,
            "_view_module_version": "1.2.0",
            "bar_color": null,
            "_model_module": "@jupyter-widgets/controls"
          }
        },
        "dede6696835b47e395ee277bbd0ccb0b": {
          "model_module": "@jupyter-widgets/base",
          "model_name": "LayoutModel",
          "state": {
            "_view_name": "LayoutView",
            "grid_template_rows": null,
            "right": null,
            "justify_content": null,
            "_view_module": "@jupyter-widgets/base",
            "overflow": null,
            "_model_module_version": "1.2.0",
            "_view_count": null,
            "flex_flow": null,
            "width": null,
            "min_width": null,
            "border": null,
            "align_items": null,
            "bottom": null,
            "_model_module": "@jupyter-widgets/base",
            "top": null,
            "grid_column": null,
            "overflow_y": null,
            "overflow_x": null,
            "grid_auto_flow": null,
            "grid_area": null,
            "grid_template_columns": null,
            "flex": null,
            "_model_name": "LayoutModel",
            "justify_items": null,
            "grid_row": null,
            "max_height": null,
            "align_content": null,
            "visibility": null,
            "align_self": null,
            "height": null,
            "min_height": null,
            "padding": null,
            "grid_auto_rows": null,
            "grid_gap": null,
            "max_width": null,
            "order": null,
            "_view_module_version": "1.2.0",
            "grid_template_areas": null,
            "object_position": null,
            "object_fit": null,
            "grid_auto_columns": null,
            "margin": null,
            "display": null,
            "left": null
          }
        },
        "645e029d7a6a427c9bb7186afbd68dab": {
          "model_module": "@jupyter-widgets/controls",
          "model_name": "DescriptionStyleModel",
          "state": {
            "_view_name": "StyleView",
            "_model_name": "DescriptionStyleModel",
            "description_width": "",
            "_view_module": "@jupyter-widgets/base",
            "_model_module_version": "1.5.0",
            "_view_count": null,
            "_view_module_version": "1.2.0",
            "_model_module": "@jupyter-widgets/controls"
          }
        },
        "4011e09026274375bf309f74ee97f382": {
          "model_module": "@jupyter-widgets/base",
          "model_name": "LayoutModel",
          "state": {
            "_view_name": "LayoutView",
            "grid_template_rows": null,
            "right": null,
            "justify_content": null,
            "_view_module": "@jupyter-widgets/base",
            "overflow": null,
            "_model_module_version": "1.2.0",
            "_view_count": null,
            "flex_flow": null,
            "width": null,
            "min_width": null,
            "border": null,
            "align_items": null,
            "bottom": null,
            "_model_module": "@jupyter-widgets/base",
            "top": null,
            "grid_column": null,
            "overflow_y": null,
            "overflow_x": null,
            "grid_auto_flow": null,
            "grid_area": null,
            "grid_template_columns": null,
            "flex": null,
            "_model_name": "LayoutModel",
            "justify_items": null,
            "grid_row": null,
            "max_height": null,
            "align_content": null,
            "visibility": null,
            "align_self": null,
            "height": null,
            "min_height": null,
            "padding": null,
            "grid_auto_rows": null,
            "grid_gap": null,
            "max_width": null,
            "order": null,
            "_view_module_version": "1.2.0",
            "grid_template_areas": null,
            "object_position": null,
            "object_fit": null,
            "grid_auto_columns": null,
            "margin": null,
            "display": null,
            "left": null
          }
        },
        "63a916e50a784ee7b85c4234c93395cd": {
          "model_module": "@jupyter-widgets/controls",
          "model_name": "HBoxModel",
          "state": {
            "_view_name": "HBoxView",
            "_dom_classes": [],
            "_model_name": "HBoxModel",
            "_view_module": "@jupyter-widgets/controls",
            "_model_module_version": "1.5.0",
            "_view_count": null,
            "_view_module_version": "1.5.0",
            "box_style": "",
            "layout": "IPY_MODEL_159633284d304beda198490c268b1823",
            "_model_module": "@jupyter-widgets/controls",
            "children": [
              "IPY_MODEL_ab81fdbecb434b02b3983297d3fa66fd",
              "IPY_MODEL_44b9ce2387984d759f6895347b95d185"
            ]
          }
        },
        "159633284d304beda198490c268b1823": {
          "model_module": "@jupyter-widgets/base",
          "model_name": "LayoutModel",
          "state": {
            "_view_name": "LayoutView",
            "grid_template_rows": null,
            "right": null,
            "justify_content": null,
            "_view_module": "@jupyter-widgets/base",
            "overflow": null,
            "_model_module_version": "1.2.0",
            "_view_count": null,
            "flex_flow": null,
            "width": null,
            "min_width": null,
            "border": null,
            "align_items": null,
            "bottom": null,
            "_model_module": "@jupyter-widgets/base",
            "top": null,
            "grid_column": null,
            "overflow_y": null,
            "overflow_x": null,
            "grid_auto_flow": null,
            "grid_area": null,
            "grid_template_columns": null,
            "flex": null,
            "_model_name": "LayoutModel",
            "justify_items": null,
            "grid_row": null,
            "max_height": null,
            "align_content": null,
            "visibility": null,
            "align_self": null,
            "height": null,
            "min_height": null,
            "padding": null,
            "grid_auto_rows": null,
            "grid_gap": null,
            "max_width": null,
            "order": null,
            "_view_module_version": "1.2.0",
            "grid_template_areas": null,
            "object_position": null,
            "object_fit": null,
            "grid_auto_columns": null,
            "margin": null,
            "display": null,
            "left": null
          }
        },
        "ab81fdbecb434b02b3983297d3fa66fd": {
          "model_module": "@jupyter-widgets/controls",
          "model_name": "FloatProgressModel",
          "state": {
            "_view_name": "ProgressView",
            "style": "IPY_MODEL_92157e899dd04582bdac54cb7f85e2f0",
            "_dom_classes": [],
            "description": "",
            "_model_name": "FloatProgressModel",
            "bar_style": "info",
            "max": 1,
            "_view_module": "@jupyter-widgets/controls",
            "_model_module_version": "1.5.0",
            "value": 1,
            "_view_count": null,
            "_view_module_version": "1.5.0",
            "orientation": "horizontal",
            "min": 0,
            "description_tooltip": null,
            "_model_module": "@jupyter-widgets/controls",
            "layout": "IPY_MODEL_3d67d63cbff74baf92b4b59c74200392"
          }
        },
        "44b9ce2387984d759f6895347b95d185": {
          "model_module": "@jupyter-widgets/controls",
          "model_name": "HTMLModel",
          "state": {
            "_view_name": "HTMLView",
            "style": "IPY_MODEL_4edb15920ff048c68d37143d04b68b46",
            "_dom_classes": [],
            "description": "",
            "_model_name": "HTMLModel",
            "placeholder": "​",
            "_view_module": "@jupyter-widgets/controls",
            "_model_module_version": "1.5.0",
            "value": " 10000/0 [00:03&lt;00:00, 2935.37 examples/s]",
            "_view_count": null,
            "_view_module_version": "1.5.0",
            "description_tooltip": null,
            "_model_module": "@jupyter-widgets/controls",
            "layout": "IPY_MODEL_2101d8c9b616402a802334c254fd3350"
          }
        },
        "92157e899dd04582bdac54cb7f85e2f0": {
          "model_module": "@jupyter-widgets/controls",
          "model_name": "ProgressStyleModel",
          "state": {
            "_view_name": "StyleView",
            "_model_name": "ProgressStyleModel",
            "description_width": "initial",
            "_view_module": "@jupyter-widgets/base",
            "_model_module_version": "1.5.0",
            "_view_count": null,
            "_view_module_version": "1.2.0",
            "bar_color": null,
            "_model_module": "@jupyter-widgets/controls"
          }
        },
        "3d67d63cbff74baf92b4b59c74200392": {
          "model_module": "@jupyter-widgets/base",
          "model_name": "LayoutModel",
          "state": {
            "_view_name": "LayoutView",
            "grid_template_rows": null,
            "right": null,
            "justify_content": null,
            "_view_module": "@jupyter-widgets/base",
            "overflow": null,
            "_model_module_version": "1.2.0",
            "_view_count": null,
            "flex_flow": null,
            "width": null,
            "min_width": null,
            "border": null,
            "align_items": null,
            "bottom": null,
            "_model_module": "@jupyter-widgets/base",
            "top": null,
            "grid_column": null,
            "overflow_y": null,
            "overflow_x": null,
            "grid_auto_flow": null,
            "grid_area": null,
            "grid_template_columns": null,
            "flex": null,
            "_model_name": "LayoutModel",
            "justify_items": null,
            "grid_row": null,
            "max_height": null,
            "align_content": null,
            "visibility": null,
            "align_self": null,
            "height": null,
            "min_height": null,
            "padding": null,
            "grid_auto_rows": null,
            "grid_gap": null,
            "max_width": null,
            "order": null,
            "_view_module_version": "1.2.0",
            "grid_template_areas": null,
            "object_position": null,
            "object_fit": null,
            "grid_auto_columns": null,
            "margin": null,
            "display": null,
            "left": null
          }
        },
        "4edb15920ff048c68d37143d04b68b46": {
          "model_module": "@jupyter-widgets/controls",
          "model_name": "DescriptionStyleModel",
          "state": {
            "_view_name": "StyleView",
            "_model_name": "DescriptionStyleModel",
            "description_width": "",
            "_view_module": "@jupyter-widgets/base",
            "_model_module_version": "1.5.0",
            "_view_count": null,
            "_view_module_version": "1.2.0",
            "_model_module": "@jupyter-widgets/controls"
          }
        },
        "2101d8c9b616402a802334c254fd3350": {
          "model_module": "@jupyter-widgets/base",
          "model_name": "LayoutModel",
          "state": {
            "_view_name": "LayoutView",
            "grid_template_rows": null,
            "right": null,
            "justify_content": null,
            "_view_module": "@jupyter-widgets/base",
            "overflow": null,
            "_model_module_version": "1.2.0",
            "_view_count": null,
            "flex_flow": null,
            "width": null,
            "min_width": null,
            "border": null,
            "align_items": null,
            "bottom": null,
            "_model_module": "@jupyter-widgets/base",
            "top": null,
            "grid_column": null,
            "overflow_y": null,
            "overflow_x": null,
            "grid_auto_flow": null,
            "grid_area": null,
            "grid_template_columns": null,
            "flex": null,
            "_model_name": "LayoutModel",
            "justify_items": null,
            "grid_row": null,
            "max_height": null,
            "align_content": null,
            "visibility": null,
            "align_self": null,
            "height": null,
            "min_height": null,
            "padding": null,
            "grid_auto_rows": null,
            "grid_gap": null,
            "max_width": null,
            "order": null,
            "_view_module_version": "1.2.0",
            "grid_template_areas": null,
            "object_position": null,
            "object_fit": null,
            "grid_auto_columns": null,
            "margin": null,
            "display": null,
            "left": null
          }
        },
        "1dc0db6898e24dceb3cf79ee4cca81d4": {
          "model_module": "@jupyter-widgets/controls",
          "model_name": "HBoxModel",
          "state": {
            "_view_name": "HBoxView",
            "_dom_classes": [],
            "_model_name": "HBoxModel",
            "_view_module": "@jupyter-widgets/controls",
            "_model_module_version": "1.5.0",
            "_view_count": null,
            "_view_module_version": "1.5.0",
            "box_style": "",
            "layout": "IPY_MODEL_91e44b75f6ca43c3b35bad19c1ef3314",
            "_model_module": "@jupyter-widgets/controls",
            "children": [
              "IPY_MODEL_56429e648a624c799f841e4c84206507",
              "IPY_MODEL_b9445a1341414dba99a78e1fc70337b4"
            ]
          }
        },
        "91e44b75f6ca43c3b35bad19c1ef3314": {
          "model_module": "@jupyter-widgets/base",
          "model_name": "LayoutModel",
          "state": {
            "_view_name": "LayoutView",
            "grid_template_rows": null,
            "right": null,
            "justify_content": null,
            "_view_module": "@jupyter-widgets/base",
            "overflow": null,
            "_model_module_version": "1.2.0",
            "_view_count": null,
            "flex_flow": null,
            "width": null,
            "min_width": null,
            "border": null,
            "align_items": null,
            "bottom": null,
            "_model_module": "@jupyter-widgets/base",
            "top": null,
            "grid_column": null,
            "overflow_y": null,
            "overflow_x": null,
            "grid_auto_flow": null,
            "grid_area": null,
            "grid_template_columns": null,
            "flex": null,
            "_model_name": "LayoutModel",
            "justify_items": null,
            "grid_row": null,
            "max_height": null,
            "align_content": null,
            "visibility": null,
            "align_self": null,
            "height": null,
            "min_height": null,
            "padding": null,
            "grid_auto_rows": null,
            "grid_gap": null,
            "max_width": null,
            "order": null,
            "_view_module_version": "1.2.0",
            "grid_template_areas": null,
            "object_position": null,
            "object_fit": null,
            "grid_auto_columns": null,
            "margin": null,
            "display": null,
            "left": null
          }
        },
        "56429e648a624c799f841e4c84206507": {
          "model_module": "@jupyter-widgets/controls",
          "model_name": "FloatProgressModel",
          "state": {
            "_view_name": "ProgressView",
            "style": "IPY_MODEL_de389abab427496a848bc54d9551ea8a",
            "_dom_classes": [],
            "description": "  0%",
            "_model_name": "FloatProgressModel",
            "bar_style": "danger",
            "max": 10000,
            "_view_module": "@jupyter-widgets/controls",
            "_model_module_version": "1.5.0",
            "value": 0,
            "_view_count": null,
            "_view_module_version": "1.5.0",
            "orientation": "horizontal",
            "min": 0,
            "description_tooltip": null,
            "_model_module": "@jupyter-widgets/controls",
            "layout": "IPY_MODEL_0136650c32e2439b888db4f6db7bbd64"
          }
        },
        "b9445a1341414dba99a78e1fc70337b4": {
          "model_module": "@jupyter-widgets/controls",
          "model_name": "HTMLModel",
          "state": {
            "_view_name": "HTMLView",
            "style": "IPY_MODEL_ac064d2498224f93acebefc9bbc6966b",
            "_dom_classes": [],
            "description": "",
            "_model_name": "HTMLModel",
            "placeholder": "​",
            "_view_module": "@jupyter-widgets/controls",
            "_model_module_version": "1.5.0",
            "value": " 0/10000 [00:00&lt;?, ? examples/s]",
            "_view_count": null,
            "_view_module_version": "1.5.0",
            "description_tooltip": null,
            "_model_module": "@jupyter-widgets/controls",
            "layout": "IPY_MODEL_304f022f656444f29ebf4d08ce09c19b"
          }
        },
        "de389abab427496a848bc54d9551ea8a": {
          "model_module": "@jupyter-widgets/controls",
          "model_name": "ProgressStyleModel",
          "state": {
            "_view_name": "StyleView",
            "_model_name": "ProgressStyleModel",
            "description_width": "initial",
            "_view_module": "@jupyter-widgets/base",
            "_model_module_version": "1.5.0",
            "_view_count": null,
            "_view_module_version": "1.2.0",
            "bar_color": null,
            "_model_module": "@jupyter-widgets/controls"
          }
        },
        "0136650c32e2439b888db4f6db7bbd64": {
          "model_module": "@jupyter-widgets/base",
          "model_name": "LayoutModel",
          "state": {
            "_view_name": "LayoutView",
            "grid_template_rows": null,
            "right": null,
            "justify_content": null,
            "_view_module": "@jupyter-widgets/base",
            "overflow": null,
            "_model_module_version": "1.2.0",
            "_view_count": null,
            "flex_flow": null,
            "width": null,
            "min_width": null,
            "border": null,
            "align_items": null,
            "bottom": null,
            "_model_module": "@jupyter-widgets/base",
            "top": null,
            "grid_column": null,
            "overflow_y": null,
            "overflow_x": null,
            "grid_auto_flow": null,
            "grid_area": null,
            "grid_template_columns": null,
            "flex": null,
            "_model_name": "LayoutModel",
            "justify_items": null,
            "grid_row": null,
            "max_height": null,
            "align_content": null,
            "visibility": null,
            "align_self": null,
            "height": null,
            "min_height": null,
            "padding": null,
            "grid_auto_rows": null,
            "grid_gap": null,
            "max_width": null,
            "order": null,
            "_view_module_version": "1.2.0",
            "grid_template_areas": null,
            "object_position": null,
            "object_fit": null,
            "grid_auto_columns": null,
            "margin": null,
            "display": null,
            "left": null
          }
        },
        "ac064d2498224f93acebefc9bbc6966b": {
          "model_module": "@jupyter-widgets/controls",
          "model_name": "DescriptionStyleModel",
          "state": {
            "_view_name": "StyleView",
            "_model_name": "DescriptionStyleModel",
            "description_width": "",
            "_view_module": "@jupyter-widgets/base",
            "_model_module_version": "1.5.0",
            "_view_count": null,
            "_view_module_version": "1.2.0",
            "_model_module": "@jupyter-widgets/controls"
          }
        },
        "304f022f656444f29ebf4d08ce09c19b": {
          "model_module": "@jupyter-widgets/base",
          "model_name": "LayoutModel",
          "state": {
            "_view_name": "LayoutView",
            "grid_template_rows": null,
            "right": null,
            "justify_content": null,
            "_view_module": "@jupyter-widgets/base",
            "overflow": null,
            "_model_module_version": "1.2.0",
            "_view_count": null,
            "flex_flow": null,
            "width": null,
            "min_width": null,
            "border": null,
            "align_items": null,
            "bottom": null,
            "_model_module": "@jupyter-widgets/base",
            "top": null,
            "grid_column": null,
            "overflow_y": null,
            "overflow_x": null,
            "grid_auto_flow": null,
            "grid_area": null,
            "grid_template_columns": null,
            "flex": null,
            "_model_name": "LayoutModel",
            "justify_items": null,
            "grid_row": null,
            "max_height": null,
            "align_content": null,
            "visibility": null,
            "align_self": null,
            "height": null,
            "min_height": null,
            "padding": null,
            "grid_auto_rows": null,
            "grid_gap": null,
            "max_width": null,
            "order": null,
            "_view_module_version": "1.2.0",
            "grid_template_areas": null,
            "object_position": null,
            "object_fit": null,
            "grid_auto_columns": null,
            "margin": null,
            "display": null,
            "left": null
          }
        }
      }
    }
  },
  "cells": [
    {
      "cell_type": "markdown",
      "metadata": {
        "id": "view-in-github",
        "colab_type": "text"
      },
      "source": [
        "<a href=\"https://colab.research.google.com/github/ProfAI/tf00/blob/master/3%20-%20Funzioni%20di%20costo%2C%20attivazione%20e%20ottimizzazione/learningrate_momentum_rmsprop.ipynb\" target=\"_parent\"><img src=\"https://colab.research.google.com/assets/colab-badge.svg\" alt=\"Open In Colab\"/></a>"
      ]
    },
    {
      "cell_type": "markdown",
      "metadata": {
        "id": "eNreuqjf36en",
        "colab_type": "text"
      },
      "source": [
        "# Learning Rate e Momentum\n",
        "In questo notebook vedremo come utilizzare Learning Rate e Momentum per migliorare la fase di addestramento di una Rete Neurale"
      ]
    },
    {
      "cell_type": "markdown",
      "metadata": {
        "id": "fCXh_b98Xy9U",
        "colab_type": "text"
      },
      "source": [
        "## Importiamo i Moduli"
      ]
    },
    {
      "cell_type": "code",
      "metadata": {
        "id": "V-WGUWvE33JP",
        "colab_type": "code",
        "colab": {}
      },
      "source": [
        "import numpy as np\n",
        "\n",
        "import tensorflow as tf\n",
        "import tensorflow_datasets as tfds\n",
        "\n",
        "from sklearn.model_selection import train_test_split\n",
        "import matplotlib.pyplot as plt\n",
        "\n",
        "from time import time"
      ],
      "execution_count": null,
      "outputs": []
    },
    {
      "cell_type": "markdown",
      "metadata": {
        "id": "UkVxK_ndXvZZ",
        "colab_type": "text"
      },
      "source": [
        "## Prepariamo i Dati"
      ]
    },
    {
      "cell_type": "code",
      "metadata": {
        "id": "4ngGUhNU3-We",
        "colab_type": "code",
        "colab": {
          "base_uri": "https://localhost:8080/",
          "height": 371,
          "referenced_widgets": [
            "5db3e50bd8d34ff5ad2d62841adc9d4f",
            "fb471248e5924b61b9ec01ee768c9e87",
            "b1f6db235604442c991ebffd68d55db3",
            "108d12261c024a9c8c23ece8fb78bfcd",
            "23e9c48cd94a45a8be706c2084d1ba63",
            "213241e59b7e4dd88374dd62a31e6036",
            "ad9dd7b6f50d493b86c4d886d1c3023a",
            "d89b6483a29549f8988d979ade1f2189",
            "9c073126e2e74dd4aebfbf97b9f1848c",
            "42fe01db4a034584b1f6f9dc53071ae3",
            "6fc14a6906fd476ca2744a1cde21e699",
            "496915b139ca4798b83c9e3e1b205fee",
            "e8e5ff3c32eb41908692a444aef13715",
            "8ee77f162038411395f36259acb0681a",
            "f1178912811743749ea15983ac927212",
            "da9fce75bc8c4308b952fbb1e68e1c75",
            "14bc8d90409a41b7aef3ddf25eca503a",
            "3fdfe62d9a314641bd7962d0ee978d7f",
            "1b111dc4ff3d4d61ab097b4f30ad7415",
            "edce56ce833646dd99dfea5bacf4178d",
            "70542c7fb41a44a08dbf2ee8bfc8eda2",
            "79b51e5f2252440db5573d702f637ff9",
            "37119518ca144223b109e2047a0411ed",
            "07eff01661c8435c86af1153a81e0bbc",
            "d42b82e3faa9464f921d390a2e171a77",
            "141e2da4f8834724bd4539bf1a78a3fc",
            "8292d6362a8d4b3e963304d9dd2e4adf",
            "7e1e241c42c94e0fa77df91bef47847f",
            "b0939a5e4c8e4d42adff437b4ddbd0aa",
            "888a23a2728b4e4cb3ff119e1f6497b9",
            "85d11bfa5be64c6f84f3290a2b35bf2b",
            "0d5915c57b794b3aa26c9dbf9f255b3b",
            "23992aebab904c228c43fd3cdfe0aeae",
            "236b61d44340406e9ab92b33a41275ec",
            "7890668ac5df4816a27ed843394ada69",
            "73564ae586034357928d2e39205d88cc",
            "40574cdc78f84e02af3ba1b2e99bb49a",
            "dede6696835b47e395ee277bbd0ccb0b",
            "645e029d7a6a427c9bb7186afbd68dab",
            "4011e09026274375bf309f74ee97f382",
            "63a916e50a784ee7b85c4234c93395cd",
            "159633284d304beda198490c268b1823",
            "ab81fdbecb434b02b3983297d3fa66fd",
            "44b9ce2387984d759f6895347b95d185",
            "92157e899dd04582bdac54cb7f85e2f0",
            "3d67d63cbff74baf92b4b59c74200392",
            "4edb15920ff048c68d37143d04b68b46",
            "2101d8c9b616402a802334c254fd3350",
            "1dc0db6898e24dceb3cf79ee4cca81d4",
            "91e44b75f6ca43c3b35bad19c1ef3314",
            "56429e648a624c799f841e4c84206507",
            "b9445a1341414dba99a78e1fc70337b4",
            "de389abab427496a848bc54d9551ea8a",
            "0136650c32e2439b888db4f6db7bbd64",
            "ac064d2498224f93acebefc9bbc6966b",
            "304f022f656444f29ebf4d08ce09c19b"
          ]
        },
        "outputId": "3661fda9-3722-4e0f-94c1-093662982e56"
      },
      "source": [
        "def load_data(dataset, num_samples=None):\n",
        "  images = []\n",
        "  labels = []\n",
        "\n",
        "  for i, example in enumerate(tfds.as_numpy(dataset)):\n",
        "\n",
        "    if(num_samples!=None and i>=num_samples):\n",
        "      break\n",
        "\n",
        "    images.append(example[\"image\"])\n",
        "    labels.append(example[\"label\"])\n",
        "\n",
        "  images = np.array(images)\n",
        "  labels = np.array(labels)\n",
        "\n",
        "  return images, labels\n",
        "\n",
        "\n",
        "dataset = tfds.load('fashion_mnist', split='train', shuffle_files=True)\n",
        "images, labels = load_data(dataset)\n",
        "num_classes = np.unique(labels).shape[0]\n",
        "\n",
        "X = images.reshape(images.shape[0], images.shape[1]*images.shape[2])\n",
        "y = tf.one_hot(labels, num_classes).numpy()\n",
        "\n",
        "X_train, X_test, y_train, y_test = train_test_split(X, y, test_size=0.3)\n",
        "\n",
        "X_train = X_train/255\n",
        "X_test = X_test/255"
      ],
      "execution_count": null,
      "outputs": [
        {
          "output_type": "stream",
          "text": [
            "\u001b[1mDownloading and preparing dataset fashion_mnist/3.0.0 (download: 29.45 MiB, generated: Unknown size, total: 29.45 MiB) to /root/tensorflow_datasets/fashion_mnist/3.0.0...\u001b[0m\n"
          ],
          "name": "stdout"
        },
        {
          "output_type": "display_data",
          "data": {
            "application/vnd.jupyter.widget-view+json": {
              "model_id": "5db3e50bd8d34ff5ad2d62841adc9d4f",
              "version_minor": 0,
              "version_major": 2
            },
            "text/plain": [
              "HBox(children=(FloatProgress(value=1.0, bar_style='info', description='Dl Completed...', max=1.0, style=Progre…"
            ]
          },
          "metadata": {
            "tags": []
          }
        },
        {
          "output_type": "display_data",
          "data": {
            "application/vnd.jupyter.widget-view+json": {
              "model_id": "9c073126e2e74dd4aebfbf97b9f1848c",
              "version_minor": 0,
              "version_major": 2
            },
            "text/plain": [
              "HBox(children=(FloatProgress(value=1.0, bar_style='info', description='Dl Size...', max=1.0, style=ProgressSty…"
            ]
          },
          "metadata": {
            "tags": []
          }
        },
        {
          "output_type": "display_data",
          "data": {
            "application/vnd.jupyter.widget-view+json": {
              "model_id": "14bc8d90409a41b7aef3ddf25eca503a",
              "version_minor": 0,
              "version_major": 2
            },
            "text/plain": [
              "HBox(children=(FloatProgress(value=1.0, bar_style='info', description='Extraction completed...', max=1.0, styl…"
            ]
          },
          "metadata": {
            "tags": []
          }
        },
        {
          "output_type": "stream",
          "text": [
            "\n",
            "\n",
            "\n",
            "\n",
            "\n",
            "\n"
          ],
          "name": "stdout"
        },
        {
          "output_type": "display_data",
          "data": {
            "application/vnd.jupyter.widget-view+json": {
              "model_id": "d42b82e3faa9464f921d390a2e171a77",
              "version_minor": 0,
              "version_major": 2
            },
            "text/plain": [
              "HBox(children=(FloatProgress(value=1.0, bar_style='info', max=1.0), HTML(value='')))"
            ]
          },
          "metadata": {
            "tags": []
          }
        },
        {
          "output_type": "stream",
          "text": [
            "\rShuffling and writing examples to /root/tensorflow_datasets/fashion_mnist/3.0.0.incompleteZRAIMQ/fashion_mnist-train.tfrecord\n"
          ],
          "name": "stdout"
        },
        {
          "output_type": "display_data",
          "data": {
            "application/vnd.jupyter.widget-view+json": {
              "model_id": "23992aebab904c228c43fd3cdfe0aeae",
              "version_minor": 0,
              "version_major": 2
            },
            "text/plain": [
              "HBox(children=(FloatProgress(value=0.0, max=60000.0), HTML(value='')))"
            ]
          },
          "metadata": {
            "tags": []
          }
        },
        {
          "output_type": "stream",
          "text": [
            "\r"
          ],
          "name": "stdout"
        },
        {
          "output_type": "display_data",
          "data": {
            "application/vnd.jupyter.widget-view+json": {
              "model_id": "63a916e50a784ee7b85c4234c93395cd",
              "version_minor": 0,
              "version_major": 2
            },
            "text/plain": [
              "HBox(children=(FloatProgress(value=1.0, bar_style='info', max=1.0), HTML(value='')))"
            ]
          },
          "metadata": {
            "tags": []
          }
        },
        {
          "output_type": "stream",
          "text": [
            "\rShuffling and writing examples to /root/tensorflow_datasets/fashion_mnist/3.0.0.incompleteZRAIMQ/fashion_mnist-test.tfrecord\n"
          ],
          "name": "stdout"
        },
        {
          "output_type": "display_data",
          "data": {
            "application/vnd.jupyter.widget-view+json": {
              "model_id": "1dc0db6898e24dceb3cf79ee4cca81d4",
              "version_minor": 0,
              "version_major": 2
            },
            "text/plain": [
              "HBox(children=(FloatProgress(value=0.0, max=10000.0), HTML(value='')))"
            ]
          },
          "metadata": {
            "tags": []
          }
        },
        {
          "output_type": "stream",
          "text": [
            "\u001b[1mDataset fashion_mnist downloaded and prepared to /root/tensorflow_datasets/fashion_mnist/3.0.0. Subsequent calls will reuse this data.\u001b[0m\n",
            "\r"
          ],
          "name": "stdout"
        }
      ]
    },
    {
      "cell_type": "markdown",
      "metadata": {
        "id": "0D360UU1X3Ht",
        "colab_type": "text"
      },
      "source": [
        "## Creiamo la Rete Neurale\n",
        "Definiamo due funzioni, una per definire l'architettura delle Rete e un'altra per creare un grafico della Log Loss."
      ]
    },
    {
      "cell_type": "code",
      "metadata": {
        "id": "T0ODzp3u4Dqd",
        "colab_type": "code",
        "colab": {}
      },
      "source": [
        "def build_model():\n",
        "  model = tf.keras.models.Sequential()\n",
        "  model.add(tf.keras.layers.Dense(512, activation='relu', input_shape=[X_train.shape[1]]))\n",
        "  model.add(tf.keras.layers.Dense(256, activation='relu'))\n",
        "  model.add(tf.keras.layers.Dense(128, activation='relu'))\n",
        "  model.add(tf.keras.layers.Dense(num_classes, activation='softmax'))\n",
        "\n",
        "  return model\n",
        "\n",
        "\n",
        "def plot_loss_chart(title, figsize=(14,10), validation=True):\n",
        "\n",
        "  plt.figure(figsize=figsize)\n",
        "  plt.title(title)\n",
        "  plt.xlabel(\"Epoca\")\n",
        "  plt.ylabel(\"Log-Loss\")\n",
        "  \n",
        "  plt.plot(model.history.history['loss'], label=\"Training Loss\")\n",
        "\n",
        "  if(validation):\n",
        "    plt.plot(model.history.history['val_loss'], label=\"Validation Loss\")\n",
        "\n",
        "  plt.legend()"
      ],
      "execution_count": null,
      "outputs": []
    },
    {
      "cell_type": "markdown",
      "metadata": {
        "id": "D6JnruFm4ZH1",
        "colab_type": "text"
      },
      "source": [
        "## Learning Rate\n",
        "Il Learning Rate ci permette di controllare la dimensione di ogni step del Gradient Descent. Per  impostare il learning rate possiamo definire l'algoritmo di ottimizzazione tramite una delle apposite classi di tf.keras e utilizzare il parametro *learning_rate*."
      ]
    },
    {
      "cell_type": "markdown",
      "metadata": {
        "id": "evta2qLvYi17",
        "colab_type": "text"
      },
      "source": [
        "#### Learning Rate troppo piccolo\n",
        "Un valore del Learning Rate troppo piccolo può rendere eccessivamente piccoli gli step del Gradient Descent, rallentando la fase di addestramento in maniera eccessiva."
      ]
    },
    {
      "cell_type": "code",
      "metadata": {
        "id": "aGGFYgSg4r2s",
        "colab_type": "code",
        "colab": {
          "base_uri": "https://localhost:8080/",
          "height": 381
        },
        "outputId": "a8d16b88-ea62-4f87-a7b6-0e8a322b8453"
      },
      "source": [
        "model = build_model()\n",
        "\n",
        "sgd = tf.keras.optimizers.SGD(learning_rate=0.001)\n",
        "model.compile(loss='categorical_crossentropy', optimizer=sgd, metrics=['accuracy'])\n",
        "\n",
        "model.fit(X_train, y_train, batch_size=X_train.shape[0],\n",
        "          validation_data=(X_test, y_test), validation_batch_size = X_test.shape[0], \n",
        "          epochs=10, callbacks=[tf.keras.callbacks.History()])"
      ],
      "execution_count": null,
      "outputs": [
        {
          "output_type": "stream",
          "text": [
            "Epoch 1/10\n",
            "1/1 [==============================] - 0s 155ms/step - loss: 1.8880 - accuracy: 0.5695 - val_loss: 1.8911 - val_accuracy: 0.5654\n",
            "Epoch 2/10\n",
            "1/1 [==============================] - 0s 78ms/step - loss: 1.8867 - accuracy: 0.5700 - val_loss: 1.8898 - val_accuracy: 0.5657\n",
            "Epoch 3/10\n",
            "1/1 [==============================] - 0s 79ms/step - loss: 1.8854 - accuracy: 0.5705 - val_loss: 1.8885 - val_accuracy: 0.5663\n",
            "Epoch 4/10\n",
            "1/1 [==============================] - 0s 84ms/step - loss: 1.8841 - accuracy: 0.5707 - val_loss: 1.8873 - val_accuracy: 0.5670\n",
            "Epoch 5/10\n",
            "1/1 [==============================] - 0s 80ms/step - loss: 1.8828 - accuracy: 0.5712 - val_loss: 1.8860 - val_accuracy: 0.5678\n",
            "Epoch 6/10\n",
            "1/1 [==============================] - 0s 82ms/step - loss: 1.8815 - accuracy: 0.5717 - val_loss: 1.8847 - val_accuracy: 0.5682\n",
            "Epoch 7/10\n",
            "1/1 [==============================] - 0s 85ms/step - loss: 1.8803 - accuracy: 0.5724 - val_loss: 1.8835 - val_accuracy: 0.5685\n",
            "Epoch 8/10\n",
            "1/1 [==============================] - 0s 82ms/step - loss: 1.8790 - accuracy: 0.5730 - val_loss: 1.8822 - val_accuracy: 0.5689\n",
            "Epoch 9/10\n",
            "1/1 [==============================] - 0s 76ms/step - loss: 1.8777 - accuracy: 0.5735 - val_loss: 1.8809 - val_accuracy: 0.5694\n",
            "Epoch 10/10\n",
            "1/1 [==============================] - 0s 78ms/step - loss: 1.8764 - accuracy: 0.5741 - val_loss: 1.8797 - val_accuracy: 0.5694\n"
          ],
          "name": "stdout"
        },
        {
          "output_type": "execute_result",
          "data": {
            "text/plain": [
              "<tensorflow.python.keras.callbacks.History at 0x7f3612648048>"
            ]
          },
          "metadata": {
            "tags": []
          },
          "execution_count": 12
        }
      ]
    },
    {
      "cell_type": "markdown",
      "metadata": {
        "id": "ihQSV25TYxoj",
        "colab_type": "text"
      },
      "source": [
        "### Learning Rate troppo grande\n",
        "Un valore troppo grande del Learning Rate rende gli step del Gradient Descent troppo larghi, facendo divergere il modello."
      ]
    },
    {
      "cell_type": "code",
      "metadata": {
        "id": "GBybnPGe43YF",
        "colab_type": "code",
        "colab": {
          "base_uri": "https://localhost:8080/",
          "height": 401
        },
        "outputId": "cf017c3b-0f7c-497e-cde0-b9845d427088"
      },
      "source": [
        "model = build_model()\n",
        "\n",
        "sgd = tf.keras.optimizers.SGD(learning_rate=1)\n",
        "model.compile(loss='categorical_crossentropy', optimizer=sgd, metrics=['accuracy'])\n",
        "\n",
        "model.fit(X_train, y_train, batch_size=X_train.shape[0],\n",
        "          validation_data=(X_test, y_test), validation_batch_size = X_test.shape[0], \n",
        "          epochs=10, callbacks=[tf.keras.callbacks.History()])"
      ],
      "execution_count": null,
      "outputs": [
        {
          "output_type": "stream",
          "text": [
            "Epoch 1/10\n",
            "1/1 [==============================] - 0s 150ms/step - loss: 2.4167 - accuracy: 0.0883 - val_loss: 2.3971 - val_accuracy: 0.2297\n",
            "Epoch 2/10\n",
            "1/1 [==============================] - 0s 82ms/step - loss: 2.3803 - accuracy: 0.2350 - val_loss: 4.5815 - val_accuracy: 0.0999\n",
            "Epoch 3/10\n",
            "1/1 [==============================] - 0s 82ms/step - loss: 4.6311 - accuracy: 0.1016 - val_loss: 8.0767 - val_accuracy: 0.1975\n",
            "Epoch 4/10\n",
            "1/1 [==============================] - 0s 78ms/step - loss: 8.1899 - accuracy: 0.1981 - val_loss: 7.7897 - val_accuracy: 0.1004\n",
            "Epoch 5/10\n",
            "1/1 [==============================] - 0s 83ms/step - loss: 7.8442 - accuracy: 0.0964 - val_loss: 152.7688 - val_accuracy: 0.0972\n",
            "Epoch 6/10\n",
            "1/1 [==============================] - 0s 78ms/step - loss: 152.7806 - accuracy: 0.1012 - val_loss: 89.1033 - val_accuracy: 0.0990\n",
            "Epoch 7/10\n",
            "1/1 [==============================] - 0s 75ms/step - loss: 90.7148 - accuracy: 0.1004 - val_loss: 304.4587 - val_accuracy: 0.0567\n",
            "Epoch 8/10\n",
            "1/1 [==============================] - 0s 81ms/step - loss: 310.1641 - accuracy: 0.0582 - val_loss: 67360.8281 - val_accuracy: 0.0987\n",
            "Epoch 9/10\n",
            "1/1 [==============================] - 0s 73ms/step - loss: 68231.2031 - accuracy: 0.1006 - val_loss: 1109447680.0000 - val_accuracy: 0.0972\n",
            "Epoch 10/10\n",
            "1/1 [==============================] - 0s 75ms/step - loss: 1124242304.0000 - accuracy: 0.1012 - val_loss: 312215603836354560.0000 - val_accuracy: 0.0987\n"
          ],
          "name": "stdout"
        },
        {
          "output_type": "execute_result",
          "data": {
            "text/plain": [
              "<tensorflow.python.keras.callbacks.History at 0x7f36124564a8>"
            ]
          },
          "metadata": {
            "tags": []
          },
          "execution_count": 13
        }
      ]
    },
    {
      "cell_type": "markdown",
      "metadata": {
        "id": "iOCsIxTqZF2R",
        "colab_type": "text"
      },
      "source": [
        "### Learning Rate ottimale\n",
        "Il valore ottimale del Learning Rate varia da problema a problema e andrebbe cercato in una scala logaritmica che va da 0.0001 a 10 (0.0001, 0.001, 0.01, 0.1, 1, 10)."
      ]
    },
    {
      "cell_type": "code",
      "metadata": {
        "id": "0eoydJu-5kfQ",
        "colab_type": "code",
        "colab": {
          "base_uri": "https://localhost:8080/",
          "height": 381
        },
        "outputId": "39df6baa-9f99-494f-e313-6777b2a22a33"
      },
      "source": [
        "model = build_model()\n",
        "\n",
        "sgd = tf.keras.optimizers.SGD(learning_rate=0.1)\n",
        "model.compile(loss='categorical_crossentropy', optimizer=sgd, metrics=['accuracy'])\n",
        "\n",
        "model.fit(X_train, y_train, batch_size=X_train.shape[0],\n",
        "          validation_data=(X_test, y_test), validation_batch_size = X_test.shape[0], \n",
        "          epochs=10, callbacks=[tf.keras.callbacks.History()])"
      ],
      "execution_count": null,
      "outputs": [
        {
          "output_type": "stream",
          "text": [
            "Epoch 1/10\n",
            "1/1 [==============================] - 0s 154ms/step - loss: 2.3295 - accuracy: 0.0727 - val_loss: 2.2001 - val_accuracy: 0.1599\n",
            "Epoch 2/10\n",
            "1/1 [==============================] - 0s 82ms/step - loss: 2.1973 - accuracy: 0.1630 - val_loss: 2.1078 - val_accuracy: 0.2368\n",
            "Epoch 3/10\n",
            "1/1 [==============================] - 0s 77ms/step - loss: 2.1041 - accuracy: 0.2397 - val_loss: 2.0203 - val_accuracy: 0.3551\n",
            "Epoch 4/10\n",
            "1/1 [==============================] - 0s 79ms/step - loss: 2.0160 - accuracy: 0.3616 - val_loss: 1.9339 - val_accuracy: 0.4155\n",
            "Epoch 5/10\n",
            "1/1 [==============================] - 0s 75ms/step - loss: 1.9290 - accuracy: 0.4249 - val_loss: 1.8461 - val_accuracy: 0.4906\n",
            "Epoch 6/10\n",
            "1/1 [==============================] - 0s 82ms/step - loss: 1.8404 - accuracy: 0.4970 - val_loss: 1.7576 - val_accuracy: 0.5382\n",
            "Epoch 7/10\n",
            "1/1 [==============================] - 0s 79ms/step - loss: 1.7513 - accuracy: 0.5419 - val_loss: 1.6686 - val_accuracy: 0.5811\n",
            "Epoch 8/10\n",
            "1/1 [==============================] - 0s 78ms/step - loss: 1.6617 - accuracy: 0.5879 - val_loss: 1.5806 - val_accuracy: 0.6032\n",
            "Epoch 9/10\n",
            "1/1 [==============================] - 0s 78ms/step - loss: 1.5735 - accuracy: 0.6080 - val_loss: 1.4986 - val_accuracy: 0.6221\n",
            "Epoch 10/10\n",
            "1/1 [==============================] - 0s 76ms/step - loss: 1.4914 - accuracy: 0.6306 - val_loss: 1.4330 - val_accuracy: 0.5947\n"
          ],
          "name": "stdout"
        },
        {
          "output_type": "execute_result",
          "data": {
            "text/plain": [
              "<tensorflow.python.keras.callbacks.History at 0x7f361223f400>"
            ]
          },
          "metadata": {
            "tags": []
          },
          "execution_count": 14
        }
      ]
    },
    {
      "cell_type": "markdown",
      "metadata": {
        "id": "0Jxufudj6Csv",
        "colab_type": "text"
      },
      "source": [
        "## Learning Rate Dinamico\n",
        "Una scelta intelligente è quella di far variare il valore del Learning Rate durante l'addestramento, rendendolo più piccolo man mano che il modello inizia a convergere. Questa tecnica è conosciuta come **Learning Rate Decay**. Esistono diverse tecniche per implementare il Learning Rate Decay, vediamone due."
      ]
    },
    {
      "cell_type": "markdown",
      "metadata": {
        "id": "D6CSUBinaNlr",
        "colab_type": "text"
      },
      "source": [
        "### Exponential Decay\n",
        "Questa tecnica riduce il Learning Rate in maniera esponenziale utilizzando il seguente algoritmo:\n",
        "<br><br>\n",
        "*initial_learning_rate * decay_rate ^ (step / decay_steps)*\n",
        "<br><br>\n"
      ]
    },
    {
      "cell_type": "code",
      "metadata": {
        "id": "_cl6ga446EFc",
        "colab_type": "code",
        "colab": {
          "base_uri": "https://localhost:8080/",
          "height": 381
        },
        "outputId": "9e26e1da-e120-454f-e164-2c758aa61450"
      },
      "source": [
        "model = build_model()\n",
        "\n",
        "lr_schedule = tf.keras.optimizers.schedules.ExponentialDecay(\n",
        "    initial_learning_rate=0.1,\n",
        "    decay_steps=10000,\n",
        "    decay_rate=0.9)\n",
        "\n",
        "sgd = tf.keras.optimizers.SGD(learning_rate=lr_schedule)\n",
        "model.compile(loss='categorical_crossentropy', optimizer=sgd, metrics=['accuracy'])\n",
        "\n",
        "model.fit(X_train, y_train, batch_size=X_train.shape[0],\n",
        "          validation_data=(X_test, y_test), validation_batch_size = X_test.shape[0], \n",
        "          epochs=10, callbacks=[tf.keras.callbacks.History()])"
      ],
      "execution_count": null,
      "outputs": [
        {
          "output_type": "stream",
          "text": [
            "Epoch 1/10\n",
            "1/1 [==============================] - 0s 166ms/step - loss: 2.3818 - accuracy: 0.0941 - val_loss: 2.1901 - val_accuracy: 0.1596\n",
            "Epoch 2/10\n",
            "1/1 [==============================] - 0s 86ms/step - loss: 2.1871 - accuracy: 0.1637 - val_loss: 2.0611 - val_accuracy: 0.3228\n",
            "Epoch 3/10\n",
            "1/1 [==============================] - 0s 83ms/step - loss: 2.0584 - accuracy: 0.3289 - val_loss: 1.9402 - val_accuracy: 0.4764\n",
            "Epoch 4/10\n",
            "1/1 [==============================] - 0s 83ms/step - loss: 1.9372 - accuracy: 0.4800 - val_loss: 1.8226 - val_accuracy: 0.5561\n",
            "Epoch 5/10\n",
            "1/1 [==============================] - 0s 91ms/step - loss: 1.8193 - accuracy: 0.5620 - val_loss: 1.7084 - val_accuracy: 0.5973\n",
            "Epoch 6/10\n",
            "1/1 [==============================] - 0s 90ms/step - loss: 1.7047 - accuracy: 0.6033 - val_loss: 1.5996 - val_accuracy: 0.6148\n",
            "Epoch 7/10\n",
            "1/1 [==============================] - 0s 89ms/step - loss: 1.5954 - accuracy: 0.6220 - val_loss: 1.4976 - val_accuracy: 0.6318\n",
            "Epoch 8/10\n",
            "1/1 [==============================] - 0s 78ms/step - loss: 1.4932 - accuracy: 0.6407 - val_loss: 1.4055 - val_accuracy: 0.6378\n",
            "Epoch 9/10\n",
            "1/1 [==============================] - 0s 76ms/step - loss: 1.4006 - accuracy: 0.6476 - val_loss: 1.3241 - val_accuracy: 0.6503\n",
            "Epoch 10/10\n",
            "1/1 [==============================] - 0s 83ms/step - loss: 1.3199 - accuracy: 0.6592 - val_loss: 1.2615 - val_accuracy: 0.6471\n"
          ],
          "name": "stdout"
        },
        {
          "output_type": "execute_result",
          "data": {
            "text/plain": [
              "<tensorflow.python.keras.callbacks.History at 0x7f36041e90f0>"
            ]
          },
          "metadata": {
            "tags": []
          },
          "execution_count": 19
        }
      ]
    },
    {
      "cell_type": "markdown",
      "metadata": {
        "id": "6jUbdwQla2bR",
        "colab_type": "text"
      },
      "source": [
        "### Inverse Time Decay\n",
        "Un'alternativa all'Exponential Decay è l'Inverse Time Decay, che sistema il valore del Learning Rate utilizzando il seguente algoritmo:\n",
        "<br><br>\n",
        "*initial_learning_rate / (1 + decay_rate * step / decay_step)*\n",
        "<br><br>"
      ]
    },
    {
      "cell_type": "code",
      "metadata": {
        "id": "lov-4YxG6ipo",
        "colab_type": "code",
        "colab": {
          "base_uri": "https://localhost:8080/",
          "height": 381
        },
        "outputId": "73a14558-b5fb-4b43-e4f1-96155e3a889f"
      },
      "source": [
        "model = build_model()\n",
        "\n",
        "lr_schedule = tf.keras.optimizers.schedules.InverseTimeDecay(\n",
        "    initial_learning_rate=0.1,\n",
        "    decay_steps=10000,\n",
        "    decay_rate=0.9)\n",
        "\n",
        "sgd = tf.keras.optimizers.SGD(learning_rate=lr_schedule)\n",
        "model.compile(loss='categorical_crossentropy', optimizer=sgd, metrics=['accuracy'])\n",
        "\n",
        "model.fit(X_train, y_train, batch_size=X_train.shape[0],\n",
        "          validation_data=(X_test, y_test), validation_batch_size = X_test.shape[0], \n",
        "          epochs=10, callbacks=[tf.keras.callbacks.History()])"
      ],
      "execution_count": null,
      "outputs": [
        {
          "output_type": "stream",
          "text": [
            "Epoch 1/10\n",
            "1/1 [==============================] - 0s 154ms/step - loss: 2.3592 - accuracy: 0.0856 - val_loss: 2.1719 - val_accuracy: 0.2756\n",
            "Epoch 2/10\n",
            "1/1 [==============================] - 0s 77ms/step - loss: 2.1706 - accuracy: 0.2837 - val_loss: 2.0513 - val_accuracy: 0.3955\n",
            "Epoch 3/10\n",
            "1/1 [==============================] - 0s 74ms/step - loss: 2.0489 - accuracy: 0.4028 - val_loss: 1.9410 - val_accuracy: 0.4451\n",
            "Epoch 4/10\n",
            "1/1 [==============================] - 0s 75ms/step - loss: 1.9376 - accuracy: 0.4506 - val_loss: 1.8329 - val_accuracy: 0.4978\n",
            "Epoch 5/10\n",
            "1/1 [==============================] - 0s 76ms/step - loss: 1.8286 - accuracy: 0.5040 - val_loss: 1.7256 - val_accuracy: 0.5612\n",
            "Epoch 6/10\n",
            "1/1 [==============================] - 0s 91ms/step - loss: 1.7207 - accuracy: 0.5689 - val_loss: 1.6187 - val_accuracy: 0.6066\n",
            "Epoch 7/10\n",
            "1/1 [==============================] - 0s 89ms/step - loss: 1.6136 - accuracy: 0.6129 - val_loss: 1.5161 - val_accuracy: 0.6297\n",
            "Epoch 8/10\n",
            "1/1 [==============================] - 0s 88ms/step - loss: 1.5110 - accuracy: 0.6350 - val_loss: 1.4227 - val_accuracy: 0.6407\n",
            "Epoch 9/10\n",
            "1/1 [==============================] - 0s 82ms/step - loss: 1.4175 - accuracy: 0.6444 - val_loss: 1.3391 - val_accuracy: 0.6467\n",
            "Epoch 10/10\n",
            "1/1 [==============================] - 0s 81ms/step - loss: 1.3341 - accuracy: 0.6513 - val_loss: 1.2661 - val_accuracy: 0.6532\n"
          ],
          "name": "stdout"
        },
        {
          "output_type": "execute_result",
          "data": {
            "text/plain": [
              "<tensorflow.python.keras.callbacks.History at 0x7f36041784a8>"
            ]
          },
          "metadata": {
            "tags": []
          },
          "execution_count": 20
        }
      ]
    },
    {
      "cell_type": "markdown",
      "metadata": {
        "id": "Yh0noN8N7D70",
        "colab_type": "text"
      },
      "source": [
        "## RMSProp e ADAM"
      ]
    },
    {
      "cell_type": "code",
      "metadata": {
        "id": "WXBT91xX88K2",
        "colab_type": "code",
        "colab": {
          "base_uri": "https://localhost:8080/",
          "height": 381
        },
        "outputId": "28a6c693-4bb8-4688-9b9f-7b61443794a6"
      },
      "source": [
        "model = build_model()\n",
        "\n",
        "model.compile(loss='categorical_crossentropy', optimizer=\"rmsprop\", metrics=['accuracy'])\n",
        "\n",
        "model.fit(X_train, y_train, batch_size=X_train.shape[0],\n",
        "          validation_data=(X_test, y_test), validation_batch_size = X_test.shape[0], \n",
        "          epochs=10, callbacks=[tf.keras.callbacks.History()])"
      ],
      "execution_count": null,
      "outputs": [
        {
          "output_type": "stream",
          "text": [
            "Epoch 1/10\n",
            "1/1 [==============================] - 0s 152ms/step - loss: 2.3621 - accuracy: 0.1197 - val_loss: 2.0308 - val_accuracy: 0.3428\n",
            "Epoch 2/10\n",
            "1/1 [==============================] - 0s 307ms/step - loss: 2.0357 - accuracy: 0.3410 - val_loss: 1.8353 - val_accuracy: 0.3146\n",
            "Epoch 3/10\n",
            "1/1 [==============================] - 0s 77ms/step - loss: 1.8238 - accuracy: 0.3189 - val_loss: 2.0341 - val_accuracy: 0.3249\n",
            "Epoch 4/10\n",
            "1/1 [==============================] - 0s 77ms/step - loss: 2.0338 - accuracy: 0.3210 - val_loss: 1.8158 - val_accuracy: 0.3793\n",
            "Epoch 5/10\n",
            "1/1 [==============================] - 0s 80ms/step - loss: 1.8199 - accuracy: 0.3781 - val_loss: 1.4766 - val_accuracy: 0.5065\n",
            "Epoch 6/10\n",
            "1/1 [==============================] - 0s 75ms/step - loss: 1.4629 - accuracy: 0.5099 - val_loss: 1.3408 - val_accuracy: 0.5217\n",
            "Epoch 7/10\n",
            "1/1 [==============================] - 0s 73ms/step - loss: 1.3358 - accuracy: 0.5260 - val_loss: 1.1121 - val_accuracy: 0.6392\n",
            "Epoch 8/10\n",
            "1/1 [==============================] - 0s 80ms/step - loss: 1.1104 - accuracy: 0.6415 - val_loss: 0.9752 - val_accuracy: 0.6557\n",
            "Epoch 9/10\n",
            "1/1 [==============================] - 0s 73ms/step - loss: 0.9685 - accuracy: 0.6603 - val_loss: 0.9483 - val_accuracy: 0.6734\n",
            "Epoch 10/10\n",
            "1/1 [==============================] - 0s 70ms/step - loss: 0.9461 - accuracy: 0.6789 - val_loss: 1.0517 - val_accuracy: 0.5982\n"
          ],
          "name": "stdout"
        },
        {
          "output_type": "execute_result",
          "data": {
            "text/plain": [
              "<tensorflow.python.keras.callbacks.History at 0x7f35d0270f98>"
            ]
          },
          "metadata": {
            "tags": []
          },
          "execution_count": 29
        }
      ]
    },
    {
      "cell_type": "code",
      "metadata": {
        "id": "NNo2OTen7iUR",
        "colab_type": "code",
        "colab": {
          "base_uri": "https://localhost:8080/",
          "height": 381
        },
        "outputId": "6ab1bc97-bdcf-4e15-f095-143de35e23a0"
      },
      "source": [
        "model = build_model()\n",
        "\n",
        "model.compile(loss='categorical_crossentropy', optimizer=\"adam\", metrics=['accuracy'])\n",
        "\n",
        "model.fit(X_train, y_train, batch_size=X_train.shape[0],\n",
        "          validation_data=(X_test, y_test), validation_batch_size = X_test.shape[0], \n",
        "          epochs=10, callbacks=[tf.keras.callbacks.History()])"
      ],
      "execution_count": null,
      "outputs": [
        {
          "output_type": "stream",
          "text": [
            "Epoch 1/10\n",
            "1/1 [==============================] - 0s 163ms/step - loss: 2.2950 - accuracy: 0.1314 - val_loss: 1.9431 - val_accuracy: 0.4178\n",
            "Epoch 2/10\n",
            "1/1 [==============================] - 0s 73ms/step - loss: 1.9368 - accuracy: 0.4243 - val_loss: 1.6477 - val_accuracy: 0.5544\n",
            "Epoch 3/10\n",
            "1/1 [==============================] - 0s 93ms/step - loss: 1.6392 - accuracy: 0.5646 - val_loss: 1.3896 - val_accuracy: 0.6207\n",
            "Epoch 4/10\n",
            "1/1 [==============================] - 0s 89ms/step - loss: 1.3807 - accuracy: 0.6278 - val_loss: 1.1677 - val_accuracy: 0.6692\n",
            "Epoch 5/10\n",
            "1/1 [==============================] - 0s 76ms/step - loss: 1.1599 - accuracy: 0.6729 - val_loss: 1.0049 - val_accuracy: 0.6849\n",
            "Epoch 6/10\n",
            "1/1 [==============================] - 0s 75ms/step - loss: 1.0005 - accuracy: 0.6885 - val_loss: 0.9027 - val_accuracy: 0.6945\n",
            "Epoch 7/10\n",
            "1/1 [==============================] - 0s 76ms/step - loss: 0.9002 - accuracy: 0.6998 - val_loss: 0.8317 - val_accuracy: 0.6962\n",
            "Epoch 8/10\n",
            "1/1 [==============================] - 0s 75ms/step - loss: 0.8333 - accuracy: 0.7004 - val_loss: 0.8329 - val_accuracy: 0.7006\n",
            "Epoch 9/10\n",
            "1/1 [==============================] - 0s 71ms/step - loss: 0.8231 - accuracy: 0.7054 - val_loss: 0.7576 - val_accuracy: 0.7223\n",
            "Epoch 10/10\n",
            "1/1 [==============================] - 0s 73ms/step - loss: 0.7603 - accuracy: 0.7273 - val_loss: 0.7252 - val_accuracy: 0.7464\n"
          ],
          "name": "stdout"
        },
        {
          "output_type": "execute_result",
          "data": {
            "text/plain": [
              "<tensorflow.python.keras.callbacks.History at 0x7f35d077a7f0>"
            ]
          },
          "metadata": {
            "tags": []
          },
          "execution_count": 26
        }
      ]
    },
    {
      "cell_type": "code",
      "metadata": {
        "id": "KBqXQK7N7ATf",
        "colab_type": "code",
        "colab": {
          "base_uri": "https://localhost:8080/",
          "height": 381
        },
        "outputId": "4c4a12a7-2615-4693-beba-c33d74569685"
      },
      "source": [
        "model = build_model()\n",
        "\n",
        "lr_schedule = tf.keras.optimizers.schedules.ExponentialDecay(\n",
        "    initial_learning_rate=0.1,\n",
        "    decay_steps=10000,\n",
        "    decay_rate=0.9)\n",
        "\n",
        "adam = tf.keras.optimizers.Adam(learning_rate=lr_schedule)\n",
        "model.compile(loss='categorical_crossentropy', optimizer=adam, metrics=['accuracy'])\n",
        "\n",
        "model.fit(X_train, y_train, batch_size=X_train.shape[0],\n",
        "          validation_data=(X_test, y_test), validation_batch_size = X_test.shape[0], \n",
        "          epochs=10, callbacks=[tf.keras.callbacks.History()])"
      ],
      "execution_count": null,
      "outputs": [
        {
          "output_type": "stream",
          "text": [
            "Epoch 1/10\n",
            "1/1 [==============================] - 0s 169ms/step - loss: 2.3244 - accuracy: 0.0919 - val_loss: 2844.4353 - val_accuracy: 0.1034\n",
            "Epoch 2/10\n",
            "1/1 [==============================] - 0s 78ms/step - loss: 2848.1594 - accuracy: 0.0985 - val_loss: 1472.3868 - val_accuracy: 0.0987\n",
            "Epoch 3/10\n",
            "1/1 [==============================] - 0s 75ms/step - loss: 1461.6931 - accuracy: 0.1006 - val_loss: 302.6365 - val_accuracy: 0.0988\n",
            "Epoch 4/10\n",
            "1/1 [==============================] - 0s 78ms/step - loss: 303.1682 - accuracy: 0.1006 - val_loss: 53.7579 - val_accuracy: 0.1129\n",
            "Epoch 5/10\n",
            "1/1 [==============================] - 0s 75ms/step - loss: 53.7307 - accuracy: 0.1149 - val_loss: 9.5130 - val_accuracy: 0.2023\n",
            "Epoch 6/10\n",
            "1/1 [==============================] - 0s 71ms/step - loss: 9.3106 - accuracy: 0.1980 - val_loss: 5.8453 - val_accuracy: 0.1360\n",
            "Epoch 7/10\n",
            "1/1 [==============================] - 0s 76ms/step - loss: 5.7535 - accuracy: 0.1341 - val_loss: 2.7453 - val_accuracy: 0.2049\n",
            "Epoch 8/10\n",
            "1/1 [==============================] - 0s 73ms/step - loss: 2.7443 - accuracy: 0.2001 - val_loss: 4.5119 - val_accuracy: 0.1678\n",
            "Epoch 9/10\n",
            "1/1 [==============================] - 0s 74ms/step - loss: 4.5335 - accuracy: 0.1602 - val_loss: 2.5358 - val_accuracy: 0.1982\n",
            "Epoch 10/10\n",
            "1/1 [==============================] - 0s 80ms/step - loss: 2.5420 - accuracy: 0.1982 - val_loss: 2.3486 - val_accuracy: 0.2055\n"
          ],
          "name": "stdout"
        },
        {
          "output_type": "execute_result",
          "data": {
            "text/plain": [
              "<tensorflow.python.keras.callbacks.History at 0x7f35d0484240>"
            ]
          },
          "metadata": {
            "tags": []
          },
          "execution_count": 30
        }
      ]
    }
  ]
}