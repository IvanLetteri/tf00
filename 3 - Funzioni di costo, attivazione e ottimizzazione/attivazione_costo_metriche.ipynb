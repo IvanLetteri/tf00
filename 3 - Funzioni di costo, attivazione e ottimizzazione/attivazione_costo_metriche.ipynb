{
  "nbformat": 4,
  "nbformat_minor": 0,
  "metadata": {
    "colab": {
      "name": "funzioni_di_costo.ipynb",
      "provenance": [],
      "authorship_tag": "ABX9TyPPSfuC9YRNEA+E74Ilp5Oi",
      "include_colab_link": true
    },
    "kernelspec": {
      "name": "python3",
      "display_name": "Python 3"
    }
  },
  "cells": [
    {
      "cell_type": "markdown",
      "metadata": {
        "id": "view-in-github",
        "colab_type": "text"
      },
      "source": [
        "<a href=\"https://colab.research.google.com/github/ProfAI/tf00/blob/master/3%20-%20Funzioni%20di%20costo%2C%20attivazione%20e%20ottimizzazione/attivazione_costo_metriche.ipynb\" target=\"_parent\"><img src=\"https://colab.research.google.com/assets/colab-badge.svg\" alt=\"Open In Colab\"/></a>"
      ]
    },
    {
      "cell_type": "markdown",
      "metadata": {
        "id": "ojFXKgK_d_gd",
        "colab_type": "text"
      },
      "source": [
        "# Funzioni di Attivazione, Funzioni di Costo e Metriche"
      ]
    },
    {
      "cell_type": "markdown",
      "metadata": {
        "id": "_3-0ko4ucQmN",
        "colab_type": "text"
      },
      "source": [
        ">Problema | Funzione di attivazione | Funzione di Costo | Metriche \n",
        ">--- | --- | --- | ---\n",
        ">Regressione | Lineare | MSE, MAE | MSE, RMSE, MAE, R2\n",
        ">Classificazione Binaria | Sigmoid | Binary Crossentropy | Binary Crossentropy, Accuracy, Confusion Matrix | \n",
        ">Classificazione Multiclasse | Softmax | Categorical Crossentropy | Categorical Crossentropy, Accuracy, Confusion Matrix \n",
        "\n",
        ">Funzioni di Attivazione Strati nascosti |\n",
        ">--- |\n",
        ">Rectified Linear Unit (ReLu), Tangente Iperbolica (Tanh) |\n"
      ]
    },
    {
      "cell_type": "code",
      "metadata": {
        "id": "4B972unZmuTJ",
        "colab_type": "code",
        "colab": {}
      },
      "source": [
        "import numpy as np\n",
        "import pandas as pd\n",
        "from sklearn.model_selection import train_test_split\n",
        "from sklearn.preprocessing import StandardScaler\n",
        "\n",
        "import tensorflow as tf\n",
        "from tensorflow import keras"
      ],
      "execution_count": 0,
      "outputs": []
    },
    {
      "cell_type": "code",
      "metadata": {
        "id": "3EO66YTnnDBf",
        "colab_type": "code",
        "outputId": "0b93c345-10af-45bc-fc6e-dfea2e251cbd",
        "colab": {
          "base_uri": "https://localhost:8080/",
          "height": 202
        }
      },
      "source": [
        "boston = pd.read_csv(\"https://archive.ics.uci.edu/ml/machine-learning-databases/housing/housing.data\", sep='\\s+', \n",
        "                     names=[\"CRIM\",\"ZN\",\"INDUS\",\"CHAS\",\"NOX\",\"RM\",\"AGE\",\"DIS\",\"RAD\",\"TAX\",\"PRATIO\",\"B\",\"LSTAT\",\"MEDV\"])\n",
        "boston.head()"
      ],
      "execution_count": 2,
      "outputs": [
        {
          "output_type": "execute_result",
          "data": {
            "text/html": [
              "<div>\n",
              "<style scoped>\n",
              "    .dataframe tbody tr th:only-of-type {\n",
              "        vertical-align: middle;\n",
              "    }\n",
              "\n",
              "    .dataframe tbody tr th {\n",
              "        vertical-align: top;\n",
              "    }\n",
              "\n",
              "    .dataframe thead th {\n",
              "        text-align: right;\n",
              "    }\n",
              "</style>\n",
              "<table border=\"1\" class=\"dataframe\">\n",
              "  <thead>\n",
              "    <tr style=\"text-align: right;\">\n",
              "      <th></th>\n",
              "      <th>CRIM</th>\n",
              "      <th>ZN</th>\n",
              "      <th>INDUS</th>\n",
              "      <th>CHAS</th>\n",
              "      <th>NOX</th>\n",
              "      <th>RM</th>\n",
              "      <th>AGE</th>\n",
              "      <th>DIS</th>\n",
              "      <th>RAD</th>\n",
              "      <th>TAX</th>\n",
              "      <th>PRATIO</th>\n",
              "      <th>B</th>\n",
              "      <th>LSTAT</th>\n",
              "      <th>MEDV</th>\n",
              "    </tr>\n",
              "  </thead>\n",
              "  <tbody>\n",
              "    <tr>\n",
              "      <th>0</th>\n",
              "      <td>0.00632</td>\n",
              "      <td>18.0</td>\n",
              "      <td>2.31</td>\n",
              "      <td>0</td>\n",
              "      <td>0.538</td>\n",
              "      <td>6.575</td>\n",
              "      <td>65.2</td>\n",
              "      <td>4.0900</td>\n",
              "      <td>1</td>\n",
              "      <td>296.0</td>\n",
              "      <td>15.3</td>\n",
              "      <td>396.90</td>\n",
              "      <td>4.98</td>\n",
              "      <td>24.0</td>\n",
              "    </tr>\n",
              "    <tr>\n",
              "      <th>1</th>\n",
              "      <td>0.02731</td>\n",
              "      <td>0.0</td>\n",
              "      <td>7.07</td>\n",
              "      <td>0</td>\n",
              "      <td>0.469</td>\n",
              "      <td>6.421</td>\n",
              "      <td>78.9</td>\n",
              "      <td>4.9671</td>\n",
              "      <td>2</td>\n",
              "      <td>242.0</td>\n",
              "      <td>17.8</td>\n",
              "      <td>396.90</td>\n",
              "      <td>9.14</td>\n",
              "      <td>21.6</td>\n",
              "    </tr>\n",
              "    <tr>\n",
              "      <th>2</th>\n",
              "      <td>0.02729</td>\n",
              "      <td>0.0</td>\n",
              "      <td>7.07</td>\n",
              "      <td>0</td>\n",
              "      <td>0.469</td>\n",
              "      <td>7.185</td>\n",
              "      <td>61.1</td>\n",
              "      <td>4.9671</td>\n",
              "      <td>2</td>\n",
              "      <td>242.0</td>\n",
              "      <td>17.8</td>\n",
              "      <td>392.83</td>\n",
              "      <td>4.03</td>\n",
              "      <td>34.7</td>\n",
              "    </tr>\n",
              "    <tr>\n",
              "      <th>3</th>\n",
              "      <td>0.03237</td>\n",
              "      <td>0.0</td>\n",
              "      <td>2.18</td>\n",
              "      <td>0</td>\n",
              "      <td>0.458</td>\n",
              "      <td>6.998</td>\n",
              "      <td>45.8</td>\n",
              "      <td>6.0622</td>\n",
              "      <td>3</td>\n",
              "      <td>222.0</td>\n",
              "      <td>18.7</td>\n",
              "      <td>394.63</td>\n",
              "      <td>2.94</td>\n",
              "      <td>33.4</td>\n",
              "    </tr>\n",
              "    <tr>\n",
              "      <th>4</th>\n",
              "      <td>0.06905</td>\n",
              "      <td>0.0</td>\n",
              "      <td>2.18</td>\n",
              "      <td>0</td>\n",
              "      <td>0.458</td>\n",
              "      <td>7.147</td>\n",
              "      <td>54.2</td>\n",
              "      <td>6.0622</td>\n",
              "      <td>3</td>\n",
              "      <td>222.0</td>\n",
              "      <td>18.7</td>\n",
              "      <td>396.90</td>\n",
              "      <td>5.33</td>\n",
              "      <td>36.2</td>\n",
              "    </tr>\n",
              "  </tbody>\n",
              "</table>\n",
              "</div>"
            ],
            "text/plain": [
              "      CRIM    ZN  INDUS  CHAS    NOX  ...    TAX  PRATIO       B  LSTAT  MEDV\n",
              "0  0.00632  18.0   2.31     0  0.538  ...  296.0    15.3  396.90   4.98  24.0\n",
              "1  0.02731   0.0   7.07     0  0.469  ...  242.0    17.8  396.90   9.14  21.6\n",
              "2  0.02729   0.0   7.07     0  0.469  ...  242.0    17.8  392.83   4.03  34.7\n",
              "3  0.03237   0.0   2.18     0  0.458  ...  222.0    18.7  394.63   2.94  33.4\n",
              "4  0.06905   0.0   2.18     0  0.458  ...  222.0    18.7  396.90   5.33  36.2\n",
              "\n",
              "[5 rows x 14 columns]"
            ]
          },
          "metadata": {
            "tags": []
          },
          "execution_count": 2
        }
      ]
    },
    {
      "cell_type": "code",
      "metadata": {
        "id": "_vZID67NobE-",
        "colab_type": "code",
        "outputId": "abbc8105-fd9a-496c-f8d1-93336431b1d0",
        "colab": {
          "base_uri": "https://localhost:8080/",
          "height": 314
        }
      },
      "source": [
        "boston.describe()"
      ],
      "execution_count": 3,
      "outputs": [
        {
          "output_type": "execute_result",
          "data": {
            "text/html": [
              "<div>\n",
              "<style scoped>\n",
              "    .dataframe tbody tr th:only-of-type {\n",
              "        vertical-align: middle;\n",
              "    }\n",
              "\n",
              "    .dataframe tbody tr th {\n",
              "        vertical-align: top;\n",
              "    }\n",
              "\n",
              "    .dataframe thead th {\n",
              "        text-align: right;\n",
              "    }\n",
              "</style>\n",
              "<table border=\"1\" class=\"dataframe\">\n",
              "  <thead>\n",
              "    <tr style=\"text-align: right;\">\n",
              "      <th></th>\n",
              "      <th>CRIM</th>\n",
              "      <th>ZN</th>\n",
              "      <th>INDUS</th>\n",
              "      <th>CHAS</th>\n",
              "      <th>NOX</th>\n",
              "      <th>RM</th>\n",
              "      <th>AGE</th>\n",
              "      <th>DIS</th>\n",
              "      <th>RAD</th>\n",
              "      <th>TAX</th>\n",
              "      <th>PRATIO</th>\n",
              "      <th>B</th>\n",
              "      <th>LSTAT</th>\n",
              "      <th>MEDV</th>\n",
              "    </tr>\n",
              "  </thead>\n",
              "  <tbody>\n",
              "    <tr>\n",
              "      <th>count</th>\n",
              "      <td>506.000000</td>\n",
              "      <td>506.000000</td>\n",
              "      <td>506.000000</td>\n",
              "      <td>506.000000</td>\n",
              "      <td>506.000000</td>\n",
              "      <td>506.000000</td>\n",
              "      <td>506.000000</td>\n",
              "      <td>506.000000</td>\n",
              "      <td>506.000000</td>\n",
              "      <td>506.000000</td>\n",
              "      <td>506.000000</td>\n",
              "      <td>506.000000</td>\n",
              "      <td>506.000000</td>\n",
              "      <td>506.000000</td>\n",
              "    </tr>\n",
              "    <tr>\n",
              "      <th>mean</th>\n",
              "      <td>3.613524</td>\n",
              "      <td>11.363636</td>\n",
              "      <td>11.136779</td>\n",
              "      <td>0.069170</td>\n",
              "      <td>0.554695</td>\n",
              "      <td>6.284634</td>\n",
              "      <td>68.574901</td>\n",
              "      <td>3.795043</td>\n",
              "      <td>9.549407</td>\n",
              "      <td>408.237154</td>\n",
              "      <td>18.455534</td>\n",
              "      <td>356.674032</td>\n",
              "      <td>12.653063</td>\n",
              "      <td>22.532806</td>\n",
              "    </tr>\n",
              "    <tr>\n",
              "      <th>std</th>\n",
              "      <td>8.601545</td>\n",
              "      <td>23.322453</td>\n",
              "      <td>6.860353</td>\n",
              "      <td>0.253994</td>\n",
              "      <td>0.115878</td>\n",
              "      <td>0.702617</td>\n",
              "      <td>28.148861</td>\n",
              "      <td>2.105710</td>\n",
              "      <td>8.707259</td>\n",
              "      <td>168.537116</td>\n",
              "      <td>2.164946</td>\n",
              "      <td>91.294864</td>\n",
              "      <td>7.141062</td>\n",
              "      <td>9.197104</td>\n",
              "    </tr>\n",
              "    <tr>\n",
              "      <th>min</th>\n",
              "      <td>0.006320</td>\n",
              "      <td>0.000000</td>\n",
              "      <td>0.460000</td>\n",
              "      <td>0.000000</td>\n",
              "      <td>0.385000</td>\n",
              "      <td>3.561000</td>\n",
              "      <td>2.900000</td>\n",
              "      <td>1.129600</td>\n",
              "      <td>1.000000</td>\n",
              "      <td>187.000000</td>\n",
              "      <td>12.600000</td>\n",
              "      <td>0.320000</td>\n",
              "      <td>1.730000</td>\n",
              "      <td>5.000000</td>\n",
              "    </tr>\n",
              "    <tr>\n",
              "      <th>25%</th>\n",
              "      <td>0.082045</td>\n",
              "      <td>0.000000</td>\n",
              "      <td>5.190000</td>\n",
              "      <td>0.000000</td>\n",
              "      <td>0.449000</td>\n",
              "      <td>5.885500</td>\n",
              "      <td>45.025000</td>\n",
              "      <td>2.100175</td>\n",
              "      <td>4.000000</td>\n",
              "      <td>279.000000</td>\n",
              "      <td>17.400000</td>\n",
              "      <td>375.377500</td>\n",
              "      <td>6.950000</td>\n",
              "      <td>17.025000</td>\n",
              "    </tr>\n",
              "    <tr>\n",
              "      <th>50%</th>\n",
              "      <td>0.256510</td>\n",
              "      <td>0.000000</td>\n",
              "      <td>9.690000</td>\n",
              "      <td>0.000000</td>\n",
              "      <td>0.538000</td>\n",
              "      <td>6.208500</td>\n",
              "      <td>77.500000</td>\n",
              "      <td>3.207450</td>\n",
              "      <td>5.000000</td>\n",
              "      <td>330.000000</td>\n",
              "      <td>19.050000</td>\n",
              "      <td>391.440000</td>\n",
              "      <td>11.360000</td>\n",
              "      <td>21.200000</td>\n",
              "    </tr>\n",
              "    <tr>\n",
              "      <th>75%</th>\n",
              "      <td>3.677082</td>\n",
              "      <td>12.500000</td>\n",
              "      <td>18.100000</td>\n",
              "      <td>0.000000</td>\n",
              "      <td>0.624000</td>\n",
              "      <td>6.623500</td>\n",
              "      <td>94.075000</td>\n",
              "      <td>5.188425</td>\n",
              "      <td>24.000000</td>\n",
              "      <td>666.000000</td>\n",
              "      <td>20.200000</td>\n",
              "      <td>396.225000</td>\n",
              "      <td>16.955000</td>\n",
              "      <td>25.000000</td>\n",
              "    </tr>\n",
              "    <tr>\n",
              "      <th>max</th>\n",
              "      <td>88.976200</td>\n",
              "      <td>100.000000</td>\n",
              "      <td>27.740000</td>\n",
              "      <td>1.000000</td>\n",
              "      <td>0.871000</td>\n",
              "      <td>8.780000</td>\n",
              "      <td>100.000000</td>\n",
              "      <td>12.126500</td>\n",
              "      <td>24.000000</td>\n",
              "      <td>711.000000</td>\n",
              "      <td>22.000000</td>\n",
              "      <td>396.900000</td>\n",
              "      <td>37.970000</td>\n",
              "      <td>50.000000</td>\n",
              "    </tr>\n",
              "  </tbody>\n",
              "</table>\n",
              "</div>"
            ],
            "text/plain": [
              "             CRIM          ZN       INDUS  ...           B       LSTAT        MEDV\n",
              "count  506.000000  506.000000  506.000000  ...  506.000000  506.000000  506.000000\n",
              "mean     3.613524   11.363636   11.136779  ...  356.674032   12.653063   22.532806\n",
              "std      8.601545   23.322453    6.860353  ...   91.294864    7.141062    9.197104\n",
              "min      0.006320    0.000000    0.460000  ...    0.320000    1.730000    5.000000\n",
              "25%      0.082045    0.000000    5.190000  ...  375.377500    6.950000   17.025000\n",
              "50%      0.256510    0.000000    9.690000  ...  391.440000   11.360000   21.200000\n",
              "75%      3.677082   12.500000   18.100000  ...  396.225000   16.955000   25.000000\n",
              "max     88.976200  100.000000   27.740000  ...  396.900000   37.970000   50.000000\n",
              "\n",
              "[8 rows x 14 columns]"
            ]
          },
          "metadata": {
            "tags": []
          },
          "execution_count": 3
        }
      ]
    },
    {
      "cell_type": "code",
      "metadata": {
        "id": "GL3xjjCynNIb",
        "colab_type": "code",
        "colab": {}
      },
      "source": [
        "X = boston.drop(\"MEDV\", axis=1).values\n",
        "y = boston[\"MEDV\"].values\n",
        "\n",
        "X_train, X_test, y_train, y_test = train_test_split(X,y, test_size=0.3, random_state=0)"
      ],
      "execution_count": 0,
      "outputs": []
    },
    {
      "cell_type": "code",
      "metadata": {
        "id": "Mwi4ptIQnw6Q",
        "colab_type": "code",
        "colab": {}
      },
      "source": [
        "ss = StandardScaler()\n",
        "X_train = ss.fit_transform(X_train)\n",
        "X_test = ss.transform(X_test)"
      ],
      "execution_count": 0,
      "outputs": []
    },
    {
      "cell_type": "markdown",
      "metadata": {
        "id": "gl28_MAgozWY",
        "colab_type": "text"
      },
      "source": [
        "# Regressione"
      ]
    },
    {
      "cell_type": "code",
      "metadata": {
        "id": "QPN2R1QuovbG",
        "colab_type": "code",
        "colab": {}
      },
      "source": [
        "regularizer = keras.regularizers.L1L2(l1=0.01, l2=0.1)\n",
        "\n",
        "model = keras.models.Sequential([\n",
        "    keras.layers.Dense(64, input_shape=[X.shape[1]], activation=\"relu\", kernel_regularizer=regularizer),\n",
        "    keras.layers.Dense(64, input_shape=[X.shape[1]], activation=\"relu\", kernel_regularizer=regularizer),\n",
        "    keras.layers.Dense(1, input_shape=[X.shape[1]], activation=\"linear\"),\n",
        "])"
      ],
      "execution_count": 0,
      "outputs": []
    },
    {
      "cell_type": "markdown",
      "metadata": {
        "id": "gGZVOrdpzphW",
        "colab_type": "text"
      },
      "source": [
        "## Mean Squared Error"
      ]
    },
    {
      "cell_type": "code",
      "metadata": {
        "id": "2iQajaWxom2m",
        "colab_type": "code",
        "colab": {}
      },
      "source": [
        "model.compile(optimizer=\"adam\", loss=\"mean_squared_error\")"
      ],
      "execution_count": 0,
      "outputs": []
    },
    {
      "cell_type": "code",
      "metadata": {
        "id": "b6bfoAq6pOlX",
        "colab_type": "code",
        "outputId": "75e9e842-3a75-4938-c3f2-6c36b793cde5",
        "colab": {
          "base_uri": "https://localhost:8080/",
          "height": 1000
        }
      },
      "source": [
        "model.fit(X_train, y_train, epochs=200)"
      ],
      "execution_count": 8,
      "outputs": [
        {
          "output_type": "stream",
          "text": [
            "Epoch 1/200\n",
            "12/12 [==============================] - 0s 2ms/step - loss: 607.2388\n",
            "Epoch 2/200\n",
            "12/12 [==============================] - 0s 1ms/step - loss: 553.4742\n",
            "Epoch 3/200\n",
            "12/12 [==============================] - 0s 2ms/step - loss: 492.8711\n",
            "Epoch 4/200\n",
            "12/12 [==============================] - 0s 1ms/step - loss: 415.8910\n",
            "Epoch 5/200\n",
            "12/12 [==============================] - 0s 2ms/step - loss: 321.1479\n",
            "Epoch 6/200\n",
            "12/12 [==============================] - 0s 2ms/step - loss: 220.1905\n",
            "Epoch 7/200\n",
            "12/12 [==============================] - 0s 2ms/step - loss: 135.4044\n",
            "Epoch 8/200\n",
            "12/12 [==============================] - 0s 1ms/step - loss: 85.3211\n",
            "Epoch 9/200\n",
            "12/12 [==============================] - 0s 2ms/step - loss: 64.7106\n",
            "Epoch 10/200\n",
            "12/12 [==============================] - 0s 1ms/step - loss: 54.0028\n",
            "Epoch 11/200\n",
            "12/12 [==============================] - 0s 1ms/step - loss: 46.1999\n",
            "Epoch 12/200\n",
            "12/12 [==============================] - 0s 2ms/step - loss: 41.2155\n",
            "Epoch 13/200\n",
            "12/12 [==============================] - 0s 1ms/step - loss: 38.2378\n",
            "Epoch 14/200\n",
            "12/12 [==============================] - 0s 2ms/step - loss: 36.4899\n",
            "Epoch 15/200\n",
            "12/12 [==============================] - 0s 1ms/step - loss: 35.0592\n",
            "Epoch 16/200\n",
            "12/12 [==============================] - 0s 1ms/step - loss: 33.6168\n",
            "Epoch 17/200\n",
            "12/12 [==============================] - 0s 1ms/step - loss: 32.6164\n",
            "Epoch 18/200\n",
            "12/12 [==============================] - 0s 1ms/step - loss: 31.7799\n",
            "Epoch 19/200\n",
            "12/12 [==============================] - 0s 1ms/step - loss: 30.9705\n",
            "Epoch 20/200\n",
            "12/12 [==============================] - 0s 2ms/step - loss: 30.3185\n",
            "Epoch 21/200\n",
            "12/12 [==============================] - 0s 1ms/step - loss: 29.6555\n",
            "Epoch 22/200\n",
            "12/12 [==============================] - 0s 2ms/step - loss: 29.0601\n",
            "Epoch 23/200\n",
            "12/12 [==============================] - 0s 2ms/step - loss: 28.4894\n",
            "Epoch 24/200\n",
            "12/12 [==============================] - 0s 2ms/step - loss: 28.1802\n",
            "Epoch 25/200\n",
            "12/12 [==============================] - 0s 2ms/step - loss: 27.6212\n",
            "Epoch 26/200\n",
            "12/12 [==============================] - 0s 2ms/step - loss: 26.9700\n",
            "Epoch 27/200\n",
            "12/12 [==============================] - 0s 2ms/step - loss: 26.6779\n",
            "Epoch 28/200\n",
            "12/12 [==============================] - 0s 1ms/step - loss: 26.3029\n",
            "Epoch 29/200\n",
            "12/12 [==============================] - 0s 1ms/step - loss: 25.9334\n",
            "Epoch 30/200\n",
            "12/12 [==============================] - 0s 2ms/step - loss: 25.4021\n",
            "Epoch 31/200\n",
            "12/12 [==============================] - 0s 2ms/step - loss: 25.1207\n",
            "Epoch 32/200\n",
            "12/12 [==============================] - 0s 2ms/step - loss: 24.9439\n",
            "Epoch 33/200\n",
            "12/12 [==============================] - 0s 2ms/step - loss: 24.6380\n",
            "Epoch 34/200\n",
            "12/12 [==============================] - 0s 2ms/step - loss: 24.2062\n",
            "Epoch 35/200\n",
            "12/12 [==============================] - 0s 2ms/step - loss: 23.8782\n",
            "Epoch 36/200\n",
            "12/12 [==============================] - 0s 2ms/step - loss: 23.8111\n",
            "Epoch 37/200\n",
            "12/12 [==============================] - 0s 2ms/step - loss: 23.4370\n",
            "Epoch 38/200\n",
            "12/12 [==============================] - 0s 2ms/step - loss: 23.8263\n",
            "Epoch 39/200\n",
            "12/12 [==============================] - 0s 2ms/step - loss: 23.3996\n",
            "Epoch 40/200\n",
            "12/12 [==============================] - 0s 2ms/step - loss: 22.7474\n",
            "Epoch 41/200\n",
            "12/12 [==============================] - 0s 1ms/step - loss: 22.3894\n",
            "Epoch 42/200\n",
            "12/12 [==============================] - 0s 2ms/step - loss: 22.1164\n",
            "Epoch 43/200\n",
            "12/12 [==============================] - 0s 2ms/step - loss: 21.9331\n",
            "Epoch 44/200\n",
            "12/12 [==============================] - 0s 2ms/step - loss: 21.9260\n",
            "Epoch 45/200\n",
            "12/12 [==============================] - 0s 2ms/step - loss: 21.7118\n",
            "Epoch 46/200\n",
            "12/12 [==============================] - 0s 2ms/step - loss: 21.4822\n",
            "Epoch 47/200\n",
            "12/12 [==============================] - 0s 1ms/step - loss: 21.7396\n",
            "Epoch 48/200\n",
            "12/12 [==============================] - 0s 2ms/step - loss: 21.2852\n",
            "Epoch 49/200\n",
            "12/12 [==============================] - 0s 2ms/step - loss: 21.0628\n",
            "Epoch 50/200\n",
            "12/12 [==============================] - 0s 2ms/step - loss: 20.8287\n",
            "Epoch 51/200\n",
            "12/12 [==============================] - 0s 1ms/step - loss: 20.6553\n",
            "Epoch 52/200\n",
            "12/12 [==============================] - 0s 2ms/step - loss: 20.3811\n",
            "Epoch 53/200\n",
            "12/12 [==============================] - 0s 1ms/step - loss: 20.2620\n",
            "Epoch 54/200\n",
            "12/12 [==============================] - 0s 1ms/step - loss: 20.1850\n",
            "Epoch 55/200\n",
            "12/12 [==============================] - 0s 2ms/step - loss: 20.1227\n",
            "Epoch 56/200\n",
            "12/12 [==============================] - 0s 1ms/step - loss: 20.3124\n",
            "Epoch 57/200\n",
            "12/12 [==============================] - 0s 2ms/step - loss: 20.0862\n",
            "Epoch 58/200\n",
            "12/12 [==============================] - 0s 1ms/step - loss: 19.6668\n",
            "Epoch 59/200\n",
            "12/12 [==============================] - 0s 1ms/step - loss: 19.4974\n",
            "Epoch 60/200\n",
            "12/12 [==============================] - 0s 1ms/step - loss: 19.4016\n",
            "Epoch 61/200\n",
            "12/12 [==============================] - 0s 2ms/step - loss: 19.4285\n",
            "Epoch 62/200\n",
            "12/12 [==============================] - 0s 2ms/step - loss: 19.3559\n",
            "Epoch 63/200\n",
            "12/12 [==============================] - 0s 2ms/step - loss: 19.1500\n",
            "Epoch 64/200\n",
            "12/12 [==============================] - 0s 1ms/step - loss: 18.9238\n",
            "Epoch 65/200\n",
            "12/12 [==============================] - 0s 2ms/step - loss: 18.8419\n",
            "Epoch 66/200\n",
            "12/12 [==============================] - 0s 1ms/step - loss: 18.7868\n",
            "Epoch 67/200\n",
            "12/12 [==============================] - 0s 2ms/step - loss: 18.7080\n",
            "Epoch 68/200\n",
            "12/12 [==============================] - 0s 3ms/step - loss: 18.5606\n",
            "Epoch 69/200\n",
            "12/12 [==============================] - 0s 1ms/step - loss: 18.4955\n",
            "Epoch 70/200\n",
            "12/12 [==============================] - 0s 2ms/step - loss: 18.2613\n",
            "Epoch 71/200\n",
            "12/12 [==============================] - 0s 2ms/step - loss: 18.2678\n",
            "Epoch 72/200\n",
            "12/12 [==============================] - 0s 1ms/step - loss: 18.1976\n",
            "Epoch 73/200\n",
            "12/12 [==============================] - 0s 1ms/step - loss: 18.1067\n",
            "Epoch 74/200\n",
            "12/12 [==============================] - 0s 2ms/step - loss: 17.9781\n",
            "Epoch 75/200\n",
            "12/12 [==============================] - 0s 1ms/step - loss: 17.7820\n",
            "Epoch 76/200\n",
            "12/12 [==============================] - 0s 1ms/step - loss: 17.7257\n",
            "Epoch 77/200\n",
            "12/12 [==============================] - 0s 2ms/step - loss: 17.8261\n",
            "Epoch 78/200\n",
            "12/12 [==============================] - 0s 2ms/step - loss: 17.5786\n",
            "Epoch 79/200\n",
            "12/12 [==============================] - 0s 1ms/step - loss: 17.4572\n",
            "Epoch 80/200\n",
            "12/12 [==============================] - 0s 2ms/step - loss: 17.4079\n",
            "Epoch 81/200\n",
            "12/12 [==============================] - 0s 2ms/step - loss: 17.3301\n",
            "Epoch 82/200\n",
            "12/12 [==============================] - 0s 2ms/step - loss: 17.3139\n",
            "Epoch 83/200\n",
            "12/12 [==============================] - 0s 2ms/step - loss: 17.2723\n",
            "Epoch 84/200\n",
            "12/12 [==============================] - 0s 1ms/step - loss: 17.1469\n",
            "Epoch 85/200\n",
            "12/12 [==============================] - 0s 1ms/step - loss: 16.9711\n",
            "Epoch 86/200\n",
            "12/12 [==============================] - 0s 1ms/step - loss: 16.8706\n",
            "Epoch 87/200\n",
            "12/12 [==============================] - 0s 1ms/step - loss: 17.0435\n",
            "Epoch 88/200\n",
            "12/12 [==============================] - 0s 2ms/step - loss: 17.3524\n",
            "Epoch 89/200\n",
            "12/12 [==============================] - 0s 2ms/step - loss: 16.7701\n",
            "Epoch 90/200\n",
            "12/12 [==============================] - 0s 2ms/step - loss: 16.5813\n",
            "Epoch 91/200\n",
            "12/12 [==============================] - 0s 2ms/step - loss: 16.7015\n",
            "Epoch 92/200\n",
            "12/12 [==============================] - 0s 1ms/step - loss: 16.5937\n",
            "Epoch 93/200\n",
            "12/12 [==============================] - 0s 1ms/step - loss: 16.3914\n",
            "Epoch 94/200\n",
            "12/12 [==============================] - 0s 2ms/step - loss: 16.4163\n",
            "Epoch 95/200\n",
            "12/12 [==============================] - 0s 2ms/step - loss: 16.4140\n",
            "Epoch 96/200\n",
            "12/12 [==============================] - 0s 1ms/step - loss: 16.2545\n",
            "Epoch 97/200\n",
            "12/12 [==============================] - 0s 2ms/step - loss: 16.3191\n",
            "Epoch 98/200\n",
            "12/12 [==============================] - 0s 2ms/step - loss: 16.0980\n",
            "Epoch 99/200\n",
            "12/12 [==============================] - 0s 1ms/step - loss: 16.3235\n",
            "Epoch 100/200\n",
            "12/12 [==============================] - 0s 1ms/step - loss: 16.0357\n",
            "Epoch 101/200\n",
            "12/12 [==============================] - 0s 1ms/step - loss: 16.3178\n",
            "Epoch 102/200\n",
            "12/12 [==============================] - 0s 1ms/step - loss: 15.9763\n",
            "Epoch 103/200\n",
            "12/12 [==============================] - 0s 1ms/step - loss: 15.9204\n",
            "Epoch 104/200\n",
            "12/12 [==============================] - 0s 1ms/step - loss: 15.8806\n",
            "Epoch 105/200\n",
            "12/12 [==============================] - 0s 2ms/step - loss: 15.8886\n",
            "Epoch 106/200\n",
            "12/12 [==============================] - 0s 1ms/step - loss: 15.7192\n",
            "Epoch 107/200\n",
            "12/12 [==============================] - 0s 1ms/step - loss: 15.5720\n",
            "Epoch 108/200\n",
            "12/12 [==============================] - 0s 1ms/step - loss: 15.4572\n",
            "Epoch 109/200\n",
            "12/12 [==============================] - 0s 1ms/step - loss: 15.3828\n",
            "Epoch 110/200\n",
            "12/12 [==============================] - 0s 1ms/step - loss: 15.3456\n",
            "Epoch 111/200\n",
            "12/12 [==============================] - 0s 1ms/step - loss: 15.2921\n",
            "Epoch 112/200\n",
            "12/12 [==============================] - 0s 1ms/step - loss: 15.3040\n",
            "Epoch 113/200\n",
            "12/12 [==============================] - 0s 1ms/step - loss: 15.2091\n",
            "Epoch 114/200\n",
            "12/12 [==============================] - 0s 1ms/step - loss: 15.2576\n",
            "Epoch 115/200\n",
            "12/12 [==============================] - 0s 1ms/step - loss: 15.4738\n",
            "Epoch 116/200\n",
            "12/12 [==============================] - 0s 1ms/step - loss: 15.3627\n",
            "Epoch 117/200\n",
            "12/12 [==============================] - 0s 2ms/step - loss: 15.0833\n",
            "Epoch 118/200\n",
            "12/12 [==============================] - 0s 1ms/step - loss: 14.9948\n",
            "Epoch 119/200\n",
            "12/12 [==============================] - 0s 1ms/step - loss: 15.3689\n",
            "Epoch 120/200\n",
            "12/12 [==============================] - 0s 1ms/step - loss: 15.2220\n",
            "Epoch 121/200\n",
            "12/12 [==============================] - 0s 2ms/step - loss: 14.9816\n",
            "Epoch 122/200\n",
            "12/12 [==============================] - 0s 1ms/step - loss: 14.9086\n",
            "Epoch 123/200\n",
            "12/12 [==============================] - 0s 1ms/step - loss: 14.7766\n",
            "Epoch 124/200\n",
            "12/12 [==============================] - 0s 2ms/step - loss: 14.7828\n",
            "Epoch 125/200\n",
            "12/12 [==============================] - 0s 1ms/step - loss: 14.6330\n",
            "Epoch 126/200\n",
            "12/12 [==============================] - 0s 1ms/step - loss: 14.5514\n",
            "Epoch 127/200\n",
            "12/12 [==============================] - 0s 2ms/step - loss: 14.5344\n",
            "Epoch 128/200\n",
            "12/12 [==============================] - 0s 1ms/step - loss: 14.5875\n",
            "Epoch 129/200\n",
            "12/12 [==============================] - 0s 1ms/step - loss: 14.4410\n",
            "Epoch 130/200\n",
            "12/12 [==============================] - 0s 2ms/step - loss: 14.3646\n",
            "Epoch 131/200\n",
            "12/12 [==============================] - 0s 2ms/step - loss: 14.2908\n",
            "Epoch 132/200\n",
            "12/12 [==============================] - 0s 2ms/step - loss: 14.4321\n",
            "Epoch 133/200\n",
            "12/12 [==============================] - 0s 2ms/step - loss: 14.1936\n",
            "Epoch 134/200\n",
            "12/12 [==============================] - 0s 1ms/step - loss: 14.2061\n",
            "Epoch 135/200\n",
            "12/12 [==============================] - 0s 2ms/step - loss: 14.1287\n",
            "Epoch 136/200\n",
            "12/12 [==============================] - 0s 1ms/step - loss: 14.0864\n",
            "Epoch 137/200\n",
            "12/12 [==============================] - 0s 2ms/step - loss: 14.3907\n",
            "Epoch 138/200\n",
            "12/12 [==============================] - 0s 1ms/step - loss: 14.1930\n",
            "Epoch 139/200\n",
            "12/12 [==============================] - 0s 2ms/step - loss: 14.4110\n",
            "Epoch 140/200\n",
            "12/12 [==============================] - 0s 1ms/step - loss: 14.2336\n",
            "Epoch 141/200\n",
            "12/12 [==============================] - 0s 1ms/step - loss: 13.9754\n",
            "Epoch 142/200\n",
            "12/12 [==============================] - 0s 1ms/step - loss: 13.9448\n",
            "Epoch 143/200\n",
            "12/12 [==============================] - 0s 1ms/step - loss: 14.0144\n",
            "Epoch 144/200\n",
            "12/12 [==============================] - 0s 1ms/step - loss: 13.8906\n",
            "Epoch 145/200\n",
            "12/12 [==============================] - 0s 2ms/step - loss: 13.7324\n",
            "Epoch 146/200\n",
            "12/12 [==============================] - 0s 2ms/step - loss: 13.7031\n",
            "Epoch 147/200\n",
            "12/12 [==============================] - 0s 2ms/step - loss: 13.6991\n",
            "Epoch 148/200\n",
            "12/12 [==============================] - 0s 2ms/step - loss: 13.7792\n",
            "Epoch 149/200\n",
            "12/12 [==============================] - 0s 2ms/step - loss: 13.5750\n",
            "Epoch 150/200\n",
            "12/12 [==============================] - 0s 1ms/step - loss: 13.9148\n",
            "Epoch 151/200\n",
            "12/12 [==============================] - 0s 1ms/step - loss: 13.5825\n",
            "Epoch 152/200\n",
            "12/12 [==============================] - 0s 1ms/step - loss: 13.5745\n",
            "Epoch 153/200\n",
            "12/12 [==============================] - 0s 1ms/step - loss: 13.6033\n",
            "Epoch 154/200\n",
            "12/12 [==============================] - 0s 1ms/step - loss: 13.5325\n",
            "Epoch 155/200\n",
            "12/12 [==============================] - 0s 1ms/step - loss: 13.4437\n",
            "Epoch 156/200\n",
            "12/12 [==============================] - 0s 1ms/step - loss: 13.2878\n",
            "Epoch 157/200\n",
            "12/12 [==============================] - 0s 1ms/step - loss: 13.3881\n",
            "Epoch 158/200\n",
            "12/12 [==============================] - 0s 1ms/step - loss: 13.2757\n",
            "Epoch 159/200\n",
            "12/12 [==============================] - 0s 2ms/step - loss: 13.3089\n",
            "Epoch 160/200\n",
            "12/12 [==============================] - 0s 2ms/step - loss: 13.3184\n",
            "Epoch 161/200\n",
            "12/12 [==============================] - 0s 2ms/step - loss: 13.4096\n",
            "Epoch 162/200\n",
            "12/12 [==============================] - 0s 2ms/step - loss: 13.1809\n",
            "Epoch 163/200\n",
            "12/12 [==============================] - 0s 1ms/step - loss: 13.1394\n",
            "Epoch 164/200\n",
            "12/12 [==============================] - 0s 2ms/step - loss: 13.0728\n",
            "Epoch 165/200\n",
            "12/12 [==============================] - 0s 2ms/step - loss: 12.9536\n",
            "Epoch 166/200\n",
            "12/12 [==============================] - 0s 2ms/step - loss: 13.0072\n",
            "Epoch 167/200\n",
            "12/12 [==============================] - 0s 1ms/step - loss: 12.9318\n",
            "Epoch 168/200\n",
            "12/12 [==============================] - 0s 2ms/step - loss: 12.8943\n",
            "Epoch 169/200\n",
            "12/12 [==============================] - 0s 2ms/step - loss: 12.8953\n",
            "Epoch 170/200\n",
            "12/12 [==============================] - 0s 1ms/step - loss: 12.8797\n",
            "Epoch 171/200\n",
            "12/12 [==============================] - 0s 2ms/step - loss: 12.8236\n",
            "Epoch 172/200\n",
            "12/12 [==============================] - 0s 2ms/step - loss: 12.9714\n",
            "Epoch 173/200\n",
            "12/12 [==============================] - 0s 2ms/step - loss: 12.8122\n",
            "Epoch 174/200\n",
            "12/12 [==============================] - 0s 2ms/step - loss: 12.8677\n",
            "Epoch 175/200\n",
            "12/12 [==============================] - 0s 2ms/step - loss: 12.9364\n",
            "Epoch 176/200\n",
            "12/12 [==============================] - 0s 1ms/step - loss: 12.8801\n",
            "Epoch 177/200\n",
            "12/12 [==============================] - 0s 1ms/step - loss: 12.8612\n",
            "Epoch 178/200\n",
            "12/12 [==============================] - 0s 1ms/step - loss: 12.5313\n",
            "Epoch 179/200\n",
            "12/12 [==============================] - 0s 1ms/step - loss: 12.5302\n",
            "Epoch 180/200\n",
            "12/12 [==============================] - 0s 2ms/step - loss: 12.7524\n",
            "Epoch 181/200\n",
            "12/12 [==============================] - 0s 1ms/step - loss: 12.4896\n",
            "Epoch 182/200\n",
            "12/12 [==============================] - 0s 2ms/step - loss: 12.4973\n",
            "Epoch 183/200\n",
            "12/12 [==============================] - 0s 2ms/step - loss: 12.4445\n",
            "Epoch 184/200\n",
            "12/12 [==============================] - 0s 2ms/step - loss: 12.4061\n",
            "Epoch 185/200\n",
            "12/12 [==============================] - 0s 2ms/step - loss: 12.4677\n",
            "Epoch 186/200\n",
            "12/12 [==============================] - 0s 2ms/step - loss: 12.5094\n",
            "Epoch 187/200\n",
            "12/12 [==============================] - 0s 1ms/step - loss: 12.8923\n",
            "Epoch 188/200\n",
            "12/12 [==============================] - 0s 1ms/step - loss: 12.4410\n",
            "Epoch 189/200\n",
            "12/12 [==============================] - 0s 1ms/step - loss: 12.3685\n",
            "Epoch 190/200\n",
            "12/12 [==============================] - 0s 1ms/step - loss: 12.3689\n",
            "Epoch 191/200\n",
            "12/12 [==============================] - 0s 1ms/step - loss: 12.2294\n",
            "Epoch 192/200\n",
            "12/12 [==============================] - 0s 1ms/step - loss: 12.2463\n",
            "Epoch 193/200\n",
            "12/12 [==============================] - 0s 1ms/step - loss: 12.1338\n",
            "Epoch 194/200\n",
            "12/12 [==============================] - 0s 1ms/step - loss: 12.9928\n",
            "Epoch 195/200\n",
            "12/12 [==============================] - 0s 1ms/step - loss: 12.7951\n",
            "Epoch 196/200\n",
            "12/12 [==============================] - 0s 2ms/step - loss: 12.4866\n",
            "Epoch 197/200\n",
            "12/12 [==============================] - 0s 1ms/step - loss: 12.0779\n",
            "Epoch 198/200\n",
            "12/12 [==============================] - 0s 1ms/step - loss: 12.0554\n",
            "Epoch 199/200\n",
            "12/12 [==============================] - 0s 1ms/step - loss: 12.1695\n",
            "Epoch 200/200\n",
            "12/12 [==============================] - 0s 1ms/step - loss: 12.0261\n"
          ],
          "name": "stdout"
        },
        {
          "output_type": "execute_result",
          "data": {
            "text/plain": [
              "<tensorflow.python.keras.callbacks.History at 0x7febefed3a58>"
            ]
          },
          "metadata": {
            "tags": []
          },
          "execution_count": 8
        }
      ]
    },
    {
      "cell_type": "code",
      "metadata": {
        "id": "LyLQsde-pXJr",
        "colab_type": "code",
        "outputId": "a53bb563-17a1-4229-e736-228b99f4a498",
        "colab": {
          "base_uri": "https://localhost:8080/",
          "height": 87
        }
      },
      "source": [
        "metrics_train = model.evaluate(X_train, y_train)\n",
        "metrics_test = model.evaluate(X_test, y_test)\n",
        "print(\"Loss sul set di addestramento %.4f\" % (metrics_train))\n",
        "print(\"Loss sul set di test %.4f\" % (metrics_test))"
      ],
      "execution_count": 9,
      "outputs": [
        {
          "output_type": "stream",
          "text": [
            "12/12 [==============================] - 0s 1ms/step - loss: 11.9344\n",
            "5/5 [==============================] - 0s 2ms/step - loss: 21.8476\n",
            "Loss sul set di addestramento 11.9344\n",
            "Loss sul set di test 21.8476\n"
          ],
          "name": "stdout"
        }
      ]
    },
    {
      "cell_type": "markdown",
      "metadata": {
        "id": "iYFTnq-isL6y",
        "colab_type": "text"
      },
      "source": [
        "## MAE - Mean Absolute Error"
      ]
    },
    {
      "cell_type": "code",
      "metadata": {
        "id": "XXVd9gdOs2WP",
        "colab_type": "code",
        "outputId": "47d44c9b-cfd9-4d2e-fe89-080cacbf5357",
        "colab": {
          "base_uri": "https://localhost:8080/",
          "height": 35
        }
      },
      "source": [
        "model.compile(optimizer=\"adam\", loss=\"mean_absolute_error\", metrics=[\"mean_squared_error\"])\n",
        "model.fit(X_train, y_train, epochs=200, verbose=0)"
      ],
      "execution_count": 10,
      "outputs": [
        {
          "output_type": "execute_result",
          "data": {
            "text/plain": [
              "<tensorflow.python.keras.callbacks.History at 0x7febecfe5390>"
            ]
          },
          "metadata": {
            "tags": []
          },
          "execution_count": 10
        }
      ]
    },
    {
      "cell_type": "code",
      "metadata": {
        "id": "alHPdXCPsf2k",
        "colab_type": "code",
        "outputId": "8eedb559-6c20-4ff5-a3ae-76aa3e1c1c60",
        "colab": {
          "base_uri": "https://localhost:8080/",
          "height": 87
        }
      },
      "source": [
        "metrics_train = model.evaluate(X_train, y_train)\n",
        "metrics_test = model.evaluate(X_test, y_test)\n",
        "\n",
        "print(\"Set di Addestramento: MAE = %.4f - MSE = %.4f\" % (metrics_train[0], metrics_train[1]))\n",
        "print(\"Set di Test: MAE = %.4f - MSE = %.4f\" % (metrics_test[0], metrics_test[1]))"
      ],
      "execution_count": 11,
      "outputs": [
        {
          "output_type": "stream",
          "text": [
            "12/12 [==============================] - 0s 1ms/step - loss: 3.2149 - mean_squared_error: 13.9150\n",
            "5/5 [==============================] - 0s 2ms/step - loss: 4.0988 - mean_squared_error: 24.4204\n",
            "Set di Addestramento: MAE = 3.2149 - MSE = 13.9150\n",
            "Set di Test: MAE = 4.0988 - MSE = 24.4204\n"
          ],
          "name": "stdout"
        }
      ]
    },
    {
      "cell_type": "markdown",
      "metadata": {
        "id": "sQeNlKCNq1x_",
        "colab_type": "text"
      },
      "source": [
        "## RMSE - Root Mean Squared Error"
      ]
    },
    {
      "cell_type": "code",
      "metadata": {
        "id": "F6re9cxhqy-p",
        "colab_type": "code",
        "outputId": "3352bcd4-9d4f-495e-f841-895f53232855",
        "colab": {
          "base_uri": "https://localhost:8080/",
          "height": 35
        }
      },
      "source": [
        "from math import sqrt\n",
        "\n",
        "print(\"Errore medio: %.2f $\" % (sqrt(metrics_test[1])*1000))"
      ],
      "execution_count": 12,
      "outputs": [
        {
          "output_type": "stream",
          "text": [
            "Errore medio: 4941.70 $\n"
          ],
          "name": "stdout"
        }
      ]
    },
    {
      "cell_type": "code",
      "metadata": {
        "id": "AO5j0sdbs4eP",
        "colab_type": "code",
        "outputId": "0ba61f7c-1b69-465a-f723-0b3a1d44508e",
        "colab": {
          "base_uri": "https://localhost:8080/",
          "height": 35
        }
      },
      "source": [
        "rmse = tf.keras.metrics.RootMeanSquaredError()\n",
        "model.compile(optimizer=\"adam\", loss=\"mean_squared_error\", metrics=[rmse])\n",
        "model.fit(X_train, y_train, epochs=200, verbose=0)"
      ],
      "execution_count": 13,
      "outputs": [
        {
          "output_type": "execute_result",
          "data": {
            "text/plain": [
              "<tensorflow.python.keras.callbacks.History at 0x7febebe56f28>"
            ]
          },
          "metadata": {
            "tags": []
          },
          "execution_count": 13
        }
      ]
    },
    {
      "cell_type": "code",
      "metadata": {
        "id": "e4Mo377AtsCs",
        "colab_type": "code",
        "outputId": "481416d3-d7d5-4cbb-ec01-d8a9979d6913",
        "colab": {
          "base_uri": "https://localhost:8080/",
          "height": 87
        }
      },
      "source": [
        "metrics_train = model.evaluate(X_train, y_train)\n",
        "metrics_test = model.evaluate(X_test, y_test)\n",
        "\n",
        "print(\"Set di Addestramento: MAE = %.4f - RMSE = %.4f\" % (metrics_train[0], metrics_train[1]))\n",
        "print(\"Set di Test: MAE = %.4f - RMSE = %.4f\"  % (metrics_test[0], metrics_test[1]))"
      ],
      "execution_count": 14,
      "outputs": [
        {
          "output_type": "stream",
          "text": [
            "12/12 [==============================] - 0s 1ms/step - loss: 7.3759 - root_mean_squared_error: 2.2863\n",
            "5/5 [==============================] - 0s 1ms/step - loss: 16.0695 - root_mean_squared_error: 3.7311\n",
            "Set di Addestramento: MAE = 7.3759 - RMSE = 2.2863\n",
            "Set di Test: MAE = 16.0695 - RMSE = 3.7311\n"
          ],
          "name": "stdout"
        }
      ]
    },
    {
      "cell_type": "markdown",
      "metadata": {
        "id": "AgPKmVAlrXMQ",
        "colab_type": "text"
      },
      "source": [
        "## R2 - Coefficente di Determinazione"
      ]
    },
    {
      "cell_type": "code",
      "metadata": {
        "id": "aUaMHXA8qfvN",
        "colab_type": "code",
        "outputId": "c2bd78f7-7838-4bf1-bd2a-9e70c502bd2d",
        "colab": {
          "base_uri": "https://localhost:8080/",
          "height": 35
        }
      },
      "source": [
        "from sklearn.metrics import r2_score\n",
        "\n",
        "print(\"Coefficente di Determinazione: %.2f\" % r2_score(y_test, model.predict(X_test)))"
      ],
      "execution_count": 15,
      "outputs": [
        {
          "output_type": "stream",
          "text": [
            "Coefficente di Determinazione: 0.83\n"
          ],
          "name": "stdout"
        }
      ]
    },
    {
      "cell_type": "markdown",
      "metadata": {
        "id": "Ke929vJZqVXh",
        "colab_type": "text"
      },
      "source": [
        "## Classificazione Binaria"
      ]
    },
    {
      "cell_type": "code",
      "metadata": {
        "id": "1tdIJYS_qU0Q",
        "colab_type": "code",
        "colab": {
          "base_uri": "https://localhost:8080/",
          "height": 87
        },
        "outputId": "466d2aa4-b689-4a08-8e95-6e1c927aeea1"
      },
      "source": [
        "metrics_train = model.evaluate(X_train, y_train)\n",
        "metrics_test = model.evaluate(X_test, y_test)\n",
        "print(\"Accuracy sul set di addestramento: %.2f - Loss sul set di addestramento %.4f\" % (metrics_train[1], metrics_train[0]))\n",
        "print(\"Accuracy sul set di test: %.2f - Loss sul set di test %.4f\" % (metrics_test[1], metrics_test[0]))\n"
      ],
      "execution_count": 16,
      "outputs": [
        {
          "output_type": "stream",
          "text": [
            "12/12 [==============================] - 0s 1ms/step - loss: 7.3759 - root_mean_squared_error: 2.2863\n",
            "5/5 [==============================] - 0s 2ms/step - loss: 16.0695 - root_mean_squared_error: 3.7311\n",
            "Accuracy sul set di addestramento: 2.29 - Loss sul set di addestramento 7.3759\n",
            "Accuracy sul set di test: 3.73 - Loss sul set di test 16.0695\n"
          ],
          "name": "stdout"
        }
      ]
    },
    {
      "cell_type": "code",
      "metadata": {
        "id": "DtRT_Uw2pqho",
        "colab_type": "code",
        "outputId": "178471b2-b6c8-406e-c3e3-c295eb0e0ba6",
        "colab": {
          "base_uri": "https://localhost:8080/",
          "height": 202
        }
      },
      "source": [
        "mean_value = boston[\"MEDV\"].mean()\n",
        "\n",
        "boston[\"EXPENSIVE\"] = np.where(boston[\"MEDV\"]>mean_value, 1, 0)\n",
        "boston.head()"
      ],
      "execution_count": 17,
      "outputs": [
        {
          "output_type": "execute_result",
          "data": {
            "text/html": [
              "<div>\n",
              "<style scoped>\n",
              "    .dataframe tbody tr th:only-of-type {\n",
              "        vertical-align: middle;\n",
              "    }\n",
              "\n",
              "    .dataframe tbody tr th {\n",
              "        vertical-align: top;\n",
              "    }\n",
              "\n",
              "    .dataframe thead th {\n",
              "        text-align: right;\n",
              "    }\n",
              "</style>\n",
              "<table border=\"1\" class=\"dataframe\">\n",
              "  <thead>\n",
              "    <tr style=\"text-align: right;\">\n",
              "      <th></th>\n",
              "      <th>CRIM</th>\n",
              "      <th>ZN</th>\n",
              "      <th>INDUS</th>\n",
              "      <th>CHAS</th>\n",
              "      <th>NOX</th>\n",
              "      <th>RM</th>\n",
              "      <th>AGE</th>\n",
              "      <th>DIS</th>\n",
              "      <th>RAD</th>\n",
              "      <th>TAX</th>\n",
              "      <th>PRATIO</th>\n",
              "      <th>B</th>\n",
              "      <th>LSTAT</th>\n",
              "      <th>MEDV</th>\n",
              "      <th>EXPENSIVE</th>\n",
              "    </tr>\n",
              "  </thead>\n",
              "  <tbody>\n",
              "    <tr>\n",
              "      <th>0</th>\n",
              "      <td>0.00632</td>\n",
              "      <td>18.0</td>\n",
              "      <td>2.31</td>\n",
              "      <td>0</td>\n",
              "      <td>0.538</td>\n",
              "      <td>6.575</td>\n",
              "      <td>65.2</td>\n",
              "      <td>4.0900</td>\n",
              "      <td>1</td>\n",
              "      <td>296.0</td>\n",
              "      <td>15.3</td>\n",
              "      <td>396.90</td>\n",
              "      <td>4.98</td>\n",
              "      <td>24.0</td>\n",
              "      <td>1</td>\n",
              "    </tr>\n",
              "    <tr>\n",
              "      <th>1</th>\n",
              "      <td>0.02731</td>\n",
              "      <td>0.0</td>\n",
              "      <td>7.07</td>\n",
              "      <td>0</td>\n",
              "      <td>0.469</td>\n",
              "      <td>6.421</td>\n",
              "      <td>78.9</td>\n",
              "      <td>4.9671</td>\n",
              "      <td>2</td>\n",
              "      <td>242.0</td>\n",
              "      <td>17.8</td>\n",
              "      <td>396.90</td>\n",
              "      <td>9.14</td>\n",
              "      <td>21.6</td>\n",
              "      <td>0</td>\n",
              "    </tr>\n",
              "    <tr>\n",
              "      <th>2</th>\n",
              "      <td>0.02729</td>\n",
              "      <td>0.0</td>\n",
              "      <td>7.07</td>\n",
              "      <td>0</td>\n",
              "      <td>0.469</td>\n",
              "      <td>7.185</td>\n",
              "      <td>61.1</td>\n",
              "      <td>4.9671</td>\n",
              "      <td>2</td>\n",
              "      <td>242.0</td>\n",
              "      <td>17.8</td>\n",
              "      <td>392.83</td>\n",
              "      <td>4.03</td>\n",
              "      <td>34.7</td>\n",
              "      <td>1</td>\n",
              "    </tr>\n",
              "    <tr>\n",
              "      <th>3</th>\n",
              "      <td>0.03237</td>\n",
              "      <td>0.0</td>\n",
              "      <td>2.18</td>\n",
              "      <td>0</td>\n",
              "      <td>0.458</td>\n",
              "      <td>6.998</td>\n",
              "      <td>45.8</td>\n",
              "      <td>6.0622</td>\n",
              "      <td>3</td>\n",
              "      <td>222.0</td>\n",
              "      <td>18.7</td>\n",
              "      <td>394.63</td>\n",
              "      <td>2.94</td>\n",
              "      <td>33.4</td>\n",
              "      <td>1</td>\n",
              "    </tr>\n",
              "    <tr>\n",
              "      <th>4</th>\n",
              "      <td>0.06905</td>\n",
              "      <td>0.0</td>\n",
              "      <td>2.18</td>\n",
              "      <td>0</td>\n",
              "      <td>0.458</td>\n",
              "      <td>7.147</td>\n",
              "      <td>54.2</td>\n",
              "      <td>6.0622</td>\n",
              "      <td>3</td>\n",
              "      <td>222.0</td>\n",
              "      <td>18.7</td>\n",
              "      <td>396.90</td>\n",
              "      <td>5.33</td>\n",
              "      <td>36.2</td>\n",
              "      <td>1</td>\n",
              "    </tr>\n",
              "  </tbody>\n",
              "</table>\n",
              "</div>"
            ],
            "text/plain": [
              "      CRIM    ZN  INDUS  CHAS    NOX  ...  PRATIO       B  LSTAT  MEDV  EXPENSIVE\n",
              "0  0.00632  18.0   2.31     0  0.538  ...    15.3  396.90   4.98  24.0          1\n",
              "1  0.02731   0.0   7.07     0  0.469  ...    17.8  396.90   9.14  21.6          0\n",
              "2  0.02729   0.0   7.07     0  0.469  ...    17.8  392.83   4.03  34.7          1\n",
              "3  0.03237   0.0   2.18     0  0.458  ...    18.7  394.63   2.94  33.4          1\n",
              "4  0.06905   0.0   2.18     0  0.458  ...    18.7  396.90   5.33  36.2          1\n",
              "\n",
              "[5 rows x 15 columns]"
            ]
          },
          "metadata": {
            "tags": []
          },
          "execution_count": 17
        }
      ]
    },
    {
      "cell_type": "code",
      "metadata": {
        "id": "4LRRro5qyOE-",
        "colab_type": "code",
        "colab": {}
      },
      "source": [
        "X = boston.drop([\"MEDV\", \"EXPENSIVE\"], axis=1).values\n",
        "y = boston[\"EXPENSIVE\"].values\n",
        "\n",
        "X_train, X_test, y_train, y_test = train_test_split(X,y, test_size=0.3, random_state=0)"
      ],
      "execution_count": 0,
      "outputs": []
    },
    {
      "cell_type": "code",
      "metadata": {
        "id": "ijQbPSb6zZcS",
        "colab_type": "code",
        "colab": {}
      },
      "source": [
        "ss = StandardScaler()\n",
        "X_train = ss.fit_transform(X_train)\n",
        "X_test = ss.transform(X_test)"
      ],
      "execution_count": 0,
      "outputs": []
    },
    {
      "cell_type": "code",
      "metadata": {
        "id": "BYe2tlbyzb7c",
        "colab_type": "code",
        "colab": {}
      },
      "source": [
        "regularizer = keras.regularizers.L1L2(l1=0.01, l2=0.1)\n",
        "\n",
        "model = keras.models.Sequential([\n",
        "    keras.layers.Dense(64, input_shape=[X.shape[1]], activation=\"relu\", kernel_regularizer=regularizer),\n",
        "    keras.layers.Dense(64, input_shape=[X.shape[1]], activation=\"relu\", kernel_regularizer=regularizer),\n",
        "    keras.layers.Dense(1, input_shape=[X.shape[1]], activation=\"sigmoid\"),\n",
        "])"
      ],
      "execution_count": 0,
      "outputs": []
    },
    {
      "cell_type": "markdown",
      "metadata": {
        "id": "G486Umv10Fmz",
        "colab_type": "text"
      },
      "source": [
        "## Accuracy e Cross Entropy"
      ]
    },
    {
      "cell_type": "code",
      "metadata": {
        "id": "dCJInquPzmik",
        "colab_type": "code",
        "outputId": "287b9d07-e58f-4ec5-de26-0c63a1622ec3",
        "colab": {
          "base_uri": "https://localhost:8080/",
          "height": 1000
        }
      },
      "source": [
        "model.compile(optimizer=\"adam\", loss=\"binary_crossentropy\", metrics=[\"accuracy\"])\n",
        "model.fit(X_train, y_train, epochs=100)"
      ],
      "execution_count": 21,
      "outputs": [
        {
          "output_type": "stream",
          "text": [
            "Epoch 1/100\n",
            "12/12 [==============================] - 0s 2ms/step - loss: 14.2244 - accuracy: 0.5000\n",
            "Epoch 2/100\n",
            "12/12 [==============================] - 0s 2ms/step - loss: 12.4383 - accuracy: 0.5678\n",
            "Epoch 3/100\n",
            "12/12 [==============================] - 0s 2ms/step - loss: 10.8512 - accuracy: 0.6554\n",
            "Epoch 4/100\n",
            "12/12 [==============================] - 0s 2ms/step - loss: 9.4525 - accuracy: 0.7119\n",
            "Epoch 5/100\n",
            "12/12 [==============================] - 0s 2ms/step - loss: 8.2203 - accuracy: 0.7345\n",
            "Epoch 6/100\n",
            "12/12 [==============================] - 0s 2ms/step - loss: 7.1376 - accuracy: 0.7599\n",
            "Epoch 7/100\n",
            "12/12 [==============================] - 0s 2ms/step - loss: 6.1893 - accuracy: 0.7627\n",
            "Epoch 8/100\n",
            "12/12 [==============================] - 0s 2ms/step - loss: 5.3590 - accuracy: 0.7797\n",
            "Epoch 9/100\n",
            "12/12 [==============================] - 0s 2ms/step - loss: 4.6364 - accuracy: 0.8023\n",
            "Epoch 10/100\n",
            "12/12 [==============================] - 0s 2ms/step - loss: 4.0092 - accuracy: 0.7966\n",
            "Epoch 11/100\n",
            "12/12 [==============================] - 0s 2ms/step - loss: 3.4652 - accuracy: 0.7881\n",
            "Epoch 12/100\n",
            "12/12 [==============================] - 0s 2ms/step - loss: 2.9981 - accuracy: 0.7938\n",
            "Epoch 13/100\n",
            "12/12 [==============================] - 0s 2ms/step - loss: 2.5996 - accuracy: 0.8079\n",
            "Epoch 14/100\n",
            "12/12 [==============================] - 0s 2ms/step - loss: 2.2572 - accuracy: 0.8192\n",
            "Epoch 15/100\n",
            "12/12 [==============================] - 0s 2ms/step - loss: 1.9651 - accuracy: 0.8277\n",
            "Epoch 16/100\n",
            "12/12 [==============================] - 0s 2ms/step - loss: 1.7194 - accuracy: 0.8362\n",
            "Epoch 17/100\n",
            "12/12 [==============================] - 0s 2ms/step - loss: 1.5118 - accuracy: 0.8362\n",
            "Epoch 18/100\n",
            "12/12 [==============================] - 0s 2ms/step - loss: 1.3375 - accuracy: 0.8333\n",
            "Epoch 19/100\n",
            "12/12 [==============================] - 0s 2ms/step - loss: 1.1928 - accuracy: 0.8220\n",
            "Epoch 20/100\n",
            "12/12 [==============================] - 0s 2ms/step - loss: 1.0740 - accuracy: 0.8277\n",
            "Epoch 21/100\n",
            "12/12 [==============================] - 0s 2ms/step - loss: 0.9761 - accuracy: 0.8220\n",
            "Epoch 22/100\n",
            "12/12 [==============================] - 0s 2ms/step - loss: 0.8977 - accuracy: 0.8079\n",
            "Epoch 23/100\n",
            "12/12 [==============================] - 0s 2ms/step - loss: 0.8325 - accuracy: 0.8249\n",
            "Epoch 24/100\n",
            "12/12 [==============================] - 0s 2ms/step - loss: 0.7804 - accuracy: 0.8390\n",
            "Epoch 25/100\n",
            "12/12 [==============================] - 0s 2ms/step - loss: 0.7404 - accuracy: 0.8475\n",
            "Epoch 26/100\n",
            "12/12 [==============================] - 0s 2ms/step - loss: 0.7094 - accuracy: 0.8559\n",
            "Epoch 27/100\n",
            "12/12 [==============================] - 0s 2ms/step - loss: 0.6831 - accuracy: 0.8559\n",
            "Epoch 28/100\n",
            "12/12 [==============================] - 0s 2ms/step - loss: 0.6638 - accuracy: 0.8475\n",
            "Epoch 29/100\n",
            "12/12 [==============================] - 0s 2ms/step - loss: 0.6441 - accuracy: 0.8475\n",
            "Epoch 30/100\n",
            "12/12 [==============================] - 0s 2ms/step - loss: 0.6269 - accuracy: 0.8559\n",
            "Epoch 31/100\n",
            "12/12 [==============================] - 0s 2ms/step - loss: 0.6156 - accuracy: 0.8531\n",
            "Epoch 32/100\n",
            "12/12 [==============================] - 0s 2ms/step - loss: 0.6030 - accuracy: 0.8503\n",
            "Epoch 33/100\n",
            "12/12 [==============================] - 0s 2ms/step - loss: 0.5914 - accuracy: 0.8559\n",
            "Epoch 34/100\n",
            "12/12 [==============================] - 0s 2ms/step - loss: 0.5872 - accuracy: 0.8531\n",
            "Epoch 35/100\n",
            "12/12 [==============================] - 0s 2ms/step - loss: 0.5830 - accuracy: 0.8559\n",
            "Epoch 36/100\n",
            "12/12 [==============================] - 0s 2ms/step - loss: 0.5765 - accuracy: 0.8588\n",
            "Epoch 37/100\n",
            "12/12 [==============================] - 0s 2ms/step - loss: 0.5701 - accuracy: 0.8616\n",
            "Epoch 38/100\n",
            "12/12 [==============================] - 0s 2ms/step - loss: 0.5644 - accuracy: 0.8701\n",
            "Epoch 39/100\n",
            "12/12 [==============================] - 0s 2ms/step - loss: 0.5597 - accuracy: 0.8672\n",
            "Epoch 40/100\n",
            "12/12 [==============================] - 0s 2ms/step - loss: 0.5556 - accuracy: 0.8672\n",
            "Epoch 41/100\n",
            "12/12 [==============================] - 0s 2ms/step - loss: 0.5515 - accuracy: 0.8616\n",
            "Epoch 42/100\n",
            "12/12 [==============================] - 0s 2ms/step - loss: 0.5496 - accuracy: 0.8701\n",
            "Epoch 43/100\n",
            "12/12 [==============================] - 0s 2ms/step - loss: 0.5458 - accuracy: 0.8644\n",
            "Epoch 44/100\n",
            "12/12 [==============================] - 0s 2ms/step - loss: 0.5433 - accuracy: 0.8644\n",
            "Epoch 45/100\n",
            "12/12 [==============================] - 0s 2ms/step - loss: 0.5445 - accuracy: 0.8672\n",
            "Epoch 46/100\n",
            "12/12 [==============================] - 0s 2ms/step - loss: 0.5404 - accuracy: 0.8701\n",
            "Epoch 47/100\n",
            "12/12 [==============================] - 0s 2ms/step - loss: 0.5368 - accuracy: 0.8729\n",
            "Epoch 48/100\n",
            "12/12 [==============================] - 0s 2ms/step - loss: 0.5346 - accuracy: 0.8701\n",
            "Epoch 49/100\n",
            "12/12 [==============================] - 0s 2ms/step - loss: 0.5327 - accuracy: 0.8757\n",
            "Epoch 50/100\n",
            "12/12 [==============================] - 0s 2ms/step - loss: 0.5299 - accuracy: 0.8757\n",
            "Epoch 51/100\n",
            "12/12 [==============================] - 0s 2ms/step - loss: 0.5271 - accuracy: 0.8757\n",
            "Epoch 52/100\n",
            "12/12 [==============================] - 0s 2ms/step - loss: 0.5250 - accuracy: 0.8757\n",
            "Epoch 53/100\n",
            "12/12 [==============================] - 0s 2ms/step - loss: 0.5227 - accuracy: 0.8757\n",
            "Epoch 54/100\n",
            "12/12 [==============================] - 0s 2ms/step - loss: 0.5236 - accuracy: 0.8701\n",
            "Epoch 55/100\n",
            "12/12 [==============================] - 0s 2ms/step - loss: 0.5199 - accuracy: 0.8757\n",
            "Epoch 56/100\n",
            "12/12 [==============================] - 0s 2ms/step - loss: 0.5192 - accuracy: 0.8842\n",
            "Epoch 57/100\n",
            "12/12 [==============================] - 0s 2ms/step - loss: 0.5165 - accuracy: 0.8757\n",
            "Epoch 58/100\n",
            "12/12 [==============================] - 0s 2ms/step - loss: 0.5150 - accuracy: 0.8842\n",
            "Epoch 59/100\n",
            "12/12 [==============================] - 0s 2ms/step - loss: 0.5125 - accuracy: 0.8842\n",
            "Epoch 60/100\n",
            "12/12 [==============================] - 0s 2ms/step - loss: 0.5099 - accuracy: 0.8814\n",
            "Epoch 61/100\n",
            "12/12 [==============================] - 0s 2ms/step - loss: 0.5122 - accuracy: 0.8785\n",
            "Epoch 62/100\n",
            "12/12 [==============================] - 0s 2ms/step - loss: 0.5095 - accuracy: 0.8842\n",
            "Epoch 63/100\n",
            "12/12 [==============================] - 0s 2ms/step - loss: 0.5048 - accuracy: 0.8842\n",
            "Epoch 64/100\n",
            "12/12 [==============================] - 0s 2ms/step - loss: 0.5031 - accuracy: 0.8785\n",
            "Epoch 65/100\n",
            "12/12 [==============================] - 0s 2ms/step - loss: 0.5006 - accuracy: 0.8785\n",
            "Epoch 66/100\n",
            "12/12 [==============================] - 0s 2ms/step - loss: 0.5005 - accuracy: 0.8898\n",
            "Epoch 67/100\n",
            "12/12 [==============================] - 0s 2ms/step - loss: 0.4980 - accuracy: 0.8785\n",
            "Epoch 68/100\n",
            "12/12 [==============================] - 0s 2ms/step - loss: 0.4990 - accuracy: 0.8870\n",
            "Epoch 69/100\n",
            "12/12 [==============================] - 0s 2ms/step - loss: 0.4951 - accuracy: 0.8785\n",
            "Epoch 70/100\n",
            "12/12 [==============================] - 0s 2ms/step - loss: 0.4932 - accuracy: 0.8757\n",
            "Epoch 71/100\n",
            "12/12 [==============================] - 0s 2ms/step - loss: 0.4948 - accuracy: 0.8814\n",
            "Epoch 72/100\n",
            "12/12 [==============================] - 0s 1ms/step - loss: 0.4917 - accuracy: 0.8870\n",
            "Epoch 73/100\n",
            "12/12 [==============================] - 0s 2ms/step - loss: 0.4894 - accuracy: 0.8785\n",
            "Epoch 74/100\n",
            "12/12 [==============================] - 0s 2ms/step - loss: 0.4880 - accuracy: 0.8785\n",
            "Epoch 75/100\n",
            "12/12 [==============================] - 0s 2ms/step - loss: 0.4879 - accuracy: 0.8870\n",
            "Epoch 76/100\n",
            "12/12 [==============================] - 0s 2ms/step - loss: 0.4862 - accuracy: 0.8842\n",
            "Epoch 77/100\n",
            "12/12 [==============================] - 0s 2ms/step - loss: 0.4856 - accuracy: 0.8814\n",
            "Epoch 78/100\n",
            "12/12 [==============================] - 0s 2ms/step - loss: 0.4859 - accuracy: 0.8842\n",
            "Epoch 79/100\n",
            "12/12 [==============================] - 0s 2ms/step - loss: 0.4838 - accuracy: 0.8785\n",
            "Epoch 80/100\n",
            "12/12 [==============================] - 0s 2ms/step - loss: 0.4868 - accuracy: 0.8814\n",
            "Epoch 81/100\n",
            "12/12 [==============================] - 0s 2ms/step - loss: 0.4827 - accuracy: 0.8814\n",
            "Epoch 82/100\n",
            "12/12 [==============================] - 0s 2ms/step - loss: 0.4827 - accuracy: 0.8814\n",
            "Epoch 83/100\n",
            "12/12 [==============================] - 0s 2ms/step - loss: 0.4844 - accuracy: 0.8757\n",
            "Epoch 84/100\n",
            "12/12 [==============================] - 0s 2ms/step - loss: 0.4807 - accuracy: 0.8842\n",
            "Epoch 85/100\n",
            "12/12 [==============================] - 0s 2ms/step - loss: 0.4794 - accuracy: 0.8870\n",
            "Epoch 86/100\n",
            "12/12 [==============================] - 0s 2ms/step - loss: 0.4784 - accuracy: 0.8785\n",
            "Epoch 87/100\n",
            "12/12 [==============================] - 0s 2ms/step - loss: 0.4769 - accuracy: 0.8785\n",
            "Epoch 88/100\n",
            "12/12 [==============================] - 0s 2ms/step - loss: 0.4766 - accuracy: 0.8842\n",
            "Epoch 89/100\n",
            "12/12 [==============================] - 0s 2ms/step - loss: 0.4755 - accuracy: 0.8729\n",
            "Epoch 90/100\n",
            "12/12 [==============================] - 0s 2ms/step - loss: 0.4765 - accuracy: 0.8785\n",
            "Epoch 91/100\n",
            "12/12 [==============================] - 0s 2ms/step - loss: 0.4775 - accuracy: 0.8814\n",
            "Epoch 92/100\n",
            "12/12 [==============================] - 0s 2ms/step - loss: 0.4744 - accuracy: 0.8814\n",
            "Epoch 93/100\n",
            "12/12 [==============================] - 0s 2ms/step - loss: 0.4732 - accuracy: 0.8757\n",
            "Epoch 94/100\n",
            "12/12 [==============================] - 0s 2ms/step - loss: 0.4719 - accuracy: 0.8757\n",
            "Epoch 95/100\n",
            "12/12 [==============================] - 0s 2ms/step - loss: 0.4714 - accuracy: 0.8757\n",
            "Epoch 96/100\n",
            "12/12 [==============================] - 0s 2ms/step - loss: 0.4708 - accuracy: 0.8729\n",
            "Epoch 97/100\n",
            "12/12 [==============================] - 0s 2ms/step - loss: 0.4695 - accuracy: 0.8842\n",
            "Epoch 98/100\n",
            "12/12 [==============================] - 0s 2ms/step - loss: 0.4694 - accuracy: 0.8814\n",
            "Epoch 99/100\n",
            "12/12 [==============================] - 0s 2ms/step - loss: 0.4716 - accuracy: 0.8785\n",
            "Epoch 100/100\n",
            "12/12 [==============================] - 0s 2ms/step - loss: 0.4694 - accuracy: 0.8757\n"
          ],
          "name": "stdout"
        },
        {
          "output_type": "execute_result",
          "data": {
            "text/plain": [
              "<tensorflow.python.keras.callbacks.History at 0x7febea4900f0>"
            ]
          },
          "metadata": {
            "tags": []
          },
          "execution_count": 21
        }
      ]
    },
    {
      "cell_type": "code",
      "metadata": {
        "id": "otdNsqGlzzT2",
        "colab_type": "code",
        "outputId": "8aa1a22d-6507-4b00-9a4e-2f3507877058",
        "colab": {
          "base_uri": "https://localhost:8080/",
          "height": 52
        }
      },
      "source": [
        "metrics_train = model.evaluate(X_train, y_train, verbose=0)\n",
        "metrics_test = model.evaluate(X_test, y_test, verbose=0)\n",
        "print(\"Accuracy sul set di addestramento: %.2f - Loss sul set di addestramento %.4f\" % (metrics_train[1], metrics_train[0]))\n",
        "print(\"Accuracy sul set di test: %.2f - Loss sul set di test %.4f\" % (metrics_test[1], metrics_test[0]))"
      ],
      "execution_count": 22,
      "outputs": [
        {
          "output_type": "stream",
          "text": [
            "Accuracy sul set di addestramento: 0.88 - Loss sul set di addestramento 0.4673\n",
            "Accuracy sul set di test: 0.83 - Loss sul set di test 0.5609\n"
          ],
          "name": "stdout"
        }
      ]
    },
    {
      "cell_type": "markdown",
      "metadata": {
        "id": "waxoIz5_ar4L",
        "colab_type": "text"
      },
      "source": [
        "## Matrice di Confusione"
      ]
    },
    {
      "cell_type": "code",
      "metadata": {
        "id": "OmRXN7ruavTT",
        "colab_type": "code",
        "colab": {}
      },
      "source": [
        "y_pred = model.predict_classes(X_test)"
      ],
      "execution_count": 0,
      "outputs": []
    },
    {
      "cell_type": "code",
      "metadata": {
        "id": "gK6lsAMta_3m",
        "colab_type": "code",
        "colab": {
          "base_uri": "https://localhost:8080/",
          "height": 69
        },
        "outputId": "4a3b1c6d-b0e7-480a-e95a-9abdfc8f4ee9"
      },
      "source": [
        "tf.math.confusion_matrix(y_test, y_pred)"
      ],
      "execution_count": 25,
      "outputs": [
        {
          "output_type": "execute_result",
          "data": {
            "text/plain": [
              "<tf.Tensor: shape=(2, 2), dtype=int32, numpy=\n",
              "array([[83,  6],\n",
              "       [20, 43]], dtype=int32)>"
            ]
          },
          "metadata": {
            "tags": []
          },
          "execution_count": 25
        }
      ]
    },
    {
      "cell_type": "code",
      "metadata": {
        "id": "G-iAB3EUaro0",
        "colab_type": "code",
        "colab": {
          "base_uri": "https://localhost:8080/",
          "height": 52
        },
        "outputId": "764fdb5b-5c79-459e-f34b-0e62a9c2dba1"
      },
      "source": [
        "from sklearn.metrics import confusion_matrix\n",
        "confusion_matrix(y_test, y_pred)"
      ],
      "execution_count": 26,
      "outputs": [
        {
          "output_type": "execute_result",
          "data": {
            "text/plain": [
              "array([[83,  6],\n",
              "       [20, 43]])"
            ]
          },
          "metadata": {
            "tags": []
          },
          "execution_count": 26
        }
      ]
    },
    {
      "cell_type": "markdown",
      "metadata": {
        "id": "ahZFb5ew0Rf9",
        "colab_type": "text"
      },
      "source": [
        "## Classificazione Multiclasse"
      ]
    },
    {
      "cell_type": "code",
      "metadata": {
        "id": "AsYPMjzi16fc",
        "colab_type": "code",
        "outputId": "51e5bbdd-acc4-4ba4-cdb3-729b82f59aa2",
        "colab": {
          "base_uri": "https://localhost:8080/",
          "height": 202
        }
      },
      "source": [
        "def map_to_class(value):\n",
        "  if value < 19:\n",
        "    return 1\n",
        "  elif value < 24:\n",
        "    return 2\n",
        "  else:\n",
        "    return 3\n",
        "\n",
        "boston[\"PRICE_RANGE\"] = boston[\"MEDV\"].apply(map_to_class)\n",
        "boston.head()"
      ],
      "execution_count": 27,
      "outputs": [
        {
          "output_type": "execute_result",
          "data": {
            "text/html": [
              "<div>\n",
              "<style scoped>\n",
              "    .dataframe tbody tr th:only-of-type {\n",
              "        vertical-align: middle;\n",
              "    }\n",
              "\n",
              "    .dataframe tbody tr th {\n",
              "        vertical-align: top;\n",
              "    }\n",
              "\n",
              "    .dataframe thead th {\n",
              "        text-align: right;\n",
              "    }\n",
              "</style>\n",
              "<table border=\"1\" class=\"dataframe\">\n",
              "  <thead>\n",
              "    <tr style=\"text-align: right;\">\n",
              "      <th></th>\n",
              "      <th>CRIM</th>\n",
              "      <th>ZN</th>\n",
              "      <th>INDUS</th>\n",
              "      <th>CHAS</th>\n",
              "      <th>NOX</th>\n",
              "      <th>RM</th>\n",
              "      <th>AGE</th>\n",
              "      <th>DIS</th>\n",
              "      <th>RAD</th>\n",
              "      <th>TAX</th>\n",
              "      <th>PRATIO</th>\n",
              "      <th>B</th>\n",
              "      <th>LSTAT</th>\n",
              "      <th>MEDV</th>\n",
              "      <th>EXPENSIVE</th>\n",
              "      <th>PRICE_RANGE</th>\n",
              "    </tr>\n",
              "  </thead>\n",
              "  <tbody>\n",
              "    <tr>\n",
              "      <th>0</th>\n",
              "      <td>0.00632</td>\n",
              "      <td>18.0</td>\n",
              "      <td>2.31</td>\n",
              "      <td>0</td>\n",
              "      <td>0.538</td>\n",
              "      <td>6.575</td>\n",
              "      <td>65.2</td>\n",
              "      <td>4.0900</td>\n",
              "      <td>1</td>\n",
              "      <td>296.0</td>\n",
              "      <td>15.3</td>\n",
              "      <td>396.90</td>\n",
              "      <td>4.98</td>\n",
              "      <td>24.0</td>\n",
              "      <td>1</td>\n",
              "      <td>3</td>\n",
              "    </tr>\n",
              "    <tr>\n",
              "      <th>1</th>\n",
              "      <td>0.02731</td>\n",
              "      <td>0.0</td>\n",
              "      <td>7.07</td>\n",
              "      <td>0</td>\n",
              "      <td>0.469</td>\n",
              "      <td>6.421</td>\n",
              "      <td>78.9</td>\n",
              "      <td>4.9671</td>\n",
              "      <td>2</td>\n",
              "      <td>242.0</td>\n",
              "      <td>17.8</td>\n",
              "      <td>396.90</td>\n",
              "      <td>9.14</td>\n",
              "      <td>21.6</td>\n",
              "      <td>0</td>\n",
              "      <td>2</td>\n",
              "    </tr>\n",
              "    <tr>\n",
              "      <th>2</th>\n",
              "      <td>0.02729</td>\n",
              "      <td>0.0</td>\n",
              "      <td>7.07</td>\n",
              "      <td>0</td>\n",
              "      <td>0.469</td>\n",
              "      <td>7.185</td>\n",
              "      <td>61.1</td>\n",
              "      <td>4.9671</td>\n",
              "      <td>2</td>\n",
              "      <td>242.0</td>\n",
              "      <td>17.8</td>\n",
              "      <td>392.83</td>\n",
              "      <td>4.03</td>\n",
              "      <td>34.7</td>\n",
              "      <td>1</td>\n",
              "      <td>3</td>\n",
              "    </tr>\n",
              "    <tr>\n",
              "      <th>3</th>\n",
              "      <td>0.03237</td>\n",
              "      <td>0.0</td>\n",
              "      <td>2.18</td>\n",
              "      <td>0</td>\n",
              "      <td>0.458</td>\n",
              "      <td>6.998</td>\n",
              "      <td>45.8</td>\n",
              "      <td>6.0622</td>\n",
              "      <td>3</td>\n",
              "      <td>222.0</td>\n",
              "      <td>18.7</td>\n",
              "      <td>394.63</td>\n",
              "      <td>2.94</td>\n",
              "      <td>33.4</td>\n",
              "      <td>1</td>\n",
              "      <td>3</td>\n",
              "    </tr>\n",
              "    <tr>\n",
              "      <th>4</th>\n",
              "      <td>0.06905</td>\n",
              "      <td>0.0</td>\n",
              "      <td>2.18</td>\n",
              "      <td>0</td>\n",
              "      <td>0.458</td>\n",
              "      <td>7.147</td>\n",
              "      <td>54.2</td>\n",
              "      <td>6.0622</td>\n",
              "      <td>3</td>\n",
              "      <td>222.0</td>\n",
              "      <td>18.7</td>\n",
              "      <td>396.90</td>\n",
              "      <td>5.33</td>\n",
              "      <td>36.2</td>\n",
              "      <td>1</td>\n",
              "      <td>3</td>\n",
              "    </tr>\n",
              "  </tbody>\n",
              "</table>\n",
              "</div>"
            ],
            "text/plain": [
              "      CRIM    ZN  INDUS  CHAS  ...  LSTAT  MEDV  EXPENSIVE  PRICE_RANGE\n",
              "0  0.00632  18.0   2.31     0  ...   4.98  24.0          1            3\n",
              "1  0.02731   0.0   7.07     0  ...   9.14  21.6          0            2\n",
              "2  0.02729   0.0   7.07     0  ...   4.03  34.7          1            3\n",
              "3  0.03237   0.0   2.18     0  ...   2.94  33.4          1            3\n",
              "4  0.06905   0.0   2.18     0  ...   5.33  36.2          1            3\n",
              "\n",
              "[5 rows x 16 columns]"
            ]
          },
          "metadata": {
            "tags": []
          },
          "execution_count": 27
        }
      ]
    },
    {
      "cell_type": "code",
      "metadata": {
        "id": "zurpdkFI0_4b",
        "colab_type": "code",
        "outputId": "6ed00d9e-b285-4ad9-a9e2-fc54ae8579f0",
        "colab": {
          "base_uri": "https://localhost:8080/",
          "height": 87
        }
      },
      "source": [
        "boston[\"PRICE_RANGE\"].value_counts()"
      ],
      "execution_count": 28,
      "outputs": [
        {
          "output_type": "execute_result",
          "data": {
            "text/plain": [
              "2    176\n",
              "1    173\n",
              "3    157\n",
              "Name: PRICE_RANGE, dtype: int64"
            ]
          },
          "metadata": {
            "tags": []
          },
          "execution_count": 28
        }
      ]
    },
    {
      "cell_type": "code",
      "metadata": {
        "id": "v8skgq-41CuG",
        "colab_type": "code",
        "colab": {}
      },
      "source": [
        "X = boston.drop([\"MEDV\", \"EXPENSIVE\", \"PRICE_RANGE\"], axis=1).values\n",
        "y = boston[\"PRICE_RANGE\"].values\n",
        "\n",
        "X_train, X_test, y_train, y_test = train_test_split(X,y, test_size=0.3, random_state=0)"
      ],
      "execution_count": 0,
      "outputs": []
    },
    {
      "cell_type": "code",
      "metadata": {
        "id": "pmcAv3Rb30Lh",
        "colab_type": "code",
        "colab": {}
      },
      "source": [
        "y_train_oh = tf.one_hot(y_train, 3).numpy()\n",
        "y_test_oh = tf.one_hot(y_test, 3).numpy()"
      ],
      "execution_count": 0,
      "outputs": []
    },
    {
      "cell_type": "code",
      "metadata": {
        "id": "m234uwrz2vrV",
        "colab_type": "code",
        "colab": {}
      },
      "source": [
        "ss = StandardScaler()\n",
        "X_train = ss.fit_transform(X_train)\n",
        "X_test = ss.transform(X_test)"
      ],
      "execution_count": 0,
      "outputs": []
    },
    {
      "cell_type": "code",
      "metadata": {
        "id": "8srV85Vd20uT",
        "colab_type": "code",
        "colab": {}
      },
      "source": [
        "regularizer = keras.regularizers.L1L2(l1=0.01, l2=0.1)\n",
        "\n",
        "model = keras.models.Sequential([\n",
        "    keras.layers.Dense(64, input_shape=[X.shape[1]], activation=\"relu\"),\n",
        "    keras.layers.Dense(64, input_shape=[X.shape[1]], activation=\"relu\"),\n",
        "    keras.layers.Dense(3, input_shape=[X.shape[1]], activation=\"softmax\"),\n",
        "])"
      ],
      "execution_count": 0,
      "outputs": []
    },
    {
      "cell_type": "code",
      "metadata": {
        "id": "vbdZT5pD26I2",
        "colab_type": "code",
        "outputId": "e1ef53e9-636a-4d5c-e32b-e9911b9174c9",
        "colab": {
          "base_uri": "https://localhost:8080/",
          "height": 1000
        }
      },
      "source": [
        "model.compile(optimizer=\"adam\", loss=\"categorical_crossentropy\", metrics=[\"accuracy\"])\n",
        "model.fit(X_train, y_train_oh, epochs=100)"
      ],
      "execution_count": 33,
      "outputs": [
        {
          "output_type": "stream",
          "text": [
            "Epoch 1/100\n",
            "12/12 [==============================] - 0s 2ms/step - loss: 0.6027 - accuracy: 0.4944\n",
            "Epoch 2/100\n",
            "12/12 [==============================] - 0s 1ms/step - loss: 0.4586 - accuracy: 0.5198\n",
            "Epoch 3/100\n",
            "12/12 [==============================] - 0s 1ms/step - loss: 0.4046 - accuracy: 0.5311\n",
            "Epoch 4/100\n",
            "12/12 [==============================] - 0s 2ms/step - loss: 0.3768 - accuracy: 0.5424\n",
            "Epoch 5/100\n",
            "12/12 [==============================] - 0s 2ms/step - loss: 0.3611 - accuracy: 0.5452\n",
            "Epoch 6/100\n",
            "12/12 [==============================] - 0s 2ms/step - loss: 0.3426 - accuracy: 0.5565\n",
            "Epoch 7/100\n",
            "12/12 [==============================] - 0s 2ms/step - loss: 0.3266 - accuracy: 0.5621\n",
            "Epoch 8/100\n",
            "12/12 [==============================] - 0s 2ms/step - loss: 0.3210 - accuracy: 0.5678\n",
            "Epoch 9/100\n",
            "12/12 [==============================] - 0s 2ms/step - loss: 0.3084 - accuracy: 0.5791\n",
            "Epoch 10/100\n",
            "12/12 [==============================] - 0s 2ms/step - loss: 0.3051 - accuracy: 0.5791\n",
            "Epoch 11/100\n",
            "12/12 [==============================] - 0s 1ms/step - loss: 0.2856 - accuracy: 0.5791\n",
            "Epoch 12/100\n",
            "12/12 [==============================] - 0s 2ms/step - loss: 0.2930 - accuracy: 0.5734\n",
            "Epoch 13/100\n",
            "12/12 [==============================] - 0s 2ms/step - loss: 0.2912 - accuracy: 0.5621\n",
            "Epoch 14/100\n",
            "12/12 [==============================] - 0s 2ms/step - loss: 0.2866 - accuracy: 0.5678\n",
            "Epoch 15/100\n",
            "12/12 [==============================] - 0s 2ms/step - loss: 0.2820 - accuracy: 0.5876\n",
            "Epoch 16/100\n",
            "12/12 [==============================] - 0s 2ms/step - loss: 0.2764 - accuracy: 0.5904\n",
            "Epoch 17/100\n",
            "12/12 [==============================] - 0s 2ms/step - loss: 0.2825 - accuracy: 0.5763\n",
            "Epoch 18/100\n",
            "12/12 [==============================] - 0s 2ms/step - loss: 0.2785 - accuracy: 0.5763\n",
            "Epoch 19/100\n",
            "12/12 [==============================] - 0s 2ms/step - loss: 0.2807 - accuracy: 0.5678\n",
            "Epoch 20/100\n",
            "12/12 [==============================] - 0s 2ms/step - loss: 0.3015 - accuracy: 0.5480\n",
            "Epoch 21/100\n",
            "12/12 [==============================] - 0s 2ms/step - loss: 0.2914 - accuracy: 0.5734\n",
            "Epoch 22/100\n",
            "12/12 [==============================] - 0s 2ms/step - loss: 0.2720 - accuracy: 0.5876\n",
            "Epoch 23/100\n",
            "12/12 [==============================] - 0s 2ms/step - loss: 0.2680 - accuracy: 0.5650\n",
            "Epoch 24/100\n",
            "12/12 [==============================] - 0s 2ms/step - loss: 0.3306 - accuracy: 0.5537\n",
            "Epoch 25/100\n",
            "12/12 [==============================] - 0s 2ms/step - loss: 0.2940 - accuracy: 0.5537\n",
            "Epoch 26/100\n",
            "12/12 [==============================] - 0s 2ms/step - loss: 0.2527 - accuracy: 0.5960\n",
            "Epoch 27/100\n",
            "12/12 [==============================] - 0s 2ms/step - loss: 0.2608 - accuracy: 0.5932\n",
            "Epoch 28/100\n",
            "12/12 [==============================] - 0s 2ms/step - loss: 0.2738 - accuracy: 0.5819\n",
            "Epoch 29/100\n",
            "12/12 [==============================] - 0s 2ms/step - loss: 0.2557 - accuracy: 0.5932\n",
            "Epoch 30/100\n",
            "12/12 [==============================] - 0s 1ms/step - loss: 0.2618 - accuracy: 0.5734\n",
            "Epoch 31/100\n",
            "12/12 [==============================] - 0s 1ms/step - loss: 0.2633 - accuracy: 0.5989\n",
            "Epoch 32/100\n",
            "12/12 [==============================] - 0s 2ms/step - loss: 0.4690 - accuracy: 0.5819\n",
            "Epoch 33/100\n",
            "12/12 [==============================] - 0s 2ms/step - loss: 0.2712 - accuracy: 0.5819\n",
            "Epoch 34/100\n",
            "12/12 [==============================] - 0s 1ms/step - loss: 0.3025 - accuracy: 0.5932\n",
            "Epoch 35/100\n",
            "12/12 [==============================] - 0s 1ms/step - loss: 0.3277 - accuracy: 0.5734\n",
            "Epoch 36/100\n",
            "12/12 [==============================] - 0s 1ms/step - loss: 0.3766 - accuracy: 0.5537\n",
            "Epoch 37/100\n",
            "12/12 [==============================] - 0s 2ms/step - loss: 0.3673 - accuracy: 0.5678\n",
            "Epoch 38/100\n",
            "12/12 [==============================] - 0s 2ms/step - loss: 0.2878 - accuracy: 0.6017\n",
            "Epoch 39/100\n",
            "12/12 [==============================] - 0s 2ms/step - loss: 0.3107 - accuracy: 0.5904\n",
            "Epoch 40/100\n",
            "12/12 [==============================] - 0s 1ms/step - loss: 0.2760 - accuracy: 0.5847\n",
            "Epoch 41/100\n",
            "12/12 [==============================] - 0s 1ms/step - loss: 0.3996 - accuracy: 0.5847\n",
            "Epoch 42/100\n",
            "12/12 [==============================] - 0s 1ms/step - loss: 0.2537 - accuracy: 0.6045\n",
            "Epoch 43/100\n",
            "12/12 [==============================] - 0s 2ms/step - loss: 0.3299 - accuracy: 0.5650\n",
            "Epoch 44/100\n",
            "12/12 [==============================] - 0s 1ms/step - loss: 0.3673 - accuracy: 0.5932\n",
            "Epoch 45/100\n",
            "12/12 [==============================] - 0s 1ms/step - loss: 0.4397 - accuracy: 0.5621\n",
            "Epoch 46/100\n",
            "12/12 [==============================] - 0s 1ms/step - loss: 0.7984 - accuracy: 0.5621\n",
            "Epoch 47/100\n",
            "12/12 [==============================] - 0s 2ms/step - loss: 0.7459 - accuracy: 0.5367\n",
            "Epoch 48/100\n",
            "12/12 [==============================] - 0s 2ms/step - loss: 0.4445 - accuracy: 0.5650\n",
            "Epoch 49/100\n",
            "12/12 [==============================] - 0s 1ms/step - loss: 0.3288 - accuracy: 0.5876\n",
            "Epoch 50/100\n",
            "12/12 [==============================] - 0s 1ms/step - loss: 0.4272 - accuracy: 0.5395\n",
            "Epoch 51/100\n",
            "12/12 [==============================] - 0s 2ms/step - loss: 0.5336 - accuracy: 0.5650\n",
            "Epoch 52/100\n",
            "12/12 [==============================] - 0s 2ms/step - loss: 0.3822 - accuracy: 0.5480\n",
            "Epoch 53/100\n",
            "12/12 [==============================] - 0s 1ms/step - loss: 0.6165 - accuracy: 0.5141\n",
            "Epoch 54/100\n",
            "12/12 [==============================] - 0s 1ms/step - loss: 0.6848 - accuracy: 0.5904\n",
            "Epoch 55/100\n",
            "12/12 [==============================] - 0s 2ms/step - loss: 0.6496 - accuracy: 0.5593\n",
            "Epoch 56/100\n",
            "12/12 [==============================] - 0s 2ms/step - loss: 1.1158 - accuracy: 0.5621\n",
            "Epoch 57/100\n",
            "12/12 [==============================] - 0s 2ms/step - loss: 1.0110 - accuracy: 0.5537\n",
            "Epoch 58/100\n",
            "12/12 [==============================] - 0s 2ms/step - loss: 0.5783 - accuracy: 0.5395\n",
            "Epoch 59/100\n",
            "12/12 [==============================] - 0s 1ms/step - loss: 0.6276 - accuracy: 0.5198\n",
            "Epoch 60/100\n",
            "12/12 [==============================] - 0s 2ms/step - loss: 0.7204 - accuracy: 0.5706\n",
            "Epoch 61/100\n",
            "12/12 [==============================] - 0s 1ms/step - loss: 0.9659 - accuracy: 0.5565\n",
            "Epoch 62/100\n",
            "12/12 [==============================] - 0s 2ms/step - loss: 0.6674 - accuracy: 0.5339\n",
            "Epoch 63/100\n",
            "12/12 [==============================] - 0s 1ms/step - loss: 2.4691 - accuracy: 0.4802\n",
            "Epoch 64/100\n",
            "12/12 [==============================] - 0s 1ms/step - loss: 1.2269 - accuracy: 0.5113\n",
            "Epoch 65/100\n",
            "12/12 [==============================] - 0s 1ms/step - loss: 0.6891 - accuracy: 0.5395\n",
            "Epoch 66/100\n",
            "12/12 [==============================] - 0s 1ms/step - loss: 1.4201 - accuracy: 0.5141\n",
            "Epoch 67/100\n",
            "12/12 [==============================] - 0s 1ms/step - loss: 0.8933 - accuracy: 0.5311\n",
            "Epoch 68/100\n",
            "12/12 [==============================] - 0s 1ms/step - loss: 0.7706 - accuracy: 0.5537\n",
            "Epoch 69/100\n",
            "12/12 [==============================] - 0s 2ms/step - loss: 1.2213 - accuracy: 0.5339\n",
            "Epoch 70/100\n",
            "12/12 [==============================] - 0s 2ms/step - loss: 1.3837 - accuracy: 0.5056\n",
            "Epoch 71/100\n",
            "12/12 [==============================] - 0s 1ms/step - loss: 0.8179 - accuracy: 0.4915\n",
            "Epoch 72/100\n",
            "12/12 [==============================] - 0s 2ms/step - loss: 1.8126 - accuracy: 0.5085\n",
            "Epoch 73/100\n",
            "12/12 [==============================] - 0s 1ms/step - loss: 1.7105 - accuracy: 0.5339\n",
            "Epoch 74/100\n",
            "12/12 [==============================] - 0s 2ms/step - loss: 1.0654 - accuracy: 0.5113\n",
            "Epoch 75/100\n",
            "12/12 [==============================] - 0s 1ms/step - loss: 0.8376 - accuracy: 0.5198\n",
            "Epoch 76/100\n",
            "12/12 [==============================] - 0s 2ms/step - loss: 1.5081 - accuracy: 0.4802\n",
            "Epoch 77/100\n",
            "12/12 [==============================] - 0s 1ms/step - loss: 2.5903 - accuracy: 0.5028\n",
            "Epoch 78/100\n",
            "12/12 [==============================] - 0s 2ms/step - loss: 1.0901 - accuracy: 0.4944\n",
            "Epoch 79/100\n",
            "12/12 [==============================] - 0s 2ms/step - loss: 1.7902 - accuracy: 0.5056\n",
            "Epoch 80/100\n",
            "12/12 [==============================] - 0s 1ms/step - loss: 1.4161 - accuracy: 0.4746\n",
            "Epoch 81/100\n",
            "12/12 [==============================] - 0s 2ms/step - loss: 1.2423 - accuracy: 0.4972\n",
            "Epoch 82/100\n",
            "12/12 [==============================] - 0s 1ms/step - loss: 1.1405 - accuracy: 0.5339\n",
            "Epoch 83/100\n",
            "12/12 [==============================] - 0s 1ms/step - loss: 0.4711 - accuracy: 0.5141\n",
            "Epoch 84/100\n",
            "12/12 [==============================] - 0s 1ms/step - loss: 1.5544 - accuracy: 0.5085\n",
            "Epoch 85/100\n",
            "12/12 [==============================] - 0s 1ms/step - loss: 2.6593 - accuracy: 0.4972\n",
            "Epoch 86/100\n",
            "12/12 [==============================] - 0s 2ms/step - loss: 2.3103 - accuracy: 0.4576\n",
            "Epoch 87/100\n",
            "12/12 [==============================] - 0s 1ms/step - loss: 2.3466 - accuracy: 0.4944\n",
            "Epoch 88/100\n",
            "12/12 [==============================] - 0s 1ms/step - loss: 2.6475 - accuracy: 0.5028\n",
            "Epoch 89/100\n",
            "12/12 [==============================] - 0s 1ms/step - loss: 2.0663 - accuracy: 0.4887\n",
            "Epoch 90/100\n",
            "12/12 [==============================] - 0s 1ms/step - loss: 1.0575 - accuracy: 0.5169\n",
            "Epoch 91/100\n",
            "12/12 [==============================] - 0s 1ms/step - loss: 1.8066 - accuracy: 0.4520\n",
            "Epoch 92/100\n",
            "12/12 [==============================] - 0s 1ms/step - loss: 1.3120 - accuracy: 0.4887\n",
            "Epoch 93/100\n",
            "12/12 [==============================] - 0s 1ms/step - loss: 1.2658 - accuracy: 0.4887\n",
            "Epoch 94/100\n",
            "12/12 [==============================] - 0s 1ms/step - loss: 1.6786 - accuracy: 0.4633\n",
            "Epoch 95/100\n",
            "12/12 [==============================] - 0s 1ms/step - loss: 0.7517 - accuracy: 0.4859\n",
            "Epoch 96/100\n",
            "12/12 [==============================] - 0s 2ms/step - loss: 0.8400 - accuracy: 0.5311\n",
            "Epoch 97/100\n",
            "12/12 [==============================] - 0s 2ms/step - loss: 1.5684 - accuracy: 0.5085\n",
            "Epoch 98/100\n",
            "12/12 [==============================] - 0s 1ms/step - loss: 3.2170 - accuracy: 0.4576\n",
            "Epoch 99/100\n",
            "12/12 [==============================] - 0s 1ms/step - loss: 4.4596 - accuracy: 0.4492\n",
            "Epoch 100/100\n",
            "12/12 [==============================] - 0s 1ms/step - loss: 2.1012 - accuracy: 0.4435\n"
          ],
          "name": "stdout"
        },
        {
          "output_type": "execute_result",
          "data": {
            "text/plain": [
              "<tensorflow.python.keras.callbacks.History at 0x7febe8150128>"
            ]
          },
          "metadata": {
            "tags": []
          },
          "execution_count": 33
        }
      ]
    },
    {
      "cell_type": "code",
      "metadata": {
        "id": "WI5fmk-D2-Kg",
        "colab_type": "code",
        "outputId": "fe46fa4a-aa0a-474b-fb5e-528a807cdca3",
        "colab": {
          "base_uri": "https://localhost:8080/",
          "height": 52
        }
      },
      "source": [
        "metrics_train = model.evaluate(X_train, y_train_oh, verbose=0)\n",
        "metrics_test = model.evaluate(X_test, y_test_oh, verbose=0)\n",
        "print(\"Accuracy sul set di addestramento: %.2f - Loss sul set di addestramento %.4f\" % (metrics_train[1], metrics_train[0]))\n",
        "print(\"Accuracy sul set di test: %.2f - Loss sul set di test %.4f\" % (metrics_test[1], metrics_test[0]))"
      ],
      "execution_count": 34,
      "outputs": [
        {
          "output_type": "stream",
          "text": [
            "Accuracy sul set di addestramento: 0.50 - Loss sul set di addestramento 1.8314\n",
            "Accuracy sul set di test: 0.49 - Loss sul set di test 3.2939\n"
          ],
          "name": "stdout"
        }
      ]
    },
    {
      "cell_type": "code",
      "metadata": {
        "id": "x05qksk7b7cF",
        "colab_type": "code",
        "colab": {
          "base_uri": "https://localhost:8080/",
          "height": 104
        },
        "outputId": "3cf79746-1c92-49fd-f249-8051dee1bbb4"
      },
      "source": [
        "tf.math.confusion_matrix(y_test, y_pred)"
      ],
      "execution_count": 35,
      "outputs": [
        {
          "output_type": "execute_result",
          "data": {
            "text/plain": [
              "<tf.Tensor: shape=(4, 4), dtype=int32, numpy=\n",
              "array([[ 0,  0,  0,  0],\n",
              "       [53,  2,  0,  0],\n",
              "       [38, 15,  0,  0],\n",
              "       [12, 32,  0,  0]], dtype=int32)>"
            ]
          },
          "metadata": {
            "tags": []
          },
          "execution_count": 35
        }
      ]
    },
    {
      "cell_type": "code",
      "metadata": {
        "id": "IBeBD3qpb71Y",
        "colab_type": "code",
        "colab": {}
      },
      "source": [
        ""
      ],
      "execution_count": 0,
      "outputs": []
    }
  ]
}