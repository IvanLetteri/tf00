{
  "nbformat": 4,
  "nbformat_minor": 0,
  "metadata": {
    "colab": {
      "name": "funzioni_di_costo.ipynb",
      "provenance": [],
      "authorship_tag": "ABX9TyP2hG0oTM2vpdRrDHClwBN+",
      "include_colab_link": true
    },
    "kernelspec": {
      "name": "python3",
      "display_name": "Python 3"
    }
  },
  "cells": [
    {
      "cell_type": "markdown",
      "metadata": {
        "id": "view-in-github",
        "colab_type": "text"
      },
      "source": [
        "<a href=\"https://colab.research.google.com/github/ProfAI/tf00/blob/master/3%20-%20Funzioni%20di%20costo%2C%20attivazione%20e%20ottimizzazione/attivazione_costo_metriche.ipynb\" target=\"_parent\"><img src=\"https://colab.research.google.com/assets/colab-badge.svg\" alt=\"Open In Colab\"/></a>"
      ]
    },
    {
      "cell_type": "markdown",
      "metadata": {
        "id": "ojFXKgK_d_gd",
        "colab_type": "text"
      },
      "source": [
        "# Funzioni di Attivazione, Funzioni di Costo e Metriche\n",
        "Mi sono sentito chiedere davvero spesso quale fosse la differenza tra funzione di attivazione / funzione di costo e quale fosse il rapporto tra quest'ultima e le metriche. In questo notebook proverò a chiarire in maniera esaustiva questi punti :)"
      ]
    },
    {
      "cell_type": "markdown",
      "metadata": {
        "id": "PUYQtbxi-KF-",
        "colab_type": "text"
      },
      "source": [
        "### Importiamo i Moduli"
      ]
    },
    {
      "cell_type": "code",
      "metadata": {
        "id": "4B972unZmuTJ",
        "colab_type": "code",
        "colab": {}
      },
      "source": [
        "import numpy as np\n",
        "import pandas as pd\n",
        "from sklearn.model_selection import train_test_split\n",
        "from sklearn.preprocessing import StandardScaler\n",
        "\n",
        "import tensorflow as tf\n",
        "from tensorflow import keras"
      ],
      "execution_count": 1,
      "outputs": []
    },
    {
      "cell_type": "markdown",
      "metadata": {
        "id": "ylhVhnoT-NF7",
        "colab_type": "text"
      },
      "source": [
        "## Prepariamo i Dati\n",
        "In questo notebook vedremo nel dettaglio la differenza tra un problema di regressione, classificazione binaria e classificazione multiclasse. A questo scopo utilizzeremo il **Boston Housing Dataset**, un dataset con delle informazioni di abitazioni nella zona di Boston. Importiamolo utilizzando Pandas."
      ]
    },
    {
      "cell_type": "code",
      "metadata": {
        "id": "3EO66YTnnDBf",
        "colab_type": "code",
        "colab": {
          "base_uri": "https://localhost:8080/",
          "height": 204
        },
        "outputId": "d1d8007f-9fad-4029-8d63-f4f0ba339138"
      },
      "source": [
        "boston = pd.read_csv(\"https://archive.ics.uci.edu/ml/machine-learning-databases/housing/housing.data\", sep='\\s+', \n",
        "                     names=[\"CRIM\",\"ZN\",\"INDUS\",\"CHAS\",\"NOX\",\"RM\",\"AGE\",\"DIS\",\"RAD\",\"TAX\",\"PRATIO\",\"B\",\"LSTAT\",\"MEDV\"])\n",
        "boston.head()"
      ],
      "execution_count": 2,
      "outputs": [
        {
          "output_type": "execute_result",
          "data": {
            "text/html": [
              "<div>\n",
              "<style scoped>\n",
              "    .dataframe tbody tr th:only-of-type {\n",
              "        vertical-align: middle;\n",
              "    }\n",
              "\n",
              "    .dataframe tbody tr th {\n",
              "        vertical-align: top;\n",
              "    }\n",
              "\n",
              "    .dataframe thead th {\n",
              "        text-align: right;\n",
              "    }\n",
              "</style>\n",
              "<table border=\"1\" class=\"dataframe\">\n",
              "  <thead>\n",
              "    <tr style=\"text-align: right;\">\n",
              "      <th></th>\n",
              "      <th>CRIM</th>\n",
              "      <th>ZN</th>\n",
              "      <th>INDUS</th>\n",
              "      <th>CHAS</th>\n",
              "      <th>NOX</th>\n",
              "      <th>RM</th>\n",
              "      <th>AGE</th>\n",
              "      <th>DIS</th>\n",
              "      <th>RAD</th>\n",
              "      <th>TAX</th>\n",
              "      <th>PRATIO</th>\n",
              "      <th>B</th>\n",
              "      <th>LSTAT</th>\n",
              "      <th>MEDV</th>\n",
              "    </tr>\n",
              "  </thead>\n",
              "  <tbody>\n",
              "    <tr>\n",
              "      <th>0</th>\n",
              "      <td>0.00632</td>\n",
              "      <td>18.0</td>\n",
              "      <td>2.31</td>\n",
              "      <td>0</td>\n",
              "      <td>0.538</td>\n",
              "      <td>6.575</td>\n",
              "      <td>65.2</td>\n",
              "      <td>4.0900</td>\n",
              "      <td>1</td>\n",
              "      <td>296.0</td>\n",
              "      <td>15.3</td>\n",
              "      <td>396.90</td>\n",
              "      <td>4.98</td>\n",
              "      <td>24.0</td>\n",
              "    </tr>\n",
              "    <tr>\n",
              "      <th>1</th>\n",
              "      <td>0.02731</td>\n",
              "      <td>0.0</td>\n",
              "      <td>7.07</td>\n",
              "      <td>0</td>\n",
              "      <td>0.469</td>\n",
              "      <td>6.421</td>\n",
              "      <td>78.9</td>\n",
              "      <td>4.9671</td>\n",
              "      <td>2</td>\n",
              "      <td>242.0</td>\n",
              "      <td>17.8</td>\n",
              "      <td>396.90</td>\n",
              "      <td>9.14</td>\n",
              "      <td>21.6</td>\n",
              "    </tr>\n",
              "    <tr>\n",
              "      <th>2</th>\n",
              "      <td>0.02729</td>\n",
              "      <td>0.0</td>\n",
              "      <td>7.07</td>\n",
              "      <td>0</td>\n",
              "      <td>0.469</td>\n",
              "      <td>7.185</td>\n",
              "      <td>61.1</td>\n",
              "      <td>4.9671</td>\n",
              "      <td>2</td>\n",
              "      <td>242.0</td>\n",
              "      <td>17.8</td>\n",
              "      <td>392.83</td>\n",
              "      <td>4.03</td>\n",
              "      <td>34.7</td>\n",
              "    </tr>\n",
              "    <tr>\n",
              "      <th>3</th>\n",
              "      <td>0.03237</td>\n",
              "      <td>0.0</td>\n",
              "      <td>2.18</td>\n",
              "      <td>0</td>\n",
              "      <td>0.458</td>\n",
              "      <td>6.998</td>\n",
              "      <td>45.8</td>\n",
              "      <td>6.0622</td>\n",
              "      <td>3</td>\n",
              "      <td>222.0</td>\n",
              "      <td>18.7</td>\n",
              "      <td>394.63</td>\n",
              "      <td>2.94</td>\n",
              "      <td>33.4</td>\n",
              "    </tr>\n",
              "    <tr>\n",
              "      <th>4</th>\n",
              "      <td>0.06905</td>\n",
              "      <td>0.0</td>\n",
              "      <td>2.18</td>\n",
              "      <td>0</td>\n",
              "      <td>0.458</td>\n",
              "      <td>7.147</td>\n",
              "      <td>54.2</td>\n",
              "      <td>6.0622</td>\n",
              "      <td>3</td>\n",
              "      <td>222.0</td>\n",
              "      <td>18.7</td>\n",
              "      <td>396.90</td>\n",
              "      <td>5.33</td>\n",
              "      <td>36.2</td>\n",
              "    </tr>\n",
              "  </tbody>\n",
              "</table>\n",
              "</div>"
            ],
            "text/plain": [
              "      CRIM    ZN  INDUS  CHAS    NOX  ...    TAX  PRATIO       B  LSTAT  MEDV\n",
              "0  0.00632  18.0   2.31     0  0.538  ...  296.0    15.3  396.90   4.98  24.0\n",
              "1  0.02731   0.0   7.07     0  0.469  ...  242.0    17.8  396.90   9.14  21.6\n",
              "2  0.02729   0.0   7.07     0  0.469  ...  242.0    17.8  392.83   4.03  34.7\n",
              "3  0.03237   0.0   2.18     0  0.458  ...  222.0    18.7  394.63   2.94  33.4\n",
              "4  0.06905   0.0   2.18     0  0.458  ...  222.0    18.7  396.90   5.33  36.2\n",
              "\n",
              "[5 rows x 14 columns]"
            ]
          },
          "metadata": {
            "tags": []
          },
          "execution_count": 2
        }
      ]
    },
    {
      "cell_type": "markdown",
      "metadata": {
        "id": "ik9ZveRp_A5N",
        "colab_type": "text"
      },
      "source": [
        "Il dataset contiene le seguenti informazioni:\n",
        "1. CRIM      per capita crime rate by town\n",
        "2. ZN        proportion of residential land zoned for lots over 25,000 sq.ft.\n",
        "3. INDUS     proportion of non-retail business acres per town\n",
        "4. CHAS      Charles River dummy variable (= 1 if tract bounds river; 0 otherwise)\n",
        "5. NOX       nitric oxides concentration (parts per 10 million)\n",
        "6. RM        average number of rooms per dwelling\n",
        "7. AGE       proportion of owner-occupied units built prior to 1940\n",
        "8. DIS       weighted distances to five Boston employment centres\n",
        "9. RAD       index of accessibility to radial highways\n",
        "10. TAX      full-value property-tax rate per 10,000 USD\n",
        "11. PTRATIO  pupil-teacher ratio by town\n",
        "12. B        1000(Bk - 0.63)^2 where Bk is the proportion of blacks by town\n",
        "13. LSTAT    % lower status of the population\n",
        "14. MEDV     Median value of owner-occupied homes in 1000's USD"
      ]
    },
    {
      "cell_type": "markdown",
      "metadata": {
        "id": "EGbqx2SV-ml9",
        "colab_type": "text"
      },
      "source": [
        "La colonna MEDV contiene il valore di un'abitazione con le corrispondenti caratteristice e sarà il nostro target. Creiamo Train Set e Test Set."
      ]
    },
    {
      "cell_type": "code",
      "metadata": {
        "id": "GL3xjjCynNIb",
        "colab_type": "code",
        "colab": {}
      },
      "source": [
        "X = boston.drop(\"MEDV\", axis=1).values\n",
        "y = boston[\"MEDV\"].values\n",
        "\n",
        "X_train, X_test, y_train, y_test = train_test_split(X,y, test_size=0.3, random_state=0)"
      ],
      "execution_count": 3,
      "outputs": []
    },
    {
      "cell_type": "markdown",
      "metadata": {
        "id": "FEOTNYDaEBQx",
        "colab_type": "text"
      },
      "source": [
        "Eseguiamo la standardizzazione sulle features, per portarle su un range di valori comune."
      ]
    },
    {
      "cell_type": "code",
      "metadata": {
        "id": "Mwi4ptIQnw6Q",
        "colab_type": "code",
        "colab": {}
      },
      "source": [
        "ss = StandardScaler()\n",
        "X_train = ss.fit_transform(X_train)\n",
        "X_test = ss.transform(X_test)"
      ],
      "execution_count": 4,
      "outputs": []
    },
    {
      "cell_type": "markdown",
      "metadata": {
        "id": "gl28_MAgozWY",
        "colab_type": "text"
      },
      "source": [
        "## Regressione: Stimare il Valore di un'Abitazione\n",
        "Come primo problema tenteremo una classificazione, cercando di stimare il valore dell'abitazione (MEDV) utilizzando tutte le altre features. Definiamo la nostra rete neurale. Per un problema di regressione la funzione di attivazione sull'ultimo strato deve essere la *funzione lineare (linear)*."
      ]
    },
    {
      "cell_type": "code",
      "metadata": {
        "id": "QPN2R1QuovbG",
        "colab_type": "code",
        "colab": {}
      },
      "source": [
        "regularizer = keras.regularizers.L1L2(l1=0.01, l2=0.1)\n",
        "\n",
        "model = keras.models.Sequential([\n",
        "    keras.layers.Dense(64, input_shape=[X.shape[1]], activation=\"relu\", kernel_regularizer=regularizer),\n",
        "    keras.layers.Dense(64, activation=\"relu\", kernel_regularizer=regularizer),\n",
        "    keras.layers.Dense(1, activation=\"linear\"),\n",
        "])"
      ],
      "execution_count": null,
      "outputs": []
    },
    {
      "cell_type": "markdown",
      "metadata": {
        "id": "gGZVOrdpzphW",
        "colab_type": "text"
      },
      "source": [
        "## MSE - Mean Squared Error\n",
        "Come funzione di costo possiamo utilizzare **L'Errore Quadratico Medio (MSE - Mean Squared Error)**, il quale tende a dare maggior peso agli errori più grandi.\n",
        "\n",
        "$$MSE = \\frac{1}{N}\\sum_{i=1}^{N}(Y_i-\\hat{Y}_i)^2$$\n"
      ]
    },
    {
      "cell_type": "code",
      "metadata": {
        "id": "2iQajaWxom2m",
        "colab_type": "code",
        "colab": {}
      },
      "source": [
        "model.compile(optimizer=\"adam\", loss=\"mean_squared_error\")"
      ],
      "execution_count": null,
      "outputs": []
    },
    {
      "cell_type": "code",
      "metadata": {
        "id": "b6bfoAq6pOlX",
        "colab_type": "code",
        "colab": {
          "base_uri": "https://localhost:8080/",
          "height": 1000
        },
        "outputId": "75e9e842-3a75-4938-c3f2-6c36b793cde5"
      },
      "source": [
        "model.fit(X_train, y_train, epochs=200)"
      ],
      "execution_count": null,
      "outputs": [
        {
          "output_type": "stream",
          "text": [
            "Epoch 1/200\n",
            "12/12 [==============================] - 0s 2ms/step - loss: 607.2388\n",
            "Epoch 2/200\n",
            "12/12 [==============================] - 0s 1ms/step - loss: 553.4742\n",
            "Epoch 3/200\n",
            "12/12 [==============================] - 0s 2ms/step - loss: 492.8711\n",
            "Epoch 4/200\n",
            "12/12 [==============================] - 0s 1ms/step - loss: 415.8910\n",
            "Epoch 5/200\n",
            "12/12 [==============================] - 0s 2ms/step - loss: 321.1479\n",
            "Epoch 6/200\n",
            "12/12 [==============================] - 0s 2ms/step - loss: 220.1905\n",
            "Epoch 7/200\n",
            "12/12 [==============================] - 0s 2ms/step - loss: 135.4044\n",
            "Epoch 8/200\n",
            "12/12 [==============================] - 0s 1ms/step - loss: 85.3211\n",
            "Epoch 9/200\n",
            "12/12 [==============================] - 0s 2ms/step - loss: 64.7106\n",
            "Epoch 10/200\n",
            "12/12 [==============================] - 0s 1ms/step - loss: 54.0028\n",
            "Epoch 11/200\n",
            "12/12 [==============================] - 0s 1ms/step - loss: 46.1999\n",
            "Epoch 12/200\n",
            "12/12 [==============================] - 0s 2ms/step - loss: 41.2155\n",
            "Epoch 13/200\n",
            "12/12 [==============================] - 0s 1ms/step - loss: 38.2378\n",
            "Epoch 14/200\n",
            "12/12 [==============================] - 0s 2ms/step - loss: 36.4899\n",
            "Epoch 15/200\n",
            "12/12 [==============================] - 0s 1ms/step - loss: 35.0592\n",
            "Epoch 16/200\n",
            "12/12 [==============================] - 0s 1ms/step - loss: 33.6168\n",
            "Epoch 17/200\n",
            "12/12 [==============================] - 0s 1ms/step - loss: 32.6164\n",
            "Epoch 18/200\n",
            "12/12 [==============================] - 0s 1ms/step - loss: 31.7799\n",
            "Epoch 19/200\n",
            "12/12 [==============================] - 0s 1ms/step - loss: 30.9705\n",
            "Epoch 20/200\n",
            "12/12 [==============================] - 0s 2ms/step - loss: 30.3185\n",
            "Epoch 21/200\n",
            "12/12 [==============================] - 0s 1ms/step - loss: 29.6555\n",
            "Epoch 22/200\n",
            "12/12 [==============================] - 0s 2ms/step - loss: 29.0601\n",
            "Epoch 23/200\n",
            "12/12 [==============================] - 0s 2ms/step - loss: 28.4894\n",
            "Epoch 24/200\n",
            "12/12 [==============================] - 0s 2ms/step - loss: 28.1802\n",
            "Epoch 25/200\n",
            "12/12 [==============================] - 0s 2ms/step - loss: 27.6212\n",
            "Epoch 26/200\n",
            "12/12 [==============================] - 0s 2ms/step - loss: 26.9700\n",
            "Epoch 27/200\n",
            "12/12 [==============================] - 0s 2ms/step - loss: 26.6779\n",
            "Epoch 28/200\n",
            "12/12 [==============================] - 0s 1ms/step - loss: 26.3029\n",
            "Epoch 29/200\n",
            "12/12 [==============================] - 0s 1ms/step - loss: 25.9334\n",
            "Epoch 30/200\n",
            "12/12 [==============================] - 0s 2ms/step - loss: 25.4021\n",
            "Epoch 31/200\n",
            "12/12 [==============================] - 0s 2ms/step - loss: 25.1207\n",
            "Epoch 32/200\n",
            "12/12 [==============================] - 0s 2ms/step - loss: 24.9439\n",
            "Epoch 33/200\n",
            "12/12 [==============================] - 0s 2ms/step - loss: 24.6380\n",
            "Epoch 34/200\n",
            "12/12 [==============================] - 0s 2ms/step - loss: 24.2062\n",
            "Epoch 35/200\n",
            "12/12 [==============================] - 0s 2ms/step - loss: 23.8782\n",
            "Epoch 36/200\n",
            "12/12 [==============================] - 0s 2ms/step - loss: 23.8111\n",
            "Epoch 37/200\n",
            "12/12 [==============================] - 0s 2ms/step - loss: 23.4370\n",
            "Epoch 38/200\n",
            "12/12 [==============================] - 0s 2ms/step - loss: 23.8263\n",
            "Epoch 39/200\n",
            "12/12 [==============================] - 0s 2ms/step - loss: 23.3996\n",
            "Epoch 40/200\n",
            "12/12 [==============================] - 0s 2ms/step - loss: 22.7474\n",
            "Epoch 41/200\n",
            "12/12 [==============================] - 0s 1ms/step - loss: 22.3894\n",
            "Epoch 42/200\n",
            "12/12 [==============================] - 0s 2ms/step - loss: 22.1164\n",
            "Epoch 43/200\n",
            "12/12 [==============================] - 0s 2ms/step - loss: 21.9331\n",
            "Epoch 44/200\n",
            "12/12 [==============================] - 0s 2ms/step - loss: 21.9260\n",
            "Epoch 45/200\n",
            "12/12 [==============================] - 0s 2ms/step - loss: 21.7118\n",
            "Epoch 46/200\n",
            "12/12 [==============================] - 0s 2ms/step - loss: 21.4822\n",
            "Epoch 47/200\n",
            "12/12 [==============================] - 0s 1ms/step - loss: 21.7396\n",
            "Epoch 48/200\n",
            "12/12 [==============================] - 0s 2ms/step - loss: 21.2852\n",
            "Epoch 49/200\n",
            "12/12 [==============================] - 0s 2ms/step - loss: 21.0628\n",
            "Epoch 50/200\n",
            "12/12 [==============================] - 0s 2ms/step - loss: 20.8287\n",
            "Epoch 51/200\n",
            "12/12 [==============================] - 0s 1ms/step - loss: 20.6553\n",
            "Epoch 52/200\n",
            "12/12 [==============================] - 0s 2ms/step - loss: 20.3811\n",
            "Epoch 53/200\n",
            "12/12 [==============================] - 0s 1ms/step - loss: 20.2620\n",
            "Epoch 54/200\n",
            "12/12 [==============================] - 0s 1ms/step - loss: 20.1850\n",
            "Epoch 55/200\n",
            "12/12 [==============================] - 0s 2ms/step - loss: 20.1227\n",
            "Epoch 56/200\n",
            "12/12 [==============================] - 0s 1ms/step - loss: 20.3124\n",
            "Epoch 57/200\n",
            "12/12 [==============================] - 0s 2ms/step - loss: 20.0862\n",
            "Epoch 58/200\n",
            "12/12 [==============================] - 0s 1ms/step - loss: 19.6668\n",
            "Epoch 59/200\n",
            "12/12 [==============================] - 0s 1ms/step - loss: 19.4974\n",
            "Epoch 60/200\n",
            "12/12 [==============================] - 0s 1ms/step - loss: 19.4016\n",
            "Epoch 61/200\n",
            "12/12 [==============================] - 0s 2ms/step - loss: 19.4285\n",
            "Epoch 62/200\n",
            "12/12 [==============================] - 0s 2ms/step - loss: 19.3559\n",
            "Epoch 63/200\n",
            "12/12 [==============================] - 0s 2ms/step - loss: 19.1500\n",
            "Epoch 64/200\n",
            "12/12 [==============================] - 0s 1ms/step - loss: 18.9238\n",
            "Epoch 65/200\n",
            "12/12 [==============================] - 0s 2ms/step - loss: 18.8419\n",
            "Epoch 66/200\n",
            "12/12 [==============================] - 0s 1ms/step - loss: 18.7868\n",
            "Epoch 67/200\n",
            "12/12 [==============================] - 0s 2ms/step - loss: 18.7080\n",
            "Epoch 68/200\n",
            "12/12 [==============================] - 0s 3ms/step - loss: 18.5606\n",
            "Epoch 69/200\n",
            "12/12 [==============================] - 0s 1ms/step - loss: 18.4955\n",
            "Epoch 70/200\n",
            "12/12 [==============================] - 0s 2ms/step - loss: 18.2613\n",
            "Epoch 71/200\n",
            "12/12 [==============================] - 0s 2ms/step - loss: 18.2678\n",
            "Epoch 72/200\n",
            "12/12 [==============================] - 0s 1ms/step - loss: 18.1976\n",
            "Epoch 73/200\n",
            "12/12 [==============================] - 0s 1ms/step - loss: 18.1067\n",
            "Epoch 74/200\n",
            "12/12 [==============================] - 0s 2ms/step - loss: 17.9781\n",
            "Epoch 75/200\n",
            "12/12 [==============================] - 0s 1ms/step - loss: 17.7820\n",
            "Epoch 76/200\n",
            "12/12 [==============================] - 0s 1ms/step - loss: 17.7257\n",
            "Epoch 77/200\n",
            "12/12 [==============================] - 0s 2ms/step - loss: 17.8261\n",
            "Epoch 78/200\n",
            "12/12 [==============================] - 0s 2ms/step - loss: 17.5786\n",
            "Epoch 79/200\n",
            "12/12 [==============================] - 0s 1ms/step - loss: 17.4572\n",
            "Epoch 80/200\n",
            "12/12 [==============================] - 0s 2ms/step - loss: 17.4079\n",
            "Epoch 81/200\n",
            "12/12 [==============================] - 0s 2ms/step - loss: 17.3301\n",
            "Epoch 82/200\n",
            "12/12 [==============================] - 0s 2ms/step - loss: 17.3139\n",
            "Epoch 83/200\n",
            "12/12 [==============================] - 0s 2ms/step - loss: 17.2723\n",
            "Epoch 84/200\n",
            "12/12 [==============================] - 0s 1ms/step - loss: 17.1469\n",
            "Epoch 85/200\n",
            "12/12 [==============================] - 0s 1ms/step - loss: 16.9711\n",
            "Epoch 86/200\n",
            "12/12 [==============================] - 0s 1ms/step - loss: 16.8706\n",
            "Epoch 87/200\n",
            "12/12 [==============================] - 0s 1ms/step - loss: 17.0435\n",
            "Epoch 88/200\n",
            "12/12 [==============================] - 0s 2ms/step - loss: 17.3524\n",
            "Epoch 89/200\n",
            "12/12 [==============================] - 0s 2ms/step - loss: 16.7701\n",
            "Epoch 90/200\n",
            "12/12 [==============================] - 0s 2ms/step - loss: 16.5813\n",
            "Epoch 91/200\n",
            "12/12 [==============================] - 0s 2ms/step - loss: 16.7015\n",
            "Epoch 92/200\n",
            "12/12 [==============================] - 0s 1ms/step - loss: 16.5937\n",
            "Epoch 93/200\n",
            "12/12 [==============================] - 0s 1ms/step - loss: 16.3914\n",
            "Epoch 94/200\n",
            "12/12 [==============================] - 0s 2ms/step - loss: 16.4163\n",
            "Epoch 95/200\n",
            "12/12 [==============================] - 0s 2ms/step - loss: 16.4140\n",
            "Epoch 96/200\n",
            "12/12 [==============================] - 0s 1ms/step - loss: 16.2545\n",
            "Epoch 97/200\n",
            "12/12 [==============================] - 0s 2ms/step - loss: 16.3191\n",
            "Epoch 98/200\n",
            "12/12 [==============================] - 0s 2ms/step - loss: 16.0980\n",
            "Epoch 99/200\n",
            "12/12 [==============================] - 0s 1ms/step - loss: 16.3235\n",
            "Epoch 100/200\n",
            "12/12 [==============================] - 0s 1ms/step - loss: 16.0357\n",
            "Epoch 101/200\n",
            "12/12 [==============================] - 0s 1ms/step - loss: 16.3178\n",
            "Epoch 102/200\n",
            "12/12 [==============================] - 0s 1ms/step - loss: 15.9763\n",
            "Epoch 103/200\n",
            "12/12 [==============================] - 0s 1ms/step - loss: 15.9204\n",
            "Epoch 104/200\n",
            "12/12 [==============================] - 0s 1ms/step - loss: 15.8806\n",
            "Epoch 105/200\n",
            "12/12 [==============================] - 0s 2ms/step - loss: 15.8886\n",
            "Epoch 106/200\n",
            "12/12 [==============================] - 0s 1ms/step - loss: 15.7192\n",
            "Epoch 107/200\n",
            "12/12 [==============================] - 0s 1ms/step - loss: 15.5720\n",
            "Epoch 108/200\n",
            "12/12 [==============================] - 0s 1ms/step - loss: 15.4572\n",
            "Epoch 109/200\n",
            "12/12 [==============================] - 0s 1ms/step - loss: 15.3828\n",
            "Epoch 110/200\n",
            "12/12 [==============================] - 0s 1ms/step - loss: 15.3456\n",
            "Epoch 111/200\n",
            "12/12 [==============================] - 0s 1ms/step - loss: 15.2921\n",
            "Epoch 112/200\n",
            "12/12 [==============================] - 0s 1ms/step - loss: 15.3040\n",
            "Epoch 113/200\n",
            "12/12 [==============================] - 0s 1ms/step - loss: 15.2091\n",
            "Epoch 114/200\n",
            "12/12 [==============================] - 0s 1ms/step - loss: 15.2576\n",
            "Epoch 115/200\n",
            "12/12 [==============================] - 0s 1ms/step - loss: 15.4738\n",
            "Epoch 116/200\n",
            "12/12 [==============================] - 0s 1ms/step - loss: 15.3627\n",
            "Epoch 117/200\n",
            "12/12 [==============================] - 0s 2ms/step - loss: 15.0833\n",
            "Epoch 118/200\n",
            "12/12 [==============================] - 0s 1ms/step - loss: 14.9948\n",
            "Epoch 119/200\n",
            "12/12 [==============================] - 0s 1ms/step - loss: 15.3689\n",
            "Epoch 120/200\n",
            "12/12 [==============================] - 0s 1ms/step - loss: 15.2220\n",
            "Epoch 121/200\n",
            "12/12 [==============================] - 0s 2ms/step - loss: 14.9816\n",
            "Epoch 122/200\n",
            "12/12 [==============================] - 0s 1ms/step - loss: 14.9086\n",
            "Epoch 123/200\n",
            "12/12 [==============================] - 0s 1ms/step - loss: 14.7766\n",
            "Epoch 124/200\n",
            "12/12 [==============================] - 0s 2ms/step - loss: 14.7828\n",
            "Epoch 125/200\n",
            "12/12 [==============================] - 0s 1ms/step - loss: 14.6330\n",
            "Epoch 126/200\n",
            "12/12 [==============================] - 0s 1ms/step - loss: 14.5514\n",
            "Epoch 127/200\n",
            "12/12 [==============================] - 0s 2ms/step - loss: 14.5344\n",
            "Epoch 128/200\n",
            "12/12 [==============================] - 0s 1ms/step - loss: 14.5875\n",
            "Epoch 129/200\n",
            "12/12 [==============================] - 0s 1ms/step - loss: 14.4410\n",
            "Epoch 130/200\n",
            "12/12 [==============================] - 0s 2ms/step - loss: 14.3646\n",
            "Epoch 131/200\n",
            "12/12 [==============================] - 0s 2ms/step - loss: 14.2908\n",
            "Epoch 132/200\n",
            "12/12 [==============================] - 0s 2ms/step - loss: 14.4321\n",
            "Epoch 133/200\n",
            "12/12 [==============================] - 0s 2ms/step - loss: 14.1936\n",
            "Epoch 134/200\n",
            "12/12 [==============================] - 0s 1ms/step - loss: 14.2061\n",
            "Epoch 135/200\n",
            "12/12 [==============================] - 0s 2ms/step - loss: 14.1287\n",
            "Epoch 136/200\n",
            "12/12 [==============================] - 0s 1ms/step - loss: 14.0864\n",
            "Epoch 137/200\n",
            "12/12 [==============================] - 0s 2ms/step - loss: 14.3907\n",
            "Epoch 138/200\n",
            "12/12 [==============================] - 0s 1ms/step - loss: 14.1930\n",
            "Epoch 139/200\n",
            "12/12 [==============================] - 0s 2ms/step - loss: 14.4110\n",
            "Epoch 140/200\n",
            "12/12 [==============================] - 0s 1ms/step - loss: 14.2336\n",
            "Epoch 141/200\n",
            "12/12 [==============================] - 0s 1ms/step - loss: 13.9754\n",
            "Epoch 142/200\n",
            "12/12 [==============================] - 0s 1ms/step - loss: 13.9448\n",
            "Epoch 143/200\n",
            "12/12 [==============================] - 0s 1ms/step - loss: 14.0144\n",
            "Epoch 144/200\n",
            "12/12 [==============================] - 0s 1ms/step - loss: 13.8906\n",
            "Epoch 145/200\n",
            "12/12 [==============================] - 0s 2ms/step - loss: 13.7324\n",
            "Epoch 146/200\n",
            "12/12 [==============================] - 0s 2ms/step - loss: 13.7031\n",
            "Epoch 147/200\n",
            "12/12 [==============================] - 0s 2ms/step - loss: 13.6991\n",
            "Epoch 148/200\n",
            "12/12 [==============================] - 0s 2ms/step - loss: 13.7792\n",
            "Epoch 149/200\n",
            "12/12 [==============================] - 0s 2ms/step - loss: 13.5750\n",
            "Epoch 150/200\n",
            "12/12 [==============================] - 0s 1ms/step - loss: 13.9148\n",
            "Epoch 151/200\n",
            "12/12 [==============================] - 0s 1ms/step - loss: 13.5825\n",
            "Epoch 152/200\n",
            "12/12 [==============================] - 0s 1ms/step - loss: 13.5745\n",
            "Epoch 153/200\n",
            "12/12 [==============================] - 0s 1ms/step - loss: 13.6033\n",
            "Epoch 154/200\n",
            "12/12 [==============================] - 0s 1ms/step - loss: 13.5325\n",
            "Epoch 155/200\n",
            "12/12 [==============================] - 0s 1ms/step - loss: 13.4437\n",
            "Epoch 156/200\n",
            "12/12 [==============================] - 0s 1ms/step - loss: 13.2878\n",
            "Epoch 157/200\n",
            "12/12 [==============================] - 0s 1ms/step - loss: 13.3881\n",
            "Epoch 158/200\n",
            "12/12 [==============================] - 0s 1ms/step - loss: 13.2757\n",
            "Epoch 159/200\n",
            "12/12 [==============================] - 0s 2ms/step - loss: 13.3089\n",
            "Epoch 160/200\n",
            "12/12 [==============================] - 0s 2ms/step - loss: 13.3184\n",
            "Epoch 161/200\n",
            "12/12 [==============================] - 0s 2ms/step - loss: 13.4096\n",
            "Epoch 162/200\n",
            "12/12 [==============================] - 0s 2ms/step - loss: 13.1809\n",
            "Epoch 163/200\n",
            "12/12 [==============================] - 0s 1ms/step - loss: 13.1394\n",
            "Epoch 164/200\n",
            "12/12 [==============================] - 0s 2ms/step - loss: 13.0728\n",
            "Epoch 165/200\n",
            "12/12 [==============================] - 0s 2ms/step - loss: 12.9536\n",
            "Epoch 166/200\n",
            "12/12 [==============================] - 0s 2ms/step - loss: 13.0072\n",
            "Epoch 167/200\n",
            "12/12 [==============================] - 0s 1ms/step - loss: 12.9318\n",
            "Epoch 168/200\n",
            "12/12 [==============================] - 0s 2ms/step - loss: 12.8943\n",
            "Epoch 169/200\n",
            "12/12 [==============================] - 0s 2ms/step - loss: 12.8953\n",
            "Epoch 170/200\n",
            "12/12 [==============================] - 0s 1ms/step - loss: 12.8797\n",
            "Epoch 171/200\n",
            "12/12 [==============================] - 0s 2ms/step - loss: 12.8236\n",
            "Epoch 172/200\n",
            "12/12 [==============================] - 0s 2ms/step - loss: 12.9714\n",
            "Epoch 173/200\n",
            "12/12 [==============================] - 0s 2ms/step - loss: 12.8122\n",
            "Epoch 174/200\n",
            "12/12 [==============================] - 0s 2ms/step - loss: 12.8677\n",
            "Epoch 175/200\n",
            "12/12 [==============================] - 0s 2ms/step - loss: 12.9364\n",
            "Epoch 176/200\n",
            "12/12 [==============================] - 0s 1ms/step - loss: 12.8801\n",
            "Epoch 177/200\n",
            "12/12 [==============================] - 0s 1ms/step - loss: 12.8612\n",
            "Epoch 178/200\n",
            "12/12 [==============================] - 0s 1ms/step - loss: 12.5313\n",
            "Epoch 179/200\n",
            "12/12 [==============================] - 0s 1ms/step - loss: 12.5302\n",
            "Epoch 180/200\n",
            "12/12 [==============================] - 0s 2ms/step - loss: 12.7524\n",
            "Epoch 181/200\n",
            "12/12 [==============================] - 0s 1ms/step - loss: 12.4896\n",
            "Epoch 182/200\n",
            "12/12 [==============================] - 0s 2ms/step - loss: 12.4973\n",
            "Epoch 183/200\n",
            "12/12 [==============================] - 0s 2ms/step - loss: 12.4445\n",
            "Epoch 184/200\n",
            "12/12 [==============================] - 0s 2ms/step - loss: 12.4061\n",
            "Epoch 185/200\n",
            "12/12 [==============================] - 0s 2ms/step - loss: 12.4677\n",
            "Epoch 186/200\n",
            "12/12 [==============================] - 0s 2ms/step - loss: 12.5094\n",
            "Epoch 187/200\n",
            "12/12 [==============================] - 0s 1ms/step - loss: 12.8923\n",
            "Epoch 188/200\n",
            "12/12 [==============================] - 0s 1ms/step - loss: 12.4410\n",
            "Epoch 189/200\n",
            "12/12 [==============================] - 0s 1ms/step - loss: 12.3685\n",
            "Epoch 190/200\n",
            "12/12 [==============================] - 0s 1ms/step - loss: 12.3689\n",
            "Epoch 191/200\n",
            "12/12 [==============================] - 0s 1ms/step - loss: 12.2294\n",
            "Epoch 192/200\n",
            "12/12 [==============================] - 0s 1ms/step - loss: 12.2463\n",
            "Epoch 193/200\n",
            "12/12 [==============================] - 0s 1ms/step - loss: 12.1338\n",
            "Epoch 194/200\n",
            "12/12 [==============================] - 0s 1ms/step - loss: 12.9928\n",
            "Epoch 195/200\n",
            "12/12 [==============================] - 0s 1ms/step - loss: 12.7951\n",
            "Epoch 196/200\n",
            "12/12 [==============================] - 0s 2ms/step - loss: 12.4866\n",
            "Epoch 197/200\n",
            "12/12 [==============================] - 0s 1ms/step - loss: 12.0779\n",
            "Epoch 198/200\n",
            "12/12 [==============================] - 0s 1ms/step - loss: 12.0554\n",
            "Epoch 199/200\n",
            "12/12 [==============================] - 0s 1ms/step - loss: 12.1695\n",
            "Epoch 200/200\n",
            "12/12 [==============================] - 0s 1ms/step - loss: 12.0261\n"
          ],
          "name": "stdout"
        },
        {
          "output_type": "execute_result",
          "data": {
            "text/plain": [
              "<tensorflow.python.keras.callbacks.History at 0x7febefed3a58>"
            ]
          },
          "metadata": {
            "tags": []
          },
          "execution_count": 8
        }
      ]
    },
    {
      "cell_type": "code",
      "metadata": {
        "id": "LyLQsde-pXJr",
        "colab_type": "code",
        "colab": {
          "base_uri": "https://localhost:8080/",
          "height": 87
        },
        "outputId": "a53bb563-17a1-4229-e736-228b99f4a498"
      },
      "source": [
        "metrics_train = model.evaluate(X_train, y_train)\n",
        "metrics_test = model.evaluate(X_test, y_test)\n",
        "print(\"Loss sul set di addestramento %.4f\" % (metrics_train))\n",
        "print(\"Loss sul set di test %.4f\" % (metrics_test))"
      ],
      "execution_count": null,
      "outputs": [
        {
          "output_type": "stream",
          "text": [
            "12/12 [==============================] - 0s 1ms/step - loss: 11.9344\n",
            "5/5 [==============================] - 0s 2ms/step - loss: 21.8476\n",
            "Loss sul set di addestramento 11.9344\n",
            "Loss sul set di test 21.8476\n"
          ],
          "name": "stdout"
        }
      ]
    },
    {
      "cell_type": "markdown",
      "metadata": {
        "id": "iYFTnq-isL6y",
        "colab_type": "text"
      },
      "source": [
        "## MAE - Mean Absolute Error\n",
        "Un'altra funzione di costo che possiamo utilizzare per problemi di regressione è **l'Errore Assoluto Medio**, che a differenza del MSE penalizza meno gli errori più grandi.\n",
        "\n",
        "$$MSE = \\frac{1}{N}\\sum_{i=1}^{N}|Y_i-\\hat{Y}_i|$$\n"
      ]
    },
    {
      "cell_type": "code",
      "metadata": {
        "id": "XXVd9gdOs2WP",
        "colab_type": "code",
        "colab": {
          "base_uri": "https://localhost:8080/",
          "height": 35
        },
        "outputId": "47d44c9b-cfd9-4d2e-fe89-080cacbf5357"
      },
      "source": [
        "model.compile(optimizer=\"adam\", loss=\"mean_absolute_error\", metrics=[\"mean_squared_error\"])\n",
        "model.fit(X_train, y_train, epochs=200, verbose=0)"
      ],
      "execution_count": null,
      "outputs": [
        {
          "output_type": "execute_result",
          "data": {
            "text/plain": [
              "<tensorflow.python.keras.callbacks.History at 0x7febecfe5390>"
            ]
          },
          "metadata": {
            "tags": []
          },
          "execution_count": 10
        }
      ]
    },
    {
      "cell_type": "code",
      "metadata": {
        "id": "alHPdXCPsf2k",
        "colab_type": "code",
        "colab": {
          "base_uri": "https://localhost:8080/",
          "height": 87
        },
        "outputId": "8eedb559-6c20-4ff5-a3ae-76aa3e1c1c60"
      },
      "source": [
        "metrics_train = model.evaluate(X_train, y_train)\n",
        "metrics_test = model.evaluate(X_test, y_test)\n",
        "\n",
        "print(\"Set di Addestramento: MAE = %.4f - MSE = %.4f\" % (metrics_train[0], metrics_train[1]))\n",
        "print(\"Set di Test: MAE = %.4f - MSE = %.4f\" % (metrics_test[0], metrics_test[1]))"
      ],
      "execution_count": null,
      "outputs": [
        {
          "output_type": "stream",
          "text": [
            "12/12 [==============================] - 0s 1ms/step - loss: 3.2149 - mean_squared_error: 13.9150\n",
            "5/5 [==============================] - 0s 2ms/step - loss: 4.0988 - mean_squared_error: 24.4204\n",
            "Set di Addestramento: MAE = 3.2149 - MSE = 13.9150\n",
            "Set di Test: MAE = 4.0988 - MSE = 24.4204\n"
          ],
          "name": "stdout"
        }
      ]
    },
    {
      "cell_type": "markdown",
      "metadata": {
        "id": "sQeNlKCNq1x_",
        "colab_type": "text"
      },
      "source": [
        "## RMSE - Root Mean Squared Error\n",
        "La radice dell'errore quadratico medio è semplicemente la radice quadrata del MSE ed è un'ottima metrica che possiamo utilizzare per stimare di quanto il nostro modello si è sbagliato mediamente."
      ]
    },
    {
      "cell_type": "code",
      "metadata": {
        "id": "F6re9cxhqy-p",
        "colab_type": "code",
        "colab": {
          "base_uri": "https://localhost:8080/",
          "height": 35
        },
        "outputId": "3352bcd4-9d4f-495e-f841-895f53232855"
      },
      "source": [
        "from math import sqrt\n",
        "\n",
        "print(\"Errore medio: %.2f $\" % (sqrt(metrics_test[1])*1000))"
      ],
      "execution_count": null,
      "outputs": [
        {
          "output_type": "stream",
          "text": [
            "Errore medio: 4941.70 $\n"
          ],
          "name": "stdout"
        }
      ]
    },
    {
      "cell_type": "markdown",
      "metadata": {
        "id": "q5oPjtrEFWW1",
        "colab_type": "text"
      },
      "source": [
        "Con tf.keras possiamo aggiungerlo come metrica durante l'addestramento utilizzando l'apposita funzione."
      ]
    },
    {
      "cell_type": "code",
      "metadata": {
        "id": "AO5j0sdbs4eP",
        "colab_type": "code",
        "colab": {
          "base_uri": "https://localhost:8080/",
          "height": 35
        },
        "outputId": "0ba61f7c-1b69-465a-f723-0b3a1d44508e"
      },
      "source": [
        "rmse = tf.keras.metrics.RootMeanSquaredError()\n",
        "model.compile(optimizer=\"adam\", loss=\"mean_squared_error\", metrics=[rmse])\n",
        "model.fit(X_train, y_train, epochs=200, verbose=0)"
      ],
      "execution_count": null,
      "outputs": [
        {
          "output_type": "execute_result",
          "data": {
            "text/plain": [
              "<tensorflow.python.keras.callbacks.History at 0x7febebe56f28>"
            ]
          },
          "metadata": {
            "tags": []
          },
          "execution_count": 13
        }
      ]
    },
    {
      "cell_type": "code",
      "metadata": {
        "id": "e4Mo377AtsCs",
        "colab_type": "code",
        "colab": {
          "base_uri": "https://localhost:8080/",
          "height": 87
        },
        "outputId": "481416d3-d7d5-4cbb-ec01-d8a9979d6913"
      },
      "source": [
        "metrics_train = model.evaluate(X_train, y_train)\n",
        "metrics_test = model.evaluate(X_test, y_test)\n",
        "\n",
        "print(\"Set di Addestramento: MAE = %.4f - RMSE = %.4f\" % (metrics_train[0], metrics_train[1]))\n",
        "print(\"Set di Test: MAE = %.4f - RMSE = %.4f\"  % (metrics_test[0], metrics_test[1]))"
      ],
      "execution_count": null,
      "outputs": [
        {
          "output_type": "stream",
          "text": [
            "12/12 [==============================] - 0s 1ms/step - loss: 7.3759 - root_mean_squared_error: 2.2863\n",
            "5/5 [==============================] - 0s 1ms/step - loss: 16.0695 - root_mean_squared_error: 3.7311\n",
            "Set di Addestramento: MAE = 7.3759 - RMSE = 2.2863\n",
            "Set di Test: MAE = 16.0695 - RMSE = 3.7311\n"
          ],
          "name": "stdout"
        }
      ]
    },
    {
      "cell_type": "markdown",
      "metadata": {
        "id": "AgPKmVAlrXMQ",
        "colab_type": "text"
      },
      "source": [
        "## R2 - Coefficente di Determinazione\n",
        "L'R2 è una versione standardizzata del MSE, che ci ritorna un punteggio compreso tra 0 e 1 che possiamo interpretare in questo modo:\n",
        "* **R2 < 0.3** il modello è inutile.\n",
        "* **0.3 < R2 < 0.5** il modello è scarso.     \n",
        "* **0.5 < R2 < 0.7** il modello è discreto.\n",
        "* **0.7 < R2 < 0.9** il modello è buono.\n",
        "* **0.9 < R2 < 1** il modello è ottimo.\n",
        "* **R2 = 1** molto probabilmente c'è un errore nel modello."
      ]
    },
    {
      "cell_type": "code",
      "metadata": {
        "id": "aUaMHXA8qfvN",
        "colab_type": "code",
        "colab": {
          "base_uri": "https://localhost:8080/",
          "height": 35
        },
        "outputId": "c2bd78f7-7838-4bf1-bd2a-9e70c502bd2d"
      },
      "source": [
        "from sklearn.metrics import r2_score\n",
        "\n",
        "print(\"Coefficente di Determinazione: %.2f\" % r2_score(y_test, model.predict(X_test)))"
      ],
      "execution_count": null,
      "outputs": [
        {
          "output_type": "stream",
          "text": [
            "Coefficente di Determinazione: 0.83\n"
          ],
          "name": "stdout"
        }
      ]
    },
    {
      "cell_type": "markdown",
      "metadata": {
        "id": "Ke929vJZqVXh",
        "colab_type": "text"
      },
      "source": [
        "## Classificazione Binaria - Quali case sono costose ?\n",
        "Passiamo alla classificazione binaria, in questo caso cercheremo di distinguere le case economiche, il cui valore è minore o uguale al valore medio, da quelle costose, il cui valore è maggiore del valore medio."
      ]
    },
    {
      "cell_type": "code",
      "metadata": {
        "id": "DtRT_Uw2pqho",
        "colab_type": "code",
        "colab": {}
      },
      "source": [
        "mean_value = y.mean()\n",
        "\n",
        "y_bin_train = np.where(y_train>mean_value, 1, 0)\n",
        "y_bin_test = np.where(y_test>mean_value, 1, 0)"
      ],
      "execution_count": 13,
      "outputs": []
    },
    {
      "cell_type": "markdown",
      "metadata": {
        "id": "DZn5-BZkG-Hb",
        "colab_type": "text"
      },
      "source": [
        "Creiamo la Rete Neurale. Per problemi di Classificazione Binaria la funzione di attivazione da utilizzare per l'ultimo strato è la Sigmoide."
      ]
    },
    {
      "cell_type": "code",
      "metadata": {
        "id": "BYe2tlbyzb7c",
        "colab_type": "code",
        "colab": {}
      },
      "source": [
        "regularizer = keras.regularizers.L1L2(l1=0.01, l2=0.1)\n",
        "\n",
        "model = keras.models.Sequential([\n",
        "    keras.layers.Dense(64, input_shape=[X.shape[1]], activation=\"relu\", kernel_regularizer=regularizer),\n",
        "    keras.layers.Dense(64, activation=\"relu\", kernel_regularizer=regularizer),\n",
        "    keras.layers.Dense(1, activation=\"sigmoid\"),\n",
        "])"
      ],
      "execution_count": 14,
      "outputs": []
    },
    {
      "cell_type": "markdown",
      "metadata": {
        "id": "G486Umv10Fmz",
        "colab_type": "text"
      },
      "source": [
        "## Accuracy e Cross Entropy\n",
        "L'accuracy è una semplicissima metrica che ci permette di sapere quante delle classificazioni effettuate dal modello sono effettivamente corrette, ritorna un valore che rappresenta la percentuale di classificazioni corrette compreso tra 0 (nessuna predizione corretta) e 1 (tutte le predizioni sono corrette). Al contrario la Cross Entropy, conosciuta anche come Log Loss o Negative Log-Likelihood, e una funzione di costo che tiene conto anche della probabilità di quanto le classificazioni siano corrette, dove un valore di 0 indica che il modello ha eseguito tutte le predizioni correttamente ed è sicuro al 100% delle predizioni che ha eseguto, mentre più questo valore cresce e più alta è l'incertezza del modello."
      ]
    },
    {
      "cell_type": "code",
      "metadata": {
        "id": "dCJInquPzmik",
        "colab_type": "code",
        "colab": {
          "base_uri": "https://localhost:8080/",
          "height": 1000
        },
        "outputId": "6593b7ad-0299-4d03-ff22-b40943e512e0"
      },
      "source": [
        "model.compile(optimizer=\"adam\", loss=\"binary_crossentropy\", metrics=[\"accuracy\"])\n",
        "model.fit(X_train, y_bin_train, epochs=100)"
      ],
      "execution_count": 15,
      "outputs": [
        {
          "output_type": "stream",
          "text": [
            "Epoch 1/100\n",
            "12/12 [==============================] - 0s 2ms/step - loss: 13.9888 - accuracy: 0.7514\n",
            "Epoch 2/100\n",
            "12/12 [==============================] - 0s 2ms/step - loss: 12.2298 - accuracy: 0.8136\n",
            "Epoch 3/100\n",
            "12/12 [==============================] - 0s 2ms/step - loss: 10.6671 - accuracy: 0.8249\n",
            "Epoch 4/100\n",
            "12/12 [==============================] - 0s 2ms/step - loss: 9.2840 - accuracy: 0.8446\n",
            "Epoch 5/100\n",
            "12/12 [==============================] - 0s 2ms/step - loss: 8.0664 - accuracy: 0.8475\n",
            "Epoch 6/100\n",
            "12/12 [==============================] - 0s 2ms/step - loss: 7.0021 - accuracy: 0.8475\n",
            "Epoch 7/100\n",
            "12/12 [==============================] - 0s 2ms/step - loss: 6.0703 - accuracy: 0.8475\n",
            "Epoch 8/100\n",
            "12/12 [==============================] - 0s 2ms/step - loss: 5.2553 - accuracy: 0.8503\n",
            "Epoch 9/100\n",
            "12/12 [==============================] - 0s 2ms/step - loss: 4.5471 - accuracy: 0.8446\n",
            "Epoch 10/100\n",
            "12/12 [==============================] - 0s 2ms/step - loss: 3.9321 - accuracy: 0.8418\n",
            "Epoch 11/100\n",
            "12/12 [==============================] - 0s 2ms/step - loss: 3.4023 - accuracy: 0.8107\n",
            "Epoch 12/100\n",
            "12/12 [==============================] - 0s 2ms/step - loss: 2.9471 - accuracy: 0.7994\n",
            "Epoch 13/100\n",
            "12/12 [==============================] - 0s 2ms/step - loss: 2.5565 - accuracy: 0.8249\n",
            "Epoch 14/100\n",
            "12/12 [==============================] - 0s 2ms/step - loss: 2.2233 - accuracy: 0.8079\n",
            "Epoch 15/100\n",
            "12/12 [==============================] - 0s 2ms/step - loss: 1.9386 - accuracy: 0.8051\n",
            "Epoch 16/100\n",
            "12/12 [==============================] - 0s 2ms/step - loss: 1.6959 - accuracy: 0.8192\n",
            "Epoch 17/100\n",
            "12/12 [==============================] - 0s 2ms/step - loss: 1.4915 - accuracy: 0.8333\n",
            "Epoch 18/100\n",
            "12/12 [==============================] - 0s 2ms/step - loss: 1.3193 - accuracy: 0.8192\n",
            "Epoch 19/100\n",
            "12/12 [==============================] - 0s 2ms/step - loss: 1.1763 - accuracy: 0.8249\n",
            "Epoch 20/100\n",
            "12/12 [==============================] - 0s 2ms/step - loss: 1.0579 - accuracy: 0.8164\n",
            "Epoch 21/100\n",
            "12/12 [==============================] - 0s 2ms/step - loss: 0.9606 - accuracy: 0.8164\n",
            "Epoch 22/100\n",
            "12/12 [==============================] - 0s 2ms/step - loss: 0.8807 - accuracy: 0.8475\n",
            "Epoch 23/100\n",
            "12/12 [==============================] - 0s 2ms/step - loss: 0.8199 - accuracy: 0.8418\n",
            "Epoch 24/100\n",
            "12/12 [==============================] - 0s 2ms/step - loss: 0.7698 - accuracy: 0.8446\n",
            "Epoch 25/100\n",
            "12/12 [==============================] - 0s 2ms/step - loss: 0.7297 - accuracy: 0.8531\n",
            "Epoch 26/100\n",
            "12/12 [==============================] - 0s 2ms/step - loss: 0.6992 - accuracy: 0.8588\n",
            "Epoch 27/100\n",
            "12/12 [==============================] - 0s 2ms/step - loss: 0.6754 - accuracy: 0.8588\n",
            "Epoch 28/100\n",
            "12/12 [==============================] - 0s 1ms/step - loss: 0.6556 - accuracy: 0.8644\n",
            "Epoch 29/100\n",
            "12/12 [==============================] - 0s 2ms/step - loss: 0.6386 - accuracy: 0.8644\n",
            "Epoch 30/100\n",
            "12/12 [==============================] - 0s 2ms/step - loss: 0.6248 - accuracy: 0.8588\n",
            "Epoch 31/100\n",
            "12/12 [==============================] - 0s 1ms/step - loss: 0.6125 - accuracy: 0.8531\n",
            "Epoch 32/100\n",
            "12/12 [==============================] - 0s 1ms/step - loss: 0.6017 - accuracy: 0.8531\n",
            "Epoch 33/100\n",
            "12/12 [==============================] - 0s 1ms/step - loss: 0.5955 - accuracy: 0.8616\n",
            "Epoch 34/100\n",
            "12/12 [==============================] - 0s 1ms/step - loss: 0.5862 - accuracy: 0.8616\n",
            "Epoch 35/100\n",
            "12/12 [==============================] - 0s 1ms/step - loss: 0.5785 - accuracy: 0.8672\n",
            "Epoch 36/100\n",
            "12/12 [==============================] - 0s 1ms/step - loss: 0.5730 - accuracy: 0.8559\n",
            "Epoch 37/100\n",
            "12/12 [==============================] - 0s 2ms/step - loss: 0.5685 - accuracy: 0.8644\n",
            "Epoch 38/100\n",
            "12/12 [==============================] - 0s 2ms/step - loss: 0.5627 - accuracy: 0.8672\n",
            "Epoch 39/100\n",
            "12/12 [==============================] - 0s 1ms/step - loss: 0.5579 - accuracy: 0.8616\n",
            "Epoch 40/100\n",
            "12/12 [==============================] - 0s 1ms/step - loss: 0.5562 - accuracy: 0.8644\n",
            "Epoch 41/100\n",
            "12/12 [==============================] - 0s 1ms/step - loss: 0.5520 - accuracy: 0.8616\n",
            "Epoch 42/100\n",
            "12/12 [==============================] - 0s 1ms/step - loss: 0.5457 - accuracy: 0.8672\n",
            "Epoch 43/100\n",
            "12/12 [==============================] - 0s 1ms/step - loss: 0.5417 - accuracy: 0.8701\n",
            "Epoch 44/100\n",
            "12/12 [==============================] - 0s 1ms/step - loss: 0.5382 - accuracy: 0.8672\n",
            "Epoch 45/100\n",
            "12/12 [==============================] - 0s 2ms/step - loss: 0.5353 - accuracy: 0.8729\n",
            "Epoch 46/100\n",
            "12/12 [==============================] - 0s 1ms/step - loss: 0.5368 - accuracy: 0.8785\n",
            "Epoch 47/100\n",
            "12/12 [==============================] - 0s 1ms/step - loss: 0.5315 - accuracy: 0.8757\n",
            "Epoch 48/100\n",
            "12/12 [==============================] - 0s 2ms/step - loss: 0.5272 - accuracy: 0.8701\n",
            "Epoch 49/100\n",
            "12/12 [==============================] - 0s 2ms/step - loss: 0.5247 - accuracy: 0.8785\n",
            "Epoch 50/100\n",
            "12/12 [==============================] - 0s 2ms/step - loss: 0.5225 - accuracy: 0.8757\n",
            "Epoch 51/100\n",
            "12/12 [==============================] - 0s 2ms/step - loss: 0.5207 - accuracy: 0.8785\n",
            "Epoch 52/100\n",
            "12/12 [==============================] - 0s 1ms/step - loss: 0.5210 - accuracy: 0.8870\n",
            "Epoch 53/100\n",
            "12/12 [==============================] - 0s 1ms/step - loss: 0.5181 - accuracy: 0.8729\n",
            "Epoch 54/100\n",
            "12/12 [==============================] - 0s 2ms/step - loss: 0.5134 - accuracy: 0.8757\n",
            "Epoch 55/100\n",
            "12/12 [==============================] - 0s 2ms/step - loss: 0.5103 - accuracy: 0.8757\n",
            "Epoch 56/100\n",
            "12/12 [==============================] - 0s 1ms/step - loss: 0.5137 - accuracy: 0.8672\n",
            "Epoch 57/100\n",
            "12/12 [==============================] - 0s 1ms/step - loss: 0.5084 - accuracy: 0.8785\n",
            "Epoch 58/100\n",
            "12/12 [==============================] - 0s 2ms/step - loss: 0.5048 - accuracy: 0.8729\n",
            "Epoch 59/100\n",
            "12/12 [==============================] - 0s 1ms/step - loss: 0.5017 - accuracy: 0.8757\n",
            "Epoch 60/100\n",
            "12/12 [==============================] - 0s 1ms/step - loss: 0.5000 - accuracy: 0.8842\n",
            "Epoch 61/100\n",
            "12/12 [==============================] - 0s 1ms/step - loss: 0.4994 - accuracy: 0.8785\n",
            "Epoch 62/100\n",
            "12/12 [==============================] - 0s 1ms/step - loss: 0.4992 - accuracy: 0.8814\n",
            "Epoch 63/100\n",
            "12/12 [==============================] - 0s 1ms/step - loss: 0.4970 - accuracy: 0.8785\n",
            "Epoch 64/100\n",
            "12/12 [==============================] - 0s 2ms/step - loss: 0.4957 - accuracy: 0.8814\n",
            "Epoch 65/100\n",
            "12/12 [==============================] - 0s 2ms/step - loss: 0.4952 - accuracy: 0.8898\n",
            "Epoch 66/100\n",
            "12/12 [==============================] - 0s 1ms/step - loss: 0.4940 - accuracy: 0.8814\n",
            "Epoch 67/100\n",
            "12/12 [==============================] - 0s 1ms/step - loss: 0.4919 - accuracy: 0.8870\n",
            "Epoch 68/100\n",
            "12/12 [==============================] - 0s 2ms/step - loss: 0.4910 - accuracy: 0.8757\n",
            "Epoch 69/100\n",
            "12/12 [==============================] - 0s 2ms/step - loss: 0.4868 - accuracy: 0.8842\n",
            "Epoch 70/100\n",
            "12/12 [==============================] - 0s 2ms/step - loss: 0.4859 - accuracy: 0.8814\n",
            "Epoch 71/100\n",
            "12/12 [==============================] - 0s 2ms/step - loss: 0.4835 - accuracy: 0.8785\n",
            "Epoch 72/100\n",
            "12/12 [==============================] - 0s 2ms/step - loss: 0.4816 - accuracy: 0.8785\n",
            "Epoch 73/100\n",
            "12/12 [==============================] - 0s 1ms/step - loss: 0.4806 - accuracy: 0.8814\n",
            "Epoch 74/100\n",
            "12/12 [==============================] - 0s 1ms/step - loss: 0.4796 - accuracy: 0.8757\n",
            "Epoch 75/100\n",
            "12/12 [==============================] - 0s 1ms/step - loss: 0.4795 - accuracy: 0.8757\n",
            "Epoch 76/100\n",
            "12/12 [==============================] - 0s 1ms/step - loss: 0.4766 - accuracy: 0.8785\n",
            "Epoch 77/100\n",
            "12/12 [==============================] - 0s 2ms/step - loss: 0.4755 - accuracy: 0.8842\n",
            "Epoch 78/100\n",
            "12/12 [==============================] - 0s 2ms/step - loss: 0.4737 - accuracy: 0.8870\n",
            "Epoch 79/100\n",
            "12/12 [==============================] - 0s 1ms/step - loss: 0.4737 - accuracy: 0.8842\n",
            "Epoch 80/100\n",
            "12/12 [==============================] - 0s 2ms/step - loss: 0.4726 - accuracy: 0.8870\n",
            "Epoch 81/100\n",
            "12/12 [==============================] - 0s 2ms/step - loss: 0.4709 - accuracy: 0.8842\n",
            "Epoch 82/100\n",
            "12/12 [==============================] - 0s 2ms/step - loss: 0.4680 - accuracy: 0.8842\n",
            "Epoch 83/100\n",
            "12/12 [==============================] - 0s 1ms/step - loss: 0.4744 - accuracy: 0.8870\n",
            "Epoch 84/100\n",
            "12/12 [==============================] - 0s 2ms/step - loss: 0.4736 - accuracy: 0.8814\n",
            "Epoch 85/100\n",
            "12/12 [==============================] - 0s 1ms/step - loss: 0.4678 - accuracy: 0.8814\n",
            "Epoch 86/100\n",
            "12/12 [==============================] - 0s 1ms/step - loss: 0.4679 - accuracy: 0.8870\n",
            "Epoch 87/100\n",
            "12/12 [==============================] - 0s 1ms/step - loss: 0.4649 - accuracy: 0.8757\n",
            "Epoch 88/100\n",
            "12/12 [==============================] - 0s 2ms/step - loss: 0.4646 - accuracy: 0.8729\n",
            "Epoch 89/100\n",
            "12/12 [==============================] - 0s 1ms/step - loss: 0.4642 - accuracy: 0.8842\n",
            "Epoch 90/100\n",
            "12/12 [==============================] - 0s 1ms/step - loss: 0.4613 - accuracy: 0.8842\n",
            "Epoch 91/100\n",
            "12/12 [==============================] - 0s 1ms/step - loss: 0.4612 - accuracy: 0.8842\n",
            "Epoch 92/100\n",
            "12/12 [==============================] - 0s 2ms/step - loss: 0.4608 - accuracy: 0.8814\n",
            "Epoch 93/100\n",
            "12/12 [==============================] - 0s 2ms/step - loss: 0.4603 - accuracy: 0.8898\n",
            "Epoch 94/100\n",
            "12/12 [==============================] - 0s 2ms/step - loss: 0.4590 - accuracy: 0.8814\n",
            "Epoch 95/100\n",
            "12/12 [==============================] - 0s 2ms/step - loss: 0.4574 - accuracy: 0.8814\n",
            "Epoch 96/100\n",
            "12/12 [==============================] - 0s 1ms/step - loss: 0.4568 - accuracy: 0.8814\n",
            "Epoch 97/100\n",
            "12/12 [==============================] - 0s 2ms/step - loss: 0.4558 - accuracy: 0.8785\n",
            "Epoch 98/100\n",
            "12/12 [==============================] - 0s 2ms/step - loss: 0.4548 - accuracy: 0.8785\n",
            "Epoch 99/100\n",
            "12/12 [==============================] - 0s 2ms/step - loss: 0.4548 - accuracy: 0.8785\n",
            "Epoch 100/100\n",
            "12/12 [==============================] - 0s 2ms/step - loss: 0.4541 - accuracy: 0.8785\n"
          ],
          "name": "stdout"
        },
        {
          "output_type": "execute_result",
          "data": {
            "text/plain": [
              "<tensorflow.python.keras.callbacks.History at 0x7ff3022cdc50>"
            ]
          },
          "metadata": {
            "tags": []
          },
          "execution_count": 15
        }
      ]
    },
    {
      "cell_type": "code",
      "metadata": {
        "id": "otdNsqGlzzT2",
        "colab_type": "code",
        "colab": {
          "base_uri": "https://localhost:8080/",
          "height": 51
        },
        "outputId": "f6874788-3c73-4f13-a044-4bac5223ea2e"
      },
      "source": [
        "metrics_train = model.evaluate(X_train, y_bin_train, verbose=0)\n",
        "metrics_test = model.evaluate(X_test, y_bin_test, verbose=0)\n",
        "print(\"Accuracy sul set di addestramento: %.2f - Loss sul set di addestramento %.4f\" % (metrics_train[1], metrics_train[0]))\n",
        "print(\"Accuracy sul set di test: %.2f - Loss sul set di test %.4f\" % (metrics_test[1], metrics_test[0]))"
      ],
      "execution_count": 16,
      "outputs": [
        {
          "output_type": "stream",
          "text": [
            "Accuracy sul set di addestramento: 0.88 - Loss sul set di addestramento 0.4527\n",
            "Accuracy sul set di test: 0.84 - Loss sul set di test 0.5476\n"
          ],
          "name": "stdout"
        }
      ]
    },
    {
      "cell_type": "markdown",
      "metadata": {
        "id": "waxoIz5_ar4L",
        "colab_type": "text"
      },
      "source": [
        "## Matrice di Confusione\n",
        "In certi casi è utile sapere non solo quanti errori ha commesso il modello, ma anche quali errori a commesso. Ad esempio in numerose applicazioni mediche classificare un paziente malato come sano è molto più grave che classificare un paziente sano come malato. In questi casi ci conviene stampare una matrice di confusione."
      ]
    },
    {
      "cell_type": "code",
      "metadata": {
        "id": "OmRXN7ruavTT",
        "colab_type": "code",
        "colab": {}
      },
      "source": [
        "y_pred = model.predict_classes(X_test)"
      ],
      "execution_count": null,
      "outputs": []
    },
    {
      "cell_type": "code",
      "metadata": {
        "id": "gK6lsAMta_3m",
        "colab_type": "code",
        "colab": {
          "base_uri": "https://localhost:8080/",
          "height": 69
        },
        "outputId": "4a3b1c6d-b0e7-480a-e95a-9abdfc8f4ee9"
      },
      "source": [
        "tf.math.confusion_matrix(y_test, y_pred)"
      ],
      "execution_count": null,
      "outputs": [
        {
          "output_type": "execute_result",
          "data": {
            "text/plain": [
              "<tf.Tensor: shape=(2, 2), dtype=int32, numpy=\n",
              "array([[83,  6],\n",
              "       [20, 43]], dtype=int32)>"
            ]
          },
          "metadata": {
            "tags": []
          },
          "execution_count": 25
        }
      ]
    },
    {
      "cell_type": "markdown",
      "metadata": {
        "id": "s032R2SCJ816",
        "colab_type": "text"
      },
      "source": [
        "La matrice di confusione è così formata:\n",
        "- nel primo riquadro (in alto a sinistra) ci sono i casi negativi classificati come negativi *(True Negative)*\n",
        "- nel secondo riquadrato (in alto a destra) ci sono i casi positivi classificati come negativi, *(False Negative)*\n",
        "- nel terzo riquadrato (in basso a sinistra) ci sono i casi negativi classificati come positivi *(False Positive)*\n",
        "- nel quarto riquadrato (in basso a destra) ci sono i casi positivi classificati come positivi, *(True Positive)*\n",
        "\n",
        "Se preferiamo possiamo utilizzare anche sklearn per costrurie una matrice di confusione, il risultato sarà lo stesso."
      ]
    },
    {
      "cell_type": "code",
      "metadata": {
        "id": "G-iAB3EUaro0",
        "colab_type": "code",
        "colab": {
          "base_uri": "https://localhost:8080/",
          "height": 52
        },
        "outputId": "764fdb5b-5c79-459e-f34b-0e62a9c2dba1"
      },
      "source": [
        "from sklearn.metrics import confusion_matrix\n",
        "confusion_matrix(y_test, y_pred)"
      ],
      "execution_count": null,
      "outputs": [
        {
          "output_type": "execute_result",
          "data": {
            "text/plain": [
              "array([[83,  6],\n",
              "       [20, 43]])"
            ]
          },
          "metadata": {
            "tags": []
          },
          "execution_count": 26
        }
      ]
    },
    {
      "cell_type": "markdown",
      "metadata": {
        "id": "ahZFb5ew0Rf9",
        "colab_type": "text"
      },
      "source": [
        "## Classificazione Multiclasse\n",
        "Veniamo all'ultimo problema, la Classificazione Multiclasse, in questo caso proveremo a predire il range di valore delle abitazioni, suddividendole in 3 classi:\n",
        "* **Basso Valore**: Abitazioni che valgono meno di 190.000 USD.\n",
        "* **Valore Medio**: Abitazioni che valgono tra 190.000 e 240.000 USD.\n",
        "* **Alto Valore**: Abitazioni che valgono oltre 240.000 USD. "
      ]
    },
    {
      "cell_type": "code",
      "metadata": {
        "id": "AsYPMjzi16fc",
        "colab_type": "code",
        "colab": {}
      },
      "source": [
        "def map_to_class(value):\n",
        "  if value < 19:\n",
        "    return 0\n",
        "  elif value < 24:\n",
        "    return 1\n",
        "  else:\n",
        "    return 2\n",
        "\n",
        "vfunc = np.vectorize(map_to_class)\n",
        "y_multi_train = vfunc(y_train)\n",
        "y_multi_test = vfunc(y_test)"
      ],
      "execution_count": 5,
      "outputs": []
    },
    {
      "cell_type": "markdown",
      "metadata": {
        "id": "9Y9AeQaIQ5_E",
        "colab_type": "text"
      },
      "source": [
        "Codifichiamo il target utilizzando il *One Hot Encoding*."
      ]
    },
    {
      "cell_type": "code",
      "metadata": {
        "id": "pmcAv3Rb30Lh",
        "colab_type": "code",
        "colab": {}
      },
      "source": [
        "y_multi_train_oh = tf.one_hot(y_multi_train, 3).numpy()\n",
        "y_multi_test_oh = tf.one_hot(y_multi_test, 3).numpy()"
      ],
      "execution_count": 6,
      "outputs": []
    },
    {
      "cell_type": "markdown",
      "metadata": {
        "id": "i_tLMKNdQ_RV",
        "colab_type": "text"
      },
      "source": [
        "Definiamo la Rete Neurale. Per problemi di classificazione multiclasse la funzione di attivazione da utilizzare per l'ultimo strato è la *Softmax*, la quale ci ritorna la probabilità comulutavia per ogni classe. Anche la Simoid può andare, ma in quel caso le probabilità non saranno comulative."
      ]
    },
    {
      "cell_type": "code",
      "metadata": {
        "id": "8srV85Vd20uT",
        "colab_type": "code",
        "colab": {}
      },
      "source": [
        "regularizer = keras.regularizers.L1L2(l1=0.01, l2=0.1)\n",
        "\n",
        "model = keras.models.Sequential([\n",
        "    keras.layers.Dense(64, input_shape=[X.shape[1]], activation=\"relu\", kernel_regularizer=regularizer),\n",
        "    keras.layers.Dense(64, activation=\"relu\", kernel_regularizer=regularizer),\n",
        "    keras.layers.Dense(32, activation=\"relu\"),\n",
        "    keras.layers.Dense(3, activation=\"softmax\"),\n",
        "])"
      ],
      "execution_count": 62,
      "outputs": []
    },
    {
      "cell_type": "markdown",
      "metadata": {
        "id": "WBG9Kw1LRQLP",
        "colab_type": "text"
      },
      "source": [
        "Per quanto riguarda la funzione di costo, possiamo utilizzare la *Categorical Crossentropy*, che è una variante della Cross Entropy adattata per problemi in cui abbiamo più di due classi."
      ]
    },
    {
      "cell_type": "code",
      "metadata": {
        "id": "vbdZT5pD26I2",
        "colab_type": "code",
        "colab": {
          "base_uri": "https://localhost:8080/",
          "height": 1000
        },
        "outputId": "38a3d4f3-ad94-4a5d-b528-583397094c92"
      },
      "source": [
        "model.compile(optimizer=\"adam\", loss=\"categorical_crossentropy\", metrics=[\"accuracy\"])\n",
        "model.fit(X_train, y_multi_train_oh, epochs=100)"
      ],
      "execution_count": 63,
      "outputs": [
        {
          "output_type": "stream",
          "text": [
            "Epoch 1/100\n",
            "12/12 [==============================] - 0s 2ms/step - loss: 14.1722 - accuracy: 0.5141\n",
            "Epoch 2/100\n",
            "12/12 [==============================] - 0s 1ms/step - loss: 12.3939 - accuracy: 0.6017\n",
            "Epoch 3/100\n",
            "12/12 [==============================] - 0s 2ms/step - loss: 10.8298 - accuracy: 0.6384\n",
            "Epoch 4/100\n",
            "12/12 [==============================] - 0s 2ms/step - loss: 9.4434 - accuracy: 0.6384\n",
            "Epoch 5/100\n",
            "12/12 [==============================] - 0s 2ms/step - loss: 8.2268 - accuracy: 0.6441\n",
            "Epoch 6/100\n",
            "12/12 [==============================] - 0s 2ms/step - loss: 7.1663 - accuracy: 0.6610\n",
            "Epoch 7/100\n",
            "12/12 [==============================] - 0s 2ms/step - loss: 6.2403 - accuracy: 0.6808\n",
            "Epoch 8/100\n",
            "12/12 [==============================] - 0s 2ms/step - loss: 5.4475 - accuracy: 0.6836\n",
            "Epoch 9/100\n",
            "12/12 [==============================] - 0s 2ms/step - loss: 4.7462 - accuracy: 0.6695\n",
            "Epoch 10/100\n",
            "12/12 [==============================] - 0s 2ms/step - loss: 4.1341 - accuracy: 0.6864\n",
            "Epoch 11/100\n",
            "12/12 [==============================] - 0s 2ms/step - loss: 3.6102 - accuracy: 0.7119\n",
            "Epoch 12/100\n",
            "12/12 [==============================] - 0s 2ms/step - loss: 3.1504 - accuracy: 0.7062\n",
            "Epoch 13/100\n",
            "12/12 [==============================] - 0s 1ms/step - loss: 2.7529 - accuracy: 0.7316\n",
            "Epoch 14/100\n",
            "12/12 [==============================] - 0s 2ms/step - loss: 2.4125 - accuracy: 0.7260\n",
            "Epoch 15/100\n",
            "12/12 [==============================] - 0s 2ms/step - loss: 2.1215 - accuracy: 0.7401\n",
            "Epoch 16/100\n",
            "12/12 [==============================] - 0s 2ms/step - loss: 1.8764 - accuracy: 0.7429\n",
            "Epoch 17/100\n",
            "12/12 [==============================] - 0s 2ms/step - loss: 1.6697 - accuracy: 0.7486\n",
            "Epoch 18/100\n",
            "12/12 [==============================] - 0s 2ms/step - loss: 1.4900 - accuracy: 0.7345\n",
            "Epoch 19/100\n",
            "12/12 [==============================] - 0s 2ms/step - loss: 1.3422 - accuracy: 0.7712\n",
            "Epoch 20/100\n",
            "12/12 [==============================] - 0s 2ms/step - loss: 1.2197 - accuracy: 0.7797\n",
            "Epoch 21/100\n",
            "12/12 [==============================] - 0s 2ms/step - loss: 1.1256 - accuracy: 0.7486\n",
            "Epoch 22/100\n",
            "12/12 [==============================] - 0s 2ms/step - loss: 1.0338 - accuracy: 0.7655\n",
            "Epoch 23/100\n",
            "12/12 [==============================] - 0s 2ms/step - loss: 0.9619 - accuracy: 0.8023\n",
            "Epoch 24/100\n",
            "12/12 [==============================] - 0s 2ms/step - loss: 0.9037 - accuracy: 0.7768\n",
            "Epoch 25/100\n",
            "12/12 [==============================] - 0s 2ms/step - loss: 0.8598 - accuracy: 0.7938\n",
            "Epoch 26/100\n",
            "12/12 [==============================] - 0s 2ms/step - loss: 0.8417 - accuracy: 0.7712\n",
            "Epoch 27/100\n",
            "12/12 [==============================] - 0s 2ms/step - loss: 0.8002 - accuracy: 0.8023\n",
            "Epoch 28/100\n",
            "12/12 [==============================] - 0s 2ms/step - loss: 0.7754 - accuracy: 0.8079\n",
            "Epoch 29/100\n",
            "12/12 [==============================] - 0s 2ms/step - loss: 0.7786 - accuracy: 0.7712\n",
            "Epoch 30/100\n",
            "12/12 [==============================] - 0s 2ms/step - loss: 0.7457 - accuracy: 0.8023\n",
            "Epoch 31/100\n",
            "12/12 [==============================] - 0s 2ms/step - loss: 0.7334 - accuracy: 0.7994\n",
            "Epoch 32/100\n",
            "12/12 [==============================] - 0s 2ms/step - loss: 0.7224 - accuracy: 0.7881\n",
            "Epoch 33/100\n",
            "12/12 [==============================] - 0s 2ms/step - loss: 0.7149 - accuracy: 0.7938\n",
            "Epoch 34/100\n",
            "12/12 [==============================] - 0s 2ms/step - loss: 0.7032 - accuracy: 0.7966\n",
            "Epoch 35/100\n",
            "12/12 [==============================] - 0s 2ms/step - loss: 0.6969 - accuracy: 0.7966\n",
            "Epoch 36/100\n",
            "12/12 [==============================] - 0s 2ms/step - loss: 0.6920 - accuracy: 0.7910\n",
            "Epoch 37/100\n",
            "12/12 [==============================] - 0s 2ms/step - loss: 0.6863 - accuracy: 0.8023\n",
            "Epoch 38/100\n",
            "12/12 [==============================] - 0s 2ms/step - loss: 0.6801 - accuracy: 0.7938\n",
            "Epoch 39/100\n",
            "12/12 [==============================] - 0s 2ms/step - loss: 0.6958 - accuracy: 0.7768\n",
            "Epoch 40/100\n",
            "12/12 [==============================] - 0s 2ms/step - loss: 0.6881 - accuracy: 0.7966\n",
            "Epoch 41/100\n",
            "12/12 [==============================] - 0s 2ms/step - loss: 0.6653 - accuracy: 0.8051\n",
            "Epoch 42/100\n",
            "12/12 [==============================] - 0s 2ms/step - loss: 0.6535 - accuracy: 0.7994\n",
            "Epoch 43/100\n",
            "12/12 [==============================] - 0s 2ms/step - loss: 0.6572 - accuracy: 0.8192\n",
            "Epoch 44/100\n",
            "12/12 [==============================] - 0s 2ms/step - loss: 0.6435 - accuracy: 0.8164\n",
            "Epoch 45/100\n",
            "12/12 [==============================] - 0s 3ms/step - loss: 0.6529 - accuracy: 0.7853\n",
            "Epoch 46/100\n",
            "12/12 [==============================] - 0s 2ms/step - loss: 0.6403 - accuracy: 0.8023\n",
            "Epoch 47/100\n",
            "12/12 [==============================] - 0s 2ms/step - loss: 0.6559 - accuracy: 0.8164\n",
            "Epoch 48/100\n",
            "12/12 [==============================] - 0s 2ms/step - loss: 0.6440 - accuracy: 0.8051\n",
            "Epoch 49/100\n",
            "12/12 [==============================] - 0s 2ms/step - loss: 0.6360 - accuracy: 0.7966\n",
            "Epoch 50/100\n",
            "12/12 [==============================] - 0s 2ms/step - loss: 0.6329 - accuracy: 0.8079\n",
            "Epoch 51/100\n",
            "12/12 [==============================] - 0s 2ms/step - loss: 0.6247 - accuracy: 0.8136\n",
            "Epoch 52/100\n",
            "12/12 [==============================] - 0s 2ms/step - loss: 0.6224 - accuracy: 0.8107\n",
            "Epoch 53/100\n",
            "12/12 [==============================] - 0s 2ms/step - loss: 0.6161 - accuracy: 0.8192\n",
            "Epoch 54/100\n",
            "12/12 [==============================] - 0s 2ms/step - loss: 0.6232 - accuracy: 0.8192\n",
            "Epoch 55/100\n",
            "12/12 [==============================] - 0s 2ms/step - loss: 0.6244 - accuracy: 0.8220\n",
            "Epoch 56/100\n",
            "12/12 [==============================] - 0s 2ms/step - loss: 0.6164 - accuracy: 0.8051\n",
            "Epoch 57/100\n",
            "12/12 [==============================] - 0s 2ms/step - loss: 0.6225 - accuracy: 0.8164\n",
            "Epoch 58/100\n",
            "12/12 [==============================] - 0s 2ms/step - loss: 0.6254 - accuracy: 0.8164\n",
            "Epoch 59/100\n",
            "12/12 [==============================] - 0s 2ms/step - loss: 0.6114 - accuracy: 0.8192\n",
            "Epoch 60/100\n",
            "12/12 [==============================] - 0s 2ms/step - loss: 0.6108 - accuracy: 0.8107\n",
            "Epoch 61/100\n",
            "12/12 [==============================] - 0s 2ms/step - loss: 0.6253 - accuracy: 0.8051\n",
            "Epoch 62/100\n",
            "12/12 [==============================] - 0s 2ms/step - loss: 0.6018 - accuracy: 0.8192\n",
            "Epoch 63/100\n",
            "12/12 [==============================] - 0s 2ms/step - loss: 0.6202 - accuracy: 0.7994\n",
            "Epoch 64/100\n",
            "12/12 [==============================] - 0s 2ms/step - loss: 0.6244 - accuracy: 0.7966\n",
            "Epoch 65/100\n",
            "12/12 [==============================] - 0s 2ms/step - loss: 0.6110 - accuracy: 0.8136\n",
            "Epoch 66/100\n",
            "12/12 [==============================] - 0s 2ms/step - loss: 0.6112 - accuracy: 0.8220\n",
            "Epoch 67/100\n",
            "12/12 [==============================] - 0s 2ms/step - loss: 0.5929 - accuracy: 0.8333\n",
            "Epoch 68/100\n",
            "12/12 [==============================] - 0s 2ms/step - loss: 0.5997 - accuracy: 0.8079\n",
            "Epoch 69/100\n",
            "12/12 [==============================] - 0s 2ms/step - loss: 0.5948 - accuracy: 0.8164\n",
            "Epoch 70/100\n",
            "12/12 [==============================] - 0s 2ms/step - loss: 0.6145 - accuracy: 0.8079\n",
            "Epoch 71/100\n",
            "12/12 [==============================] - 0s 2ms/step - loss: 0.5972 - accuracy: 0.8164\n",
            "Epoch 72/100\n",
            "12/12 [==============================] - 0s 2ms/step - loss: 0.5888 - accuracy: 0.8079\n",
            "Epoch 73/100\n",
            "12/12 [==============================] - 0s 2ms/step - loss: 0.5868 - accuracy: 0.8079\n",
            "Epoch 74/100\n",
            "12/12 [==============================] - 0s 2ms/step - loss: 0.5848 - accuracy: 0.8192\n",
            "Epoch 75/100\n",
            "12/12 [==============================] - 0s 2ms/step - loss: 0.5772 - accuracy: 0.8107\n",
            "Epoch 76/100\n",
            "12/12 [==============================] - 0s 2ms/step - loss: 0.5803 - accuracy: 0.8136\n",
            "Epoch 77/100\n",
            "12/12 [==============================] - 0s 2ms/step - loss: 0.5742 - accuracy: 0.8220\n",
            "Epoch 78/100\n",
            "12/12 [==============================] - 0s 2ms/step - loss: 0.5793 - accuracy: 0.8136\n",
            "Epoch 79/100\n",
            "12/12 [==============================] - 0s 2ms/step - loss: 0.5837 - accuracy: 0.7938\n",
            "Epoch 80/100\n",
            "12/12 [==============================] - 0s 3ms/step - loss: 0.6184 - accuracy: 0.7938\n",
            "Epoch 81/100\n",
            "12/12 [==============================] - 0s 2ms/step - loss: 0.5836 - accuracy: 0.8305\n",
            "Epoch 82/100\n",
            "12/12 [==============================] - 0s 2ms/step - loss: 0.5774 - accuracy: 0.8305\n",
            "Epoch 83/100\n",
            "12/12 [==============================] - 0s 2ms/step - loss: 0.5783 - accuracy: 0.8249\n",
            "Epoch 84/100\n",
            "12/12 [==============================] - 0s 2ms/step - loss: 0.5727 - accuracy: 0.8023\n",
            "Epoch 85/100\n",
            "12/12 [==============================] - 0s 2ms/step - loss: 0.5719 - accuracy: 0.8277\n",
            "Epoch 86/100\n",
            "12/12 [==============================] - 0s 2ms/step - loss: 0.5701 - accuracy: 0.7994\n",
            "Epoch 87/100\n",
            "12/12 [==============================] - 0s 2ms/step - loss: 0.5684 - accuracy: 0.8192\n",
            "Epoch 88/100\n",
            "12/12 [==============================] - 0s 2ms/step - loss: 0.5616 - accuracy: 0.8164\n",
            "Epoch 89/100\n",
            "12/12 [==============================] - 0s 2ms/step - loss: 0.5625 - accuracy: 0.8192\n",
            "Epoch 90/100\n",
            "12/12 [==============================] - 0s 2ms/step - loss: 0.5595 - accuracy: 0.8164\n",
            "Epoch 91/100\n",
            "12/12 [==============================] - 0s 2ms/step - loss: 0.5620 - accuracy: 0.8023\n",
            "Epoch 92/100\n",
            "12/12 [==============================] - 0s 2ms/step - loss: 0.5657 - accuracy: 0.8107\n",
            "Epoch 93/100\n",
            "12/12 [==============================] - 0s 2ms/step - loss: 0.5651 - accuracy: 0.8249\n",
            "Epoch 94/100\n",
            "12/12 [==============================] - 0s 2ms/step - loss: 0.5676 - accuracy: 0.8079\n",
            "Epoch 95/100\n",
            "12/12 [==============================] - 0s 2ms/step - loss: 0.5557 - accuracy: 0.8192\n",
            "Epoch 96/100\n",
            "12/12 [==============================] - 0s 2ms/step - loss: 0.5842 - accuracy: 0.8051\n",
            "Epoch 97/100\n",
            "12/12 [==============================] - 0s 2ms/step - loss: 0.5633 - accuracy: 0.8220\n",
            "Epoch 98/100\n",
            "12/12 [==============================] - 0s 2ms/step - loss: 0.5683 - accuracy: 0.8220\n",
            "Epoch 99/100\n",
            "12/12 [==============================] - 0s 2ms/step - loss: 0.5565 - accuracy: 0.8079\n",
            "Epoch 100/100\n",
            "12/12 [==============================] - 0s 2ms/step - loss: 0.5546 - accuracy: 0.8220\n"
          ],
          "name": "stdout"
        },
        {
          "output_type": "execute_result",
          "data": {
            "text/plain": [
              "<tensorflow.python.keras.callbacks.History at 0x7f8c2b9275c0>"
            ]
          },
          "metadata": {
            "tags": []
          },
          "execution_count": 63
        }
      ]
    },
    {
      "cell_type": "code",
      "metadata": {
        "id": "WI5fmk-D2-Kg",
        "colab_type": "code",
        "colab": {
          "base_uri": "https://localhost:8080/",
          "height": 51
        },
        "outputId": "60f013be-331f-45e2-ad86-0925f0270b4e"
      },
      "source": [
        "metrics_train = model.evaluate(X_train, y_multi_train_oh, verbose=0)\n",
        "metrics_test = model.evaluate(X_test, y_multi_test_oh, verbose=0)\n",
        "print(\"Accuracy sul set di addestramento: %.2f - Loss sul set di addestramento %.4f\" % (metrics_train[1], metrics_train[0]))\n",
        "print(\"Accuracy sul set di test: %.2f - Loss sul set di test %.4f\" % (metrics_test[1], metrics_test[0]))"
      ],
      "execution_count": 64,
      "outputs": [
        {
          "output_type": "stream",
          "text": [
            "Accuracy sul set di addestramento: 0.82 - Loss sul set di addestramento 0.5481\n",
            "Accuracy sul set di test: 0.74 - Loss sul set di test 0.7641\n"
          ],
          "name": "stdout"
        }
      ]
    },
    {
      "cell_type": "markdown",
      "metadata": {
        "id": "xdXgsrGsReIC",
        "colab_type": "text"
      },
      "source": [
        "Anche per problemi di classificazione multiclasse possiamo stampare la matrice di confusione."
      ]
    },
    {
      "cell_type": "code",
      "metadata": {
        "id": "x05qksk7b7cF",
        "colab_type": "code",
        "colab": {
          "base_uri": "https://localhost:8080/",
          "height": 85
        },
        "outputId": "db130a4c-eed2-4220-fccc-40f9e1bdf39e"
      },
      "source": [
        "y_pred = np.argmax(model.predict(X_test), axis=-1)\n",
        "cm = tf.math.confusion_matrix(y_multi_test, y_pred)\n",
        "cm"
      ],
      "execution_count": 65,
      "outputs": [
        {
          "output_type": "execute_result",
          "data": {
            "text/plain": [
              "<tf.Tensor: shape=(3, 3), dtype=int32, numpy=\n",
              "array([[43, 12,  0],\n",
              "       [ 6, 39,  8],\n",
              "       [ 3, 11, 30]], dtype=int32)>"
            ]
          },
          "metadata": {
            "tags": []
          },
          "execution_count": 65
        }
      ]
    },
    {
      "cell_type": "markdown",
      "metadata": {
        "id": "139itlXeRj0u",
        "colab_type": "text"
      },
      "source": [
        "Per renderla più semplice da interpretare possiamo costruire una visualizzazione servendoci di Seaborn e Pandas."
      ]
    },
    {
      "cell_type": "code",
      "metadata": {
        "id": "CMxzpz4URp6i",
        "colab_type": "code",
        "colab": {
          "base_uri": "https://localhost:8080/",
          "height": 282
        },
        "outputId": "f033ff93-1700-4606-e741-47a88b11aef0"
      },
      "source": [
        "from seaborn import heatmap\n",
        "\n",
        "df_cm = pd.DataFrame(cm.numpy(), index = [\"Predetto Valore basso (0)\",\"Predetto Valore Medio (1)\", \"Predetto Valore Alto (2)\"],\n",
        "                  columns = [\"Valore basso (0)\",\"Valore Medio (1)\", \"Valore Alto (2)\"])\n",
        "heatmap(df_cm, annot=True)"
      ],
      "execution_count": 71,
      "outputs": [
        {
          "output_type": "execute_result",
          "data": {
            "text/plain": [
              "<matplotlib.axes._subplots.AxesSubplot at 0x7f8c26af1588>"
            ]
          },
          "metadata": {
            "tags": []
          },
          "execution_count": 71
        },
        {
          "output_type": "display_data",
          "data": {
            "image/png": "[encoded data removed]",
            "text/plain": [
              "<Figure size 432x288 with 2 Axes>"
            ]
          },
          "metadata": {
            "tags": [],
            "needs_background": "light"
          }
        }
      ]
    }
  ]
}