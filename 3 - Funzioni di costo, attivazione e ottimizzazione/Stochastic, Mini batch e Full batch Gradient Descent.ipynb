{
  "nbformat": 4,
  "nbformat_minor": 0,
  "metadata": {
    "kernelspec": {
      "display_name": "Python 3",
      "language": "python",
      "name": "python3"
    },
    "language_info": {
      "codemirror_mode": {
        "name": "ipython",
        "version": 3
      },
      "file_extension": ".py",
      "mimetype": "text/x-python",
      "name": "python",
      "nbconvert_exporter": "python",
      "pygments_lexer": "ipython3",
      "version": "3.6.5"
    },
    "colab": {
      "name": "Stochastic, Mini batch e Full batch Gradient Descent.ipynb",
      "provenance": []
    },
    "accelerator": "GPU",
    "widgets": {
      "application/vnd.jupyter.widget-state+json": {
        "9db15421c9fd4f0380958f1fe6410aa4": {
          "model_module": "@jupyter-widgets/controls",
          "model_name": "HBoxModel",
          "state": {
            "_view_name": "HBoxView",
            "_dom_classes": [],
            "_model_name": "HBoxModel",
            "_view_module": "@jupyter-widgets/controls",
            "_model_module_version": "1.5.0",
            "_view_count": null,
            "_view_module_version": "1.5.0",
            "box_style": "",
            "layout": "IPY_MODEL_1aac2d15fbaa4bf7a6e5096bc0ee1231",
            "_model_module": "@jupyter-widgets/controls",
            "children": [
              "IPY_MODEL_0f4d2870d58840dc9451f168b94716cc",
              "IPY_MODEL_150b9a52c050438784285a2dfd99aa74"
            ]
          }
        },
        "1aac2d15fbaa4bf7a6e5096bc0ee1231": {
          "model_module": "@jupyter-widgets/base",
          "model_name": "LayoutModel",
          "state": {
            "_view_name": "LayoutView",
            "grid_template_rows": null,
            "right": null,
            "justify_content": null,
            "_view_module": "@jupyter-widgets/base",
            "overflow": null,
            "_model_module_version": "1.2.0",
            "_view_count": null,
            "flex_flow": null,
            "width": null,
            "min_width": null,
            "border": null,
            "align_items": null,
            "bottom": null,
            "_model_module": "@jupyter-widgets/base",
            "top": null,
            "grid_column": null,
            "overflow_y": null,
            "overflow_x": null,
            "grid_auto_flow": null,
            "grid_area": null,
            "grid_template_columns": null,
            "flex": null,
            "_model_name": "LayoutModel",
            "justify_items": null,
            "grid_row": null,
            "max_height": null,
            "align_content": null,
            "visibility": null,
            "align_self": null,
            "height": null,
            "min_height": null,
            "padding": null,
            "grid_auto_rows": null,
            "grid_gap": null,
            "max_width": null,
            "order": null,
            "_view_module_version": "1.2.0",
            "grid_template_areas": null,
            "object_position": null,
            "object_fit": null,
            "grid_auto_columns": null,
            "margin": null,
            "display": null,
            "left": null
          }
        },
        "0f4d2870d58840dc9451f168b94716cc": {
          "model_module": "@jupyter-widgets/controls",
          "model_name": "FloatProgressModel",
          "state": {
            "_view_name": "ProgressView",
            "style": "IPY_MODEL_e3ae66f23ec74300bff4188c152d7e9d",
            "_dom_classes": [],
            "description": "Dl Completed...: 100%",
            "_model_name": "FloatProgressModel",
            "bar_style": "success",
            "max": 1,
            "_view_module": "@jupyter-widgets/controls",
            "_model_module_version": "1.5.0",
            "value": 1,
            "_view_count": null,
            "_view_module_version": "1.5.0",
            "orientation": "horizontal",
            "min": 0,
            "description_tooltip": null,
            "_model_module": "@jupyter-widgets/controls",
            "layout": "IPY_MODEL_728f8fa511004cc2b1ac26d178e8c2d1"
          }
        },
        "150b9a52c050438784285a2dfd99aa74": {
          "model_module": "@jupyter-widgets/controls",
          "model_name": "HTMLModel",
          "state": {
            "_view_name": "HTMLView",
            "style": "IPY_MODEL_22fa63c4deba4a2fab04a3e003a5c385",
            "_dom_classes": [],
            "description": "",
            "_model_name": "HTMLModel",
            "placeholder": "​",
            "_view_module": "@jupyter-widgets/controls",
            "_model_module_version": "1.5.0",
            "value": " 4/4 [00:02&lt;00:00,  1.59 url/s]",
            "_view_count": null,
            "_view_module_version": "1.5.0",
            "description_tooltip": null,
            "_model_module": "@jupyter-widgets/controls",
            "layout": "IPY_MODEL_9242ea2ee05d4f8e8ef76ff6d01d592e"
          }
        },
        "e3ae66f23ec74300bff4188c152d7e9d": {
          "model_module": "@jupyter-widgets/controls",
          "model_name": "ProgressStyleModel",
          "state": {
            "_view_name": "StyleView",
            "_model_name": "ProgressStyleModel",
            "description_width": "initial",
            "_view_module": "@jupyter-widgets/base",
            "_model_module_version": "1.5.0",
            "_view_count": null,
            "_view_module_version": "1.2.0",
            "bar_color": null,
            "_model_module": "@jupyter-widgets/controls"
          }
        },
        "728f8fa511004cc2b1ac26d178e8c2d1": {
          "model_module": "@jupyter-widgets/base",
          "model_name": "LayoutModel",
          "state": {
            "_view_name": "LayoutView",
            "grid_template_rows": null,
            "right": null,
            "justify_content": null,
            "_view_module": "@jupyter-widgets/base",
            "overflow": null,
            "_model_module_version": "1.2.0",
            "_view_count": null,
            "flex_flow": null,
            "width": null,
            "min_width": null,
            "border": null,
            "align_items": null,
            "bottom": null,
            "_model_module": "@jupyter-widgets/base",
            "top": null,
            "grid_column": null,
            "overflow_y": null,
            "overflow_x": null,
            "grid_auto_flow": null,
            "grid_area": null,
            "grid_template_columns": null,
            "flex": null,
            "_model_name": "LayoutModel",
            "justify_items": null,
            "grid_row": null,
            "max_height": null,
            "align_content": null,
            "visibility": null,
            "align_self": null,
            "height": null,
            "min_height": null,
            "padding": null,
            "grid_auto_rows": null,
            "grid_gap": null,
            "max_width": null,
            "order": null,
            "_view_module_version": "1.2.0",
            "grid_template_areas": null,
            "object_position": null,
            "object_fit": null,
            "grid_auto_columns": null,
            "margin": null,
            "display": null,
            "left": null
          }
        },
        "22fa63c4deba4a2fab04a3e003a5c385": {
          "model_module": "@jupyter-widgets/controls",
          "model_name": "DescriptionStyleModel",
          "state": {
            "_view_name": "StyleView",
            "_model_name": "DescriptionStyleModel",
            "description_width": "",
            "_view_module": "@jupyter-widgets/base",
            "_model_module_version": "1.5.0",
            "_view_count": null,
            "_view_module_version": "1.2.0",
            "_model_module": "@jupyter-widgets/controls"
          }
        },
        "9242ea2ee05d4f8e8ef76ff6d01d592e": {
          "model_module": "@jupyter-widgets/base",
          "model_name": "LayoutModel",
          "state": {
            "_view_name": "LayoutView",
            "grid_template_rows": null,
            "right": null,
            "justify_content": null,
            "_view_module": "@jupyter-widgets/base",
            "overflow": null,
            "_model_module_version": "1.2.0",
            "_view_count": null,
            "flex_flow": null,
            "width": null,
            "min_width": null,
            "border": null,
            "align_items": null,
            "bottom": null,
            "_model_module": "@jupyter-widgets/base",
            "top": null,
            "grid_column": null,
            "overflow_y": null,
            "overflow_x": null,
            "grid_auto_flow": null,
            "grid_area": null,
            "grid_template_columns": null,
            "flex": null,
            "_model_name": "LayoutModel",
            "justify_items": null,
            "grid_row": null,
            "max_height": null,
            "align_content": null,
            "visibility": null,
            "align_self": null,
            "height": null,
            "min_height": null,
            "padding": null,
            "grid_auto_rows": null,
            "grid_gap": null,
            "max_width": null,
            "order": null,
            "_view_module_version": "1.2.0",
            "grid_template_areas": null,
            "object_position": null,
            "object_fit": null,
            "grid_auto_columns": null,
            "margin": null,
            "display": null,
            "left": null
          }
        },
        "f417832f0921475d86334a4c3b927977": {
          "model_module": "@jupyter-widgets/controls",
          "model_name": "HBoxModel",
          "state": {
            "_view_name": "HBoxView",
            "_dom_classes": [],
            "_model_name": "HBoxModel",
            "_view_module": "@jupyter-widgets/controls",
            "_model_module_version": "1.5.0",
            "_view_count": null,
            "_view_module_version": "1.5.0",
            "box_style": "",
            "layout": "IPY_MODEL_e93f714678e24a52993c1b8ad9646e05",
            "_model_module": "@jupyter-widgets/controls",
            "children": [
              "IPY_MODEL_37e7eb4eb2124247a3861b86897f48ae",
              "IPY_MODEL_9b3bcb695ac94a4293297f70c30cef89"
            ]
          }
        },
        "e93f714678e24a52993c1b8ad9646e05": {
          "model_module": "@jupyter-widgets/base",
          "model_name": "LayoutModel",
          "state": {
            "_view_name": "LayoutView",
            "grid_template_rows": null,
            "right": null,
            "justify_content": null,
            "_view_module": "@jupyter-widgets/base",
            "overflow": null,
            "_model_module_version": "1.2.0",
            "_view_count": null,
            "flex_flow": null,
            "width": null,
            "min_width": null,
            "border": null,
            "align_items": null,
            "bottom": null,
            "_model_module": "@jupyter-widgets/base",
            "top": null,
            "grid_column": null,
            "overflow_y": null,
            "overflow_x": null,
            "grid_auto_flow": null,
            "grid_area": null,
            "grid_template_columns": null,
            "flex": null,
            "_model_name": "LayoutModel",
            "justify_items": null,
            "grid_row": null,
            "max_height": null,
            "align_content": null,
            "visibility": null,
            "align_self": null,
            "height": null,
            "min_height": null,
            "padding": null,
            "grid_auto_rows": null,
            "grid_gap": null,
            "max_width": null,
            "order": null,
            "_view_module_version": "1.2.0",
            "grid_template_areas": null,
            "object_position": null,
            "object_fit": null,
            "grid_auto_columns": null,
            "margin": null,
            "display": null,
            "left": null
          }
        },
        "37e7eb4eb2124247a3861b86897f48ae": {
          "model_module": "@jupyter-widgets/controls",
          "model_name": "FloatProgressModel",
          "state": {
            "_view_name": "ProgressView",
            "style": "IPY_MODEL_ecd1ce605160492e917bd93ad0fdab50",
            "_dom_classes": [],
            "description": "Dl Size...: 100%",
            "_model_name": "FloatProgressModel",
            "bar_style": "success",
            "max": 1,
            "_view_module": "@jupyter-widgets/controls",
            "_model_module_version": "1.5.0",
            "value": 1,
            "_view_count": null,
            "_view_module_version": "1.5.0",
            "orientation": "horizontal",
            "min": 0,
            "description_tooltip": null,
            "_model_module": "@jupyter-widgets/controls",
            "layout": "IPY_MODEL_946b6d7870c6452e8d938bd4f87c8720"
          }
        },
        "9b3bcb695ac94a4293297f70c30cef89": {
          "model_module": "@jupyter-widgets/controls",
          "model_name": "HTMLModel",
          "state": {
            "_view_name": "HTMLView",
            "style": "IPY_MODEL_41bef03409da468883d063e08c442ec2",
            "_dom_classes": [],
            "description": "",
            "_model_name": "HTMLModel",
            "placeholder": "​",
            "_view_module": "@jupyter-widgets/controls",
            "_model_module_version": "1.5.0",
            "value": " 29/29 [00:02&lt;00:00, 11.67 MiB/s]",
            "_view_count": null,
            "_view_module_version": "1.5.0",
            "description_tooltip": null,
            "_model_module": "@jupyter-widgets/controls",
            "layout": "IPY_MODEL_8beaebde5f024a79b83db94a2cfc443a"
          }
        },
        "ecd1ce605160492e917bd93ad0fdab50": {
          "model_module": "@jupyter-widgets/controls",
          "model_name": "ProgressStyleModel",
          "state": {
            "_view_name": "StyleView",
            "_model_name": "ProgressStyleModel",
            "description_width": "initial",
            "_view_module": "@jupyter-widgets/base",
            "_model_module_version": "1.5.0",
            "_view_count": null,
            "_view_module_version": "1.2.0",
            "bar_color": null,
            "_model_module": "@jupyter-widgets/controls"
          }
        },
        "946b6d7870c6452e8d938bd4f87c8720": {
          "model_module": "@jupyter-widgets/base",
          "model_name": "LayoutModel",
          "state": {
            "_view_name": "LayoutView",
            "grid_template_rows": null,
            "right": null,
            "justify_content": null,
            "_view_module": "@jupyter-widgets/base",
            "overflow": null,
            "_model_module_version": "1.2.0",
            "_view_count": null,
            "flex_flow": null,
            "width": null,
            "min_width": null,
            "border": null,
            "align_items": null,
            "bottom": null,
            "_model_module": "@jupyter-widgets/base",
            "top": null,
            "grid_column": null,
            "overflow_y": null,
            "overflow_x": null,
            "grid_auto_flow": null,
            "grid_area": null,
            "grid_template_columns": null,
            "flex": null,
            "_model_name": "LayoutModel",
            "justify_items": null,
            "grid_row": null,
            "max_height": null,
            "align_content": null,
            "visibility": null,
            "align_self": null,
            "height": null,
            "min_height": null,
            "padding": null,
            "grid_auto_rows": null,
            "grid_gap": null,
            "max_width": null,
            "order": null,
            "_view_module_version": "1.2.0",
            "grid_template_areas": null,
            "object_position": null,
            "object_fit": null,
            "grid_auto_columns": null,
            "margin": null,
            "display": null,
            "left": null
          }
        },
        "41bef03409da468883d063e08c442ec2": {
          "model_module": "@jupyter-widgets/controls",
          "model_name": "DescriptionStyleModel",
          "state": {
            "_view_name": "StyleView",
            "_model_name": "DescriptionStyleModel",
            "description_width": "",
            "_view_module": "@jupyter-widgets/base",
            "_model_module_version": "1.5.0",
            "_view_count": null,
            "_view_module_version": "1.2.0",
            "_model_module": "@jupyter-widgets/controls"
          }
        },
        "8beaebde5f024a79b83db94a2cfc443a": {
          "model_module": "@jupyter-widgets/base",
          "model_name": "LayoutModel",
          "state": {
            "_view_name": "LayoutView",
            "grid_template_rows": null,
            "right": null,
            "justify_content": null,
            "_view_module": "@jupyter-widgets/base",
            "overflow": null,
            "_model_module_version": "1.2.0",
            "_view_count": null,
            "flex_flow": null,
            "width": null,
            "min_width": null,
            "border": null,
            "align_items": null,
            "bottom": null,
            "_model_module": "@jupyter-widgets/base",
            "top": null,
            "grid_column": null,
            "overflow_y": null,
            "overflow_x": null,
            "grid_auto_flow": null,
            "grid_area": null,
            "grid_template_columns": null,
            "flex": null,
            "_model_name": "LayoutModel",
            "justify_items": null,
            "grid_row": null,
            "max_height": null,
            "align_content": null,
            "visibility": null,
            "align_self": null,
            "height": null,
            "min_height": null,
            "padding": null,
            "grid_auto_rows": null,
            "grid_gap": null,
            "max_width": null,
            "order": null,
            "_view_module_version": "1.2.0",
            "grid_template_areas": null,
            "object_position": null,
            "object_fit": null,
            "grid_auto_columns": null,
            "margin": null,
            "display": null,
            "left": null
          }
        },
        "9d8c0ba720344f39a6db72b6253ade19": {
          "model_module": "@jupyter-widgets/controls",
          "model_name": "HBoxModel",
          "state": {
            "_view_name": "HBoxView",
            "_dom_classes": [],
            "_model_name": "HBoxModel",
            "_view_module": "@jupyter-widgets/controls",
            "_model_module_version": "1.5.0",
            "_view_count": null,
            "_view_module_version": "1.5.0",
            "box_style": "",
            "layout": "IPY_MODEL_798a7a940420458e83568fcbb332f5b9",
            "_model_module": "@jupyter-widgets/controls",
            "children": [
              "IPY_MODEL_e922758b8d6a480f953ee929d076998a",
              "IPY_MODEL_90ad81c0f615469695746cab901b7663"
            ]
          }
        },
        "798a7a940420458e83568fcbb332f5b9": {
          "model_module": "@jupyter-widgets/base",
          "model_name": "LayoutModel",
          "state": {
            "_view_name": "LayoutView",
            "grid_template_rows": null,
            "right": null,
            "justify_content": null,
            "_view_module": "@jupyter-widgets/base",
            "overflow": null,
            "_model_module_version": "1.2.0",
            "_view_count": null,
            "flex_flow": null,
            "width": null,
            "min_width": null,
            "border": null,
            "align_items": null,
            "bottom": null,
            "_model_module": "@jupyter-widgets/base",
            "top": null,
            "grid_column": null,
            "overflow_y": null,
            "overflow_x": null,
            "grid_auto_flow": null,
            "grid_area": null,
            "grid_template_columns": null,
            "flex": null,
            "_model_name": "LayoutModel",
            "justify_items": null,
            "grid_row": null,
            "max_height": null,
            "align_content": null,
            "visibility": null,
            "align_self": null,
            "height": null,
            "min_height": null,
            "padding": null,
            "grid_auto_rows": null,
            "grid_gap": null,
            "max_width": null,
            "order": null,
            "_view_module_version": "1.2.0",
            "grid_template_areas": null,
            "object_position": null,
            "object_fit": null,
            "grid_auto_columns": null,
            "margin": null,
            "display": null,
            "left": null
          }
        },
        "e922758b8d6a480f953ee929d076998a": {
          "model_module": "@jupyter-widgets/controls",
          "model_name": "FloatProgressModel",
          "state": {
            "_view_name": "ProgressView",
            "style": "IPY_MODEL_381972b0bf794adcaed1f0c5bd3cffc8",
            "_dom_classes": [],
            "description": "Extraction completed...: 100%",
            "_model_name": "FloatProgressModel",
            "bar_style": "success",
            "max": 1,
            "_view_module": "@jupyter-widgets/controls",
            "_model_module_version": "1.5.0",
            "value": 1,
            "_view_count": null,
            "_view_module_version": "1.5.0",
            "orientation": "horizontal",
            "min": 0,
            "description_tooltip": null,
            "_model_module": "@jupyter-widgets/controls",
            "layout": "IPY_MODEL_aff35508508b4cdb983f13c8b640eedc"
          }
        },
        "90ad81c0f615469695746cab901b7663": {
          "model_module": "@jupyter-widgets/controls",
          "model_name": "HTMLModel",
          "state": {
            "_view_name": "HTMLView",
            "style": "IPY_MODEL_e4982cef2b8244178116cd0cd1f1406e",
            "_dom_classes": [],
            "description": "",
            "_model_name": "HTMLModel",
            "placeholder": "​",
            "_view_module": "@jupyter-widgets/controls",
            "_model_module_version": "1.5.0",
            "value": " 4/4 [00:02&lt;00:00,  1.64 file/s]",
            "_view_count": null,
            "_view_module_version": "1.5.0",
            "description_tooltip": null,
            "_model_module": "@jupyter-widgets/controls",
            "layout": "IPY_MODEL_d2dc27b87f40424d92f2700531593dbc"
          }
        },
        "381972b0bf794adcaed1f0c5bd3cffc8": {
          "model_module": "@jupyter-widgets/controls",
          "model_name": "ProgressStyleModel",
          "state": {
            "_view_name": "StyleView",
            "_model_name": "ProgressStyleModel",
            "description_width": "initial",
            "_view_module": "@jupyter-widgets/base",
            "_model_module_version": "1.5.0",
            "_view_count": null,
            "_view_module_version": "1.2.0",
            "bar_color": null,
            "_model_module": "@jupyter-widgets/controls"
          }
        },
        "aff35508508b4cdb983f13c8b640eedc": {
          "model_module": "@jupyter-widgets/base",
          "model_name": "LayoutModel",
          "state": {
            "_view_name": "LayoutView",
            "grid_template_rows": null,
            "right": null,
            "justify_content": null,
            "_view_module": "@jupyter-widgets/base",
            "overflow": null,
            "_model_module_version": "1.2.0",
            "_view_count": null,
            "flex_flow": null,
            "width": null,
            "min_width": null,
            "border": null,
            "align_items": null,
            "bottom": null,
            "_model_module": "@jupyter-widgets/base",
            "top": null,
            "grid_column": null,
            "overflow_y": null,
            "overflow_x": null,
            "grid_auto_flow": null,
            "grid_area": null,
            "grid_template_columns": null,
            "flex": null,
            "_model_name": "LayoutModel",
            "justify_items": null,
            "grid_row": null,
            "max_height": null,
            "align_content": null,
            "visibility": null,
            "align_self": null,
            "height": null,
            "min_height": null,
            "padding": null,
            "grid_auto_rows": null,
            "grid_gap": null,
            "max_width": null,
            "order": null,
            "_view_module_version": "1.2.0",
            "grid_template_areas": null,
            "object_position": null,
            "object_fit": null,
            "grid_auto_columns": null,
            "margin": null,
            "display": null,
            "left": null
          }
        },
        "e4982cef2b8244178116cd0cd1f1406e": {
          "model_module": "@jupyter-widgets/controls",
          "model_name": "DescriptionStyleModel",
          "state": {
            "_view_name": "StyleView",
            "_model_name": "DescriptionStyleModel",
            "description_width": "",
            "_view_module": "@jupyter-widgets/base",
            "_model_module_version": "1.5.0",
            "_view_count": null,
            "_view_module_version": "1.2.0",
            "_model_module": "@jupyter-widgets/controls"
          }
        },
        "d2dc27b87f40424d92f2700531593dbc": {
          "model_module": "@jupyter-widgets/base",
          "model_name": "LayoutModel",
          "state": {
            "_view_name": "LayoutView",
            "grid_template_rows": null,
            "right": null,
            "justify_content": null,
            "_view_module": "@jupyter-widgets/base",
            "overflow": null,
            "_model_module_version": "1.2.0",
            "_view_count": null,
            "flex_flow": null,
            "width": null,
            "min_width": null,
            "border": null,
            "align_items": null,
            "bottom": null,
            "_model_module": "@jupyter-widgets/base",
            "top": null,
            "grid_column": null,
            "overflow_y": null,
            "overflow_x": null,
            "grid_auto_flow": null,
            "grid_area": null,
            "grid_template_columns": null,
            "flex": null,
            "_model_name": "LayoutModel",
            "justify_items": null,
            "grid_row": null,
            "max_height": null,
            "align_content": null,
            "visibility": null,
            "align_self": null,
            "height": null,
            "min_height": null,
            "padding": null,
            "grid_auto_rows": null,
            "grid_gap": null,
            "max_width": null,
            "order": null,
            "_view_module_version": "1.2.0",
            "grid_template_areas": null,
            "object_position": null,
            "object_fit": null,
            "grid_auto_columns": null,
            "margin": null,
            "display": null,
            "left": null
          }
        },
        "f07b49ef3c494fd296c8494d2f8acd22": {
          "model_module": "@jupyter-widgets/controls",
          "model_name": "HBoxModel",
          "state": {
            "_view_name": "HBoxView",
            "_dom_classes": [],
            "_model_name": "HBoxModel",
            "_view_module": "@jupyter-widgets/controls",
            "_model_module_version": "1.5.0",
            "_view_count": null,
            "_view_module_version": "1.5.0",
            "box_style": "",
            "layout": "IPY_MODEL_af35c59babaf49d49995c668f5966b0a",
            "_model_module": "@jupyter-widgets/controls",
            "children": [
              "IPY_MODEL_d0296d1723444bfa8313f4a209352ff8",
              "IPY_MODEL_48d354e8443b47a9803f11ce5f478e0b"
            ]
          }
        },
        "af35c59babaf49d49995c668f5966b0a": {
          "model_module": "@jupyter-widgets/base",
          "model_name": "LayoutModel",
          "state": {
            "_view_name": "LayoutView",
            "grid_template_rows": null,
            "right": null,
            "justify_content": null,
            "_view_module": "@jupyter-widgets/base",
            "overflow": null,
            "_model_module_version": "1.2.0",
            "_view_count": null,
            "flex_flow": null,
            "width": null,
            "min_width": null,
            "border": null,
            "align_items": null,
            "bottom": null,
            "_model_module": "@jupyter-widgets/base",
            "top": null,
            "grid_column": null,
            "overflow_y": null,
            "overflow_x": null,
            "grid_auto_flow": null,
            "grid_area": null,
            "grid_template_columns": null,
            "flex": null,
            "_model_name": "LayoutModel",
            "justify_items": null,
            "grid_row": null,
            "max_height": null,
            "align_content": null,
            "visibility": null,
            "align_self": null,
            "height": null,
            "min_height": null,
            "padding": null,
            "grid_auto_rows": null,
            "grid_gap": null,
            "max_width": null,
            "order": null,
            "_view_module_version": "1.2.0",
            "grid_template_areas": null,
            "object_position": null,
            "object_fit": null,
            "grid_auto_columns": null,
            "margin": null,
            "display": null,
            "left": null
          }
        },
        "d0296d1723444bfa8313f4a209352ff8": {
          "model_module": "@jupyter-widgets/controls",
          "model_name": "FloatProgressModel",
          "state": {
            "_view_name": "ProgressView",
            "style": "IPY_MODEL_bec60e1bc1a340d58d1d81dd19e9b7d1",
            "_dom_classes": [],
            "description": "",
            "_model_name": "FloatProgressModel",
            "bar_style": "info",
            "max": 1,
            "_view_module": "@jupyter-widgets/controls",
            "_model_module_version": "1.5.0",
            "value": 1,
            "_view_count": null,
            "_view_module_version": "1.5.0",
            "orientation": "horizontal",
            "min": 0,
            "description_tooltip": null,
            "_model_module": "@jupyter-widgets/controls",
            "layout": "IPY_MODEL_a55a47ef51e34b97b9eb8b38b96240c3"
          }
        },
        "48d354e8443b47a9803f11ce5f478e0b": {
          "model_module": "@jupyter-widgets/controls",
          "model_name": "HTMLModel",
          "state": {
            "_view_name": "HTMLView",
            "style": "IPY_MODEL_64e73d6cd5674ec1a4f339eefa08f288",
            "_dom_classes": [],
            "description": "",
            "_model_name": "HTMLModel",
            "placeholder": "​",
            "_view_module": "@jupyter-widgets/controls",
            "_model_module_version": "1.5.0",
            "value": " 60000/0 [00:28&lt;00:00, 2970.04 examples/s]",
            "_view_count": null,
            "_view_module_version": "1.5.0",
            "description_tooltip": null,
            "_model_module": "@jupyter-widgets/controls",
            "layout": "IPY_MODEL_4d450879cfa54726bbea768cd95c8caf"
          }
        },
        "bec60e1bc1a340d58d1d81dd19e9b7d1": {
          "model_module": "@jupyter-widgets/controls",
          "model_name": "ProgressStyleModel",
          "state": {
            "_view_name": "StyleView",
            "_model_name": "ProgressStyleModel",
            "description_width": "initial",
            "_view_module": "@jupyter-widgets/base",
            "_model_module_version": "1.5.0",
            "_view_count": null,
            "_view_module_version": "1.2.0",
            "bar_color": null,
            "_model_module": "@jupyter-widgets/controls"
          }
        },
        "a55a47ef51e34b97b9eb8b38b96240c3": {
          "model_module": "@jupyter-widgets/base",
          "model_name": "LayoutModel",
          "state": {
            "_view_name": "LayoutView",
            "grid_template_rows": null,
            "right": null,
            "justify_content": null,
            "_view_module": "@jupyter-widgets/base",
            "overflow": null,
            "_model_module_version": "1.2.0",
            "_view_count": null,
            "flex_flow": null,
            "width": null,
            "min_width": null,
            "border": null,
            "align_items": null,
            "bottom": null,
            "_model_module": "@jupyter-widgets/base",
            "top": null,
            "grid_column": null,
            "overflow_y": null,
            "overflow_x": null,
            "grid_auto_flow": null,
            "grid_area": null,
            "grid_template_columns": null,
            "flex": null,
            "_model_name": "LayoutModel",
            "justify_items": null,
            "grid_row": null,
            "max_height": null,
            "align_content": null,
            "visibility": null,
            "align_self": null,
            "height": null,
            "min_height": null,
            "padding": null,
            "grid_auto_rows": null,
            "grid_gap": null,
            "max_width": null,
            "order": null,
            "_view_module_version": "1.2.0",
            "grid_template_areas": null,
            "object_position": null,
            "object_fit": null,
            "grid_auto_columns": null,
            "margin": null,
            "display": null,
            "left": null
          }
        },
        "64e73d6cd5674ec1a4f339eefa08f288": {
          "model_module": "@jupyter-widgets/controls",
          "model_name": "DescriptionStyleModel",
          "state": {
            "_view_name": "StyleView",
            "_model_name": "DescriptionStyleModel",
            "description_width": "",
            "_view_module": "@jupyter-widgets/base",
            "_model_module_version": "1.5.0",
            "_view_count": null,
            "_view_module_version": "1.2.0",
            "_model_module": "@jupyter-widgets/controls"
          }
        },
        "4d450879cfa54726bbea768cd95c8caf": {
          "model_module": "@jupyter-widgets/base",
          "model_name": "LayoutModel",
          "state": {
            "_view_name": "LayoutView",
            "grid_template_rows": null,
            "right": null,
            "justify_content": null,
            "_view_module": "@jupyter-widgets/base",
            "overflow": null,
            "_model_module_version": "1.2.0",
            "_view_count": null,
            "flex_flow": null,
            "width": null,
            "min_width": null,
            "border": null,
            "align_items": null,
            "bottom": null,
            "_model_module": "@jupyter-widgets/base",
            "top": null,
            "grid_column": null,
            "overflow_y": null,
            "overflow_x": null,
            "grid_auto_flow": null,
            "grid_area": null,
            "grid_template_columns": null,
            "flex": null,
            "_model_name": "LayoutModel",
            "justify_items": null,
            "grid_row": null,
            "max_height": null,
            "align_content": null,
            "visibility": null,
            "align_self": null,
            "height": null,
            "min_height": null,
            "padding": null,
            "grid_auto_rows": null,
            "grid_gap": null,
            "max_width": null,
            "order": null,
            "_view_module_version": "1.2.0",
            "grid_template_areas": null,
            "object_position": null,
            "object_fit": null,
            "grid_auto_columns": null,
            "margin": null,
            "display": null,
            "left": null
          }
        },
        "a42aed53f3ef46c7b1607c751118b8f5": {
          "model_module": "@jupyter-widgets/controls",
          "model_name": "HBoxModel",
          "state": {
            "_view_name": "HBoxView",
            "_dom_classes": [],
            "_model_name": "HBoxModel",
            "_view_module": "@jupyter-widgets/controls",
            "_model_module_version": "1.5.0",
            "_view_count": null,
            "_view_module_version": "1.5.0",
            "box_style": "",
            "layout": "IPY_MODEL_56236cf2ad194e3bbf4bef9db4ed5114",
            "_model_module": "@jupyter-widgets/controls",
            "children": [
              "IPY_MODEL_e583f823a9dc4002b233c2e9bdf822d3",
              "IPY_MODEL_002ba63d3c35450b96137818cb45ffd5"
            ]
          }
        },
        "56236cf2ad194e3bbf4bef9db4ed5114": {
          "model_module": "@jupyter-widgets/base",
          "model_name": "LayoutModel",
          "state": {
            "_view_name": "LayoutView",
            "grid_template_rows": null,
            "right": null,
            "justify_content": null,
            "_view_module": "@jupyter-widgets/base",
            "overflow": null,
            "_model_module_version": "1.2.0",
            "_view_count": null,
            "flex_flow": null,
            "width": null,
            "min_width": null,
            "border": null,
            "align_items": null,
            "bottom": null,
            "_model_module": "@jupyter-widgets/base",
            "top": null,
            "grid_column": null,
            "overflow_y": null,
            "overflow_x": null,
            "grid_auto_flow": null,
            "grid_area": null,
            "grid_template_columns": null,
            "flex": null,
            "_model_name": "LayoutModel",
            "justify_items": null,
            "grid_row": null,
            "max_height": null,
            "align_content": null,
            "visibility": null,
            "align_self": null,
            "height": null,
            "min_height": null,
            "padding": null,
            "grid_auto_rows": null,
            "grid_gap": null,
            "max_width": null,
            "order": null,
            "_view_module_version": "1.2.0",
            "grid_template_areas": null,
            "object_position": null,
            "object_fit": null,
            "grid_auto_columns": null,
            "margin": null,
            "display": null,
            "left": null
          }
        },
        "e583f823a9dc4002b233c2e9bdf822d3": {
          "model_module": "@jupyter-widgets/controls",
          "model_name": "FloatProgressModel",
          "state": {
            "_view_name": "ProgressView",
            "style": "IPY_MODEL_d249afd3362644ae9617eb738f78d1d5",
            "_dom_classes": [],
            "description": " 73%",
            "_model_name": "FloatProgressModel",
            "bar_style": "danger",
            "max": 60000,
            "_view_module": "@jupyter-widgets/controls",
            "_model_module_version": "1.5.0",
            "value": 43714,
            "_view_count": null,
            "_view_module_version": "1.5.0",
            "orientation": "horizontal",
            "min": 0,
            "description_tooltip": null,
            "_model_module": "@jupyter-widgets/controls",
            "layout": "IPY_MODEL_da89f01b313e4e5ebdf178aded6321d5"
          }
        },
        "002ba63d3c35450b96137818cb45ffd5": {
          "model_module": "@jupyter-widgets/controls",
          "model_name": "HTMLModel",
          "state": {
            "_view_name": "HTMLView",
            "style": "IPY_MODEL_762b17d34c184f868c1ad24ad50b2cfd",
            "_dom_classes": [],
            "description": "",
            "_model_name": "HTMLModel",
            "placeholder": "​",
            "_view_module": "@jupyter-widgets/controls",
            "_model_module_version": "1.5.0",
            "value": " 43714/60000 [00:00&lt;00:00, 67413.31 examples/s]",
            "_view_count": null,
            "_view_module_version": "1.5.0",
            "description_tooltip": null,
            "_model_module": "@jupyter-widgets/controls",
            "layout": "IPY_MODEL_f4b88b837f704b2dafcf947dce44cdea"
          }
        },
        "d249afd3362644ae9617eb738f78d1d5": {
          "model_module": "@jupyter-widgets/controls",
          "model_name": "ProgressStyleModel",
          "state": {
            "_view_name": "StyleView",
            "_model_name": "ProgressStyleModel",
            "description_width": "initial",
            "_view_module": "@jupyter-widgets/base",
            "_model_module_version": "1.5.0",
            "_view_count": null,
            "_view_module_version": "1.2.0",
            "bar_color": null,
            "_model_module": "@jupyter-widgets/controls"
          }
        },
        "da89f01b313e4e5ebdf178aded6321d5": {
          "model_module": "@jupyter-widgets/base",
          "model_name": "LayoutModel",
          "state": {
            "_view_name": "LayoutView",
            "grid_template_rows": null,
            "right": null,
            "justify_content": null,
            "_view_module": "@jupyter-widgets/base",
            "overflow": null,
            "_model_module_version": "1.2.0",
            "_view_count": null,
            "flex_flow": null,
            "width": null,
            "min_width": null,
            "border": null,
            "align_items": null,
            "bottom": null,
            "_model_module": "@jupyter-widgets/base",
            "top": null,
            "grid_column": null,
            "overflow_y": null,
            "overflow_x": null,
            "grid_auto_flow": null,
            "grid_area": null,
            "grid_template_columns": null,
            "flex": null,
            "_model_name": "LayoutModel",
            "justify_items": null,
            "grid_row": null,
            "max_height": null,
            "align_content": null,
            "visibility": null,
            "align_self": null,
            "height": null,
            "min_height": null,
            "padding": null,
            "grid_auto_rows": null,
            "grid_gap": null,
            "max_width": null,
            "order": null,
            "_view_module_version": "1.2.0",
            "grid_template_areas": null,
            "object_position": null,
            "object_fit": null,
            "grid_auto_columns": null,
            "margin": null,
            "display": null,
            "left": null
          }
        },
        "762b17d34c184f868c1ad24ad50b2cfd": {
          "model_module": "@jupyter-widgets/controls",
          "model_name": "DescriptionStyleModel",
          "state": {
            "_view_name": "StyleView",
            "_model_name": "DescriptionStyleModel",
            "description_width": "",
            "_view_module": "@jupyter-widgets/base",
            "_model_module_version": "1.5.0",
            "_view_count": null,
            "_view_module_version": "1.2.0",
            "_model_module": "@jupyter-widgets/controls"
          }
        },
        "f4b88b837f704b2dafcf947dce44cdea": {
          "model_module": "@jupyter-widgets/base",
          "model_name": "LayoutModel",
          "state": {
            "_view_name": "LayoutView",
            "grid_template_rows": null,
            "right": null,
            "justify_content": null,
            "_view_module": "@jupyter-widgets/base",
            "overflow": null,
            "_model_module_version": "1.2.0",
            "_view_count": null,
            "flex_flow": null,
            "width": null,
            "min_width": null,
            "border": null,
            "align_items": null,
            "bottom": null,
            "_model_module": "@jupyter-widgets/base",
            "top": null,
            "grid_column": null,
            "overflow_y": null,
            "overflow_x": null,
            "grid_auto_flow": null,
            "grid_area": null,
            "grid_template_columns": null,
            "flex": null,
            "_model_name": "LayoutModel",
            "justify_items": null,
            "grid_row": null,
            "max_height": null,
            "align_content": null,
            "visibility": null,
            "align_self": null,
            "height": null,
            "min_height": null,
            "padding": null,
            "grid_auto_rows": null,
            "grid_gap": null,
            "max_width": null,
            "order": null,
            "_view_module_version": "1.2.0",
            "grid_template_areas": null,
            "object_position": null,
            "object_fit": null,
            "grid_auto_columns": null,
            "margin": null,
            "display": null,
            "left": null
          }
        },
        "f11fdec6ba46467bbbc5284d0dff044a": {
          "model_module": "@jupyter-widgets/controls",
          "model_name": "HBoxModel",
          "state": {
            "_view_name": "HBoxView",
            "_dom_classes": [],
            "_model_name": "HBoxModel",
            "_view_module": "@jupyter-widgets/controls",
            "_model_module_version": "1.5.0",
            "_view_count": null,
            "_view_module_version": "1.5.0",
            "box_style": "",
            "layout": "IPY_MODEL_92eaf4e05520413ba1b5f01196338771",
            "_model_module": "@jupyter-widgets/controls",
            "children": [
              "IPY_MODEL_b00122ee8ac64cc3b578927f97223887",
              "IPY_MODEL_f67d13167fcb4bf29898840504f621bf"
            ]
          }
        },
        "92eaf4e05520413ba1b5f01196338771": {
          "model_module": "@jupyter-widgets/base",
          "model_name": "LayoutModel",
          "state": {
            "_view_name": "LayoutView",
            "grid_template_rows": null,
            "right": null,
            "justify_content": null,
            "_view_module": "@jupyter-widgets/base",
            "overflow": null,
            "_model_module_version": "1.2.0",
            "_view_count": null,
            "flex_flow": null,
            "width": null,
            "min_width": null,
            "border": null,
            "align_items": null,
            "bottom": null,
            "_model_module": "@jupyter-widgets/base",
            "top": null,
            "grid_column": null,
            "overflow_y": null,
            "overflow_x": null,
            "grid_auto_flow": null,
            "grid_area": null,
            "grid_template_columns": null,
            "flex": null,
            "_model_name": "LayoutModel",
            "justify_items": null,
            "grid_row": null,
            "max_height": null,
            "align_content": null,
            "visibility": null,
            "align_self": null,
            "height": null,
            "min_height": null,
            "padding": null,
            "grid_auto_rows": null,
            "grid_gap": null,
            "max_width": null,
            "order": null,
            "_view_module_version": "1.2.0",
            "grid_template_areas": null,
            "object_position": null,
            "object_fit": null,
            "grid_auto_columns": null,
            "margin": null,
            "display": null,
            "left": null
          }
        },
        "b00122ee8ac64cc3b578927f97223887": {
          "model_module": "@jupyter-widgets/controls",
          "model_name": "FloatProgressModel",
          "state": {
            "_view_name": "ProgressView",
            "style": "IPY_MODEL_1f08d8a7424f46a88c0a36b299c53d66",
            "_dom_classes": [],
            "description": "",
            "_model_name": "FloatProgressModel",
            "bar_style": "info",
            "max": 1,
            "_view_module": "@jupyter-widgets/controls",
            "_model_module_version": "1.5.0",
            "value": 1,
            "_view_count": null,
            "_view_module_version": "1.5.0",
            "orientation": "horizontal",
            "min": 0,
            "description_tooltip": null,
            "_model_module": "@jupyter-widgets/controls",
            "layout": "IPY_MODEL_7011739d8ed84f8fa1d3028be9caa4ab"
          }
        },
        "f67d13167fcb4bf29898840504f621bf": {
          "model_module": "@jupyter-widgets/controls",
          "model_name": "HTMLModel",
          "state": {
            "_view_name": "HTMLView",
            "style": "IPY_MODEL_1626cbfccef9475eaa8cb4a7635b492a",
            "_dom_classes": [],
            "description": "",
            "_model_name": "HTMLModel",
            "placeholder": "​",
            "_view_module": "@jupyter-widgets/controls",
            "_model_module_version": "1.5.0",
            "value": " 10000/0 [00:03&lt;00:00, 2925.01 examples/s]",
            "_view_count": null,
            "_view_module_version": "1.5.0",
            "description_tooltip": null,
            "_model_module": "@jupyter-widgets/controls",
            "layout": "IPY_MODEL_68c3479c908344e3b849b948eadd3ffe"
          }
        },
        "1f08d8a7424f46a88c0a36b299c53d66": {
          "model_module": "@jupyter-widgets/controls",
          "model_name": "ProgressStyleModel",
          "state": {
            "_view_name": "StyleView",
            "_model_name": "ProgressStyleModel",
            "description_width": "initial",
            "_view_module": "@jupyter-widgets/base",
            "_model_module_version": "1.5.0",
            "_view_count": null,
            "_view_module_version": "1.2.0",
            "bar_color": null,
            "_model_module": "@jupyter-widgets/controls"
          }
        },
        "7011739d8ed84f8fa1d3028be9caa4ab": {
          "model_module": "@jupyter-widgets/base",
          "model_name": "LayoutModel",
          "state": {
            "_view_name": "LayoutView",
            "grid_template_rows": null,
            "right": null,
            "justify_content": null,
            "_view_module": "@jupyter-widgets/base",
            "overflow": null,
            "_model_module_version": "1.2.0",
            "_view_count": null,
            "flex_flow": null,
            "width": null,
            "min_width": null,
            "border": null,
            "align_items": null,
            "bottom": null,
            "_model_module": "@jupyter-widgets/base",
            "top": null,
            "grid_column": null,
            "overflow_y": null,
            "overflow_x": null,
            "grid_auto_flow": null,
            "grid_area": null,
            "grid_template_columns": null,
            "flex": null,
            "_model_name": "LayoutModel",
            "justify_items": null,
            "grid_row": null,
            "max_height": null,
            "align_content": null,
            "visibility": null,
            "align_self": null,
            "height": null,
            "min_height": null,
            "padding": null,
            "grid_auto_rows": null,
            "grid_gap": null,
            "max_width": null,
            "order": null,
            "_view_module_version": "1.2.0",
            "grid_template_areas": null,
            "object_position": null,
            "object_fit": null,
            "grid_auto_columns": null,
            "margin": null,
            "display": null,
            "left": null
          }
        },
        "1626cbfccef9475eaa8cb4a7635b492a": {
          "model_module": "@jupyter-widgets/controls",
          "model_name": "DescriptionStyleModel",
          "state": {
            "_view_name": "StyleView",
            "_model_name": "DescriptionStyleModel",
            "description_width": "",
            "_view_module": "@jupyter-widgets/base",
            "_model_module_version": "1.5.0",
            "_view_count": null,
            "_view_module_version": "1.2.0",
            "_model_module": "@jupyter-widgets/controls"
          }
        },
        "68c3479c908344e3b849b948eadd3ffe": {
          "model_module": "@jupyter-widgets/base",
          "model_name": "LayoutModel",
          "state": {
            "_view_name": "LayoutView",
            "grid_template_rows": null,
            "right": null,
            "justify_content": null,
            "_view_module": "@jupyter-widgets/base",
            "overflow": null,
            "_model_module_version": "1.2.0",
            "_view_count": null,
            "flex_flow": null,
            "width": null,
            "min_width": null,
            "border": null,
            "align_items": null,
            "bottom": null,
            "_model_module": "@jupyter-widgets/base",
            "top": null,
            "grid_column": null,
            "overflow_y": null,
            "overflow_x": null,
            "grid_auto_flow": null,
            "grid_area": null,
            "grid_template_columns": null,
            "flex": null,
            "_model_name": "LayoutModel",
            "justify_items": null,
            "grid_row": null,
            "max_height": null,
            "align_content": null,
            "visibility": null,
            "align_self": null,
            "height": null,
            "min_height": null,
            "padding": null,
            "grid_auto_rows": null,
            "grid_gap": null,
            "max_width": null,
            "order": null,
            "_view_module_version": "1.2.0",
            "grid_template_areas": null,
            "object_position": null,
            "object_fit": null,
            "grid_auto_columns": null,
            "margin": null,
            "display": null,
            "left": null
          }
        },
        "f957a9b6cf5048cfb76689c85c8c3f0b": {
          "model_module": "@jupyter-widgets/controls",
          "model_name": "HBoxModel",
          "state": {
            "_view_name": "HBoxView",
            "_dom_classes": [],
            "_model_name": "HBoxModel",
            "_view_module": "@jupyter-widgets/controls",
            "_model_module_version": "1.5.0",
            "_view_count": null,
            "_view_module_version": "1.5.0",
            "box_style": "",
            "layout": "IPY_MODEL_556bc83810f14e0093731fc272ca0deb",
            "_model_module": "@jupyter-widgets/controls",
            "children": [
              "IPY_MODEL_1cdbe1e9e00a48e1970b37e16a192460",
              "IPY_MODEL_3646c241232a4f4c958a2cb739e16237"
            ]
          }
        },
        "556bc83810f14e0093731fc272ca0deb": {
          "model_module": "@jupyter-widgets/base",
          "model_name": "LayoutModel",
          "state": {
            "_view_name": "LayoutView",
            "grid_template_rows": null,
            "right": null,
            "justify_content": null,
            "_view_module": "@jupyter-widgets/base",
            "overflow": null,
            "_model_module_version": "1.2.0",
            "_view_count": null,
            "flex_flow": null,
            "width": null,
            "min_width": null,
            "border": null,
            "align_items": null,
            "bottom": null,
            "_model_module": "@jupyter-widgets/base",
            "top": null,
            "grid_column": null,
            "overflow_y": null,
            "overflow_x": null,
            "grid_auto_flow": null,
            "grid_area": null,
            "grid_template_columns": null,
            "flex": null,
            "_model_name": "LayoutModel",
            "justify_items": null,
            "grid_row": null,
            "max_height": null,
            "align_content": null,
            "visibility": null,
            "align_self": null,
            "height": null,
            "min_height": null,
            "padding": null,
            "grid_auto_rows": null,
            "grid_gap": null,
            "max_width": null,
            "order": null,
            "_view_module_version": "1.2.0",
            "grid_template_areas": null,
            "object_position": null,
            "object_fit": null,
            "grid_auto_columns": null,
            "margin": null,
            "display": null,
            "left": null
          }
        },
        "1cdbe1e9e00a48e1970b37e16a192460": {
          "model_module": "@jupyter-widgets/controls",
          "model_name": "FloatProgressModel",
          "state": {
            "_view_name": "ProgressView",
            "style": "IPY_MODEL_e3af8f34cb894b31916d97945b2d702e",
            "_dom_classes": [],
            "description": "  0%",
            "_model_name": "FloatProgressModel",
            "bar_style": "danger",
            "max": 10000,
            "_view_module": "@jupyter-widgets/controls",
            "_model_module_version": "1.5.0",
            "value": 0,
            "_view_count": null,
            "_view_module_version": "1.5.0",
            "orientation": "horizontal",
            "min": 0,
            "description_tooltip": null,
            "_model_module": "@jupyter-widgets/controls",
            "layout": "IPY_MODEL_667bb1dad75e4df2b31797f7400f7622"
          }
        },
        "3646c241232a4f4c958a2cb739e16237": {
          "model_module": "@jupyter-widgets/controls",
          "model_name": "HTMLModel",
          "state": {
            "_view_name": "HTMLView",
            "style": "IPY_MODEL_bf3b099d79074431a15f5ffdea8c447e",
            "_dom_classes": [],
            "description": "",
            "_model_name": "HTMLModel",
            "placeholder": "​",
            "_view_module": "@jupyter-widgets/controls",
            "_model_module_version": "1.5.0",
            "value": " 0/10000 [00:00&lt;?, ? examples/s]",
            "_view_count": null,
            "_view_module_version": "1.5.0",
            "description_tooltip": null,
            "_model_module": "@jupyter-widgets/controls",
            "layout": "IPY_MODEL_e8072c855b2042aba76e2f317c37efc6"
          }
        },
        "e3af8f34cb894b31916d97945b2d702e": {
          "model_module": "@jupyter-widgets/controls",
          "model_name": "ProgressStyleModel",
          "state": {
            "_view_name": "StyleView",
            "_model_name": "ProgressStyleModel",
            "description_width": "initial",
            "_view_module": "@jupyter-widgets/base",
            "_model_module_version": "1.5.0",
            "_view_count": null,
            "_view_module_version": "1.2.0",
            "bar_color": null,
            "_model_module": "@jupyter-widgets/controls"
          }
        },
        "667bb1dad75e4df2b31797f7400f7622": {
          "model_module": "@jupyter-widgets/base",
          "model_name": "LayoutModel",
          "state": {
            "_view_name": "LayoutView",
            "grid_template_rows": null,
            "right": null,
            "justify_content": null,
            "_view_module": "@jupyter-widgets/base",
            "overflow": null,
            "_model_module_version": "1.2.0",
            "_view_count": null,
            "flex_flow": null,
            "width": null,
            "min_width": null,
            "border": null,
            "align_items": null,
            "bottom": null,
            "_model_module": "@jupyter-widgets/base",
            "top": null,
            "grid_column": null,
            "overflow_y": null,
            "overflow_x": null,
            "grid_auto_flow": null,
            "grid_area": null,
            "grid_template_columns": null,
            "flex": null,
            "_model_name": "LayoutModel",
            "justify_items": null,
            "grid_row": null,
            "max_height": null,
            "align_content": null,
            "visibility": null,
            "align_self": null,
            "height": null,
            "min_height": null,
            "padding": null,
            "grid_auto_rows": null,
            "grid_gap": null,
            "max_width": null,
            "order": null,
            "_view_module_version": "1.2.0",
            "grid_template_areas": null,
            "object_position": null,
            "object_fit": null,
            "grid_auto_columns": null,
            "margin": null,
            "display": null,
            "left": null
          }
        },
        "bf3b099d79074431a15f5ffdea8c447e": {
          "model_module": "@jupyter-widgets/controls",
          "model_name": "DescriptionStyleModel",
          "state": {
            "_view_name": "StyleView",
            "_model_name": "DescriptionStyleModel",
            "description_width": "",
            "_view_module": "@jupyter-widgets/base",
            "_model_module_version": "1.5.0",
            "_view_count": null,
            "_view_module_version": "1.2.0",
            "_model_module": "@jupyter-widgets/controls"
          }
        },
        "e8072c855b2042aba76e2f317c37efc6": {
          "model_module": "@jupyter-widgets/base",
          "model_name": "LayoutModel",
          "state": {
            "_view_name": "LayoutView",
            "grid_template_rows": null,
            "right": null,
            "justify_content": null,
            "_view_module": "@jupyter-widgets/base",
            "overflow": null,
            "_model_module_version": "1.2.0",
            "_view_count": null,
            "flex_flow": null,
            "width": null,
            "min_width": null,
            "border": null,
            "align_items": null,
            "bottom": null,
            "_model_module": "@jupyter-widgets/base",
            "top": null,
            "grid_column": null,
            "overflow_y": null,
            "overflow_x": null,
            "grid_auto_flow": null,
            "grid_area": null,
            "grid_template_columns": null,
            "flex": null,
            "_model_name": "LayoutModel",
            "justify_items": null,
            "grid_row": null,
            "max_height": null,
            "align_content": null,
            "visibility": null,
            "align_self": null,
            "height": null,
            "min_height": null,
            "padding": null,
            "grid_auto_rows": null,
            "grid_gap": null,
            "max_width": null,
            "order": null,
            "_view_module_version": "1.2.0",
            "grid_template_areas": null,
            "object_position": null,
            "object_fit": null,
            "grid_auto_columns": null,
            "margin": null,
            "display": null,
            "left": null
          }
        }
      }
    }
  },
  "cells": [
    {
      "cell_type": "markdown",
      "metadata": {
        "id": "cqRKw8tFjoH0",
        "colab_type": "text"
      },
      "source": [
        "# Stochastic, Mini batch e Full batch Gradient Descent\n",
        "In questo notebook faremo un confronto tra le tre varianti dell'algoritmo di ottimizzazione Gradient Descent\n",
        " * **Full Batch**: Il gradient descent utilizza tutti gli esempi per correggere i coefficienti.\n",
        " * **Stochastic**: Il gradient descent utilizza un solo esempio per volta per correggere i coefficienti.\n",
        " * **Mini Batch**: Il gradient descent utilizza un determinato numero di esempi per volta per coreggere i coefficienti.\n",
        " \n",
        "Per questo esempio utilizzeremo il dataset [Fashion MNIST](https://github.com/zalandoresearch/fashion-mnist), un dataset contenente capi di abbigliamento correttamente classificati, creato dalla popolare piattaforma di e-commerce Zalando.\n",
        "<br>\n",
        "<br>\n",
        "Cominciamo importando i moduli che ci serviranno"
      ]
    },
    {
      "cell_type": "code",
      "metadata": {
        "id": "ZO6s0cCnjoH0",
        "colab_type": "code",
        "colab": {}
      },
      "source": [
        "import numpy as np\n",
        "\n",
        "import tensorflow as tf\n",
        "import tensorflow_datasets as tfds\n",
        "\n",
        "from sklearn.model_selection import train_test_split\n",
        "import matplotlib.pyplot as plt\n",
        "\n",
        "from time import time"
      ],
      "execution_count": 0,
      "outputs": []
    },
    {
      "cell_type": "markdown",
      "metadata": {
        "id": "pPovTYhPjoH5",
        "colab_type": "text"
      },
      "source": [
        "## Preparazione dei dati\n",
        "Piuttosto che scaricare i files in formato binario dalla repository, possiamo caricare il dataset utilizzando tensorflow-datasets"
      ]
    },
    {
      "cell_type": "code",
      "metadata": {
        "id": "gGKy_e9ujoH5",
        "colab_type": "code",
        "colab": {
          "base_uri": "https://localhost:8080/",
          "height": 371,
          "referenced_widgets": [
            "9db15421c9fd4f0380958f1fe6410aa4",
            "1aac2d15fbaa4bf7a6e5096bc0ee1231",
            "0f4d2870d58840dc9451f168b94716cc",
            "150b9a52c050438784285a2dfd99aa74",
            "e3ae66f23ec74300bff4188c152d7e9d",
            "728f8fa511004cc2b1ac26d178e8c2d1",
            "22fa63c4deba4a2fab04a3e003a5c385",
            "9242ea2ee05d4f8e8ef76ff6d01d592e",
            "f417832f0921475d86334a4c3b927977",
            "e93f714678e24a52993c1b8ad9646e05",
            "37e7eb4eb2124247a3861b86897f48ae",
            "9b3bcb695ac94a4293297f70c30cef89",
            "ecd1ce605160492e917bd93ad0fdab50",
            "946b6d7870c6452e8d938bd4f87c8720",
            "41bef03409da468883d063e08c442ec2",
            "8beaebde5f024a79b83db94a2cfc443a",
            "9d8c0ba720344f39a6db72b6253ade19",
            "798a7a940420458e83568fcbb332f5b9",
            "e922758b8d6a480f953ee929d076998a",
            "90ad81c0f615469695746cab901b7663",
            "381972b0bf794adcaed1f0c5bd3cffc8",
            "aff35508508b4cdb983f13c8b640eedc",
            "e4982cef2b8244178116cd0cd1f1406e",
            "d2dc27b87f40424d92f2700531593dbc",
            "f07b49ef3c494fd296c8494d2f8acd22",
            "af35c59babaf49d49995c668f5966b0a",
            "d0296d1723444bfa8313f4a209352ff8",
            "48d354e8443b47a9803f11ce5f478e0b",
            "bec60e1bc1a340d58d1d81dd19e9b7d1",
            "a55a47ef51e34b97b9eb8b38b96240c3",
            "64e73d6cd5674ec1a4f339eefa08f288",
            "4d450879cfa54726bbea768cd95c8caf",
            "a42aed53f3ef46c7b1607c751118b8f5",
            "56236cf2ad194e3bbf4bef9db4ed5114",
            "e583f823a9dc4002b233c2e9bdf822d3",
            "002ba63d3c35450b96137818cb45ffd5",
            "d249afd3362644ae9617eb738f78d1d5",
            "da89f01b313e4e5ebdf178aded6321d5",
            "762b17d34c184f868c1ad24ad50b2cfd",
            "f4b88b837f704b2dafcf947dce44cdea",
            "f11fdec6ba46467bbbc5284d0dff044a",
            "92eaf4e05520413ba1b5f01196338771",
            "b00122ee8ac64cc3b578927f97223887",
            "f67d13167fcb4bf29898840504f621bf",
            "1f08d8a7424f46a88c0a36b299c53d66",
            "7011739d8ed84f8fa1d3028be9caa4ab",
            "1626cbfccef9475eaa8cb4a7635b492a",
            "68c3479c908344e3b849b948eadd3ffe",
            "f957a9b6cf5048cfb76689c85c8c3f0b",
            "556bc83810f14e0093731fc272ca0deb",
            "1cdbe1e9e00a48e1970b37e16a192460",
            "3646c241232a4f4c958a2cb739e16237",
            "e3af8f34cb894b31916d97945b2d702e",
            "667bb1dad75e4df2b31797f7400f7622",
            "bf3b099d79074431a15f5ffdea8c447e",
            "e8072c855b2042aba76e2f317c37efc6"
          ]
        },
        "outputId": "2df51fcd-f5dd-4867-d788-9920dee2b198"
      },
      "source": [
        "dataset = tfds.load('fashion_mnist', split='train', shuffle_files=True)"
      ],
      "execution_count": 3,
      "outputs": [
        {
          "output_type": "stream",
          "text": [
            "\u001b[1mDownloading and preparing dataset fashion_mnist/3.0.0 (download: 29.45 MiB, generated: Unknown size, total: 29.45 MiB) to /root/tensorflow_datasets/fashion_mnist/3.0.0...\u001b[0m\n"
          ],
          "name": "stdout"
        },
        {
          "output_type": "display_data",
          "data": {
            "application/vnd.jupyter.widget-view+json": {
              "model_id": "9db15421c9fd4f0380958f1fe6410aa4",
              "version_minor": 0,
              "version_major": 2
            },
            "text/plain": [
              "HBox(children=(FloatProgress(value=1.0, bar_style='info', description='Dl Completed...', max=1.0, style=Progre…"
            ]
          },
          "metadata": {
            "tags": []
          }
        },
        {
          "output_type": "display_data",
          "data": {
            "application/vnd.jupyter.widget-view+json": {
              "model_id": "f417832f0921475d86334a4c3b927977",
              "version_minor": 0,
              "version_major": 2
            },
            "text/plain": [
              "HBox(children=(FloatProgress(value=1.0, bar_style='info', description='Dl Size...', max=1.0, style=ProgressSty…"
            ]
          },
          "metadata": {
            "tags": []
          }
        },
        {
          "output_type": "display_data",
          "data": {
            "application/vnd.jupyter.widget-view+json": {
              "model_id": "9d8c0ba720344f39a6db72b6253ade19",
              "version_minor": 0,
              "version_major": 2
            },
            "text/plain": [
              "HBox(children=(FloatProgress(value=1.0, bar_style='info', description='Extraction completed...', max=1.0, styl…"
            ]
          },
          "metadata": {
            "tags": []
          }
        },
        {
          "output_type": "stream",
          "text": [
            "\n",
            "\n",
            "\n",
            "\n",
            "\n",
            "\n"
          ],
          "name": "stdout"
        },
        {
          "output_type": "display_data",
          "data": {
            "application/vnd.jupyter.widget-view+json": {
              "model_id": "f07b49ef3c494fd296c8494d2f8acd22",
              "version_minor": 0,
              "version_major": 2
            },
            "text/plain": [
              "HBox(children=(FloatProgress(value=1.0, bar_style='info', max=1.0), HTML(value='')))"
            ]
          },
          "metadata": {
            "tags": []
          }
        },
        {
          "output_type": "stream",
          "text": [
            "\rShuffling and writing examples to /root/tensorflow_datasets/fashion_mnist/3.0.0.incompleteU9NK68/fashion_mnist-train.tfrecord\n"
          ],
          "name": "stdout"
        },
        {
          "output_type": "display_data",
          "data": {
            "application/vnd.jupyter.widget-view+json": {
              "model_id": "a42aed53f3ef46c7b1607c751118b8f5",
              "version_minor": 0,
              "version_major": 2
            },
            "text/plain": [
              "HBox(children=(FloatProgress(value=0.0, max=60000.0), HTML(value='')))"
            ]
          },
          "metadata": {
            "tags": []
          }
        },
        {
          "output_type": "stream",
          "text": [
            "\r"
          ],
          "name": "stdout"
        },
        {
          "output_type": "display_data",
          "data": {
            "application/vnd.jupyter.widget-view+json": {
              "model_id": "f11fdec6ba46467bbbc5284d0dff044a",
              "version_minor": 0,
              "version_major": 2
            },
            "text/plain": [
              "HBox(children=(FloatProgress(value=1.0, bar_style='info', max=1.0), HTML(value='')))"
            ]
          },
          "metadata": {
            "tags": []
          }
        },
        {
          "output_type": "stream",
          "text": [
            "\rShuffling and writing examples to /root/tensorflow_datasets/fashion_mnist/3.0.0.incompleteU9NK68/fashion_mnist-test.tfrecord\n"
          ],
          "name": "stdout"
        },
        {
          "output_type": "display_data",
          "data": {
            "application/vnd.jupyter.widget-view+json": {
              "model_id": "f957a9b6cf5048cfb76689c85c8c3f0b",
              "version_minor": 0,
              "version_major": 2
            },
            "text/plain": [
              "HBox(children=(FloatProgress(value=0.0, max=10000.0), HTML(value='')))"
            ]
          },
          "metadata": {
            "tags": []
          }
        },
        {
          "output_type": "stream",
          "text": [
            "\u001b[1mDataset fashion_mnist downloaded and prepared to /root/tensorflow_datasets/fashion_mnist/3.0.0. Subsequent calls will reuse this data.\u001b[0m\n",
            "\r"
          ],
          "name": "stdout"
        }
      ]
    },
    {
      "cell_type": "markdown",
      "metadata": {
        "id": "egL9fer5oKH2",
        "colab_type": "text"
      },
      "source": [
        "Definiamo una funzione per importare il dataset all'interno di due array numpy, contenenti rispettivamente le immagini e le classi."
      ]
    },
    {
      "cell_type": "code",
      "metadata": {
        "id": "gV75QSobtFWG",
        "colab_type": "code",
        "colab": {}
      },
      "source": [
        "INDEX_TO_LABEL = [\"T-shirt/top\",\"Pantalone\",\"Pullover\",\"Vestito\",\"Cappotto\",\"Sandalo\",\"Maglietta\",\"Sneaker\",\"Borsa\",\"Stivaletto\"]"
      ],
      "execution_count": 0,
      "outputs": []
    },
    {
      "cell_type": "code",
      "metadata": {
        "id": "oblhB8M0n2X6",
        "colab_type": "code",
        "colab": {}
      },
      "source": [
        "def load_data(dataset, num_samples=None):\n",
        "  images = []\n",
        "  labels = []\n",
        "\n",
        "  for i, example in enumerate(tfds.as_numpy(dataset)):\n",
        "\n",
        "    if(num_samples!=None and i>=num_samples):\n",
        "      break\n",
        "\n",
        "    images.append(example[\"image\"])\n",
        "    labels.append(example[\"label\"])\n",
        "\n",
        "  images = np.array(images)\n",
        "  labels = np.array(labels)\n",
        "\n",
        "  return images, labels"
      ],
      "execution_count": 0,
      "outputs": []
    },
    {
      "cell_type": "code",
      "metadata": {
        "id": "7tU1ekYxn30b",
        "colab_type": "code",
        "colab": {
          "base_uri": "https://localhost:8080/",
          "height": 69
        },
        "outputId": "865f18ec-129f-459b-fb39-86392560eb86"
      },
      "source": [
        "images, labels = load_data(dataset)\n",
        "num_classes = np.unique(labels).shape[0]\n",
        "print(\"Numero di esempi: %d\" % images.shape[0])\n",
        "print(\"Dimensioni immagine: %s\" % str(images[0].shape))\n",
        "print(\"Classi = %d %s\" % (num_classes, np.unique(labels)))"
      ],
      "execution_count": 8,
      "outputs": [
        {
          "output_type": "stream",
          "text": [
            "Numero di esempi: 60000\n",
            "Dimensioni immagine: (28, 28, 1)\n",
            "Classi = 10 [0 1 2 3 4 5 6 7 8 9]\n"
          ],
          "name": "stdout"
        }
      ]
    },
    {
      "cell_type": "markdown",
      "metadata": {
        "id": "jLxHTRVWjoH7",
        "colab_type": "text"
      },
      "source": [
        "Le immagini appartengono ad una delle seguenti classi: *T-shirt/top, Pantalone, Pullover, Vestito, Cappotto, Sandalo, Maglietta, Sneaker, Borsa, Stivaletto*.\n",
        "<br><br>\n",
        "Dato che una singola osservazione è una matrice, dobbiamo spacchettare le righe all'interno di un singolo vettore. Per farlo possiamo utilizzare il metodo <span style=\"font-family: Monaco\">reshape</span>."
      ]
    },
    {
      "cell_type": "code",
      "metadata": {
        "id": "taJAVBUcjoH8",
        "colab_type": "code",
        "colab": {}
      },
      "source": [
        "X = images.reshape(images.shape[0], images.shape[1]*images.shape[2])\n",
        "y = tf.one_hot(labels, num_classes).numpy()"
      ],
      "execution_count": 0,
      "outputs": []
    },
    {
      "cell_type": "markdown",
      "metadata": {
        "id": "5Q835NVUjoH-",
        "colab_type": "text"
      },
      "source": [
        "Dato che una singola osservazione è una matrice, dobbiamo spacchettare le righe all'interno di un singolo vettore. Per farlo possiamo utilizzare il metodo <span style=\"font-family: Monaco\">reshape</span>."
      ]
    },
    {
      "cell_type": "code",
      "metadata": {
        "id": "zt3MayBEjoH-",
        "colab_type": "code",
        "colab": {
          "base_uri": "https://localhost:8080/",
          "height": 35
        },
        "outputId": "29236a8e-db34-4d2f-92ea-197b60bd94b0"
      },
      "source": [
        "X_train, X_test, y_train, y_test = train_test_split(X, y, test_size=0.3)\n",
        "print(\"Train set: %d esempi - Test set: %d esempi\" % (X_train.shape[0], X_test.shape[0]))"
      ],
      "execution_count": 25,
      "outputs": [
        {
          "output_type": "stream",
          "text": [
            "Train set: 42000 esempi - Test set: 18000 esempi\n"
          ],
          "name": "stdout"
        }
      ]
    },
    {
      "cell_type": "markdown",
      "metadata": {
        "id": "qQ_6wU_cjoIA",
        "colab_type": "text"
      },
      "source": [
        "Ogni pixel dell'immagine ha un valore che va da 0 a 255, eseguiamo la normalizzazione per ridurre questi valori in una scala da 0.0 a 1.0."
      ]
    },
    {
      "cell_type": "code",
      "metadata": {
        "id": "cjm32rc8joIA",
        "colab_type": "code",
        "colab": {}
      },
      "source": [
        "X_train = X_train/255\n",
        "X_test = X_test/255"
      ],
      "execution_count": 0,
      "outputs": []
    },
    {
      "cell_type": "code",
      "metadata": {
        "id": "z1yXWnaBqEXC",
        "colab_type": "code",
        "colab": {
          "base_uri": "https://localhost:8080/",
          "height": 283
        },
        "outputId": "09fd9c37-1a7d-4ec0-d165-4b97f9a0ab0b"
      },
      "source": [
        "plt.imshow(X_train[0].reshape(28,28))\n",
        "print(INDEX_TO_LABEL[np.argmax(y_train[0])])"
      ],
      "execution_count": 29,
      "outputs": [
        {
          "output_type": "stream",
          "text": [
            "Vestito\n"
          ],
          "name": "stdout"
        },
        {
          "output_type": "display_data",
          "data": {
            "image/png": "[encoded data removed]",
            "text/plain": [
              "<Figure size 432x288 with 1 Axes>"
            ]
          },
          "metadata": {
            "tags": [],
            "needs_background": "light"
          }
        }
      ]
    },
    {
      "cell_type": "markdown",
      "metadata": {
        "id": "E2ksH9X0u3Eg",
        "colab_type": "text"
      },
      "source": [
        "## Costruiamo la Rete Neurale"
      ]
    },
    {
      "cell_type": "code",
      "metadata": {
        "id": "CvRa0CcPjoIF",
        "colab_type": "code",
        "colab": {}
      },
      "source": [
        "def build_model():\n",
        "  model = tf.keras.models.Sequential()\n",
        "  model.add(tf.keras.layers.Dense(512, activation='relu', input_shape=[X_train.shape[1]]))\n",
        "  model.add(tf.keras.layers.Dense(256, activation='relu'))\n",
        "  model.add(tf.keras.layers.Dense(128, activation='relu'))\n",
        "  model.add(tf.keras.layers.Dense(num_classes, activation='softmax'))\n",
        "\n",
        "  model.compile(loss='categorical_crossentropy', optimizer='sgd', metrics=['accuracy'])\n",
        "\n",
        "  return model"
      ],
      "execution_count": 0,
      "outputs": []
    },
    {
      "cell_type": "code",
      "metadata": {
        "id": "d8OQGVvzxkqv",
        "colab_type": "code",
        "colab": {}
      },
      "source": [
        "def plot_loss_chart(title, figsize=(14,10), validation=True):\n",
        "\n",
        "  plt.figure(figsize=figsize)\n",
        "  plt.title(title)\n",
        "  plt.xlabel(\"Epoca\")\n",
        "  plt.ylabel(\"Log-Loss\")\n",
        "  \n",
        "  plt.plot(model.history.history['loss'], label=\"Training Loss\")\n",
        "\n",
        "  if(validation):\n",
        "    plt.plot(model.history.history['val_loss'], label=\"Validation Loss\")\n",
        "\n",
        "  plt.legend()"
      ],
      "execution_count": 0,
      "outputs": []
    },
    {
      "cell_type": "markdown",
      "metadata": {
        "id": "eSY4GKLejoIF",
        "colab_type": "text"
      },
      "source": [
        "## Full batch Gradient Descent\n",
        "Cominciamo dal Full batch Gradient Descent. Per prima cosa creiamo il modello, possiamo utilizzare la stessa architettura che abbiamo utilizzato in un notebook precedente per il MNIST."
      ]
    },
    {
      "cell_type": "code",
      "metadata": {
        "id": "6WOqStiouqdq",
        "colab_type": "code",
        "colab": {}
      },
      "source": [
        "model = build_model()"
      ],
      "execution_count": 0,
      "outputs": []
    },
    {
      "cell_type": "markdown",
      "metadata": {
        "id": "0OQNiLAjjoIL",
        "colab_type": "text"
      },
      "source": [
        "Adesso, per utilizzare il full batch gradient descent, non dobbiamo far altro che specificare all'interno del metodo  <span style=\"font-family: Monaco\">fit</span> che la dimensione di un batch deve essere pari al numero di osservazioni nel set di addestramento, in tal modo l'algoritmo di ottimizzazione utilizzerà un unico batch con tutte le osservazioni ad ogni iterazione del gradient descent.\n",
        "<br>\n",
        "Per poter costruire un grafico della funzione di costo ad ogni epoca dobbiamo tener traccia di questi valori, per farlo dobbiamo definire un callback."
      ]
    },
    {
      "cell_type": "code",
      "metadata": {
        "id": "k3t_H4dmjoIM",
        "colab_type": "code",
        "colab": {
          "base_uri": "https://localhost:8080/",
          "height": 1000
        },
        "outputId": "75541ea9-1f51-47d9-cfbb-4c50b4caf044"
      },
      "source": [
        "start_at = time()\n",
        "model.fit(X_train, y_train, batch_size=X_train.shape[0],\n",
        "          validation_data=(X_test, y_test), validation_batch_size = X_test.shape[0], \n",
        "          epochs=100, callbacks=[tf.keras.callbacks.History()])\n",
        "exec_time = time() - start_at\n",
        "\n",
        "print(\"Tempo di addestramento: %d minuti e %d secondi\" % (exec_time/60, exec_time%60))"
      ],
      "execution_count": 50,
      "outputs": [
        {
          "output_type": "stream",
          "text": [
            "Epoch 1/100\n",
            "1/1 [==============================] - 0s 161ms/step - loss: 2.3673 - accuracy: 0.1123 - val_loss: 2.3448 - val_accuracy: 0.1206\n",
            "Epoch 2/100\n",
            "1/1 [==============================] - 0s 72ms/step - loss: 2.3412 - accuracy: 0.1190 - val_loss: 2.3218 - val_accuracy: 0.1287\n",
            "Epoch 3/100\n",
            "1/1 [==============================] - 0s 72ms/step - loss: 2.3184 - accuracy: 0.1283 - val_loss: 2.3013 - val_accuracy: 0.1388\n",
            "Epoch 4/100\n",
            "1/1 [==============================] - 0s 75ms/step - loss: 2.2979 - accuracy: 0.1383 - val_loss: 2.2827 - val_accuracy: 0.1494\n",
            "Epoch 5/100\n",
            "1/1 [==============================] - 0s 69ms/step - loss: 2.2794 - accuracy: 0.1492 - val_loss: 2.2656 - val_accuracy: 0.1608\n",
            "Epoch 6/100\n",
            "1/1 [==============================] - 0s 76ms/step - loss: 2.2624 - accuracy: 0.1601 - val_loss: 2.2497 - val_accuracy: 0.1717\n",
            "Epoch 7/100\n",
            "1/1 [==============================] - 0s 77ms/step - loss: 2.2465 - accuracy: 0.1723 - val_loss: 2.2347 - val_accuracy: 0.1812\n",
            "Epoch 8/100\n",
            "1/1 [==============================] - 0s 70ms/step - loss: 2.2316 - accuracy: 0.1832 - val_loss: 2.2205 - val_accuracy: 0.1904\n",
            "Epoch 9/100\n",
            "1/1 [==============================] - 0s 72ms/step - loss: 2.2174 - accuracy: 0.1934 - val_loss: 2.2068 - val_accuracy: 0.1998\n",
            "Epoch 10/100\n",
            "1/1 [==============================] - 0s 81ms/step - loss: 2.2038 - accuracy: 0.2035 - val_loss: 2.1937 - val_accuracy: 0.2094\n",
            "Epoch 11/100\n",
            "1/1 [==============================] - 0s 75ms/step - loss: 2.1906 - accuracy: 0.2136 - val_loss: 2.1809 - val_accuracy: 0.2204\n",
            "Epoch 12/100\n",
            "1/1 [==============================] - 0s 76ms/step - loss: 2.1778 - accuracy: 0.2252 - val_loss: 2.1683 - val_accuracy: 0.2315\n",
            "Epoch 13/100\n",
            "1/1 [==============================] - 0s 71ms/step - loss: 2.1653 - accuracy: 0.2381 - val_loss: 2.1561 - val_accuracy: 0.2474\n",
            "Epoch 14/100\n",
            "1/1 [==============================] - 0s 69ms/step - loss: 2.1530 - accuracy: 0.2521 - val_loss: 2.1440 - val_accuracy: 0.2629\n",
            "Epoch 15/100\n",
            "1/1 [==============================] - 0s 68ms/step - loss: 2.1410 - accuracy: 0.2684 - val_loss: 2.1320 - val_accuracy: 0.2798\n",
            "Epoch 16/100\n",
            "1/1 [==============================] - 0s 74ms/step - loss: 2.1290 - accuracy: 0.2856 - val_loss: 2.1202 - val_accuracy: 0.2968\n",
            "Epoch 17/100\n",
            "1/1 [==============================] - 0s 77ms/step - loss: 2.1172 - accuracy: 0.3027 - val_loss: 2.1085 - val_accuracy: 0.3171\n",
            "Epoch 18/100\n",
            "1/1 [==============================] - 0s 81ms/step - loss: 2.1055 - accuracy: 0.3189 - val_loss: 2.0969 - val_accuracy: 0.3314\n",
            "Epoch 19/100\n",
            "1/1 [==============================] - 0s 84ms/step - loss: 2.0939 - accuracy: 0.3344 - val_loss: 2.0853 - val_accuracy: 0.3465\n",
            "Epoch 20/100\n",
            "1/1 [==============================] - 0s 78ms/step - loss: 2.0823 - accuracy: 0.3505 - val_loss: 2.0739 - val_accuracy: 0.3617\n",
            "Epoch 21/100\n",
            "1/1 [==============================] - 0s 80ms/step - loss: 2.0709 - accuracy: 0.3660 - val_loss: 2.0625 - val_accuracy: 0.3741\n",
            "Epoch 22/100\n",
            "1/1 [==============================] - 0s 78ms/step - loss: 2.0594 - accuracy: 0.3786 - val_loss: 2.0511 - val_accuracy: 0.3876\n",
            "Epoch 23/100\n",
            "1/1 [==============================] - 0s 69ms/step - loss: 2.0481 - accuracy: 0.3900 - val_loss: 2.0398 - val_accuracy: 0.3979\n",
            "Epoch 24/100\n",
            "1/1 [==============================] - 0s 81ms/step - loss: 2.0367 - accuracy: 0.4006 - val_loss: 2.0285 - val_accuracy: 0.4072\n",
            "Epoch 25/100\n",
            "1/1 [==============================] - 0s 71ms/step - loss: 2.0254 - accuracy: 0.4113 - val_loss: 2.0172 - val_accuracy: 0.4176\n",
            "Epoch 26/100\n",
            "1/1 [==============================] - 0s 86ms/step - loss: 2.0141 - accuracy: 0.4218 - val_loss: 2.0058 - val_accuracy: 0.4282\n",
            "Epoch 27/100\n",
            "1/1 [==============================] - 0s 68ms/step - loss: 2.0027 - accuracy: 0.4313 - val_loss: 1.9945 - val_accuracy: 0.4369\n",
            "Epoch 28/100\n",
            "1/1 [==============================] - 0s 73ms/step - loss: 1.9913 - accuracy: 0.4401 - val_loss: 1.9831 - val_accuracy: 0.4455\n",
            "Epoch 29/100\n",
            "1/1 [==============================] - 0s 67ms/step - loss: 1.9799 - accuracy: 0.4487 - val_loss: 1.9716 - val_accuracy: 0.4526\n",
            "Epoch 30/100\n",
            "1/1 [==============================] - 0s 69ms/step - loss: 1.9685 - accuracy: 0.4574 - val_loss: 1.9602 - val_accuracy: 0.4604\n",
            "Epoch 31/100\n",
            "1/1 [==============================] - 0s 91ms/step - loss: 1.9570 - accuracy: 0.4665 - val_loss: 1.9487 - val_accuracy: 0.4677\n",
            "Epoch 32/100\n",
            "1/1 [==============================] - 0s 70ms/step - loss: 1.9455 - accuracy: 0.4746 - val_loss: 1.9371 - val_accuracy: 0.4747\n",
            "Epoch 33/100\n",
            "1/1 [==============================] - 0s 75ms/step - loss: 1.9339 - accuracy: 0.4819 - val_loss: 1.9255 - val_accuracy: 0.4822\n",
            "Epoch 34/100\n",
            "1/1 [==============================] - 0s 77ms/step - loss: 1.9223 - accuracy: 0.4883 - val_loss: 1.9139 - val_accuracy: 0.4891\n",
            "Epoch 35/100\n",
            "1/1 [==============================] - 0s 77ms/step - loss: 1.9107 - accuracy: 0.4947 - val_loss: 1.9022 - val_accuracy: 0.4948\n",
            "Epoch 36/100\n",
            "1/1 [==============================] - 0s 72ms/step - loss: 1.8990 - accuracy: 0.5003 - val_loss: 1.8905 - val_accuracy: 0.5021\n",
            "Epoch 37/100\n",
            "1/1 [==============================] - 0s 71ms/step - loss: 1.8873 - accuracy: 0.5066 - val_loss: 1.8788 - val_accuracy: 0.5088\n",
            "Epoch 38/100\n",
            "1/1 [==============================] - 0s 72ms/step - loss: 1.8756 - accuracy: 0.5136 - val_loss: 1.8670 - val_accuracy: 0.5148\n",
            "Epoch 39/100\n",
            "1/1 [==============================] - 0s 73ms/step - loss: 1.8638 - accuracy: 0.5199 - val_loss: 1.8552 - val_accuracy: 0.5202\n",
            "Epoch 40/100\n",
            "1/1 [==============================] - 0s 69ms/step - loss: 1.8520 - accuracy: 0.5255 - val_loss: 1.8434 - val_accuracy: 0.5263\n",
            "Epoch 41/100\n",
            "1/1 [==============================] - 0s 87ms/step - loss: 1.8402 - accuracy: 0.5310 - val_loss: 1.8315 - val_accuracy: 0.5320\n",
            "Epoch 42/100\n",
            "1/1 [==============================] - 0s 81ms/step - loss: 1.8283 - accuracy: 0.5359 - val_loss: 1.8195 - val_accuracy: 0.5367\n",
            "Epoch 43/100\n",
            "1/1 [==============================] - 0s 80ms/step - loss: 1.8163 - accuracy: 0.5417 - val_loss: 1.8076 - val_accuracy: 0.5408\n",
            "Epoch 44/100\n",
            "1/1 [==============================] - 0s 73ms/step - loss: 1.8044 - accuracy: 0.5464 - val_loss: 1.7955 - val_accuracy: 0.5465\n",
            "Epoch 45/100\n",
            "1/1 [==============================] - 0s 69ms/step - loss: 1.7924 - accuracy: 0.5508 - val_loss: 1.7835 - val_accuracy: 0.5507\n",
            "Epoch 46/100\n",
            "1/1 [==============================] - 0s 73ms/step - loss: 1.7804 - accuracy: 0.5555 - val_loss: 1.7715 - val_accuracy: 0.5536\n",
            "Epoch 47/100\n",
            "1/1 [==============================] - 0s 74ms/step - loss: 1.7684 - accuracy: 0.5598 - val_loss: 1.7595 - val_accuracy: 0.5572\n",
            "Epoch 48/100\n",
            "1/1 [==============================] - 0s 69ms/step - loss: 1.7565 - accuracy: 0.5637 - val_loss: 1.7475 - val_accuracy: 0.5618\n",
            "Epoch 49/100\n",
            "1/1 [==============================] - 0s 74ms/step - loss: 1.7446 - accuracy: 0.5671 - val_loss: 1.7357 - val_accuracy: 0.5663\n",
            "Epoch 50/100\n",
            "1/1 [==============================] - 0s 69ms/step - loss: 1.7328 - accuracy: 0.5708 - val_loss: 1.7239 - val_accuracy: 0.5694\n",
            "Epoch 51/100\n",
            "1/1 [==============================] - 0s 77ms/step - loss: 1.7210 - accuracy: 0.5741 - val_loss: 1.7122 - val_accuracy: 0.5735\n",
            "Epoch 52/100\n",
            "1/1 [==============================] - 0s 72ms/step - loss: 1.7093 - accuracy: 0.5772 - val_loss: 1.7006 - val_accuracy: 0.5764\n",
            "Epoch 53/100\n",
            "1/1 [==============================] - 0s 80ms/step - loss: 1.6978 - accuracy: 0.5803 - val_loss: 1.6890 - val_accuracy: 0.5802\n",
            "Epoch 54/100\n",
            "1/1 [==============================] - 0s 74ms/step - loss: 1.6863 - accuracy: 0.5829 - val_loss: 1.6776 - val_accuracy: 0.5831\n",
            "Epoch 55/100\n",
            "1/1 [==============================] - 0s 78ms/step - loss: 1.6749 - accuracy: 0.5861 - val_loss: 1.6663 - val_accuracy: 0.5858\n",
            "Epoch 56/100\n",
            "1/1 [==============================] - 0s 70ms/step - loss: 1.6636 - accuracy: 0.5887 - val_loss: 1.6550 - val_accuracy: 0.5883\n",
            "Epoch 57/100\n",
            "1/1 [==============================] - 0s 68ms/step - loss: 1.6523 - accuracy: 0.5912 - val_loss: 1.6439 - val_accuracy: 0.5907\n",
            "Epoch 58/100\n",
            "1/1 [==============================] - 0s 72ms/step - loss: 1.6412 - accuracy: 0.5931 - val_loss: 1.6328 - val_accuracy: 0.5928\n",
            "Epoch 59/100\n",
            "1/1 [==============================] - 0s 67ms/step - loss: 1.6302 - accuracy: 0.5959 - val_loss: 1.6219 - val_accuracy: 0.5956\n",
            "Epoch 60/100\n",
            "1/1 [==============================] - 0s 85ms/step - loss: 1.6193 - accuracy: 0.5982 - val_loss: 1.6110 - val_accuracy: 0.5979\n",
            "Epoch 61/100\n",
            "1/1 [==============================] - 0s 77ms/step - loss: 1.6085 - accuracy: 0.6002 - val_loss: 1.6002 - val_accuracy: 0.6012\n",
            "Epoch 62/100\n",
            "1/1 [==============================] - 0s 72ms/step - loss: 1.5978 - accuracy: 0.6024 - val_loss: 1.5896 - val_accuracy: 0.6034\n",
            "Epoch 63/100\n",
            "1/1 [==============================] - 0s 73ms/step - loss: 1.5871 - accuracy: 0.6047 - val_loss: 1.5790 - val_accuracy: 0.6055\n",
            "Epoch 64/100\n",
            "1/1 [==============================] - 0s 70ms/step - loss: 1.5766 - accuracy: 0.6067 - val_loss: 1.5686 - val_accuracy: 0.6081\n",
            "Epoch 65/100\n",
            "1/1 [==============================] - 0s 77ms/step - loss: 1.5662 - accuracy: 0.6088 - val_loss: 1.5582 - val_accuracy: 0.6094\n",
            "Epoch 66/100\n",
            "1/1 [==============================] - 0s 72ms/step - loss: 1.5559 - accuracy: 0.6106 - val_loss: 1.5480 - val_accuracy: 0.6118\n",
            "Epoch 67/100\n",
            "1/1 [==============================] - 0s 68ms/step - loss: 1.5457 - accuracy: 0.6124 - val_loss: 1.5379 - val_accuracy: 0.6138\n",
            "Epoch 68/100\n",
            "1/1 [==============================] - 0s 71ms/step - loss: 1.5357 - accuracy: 0.6143 - val_loss: 1.5279 - val_accuracy: 0.6158\n",
            "Epoch 69/100\n",
            "1/1 [==============================] - 0s 70ms/step - loss: 1.5257 - accuracy: 0.6160 - val_loss: 1.5180 - val_accuracy: 0.6174\n",
            "Epoch 70/100\n",
            "1/1 [==============================] - 0s 74ms/step - loss: 1.5158 - accuracy: 0.6173 - val_loss: 1.5082 - val_accuracy: 0.6183\n",
            "Epoch 71/100\n",
            "1/1 [==============================] - 0s 77ms/step - loss: 1.5061 - accuracy: 0.6187 - val_loss: 1.4986 - val_accuracy: 0.6195\n",
            "Epoch 72/100\n",
            "1/1 [==============================] - 0s 89ms/step - loss: 1.4965 - accuracy: 0.6203 - val_loss: 1.4890 - val_accuracy: 0.6207\n",
            "Epoch 73/100\n",
            "1/1 [==============================] - 0s 70ms/step - loss: 1.4870 - accuracy: 0.6218 - val_loss: 1.4796 - val_accuracy: 0.6222\n",
            "Epoch 74/100\n",
            "1/1 [==============================] - 0s 81ms/step - loss: 1.4776 - accuracy: 0.6232 - val_loss: 1.4703 - val_accuracy: 0.6233\n",
            "Epoch 75/100\n",
            "1/1 [==============================] - 0s 68ms/step - loss: 1.4683 - accuracy: 0.6242 - val_loss: 1.4611 - val_accuracy: 0.6249\n",
            "Epoch 76/100\n",
            "1/1 [==============================] - 0s 77ms/step - loss: 1.4592 - accuracy: 0.6254 - val_loss: 1.4520 - val_accuracy: 0.6259\n",
            "Epoch 77/100\n",
            "1/1 [==============================] - 0s 70ms/step - loss: 1.4501 - accuracy: 0.6264 - val_loss: 1.4430 - val_accuracy: 0.6273\n",
            "Epoch 78/100\n",
            "1/1 [==============================] - 0s 81ms/step - loss: 1.4412 - accuracy: 0.6280 - val_loss: 1.4342 - val_accuracy: 0.6288\n",
            "Epoch 79/100\n",
            "1/1 [==============================] - 0s 81ms/step - loss: 1.4324 - accuracy: 0.6290 - val_loss: 1.4255 - val_accuracy: 0.6296\n",
            "Epoch 80/100\n",
            "1/1 [==============================] - 0s 68ms/step - loss: 1.4237 - accuracy: 0.6304 - val_loss: 1.4168 - val_accuracy: 0.6309\n",
            "Epoch 81/100\n",
            "1/1 [==============================] - 0s 81ms/step - loss: 1.4151 - accuracy: 0.6315 - val_loss: 1.4083 - val_accuracy: 0.6321\n",
            "Epoch 82/100\n",
            "1/1 [==============================] - 0s 255ms/step - loss: 1.4066 - accuracy: 0.6328 - val_loss: 1.3999 - val_accuracy: 0.6333\n",
            "Epoch 83/100\n",
            "1/1 [==============================] - 0s 68ms/step - loss: 1.3983 - accuracy: 0.6340 - val_loss: 1.3916 - val_accuracy: 0.6343\n",
            "Epoch 84/100\n",
            "1/1 [==============================] - 0s 66ms/step - loss: 1.3900 - accuracy: 0.6348 - val_loss: 1.3835 - val_accuracy: 0.6352\n",
            "Epoch 85/100\n",
            "1/1 [==============================] - 0s 67ms/step - loss: 1.3819 - accuracy: 0.6357 - val_loss: 1.3754 - val_accuracy: 0.6360\n",
            "Epoch 86/100\n",
            "1/1 [==============================] - 0s 72ms/step - loss: 1.3738 - accuracy: 0.6366 - val_loss: 1.3674 - val_accuracy: 0.6373\n",
            "Epoch 87/100\n",
            "1/1 [==============================] - 0s 72ms/step - loss: 1.3659 - accuracy: 0.6375 - val_loss: 1.3595 - val_accuracy: 0.6382\n",
            "Epoch 88/100\n",
            "1/1 [==============================] - 0s 71ms/step - loss: 1.3581 - accuracy: 0.6384 - val_loss: 1.3518 - val_accuracy: 0.6391\n",
            "Epoch 89/100\n",
            "1/1 [==============================] - 0s 69ms/step - loss: 1.3504 - accuracy: 0.6394 - val_loss: 1.3441 - val_accuracy: 0.6399\n",
            "Epoch 90/100\n",
            "1/1 [==============================] - 0s 65ms/step - loss: 1.3427 - accuracy: 0.6405 - val_loss: 1.3366 - val_accuracy: 0.6407\n",
            "Epoch 91/100\n",
            "1/1 [==============================] - 0s 65ms/step - loss: 1.3352 - accuracy: 0.6416 - val_loss: 1.3291 - val_accuracy: 0.6416\n",
            "Epoch 92/100\n",
            "1/1 [==============================] - 0s 75ms/step - loss: 1.3278 - accuracy: 0.6426 - val_loss: 1.3217 - val_accuracy: 0.6428\n",
            "Epoch 93/100\n",
            "1/1 [==============================] - 0s 67ms/step - loss: 1.3205 - accuracy: 0.6437 - val_loss: 1.3144 - val_accuracy: 0.6437\n",
            "Epoch 94/100\n",
            "1/1 [==============================] - 0s 76ms/step - loss: 1.3133 - accuracy: 0.6443 - val_loss: 1.3073 - val_accuracy: 0.6447\n",
            "Epoch 95/100\n",
            "1/1 [==============================] - 0s 67ms/step - loss: 1.3061 - accuracy: 0.6453 - val_loss: 1.3002 - val_accuracy: 0.6460\n",
            "Epoch 96/100\n",
            "1/1 [==============================] - 0s 67ms/step - loss: 1.2991 - accuracy: 0.6460 - val_loss: 1.2932 - val_accuracy: 0.6465\n",
            "Epoch 97/100\n",
            "1/1 [==============================] - 0s 74ms/step - loss: 1.2922 - accuracy: 0.6469 - val_loss: 1.2863 - val_accuracy: 0.6478\n",
            "Epoch 98/100\n",
            "1/1 [==============================] - 0s 74ms/step - loss: 1.2853 - accuracy: 0.6478 - val_loss: 1.2795 - val_accuracy: 0.6486\n",
            "Epoch 99/100\n",
            "1/1 [==============================] - 0s 66ms/step - loss: 1.2786 - accuracy: 0.6484 - val_loss: 1.2728 - val_accuracy: 0.6494\n",
            "Epoch 100/100\n",
            "1/1 [==============================] - 0s 67ms/step - loss: 1.2719 - accuracy: 0.6494 - val_loss: 1.2662 - val_accuracy: 0.6499\n",
            "Tempo di addestramento: 0 minuti e 15 secondi\n"
          ],
          "name": "stdout"
        }
      ]
    },
    {
      "cell_type": "markdown",
      "metadata": {
        "id": "7wqPjz7pjoIO",
        "colab_type": "text"
      },
      "source": [
        "I risultati del modello sono piuttosto scarsi, perché le 100 epoche non erano sufficenti a portare alla convergenza, infatti con ulteriori epoche il modello avrebbe continuato a migliorare.\n",
        "<br>\n",
        "Utilizziamo i valori della funzione di costo raccolti per visualizzare la sua variazione a ogni epoche su di un grafico."
      ]
    },
    {
      "cell_type": "code",
      "metadata": {
        "id": "4MMfTIPIjoIO",
        "colab_type": "code",
        "colab": {
          "base_uri": "https://localhost:8080/",
          "height": 621
        },
        "outputId": "27dbcfc2-6668-49d0-fd78-db578d54043b"
      },
      "source": [
        "plot_loss_chart(\"Full Batch Gradient Descent\")"
      ],
      "execution_count": 51,
      "outputs": [
        {
          "output_type": "display_data",
          "data": {
            "image/png": "[encoded data removed]",
            "text/plain": [
              "<Figure size 1008x720 with 1 Axes>"
            ]
          },
          "metadata": {
            "tags": [],
            "needs_background": "light"
          }
        }
      ]
    },
    {
      "cell_type": "markdown",
      "metadata": {
        "id": "exIEY5tdjoIQ",
        "colab_type": "text"
      },
      "source": [
        "Come possiamo osservare, l'errore del modello si è ridotto in maniera abbastanza pulita senza oscillazioni."
      ]
    },
    {
      "cell_type": "markdown",
      "metadata": {
        "id": "5H9J9oQ2joIR",
        "colab_type": "text"
      },
      "source": [
        "## Stochastic Gradient Descent\n",
        "Passiamo adesso all'estremo opposto del Gradient Descent: lo Stochastic Gradient Descent.<br> Per utilizzare lo Stochastic Gradient Descent, impostiamo come dimensione del singolo batch 1, in modo tale da far utilizzare all'algoritmo di ottimizzazione un esempio per volta. Facendo questo il gradient descent ad ogni epoca viene eseguito un numero di volte pari al numero di esempi nel set di addestramento (nel nostro caso 60.000), ne segue che il completamento di un'epoca richiederà molto più tempo rispetto al full batch. Per questo motivo impostiamo il numero di epoche a 5."
      ]
    },
    {
      "cell_type": "code",
      "metadata": {
        "id": "m-hqwQcjjoIR",
        "colab_type": "code",
        "colab": {
          "base_uri": "https://localhost:8080/",
          "height": 381
        },
        "outputId": "a873ec56-d22b-4439-83ed-17bf4e716970"
      },
      "source": [
        "model = build_model()\n",
        "\n",
        "start_at = time()\n",
        "model.fit(X_train, y_train, batch_size=1,\n",
        "          validation_data=(X_test, y_test), validation_batch_size = 1, \n",
        "          epochs=10, callbacks=[tf.keras.callbacks.History()])\n",
        "exec_time = time() - start_at\n",
        "\n",
        "print(\"Tempo di addestramento: %d minuti e %d secondi\" % (exec_time/60, exec_time%60))"
      ],
      "execution_count": 54,
      "outputs": [
        {
          "output_type": "stream",
          "text": [
            "Epoch 1/10\n",
            "42000/42000 [==============================] - 100s 2ms/step - loss: 0.5436 - accuracy: 0.7988 - val_loss: 0.4942 - val_accuracy: 0.8139\n",
            "Epoch 2/10\n",
            "42000/42000 [==============================] - 100s 2ms/step - loss: 0.4112 - accuracy: 0.8475 - val_loss: 0.3893 - val_accuracy: 0.8533\n",
            "Epoch 3/10\n",
            "42000/42000 [==============================] - 100s 2ms/step - loss: 0.3694 - accuracy: 0.8640 - val_loss: 0.3502 - val_accuracy: 0.8716\n",
            "Epoch 4/10\n",
            "42000/42000 [==============================] - 100s 2ms/step - loss: 0.3421 - accuracy: 0.8717 - val_loss: 0.3748 - val_accuracy: 0.8683\n",
            "Epoch 5/10\n",
            "42000/42000 [==============================] - 100s 2ms/step - loss: 0.3232 - accuracy: 0.8798 - val_loss: 0.3445 - val_accuracy: 0.8720\n",
            "Epoch 6/10\n",
            "42000/42000 [==============================] - 101s 2ms/step - loss: 0.3068 - accuracy: 0.8843 - val_loss: 0.3935 - val_accuracy: 0.8615\n",
            "Epoch 7/10\n",
            "42000/42000 [==============================] - 100s 2ms/step - loss: 0.2946 - accuracy: 0.8889 - val_loss: 0.3360 - val_accuracy: 0.8812\n",
            "Epoch 8/10\n",
            "42000/42000 [==============================] - 100s 2ms/step - loss: 0.2811 - accuracy: 0.8941 - val_loss: 0.3932 - val_accuracy: 0.8616\n",
            "Epoch 9/10\n",
            "42000/42000 [==============================] - 100s 2ms/step - loss: 0.2730 - accuracy: 0.8979 - val_loss: 0.3369 - val_accuracy: 0.8814\n",
            "Epoch 10/10\n",
            "42000/42000 [==============================] - 100s 2ms/step - loss: 0.2638 - accuracy: 0.9009 - val_loss: 0.3579 - val_accuracy: 0.8771\n",
            "Tempo di addestramento: 16 minuti e 40 secondi\n"
          ],
          "name": "stdout"
        }
      ]
    },
    {
      "cell_type": "code",
      "metadata": {
        "id": "UT9Kuhp-x_41",
        "colab_type": "code",
        "colab": {
          "base_uri": "https://localhost:8080/",
          "height": 621
        },
        "outputId": "0763d151-2ff6-4469-aafb-c50cc3ba11ce"
      },
      "source": [
        "plot_loss_chart(\"Stochastic Gradient Descent\")"
      ],
      "execution_count": 55,
      "outputs": [
        {
          "output_type": "display_data",
          "data": {
            "image/png": "[encoded data removed]",
            "text/plain": [
              "<Figure size 1008x720 with 1 Axes>"
            ]
          },
          "metadata": {
            "tags": [],
            "needs_background": "light"
          }
        }
      ]
    },
    {
      "cell_type": "markdown",
      "metadata": {
        "id": "vcG_z_XFjoIX",
        "colab_type": "text"
      },
      "source": [
        "Nel mio caso, l'esecuzione di 5 epoche di stochastic gradient descent ha richiesto 4 volte il tempo del full batch, ma l'addestramento si è concluso con un risultato decisamente migliore."
      ]
    },
    {
      "cell_type": "markdown",
      "metadata": {
        "id": "khC7SBJFjoIX",
        "colab_type": "text"
      },
      "source": [
        "## Mini Batch Gradient Descent\n",
        "Completiamo eseguendo la versione intermedia del Gradient Descent e anche quella più consigliata da utilizzare: il Mini Batch Gradient Descent."
      ]
    },
    {
      "cell_type": "markdown",
      "metadata": {
        "id": "a058FrXEjoIb",
        "colab_type": "text"
      },
      "source": [
        "Specifichiamo all'interno del metodo <span style=\"font-family: Monaco\">fit</span> la dimensione di ogni batch, i valori consigliati sono 32, 64, 128, 256 e 512.<br>\n",
        "Optiamo per 512."
      ]
    },
    {
      "cell_type": "code",
      "metadata": {
        "id": "WfeFIZA6joIc",
        "colab_type": "code",
        "colab": {},
        "outputId": "0ac56d10-cb0d-4d64-94f3-62bef2a47688"
      },
      "source": [
        "model = build_model()\n",
        "\n",
        "start_at = time()\n",
        "model.fit(X_train, y_train, epochs=10, batch_size=512, callbacks=[tf.keras.callbacks.History()])\n",
        "exec_time = time() - start_at\n",
        "\n",
        "print(\"Tempo di addestramento: %d minuti e %d secondi\" % (exec_time/60, exec_time%60))"
      ],
      "execution_count": 0,
      "outputs": [
        {
          "output_type": "stream",
          "text": [
            "Epoch 1/100\n",
            "60000/60000 [==============================] - 2s 28us/step - loss: 1.5249 - acc: 0.5611\n",
            "Epoch 2/100\n",
            "60000/60000 [==============================] - 1s 24us/step - loss: 0.9108 - acc: 0.7052\n",
            "Epoch 3/100\n",
            "60000/60000 [==============================] - 1s 24us/step - loss: 0.7514 - acc: 0.7560\n",
            "Epoch 4/100\n",
            "60000/60000 [==============================] - 1s 24us/step - loss: 0.6705 - acc: 0.7830\n",
            "Epoch 5/100\n",
            "60000/60000 [==============================] - 1s 24us/step - loss: 0.6190 - acc: 0.7984\n",
            "Epoch 6/100\n",
            "60000/60000 [==============================] - 1s 24us/step - loss: 0.5824 - acc: 0.8082\n",
            "Epoch 7/100\n",
            "60000/60000 [==============================] - 1s 24us/step - loss: 0.5563 - acc: 0.8148\n",
            "Epoch 8/100\n",
            "60000/60000 [==============================] - 1s 25us/step - loss: 0.5352 - acc: 0.8194\n",
            "Epoch 9/100\n",
            "60000/60000 [==============================] - 2s 25us/step - loss: 0.5185 - acc: 0.8246\n",
            "Epoch 10/100\n",
            "60000/60000 [==============================] - 2s 26us/step - loss: 0.5058 - acc: 0.8271\n",
            "Epoch 11/100\n",
            "60000/60000 [==============================] - 2s 27us/step - loss: 0.4945 - acc: 0.8307\n",
            "Epoch 12/100\n",
            "60000/60000 [==============================] - 2s 27us/step - loss: 0.4850 - acc: 0.8328\n",
            "Epoch 13/100\n",
            "60000/60000 [==============================] - 2s 28us/step - loss: 0.4758 - acc: 0.8360\n",
            "Epoch 14/100\n",
            "60000/60000 [==============================] - 2s 29us/step - loss: 0.4700 - acc: 0.8364\n",
            "Epoch 15/100\n",
            "60000/60000 [==============================] - 2s 28us/step - loss: 0.4616 - acc: 0.8408\n",
            "Epoch 16/100\n",
            "60000/60000 [==============================] - 2s 28us/step - loss: 0.4565 - acc: 0.8412\n",
            "Epoch 17/100\n",
            "60000/60000 [==============================] - 2s 28us/step - loss: 0.4525 - acc: 0.8431\n",
            "Epoch 18/100\n",
            "60000/60000 [==============================] - 2s 28us/step - loss: 0.4446 - acc: 0.8450\n",
            "Epoch 19/100\n",
            "60000/60000 [==============================] - 2s 28us/step - loss: 0.4402 - acc: 0.8467\n",
            "Epoch 20/100\n",
            "60000/60000 [==============================] - 2s 29us/step - loss: 0.4347 - acc: 0.8484\n",
            "Epoch 21/100\n",
            "60000/60000 [==============================] - 2s 29us/step - loss: 0.4320 - acc: 0.8492\n",
            "Epoch 22/100\n",
            "60000/60000 [==============================] - 2s 29us/step - loss: 0.4274 - acc: 0.8508\n",
            "Epoch 23/100\n",
            "60000/60000 [==============================] - 2s 29us/step - loss: 0.4232 - acc: 0.8514\n",
            "Epoch 24/100\n",
            "60000/60000 [==============================] - 2s 28us/step - loss: 0.4226 - acc: 0.8519\n",
            "Epoch 25/100\n",
            "60000/60000 [==============================] - 2s 29us/step - loss: 0.4201 - acc: 0.8528\n",
            "Epoch 26/100\n",
            "60000/60000 [==============================] - 2s 29us/step - loss: 0.4164 - acc: 0.8566\n",
            "Epoch 27/100\n",
            "60000/60000 [==============================] - 2s 30us/step - loss: 0.4097 - acc: 0.8579\n",
            "Epoch 28/100\n",
            "60000/60000 [==============================] - 2s 29us/step - loss: 0.4074 - acc: 0.8578\n",
            "Epoch 29/100\n",
            "60000/60000 [==============================] - 2s 30us/step - loss: 0.4077 - acc: 0.8580\n",
            "Epoch 30/100\n",
            "60000/60000 [==============================] - 2s 30us/step - loss: 0.4043 - acc: 0.8583\n",
            "Epoch 31/100\n",
            "60000/60000 [==============================] - 2s 30us/step - loss: 0.4001 - acc: 0.8609\n",
            "Epoch 32/100\n",
            "60000/60000 [==============================] - 2s 30us/step - loss: 0.3993 - acc: 0.8607\n",
            "Epoch 33/100\n",
            "60000/60000 [==============================] - 2s 30us/step - loss: 0.3956 - acc: 0.8623\n",
            "Epoch 34/100\n",
            "60000/60000 [==============================] - 2s 30us/step - loss: 0.3923 - acc: 0.8628\n",
            "Epoch 35/100\n",
            "60000/60000 [==============================] - 2s 30us/step - loss: 0.3946 - acc: 0.8620\n",
            "Epoch 36/100\n",
            "60000/60000 [==============================] - 2s 31us/step - loss: 0.3889 - acc: 0.8651\n",
            "Epoch 37/100\n",
            "60000/60000 [==============================] - 2s 30us/step - loss: 0.3869 - acc: 0.8657\n",
            "Epoch 38/100\n",
            "60000/60000 [==============================] - 2s 31us/step - loss: 0.3825 - acc: 0.8658\n",
            "Epoch 39/100\n",
            "60000/60000 [==============================] - 2s 31us/step - loss: 0.3820 - acc: 0.8664\n",
            "Epoch 40/100\n",
            "60000/60000 [==============================] - 2s 30us/step - loss: 0.3794 - acc: 0.8676\n",
            "Epoch 41/100\n",
            "60000/60000 [==============================] - 2s 30us/step - loss: 0.3773 - acc: 0.8685\n",
            "Epoch 42/100\n",
            "60000/60000 [==============================] - 2s 30us/step - loss: 0.3784 - acc: 0.8675\n",
            "Epoch 43/100\n",
            "60000/60000 [==============================] - 2s 31us/step - loss: 0.3753 - acc: 0.8677\n",
            "Epoch 44/100\n",
            "60000/60000 [==============================] - 2s 31us/step - loss: 0.3705 - acc: 0.8704\n",
            "Epoch 45/100\n",
            "60000/60000 [==============================] - 2s 31us/step - loss: 0.3690 - acc: 0.8708\n",
            "Epoch 46/100\n",
            "60000/60000 [==============================] - 2s 30us/step - loss: 0.3710 - acc: 0.8696\n",
            "Epoch 47/100\n",
            "60000/60000 [==============================] - 2s 30us/step - loss: 0.3663 - acc: 0.8722\n",
            "Epoch 48/100\n",
            "60000/60000 [==============================] - 2s 30us/step - loss: 0.3659 - acc: 0.8724\n",
            "Epoch 49/100\n",
            "60000/60000 [==============================] - 2s 30us/step - loss: 0.3646 - acc: 0.8716\n",
            "Epoch 50/100\n",
            "60000/60000 [==============================] - 2s 30us/step - loss: 0.3636 - acc: 0.8719\n",
            "Epoch 51/100\n",
            "60000/60000 [==============================] - 2s 30us/step - loss: 0.3609 - acc: 0.8737\n",
            "Epoch 52/100\n",
            "60000/60000 [==============================] - 2s 33us/step - loss: 0.3586 - acc: 0.8744\n",
            "Epoch 53/100\n",
            "60000/60000 [==============================] - 2s 35us/step - loss: 0.3587 - acc: 0.8741\n",
            "Epoch 54/100\n",
            "60000/60000 [==============================] - 2s 32us/step - loss: 0.3564 - acc: 0.8753\n",
            "Epoch 55/100\n",
            "60000/60000 [==============================] - 2s 31us/step - loss: 0.3528 - acc: 0.8767\n",
            "Epoch 56/100\n",
            "60000/60000 [==============================] - 2s 31us/step - loss: 0.3527 - acc: 0.8767\n",
            "Epoch 57/100\n",
            "60000/60000 [==============================] - 2s 30us/step - loss: 0.3515 - acc: 0.8768\n",
            "Epoch 58/100\n",
            "60000/60000 [==============================] - 2s 31us/step - loss: 0.3506 - acc: 0.8772\n",
            "Epoch 59/100\n",
            "60000/60000 [==============================] - 2s 31us/step - loss: 0.3484 - acc: 0.8776\n",
            "Epoch 60/100\n",
            "60000/60000 [==============================] - 2s 32us/step - loss: 0.3491 - acc: 0.8770\n",
            "Epoch 61/100\n",
            "60000/60000 [==============================] - 2s 31us/step - loss: 0.3457 - acc: 0.8786\n",
            "Epoch 62/100\n",
            "60000/60000 [==============================] - 2s 32us/step - loss: 0.3436 - acc: 0.8786\n",
            "Epoch 63/100\n",
            "60000/60000 [==============================] - 2s 32us/step - loss: 0.3436 - acc: 0.8788\n",
            "Epoch 64/100\n",
            "60000/60000 [==============================] - 2s 31us/step - loss: 0.3405 - acc: 0.8803\n",
            "Epoch 65/100\n",
            "60000/60000 [==============================] - 2s 32us/step - loss: 0.3386 - acc: 0.8805\n",
            "Epoch 66/100\n",
            "60000/60000 [==============================] - 2s 33us/step - loss: 0.3361 - acc: 0.8815\n",
            "Epoch 67/100\n",
            "60000/60000 [==============================] - 2s 32us/step - loss: 0.3383 - acc: 0.8813\n",
            "Epoch 68/100\n",
            "60000/60000 [==============================] - 2s 32us/step - loss: 0.3348 - acc: 0.8820\n",
            "Epoch 69/100\n",
            "60000/60000 [==============================] - 2s 32us/step - loss: 0.3361 - acc: 0.8809\n",
            "Epoch 70/100\n",
            "60000/60000 [==============================] - 2s 32us/step - loss: 0.3333 - acc: 0.8820\n",
            "Epoch 71/100\n",
            "60000/60000 [==============================] - 2s 32us/step - loss: 0.3325 - acc: 0.8822\n",
            "Epoch 72/100\n",
            "60000/60000 [==============================] - 2s 33us/step - loss: 0.3310 - acc: 0.8827\n",
            "Epoch 73/100\n",
            "60000/60000 [==============================] - 2s 33us/step - loss: 0.3309 - acc: 0.8824\n",
            "Epoch 74/100\n",
            "60000/60000 [==============================] - 2s 31us/step - loss: 0.3289 - acc: 0.8842\n",
            "Epoch 75/100\n",
            "60000/60000 [==============================] - 2s 32us/step - loss: 0.3258 - acc: 0.8839\n",
            "Epoch 76/100\n",
            "60000/60000 [==============================] - 2s 32us/step - loss: 0.3270 - acc: 0.8840\n",
            "Epoch 77/100\n",
            "60000/60000 [==============================] - 2s 32us/step - loss: 0.3244 - acc: 0.8857\n",
            "Epoch 78/100\n",
            "60000/60000 [==============================] - 2s 32us/step - loss: 0.3237 - acc: 0.8848\n",
            "Epoch 79/100\n",
            "60000/60000 [==============================] - 2s 32us/step - loss: 0.3225 - acc: 0.8853\n",
            "Epoch 80/100\n",
            "60000/60000 [==============================] - 2s 32us/step - loss: 0.3232 - acc: 0.8849\n",
            "Epoch 81/100\n",
            "60000/60000 [==============================] - 2s 33us/step - loss: 0.3207 - acc: 0.8863\n",
            "Epoch 82/100\n",
            "60000/60000 [==============================] - 2s 30us/step - loss: 0.3207 - acc: 0.8863\n",
            "Epoch 83/100\n",
            "60000/60000 [==============================] - 2s 30us/step - loss: 0.3203 - acc: 0.8864\n",
            "Epoch 84/100\n",
            "60000/60000 [==============================] - 2s 30us/step - loss: 0.3168 - acc: 0.8883\n",
            "Epoch 85/100\n",
            "60000/60000 [==============================] - 2s 30us/step - loss: 0.3155 - acc: 0.8888\n",
            "Epoch 86/100\n",
            "60000/60000 [==============================] - 2s 31us/step - loss: 0.3153 - acc: 0.8882\n",
            "Epoch 87/100\n",
            "60000/60000 [==============================] - 2s 30us/step - loss: 0.3123 - acc: 0.8899\n",
            "Epoch 88/100\n",
            "60000/60000 [==============================] - 2s 31us/step - loss: 0.3123 - acc: 0.8900\n",
            "Epoch 89/100\n",
            "60000/60000 [==============================] - 2s 31us/step - loss: 0.3106 - acc: 0.8896\n",
            "Epoch 90/100\n",
            "60000/60000 [==============================] - 2s 31us/step - loss: 0.3092 - acc: 0.8902\n",
            "Epoch 91/100\n",
            "60000/60000 [==============================] - 2s 31us/step - loss: 0.3110 - acc: 0.8896\n",
            "Epoch 92/100\n",
            "60000/60000 [==============================] - 2s 31us/step - loss: 0.3083 - acc: 0.8902\n",
            "Epoch 93/100\n",
            "60000/60000 [==============================] - 2s 31us/step - loss: 0.3091 - acc: 0.8901\n",
            "Epoch 94/100\n",
            "60000/60000 [==============================] - 2s 30us/step - loss: 0.3072 - acc: 0.8905\n",
            "Epoch 95/100\n",
            "60000/60000 [==============================] - 2s 31us/step - loss: 0.3062 - acc: 0.8913\n",
            "Epoch 96/100\n",
            "60000/60000 [==============================] - 2s 30us/step - loss: 0.3027 - acc: 0.8919\n",
            "Epoch 97/100\n",
            "60000/60000 [==============================] - 2s 31us/step - loss: 0.3036 - acc: 0.8929\n",
            "Epoch 98/100\n",
            "60000/60000 [==============================] - 2s 34us/step - loss: 0.3032 - acc: 0.8917\n",
            "Epoch 99/100\n",
            "60000/60000 [==============================] - 2s 33us/step - loss: 0.3010 - acc: 0.8927\n",
            "Epoch 100/100\n",
            "60000/60000 [==============================] - 2s 29us/step - loss: 0.3018 - acc: 0.8921\n",
            "Tempo di addestramento: 3 minuti e 0 secondi\n"
          ],
          "name": "stdout"
        }
      ]
    },
    {
      "cell_type": "markdown",
      "metadata": {
        "id": "_p7T8b54joId",
        "colab_type": "text"
      },
      "source": [
        "Il mini batch con un batch size di 512 ha richiesto poco più tempo del full batch e ha portato a un risultato finale decisamente migliore.\n",
        "Visualizziamo la variazione dell'errore ad ogni epoca."
      ]
    },
    {
      "cell_type": "code",
      "metadata": {
        "id": "cQWYUtYLjoId",
        "colab_type": "code",
        "colab": {},
        "outputId": "ec3bffcd-658e-482a-b465-f3c195713c83"
      },
      "source": [
        "plt.figure(figsize=(14,10))\n",
        "plt.title(\"Mini Batch Gradient Descent - Batch size = 512\")\n",
        "plt.xlabel(\"Epoca\")\n",
        "plt.ylabel(\"Log-Loss\")\n",
        "plt.plot(history.history['loss'])"
      ],
      "execution_count": 0,
      "outputs": [
        {
          "output_type": "execute_result",
          "data": {
            "text/plain": [
              "[<matplotlib.lines.Line2D at 0x116c3c7b8>]"
            ]
          },
          "metadata": {
            "tags": []
          },
          "execution_count": 12
        },
        {
          "output_type": "display_data",
          "data": {
            "image/png": "[encoded data removed]",
            "text/plain": [
              "<Figure size 1008x720 with 1 Axes>"
            ]
          },
          "metadata": {
            "tags": []
          }
        }
      ]
    },
    {
      "cell_type": "markdown",
      "metadata": {
        "id": "lhzh220vjoIg",
        "colab_type": "text"
      },
      "source": [
        "Come vedi l'errore si è ridotto molto in fretta durante le prime 10 epoche, dopodichè ha continuato a migliorare più lentamento oscillando leggermente."
      ]
    }
  ]
}