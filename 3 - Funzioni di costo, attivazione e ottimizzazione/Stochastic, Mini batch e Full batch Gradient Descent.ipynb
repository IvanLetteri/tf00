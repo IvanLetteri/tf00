{
  "nbformat": 4,
  "nbformat_minor": 0,
  "metadata": {
    "kernelspec": {
      "display_name": "Python 3",
      "language": "python",
      "name": "python3"
    },
    "language_info": {
      "codemirror_mode": {
        "name": "ipython",
        "version": 3
      },
      "file_extension": ".py",
      "mimetype": "text/x-python",
      "name": "python",
      "nbconvert_exporter": "python",
      "pygments_lexer": "ipython3",
      "version": "3.6.5"
    },
    "colab": {
      "name": "Stochastic, Mini batch e Full batch Gradient Descent.ipynb",
      "provenance": []
    },
    "accelerator": "GPU",
    "widgets": {
      "application/vnd.jupyter.widget-state+json": {
        "c74720bc59e241a28ca0c4904a67fa81": {
          "model_module": "@jupyter-widgets/controls",
          "model_name": "HBoxModel",
          "state": {
            "_view_name": "HBoxView",
            "_dom_classes": [],
            "_model_name": "HBoxModel",
            "_view_module": "@jupyter-widgets/controls",
            "_model_module_version": "1.5.0",
            "_view_count": null,
            "_view_module_version": "1.5.0",
            "box_style": "",
            "layout": "IPY_MODEL_ee53aac53e284f55a2970705cc9c649e",
            "_model_module": "@jupyter-widgets/controls",
            "children": [
              "IPY_MODEL_69fbcb3ebf26443fbfe7e31671598e77",
              "IPY_MODEL_c49c2f9ecaa84fffa201ecb33c0e3bf4"
            ]
          }
        },
        "ee53aac53e284f55a2970705cc9c649e": {
          "model_module": "@jupyter-widgets/base",
          "model_name": "LayoutModel",
          "state": {
            "_view_name": "LayoutView",
            "grid_template_rows": null,
            "right": null,
            "justify_content": null,
            "_view_module": "@jupyter-widgets/base",
            "overflow": null,
            "_model_module_version": "1.2.0",
            "_view_count": null,
            "flex_flow": null,
            "width": null,
            "min_width": null,
            "border": null,
            "align_items": null,
            "bottom": null,
            "_model_module": "@jupyter-widgets/base",
            "top": null,
            "grid_column": null,
            "overflow_y": null,
            "overflow_x": null,
            "grid_auto_flow": null,
            "grid_area": null,
            "grid_template_columns": null,
            "flex": null,
            "_model_name": "LayoutModel",
            "justify_items": null,
            "grid_row": null,
            "max_height": null,
            "align_content": null,
            "visibility": null,
            "align_self": null,
            "height": null,
            "min_height": null,
            "padding": null,
            "grid_auto_rows": null,
            "grid_gap": null,
            "max_width": null,
            "order": null,
            "_view_module_version": "1.2.0",
            "grid_template_areas": null,
            "object_position": null,
            "object_fit": null,
            "grid_auto_columns": null,
            "margin": null,
            "display": null,
            "left": null
          }
        },
        "69fbcb3ebf26443fbfe7e31671598e77": {
          "model_module": "@jupyter-widgets/controls",
          "model_name": "FloatProgressModel",
          "state": {
            "_view_name": "ProgressView",
            "style": "IPY_MODEL_134ee1bd30c74e0fbf79bb58dff8c6c2",
            "_dom_classes": [],
            "description": "Dl Completed...: 100%",
            "_model_name": "FloatProgressModel",
            "bar_style": "success",
            "max": 1,
            "_view_module": "@jupyter-widgets/controls",
            "_model_module_version": "1.5.0",
            "value": 1,
            "_view_count": null,
            "_view_module_version": "1.5.0",
            "orientation": "horizontal",
            "min": 0,
            "description_tooltip": null,
            "_model_module": "@jupyter-widgets/controls",
            "layout": "IPY_MODEL_502cd4d20e544aa9a4962477ba6a7e6a"
          }
        },
        "c49c2f9ecaa84fffa201ecb33c0e3bf4": {
          "model_module": "@jupyter-widgets/controls",
          "model_name": "HTMLModel",
          "state": {
            "_view_name": "HTMLView",
            "style": "IPY_MODEL_fe25301ec7c64790965239215df66e48",
            "_dom_classes": [],
            "description": "",
            "_model_name": "HTMLModel",
            "placeholder": "​",
            "_view_module": "@jupyter-widgets/controls",
            "_model_module_version": "1.5.0",
            "value": " 4/4 [00:01&lt;00:00,  2.89 url/s]",
            "_view_count": null,
            "_view_module_version": "1.5.0",
            "description_tooltip": null,
            "_model_module": "@jupyter-widgets/controls",
            "layout": "IPY_MODEL_f9ffc3905dd7407c8e1258f11bb4a17c"
          }
        },
        "134ee1bd30c74e0fbf79bb58dff8c6c2": {
          "model_module": "@jupyter-widgets/controls",
          "model_name": "ProgressStyleModel",
          "state": {
            "_view_name": "StyleView",
            "_model_name": "ProgressStyleModel",
            "description_width": "initial",
            "_view_module": "@jupyter-widgets/base",
            "_model_module_version": "1.5.0",
            "_view_count": null,
            "_view_module_version": "1.2.0",
            "bar_color": null,
            "_model_module": "@jupyter-widgets/controls"
          }
        },
        "502cd4d20e544aa9a4962477ba6a7e6a": {
          "model_module": "@jupyter-widgets/base",
          "model_name": "LayoutModel",
          "state": {
            "_view_name": "LayoutView",
            "grid_template_rows": null,
            "right": null,
            "justify_content": null,
            "_view_module": "@jupyter-widgets/base",
            "overflow": null,
            "_model_module_version": "1.2.0",
            "_view_count": null,
            "flex_flow": null,
            "width": null,
            "min_width": null,
            "border": null,
            "align_items": null,
            "bottom": null,
            "_model_module": "@jupyter-widgets/base",
            "top": null,
            "grid_column": null,
            "overflow_y": null,
            "overflow_x": null,
            "grid_auto_flow": null,
            "grid_area": null,
            "grid_template_columns": null,
            "flex": null,
            "_model_name": "LayoutModel",
            "justify_items": null,
            "grid_row": null,
            "max_height": null,
            "align_content": null,
            "visibility": null,
            "align_self": null,
            "height": null,
            "min_height": null,
            "padding": null,
            "grid_auto_rows": null,
            "grid_gap": null,
            "max_width": null,
            "order": null,
            "_view_module_version": "1.2.0",
            "grid_template_areas": null,
            "object_position": null,
            "object_fit": null,
            "grid_auto_columns": null,
            "margin": null,
            "display": null,
            "left": null
          }
        },
        "fe25301ec7c64790965239215df66e48": {
          "model_module": "@jupyter-widgets/controls",
          "model_name": "DescriptionStyleModel",
          "state": {
            "_view_name": "StyleView",
            "_model_name": "DescriptionStyleModel",
            "description_width": "",
            "_view_module": "@jupyter-widgets/base",
            "_model_module_version": "1.5.0",
            "_view_count": null,
            "_view_module_version": "1.2.0",
            "_model_module": "@jupyter-widgets/controls"
          }
        },
        "f9ffc3905dd7407c8e1258f11bb4a17c": {
          "model_module": "@jupyter-widgets/base",
          "model_name": "LayoutModel",
          "state": {
            "_view_name": "LayoutView",
            "grid_template_rows": null,
            "right": null,
            "justify_content": null,
            "_view_module": "@jupyter-widgets/base",
            "overflow": null,
            "_model_module_version": "1.2.0",
            "_view_count": null,
            "flex_flow": null,
            "width": null,
            "min_width": null,
            "border": null,
            "align_items": null,
            "bottom": null,
            "_model_module": "@jupyter-widgets/base",
            "top": null,
            "grid_column": null,
            "overflow_y": null,
            "overflow_x": null,
            "grid_auto_flow": null,
            "grid_area": null,
            "grid_template_columns": null,
            "flex": null,
            "_model_name": "LayoutModel",
            "justify_items": null,
            "grid_row": null,
            "max_height": null,
            "align_content": null,
            "visibility": null,
            "align_self": null,
            "height": null,
            "min_height": null,
            "padding": null,
            "grid_auto_rows": null,
            "grid_gap": null,
            "max_width": null,
            "order": null,
            "_view_module_version": "1.2.0",
            "grid_template_areas": null,
            "object_position": null,
            "object_fit": null,
            "grid_auto_columns": null,
            "margin": null,
            "display": null,
            "left": null
          }
        },
        "9725e3f53bc64d878e9a51210bbe5ccb": {
          "model_module": "@jupyter-widgets/controls",
          "model_name": "HBoxModel",
          "state": {
            "_view_name": "HBoxView",
            "_dom_classes": [],
            "_model_name": "HBoxModel",
            "_view_module": "@jupyter-widgets/controls",
            "_model_module_version": "1.5.0",
            "_view_count": null,
            "_view_module_version": "1.5.0",
            "box_style": "",
            "layout": "IPY_MODEL_361aca8bfad94f13bd7ae194c823b638",
            "_model_module": "@jupyter-widgets/controls",
            "children": [
              "IPY_MODEL_86248607c42046caa6fd52e7b4b40c5d",
              "IPY_MODEL_9693497b0e96402a935c63a2ff178856"
            ]
          }
        },
        "361aca8bfad94f13bd7ae194c823b638": {
          "model_module": "@jupyter-widgets/base",
          "model_name": "LayoutModel",
          "state": {
            "_view_name": "LayoutView",
            "grid_template_rows": null,
            "right": null,
            "justify_content": null,
            "_view_module": "@jupyter-widgets/base",
            "overflow": null,
            "_model_module_version": "1.2.0",
            "_view_count": null,
            "flex_flow": null,
            "width": null,
            "min_width": null,
            "border": null,
            "align_items": null,
            "bottom": null,
            "_model_module": "@jupyter-widgets/base",
            "top": null,
            "grid_column": null,
            "overflow_y": null,
            "overflow_x": null,
            "grid_auto_flow": null,
            "grid_area": null,
            "grid_template_columns": null,
            "flex": null,
            "_model_name": "LayoutModel",
            "justify_items": null,
            "grid_row": null,
            "max_height": null,
            "align_content": null,
            "visibility": null,
            "align_self": null,
            "height": null,
            "min_height": null,
            "padding": null,
            "grid_auto_rows": null,
            "grid_gap": null,
            "max_width": null,
            "order": null,
            "_view_module_version": "1.2.0",
            "grid_template_areas": null,
            "object_position": null,
            "object_fit": null,
            "grid_auto_columns": null,
            "margin": null,
            "display": null,
            "left": null
          }
        },
        "86248607c42046caa6fd52e7b4b40c5d": {
          "model_module": "@jupyter-widgets/controls",
          "model_name": "FloatProgressModel",
          "state": {
            "_view_name": "ProgressView",
            "style": "IPY_MODEL_3b026fe7ff544ec5846f3c4fa6258bff",
            "_dom_classes": [],
            "description": "Dl Size...: 100%",
            "_model_name": "FloatProgressModel",
            "bar_style": "success",
            "max": 1,
            "_view_module": "@jupyter-widgets/controls",
            "_model_module_version": "1.5.0",
            "value": 1,
            "_view_count": null,
            "_view_module_version": "1.5.0",
            "orientation": "horizontal",
            "min": 0,
            "description_tooltip": null,
            "_model_module": "@jupyter-widgets/controls",
            "layout": "IPY_MODEL_f3ef8d41bf1147bebab0673896b74df2"
          }
        },
        "9693497b0e96402a935c63a2ff178856": {
          "model_module": "@jupyter-widgets/controls",
          "model_name": "HTMLModel",
          "state": {
            "_view_name": "HTMLView",
            "style": "IPY_MODEL_b0d9c456be39491fa21d5733b10c0691",
            "_dom_classes": [],
            "description": "",
            "_model_name": "HTMLModel",
            "placeholder": "​",
            "_view_module": "@jupyter-widgets/controls",
            "_model_module_version": "1.5.0",
            "value": " 29/29 [00:01&lt;00:00, 21.58 MiB/s]",
            "_view_count": null,
            "_view_module_version": "1.5.0",
            "description_tooltip": null,
            "_model_module": "@jupyter-widgets/controls",
            "layout": "IPY_MODEL_5b82312991bd4074b969cb00da7d38c5"
          }
        },
        "3b026fe7ff544ec5846f3c4fa6258bff": {
          "model_module": "@jupyter-widgets/controls",
          "model_name": "ProgressStyleModel",
          "state": {
            "_view_name": "StyleView",
            "_model_name": "ProgressStyleModel",
            "description_width": "initial",
            "_view_module": "@jupyter-widgets/base",
            "_model_module_version": "1.5.0",
            "_view_count": null,
            "_view_module_version": "1.2.0",
            "bar_color": null,
            "_model_module": "@jupyter-widgets/controls"
          }
        },
        "f3ef8d41bf1147bebab0673896b74df2": {
          "model_module": "@jupyter-widgets/base",
          "model_name": "LayoutModel",
          "state": {
            "_view_name": "LayoutView",
            "grid_template_rows": null,
            "right": null,
            "justify_content": null,
            "_view_module": "@jupyter-widgets/base",
            "overflow": null,
            "_model_module_version": "1.2.0",
            "_view_count": null,
            "flex_flow": null,
            "width": null,
            "min_width": null,
            "border": null,
            "align_items": null,
            "bottom": null,
            "_model_module": "@jupyter-widgets/base",
            "top": null,
            "grid_column": null,
            "overflow_y": null,
            "overflow_x": null,
            "grid_auto_flow": null,
            "grid_area": null,
            "grid_template_columns": null,
            "flex": null,
            "_model_name": "LayoutModel",
            "justify_items": null,
            "grid_row": null,
            "max_height": null,
            "align_content": null,
            "visibility": null,
            "align_self": null,
            "height": null,
            "min_height": null,
            "padding": null,
            "grid_auto_rows": null,
            "grid_gap": null,
            "max_width": null,
            "order": null,
            "_view_module_version": "1.2.0",
            "grid_template_areas": null,
            "object_position": null,
            "object_fit": null,
            "grid_auto_columns": null,
            "margin": null,
            "display": null,
            "left": null
          }
        },
        "b0d9c456be39491fa21d5733b10c0691": {
          "model_module": "@jupyter-widgets/controls",
          "model_name": "DescriptionStyleModel",
          "state": {
            "_view_name": "StyleView",
            "_model_name": "DescriptionStyleModel",
            "description_width": "",
            "_view_module": "@jupyter-widgets/base",
            "_model_module_version": "1.5.0",
            "_view_count": null,
            "_view_module_version": "1.2.0",
            "_model_module": "@jupyter-widgets/controls"
          }
        },
        "5b82312991bd4074b969cb00da7d38c5": {
          "model_module": "@jupyter-widgets/base",
          "model_name": "LayoutModel",
          "state": {
            "_view_name": "LayoutView",
            "grid_template_rows": null,
            "right": null,
            "justify_content": null,
            "_view_module": "@jupyter-widgets/base",
            "overflow": null,
            "_model_module_version": "1.2.0",
            "_view_count": null,
            "flex_flow": null,
            "width": null,
            "min_width": null,
            "border": null,
            "align_items": null,
            "bottom": null,
            "_model_module": "@jupyter-widgets/base",
            "top": null,
            "grid_column": null,
            "overflow_y": null,
            "overflow_x": null,
            "grid_auto_flow": null,
            "grid_area": null,
            "grid_template_columns": null,
            "flex": null,
            "_model_name": "LayoutModel",
            "justify_items": null,
            "grid_row": null,
            "max_height": null,
            "align_content": null,
            "visibility": null,
            "align_self": null,
            "height": null,
            "min_height": null,
            "padding": null,
            "grid_auto_rows": null,
            "grid_gap": null,
            "max_width": null,
            "order": null,
            "_view_module_version": "1.2.0",
            "grid_template_areas": null,
            "object_position": null,
            "object_fit": null,
            "grid_auto_columns": null,
            "margin": null,
            "display": null,
            "left": null
          }
        },
        "12f625d89b70498aaa06296abc32b318": {
          "model_module": "@jupyter-widgets/controls",
          "model_name": "HBoxModel",
          "state": {
            "_view_name": "HBoxView",
            "_dom_classes": [],
            "_model_name": "HBoxModel",
            "_view_module": "@jupyter-widgets/controls",
            "_model_module_version": "1.5.0",
            "_view_count": null,
            "_view_module_version": "1.5.0",
            "box_style": "",
            "layout": "IPY_MODEL_ef963b4fd9c64468940fc4adab45843e",
            "_model_module": "@jupyter-widgets/controls",
            "children": [
              "IPY_MODEL_9e976fe8113a4bbb828b09ed1057d7ed",
              "IPY_MODEL_569c26c698124257a6f4b18816ed9987"
            ]
          }
        },
        "ef963b4fd9c64468940fc4adab45843e": {
          "model_module": "@jupyter-widgets/base",
          "model_name": "LayoutModel",
          "state": {
            "_view_name": "LayoutView",
            "grid_template_rows": null,
            "right": null,
            "justify_content": null,
            "_view_module": "@jupyter-widgets/base",
            "overflow": null,
            "_model_module_version": "1.2.0",
            "_view_count": null,
            "flex_flow": null,
            "width": null,
            "min_width": null,
            "border": null,
            "align_items": null,
            "bottom": null,
            "_model_module": "@jupyter-widgets/base",
            "top": null,
            "grid_column": null,
            "overflow_y": null,
            "overflow_x": null,
            "grid_auto_flow": null,
            "grid_area": null,
            "grid_template_columns": null,
            "flex": null,
            "_model_name": "LayoutModel",
            "justify_items": null,
            "grid_row": null,
            "max_height": null,
            "align_content": null,
            "visibility": null,
            "align_self": null,
            "height": null,
            "min_height": null,
            "padding": null,
            "grid_auto_rows": null,
            "grid_gap": null,
            "max_width": null,
            "order": null,
            "_view_module_version": "1.2.0",
            "grid_template_areas": null,
            "object_position": null,
            "object_fit": null,
            "grid_auto_columns": null,
            "margin": null,
            "display": null,
            "left": null
          }
        },
        "9e976fe8113a4bbb828b09ed1057d7ed": {
          "model_module": "@jupyter-widgets/controls",
          "model_name": "FloatProgressModel",
          "state": {
            "_view_name": "ProgressView",
            "style": "IPY_MODEL_c08e584849e94f14841c55018b0ba1f9",
            "_dom_classes": [],
            "description": "Extraction completed...: 100%",
            "_model_name": "FloatProgressModel",
            "bar_style": "success",
            "max": 1,
            "_view_module": "@jupyter-widgets/controls",
            "_model_module_version": "1.5.0",
            "value": 1,
            "_view_count": null,
            "_view_module_version": "1.5.0",
            "orientation": "horizontal",
            "min": 0,
            "description_tooltip": null,
            "_model_module": "@jupyter-widgets/controls",
            "layout": "IPY_MODEL_f3ef300466d549bba9899f233810b7c4"
          }
        },
        "569c26c698124257a6f4b18816ed9987": {
          "model_module": "@jupyter-widgets/controls",
          "model_name": "HTMLModel",
          "state": {
            "_view_name": "HTMLView",
            "style": "IPY_MODEL_12fd699be83943498e8124ff6690fde3",
            "_dom_classes": [],
            "description": "",
            "_model_name": "HTMLModel",
            "placeholder": "​",
            "_view_module": "@jupyter-widgets/controls",
            "_model_module_version": "1.5.0",
            "value": " 4/4 [00:01&lt;00:00,  3.08 file/s]",
            "_view_count": null,
            "_view_module_version": "1.5.0",
            "description_tooltip": null,
            "_model_module": "@jupyter-widgets/controls",
            "layout": "IPY_MODEL_87ba09d588654ed895af9a1c44957e1d"
          }
        },
        "c08e584849e94f14841c55018b0ba1f9": {
          "model_module": "@jupyter-widgets/controls",
          "model_name": "ProgressStyleModel",
          "state": {
            "_view_name": "StyleView",
            "_model_name": "ProgressStyleModel",
            "description_width": "initial",
            "_view_module": "@jupyter-widgets/base",
            "_model_module_version": "1.5.0",
            "_view_count": null,
            "_view_module_version": "1.2.0",
            "bar_color": null,
            "_model_module": "@jupyter-widgets/controls"
          }
        },
        "f3ef300466d549bba9899f233810b7c4": {
          "model_module": "@jupyter-widgets/base",
          "model_name": "LayoutModel",
          "state": {
            "_view_name": "LayoutView",
            "grid_template_rows": null,
            "right": null,
            "justify_content": null,
            "_view_module": "@jupyter-widgets/base",
            "overflow": null,
            "_model_module_version": "1.2.0",
            "_view_count": null,
            "flex_flow": null,
            "width": null,
            "min_width": null,
            "border": null,
            "align_items": null,
            "bottom": null,
            "_model_module": "@jupyter-widgets/base",
            "top": null,
            "grid_column": null,
            "overflow_y": null,
            "overflow_x": null,
            "grid_auto_flow": null,
            "grid_area": null,
            "grid_template_columns": null,
            "flex": null,
            "_model_name": "LayoutModel",
            "justify_items": null,
            "grid_row": null,
            "max_height": null,
            "align_content": null,
            "visibility": null,
            "align_self": null,
            "height": null,
            "min_height": null,
            "padding": null,
            "grid_auto_rows": null,
            "grid_gap": null,
            "max_width": null,
            "order": null,
            "_view_module_version": "1.2.0",
            "grid_template_areas": null,
            "object_position": null,
            "object_fit": null,
            "grid_auto_columns": null,
            "margin": null,
            "display": null,
            "left": null
          }
        },
        "12fd699be83943498e8124ff6690fde3": {
          "model_module": "@jupyter-widgets/controls",
          "model_name": "DescriptionStyleModel",
          "state": {
            "_view_name": "StyleView",
            "_model_name": "DescriptionStyleModel",
            "description_width": "",
            "_view_module": "@jupyter-widgets/base",
            "_model_module_version": "1.5.0",
            "_view_count": null,
            "_view_module_version": "1.2.0",
            "_model_module": "@jupyter-widgets/controls"
          }
        },
        "87ba09d588654ed895af9a1c44957e1d": {
          "model_module": "@jupyter-widgets/base",
          "model_name": "LayoutModel",
          "state": {
            "_view_name": "LayoutView",
            "grid_template_rows": null,
            "right": null,
            "justify_content": null,
            "_view_module": "@jupyter-widgets/base",
            "overflow": null,
            "_model_module_version": "1.2.0",
            "_view_count": null,
            "flex_flow": null,
            "width": null,
            "min_width": null,
            "border": null,
            "align_items": null,
            "bottom": null,
            "_model_module": "@jupyter-widgets/base",
            "top": null,
            "grid_column": null,
            "overflow_y": null,
            "overflow_x": null,
            "grid_auto_flow": null,
            "grid_area": null,
            "grid_template_columns": null,
            "flex": null,
            "_model_name": "LayoutModel",
            "justify_items": null,
            "grid_row": null,
            "max_height": null,
            "align_content": null,
            "visibility": null,
            "align_self": null,
            "height": null,
            "min_height": null,
            "padding": null,
            "grid_auto_rows": null,
            "grid_gap": null,
            "max_width": null,
            "order": null,
            "_view_module_version": "1.2.0",
            "grid_template_areas": null,
            "object_position": null,
            "object_fit": null,
            "grid_auto_columns": null,
            "margin": null,
            "display": null,
            "left": null
          }
        },
        "eea39823734c44a6a30a8e26924aad5c": {
          "model_module": "@jupyter-widgets/controls",
          "model_name": "HBoxModel",
          "state": {
            "_view_name": "HBoxView",
            "_dom_classes": [],
            "_model_name": "HBoxModel",
            "_view_module": "@jupyter-widgets/controls",
            "_model_module_version": "1.5.0",
            "_view_count": null,
            "_view_module_version": "1.5.0",
            "box_style": "",
            "layout": "IPY_MODEL_1e341e9a614141858430de6e6f73ccf8",
            "_model_module": "@jupyter-widgets/controls",
            "children": [
              "IPY_MODEL_e6a617c123e24f23a4f813a75caf2eff",
              "IPY_MODEL_a9eca978bb9249e6b0d78925dbe1f9cb"
            ]
          }
        },
        "1e341e9a614141858430de6e6f73ccf8": {
          "model_module": "@jupyter-widgets/base",
          "model_name": "LayoutModel",
          "state": {
            "_view_name": "LayoutView",
            "grid_template_rows": null,
            "right": null,
            "justify_content": null,
            "_view_module": "@jupyter-widgets/base",
            "overflow": null,
            "_model_module_version": "1.2.0",
            "_view_count": null,
            "flex_flow": null,
            "width": null,
            "min_width": null,
            "border": null,
            "align_items": null,
            "bottom": null,
            "_model_module": "@jupyter-widgets/base",
            "top": null,
            "grid_column": null,
            "overflow_y": null,
            "overflow_x": null,
            "grid_auto_flow": null,
            "grid_area": null,
            "grid_template_columns": null,
            "flex": null,
            "_model_name": "LayoutModel",
            "justify_items": null,
            "grid_row": null,
            "max_height": null,
            "align_content": null,
            "visibility": null,
            "align_self": null,
            "height": null,
            "min_height": null,
            "padding": null,
            "grid_auto_rows": null,
            "grid_gap": null,
            "max_width": null,
            "order": null,
            "_view_module_version": "1.2.0",
            "grid_template_areas": null,
            "object_position": null,
            "object_fit": null,
            "grid_auto_columns": null,
            "margin": null,
            "display": null,
            "left": null
          }
        },
        "e6a617c123e24f23a4f813a75caf2eff": {
          "model_module": "@jupyter-widgets/controls",
          "model_name": "FloatProgressModel",
          "state": {
            "_view_name": "ProgressView",
            "style": "IPY_MODEL_99801dc957d243fba0adafc9dac0512e",
            "_dom_classes": [],
            "description": "",
            "_model_name": "FloatProgressModel",
            "bar_style": "info",
            "max": 1,
            "_view_module": "@jupyter-widgets/controls",
            "_model_module_version": "1.5.0",
            "value": 1,
            "_view_count": null,
            "_view_module_version": "1.5.0",
            "orientation": "horizontal",
            "min": 0,
            "description_tooltip": null,
            "_model_module": "@jupyter-widgets/controls",
            "layout": "IPY_MODEL_d66ccb15957f4f3eafb01ad69a3d49b2"
          }
        },
        "a9eca978bb9249e6b0d78925dbe1f9cb": {
          "model_module": "@jupyter-widgets/controls",
          "model_name": "HTMLModel",
          "state": {
            "_view_name": "HTMLView",
            "style": "IPY_MODEL_5f2df3d7448245af86ccf2f770b46e3e",
            "_dom_classes": [],
            "description": "",
            "_model_name": "HTMLModel",
            "placeholder": "​",
            "_view_module": "@jupyter-widgets/controls",
            "_model_module_version": "1.5.0",
            "value": " 60000/0 [00:37&lt;00:00, 1981.61 examples/s]",
            "_view_count": null,
            "_view_module_version": "1.5.0",
            "description_tooltip": null,
            "_model_module": "@jupyter-widgets/controls",
            "layout": "IPY_MODEL_edd6355c705a48c682c8d30139f3bde3"
          }
        },
        "99801dc957d243fba0adafc9dac0512e": {
          "model_module": "@jupyter-widgets/controls",
          "model_name": "ProgressStyleModel",
          "state": {
            "_view_name": "StyleView",
            "_model_name": "ProgressStyleModel",
            "description_width": "initial",
            "_view_module": "@jupyter-widgets/base",
            "_model_module_version": "1.5.0",
            "_view_count": null,
            "_view_module_version": "1.2.0",
            "bar_color": null,
            "_model_module": "@jupyter-widgets/controls"
          }
        },
        "d66ccb15957f4f3eafb01ad69a3d49b2": {
          "model_module": "@jupyter-widgets/base",
          "model_name": "LayoutModel",
          "state": {
            "_view_name": "LayoutView",
            "grid_template_rows": null,
            "right": null,
            "justify_content": null,
            "_view_module": "@jupyter-widgets/base",
            "overflow": null,
            "_model_module_version": "1.2.0",
            "_view_count": null,
            "flex_flow": null,
            "width": null,
            "min_width": null,
            "border": null,
            "align_items": null,
            "bottom": null,
            "_model_module": "@jupyter-widgets/base",
            "top": null,
            "grid_column": null,
            "overflow_y": null,
            "overflow_x": null,
            "grid_auto_flow": null,
            "grid_area": null,
            "grid_template_columns": null,
            "flex": null,
            "_model_name": "LayoutModel",
            "justify_items": null,
            "grid_row": null,
            "max_height": null,
            "align_content": null,
            "visibility": null,
            "align_self": null,
            "height": null,
            "min_height": null,
            "padding": null,
            "grid_auto_rows": null,
            "grid_gap": null,
            "max_width": null,
            "order": null,
            "_view_module_version": "1.2.0",
            "grid_template_areas": null,
            "object_position": null,
            "object_fit": null,
            "grid_auto_columns": null,
            "margin": null,
            "display": null,
            "left": null
          }
        },
        "5f2df3d7448245af86ccf2f770b46e3e": {
          "model_module": "@jupyter-widgets/controls",
          "model_name": "DescriptionStyleModel",
          "state": {
            "_view_name": "StyleView",
            "_model_name": "DescriptionStyleModel",
            "description_width": "",
            "_view_module": "@jupyter-widgets/base",
            "_model_module_version": "1.5.0",
            "_view_count": null,
            "_view_module_version": "1.2.0",
            "_model_module": "@jupyter-widgets/controls"
          }
        },
        "edd6355c705a48c682c8d30139f3bde3": {
          "model_module": "@jupyter-widgets/base",
          "model_name": "LayoutModel",
          "state": {
            "_view_name": "LayoutView",
            "grid_template_rows": null,
            "right": null,
            "justify_content": null,
            "_view_module": "@jupyter-widgets/base",
            "overflow": null,
            "_model_module_version": "1.2.0",
            "_view_count": null,
            "flex_flow": null,
            "width": null,
            "min_width": null,
            "border": null,
            "align_items": null,
            "bottom": null,
            "_model_module": "@jupyter-widgets/base",
            "top": null,
            "grid_column": null,
            "overflow_y": null,
            "overflow_x": null,
            "grid_auto_flow": null,
            "grid_area": null,
            "grid_template_columns": null,
            "flex": null,
            "_model_name": "LayoutModel",
            "justify_items": null,
            "grid_row": null,
            "max_height": null,
            "align_content": null,
            "visibility": null,
            "align_self": null,
            "height": null,
            "min_height": null,
            "padding": null,
            "grid_auto_rows": null,
            "grid_gap": null,
            "max_width": null,
            "order": null,
            "_view_module_version": "1.2.0",
            "grid_template_areas": null,
            "object_position": null,
            "object_fit": null,
            "grid_auto_columns": null,
            "margin": null,
            "display": null,
            "left": null
          }
        },
        "c45d45348cf14723854cfbbc46da7bb3": {
          "model_module": "@jupyter-widgets/controls",
          "model_name": "HBoxModel",
          "state": {
            "_view_name": "HBoxView",
            "_dom_classes": [],
            "_model_name": "HBoxModel",
            "_view_module": "@jupyter-widgets/controls",
            "_model_module_version": "1.5.0",
            "_view_count": null,
            "_view_module_version": "1.5.0",
            "box_style": "",
            "layout": "IPY_MODEL_d50e0308b2ed466694e327cb979c9fbf",
            "_model_module": "@jupyter-widgets/controls",
            "children": [
              "IPY_MODEL_7e44a018cde24d27843461aea2c4c63f",
              "IPY_MODEL_849e8e05d9e1455280986016cc0b1841"
            ]
          }
        },
        "d50e0308b2ed466694e327cb979c9fbf": {
          "model_module": "@jupyter-widgets/base",
          "model_name": "LayoutModel",
          "state": {
            "_view_name": "LayoutView",
            "grid_template_rows": null,
            "right": null,
            "justify_content": null,
            "_view_module": "@jupyter-widgets/base",
            "overflow": null,
            "_model_module_version": "1.2.0",
            "_view_count": null,
            "flex_flow": null,
            "width": null,
            "min_width": null,
            "border": null,
            "align_items": null,
            "bottom": null,
            "_model_module": "@jupyter-widgets/base",
            "top": null,
            "grid_column": null,
            "overflow_y": null,
            "overflow_x": null,
            "grid_auto_flow": null,
            "grid_area": null,
            "grid_template_columns": null,
            "flex": null,
            "_model_name": "LayoutModel",
            "justify_items": null,
            "grid_row": null,
            "max_height": null,
            "align_content": null,
            "visibility": null,
            "align_self": null,
            "height": null,
            "min_height": null,
            "padding": null,
            "grid_auto_rows": null,
            "grid_gap": null,
            "max_width": null,
            "order": null,
            "_view_module_version": "1.2.0",
            "grid_template_areas": null,
            "object_position": null,
            "object_fit": null,
            "grid_auto_columns": null,
            "margin": null,
            "display": null,
            "left": null
          }
        },
        "7e44a018cde24d27843461aea2c4c63f": {
          "model_module": "@jupyter-widgets/controls",
          "model_name": "FloatProgressModel",
          "state": {
            "_view_name": "ProgressView",
            "style": "IPY_MODEL_3f91d4408b3546d29236f2ca2110ec58",
            "_dom_classes": [],
            "description": " 84%",
            "_model_name": "FloatProgressModel",
            "bar_style": "danger",
            "max": 60000,
            "_view_module": "@jupyter-widgets/controls",
            "_model_module_version": "1.5.0",
            "value": 50598,
            "_view_count": null,
            "_view_module_version": "1.5.0",
            "orientation": "horizontal",
            "min": 0,
            "description_tooltip": null,
            "_model_module": "@jupyter-widgets/controls",
            "layout": "IPY_MODEL_d006c7baf2f74f07874f9726170f1c87"
          }
        },
        "849e8e05d9e1455280986016cc0b1841": {
          "model_module": "@jupyter-widgets/controls",
          "model_name": "HTMLModel",
          "state": {
            "_view_name": "HTMLView",
            "style": "IPY_MODEL_c1dd89879adf41cb896b970a92714817",
            "_dom_classes": [],
            "description": "",
            "_model_name": "HTMLModel",
            "placeholder": "​",
            "_view_module": "@jupyter-widgets/controls",
            "_model_module_version": "1.5.0",
            "value": " 50598/60000 [00:00&lt;00:00, 30851.75 examples/s]",
            "_view_count": null,
            "_view_module_version": "1.5.0",
            "description_tooltip": null,
            "_model_module": "@jupyter-widgets/controls",
            "layout": "IPY_MODEL_149da2fd1a1741af9d24545dce284ca0"
          }
        },
        "3f91d4408b3546d29236f2ca2110ec58": {
          "model_module": "@jupyter-widgets/controls",
          "model_name": "ProgressStyleModel",
          "state": {
            "_view_name": "StyleView",
            "_model_name": "ProgressStyleModel",
            "description_width": "initial",
            "_view_module": "@jupyter-widgets/base",
            "_model_module_version": "1.5.0",
            "_view_count": null,
            "_view_module_version": "1.2.0",
            "bar_color": null,
            "_model_module": "@jupyter-widgets/controls"
          }
        },
        "d006c7baf2f74f07874f9726170f1c87": {
          "model_module": "@jupyter-widgets/base",
          "model_name": "LayoutModel",
          "state": {
            "_view_name": "LayoutView",
            "grid_template_rows": null,
            "right": null,
            "justify_content": null,
            "_view_module": "@jupyter-widgets/base",
            "overflow": null,
            "_model_module_version": "1.2.0",
            "_view_count": null,
            "flex_flow": null,
            "width": null,
            "min_width": null,
            "border": null,
            "align_items": null,
            "bottom": null,
            "_model_module": "@jupyter-widgets/base",
            "top": null,
            "grid_column": null,
            "overflow_y": null,
            "overflow_x": null,
            "grid_auto_flow": null,
            "grid_area": null,
            "grid_template_columns": null,
            "flex": null,
            "_model_name": "LayoutModel",
            "justify_items": null,
            "grid_row": null,
            "max_height": null,
            "align_content": null,
            "visibility": null,
            "align_self": null,
            "height": null,
            "min_height": null,
            "padding": null,
            "grid_auto_rows": null,
            "grid_gap": null,
            "max_width": null,
            "order": null,
            "_view_module_version": "1.2.0",
            "grid_template_areas": null,
            "object_position": null,
            "object_fit": null,
            "grid_auto_columns": null,
            "margin": null,
            "display": null,
            "left": null
          }
        },
        "c1dd89879adf41cb896b970a92714817": {
          "model_module": "@jupyter-widgets/controls",
          "model_name": "DescriptionStyleModel",
          "state": {
            "_view_name": "StyleView",
            "_model_name": "DescriptionStyleModel",
            "description_width": "",
            "_view_module": "@jupyter-widgets/base",
            "_model_module_version": "1.5.0",
            "_view_count": null,
            "_view_module_version": "1.2.0",
            "_model_module": "@jupyter-widgets/controls"
          }
        },
        "149da2fd1a1741af9d24545dce284ca0": {
          "model_module": "@jupyter-widgets/base",
          "model_name": "LayoutModel",
          "state": {
            "_view_name": "LayoutView",
            "grid_template_rows": null,
            "right": null,
            "justify_content": null,
            "_view_module": "@jupyter-widgets/base",
            "overflow": null,
            "_model_module_version": "1.2.0",
            "_view_count": null,
            "flex_flow": null,
            "width": null,
            "min_width": null,
            "border": null,
            "align_items": null,
            "bottom": null,
            "_model_module": "@jupyter-widgets/base",
            "top": null,
            "grid_column": null,
            "overflow_y": null,
            "overflow_x": null,
            "grid_auto_flow": null,
            "grid_area": null,
            "grid_template_columns": null,
            "flex": null,
            "_model_name": "LayoutModel",
            "justify_items": null,
            "grid_row": null,
            "max_height": null,
            "align_content": null,
            "visibility": null,
            "align_self": null,
            "height": null,
            "min_height": null,
            "padding": null,
            "grid_auto_rows": null,
            "grid_gap": null,
            "max_width": null,
            "order": null,
            "_view_module_version": "1.2.0",
            "grid_template_areas": null,
            "object_position": null,
            "object_fit": null,
            "grid_auto_columns": null,
            "margin": null,
            "display": null,
            "left": null
          }
        },
        "e29e2bd1b8f74b9e930ab1f533cdab32": {
          "model_module": "@jupyter-widgets/controls",
          "model_name": "HBoxModel",
          "state": {
            "_view_name": "HBoxView",
            "_dom_classes": [],
            "_model_name": "HBoxModel",
            "_view_module": "@jupyter-widgets/controls",
            "_model_module_version": "1.5.0",
            "_view_count": null,
            "_view_module_version": "1.5.0",
            "box_style": "",
            "layout": "IPY_MODEL_7df551bd736b4bcc994d40d1d2bdcc50",
            "_model_module": "@jupyter-widgets/controls",
            "children": [
              "IPY_MODEL_c3650ca96ace419781bba1e46a08d11e",
              "IPY_MODEL_bbcb4961eddd460da4d7be8b548e3fc3"
            ]
          }
        },
        "7df551bd736b4bcc994d40d1d2bdcc50": {
          "model_module": "@jupyter-widgets/base",
          "model_name": "LayoutModel",
          "state": {
            "_view_name": "LayoutView",
            "grid_template_rows": null,
            "right": null,
            "justify_content": null,
            "_view_module": "@jupyter-widgets/base",
            "overflow": null,
            "_model_module_version": "1.2.0",
            "_view_count": null,
            "flex_flow": null,
            "width": null,
            "min_width": null,
            "border": null,
            "align_items": null,
            "bottom": null,
            "_model_module": "@jupyter-widgets/base",
            "top": null,
            "grid_column": null,
            "overflow_y": null,
            "overflow_x": null,
            "grid_auto_flow": null,
            "grid_area": null,
            "grid_template_columns": null,
            "flex": null,
            "_model_name": "LayoutModel",
            "justify_items": null,
            "grid_row": null,
            "max_height": null,
            "align_content": null,
            "visibility": null,
            "align_self": null,
            "height": null,
            "min_height": null,
            "padding": null,
            "grid_auto_rows": null,
            "grid_gap": null,
            "max_width": null,
            "order": null,
            "_view_module_version": "1.2.0",
            "grid_template_areas": null,
            "object_position": null,
            "object_fit": null,
            "grid_auto_columns": null,
            "margin": null,
            "display": null,
            "left": null
          }
        },
        "c3650ca96ace419781bba1e46a08d11e": {
          "model_module": "@jupyter-widgets/controls",
          "model_name": "FloatProgressModel",
          "state": {
            "_view_name": "ProgressView",
            "style": "IPY_MODEL_1384b8f1982948c0b609fa1f796563cb",
            "_dom_classes": [],
            "description": "",
            "_model_name": "FloatProgressModel",
            "bar_style": "info",
            "max": 1,
            "_view_module": "@jupyter-widgets/controls",
            "_model_module_version": "1.5.0",
            "value": 1,
            "_view_count": null,
            "_view_module_version": "1.5.0",
            "orientation": "horizontal",
            "min": 0,
            "description_tooltip": null,
            "_model_module": "@jupyter-widgets/controls",
            "layout": "IPY_MODEL_279ba7a4a3c64f14a2d0b1ae1253abab"
          }
        },
        "bbcb4961eddd460da4d7be8b548e3fc3": {
          "model_module": "@jupyter-widgets/controls",
          "model_name": "HTMLModel",
          "state": {
            "_view_name": "HTMLView",
            "style": "IPY_MODEL_2cbd0f2cc5234c49b72a32d9f12c25ff",
            "_dom_classes": [],
            "description": "",
            "_model_name": "HTMLModel",
            "placeholder": "​",
            "_view_module": "@jupyter-widgets/controls",
            "_model_module_version": "1.5.0",
            "value": " 10000/0 [00:04&lt;00:00, 2022.03 examples/s]",
            "_view_count": null,
            "_view_module_version": "1.5.0",
            "description_tooltip": null,
            "_model_module": "@jupyter-widgets/controls",
            "layout": "IPY_MODEL_d54c8d0f2e9e45ec97f6e625cc70ca1d"
          }
        },
        "1384b8f1982948c0b609fa1f796563cb": {
          "model_module": "@jupyter-widgets/controls",
          "model_name": "ProgressStyleModel",
          "state": {
            "_view_name": "StyleView",
            "_model_name": "ProgressStyleModel",
            "description_width": "initial",
            "_view_module": "@jupyter-widgets/base",
            "_model_module_version": "1.5.0",
            "_view_count": null,
            "_view_module_version": "1.2.0",
            "bar_color": null,
            "_model_module": "@jupyter-widgets/controls"
          }
        },
        "279ba7a4a3c64f14a2d0b1ae1253abab": {
          "model_module": "@jupyter-widgets/base",
          "model_name": "LayoutModel",
          "state": {
            "_view_name": "LayoutView",
            "grid_template_rows": null,
            "right": null,
            "justify_content": null,
            "_view_module": "@jupyter-widgets/base",
            "overflow": null,
            "_model_module_version": "1.2.0",
            "_view_count": null,
            "flex_flow": null,
            "width": null,
            "min_width": null,
            "border": null,
            "align_items": null,
            "bottom": null,
            "_model_module": "@jupyter-widgets/base",
            "top": null,
            "grid_column": null,
            "overflow_y": null,
            "overflow_x": null,
            "grid_auto_flow": null,
            "grid_area": null,
            "grid_template_columns": null,
            "flex": null,
            "_model_name": "LayoutModel",
            "justify_items": null,
            "grid_row": null,
            "max_height": null,
            "align_content": null,
            "visibility": null,
            "align_self": null,
            "height": null,
            "min_height": null,
            "padding": null,
            "grid_auto_rows": null,
            "grid_gap": null,
            "max_width": null,
            "order": null,
            "_view_module_version": "1.2.0",
            "grid_template_areas": null,
            "object_position": null,
            "object_fit": null,
            "grid_auto_columns": null,
            "margin": null,
            "display": null,
            "left": null
          }
        },
        "2cbd0f2cc5234c49b72a32d9f12c25ff": {
          "model_module": "@jupyter-widgets/controls",
          "model_name": "DescriptionStyleModel",
          "state": {
            "_view_name": "StyleView",
            "_model_name": "DescriptionStyleModel",
            "description_width": "",
            "_view_module": "@jupyter-widgets/base",
            "_model_module_version": "1.5.0",
            "_view_count": null,
            "_view_module_version": "1.2.0",
            "_model_module": "@jupyter-widgets/controls"
          }
        },
        "d54c8d0f2e9e45ec97f6e625cc70ca1d": {
          "model_module": "@jupyter-widgets/base",
          "model_name": "LayoutModel",
          "state": {
            "_view_name": "LayoutView",
            "grid_template_rows": null,
            "right": null,
            "justify_content": null,
            "_view_module": "@jupyter-widgets/base",
            "overflow": null,
            "_model_module_version": "1.2.0",
            "_view_count": null,
            "flex_flow": null,
            "width": null,
            "min_width": null,
            "border": null,
            "align_items": null,
            "bottom": null,
            "_model_module": "@jupyter-widgets/base",
            "top": null,
            "grid_column": null,
            "overflow_y": null,
            "overflow_x": null,
            "grid_auto_flow": null,
            "grid_area": null,
            "grid_template_columns": null,
            "flex": null,
            "_model_name": "LayoutModel",
            "justify_items": null,
            "grid_row": null,
            "max_height": null,
            "align_content": null,
            "visibility": null,
            "align_self": null,
            "height": null,
            "min_height": null,
            "padding": null,
            "grid_auto_rows": null,
            "grid_gap": null,
            "max_width": null,
            "order": null,
            "_view_module_version": "1.2.0",
            "grid_template_areas": null,
            "object_position": null,
            "object_fit": null,
            "grid_auto_columns": null,
            "margin": null,
            "display": null,
            "left": null
          }
        },
        "b428f044319d4e1683fb91fb2d8460ca": {
          "model_module": "@jupyter-widgets/controls",
          "model_name": "HBoxModel",
          "state": {
            "_view_name": "HBoxView",
            "_dom_classes": [],
            "_model_name": "HBoxModel",
            "_view_module": "@jupyter-widgets/controls",
            "_model_module_version": "1.5.0",
            "_view_count": null,
            "_view_module_version": "1.5.0",
            "box_style": "",
            "layout": "IPY_MODEL_130e7c9c87d04ec09b2a5b1c54b9af2d",
            "_model_module": "@jupyter-widgets/controls",
            "children": [
              "IPY_MODEL_a0b0c41645674415ad3312694b8e3a9b",
              "IPY_MODEL_374320a109404847bfade90a2ff24f61"
            ]
          }
        },
        "130e7c9c87d04ec09b2a5b1c54b9af2d": {
          "model_module": "@jupyter-widgets/base",
          "model_name": "LayoutModel",
          "state": {
            "_view_name": "LayoutView",
            "grid_template_rows": null,
            "right": null,
            "justify_content": null,
            "_view_module": "@jupyter-widgets/base",
            "overflow": null,
            "_model_module_version": "1.2.0",
            "_view_count": null,
            "flex_flow": null,
            "width": null,
            "min_width": null,
            "border": null,
            "align_items": null,
            "bottom": null,
            "_model_module": "@jupyter-widgets/base",
            "top": null,
            "grid_column": null,
            "overflow_y": null,
            "overflow_x": null,
            "grid_auto_flow": null,
            "grid_area": null,
            "grid_template_columns": null,
            "flex": null,
            "_model_name": "LayoutModel",
            "justify_items": null,
            "grid_row": null,
            "max_height": null,
            "align_content": null,
            "visibility": null,
            "align_self": null,
            "height": null,
            "min_height": null,
            "padding": null,
            "grid_auto_rows": null,
            "grid_gap": null,
            "max_width": null,
            "order": null,
            "_view_module_version": "1.2.0",
            "grid_template_areas": null,
            "object_position": null,
            "object_fit": null,
            "grid_auto_columns": null,
            "margin": null,
            "display": null,
            "left": null
          }
        },
        "a0b0c41645674415ad3312694b8e3a9b": {
          "model_module": "@jupyter-widgets/controls",
          "model_name": "FloatProgressModel",
          "state": {
            "_view_name": "ProgressView",
            "style": "IPY_MODEL_660515dd3d534beaafe665a778d2ae2b",
            "_dom_classes": [],
            "description": " 98%",
            "_model_name": "FloatProgressModel",
            "bar_style": "danger",
            "max": 10000,
            "_view_module": "@jupyter-widgets/controls",
            "_model_module_version": "1.5.0",
            "value": 9790,
            "_view_count": null,
            "_view_module_version": "1.5.0",
            "orientation": "horizontal",
            "min": 0,
            "description_tooltip": null,
            "_model_module": "@jupyter-widgets/controls",
            "layout": "IPY_MODEL_4c8290f66c884b7f838aeca3b3e7c73b"
          }
        },
        "374320a109404847bfade90a2ff24f61": {
          "model_module": "@jupyter-widgets/controls",
          "model_name": "HTMLModel",
          "state": {
            "_view_name": "HTMLView",
            "style": "IPY_MODEL_166ba1a5d6484e8697847903b101f52d",
            "_dom_classes": [],
            "description": "",
            "_model_name": "HTMLModel",
            "placeholder": "​",
            "_view_module": "@jupyter-widgets/controls",
            "_model_module_version": "1.5.0",
            "value": " 9790/10000 [00:00&lt;00:00, 97898.46 examples/s]",
            "_view_count": null,
            "_view_module_version": "1.5.0",
            "description_tooltip": null,
            "_model_module": "@jupyter-widgets/controls",
            "layout": "IPY_MODEL_45f6bfc362f54327bf9700368349c4d9"
          }
        },
        "660515dd3d534beaafe665a778d2ae2b": {
          "model_module": "@jupyter-widgets/controls",
          "model_name": "ProgressStyleModel",
          "state": {
            "_view_name": "StyleView",
            "_model_name": "ProgressStyleModel",
            "description_width": "initial",
            "_view_module": "@jupyter-widgets/base",
            "_model_module_version": "1.5.0",
            "_view_count": null,
            "_view_module_version": "1.2.0",
            "bar_color": null,
            "_model_module": "@jupyter-widgets/controls"
          }
        },
        "4c8290f66c884b7f838aeca3b3e7c73b": {
          "model_module": "@jupyter-widgets/base",
          "model_name": "LayoutModel",
          "state": {
            "_view_name": "LayoutView",
            "grid_template_rows": null,
            "right": null,
            "justify_content": null,
            "_view_module": "@jupyter-widgets/base",
            "overflow": null,
            "_model_module_version": "1.2.0",
            "_view_count": null,
            "flex_flow": null,
            "width": null,
            "min_width": null,
            "border": null,
            "align_items": null,
            "bottom": null,
            "_model_module": "@jupyter-widgets/base",
            "top": null,
            "grid_column": null,
            "overflow_y": null,
            "overflow_x": null,
            "grid_auto_flow": null,
            "grid_area": null,
            "grid_template_columns": null,
            "flex": null,
            "_model_name": "LayoutModel",
            "justify_items": null,
            "grid_row": null,
            "max_height": null,
            "align_content": null,
            "visibility": null,
            "align_self": null,
            "height": null,
            "min_height": null,
            "padding": null,
            "grid_auto_rows": null,
            "grid_gap": null,
            "max_width": null,
            "order": null,
            "_view_module_version": "1.2.0",
            "grid_template_areas": null,
            "object_position": null,
            "object_fit": null,
            "grid_auto_columns": null,
            "margin": null,
            "display": null,
            "left": null
          }
        },
        "166ba1a5d6484e8697847903b101f52d": {
          "model_module": "@jupyter-widgets/controls",
          "model_name": "DescriptionStyleModel",
          "state": {
            "_view_name": "StyleView",
            "_model_name": "DescriptionStyleModel",
            "description_width": "",
            "_view_module": "@jupyter-widgets/base",
            "_model_module_version": "1.5.0",
            "_view_count": null,
            "_view_module_version": "1.2.0",
            "_model_module": "@jupyter-widgets/controls"
          }
        },
        "45f6bfc362f54327bf9700368349c4d9": {
          "model_module": "@jupyter-widgets/base",
          "model_name": "LayoutModel",
          "state": {
            "_view_name": "LayoutView",
            "grid_template_rows": null,
            "right": null,
            "justify_content": null,
            "_view_module": "@jupyter-widgets/base",
            "overflow": null,
            "_model_module_version": "1.2.0",
            "_view_count": null,
            "flex_flow": null,
            "width": null,
            "min_width": null,
            "border": null,
            "align_items": null,
            "bottom": null,
            "_model_module": "@jupyter-widgets/base",
            "top": null,
            "grid_column": null,
            "overflow_y": null,
            "overflow_x": null,
            "grid_auto_flow": null,
            "grid_area": null,
            "grid_template_columns": null,
            "flex": null,
            "_model_name": "LayoutModel",
            "justify_items": null,
            "grid_row": null,
            "max_height": null,
            "align_content": null,
            "visibility": null,
            "align_self": null,
            "height": null,
            "min_height": null,
            "padding": null,
            "grid_auto_rows": null,
            "grid_gap": null,
            "max_width": null,
            "order": null,
            "_view_module_version": "1.2.0",
            "grid_template_areas": null,
            "object_position": null,
            "object_fit": null,
            "grid_auto_columns": null,
            "margin": null,
            "display": null,
            "left": null
          }
        }
      }
    }
  },
  "cells": [
    {
      "cell_type": "markdown",
      "metadata": {
        "id": "cqRKw8tFjoH0",
        "colab_type": "text"
      },
      "source": [
        "# Stochastic, Mini batch e Full batch Gradient Descent\n",
        "In questo notebook faremo un confronto tra le tre varianti dell'algoritmo di ottimizzazione Gradient Descent\n",
        " * **Full Batch**: Il gradient descent utilizza tutti gli esempi per correggere i coefficienti.\n",
        " * **Stochastic**: Il gradient descent utilizza un solo esempio per volta per correggere i coefficienti.\n",
        " * **Mini Batch**: Il gradient descent utilizza un determinato numero di esempi per volta per coreggere i coefficienti.\n",
        " \n",
        "Per questo esempio utilizzeremo il dataset [Fashion MNIST](https://github.com/zalandoresearch/fashion-mnist), un dataset contenente immagini capi di abbigliamento in formato 28x28 correttamente classificati, creato dalla popolare piattaforma di e-commerce Zalando."
      ]
    },
    {
      "cell_type": "markdown",
      "metadata": {
        "id": "aeU68-E5Obk-",
        "colab_type": "text"
      },
      "source": [
        "## Importiamo i Moduli"
      ]
    },
    {
      "cell_type": "code",
      "metadata": {
        "id": "ZO6s0cCnjoH0",
        "colab_type": "code",
        "colab": {}
      },
      "source": [
        "import numpy as np\n",
        "\n",
        "import tensorflow as tf\n",
        "import tensorflow_datasets as tfds\n",
        "\n",
        "from sklearn.model_selection import train_test_split\n",
        "import matplotlib.pyplot as plt\n",
        "\n",
        "from time import time"
      ],
      "execution_count": 1,
      "outputs": []
    },
    {
      "cell_type": "markdown",
      "metadata": {
        "id": "pPovTYhPjoH5",
        "colab_type": "text"
      },
      "source": [
        "## Preparazione dei dati\n",
        "Piuttosto che scaricare i files in formato binario dalla repository, possiamo caricare il dataset utilizzando tensorflow-datasets"
      ]
    },
    {
      "cell_type": "code",
      "metadata": {
        "id": "gGKy_e9ujoH5",
        "colab_type": "code",
        "colab": {
          "base_uri": "https://localhost:8080/",
          "height": 357,
          "referenced_widgets": [
            "c74720bc59e241a28ca0c4904a67fa81",
            "ee53aac53e284f55a2970705cc9c649e",
            "69fbcb3ebf26443fbfe7e31671598e77",
            "c49c2f9ecaa84fffa201ecb33c0e3bf4",
            "134ee1bd30c74e0fbf79bb58dff8c6c2",
            "502cd4d20e544aa9a4962477ba6a7e6a",
            "fe25301ec7c64790965239215df66e48",
            "f9ffc3905dd7407c8e1258f11bb4a17c",
            "9725e3f53bc64d878e9a51210bbe5ccb",
            "361aca8bfad94f13bd7ae194c823b638",
            "86248607c42046caa6fd52e7b4b40c5d",
            "9693497b0e96402a935c63a2ff178856",
            "3b026fe7ff544ec5846f3c4fa6258bff",
            "f3ef8d41bf1147bebab0673896b74df2",
            "b0d9c456be39491fa21d5733b10c0691",
            "5b82312991bd4074b969cb00da7d38c5",
            "12f625d89b70498aaa06296abc32b318",
            "ef963b4fd9c64468940fc4adab45843e",
            "9e976fe8113a4bbb828b09ed1057d7ed",
            "569c26c698124257a6f4b18816ed9987",
            "c08e584849e94f14841c55018b0ba1f9",
            "f3ef300466d549bba9899f233810b7c4",
            "12fd699be83943498e8124ff6690fde3",
            "87ba09d588654ed895af9a1c44957e1d",
            "eea39823734c44a6a30a8e26924aad5c",
            "1e341e9a614141858430de6e6f73ccf8",
            "e6a617c123e24f23a4f813a75caf2eff",
            "a9eca978bb9249e6b0d78925dbe1f9cb",
            "99801dc957d243fba0adafc9dac0512e",
            "d66ccb15957f4f3eafb01ad69a3d49b2",
            "5f2df3d7448245af86ccf2f770b46e3e",
            "edd6355c705a48c682c8d30139f3bde3",
            "c45d45348cf14723854cfbbc46da7bb3",
            "d50e0308b2ed466694e327cb979c9fbf",
            "7e44a018cde24d27843461aea2c4c63f",
            "849e8e05d9e1455280986016cc0b1841",
            "3f91d4408b3546d29236f2ca2110ec58",
            "d006c7baf2f74f07874f9726170f1c87",
            "c1dd89879adf41cb896b970a92714817",
            "149da2fd1a1741af9d24545dce284ca0",
            "e29e2bd1b8f74b9e930ab1f533cdab32",
            "7df551bd736b4bcc994d40d1d2bdcc50",
            "c3650ca96ace419781bba1e46a08d11e",
            "bbcb4961eddd460da4d7be8b548e3fc3",
            "1384b8f1982948c0b609fa1f796563cb",
            "279ba7a4a3c64f14a2d0b1ae1253abab",
            "2cbd0f2cc5234c49b72a32d9f12c25ff",
            "d54c8d0f2e9e45ec97f6e625cc70ca1d",
            "b428f044319d4e1683fb91fb2d8460ca",
            "130e7c9c87d04ec09b2a5b1c54b9af2d",
            "a0b0c41645674415ad3312694b8e3a9b",
            "374320a109404847bfade90a2ff24f61",
            "660515dd3d534beaafe665a778d2ae2b",
            "4c8290f66c884b7f838aeca3b3e7c73b",
            "166ba1a5d6484e8697847903b101f52d",
            "45f6bfc362f54327bf9700368349c4d9"
          ]
        },
        "outputId": "d24b32ac-75fe-4b48-f18a-5ed8c57508d3"
      },
      "source": [
        "dataset = tfds.load('fashion_mnist', split='train', shuffle_files=True)"
      ],
      "execution_count": 2,
      "outputs": [
        {
          "output_type": "stream",
          "text": [
            "\u001b[1mDownloading and preparing dataset fashion_mnist/3.0.0 (download: 29.45 MiB, generated: Unknown size, total: 29.45 MiB) to /root/tensorflow_datasets/fashion_mnist/3.0.0...\u001b[0m\n"
          ],
          "name": "stdout"
        },
        {
          "output_type": "display_data",
          "data": {
            "application/vnd.jupyter.widget-view+json": {
              "model_id": "c74720bc59e241a28ca0c4904a67fa81",
              "version_minor": 0,
              "version_major": 2
            },
            "text/plain": [
              "HBox(children=(FloatProgress(value=1.0, bar_style='info', description='Dl Completed...', max=1.0, style=Progre…"
            ]
          },
          "metadata": {
            "tags": []
          }
        },
        {
          "output_type": "display_data",
          "data": {
            "application/vnd.jupyter.widget-view+json": {
              "model_id": "9725e3f53bc64d878e9a51210bbe5ccb",
              "version_minor": 0,
              "version_major": 2
            },
            "text/plain": [
              "HBox(children=(FloatProgress(value=1.0, bar_style='info', description='Dl Size...', max=1.0, style=ProgressSty…"
            ]
          },
          "metadata": {
            "tags": []
          }
        },
        {
          "output_type": "display_data",
          "data": {
            "application/vnd.jupyter.widget-view+json": {
              "model_id": "12f625d89b70498aaa06296abc32b318",
              "version_minor": 0,
              "version_major": 2
            },
            "text/plain": [
              "HBox(children=(FloatProgress(value=1.0, bar_style='info', description='Extraction completed...', max=1.0, styl…"
            ]
          },
          "metadata": {
            "tags": []
          }
        },
        {
          "output_type": "stream",
          "text": [
            "\n",
            "\n",
            "\n",
            "\n",
            "\n",
            "\n"
          ],
          "name": "stdout"
        },
        {
          "output_type": "display_data",
          "data": {
            "application/vnd.jupyter.widget-view+json": {
              "model_id": "eea39823734c44a6a30a8e26924aad5c",
              "version_minor": 0,
              "version_major": 2
            },
            "text/plain": [
              "HBox(children=(FloatProgress(value=1.0, bar_style='info', max=1.0), HTML(value='')))"
            ]
          },
          "metadata": {
            "tags": []
          }
        },
        {
          "output_type": "stream",
          "text": [
            "\rShuffling and writing examples to /root/tensorflow_datasets/fashion_mnist/3.0.0.incompleteOBVJFC/fashion_mnist-train.tfrecord\n"
          ],
          "name": "stdout"
        },
        {
          "output_type": "display_data",
          "data": {
            "application/vnd.jupyter.widget-view+json": {
              "model_id": "c45d45348cf14723854cfbbc46da7bb3",
              "version_minor": 0,
              "version_major": 2
            },
            "text/plain": [
              "HBox(children=(FloatProgress(value=0.0, max=60000.0), HTML(value='')))"
            ]
          },
          "metadata": {
            "tags": []
          }
        },
        {
          "output_type": "stream",
          "text": [
            "\r"
          ],
          "name": "stdout"
        },
        {
          "output_type": "display_data",
          "data": {
            "application/vnd.jupyter.widget-view+json": {
              "model_id": "e29e2bd1b8f74b9e930ab1f533cdab32",
              "version_minor": 0,
              "version_major": 2
            },
            "text/plain": [
              "HBox(children=(FloatProgress(value=1.0, bar_style='info', max=1.0), HTML(value='')))"
            ]
          },
          "metadata": {
            "tags": []
          }
        },
        {
          "output_type": "stream",
          "text": [
            "\rShuffling and writing examples to /root/tensorflow_datasets/fashion_mnist/3.0.0.incompleteOBVJFC/fashion_mnist-test.tfrecord\n"
          ],
          "name": "stdout"
        },
        {
          "output_type": "display_data",
          "data": {
            "application/vnd.jupyter.widget-view+json": {
              "model_id": "b428f044319d4e1683fb91fb2d8460ca",
              "version_minor": 0,
              "version_major": 2
            },
            "text/plain": [
              "HBox(children=(FloatProgress(value=0.0, max=10000.0), HTML(value='')))"
            ]
          },
          "metadata": {
            "tags": []
          }
        },
        {
          "output_type": "stream",
          "text": [
            "\u001b[1mDataset fashion_mnist downloaded and prepared to /root/tensorflow_datasets/fashion_mnist/3.0.0. Subsequent calls will reuse this data.\u001b[0m\n",
            "\r"
          ],
          "name": "stdout"
        }
      ]
    },
    {
      "cell_type": "markdown",
      "metadata": {
        "id": "9VA5SOg9Okli",
        "colab_type": "text"
      },
      "source": [
        "Il dataset contiene 10 diversi tipi di capi di abbigliamento, elencati nella lista qui sotto, il target è già codificato con un numero che indica la posizione del target all'interno di questa lista."
      ]
    },
    {
      "cell_type": "code",
      "metadata": {
        "id": "gV75QSobtFWG",
        "colab_type": "code",
        "colab": {}
      },
      "source": [
        "INDEX_TO_LABEL = [\"T-shirt/top\",\"Pantalone\",\"Pullover\",\"Vestito\",\"Cappotto\",\"Sandalo\",\"Maglietta\",\"Sneaker\",\"Borsa\",\"Stivaletto\"]"
      ],
      "execution_count": 3,
      "outputs": []
    },
    {
      "cell_type": "markdown",
      "metadata": {
        "id": "egL9fer5oKH2",
        "colab_type": "text"
      },
      "source": [
        "Definiamo una funzione per importare il dataset all'interno di due array numpy, contenenti rispettivamente le immagini e le classi."
      ]
    },
    {
      "cell_type": "code",
      "metadata": {
        "id": "oblhB8M0n2X6",
        "colab_type": "code",
        "colab": {}
      },
      "source": [
        "def load_data(dataset, num_samples=None):\n",
        "  images = []\n",
        "  labels = []\n",
        "\n",
        "  for i, example in enumerate(tfds.as_numpy(dataset)):\n",
        "\n",
        "    if(num_samples!=None and i>=num_samples):\n",
        "      break\n",
        "\n",
        "    images.append(example[\"image\"])\n",
        "    labels.append(example[\"label\"])\n",
        "\n",
        "  images = np.array(images)\n",
        "  labels = np.array(labels)\n",
        "\n",
        "  return images, labels"
      ],
      "execution_count": 4,
      "outputs": []
    },
    {
      "cell_type": "code",
      "metadata": {
        "id": "7tU1ekYxn30b",
        "colab_type": "code",
        "colab": {
          "base_uri": "https://localhost:8080/",
          "height": 71
        },
        "outputId": "4f158181-c780-4d66-9c66-c776a654fe54"
      },
      "source": [
        "images, labels = load_data(dataset)\n",
        "num_classes = np.unique(labels).shape[0]\n",
        "print(\"Numero di esempi: %d\" % images.shape[0])\n",
        "print(\"Dimensioni immagine: %s\" % str(images[0].shape))\n",
        "print(\"Classi = %d %s\" % (num_classes, np.unique(labels)))"
      ],
      "execution_count": 5,
      "outputs": [
        {
          "output_type": "stream",
          "text": [
            "Numero di esempi: 60000\n",
            "Dimensioni immagine: (28, 28, 1)\n",
            "Classi = 10 [0 1 2 3 4 5 6 7 8 9]\n"
          ],
          "name": "stdout"
        }
      ]
    },
    {
      "cell_type": "markdown",
      "metadata": {
        "id": "jLxHTRVWjoH7",
        "colab_type": "text"
      },
      "source": [
        "Dato che una singola osservazione è una matrice, dobbiamo eseguire il *flattening*  per codificarla in un unico vettore. Per farlo possiamo utilizzare il metodo <span style=\"font-family: Monaco\">reshape</span>."
      ]
    },
    {
      "cell_type": "code",
      "metadata": {
        "id": "taJAVBUcjoH8",
        "colab_type": "code",
        "colab": {}
      },
      "source": [
        "X = images.reshape(images.shape[0], images.shape[1]*images.shape[2])\n",
        "y = tf.one_hot(labels, num_classes).numpy()"
      ],
      "execution_count": 6,
      "outputs": []
    },
    {
      "cell_type": "markdown",
      "metadata": {
        "id": "5Q835NVUjoH-",
        "colab_type": "text"
      },
      "source": [
        "Ora dividiamo il dataset in Train Set e Test Set."
      ]
    },
    {
      "cell_type": "code",
      "metadata": {
        "id": "zt3MayBEjoH-",
        "colab_type": "code",
        "colab": {
          "base_uri": "https://localhost:8080/",
          "height": 35
        },
        "outputId": "f89e157a-c0c5-46d1-e2fa-fdae5046a0da"
      },
      "source": [
        "X_train, X_test, y_train, y_test = train_test_split(X, y, test_size=0.3)\n",
        "print(\"Train set: %d esempi - Test set: %d esempi\" % (X_train.shape[0], X_test.shape[0]))"
      ],
      "execution_count": 7,
      "outputs": [
        {
          "output_type": "stream",
          "text": [
            "Train set: 42000 esempi - Test set: 18000 esempi\n"
          ],
          "name": "stdout"
        }
      ]
    },
    {
      "cell_type": "markdown",
      "metadata": {
        "id": "qQ_6wU_cjoIA",
        "colab_type": "text"
      },
      "source": [
        "Ogni pixel dell'immagine ha un valore che va da 0 a 255, eseguiamo la normalizzazione per ridurre questi valori in una scala da 0 a 1."
      ]
    },
    {
      "cell_type": "code",
      "metadata": {
        "id": "cjm32rc8joIA",
        "colab_type": "code",
        "colab": {}
      },
      "source": [
        "X_train = X_train/255\n",
        "X_test = X_test/255"
      ],
      "execution_count": 8,
      "outputs": []
    },
    {
      "cell_type": "markdown",
      "metadata": {
        "id": "ogF2-7PxPMXS",
        "colab_type": "text"
      },
      "source": [
        "Per assicurarci di aver fatto tutto correttamente, proviamo a visualizzare un'immagine con il corrispondente target."
      ]
    },
    {
      "cell_type": "code",
      "metadata": {
        "id": "z1yXWnaBqEXC",
        "colab_type": "code",
        "colab": {
          "base_uri": "https://localhost:8080/",
          "height": 283
        },
        "outputId": "86a6022f-3bd3-4986-9239-66c28844ead3"
      },
      "source": [
        "plt.imshow(X_train[0].reshape(28,28))\n",
        "print(INDEX_TO_LABEL[np.argmax(y_train[0])])"
      ],
      "execution_count": 9,
      "outputs": [
        {
          "output_type": "stream",
          "text": [
            "T-shirt/top\n"
          ],
          "name": "stdout"
        },
        {
          "output_type": "display_data",
          "data": {
            "image/png": "[encoded data removed]",
            "text/plain": [
              "<Figure size 432x288 with 1 Axes>"
            ]
          },
          "metadata": {
            "tags": [],
            "needs_background": "light"
          }
        }
      ]
    },
    {
      "cell_type": "markdown",
      "metadata": {
        "id": "E2ksH9X0u3Eg",
        "colab_type": "text"
      },
      "source": [
        "## Costruiamo la Rete Neurale\n",
        "Definamo una funzione che ci ritornerà la nostra rete neurale già compilata utilizzando come algoritmo di ottimizzazione il Gradient Descent."
      ]
    },
    {
      "cell_type": "code",
      "metadata": {
        "id": "CvRa0CcPjoIF",
        "colab_type": "code",
        "colab": {}
      },
      "source": [
        "def build_model():\n",
        "  model = tf.keras.models.Sequential()\n",
        "  model.add(tf.keras.layers.Dense(512, activation='relu', input_shape=[X_train.shape[1]]))\n",
        "  model.add(tf.keras.layers.Dense(256, activation='relu'))\n",
        "  model.add(tf.keras.layers.Dense(128, activation='relu'))\n",
        "  model.add(tf.keras.layers.Dense(num_classes, activation='softmax'))\n",
        "\n",
        "  model.compile(loss='categorical_crossentropy', optimizer='sgd', metrics=['accuracy'])\n",
        "\n",
        "  return model"
      ],
      "execution_count": 10,
      "outputs": []
    },
    {
      "cell_type": "markdown",
      "metadata": {
        "id": "OCRKr9i9Pl1z",
        "colab_type": "text"
      },
      "source": [
        "Defiiamo anche una funzione per creare un grafico dell'evoluzione della Log Loss durante le varie epoche dell'addestramento."
      ]
    },
    {
      "cell_type": "code",
      "metadata": {
        "id": "d8OQGVvzxkqv",
        "colab_type": "code",
        "colab": {}
      },
      "source": [
        "def plot_loss_chart(title, figsize=(14,10), validation=True):\n",
        "\n",
        "  plt.figure(figsize=figsize)\n",
        "  plt.title(title)\n",
        "  plt.xlabel(\"Epoca\")\n",
        "  plt.ylabel(\"Log-Loss\")\n",
        "  \n",
        "  plt.plot(model.history.history['loss'], label=\"Training Loss\")\n",
        "\n",
        "  if(validation):\n",
        "    plt.plot(model.history.history['val_loss'], label=\"Validation Loss\")\n",
        "\n",
        "  plt.legend()"
      ],
      "execution_count": 15,
      "outputs": []
    },
    {
      "cell_type": "markdown",
      "metadata": {
        "id": "eSY4GKLejoIF",
        "colab_type": "text"
      },
      "source": [
        "## Full batch Gradient Descent\n",
        "Cominciamo dal Full batch Gradient Descent. Creiamo il modello."
      ]
    },
    {
      "cell_type": "code",
      "metadata": {
        "id": "6WOqStiouqdq",
        "colab_type": "code",
        "colab": {}
      },
      "source": [
        "model = build_model()"
      ],
      "execution_count": 12,
      "outputs": []
    },
    {
      "cell_type": "markdown",
      "metadata": {
        "id": "0OQNiLAjjoIL",
        "colab_type": "text"
      },
      "source": [
        "Il Full Batch Gradient Descent utilizza tutti i dati del Train Set per ogni epoca, per utilizzarlo non dobbiamo far altro che specificare all'interno del metodo  <span style=\"font-family: Monaco\">fit</span> che la dimensione di un batch deve essere pari al numero di osservazioni nel Tran Set, in tal modo l'algoritmo di ottimizzazione utilizzerà un unico batch con tutte le osservazioni ad ogni iterazione.\n",
        "<br>\n",
        "Per poter costruire un grafico della funzione di costo ad ogni epoca dobbiamo tener traccia di questi valori, per farlo possiamo utilizzare un History Callback."
      ]
    },
    {
      "cell_type": "code",
      "metadata": {
        "id": "k3t_H4dmjoIM",
        "colab_type": "code",
        "colab": {
          "base_uri": "https://localhost:8080/",
          "height": 1000
        },
        "outputId": "75541ea9-1f51-47d9-cfbb-4c50b4caf044"
      },
      "source": [
        "start_at = time()\n",
        "model.fit(X_train, y_train, batch_size=X_train.shape[0],\n",
        "          validation_data=(X_test, y_test), validation_batch_size = X_test.shape[0], \n",
        "          epochs=100, callbacks=[tf.keras.callbacks.History()])\n",
        "exec_time = time() - start_at\n",
        "\n",
        "print(\"Tempo di addestramento: %d minuti e %d secondi\" % (exec_time/60, exec_time%60))"
      ],
      "execution_count": null,
      "outputs": [
        {
          "output_type": "stream",
          "text": [
            "Epoch 1/100\n",
            "1/1 [==============================] - 0s 161ms/step - loss: 2.3673 - accuracy: 0.1123 - val_loss: 2.3448 - val_accuracy: 0.1206\n",
            "Epoch 2/100\n",
            "1/1 [==============================] - 0s 72ms/step - loss: 2.3412 - accuracy: 0.1190 - val_loss: 2.3218 - val_accuracy: 0.1287\n",
            "Epoch 3/100\n",
            "1/1 [==============================] - 0s 72ms/step - loss: 2.3184 - accuracy: 0.1283 - val_loss: 2.3013 - val_accuracy: 0.1388\n",
            "Epoch 4/100\n",
            "1/1 [==============================] - 0s 75ms/step - loss: 2.2979 - accuracy: 0.1383 - val_loss: 2.2827 - val_accuracy: 0.1494\n",
            "Epoch 5/100\n",
            "1/1 [==============================] - 0s 69ms/step - loss: 2.2794 - accuracy: 0.1492 - val_loss: 2.2656 - val_accuracy: 0.1608\n",
            "Epoch 6/100\n",
            "1/1 [==============================] - 0s 76ms/step - loss: 2.2624 - accuracy: 0.1601 - val_loss: 2.2497 - val_accuracy: 0.1717\n",
            "Epoch 7/100\n",
            "1/1 [==============================] - 0s 77ms/step - loss: 2.2465 - accuracy: 0.1723 - val_loss: 2.2347 - val_accuracy: 0.1812\n",
            "Epoch 8/100\n",
            "1/1 [==============================] - 0s 70ms/step - loss: 2.2316 - accuracy: 0.1832 - val_loss: 2.2205 - val_accuracy: 0.1904\n",
            "Epoch 9/100\n",
            "1/1 [==============================] - 0s 72ms/step - loss: 2.2174 - accuracy: 0.1934 - val_loss: 2.2068 - val_accuracy: 0.1998\n",
            "Epoch 10/100\n",
            "1/1 [==============================] - 0s 81ms/step - loss: 2.2038 - accuracy: 0.2035 - val_loss: 2.1937 - val_accuracy: 0.2094\n",
            "Epoch 11/100\n",
            "1/1 [==============================] - 0s 75ms/step - loss: 2.1906 - accuracy: 0.2136 - val_loss: 2.1809 - val_accuracy: 0.2204\n",
            "Epoch 12/100\n",
            "1/1 [==============================] - 0s 76ms/step - loss: 2.1778 - accuracy: 0.2252 - val_loss: 2.1683 - val_accuracy: 0.2315\n",
            "Epoch 13/100\n",
            "1/1 [==============================] - 0s 71ms/step - loss: 2.1653 - accuracy: 0.2381 - val_loss: 2.1561 - val_accuracy: 0.2474\n",
            "Epoch 14/100\n",
            "1/1 [==============================] - 0s 69ms/step - loss: 2.1530 - accuracy: 0.2521 - val_loss: 2.1440 - val_accuracy: 0.2629\n",
            "Epoch 15/100\n",
            "1/1 [==============================] - 0s 68ms/step - loss: 2.1410 - accuracy: 0.2684 - val_loss: 2.1320 - val_accuracy: 0.2798\n",
            "Epoch 16/100\n",
            "1/1 [==============================] - 0s 74ms/step - loss: 2.1290 - accuracy: 0.2856 - val_loss: 2.1202 - val_accuracy: 0.2968\n",
            "Epoch 17/100\n",
            "1/1 [==============================] - 0s 77ms/step - loss: 2.1172 - accuracy: 0.3027 - val_loss: 2.1085 - val_accuracy: 0.3171\n",
            "Epoch 18/100\n",
            "1/1 [==============================] - 0s 81ms/step - loss: 2.1055 - accuracy: 0.3189 - val_loss: 2.0969 - val_accuracy: 0.3314\n",
            "Epoch 19/100\n",
            "1/1 [==============================] - 0s 84ms/step - loss: 2.0939 - accuracy: 0.3344 - val_loss: 2.0853 - val_accuracy: 0.3465\n",
            "Epoch 20/100\n",
            "1/1 [==============================] - 0s 78ms/step - loss: 2.0823 - accuracy: 0.3505 - val_loss: 2.0739 - val_accuracy: 0.3617\n",
            "Epoch 21/100\n",
            "1/1 [==============================] - 0s 80ms/step - loss: 2.0709 - accuracy: 0.3660 - val_loss: 2.0625 - val_accuracy: 0.3741\n",
            "Epoch 22/100\n",
            "1/1 [==============================] - 0s 78ms/step - loss: 2.0594 - accuracy: 0.3786 - val_loss: 2.0511 - val_accuracy: 0.3876\n",
            "Epoch 23/100\n",
            "1/1 [==============================] - 0s 69ms/step - loss: 2.0481 - accuracy: 0.3900 - val_loss: 2.0398 - val_accuracy: 0.3979\n",
            "Epoch 24/100\n",
            "1/1 [==============================] - 0s 81ms/step - loss: 2.0367 - accuracy: 0.4006 - val_loss: 2.0285 - val_accuracy: 0.4072\n",
            "Epoch 25/100\n",
            "1/1 [==============================] - 0s 71ms/step - loss: 2.0254 - accuracy: 0.4113 - val_loss: 2.0172 - val_accuracy: 0.4176\n",
            "Epoch 26/100\n",
            "1/1 [==============================] - 0s 86ms/step - loss: 2.0141 - accuracy: 0.4218 - val_loss: 2.0058 - val_accuracy: 0.4282\n",
            "Epoch 27/100\n",
            "1/1 [==============================] - 0s 68ms/step - loss: 2.0027 - accuracy: 0.4313 - val_loss: 1.9945 - val_accuracy: 0.4369\n",
            "Epoch 28/100\n",
            "1/1 [==============================] - 0s 73ms/step - loss: 1.9913 - accuracy: 0.4401 - val_loss: 1.9831 - val_accuracy: 0.4455\n",
            "Epoch 29/100\n",
            "1/1 [==============================] - 0s 67ms/step - loss: 1.9799 - accuracy: 0.4487 - val_loss: 1.9716 - val_accuracy: 0.4526\n",
            "Epoch 30/100\n",
            "1/1 [==============================] - 0s 69ms/step - loss: 1.9685 - accuracy: 0.4574 - val_loss: 1.9602 - val_accuracy: 0.4604\n",
            "Epoch 31/100\n",
            "1/1 [==============================] - 0s 91ms/step - loss: 1.9570 - accuracy: 0.4665 - val_loss: 1.9487 - val_accuracy: 0.4677\n",
            "Epoch 32/100\n",
            "1/1 [==============================] - 0s 70ms/step - loss: 1.9455 - accuracy: 0.4746 - val_loss: 1.9371 - val_accuracy: 0.4747\n",
            "Epoch 33/100\n",
            "1/1 [==============================] - 0s 75ms/step - loss: 1.9339 - accuracy: 0.4819 - val_loss: 1.9255 - val_accuracy: 0.4822\n",
            "Epoch 34/100\n",
            "1/1 [==============================] - 0s 77ms/step - loss: 1.9223 - accuracy: 0.4883 - val_loss: 1.9139 - val_accuracy: 0.4891\n",
            "Epoch 35/100\n",
            "1/1 [==============================] - 0s 77ms/step - loss: 1.9107 - accuracy: 0.4947 - val_loss: 1.9022 - val_accuracy: 0.4948\n",
            "Epoch 36/100\n",
            "1/1 [==============================] - 0s 72ms/step - loss: 1.8990 - accuracy: 0.5003 - val_loss: 1.8905 - val_accuracy: 0.5021\n",
            "Epoch 37/100\n",
            "1/1 [==============================] - 0s 71ms/step - loss: 1.8873 - accuracy: 0.5066 - val_loss: 1.8788 - val_accuracy: 0.5088\n",
            "Epoch 38/100\n",
            "1/1 [==============================] - 0s 72ms/step - loss: 1.8756 - accuracy: 0.5136 - val_loss: 1.8670 - val_accuracy: 0.5148\n",
            "Epoch 39/100\n",
            "1/1 [==============================] - 0s 73ms/step - loss: 1.8638 - accuracy: 0.5199 - val_loss: 1.8552 - val_accuracy: 0.5202\n",
            "Epoch 40/100\n",
            "1/1 [==============================] - 0s 69ms/step - loss: 1.8520 - accuracy: 0.5255 - val_loss: 1.8434 - val_accuracy: 0.5263\n",
            "Epoch 41/100\n",
            "1/1 [==============================] - 0s 87ms/step - loss: 1.8402 - accuracy: 0.5310 - val_loss: 1.8315 - val_accuracy: 0.5320\n",
            "Epoch 42/100\n",
            "1/1 [==============================] - 0s 81ms/step - loss: 1.8283 - accuracy: 0.5359 - val_loss: 1.8195 - val_accuracy: 0.5367\n",
            "Epoch 43/100\n",
            "1/1 [==============================] - 0s 80ms/step - loss: 1.8163 - accuracy: 0.5417 - val_loss: 1.8076 - val_accuracy: 0.5408\n",
            "Epoch 44/100\n",
            "1/1 [==============================] - 0s 73ms/step - loss: 1.8044 - accuracy: 0.5464 - val_loss: 1.7955 - val_accuracy: 0.5465\n",
            "Epoch 45/100\n",
            "1/1 [==============================] - 0s 69ms/step - loss: 1.7924 - accuracy: 0.5508 - val_loss: 1.7835 - val_accuracy: 0.5507\n",
            "Epoch 46/100\n",
            "1/1 [==============================] - 0s 73ms/step - loss: 1.7804 - accuracy: 0.5555 - val_loss: 1.7715 - val_accuracy: 0.5536\n",
            "Epoch 47/100\n",
            "1/1 [==============================] - 0s 74ms/step - loss: 1.7684 - accuracy: 0.5598 - val_loss: 1.7595 - val_accuracy: 0.5572\n",
            "Epoch 48/100\n",
            "1/1 [==============================] - 0s 69ms/step - loss: 1.7565 - accuracy: 0.5637 - val_loss: 1.7475 - val_accuracy: 0.5618\n",
            "Epoch 49/100\n",
            "1/1 [==============================] - 0s 74ms/step - loss: 1.7446 - accuracy: 0.5671 - val_loss: 1.7357 - val_accuracy: 0.5663\n",
            "Epoch 50/100\n",
            "1/1 [==============================] - 0s 69ms/step - loss: 1.7328 - accuracy: 0.5708 - val_loss: 1.7239 - val_accuracy: 0.5694\n",
            "Epoch 51/100\n",
            "1/1 [==============================] - 0s 77ms/step - loss: 1.7210 - accuracy: 0.5741 - val_loss: 1.7122 - val_accuracy: 0.5735\n",
            "Epoch 52/100\n",
            "1/1 [==============================] - 0s 72ms/step - loss: 1.7093 - accuracy: 0.5772 - val_loss: 1.7006 - val_accuracy: 0.5764\n",
            "Epoch 53/100\n",
            "1/1 [==============================] - 0s 80ms/step - loss: 1.6978 - accuracy: 0.5803 - val_loss: 1.6890 - val_accuracy: 0.5802\n",
            "Epoch 54/100\n",
            "1/1 [==============================] - 0s 74ms/step - loss: 1.6863 - accuracy: 0.5829 - val_loss: 1.6776 - val_accuracy: 0.5831\n",
            "Epoch 55/100\n",
            "1/1 [==============================] - 0s 78ms/step - loss: 1.6749 - accuracy: 0.5861 - val_loss: 1.6663 - val_accuracy: 0.5858\n",
            "Epoch 56/100\n",
            "1/1 [==============================] - 0s 70ms/step - loss: 1.6636 - accuracy: 0.5887 - val_loss: 1.6550 - val_accuracy: 0.5883\n",
            "Epoch 57/100\n",
            "1/1 [==============================] - 0s 68ms/step - loss: 1.6523 - accuracy: 0.5912 - val_loss: 1.6439 - val_accuracy: 0.5907\n",
            "Epoch 58/100\n",
            "1/1 [==============================] - 0s 72ms/step - loss: 1.6412 - accuracy: 0.5931 - val_loss: 1.6328 - val_accuracy: 0.5928\n",
            "Epoch 59/100\n",
            "1/1 [==============================] - 0s 67ms/step - loss: 1.6302 - accuracy: 0.5959 - val_loss: 1.6219 - val_accuracy: 0.5956\n",
            "Epoch 60/100\n",
            "1/1 [==============================] - 0s 85ms/step - loss: 1.6193 - accuracy: 0.5982 - val_loss: 1.6110 - val_accuracy: 0.5979\n",
            "Epoch 61/100\n",
            "1/1 [==============================] - 0s 77ms/step - loss: 1.6085 - accuracy: 0.6002 - val_loss: 1.6002 - val_accuracy: 0.6012\n",
            "Epoch 62/100\n",
            "1/1 [==============================] - 0s 72ms/step - loss: 1.5978 - accuracy: 0.6024 - val_loss: 1.5896 - val_accuracy: 0.6034\n",
            "Epoch 63/100\n",
            "1/1 [==============================] - 0s 73ms/step - loss: 1.5871 - accuracy: 0.6047 - val_loss: 1.5790 - val_accuracy: 0.6055\n",
            "Epoch 64/100\n",
            "1/1 [==============================] - 0s 70ms/step - loss: 1.5766 - accuracy: 0.6067 - val_loss: 1.5686 - val_accuracy: 0.6081\n",
            "Epoch 65/100\n",
            "1/1 [==============================] - 0s 77ms/step - loss: 1.5662 - accuracy: 0.6088 - val_loss: 1.5582 - val_accuracy: 0.6094\n",
            "Epoch 66/100\n",
            "1/1 [==============================] - 0s 72ms/step - loss: 1.5559 - accuracy: 0.6106 - val_loss: 1.5480 - val_accuracy: 0.6118\n",
            "Epoch 67/100\n",
            "1/1 [==============================] - 0s 68ms/step - loss: 1.5457 - accuracy: 0.6124 - val_loss: 1.5379 - val_accuracy: 0.6138\n",
            "Epoch 68/100\n",
            "1/1 [==============================] - 0s 71ms/step - loss: 1.5357 - accuracy: 0.6143 - val_loss: 1.5279 - val_accuracy: 0.6158\n",
            "Epoch 69/100\n",
            "1/1 [==============================] - 0s 70ms/step - loss: 1.5257 - accuracy: 0.6160 - val_loss: 1.5180 - val_accuracy: 0.6174\n",
            "Epoch 70/100\n",
            "1/1 [==============================] - 0s 74ms/step - loss: 1.5158 - accuracy: 0.6173 - val_loss: 1.5082 - val_accuracy: 0.6183\n",
            "Epoch 71/100\n",
            "1/1 [==============================] - 0s 77ms/step - loss: 1.5061 - accuracy: 0.6187 - val_loss: 1.4986 - val_accuracy: 0.6195\n",
            "Epoch 72/100\n",
            "1/1 [==============================] - 0s 89ms/step - loss: 1.4965 - accuracy: 0.6203 - val_loss: 1.4890 - val_accuracy: 0.6207\n",
            "Epoch 73/100\n",
            "1/1 [==============================] - 0s 70ms/step - loss: 1.4870 - accuracy: 0.6218 - val_loss: 1.4796 - val_accuracy: 0.6222\n",
            "Epoch 74/100\n",
            "1/1 [==============================] - 0s 81ms/step - loss: 1.4776 - accuracy: 0.6232 - val_loss: 1.4703 - val_accuracy: 0.6233\n",
            "Epoch 75/100\n",
            "1/1 [==============================] - 0s 68ms/step - loss: 1.4683 - accuracy: 0.6242 - val_loss: 1.4611 - val_accuracy: 0.6249\n",
            "Epoch 76/100\n",
            "1/1 [==============================] - 0s 77ms/step - loss: 1.4592 - accuracy: 0.6254 - val_loss: 1.4520 - val_accuracy: 0.6259\n",
            "Epoch 77/100\n",
            "1/1 [==============================] - 0s 70ms/step - loss: 1.4501 - accuracy: 0.6264 - val_loss: 1.4430 - val_accuracy: 0.6273\n",
            "Epoch 78/100\n",
            "1/1 [==============================] - 0s 81ms/step - loss: 1.4412 - accuracy: 0.6280 - val_loss: 1.4342 - val_accuracy: 0.6288\n",
            "Epoch 79/100\n",
            "1/1 [==============================] - 0s 81ms/step - loss: 1.4324 - accuracy: 0.6290 - val_loss: 1.4255 - val_accuracy: 0.6296\n",
            "Epoch 80/100\n",
            "1/1 [==============================] - 0s 68ms/step - loss: 1.4237 - accuracy: 0.6304 - val_loss: 1.4168 - val_accuracy: 0.6309\n",
            "Epoch 81/100\n",
            "1/1 [==============================] - 0s 81ms/step - loss: 1.4151 - accuracy: 0.6315 - val_loss: 1.4083 - val_accuracy: 0.6321\n",
            "Epoch 82/100\n",
            "1/1 [==============================] - 0s 255ms/step - loss: 1.4066 - accuracy: 0.6328 - val_loss: 1.3999 - val_accuracy: 0.6333\n",
            "Epoch 83/100\n",
            "1/1 [==============================] - 0s 68ms/step - loss: 1.3983 - accuracy: 0.6340 - val_loss: 1.3916 - val_accuracy: 0.6343\n",
            "Epoch 84/100\n",
            "1/1 [==============================] - 0s 66ms/step - loss: 1.3900 - accuracy: 0.6348 - val_loss: 1.3835 - val_accuracy: 0.6352\n",
            "Epoch 85/100\n",
            "1/1 [==============================] - 0s 67ms/step - loss: 1.3819 - accuracy: 0.6357 - val_loss: 1.3754 - val_accuracy: 0.6360\n",
            "Epoch 86/100\n",
            "1/1 [==============================] - 0s 72ms/step - loss: 1.3738 - accuracy: 0.6366 - val_loss: 1.3674 - val_accuracy: 0.6373\n",
            "Epoch 87/100\n",
            "1/1 [==============================] - 0s 72ms/step - loss: 1.3659 - accuracy: 0.6375 - val_loss: 1.3595 - val_accuracy: 0.6382\n",
            "Epoch 88/100\n",
            "1/1 [==============================] - 0s 71ms/step - loss: 1.3581 - accuracy: 0.6384 - val_loss: 1.3518 - val_accuracy: 0.6391\n",
            "Epoch 89/100\n",
            "1/1 [==============================] - 0s 69ms/step - loss: 1.3504 - accuracy: 0.6394 - val_loss: 1.3441 - val_accuracy: 0.6399\n",
            "Epoch 90/100\n",
            "1/1 [==============================] - 0s 65ms/step - loss: 1.3427 - accuracy: 0.6405 - val_loss: 1.3366 - val_accuracy: 0.6407\n",
            "Epoch 91/100\n",
            "1/1 [==============================] - 0s 65ms/step - loss: 1.3352 - accuracy: 0.6416 - val_loss: 1.3291 - val_accuracy: 0.6416\n",
            "Epoch 92/100\n",
            "1/1 [==============================] - 0s 75ms/step - loss: 1.3278 - accuracy: 0.6426 - val_loss: 1.3217 - val_accuracy: 0.6428\n",
            "Epoch 93/100\n",
            "1/1 [==============================] - 0s 67ms/step - loss: 1.3205 - accuracy: 0.6437 - val_loss: 1.3144 - val_accuracy: 0.6437\n",
            "Epoch 94/100\n",
            "1/1 [==============================] - 0s 76ms/step - loss: 1.3133 - accuracy: 0.6443 - val_loss: 1.3073 - val_accuracy: 0.6447\n",
            "Epoch 95/100\n",
            "1/1 [==============================] - 0s 67ms/step - loss: 1.3061 - accuracy: 0.6453 - val_loss: 1.3002 - val_accuracy: 0.6460\n",
            "Epoch 96/100\n",
            "1/1 [==============================] - 0s 67ms/step - loss: 1.2991 - accuracy: 0.6460 - val_loss: 1.2932 - val_accuracy: 0.6465\n",
            "Epoch 97/100\n",
            "1/1 [==============================] - 0s 74ms/step - loss: 1.2922 - accuracy: 0.6469 - val_loss: 1.2863 - val_accuracy: 0.6478\n",
            "Epoch 98/100\n",
            "1/1 [==============================] - 0s 74ms/step - loss: 1.2853 - accuracy: 0.6478 - val_loss: 1.2795 - val_accuracy: 0.6486\n",
            "Epoch 99/100\n",
            "1/1 [==============================] - 0s 66ms/step - loss: 1.2786 - accuracy: 0.6484 - val_loss: 1.2728 - val_accuracy: 0.6494\n",
            "Epoch 100/100\n",
            "1/1 [==============================] - 0s 67ms/step - loss: 1.2719 - accuracy: 0.6494 - val_loss: 1.2662 - val_accuracy: 0.6499\n",
            "Tempo di addestramento: 0 minuti e 15 secondi\n"
          ],
          "name": "stdout"
        }
      ]
    },
    {
      "cell_type": "markdown",
      "metadata": {
        "id": "7wqPjz7pjoIO",
        "colab_type": "text"
      },
      "source": [
        "I risultati del modello sono piuttosto scarsi, perché le 100 epoche non erano sufficenti a far convergere il modello, infatti con ulteriori epoche il modello avrebbe continuato a migliorare.\n",
        "<br>\n",
        "Utilizziamo i valori della funzione di costo raccolti per visualizzare la sua variazione a ogni epoche su di un grafico."
      ]
    },
    {
      "cell_type": "code",
      "metadata": {
        "id": "4MMfTIPIjoIO",
        "colab_type": "code",
        "colab": {
          "base_uri": "https://localhost:8080/",
          "height": 621
        },
        "outputId": "27dbcfc2-6668-49d0-fd78-db578d54043b"
      },
      "source": [
        "plot_loss_chart(\"Full Batch Gradient Descent\")"
      ],
      "execution_count": null,
      "outputs": [
        {
          "output_type": "display_data",
          "data": {
            "image/png": "[encoded data removed]",
            "text/plain": [
              "<Figure size 1008x720 with 1 Axes>"
            ]
          },
          "metadata": {
            "tags": [],
            "needs_background": "light"
          }
        }
      ]
    },
    {
      "cell_type": "markdown",
      "metadata": {
        "id": "exIEY5tdjoIQ",
        "colab_type": "text"
      },
      "source": [
        "Come possiamo osservare, l'errore del modello si è ridotto in maniera abbastanza pulita senza oscillazioni."
      ]
    },
    {
      "cell_type": "markdown",
      "metadata": {
        "id": "5H9J9oQ2joIR",
        "colab_type": "text"
      },
      "source": [
        "## Stochastic Gradient Descent\n",
        "Passiamo adesso all'estremo opposto del Gradient Descent: lo Stochastic Gradient Descent che per ogni step utilizza un'unica osservazione.<br> Per utilizzarlo impostiamo come dimensione del singolo batch 1, in modo tale da far utilizzare all'algoritmo di ottimizzazione un esempio per volta. In questo modo il gradient descent ad ogni epoca viene eseguito un numero di volte pari al numero di esempi nel set di addestramento (nel nostro caso 60.000), ne segue che il completamento di un'epoca richiederà molto più tempo rispetto al full batch. Per questo motivo impostiamo il numero di epoche a 5."
      ]
    },
    {
      "cell_type": "code",
      "metadata": {
        "id": "m-hqwQcjjoIR",
        "colab_type": "code",
        "colab": {
          "base_uri": "https://localhost:8080/",
          "height": 381
        },
        "outputId": "a873ec56-d22b-4439-83ed-17bf4e716970"
      },
      "source": [
        "model = build_model()\n",
        "\n",
        "start_at = time()\n",
        "model.fit(X_train, y_train, batch_size=1,\n",
        "          validation_data=(X_test, y_test), validation_batch_size = 1, \n",
        "          epochs=10, callbacks=[tf.keras.callbacks.History()])\n",
        "exec_time = time() - start_at\n",
        "\n",
        "print(\"Tempo di addestramento: %d minuti e %d secondi\" % (exec_time/60, exec_time%60))"
      ],
      "execution_count": null,
      "outputs": [
        {
          "output_type": "stream",
          "text": [
            "Epoch 1/10\n",
            "42000/42000 [==============================] - 100s 2ms/step - loss: 0.5436 - accuracy: 0.7988 - val_loss: 0.4942 - val_accuracy: 0.8139\n",
            "Epoch 2/10\n",
            "42000/42000 [==============================] - 100s 2ms/step - loss: 0.4112 - accuracy: 0.8475 - val_loss: 0.3893 - val_accuracy: 0.8533\n",
            "Epoch 3/10\n",
            "42000/42000 [==============================] - 100s 2ms/step - loss: 0.3694 - accuracy: 0.8640 - val_loss: 0.3502 - val_accuracy: 0.8716\n",
            "Epoch 4/10\n",
            "42000/42000 [==============================] - 100s 2ms/step - loss: 0.3421 - accuracy: 0.8717 - val_loss: 0.3748 - val_accuracy: 0.8683\n",
            "Epoch 5/10\n",
            "42000/42000 [==============================] - 100s 2ms/step - loss: 0.3232 - accuracy: 0.8798 - val_loss: 0.3445 - val_accuracy: 0.8720\n",
            "Epoch 6/10\n",
            "42000/42000 [==============================] - 101s 2ms/step - loss: 0.3068 - accuracy: 0.8843 - val_loss: 0.3935 - val_accuracy: 0.8615\n",
            "Epoch 7/10\n",
            "42000/42000 [==============================] - 100s 2ms/step - loss: 0.2946 - accuracy: 0.8889 - val_loss: 0.3360 - val_accuracy: 0.8812\n",
            "Epoch 8/10\n",
            "42000/42000 [==============================] - 100s 2ms/step - loss: 0.2811 - accuracy: 0.8941 - val_loss: 0.3932 - val_accuracy: 0.8616\n",
            "Epoch 9/10\n",
            "42000/42000 [==============================] - 100s 2ms/step - loss: 0.2730 - accuracy: 0.8979 - val_loss: 0.3369 - val_accuracy: 0.8814\n",
            "Epoch 10/10\n",
            "42000/42000 [==============================] - 100s 2ms/step - loss: 0.2638 - accuracy: 0.9009 - val_loss: 0.3579 - val_accuracy: 0.8771\n",
            "Tempo di addestramento: 16 minuti e 40 secondi\n"
          ],
          "name": "stdout"
        }
      ]
    },
    {
      "cell_type": "code",
      "metadata": {
        "id": "UT9Kuhp-x_41",
        "colab_type": "code",
        "colab": {
          "base_uri": "https://localhost:8080/",
          "height": 621
        },
        "outputId": "0763d151-2ff6-4469-aafb-c50cc3ba11ce"
      },
      "source": [
        "plot_loss_chart(\"Stochastic Gradient Descent\")"
      ],
      "execution_count": null,
      "outputs": [
        {
          "output_type": "display_data",
          "data": {
            "image/png": "[encoded data removed]",
            "text/plain": [
              "<Figure size 1008x720 with 1 Axes>"
            ]
          },
          "metadata": {
            "tags": [],
            "needs_background": "light"
          }
        }
      ]
    },
    {
      "cell_type": "markdown",
      "metadata": {
        "id": "vcG_z_XFjoIX",
        "colab_type": "text"
      },
      "source": [
        "Nel mio caso, l'esecuzione di 5 epoche di stochastic gradient descent ha richiesto 4 volte il tempo del full batch, ma l'addestramento si è concluso con un risultato decisamente migliore."
      ]
    },
    {
      "cell_type": "markdown",
      "metadata": {
        "id": "khC7SBJFjoIX",
        "colab_type": "text"
      },
      "source": [
        "## Mini Batch Gradient Descent\n",
        "Completiamo eseguendo la versione intermedia del Gradient Descent e anche quella più consigliata da utilizzare: il Mini Batch Gradient Descent, dove il numero di esempi da utilizzare per ogni step del Gradient Descent viene scelto in numero predefinito.\n",
        "Specifichiamo all'interno del metodo <span style=\"font-family: Monaco\">fit</span> la dimensione di ogni batch, i valori consigliati sono 32, 64, 128, 256 e 512.<br>\n",
        "Optiamo per 512."
      ]
    },
    {
      "cell_type": "code",
      "metadata": {
        "id": "WfeFIZA6joIc",
        "colab_type": "code",
        "colab": {
          "base_uri": "https://localhost:8080/",
          "height": 1000
        },
        "outputId": "9d1057e5-9f6d-4dcd-8482-0b612374a8b9"
      },
      "source": [
        "model = build_model()\n",
        "\n",
        "start_at = time()\n",
        "model.fit(X_train, y_train, batch_size=512,\n",
        "          validation_data=(X_test, y_test), validation_batch_size = 512, \n",
        "          epochs=100, callbacks=[tf.keras.callbacks.History()])\n",
        "exec_time = time() - start_at\n",
        "\n",
        "print(\"Tempo di addestramento: %d minuti e %d secondi\" % (exec_time/60, exec_time%60))"
      ],
      "execution_count": 13,
      "outputs": [
        {
          "output_type": "stream",
          "text": [
            "Epoch 1/100\n",
            "83/83 [==============================] - 1s 7ms/step - loss: 1.8162 - accuracy: 0.5060 - val_loss: 1.4106 - val_accuracy: 0.6220\n",
            "Epoch 2/100\n",
            "83/83 [==============================] - 1s 6ms/step - loss: 1.1533 - accuracy: 0.6836 - val_loss: 1.0071 - val_accuracy: 0.6840\n",
            "Epoch 3/100\n",
            "83/83 [==============================] - 1s 6ms/step - loss: 0.8846 - accuracy: 0.7323 - val_loss: 0.8809 - val_accuracy: 0.7017\n",
            "Epoch 4/100\n",
            "83/83 [==============================] - 1s 6ms/step - loss: 0.7665 - accuracy: 0.7610 - val_loss: 0.7590 - val_accuracy: 0.7434\n",
            "Epoch 5/100\n",
            "83/83 [==============================] - 1s 6ms/step - loss: 0.6972 - accuracy: 0.7788 - val_loss: 0.7525 - val_accuracy: 0.7258\n",
            "Epoch 6/100\n",
            "83/83 [==============================] - 1s 6ms/step - loss: 0.6524 - accuracy: 0.7895 - val_loss: 0.6860 - val_accuracy: 0.7683\n",
            "Epoch 7/100\n",
            "83/83 [==============================] - 1s 6ms/step - loss: 0.6179 - accuracy: 0.7993 - val_loss: 0.7000 - val_accuracy: 0.7532\n",
            "Epoch 8/100\n",
            "83/83 [==============================] - 1s 6ms/step - loss: 0.5932 - accuracy: 0.8056 - val_loss: 0.5908 - val_accuracy: 0.8033\n",
            "Epoch 9/100\n",
            "83/83 [==============================] - 1s 6ms/step - loss: 0.5712 - accuracy: 0.8116 - val_loss: 0.7288 - val_accuracy: 0.7301\n",
            "Epoch 10/100\n",
            "83/83 [==============================] - 0s 6ms/step - loss: 0.5569 - accuracy: 0.8145 - val_loss: 0.5802 - val_accuracy: 0.8012\n",
            "Epoch 11/100\n",
            "83/83 [==============================] - 0s 6ms/step - loss: 0.5415 - accuracy: 0.8188 - val_loss: 1.0726 - val_accuracy: 0.7030\n",
            "Epoch 12/100\n",
            "83/83 [==============================] - 0s 6ms/step - loss: 0.5348 - accuracy: 0.8206 - val_loss: 0.5769 - val_accuracy: 0.8034\n",
            "Epoch 13/100\n",
            "83/83 [==============================] - 0s 6ms/step - loss: 0.5177 - accuracy: 0.8242 - val_loss: 0.5723 - val_accuracy: 0.7970\n",
            "Epoch 14/100\n",
            "83/83 [==============================] - 0s 6ms/step - loss: 0.5095 - accuracy: 0.8267 - val_loss: 0.7358 - val_accuracy: 0.7395\n",
            "Epoch 15/100\n",
            "83/83 [==============================] - 0s 6ms/step - loss: 0.5040 - accuracy: 0.8278 - val_loss: 0.7211 - val_accuracy: 0.7601\n",
            "Epoch 16/100\n",
            "83/83 [==============================] - 0s 6ms/step - loss: 0.4968 - accuracy: 0.8305 - val_loss: 0.8963 - val_accuracy: 0.7294\n",
            "Epoch 17/100\n",
            "83/83 [==============================] - 0s 6ms/step - loss: 0.4928 - accuracy: 0.8315 - val_loss: 0.5800 - val_accuracy: 0.7876\n",
            "Epoch 18/100\n",
            "83/83 [==============================] - 1s 6ms/step - loss: 0.4831 - accuracy: 0.8343 - val_loss: 0.6078 - val_accuracy: 0.7731\n",
            "Epoch 19/100\n",
            "83/83 [==============================] - 1s 7ms/step - loss: 0.4775 - accuracy: 0.8350 - val_loss: 0.5208 - val_accuracy: 0.8144\n",
            "Epoch 20/100\n",
            "83/83 [==============================] - 0s 6ms/step - loss: 0.4701 - accuracy: 0.8382 - val_loss: 0.5482 - val_accuracy: 0.7969\n",
            "Epoch 21/100\n",
            "83/83 [==============================] - 1s 6ms/step - loss: 0.4677 - accuracy: 0.8392 - val_loss: 0.6403 - val_accuracy: 0.7723\n",
            "Epoch 22/100\n",
            "83/83 [==============================] - 1s 6ms/step - loss: 0.4631 - accuracy: 0.8397 - val_loss: 0.6050 - val_accuracy: 0.7877\n",
            "Epoch 23/100\n",
            "83/83 [==============================] - 0s 6ms/step - loss: 0.4585 - accuracy: 0.8411 - val_loss: 0.4966 - val_accuracy: 0.8279\n",
            "Epoch 24/100\n",
            "83/83 [==============================] - 0s 6ms/step - loss: 0.4540 - accuracy: 0.8421 - val_loss: 0.6475 - val_accuracy: 0.7589\n",
            "Epoch 25/100\n",
            "83/83 [==============================] - 0s 6ms/step - loss: 0.4533 - accuracy: 0.8420 - val_loss: 0.7259 - val_accuracy: 0.7196\n",
            "Epoch 26/100\n",
            "83/83 [==============================] - 0s 6ms/step - loss: 0.4521 - accuracy: 0.8429 - val_loss: 0.4584 - val_accuracy: 0.8406\n",
            "Epoch 27/100\n",
            "83/83 [==============================] - 1s 6ms/step - loss: 0.4422 - accuracy: 0.8466 - val_loss: 0.6984 - val_accuracy: 0.7689\n",
            "Epoch 28/100\n",
            "83/83 [==============================] - 1s 6ms/step - loss: 0.4407 - accuracy: 0.8480 - val_loss: 0.8368 - val_accuracy: 0.7502\n",
            "Epoch 29/100\n",
            "83/83 [==============================] - 1s 6ms/step - loss: 0.4400 - accuracy: 0.8483 - val_loss: 0.5196 - val_accuracy: 0.8089\n",
            "Epoch 30/100\n",
            "83/83 [==============================] - 1s 6ms/step - loss: 0.4334 - accuracy: 0.8500 - val_loss: 0.4884 - val_accuracy: 0.8237\n",
            "Epoch 31/100\n",
            "83/83 [==============================] - 0s 6ms/step - loss: 0.4300 - accuracy: 0.8505 - val_loss: 0.5051 - val_accuracy: 0.8167\n",
            "Epoch 32/100\n",
            "83/83 [==============================] - 0s 6ms/step - loss: 0.4279 - accuracy: 0.8514 - val_loss: 0.5039 - val_accuracy: 0.8237\n",
            "Epoch 33/100\n",
            "83/83 [==============================] - 0s 6ms/step - loss: 0.4255 - accuracy: 0.8521 - val_loss: 0.4573 - val_accuracy: 0.8363\n",
            "Epoch 34/100\n",
            "83/83 [==============================] - 0s 6ms/step - loss: 0.4209 - accuracy: 0.8543 - val_loss: 0.5778 - val_accuracy: 0.7967\n",
            "Epoch 35/100\n",
            "83/83 [==============================] - 0s 6ms/step - loss: 0.4249 - accuracy: 0.8521 - val_loss: 0.6608 - val_accuracy: 0.7848\n",
            "Epoch 36/100\n",
            "83/83 [==============================] - 0s 6ms/step - loss: 0.4187 - accuracy: 0.8552 - val_loss: 0.4469 - val_accuracy: 0.8420\n",
            "Epoch 37/100\n",
            "83/83 [==============================] - 1s 6ms/step - loss: 0.4163 - accuracy: 0.8551 - val_loss: 0.6088 - val_accuracy: 0.7976\n",
            "Epoch 38/100\n",
            "83/83 [==============================] - 1s 6ms/step - loss: 0.4157 - accuracy: 0.8563 - val_loss: 0.4310 - val_accuracy: 0.8488\n",
            "Epoch 39/100\n",
            "83/83 [==============================] - 0s 6ms/step - loss: 0.4109 - accuracy: 0.8567 - val_loss: 0.5363 - val_accuracy: 0.8065\n",
            "Epoch 40/100\n",
            "83/83 [==============================] - 0s 6ms/step - loss: 0.4082 - accuracy: 0.8584 - val_loss: 0.5318 - val_accuracy: 0.8144\n",
            "Epoch 41/100\n",
            "83/83 [==============================] - 0s 6ms/step - loss: 0.4081 - accuracy: 0.8575 - val_loss: 0.5429 - val_accuracy: 0.8066\n",
            "Epoch 42/100\n",
            "83/83 [==============================] - 0s 6ms/step - loss: 0.4069 - accuracy: 0.8585 - val_loss: 0.4814 - val_accuracy: 0.8295\n",
            "Epoch 43/100\n",
            "83/83 [==============================] - 0s 6ms/step - loss: 0.4040 - accuracy: 0.8599 - val_loss: 0.4449 - val_accuracy: 0.8421\n",
            "Epoch 44/100\n",
            "83/83 [==============================] - 1s 6ms/step - loss: 0.3997 - accuracy: 0.8611 - val_loss: 0.6658 - val_accuracy: 0.7528\n",
            "Epoch 45/100\n",
            "83/83 [==============================] - 0s 6ms/step - loss: 0.4028 - accuracy: 0.8609 - val_loss: 0.4232 - val_accuracy: 0.8507\n",
            "Epoch 46/100\n",
            "83/83 [==============================] - 0s 6ms/step - loss: 0.3968 - accuracy: 0.8618 - val_loss: 0.6223 - val_accuracy: 0.7943\n",
            "Epoch 47/100\n",
            "83/83 [==============================] - 1s 6ms/step - loss: 0.3977 - accuracy: 0.8618 - val_loss: 0.5648 - val_accuracy: 0.7875\n",
            "Epoch 48/100\n",
            "83/83 [==============================] - 1s 6ms/step - loss: 0.3968 - accuracy: 0.8617 - val_loss: 0.6708 - val_accuracy: 0.8022\n",
            "Epoch 49/100\n",
            "83/83 [==============================] - 0s 6ms/step - loss: 0.3947 - accuracy: 0.8627 - val_loss: 0.5081 - val_accuracy: 0.8262\n",
            "Epoch 50/100\n",
            "83/83 [==============================] - 0s 6ms/step - loss: 0.3880 - accuracy: 0.8646 - val_loss: 0.4893 - val_accuracy: 0.8297\n",
            "Epoch 51/100\n",
            "83/83 [==============================] - 1s 6ms/step - loss: 0.3892 - accuracy: 0.8640 - val_loss: 0.4535 - val_accuracy: 0.8357\n",
            "Epoch 52/100\n",
            "83/83 [==============================] - 1s 6ms/step - loss: 0.3858 - accuracy: 0.8645 - val_loss: 0.8889 - val_accuracy: 0.6924\n",
            "Epoch 53/100\n",
            "83/83 [==============================] - 1s 6ms/step - loss: 0.3905 - accuracy: 0.8654 - val_loss: 0.5247 - val_accuracy: 0.8198\n",
            "Epoch 54/100\n",
            "83/83 [==============================] - 0s 6ms/step - loss: 0.3858 - accuracy: 0.8670 - val_loss: 0.5655 - val_accuracy: 0.7879\n",
            "Epoch 55/100\n",
            "83/83 [==============================] - 0s 6ms/step - loss: 0.3829 - accuracy: 0.8669 - val_loss: 0.6043 - val_accuracy: 0.8002\n",
            "Epoch 56/100\n",
            "83/83 [==============================] - 0s 6ms/step - loss: 0.3843 - accuracy: 0.8667 - val_loss: 0.4637 - val_accuracy: 0.8367\n",
            "Epoch 57/100\n",
            "83/83 [==============================] - 0s 6ms/step - loss: 0.3796 - accuracy: 0.8679 - val_loss: 0.9326 - val_accuracy: 0.7476\n",
            "Epoch 58/100\n",
            "83/83 [==============================] - 0s 6ms/step - loss: 0.3824 - accuracy: 0.8687 - val_loss: 0.6422 - val_accuracy: 0.8178\n",
            "Epoch 59/100\n",
            "83/83 [==============================] - 0s 6ms/step - loss: 0.3786 - accuracy: 0.8691 - val_loss: 0.4072 - val_accuracy: 0.8558\n",
            "Epoch 60/100\n",
            "83/83 [==============================] - 0s 6ms/step - loss: 0.3740 - accuracy: 0.8698 - val_loss: 0.5102 - val_accuracy: 0.8248\n",
            "Epoch 61/100\n",
            "83/83 [==============================] - 0s 6ms/step - loss: 0.3751 - accuracy: 0.8703 - val_loss: 0.4731 - val_accuracy: 0.8288\n",
            "Epoch 62/100\n",
            "83/83 [==============================] - 1s 7ms/step - loss: 0.3719 - accuracy: 0.8708 - val_loss: 1.6011 - val_accuracy: 0.6118\n",
            "Epoch 63/100\n",
            "83/83 [==============================] - 1s 6ms/step - loss: 0.3916 - accuracy: 0.8683 - val_loss: 0.4841 - val_accuracy: 0.8368\n",
            "Epoch 64/100\n",
            "83/83 [==============================] - 1s 6ms/step - loss: 0.3676 - accuracy: 0.8724 - val_loss: 0.7619 - val_accuracy: 0.7638\n",
            "Epoch 65/100\n",
            "83/83 [==============================] - 1s 6ms/step - loss: 0.3699 - accuracy: 0.8721 - val_loss: 0.4829 - val_accuracy: 0.8228\n",
            "Epoch 66/100\n",
            "83/83 [==============================] - 0s 6ms/step - loss: 0.3644 - accuracy: 0.8733 - val_loss: 0.4761 - val_accuracy: 0.8384\n",
            "Epoch 67/100\n",
            "83/83 [==============================] - 1s 6ms/step - loss: 0.3653 - accuracy: 0.8723 - val_loss: 0.6320 - val_accuracy: 0.8096\n",
            "Epoch 68/100\n",
            "83/83 [==============================] - 1s 6ms/step - loss: 0.3659 - accuracy: 0.8720 - val_loss: 0.4774 - val_accuracy: 0.8273\n",
            "Epoch 69/100\n",
            "83/83 [==============================] - 1s 6ms/step - loss: 0.3623 - accuracy: 0.8740 - val_loss: 0.5642 - val_accuracy: 0.8039\n",
            "Epoch 70/100\n",
            "83/83 [==============================] - 1s 6ms/step - loss: 0.3649 - accuracy: 0.8728 - val_loss: 0.5044 - val_accuracy: 0.8161\n",
            "Epoch 71/100\n",
            "83/83 [==============================] - 1s 7ms/step - loss: 0.3637 - accuracy: 0.8735 - val_loss: 0.3881 - val_accuracy: 0.8624\n",
            "Epoch 72/100\n",
            "83/83 [==============================] - 0s 6ms/step - loss: 0.3591 - accuracy: 0.8744 - val_loss: 0.8465 - val_accuracy: 0.7010\n",
            "Epoch 73/100\n",
            "83/83 [==============================] - 0s 6ms/step - loss: 0.3617 - accuracy: 0.8762 - val_loss: 1.0824 - val_accuracy: 0.7543\n",
            "Epoch 74/100\n",
            "83/83 [==============================] - 0s 6ms/step - loss: 0.3657 - accuracy: 0.8748 - val_loss: 1.2190 - val_accuracy: 0.7325\n",
            "Epoch 75/100\n",
            "83/83 [==============================] - 0s 6ms/step - loss: 0.3635 - accuracy: 0.8753 - val_loss: 0.4400 - val_accuracy: 0.8459\n",
            "Epoch 76/100\n",
            "83/83 [==============================] - 1s 6ms/step - loss: 0.3529 - accuracy: 0.8772 - val_loss: 0.5126 - val_accuracy: 0.8154\n",
            "Epoch 77/100\n",
            "83/83 [==============================] - 1s 6ms/step - loss: 0.3531 - accuracy: 0.8760 - val_loss: 0.5304 - val_accuracy: 0.8327\n",
            "Epoch 78/100\n",
            "83/83 [==============================] - 1s 6ms/step - loss: 0.3493 - accuracy: 0.8787 - val_loss: 0.7312 - val_accuracy: 0.7815\n",
            "Epoch 79/100\n",
            "83/83 [==============================] - 0s 6ms/step - loss: 0.3547 - accuracy: 0.8772 - val_loss: 0.5524 - val_accuracy: 0.8012\n",
            "Epoch 80/100\n",
            "83/83 [==============================] - 1s 7ms/step - loss: 0.3515 - accuracy: 0.8778 - val_loss: 0.5303 - val_accuracy: 0.8067\n",
            "Epoch 81/100\n",
            "83/83 [==============================] - 1s 7ms/step - loss: 0.3508 - accuracy: 0.8780 - val_loss: 0.6213 - val_accuracy: 0.7807\n",
            "Epoch 82/100\n",
            "83/83 [==============================] - 1s 6ms/step - loss: 0.3503 - accuracy: 0.8772 - val_loss: 0.6658 - val_accuracy: 0.7803\n",
            "Epoch 83/100\n",
            "83/83 [==============================] - 1s 6ms/step - loss: 0.3463 - accuracy: 0.8789 - val_loss: 0.5662 - val_accuracy: 0.7988\n",
            "Epoch 84/100\n",
            "83/83 [==============================] - 1s 6ms/step - loss: 0.3460 - accuracy: 0.8794 - val_loss: 0.6546 - val_accuracy: 0.7907\n",
            "Epoch 85/100\n",
            "83/83 [==============================] - 1s 6ms/step - loss: 0.3445 - accuracy: 0.8810 - val_loss: 0.4956 - val_accuracy: 0.8184\n",
            "Epoch 86/100\n",
            "83/83 [==============================] - 0s 5ms/step - loss: 0.3447 - accuracy: 0.8795 - val_loss: 0.5762 - val_accuracy: 0.8127\n",
            "Epoch 87/100\n",
            "83/83 [==============================] - 0s 6ms/step - loss: 0.3413 - accuracy: 0.8818 - val_loss: 0.4748 - val_accuracy: 0.8269\n",
            "Epoch 88/100\n",
            "83/83 [==============================] - 0s 6ms/step - loss: 0.3410 - accuracy: 0.8811 - val_loss: 0.4099 - val_accuracy: 0.8566\n",
            "Epoch 89/100\n",
            "83/83 [==============================] - 1s 6ms/step - loss: 0.3385 - accuracy: 0.8818 - val_loss: 0.4959 - val_accuracy: 0.8201\n",
            "Epoch 90/100\n",
            "83/83 [==============================] - 0s 5ms/step - loss: 0.3381 - accuracy: 0.8831 - val_loss: 0.5950 - val_accuracy: 0.7872\n",
            "Epoch 91/100\n",
            "83/83 [==============================] - 0s 6ms/step - loss: 0.3403 - accuracy: 0.8819 - val_loss: 0.5258 - val_accuracy: 0.8106\n",
            "Epoch 92/100\n",
            "83/83 [==============================] - 0s 6ms/step - loss: 0.3380 - accuracy: 0.8815 - val_loss: 0.4529 - val_accuracy: 0.8478\n",
            "Epoch 93/100\n",
            "83/83 [==============================] - 0s 6ms/step - loss: 0.3353 - accuracy: 0.8823 - val_loss: 1.0665 - val_accuracy: 0.6545\n",
            "Epoch 94/100\n",
            "83/83 [==============================] - 0s 6ms/step - loss: 0.3466 - accuracy: 0.8805 - val_loss: 0.4238 - val_accuracy: 0.8494\n",
            "Epoch 95/100\n",
            "83/83 [==============================] - 0s 6ms/step - loss: 0.3324 - accuracy: 0.8830 - val_loss: 0.5519 - val_accuracy: 0.8157\n",
            "Epoch 96/100\n",
            "83/83 [==============================] - 0s 6ms/step - loss: 0.3349 - accuracy: 0.8819 - val_loss: 0.3714 - val_accuracy: 0.8691\n",
            "Epoch 97/100\n",
            "83/83 [==============================] - 0s 6ms/step - loss: 0.3287 - accuracy: 0.8854 - val_loss: 0.4122 - val_accuracy: 0.8538\n",
            "Epoch 98/100\n",
            "83/83 [==============================] - 0s 6ms/step - loss: 0.3300 - accuracy: 0.8846 - val_loss: 0.4565 - val_accuracy: 0.8355\n",
            "Epoch 99/100\n",
            "83/83 [==============================] - 0s 6ms/step - loss: 0.3296 - accuracy: 0.8851 - val_loss: 0.3692 - val_accuracy: 0.8682\n",
            "Epoch 100/100\n",
            "83/83 [==============================] - 1s 6ms/step - loss: 0.3279 - accuracy: 0.8855 - val_loss: 0.3713 - val_accuracy: 0.8711\n",
            "Tempo di addestramento: 0 minuti e 51 secondi\n"
          ],
          "name": "stdout"
        }
      ]
    },
    {
      "cell_type": "markdown",
      "metadata": {
        "id": "_p7T8b54joId",
        "colab_type": "text"
      },
      "source": [
        "Il mini batch con un batch size di 512 ha richiesto poco più tempo del full batch e ha portato a un risultato finale decisamente migliore.\n",
        "Visualizziamo la variazione dell'errore ad ogni epoca."
      ]
    },
    {
      "cell_type": "code",
      "metadata": {
        "id": "cQWYUtYLjoId",
        "colab_type": "code",
        "colab": {
          "base_uri": "https://localhost:8080/",
          "height": 621
        },
        "outputId": "09fd9332-4c97-43d6-874a-f649b05414c2"
      },
      "source": [
        "plot_loss_chart(\"Mini-Batch Gradient Descent\")"
      ],
      "execution_count": 16,
      "outputs": [
        {
          "output_type": "display_data",
          "data": {
            "image/png": "[encoded data removed]",
            "text/plain": [
              "<Figure size 1008x720 with 1 Axes>"
            ]
          },
          "metadata": {
            "tags": [],
            "needs_background": "light"
          }
        }
      ]
    },
    {
      "cell_type": "markdown",
      "metadata": {
        "id": "lhzh220vjoIg",
        "colab_type": "text"
      },
      "source": [
        "Come vedi l'errore si è ridotto molto in fretta durante le prime 10 epoche, dopodichè ha continuato a migliorare più lentamento oscillando leggermente."
      ]
    }
  ]
}