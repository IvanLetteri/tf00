{
  "nbformat": 4,
  "nbformat_minor": 0,
  "metadata": {
    "colab": {
      "name": "Untitled54.ipynb",
      "provenance": [],
      "authorship_tag": "ABX9TyOTpxjzRmIoYEmEKtYTM2gg",
      "include_colab_link": true
    },
    "kernelspec": {
      "name": "python3",
      "display_name": "Python 3"
    },
    "accelerator": "GPU",
    "widgets": {
      "application/vnd.jupyter.widget-state+json": {
        "7b980530699c4a9db93a279d94ebdb59": {
          "model_module": "@jupyter-widgets/controls",
          "model_name": "HBoxModel",
          "state": {
            "_view_name": "HBoxView",
            "_dom_classes": [],
            "_model_name": "HBoxModel",
            "_view_module": "@jupyter-widgets/controls",
            "_model_module_version": "1.5.0",
            "_view_count": null,
            "_view_module_version": "1.5.0",
            "box_style": "",
            "layout": "IPY_MODEL_bd68b1dfa9d4461ca9992b55852426ba",
            "_model_module": "@jupyter-widgets/controls",
            "children": [
              "IPY_MODEL_7142d6e7845841d384eeda8a3fbcb98e",
              "IPY_MODEL_ae0fbd07ff5b400a999b56daa399415b"
            ]
          }
        },
        "bd68b1dfa9d4461ca9992b55852426ba": {
          "model_module": "@jupyter-widgets/base",
          "model_name": "LayoutModel",
          "state": {
            "_view_name": "LayoutView",
            "grid_template_rows": null,
            "right": null,
            "justify_content": null,
            "_view_module": "@jupyter-widgets/base",
            "overflow": null,
            "_model_module_version": "1.2.0",
            "_view_count": null,
            "flex_flow": null,
            "width": null,
            "min_width": null,
            "border": null,
            "align_items": null,
            "bottom": null,
            "_model_module": "@jupyter-widgets/base",
            "top": null,
            "grid_column": null,
            "overflow_y": null,
            "overflow_x": null,
            "grid_auto_flow": null,
            "grid_area": null,
            "grid_template_columns": null,
            "flex": null,
            "_model_name": "LayoutModel",
            "justify_items": null,
            "grid_row": null,
            "max_height": null,
            "align_content": null,
            "visibility": null,
            "align_self": null,
            "height": null,
            "min_height": null,
            "padding": null,
            "grid_auto_rows": null,
            "grid_gap": null,
            "max_width": null,
            "order": null,
            "_view_module_version": "1.2.0",
            "grid_template_areas": null,
            "object_position": null,
            "object_fit": null,
            "grid_auto_columns": null,
            "margin": null,
            "display": null,
            "left": null
          }
        },
        "7142d6e7845841d384eeda8a3fbcb98e": {
          "model_module": "@jupyter-widgets/controls",
          "model_name": "FloatProgressModel",
          "state": {
            "_view_name": "ProgressView",
            "style": "IPY_MODEL_666ec251efe14881825a634e74d8daaf",
            "_dom_classes": [],
            "description": "Dl Completed...: 100%",
            "_model_name": "FloatProgressModel",
            "bar_style": "success",
            "max": 1,
            "_view_module": "@jupyter-widgets/controls",
            "_model_module_version": "1.5.0",
            "value": 1,
            "_view_count": null,
            "_view_module_version": "1.5.0",
            "orientation": "horizontal",
            "min": 0,
            "description_tooltip": null,
            "_model_module": "@jupyter-widgets/controls",
            "layout": "IPY_MODEL_1a5fec83c66d49f59d25f2826951fd50"
          }
        },
        "ae0fbd07ff5b400a999b56daa399415b": {
          "model_module": "@jupyter-widgets/controls",
          "model_name": "HTMLModel",
          "state": {
            "_view_name": "HTMLView",
            "style": "IPY_MODEL_1e22b6f90a714d5eb0ebdc0b1c20c533",
            "_dom_classes": [],
            "description": "",
            "_model_name": "HTMLModel",
            "placeholder": "​",
            "_view_module": "@jupyter-widgets/controls",
            "_model_module_version": "1.5.0",
            "value": " 1/1 [00:56&lt;00:00, 56.05s/ url]",
            "_view_count": null,
            "_view_module_version": "1.5.0",
            "description_tooltip": null,
            "_model_module": "@jupyter-widgets/controls",
            "layout": "IPY_MODEL_e1df004c49a0421ba47b953d09f5c4d0"
          }
        },
        "666ec251efe14881825a634e74d8daaf": {
          "model_module": "@jupyter-widgets/controls",
          "model_name": "ProgressStyleModel",
          "state": {
            "_view_name": "StyleView",
            "_model_name": "ProgressStyleModel",
            "description_width": "initial",
            "_view_module": "@jupyter-widgets/base",
            "_model_module_version": "1.5.0",
            "_view_count": null,
            "_view_module_version": "1.2.0",
            "bar_color": null,
            "_model_module": "@jupyter-widgets/controls"
          }
        },
        "1a5fec83c66d49f59d25f2826951fd50": {
          "model_module": "@jupyter-widgets/base",
          "model_name": "LayoutModel",
          "state": {
            "_view_name": "LayoutView",
            "grid_template_rows": null,
            "right": null,
            "justify_content": null,
            "_view_module": "@jupyter-widgets/base",
            "overflow": null,
            "_model_module_version": "1.2.0",
            "_view_count": null,
            "flex_flow": null,
            "width": null,
            "min_width": null,
            "border": null,
            "align_items": null,
            "bottom": null,
            "_model_module": "@jupyter-widgets/base",
            "top": null,
            "grid_column": null,
            "overflow_y": null,
            "overflow_x": null,
            "grid_auto_flow": null,
            "grid_area": null,
            "grid_template_columns": null,
            "flex": null,
            "_model_name": "LayoutModel",
            "justify_items": null,
            "grid_row": null,
            "max_height": null,
            "align_content": null,
            "visibility": null,
            "align_self": null,
            "height": null,
            "min_height": null,
            "padding": null,
            "grid_auto_rows": null,
            "grid_gap": null,
            "max_width": null,
            "order": null,
            "_view_module_version": "1.2.0",
            "grid_template_areas": null,
            "object_position": null,
            "object_fit": null,
            "grid_auto_columns": null,
            "margin": null,
            "display": null,
            "left": null
          }
        },
        "1e22b6f90a714d5eb0ebdc0b1c20c533": {
          "model_module": "@jupyter-widgets/controls",
          "model_name": "DescriptionStyleModel",
          "state": {
            "_view_name": "StyleView",
            "_model_name": "DescriptionStyleModel",
            "description_width": "",
            "_view_module": "@jupyter-widgets/base",
            "_model_module_version": "1.5.0",
            "_view_count": null,
            "_view_module_version": "1.2.0",
            "_model_module": "@jupyter-widgets/controls"
          }
        },
        "e1df004c49a0421ba47b953d09f5c4d0": {
          "model_module": "@jupyter-widgets/base",
          "model_name": "LayoutModel",
          "state": {
            "_view_name": "LayoutView",
            "grid_template_rows": null,
            "right": null,
            "justify_content": null,
            "_view_module": "@jupyter-widgets/base",
            "overflow": null,
            "_model_module_version": "1.2.0",
            "_view_count": null,
            "flex_flow": null,
            "width": null,
            "min_width": null,
            "border": null,
            "align_items": null,
            "bottom": null,
            "_model_module": "@jupyter-widgets/base",
            "top": null,
            "grid_column": null,
            "overflow_y": null,
            "overflow_x": null,
            "grid_auto_flow": null,
            "grid_area": null,
            "grid_template_columns": null,
            "flex": null,
            "_model_name": "LayoutModel",
            "justify_items": null,
            "grid_row": null,
            "max_height": null,
            "align_content": null,
            "visibility": null,
            "align_self": null,
            "height": null,
            "min_height": null,
            "padding": null,
            "grid_auto_rows": null,
            "grid_gap": null,
            "max_width": null,
            "order": null,
            "_view_module_version": "1.2.0",
            "grid_template_areas": null,
            "object_position": null,
            "object_fit": null,
            "grid_auto_columns": null,
            "margin": null,
            "display": null,
            "left": null
          }
        },
        "2bd0feeee4ce4fd7b3114a08123aeba0": {
          "model_module": "@jupyter-widgets/controls",
          "model_name": "HBoxModel",
          "state": {
            "_view_name": "HBoxView",
            "_dom_classes": [],
            "_model_name": "HBoxModel",
            "_view_module": "@jupyter-widgets/controls",
            "_model_module_version": "1.5.0",
            "_view_count": null,
            "_view_module_version": "1.5.0",
            "box_style": "",
            "layout": "IPY_MODEL_985c40642ad740db9557065448460984",
            "_model_module": "@jupyter-widgets/controls",
            "children": [
              "IPY_MODEL_1ea217c06b54491789130591eaa23866",
              "IPY_MODEL_c61071becc404f0aa0a523518b690dca"
            ]
          }
        },
        "985c40642ad740db9557065448460984": {
          "model_module": "@jupyter-widgets/base",
          "model_name": "LayoutModel",
          "state": {
            "_view_name": "LayoutView",
            "grid_template_rows": null,
            "right": null,
            "justify_content": null,
            "_view_module": "@jupyter-widgets/base",
            "overflow": null,
            "_model_module_version": "1.2.0",
            "_view_count": null,
            "flex_flow": null,
            "width": null,
            "min_width": null,
            "border": null,
            "align_items": null,
            "bottom": null,
            "_model_module": "@jupyter-widgets/base",
            "top": null,
            "grid_column": null,
            "overflow_y": null,
            "overflow_x": null,
            "grid_auto_flow": null,
            "grid_area": null,
            "grid_template_columns": null,
            "flex": null,
            "_model_name": "LayoutModel",
            "justify_items": null,
            "grid_row": null,
            "max_height": null,
            "align_content": null,
            "visibility": null,
            "align_self": null,
            "height": null,
            "min_height": null,
            "padding": null,
            "grid_auto_rows": null,
            "grid_gap": null,
            "max_width": null,
            "order": null,
            "_view_module_version": "1.2.0",
            "grid_template_areas": null,
            "object_position": null,
            "object_fit": null,
            "grid_auto_columns": null,
            "margin": null,
            "display": null,
            "left": null
          }
        },
        "1ea217c06b54491789130591eaa23866": {
          "model_module": "@jupyter-widgets/controls",
          "model_name": "FloatProgressModel",
          "state": {
            "_view_name": "ProgressView",
            "style": "IPY_MODEL_438781e97a00407daf761190f51eaaef",
            "_dom_classes": [],
            "description": "Dl Size...: 100%",
            "_model_name": "FloatProgressModel",
            "bar_style": "success",
            "max": 1,
            "_view_module": "@jupyter-widgets/controls",
            "_model_module_version": "1.5.0",
            "value": 1,
            "_view_count": null,
            "_view_module_version": "1.5.0",
            "orientation": "horizontal",
            "min": 0,
            "description_tooltip": null,
            "_model_module": "@jupyter-widgets/controls",
            "layout": "IPY_MODEL_0eaf0d7b3f8a4efca548679890cd1218"
          }
        },
        "c61071becc404f0aa0a523518b690dca": {
          "model_module": "@jupyter-widgets/controls",
          "model_name": "HTMLModel",
          "state": {
            "_view_name": "HTMLView",
            "style": "IPY_MODEL_5aba7e3d18394dc8b6e1437a15f87bd1",
            "_dom_classes": [],
            "description": "",
            "_model_name": "HTMLModel",
            "placeholder": "​",
            "_view_module": "@jupyter-widgets/controls",
            "_model_module_version": "1.5.0",
            "value": " 337/337 [00:56&lt;00:00,  6.02 MiB/s]",
            "_view_count": null,
            "_view_module_version": "1.5.0",
            "description_tooltip": null,
            "_model_module": "@jupyter-widgets/controls",
            "layout": "IPY_MODEL_1f0535afdb464a0686fcb636edd3d4b8"
          }
        },
        "438781e97a00407daf761190f51eaaef": {
          "model_module": "@jupyter-widgets/controls",
          "model_name": "ProgressStyleModel",
          "state": {
            "_view_name": "StyleView",
            "_model_name": "ProgressStyleModel",
            "description_width": "initial",
            "_view_module": "@jupyter-widgets/base",
            "_model_module_version": "1.5.0",
            "_view_count": null,
            "_view_module_version": "1.2.0",
            "bar_color": null,
            "_model_module": "@jupyter-widgets/controls"
          }
        },
        "0eaf0d7b3f8a4efca548679890cd1218": {
          "model_module": "@jupyter-widgets/base",
          "model_name": "LayoutModel",
          "state": {
            "_view_name": "LayoutView",
            "grid_template_rows": null,
            "right": null,
            "justify_content": null,
            "_view_module": "@jupyter-widgets/base",
            "overflow": null,
            "_model_module_version": "1.2.0",
            "_view_count": null,
            "flex_flow": null,
            "width": null,
            "min_width": null,
            "border": null,
            "align_items": null,
            "bottom": null,
            "_model_module": "@jupyter-widgets/base",
            "top": null,
            "grid_column": null,
            "overflow_y": null,
            "overflow_x": null,
            "grid_auto_flow": null,
            "grid_area": null,
            "grid_template_columns": null,
            "flex": null,
            "_model_name": "LayoutModel",
            "justify_items": null,
            "grid_row": null,
            "max_height": null,
            "align_content": null,
            "visibility": null,
            "align_self": null,
            "height": null,
            "min_height": null,
            "padding": null,
            "grid_auto_rows": null,
            "grid_gap": null,
            "max_width": null,
            "order": null,
            "_view_module_version": "1.2.0",
            "grid_template_areas": null,
            "object_position": null,
            "object_fit": null,
            "grid_auto_columns": null,
            "margin": null,
            "display": null,
            "left": null
          }
        },
        "5aba7e3d18394dc8b6e1437a15f87bd1": {
          "model_module": "@jupyter-widgets/controls",
          "model_name": "DescriptionStyleModel",
          "state": {
            "_view_name": "StyleView",
            "_model_name": "DescriptionStyleModel",
            "description_width": "",
            "_view_module": "@jupyter-widgets/base",
            "_model_module_version": "1.5.0",
            "_view_count": null,
            "_view_module_version": "1.2.0",
            "_model_module": "@jupyter-widgets/controls"
          }
        },
        "1f0535afdb464a0686fcb636edd3d4b8": {
          "model_module": "@jupyter-widgets/base",
          "model_name": "LayoutModel",
          "state": {
            "_view_name": "LayoutView",
            "grid_template_rows": null,
            "right": null,
            "justify_content": null,
            "_view_module": "@jupyter-widgets/base",
            "overflow": null,
            "_model_module_version": "1.2.0",
            "_view_count": null,
            "flex_flow": null,
            "width": null,
            "min_width": null,
            "border": null,
            "align_items": null,
            "bottom": null,
            "_model_module": "@jupyter-widgets/base",
            "top": null,
            "grid_column": null,
            "overflow_y": null,
            "overflow_x": null,
            "grid_auto_flow": null,
            "grid_area": null,
            "grid_template_columns": null,
            "flex": null,
            "_model_name": "LayoutModel",
            "justify_items": null,
            "grid_row": null,
            "max_height": null,
            "align_content": null,
            "visibility": null,
            "align_self": null,
            "height": null,
            "min_height": null,
            "padding": null,
            "grid_auto_rows": null,
            "grid_gap": null,
            "max_width": null,
            "order": null,
            "_view_module_version": "1.2.0",
            "grid_template_areas": null,
            "object_position": null,
            "object_fit": null,
            "grid_auto_columns": null,
            "margin": null,
            "display": null,
            "left": null
          }
        },
        "11181a381212407eaab4db85a61d462c": {
          "model_module": "@jupyter-widgets/controls",
          "model_name": "HBoxModel",
          "state": {
            "_view_name": "HBoxView",
            "_dom_classes": [],
            "_model_name": "HBoxModel",
            "_view_module": "@jupyter-widgets/controls",
            "_model_module_version": "1.5.0",
            "_view_count": null,
            "_view_module_version": "1.5.0",
            "box_style": "",
            "layout": "IPY_MODEL_bc3e0820f8664dd387efd87adbd5223d",
            "_model_module": "@jupyter-widgets/controls",
            "children": [
              "IPY_MODEL_c66c160f12d446a6a7356b87327f1e2a",
              "IPY_MODEL_233a4c70f8a044ad97fd0fc97cd39e68"
            ]
          }
        },
        "bc3e0820f8664dd387efd87adbd5223d": {
          "model_module": "@jupyter-widgets/base",
          "model_name": "LayoutModel",
          "state": {
            "_view_name": "LayoutView",
            "grid_template_rows": null,
            "right": null,
            "justify_content": null,
            "_view_module": "@jupyter-widgets/base",
            "overflow": null,
            "_model_module_version": "1.2.0",
            "_view_count": null,
            "flex_flow": null,
            "width": null,
            "min_width": null,
            "border": null,
            "align_items": null,
            "bottom": null,
            "_model_module": "@jupyter-widgets/base",
            "top": null,
            "grid_column": null,
            "overflow_y": null,
            "overflow_x": null,
            "grid_auto_flow": null,
            "grid_area": null,
            "grid_template_columns": null,
            "flex": null,
            "_model_name": "LayoutModel",
            "justify_items": null,
            "grid_row": null,
            "max_height": null,
            "align_content": null,
            "visibility": null,
            "align_self": null,
            "height": null,
            "min_height": null,
            "padding": null,
            "grid_auto_rows": null,
            "grid_gap": null,
            "max_width": null,
            "order": null,
            "_view_module_version": "1.2.0",
            "grid_template_areas": null,
            "object_position": null,
            "object_fit": null,
            "grid_auto_columns": null,
            "margin": null,
            "display": null,
            "left": null
          }
        },
        "c66c160f12d446a6a7356b87327f1e2a": {
          "model_module": "@jupyter-widgets/controls",
          "model_name": "FloatProgressModel",
          "state": {
            "_view_name": "ProgressView",
            "style": "IPY_MODEL_2c428229782b464eb4a4f1107b272d80",
            "_dom_classes": [],
            "description": "Extraction completed...: 100%",
            "_model_name": "FloatProgressModel",
            "bar_style": "success",
            "max": 1,
            "_view_module": "@jupyter-widgets/controls",
            "_model_module_version": "1.5.0",
            "value": 1,
            "_view_count": null,
            "_view_module_version": "1.5.0",
            "orientation": "horizontal",
            "min": 0,
            "description_tooltip": null,
            "_model_module": "@jupyter-widgets/controls",
            "layout": "IPY_MODEL_a9aa011e389347c8886e5ebe36ec87c1"
          }
        },
        "233a4c70f8a044ad97fd0fc97cd39e68": {
          "model_module": "@jupyter-widgets/controls",
          "model_name": "HTMLModel",
          "state": {
            "_view_name": "HTMLView",
            "style": "IPY_MODEL_eb23cdd7dcb1450394aace2a0ac2dea2",
            "_dom_classes": [],
            "description": "",
            "_model_name": "HTMLModel",
            "placeholder": "​",
            "_view_module": "@jupyter-widgets/controls",
            "_model_module_version": "1.5.0",
            "value": " 1/1 [00:55&lt;00:00, 55.97s/ file]",
            "_view_count": null,
            "_view_module_version": "1.5.0",
            "description_tooltip": null,
            "_model_module": "@jupyter-widgets/controls",
            "layout": "IPY_MODEL_3558e485372c4e7ea610a81fa9e48e8b"
          }
        },
        "2c428229782b464eb4a4f1107b272d80": {
          "model_module": "@jupyter-widgets/controls",
          "model_name": "ProgressStyleModel",
          "state": {
            "_view_name": "StyleView",
            "_model_name": "ProgressStyleModel",
            "description_width": "initial",
            "_view_module": "@jupyter-widgets/base",
            "_model_module_version": "1.5.0",
            "_view_count": null,
            "_view_module_version": "1.2.0",
            "bar_color": null,
            "_model_module": "@jupyter-widgets/controls"
          }
        },
        "a9aa011e389347c8886e5ebe36ec87c1": {
          "model_module": "@jupyter-widgets/base",
          "model_name": "LayoutModel",
          "state": {
            "_view_name": "LayoutView",
            "grid_template_rows": null,
            "right": null,
            "justify_content": null,
            "_view_module": "@jupyter-widgets/base",
            "overflow": null,
            "_model_module_version": "1.2.0",
            "_view_count": null,
            "flex_flow": null,
            "width": null,
            "min_width": null,
            "border": null,
            "align_items": null,
            "bottom": null,
            "_model_module": "@jupyter-widgets/base",
            "top": null,
            "grid_column": null,
            "overflow_y": null,
            "overflow_x": null,
            "grid_auto_flow": null,
            "grid_area": null,
            "grid_template_columns": null,
            "flex": null,
            "_model_name": "LayoutModel",
            "justify_items": null,
            "grid_row": null,
            "max_height": null,
            "align_content": null,
            "visibility": null,
            "align_self": null,
            "height": null,
            "min_height": null,
            "padding": null,
            "grid_auto_rows": null,
            "grid_gap": null,
            "max_width": null,
            "order": null,
            "_view_module_version": "1.2.0",
            "grid_template_areas": null,
            "object_position": null,
            "object_fit": null,
            "grid_auto_columns": null,
            "margin": null,
            "display": null,
            "left": null
          }
        },
        "eb23cdd7dcb1450394aace2a0ac2dea2": {
          "model_module": "@jupyter-widgets/controls",
          "model_name": "DescriptionStyleModel",
          "state": {
            "_view_name": "StyleView",
            "_model_name": "DescriptionStyleModel",
            "description_width": "",
            "_view_module": "@jupyter-widgets/base",
            "_model_module_version": "1.5.0",
            "_view_count": null,
            "_view_module_version": "1.2.0",
            "_model_module": "@jupyter-widgets/controls"
          }
        },
        "3558e485372c4e7ea610a81fa9e48e8b": {
          "model_module": "@jupyter-widgets/base",
          "model_name": "LayoutModel",
          "state": {
            "_view_name": "LayoutView",
            "grid_template_rows": null,
            "right": null,
            "justify_content": null,
            "_view_module": "@jupyter-widgets/base",
            "overflow": null,
            "_model_module_version": "1.2.0",
            "_view_count": null,
            "flex_flow": null,
            "width": null,
            "min_width": null,
            "border": null,
            "align_items": null,
            "bottom": null,
            "_model_module": "@jupyter-widgets/base",
            "top": null,
            "grid_column": null,
            "overflow_y": null,
            "overflow_x": null,
            "grid_auto_flow": null,
            "grid_area": null,
            "grid_template_columns": null,
            "flex": null,
            "_model_name": "LayoutModel",
            "justify_items": null,
            "grid_row": null,
            "max_height": null,
            "align_content": null,
            "visibility": null,
            "align_self": null,
            "height": null,
            "min_height": null,
            "padding": null,
            "grid_auto_rows": null,
            "grid_gap": null,
            "max_width": null,
            "order": null,
            "_view_module_version": "1.2.0",
            "grid_template_areas": null,
            "object_position": null,
            "object_fit": null,
            "grid_auto_columns": null,
            "margin": null,
            "display": null,
            "left": null
          }
        },
        "dc8bd0295d0b4f0fba88bcbe86d2e6fa": {
          "model_module": "@jupyter-widgets/controls",
          "model_name": "HBoxModel",
          "state": {
            "_view_name": "HBoxView",
            "_dom_classes": [],
            "_model_name": "HBoxModel",
            "_view_module": "@jupyter-widgets/controls",
            "_model_module_version": "1.5.0",
            "_view_count": null,
            "_view_module_version": "1.5.0",
            "box_style": "",
            "layout": "IPY_MODEL_baf3d4ff52fd47589b7d5e38f07b10b8",
            "_model_module": "@jupyter-widgets/controls",
            "children": [
              "IPY_MODEL_104327d6253d4d8ebcd3dd23cf2f5a3e",
              "IPY_MODEL_1140383322cb462baefedb88ede1ce80"
            ]
          }
        },
        "baf3d4ff52fd47589b7d5e38f07b10b8": {
          "model_module": "@jupyter-widgets/base",
          "model_name": "LayoutModel",
          "state": {
            "_view_name": "LayoutView",
            "grid_template_rows": null,
            "right": null,
            "justify_content": null,
            "_view_module": "@jupyter-widgets/base",
            "overflow": null,
            "_model_module_version": "1.2.0",
            "_view_count": null,
            "flex_flow": null,
            "width": null,
            "min_width": null,
            "border": null,
            "align_items": null,
            "bottom": null,
            "_model_module": "@jupyter-widgets/base",
            "top": null,
            "grid_column": null,
            "overflow_y": null,
            "overflow_x": null,
            "grid_auto_flow": null,
            "grid_area": null,
            "grid_template_columns": null,
            "flex": null,
            "_model_name": "LayoutModel",
            "justify_items": null,
            "grid_row": null,
            "max_height": null,
            "align_content": null,
            "visibility": null,
            "align_self": null,
            "height": null,
            "min_height": null,
            "padding": null,
            "grid_auto_rows": null,
            "grid_gap": null,
            "max_width": null,
            "order": null,
            "_view_module_version": "1.2.0",
            "grid_template_areas": null,
            "object_position": null,
            "object_fit": null,
            "grid_auto_columns": null,
            "margin": null,
            "display": null,
            "left": null
          }
        },
        "104327d6253d4d8ebcd3dd23cf2f5a3e": {
          "model_module": "@jupyter-widgets/controls",
          "model_name": "FloatProgressModel",
          "state": {
            "_view_name": "ProgressView",
            "style": "IPY_MODEL_3d6b8948ab7c4af5bdd77b138dc7b55a",
            "_dom_classes": [],
            "description": "",
            "_model_name": "FloatProgressModel",
            "bar_style": "info",
            "max": 1,
            "_view_module": "@jupyter-widgets/controls",
            "_model_module_version": "1.5.0",
            "value": 1,
            "_view_count": null,
            "_view_module_version": "1.5.0",
            "orientation": "horizontal",
            "min": 0,
            "description_tooltip": null,
            "_model_module": "@jupyter-widgets/controls",
            "layout": "IPY_MODEL_7002ef26b46d437d9ef2ce9fe36926cf"
          }
        },
        "1140383322cb462baefedb88ede1ce80": {
          "model_module": "@jupyter-widgets/controls",
          "model_name": "HTMLModel",
          "state": {
            "_view_name": "HTMLView",
            "style": "IPY_MODEL_025a945136d04fc4a28796d47225f225",
            "_dom_classes": [],
            "description": "",
            "_model_name": "HTMLModel",
            "placeholder": "​",
            "_view_module": "@jupyter-widgets/controls",
            "_model_module_version": "1.5.0",
            "value": " 27558/0 [00:10&lt;00:00, 2593.24 examples/s]",
            "_view_count": null,
            "_view_module_version": "1.5.0",
            "description_tooltip": null,
            "_model_module": "@jupyter-widgets/controls",
            "layout": "IPY_MODEL_f39e2ab8ebed4b5784d78efafcd215d7"
          }
        },
        "3d6b8948ab7c4af5bdd77b138dc7b55a": {
          "model_module": "@jupyter-widgets/controls",
          "model_name": "ProgressStyleModel",
          "state": {
            "_view_name": "StyleView",
            "_model_name": "ProgressStyleModel",
            "description_width": "initial",
            "_view_module": "@jupyter-widgets/base",
            "_model_module_version": "1.5.0",
            "_view_count": null,
            "_view_module_version": "1.2.0",
            "bar_color": null,
            "_model_module": "@jupyter-widgets/controls"
          }
        },
        "7002ef26b46d437d9ef2ce9fe36926cf": {
          "model_module": "@jupyter-widgets/base",
          "model_name": "LayoutModel",
          "state": {
            "_view_name": "LayoutView",
            "grid_template_rows": null,
            "right": null,
            "justify_content": null,
            "_view_module": "@jupyter-widgets/base",
            "overflow": null,
            "_model_module_version": "1.2.0",
            "_view_count": null,
            "flex_flow": null,
            "width": null,
            "min_width": null,
            "border": null,
            "align_items": null,
            "bottom": null,
            "_model_module": "@jupyter-widgets/base",
            "top": null,
            "grid_column": null,
            "overflow_y": null,
            "overflow_x": null,
            "grid_auto_flow": null,
            "grid_area": null,
            "grid_template_columns": null,
            "flex": null,
            "_model_name": "LayoutModel",
            "justify_items": null,
            "grid_row": null,
            "max_height": null,
            "align_content": null,
            "visibility": null,
            "align_self": null,
            "height": null,
            "min_height": null,
            "padding": null,
            "grid_auto_rows": null,
            "grid_gap": null,
            "max_width": null,
            "order": null,
            "_view_module_version": "1.2.0",
            "grid_template_areas": null,
            "object_position": null,
            "object_fit": null,
            "grid_auto_columns": null,
            "margin": null,
            "display": null,
            "left": null
          }
        },
        "025a945136d04fc4a28796d47225f225": {
          "model_module": "@jupyter-widgets/controls",
          "model_name": "DescriptionStyleModel",
          "state": {
            "_view_name": "StyleView",
            "_model_name": "DescriptionStyleModel",
            "description_width": "",
            "_view_module": "@jupyter-widgets/base",
            "_model_module_version": "1.5.0",
            "_view_count": null,
            "_view_module_version": "1.2.0",
            "_model_module": "@jupyter-widgets/controls"
          }
        },
        "f39e2ab8ebed4b5784d78efafcd215d7": {
          "model_module": "@jupyter-widgets/base",
          "model_name": "LayoutModel",
          "state": {
            "_view_name": "LayoutView",
            "grid_template_rows": null,
            "right": null,
            "justify_content": null,
            "_view_module": "@jupyter-widgets/base",
            "overflow": null,
            "_model_module_version": "1.2.0",
            "_view_count": null,
            "flex_flow": null,
            "width": null,
            "min_width": null,
            "border": null,
            "align_items": null,
            "bottom": null,
            "_model_module": "@jupyter-widgets/base",
            "top": null,
            "grid_column": null,
            "overflow_y": null,
            "overflow_x": null,
            "grid_auto_flow": null,
            "grid_area": null,
            "grid_template_columns": null,
            "flex": null,
            "_model_name": "LayoutModel",
            "justify_items": null,
            "grid_row": null,
            "max_height": null,
            "align_content": null,
            "visibility": null,
            "align_self": null,
            "height": null,
            "min_height": null,
            "padding": null,
            "grid_auto_rows": null,
            "grid_gap": null,
            "max_width": null,
            "order": null,
            "_view_module_version": "1.2.0",
            "grid_template_areas": null,
            "object_position": null,
            "object_fit": null,
            "grid_auto_columns": null,
            "margin": null,
            "display": null,
            "left": null
          }
        },
        "71c143012d3242528aeec3c7fab666fb": {
          "model_module": "@jupyter-widgets/controls",
          "model_name": "HBoxModel",
          "state": {
            "_view_name": "HBoxView",
            "_dom_classes": [],
            "_model_name": "HBoxModel",
            "_view_module": "@jupyter-widgets/controls",
            "_model_module_version": "1.5.0",
            "_view_count": null,
            "_view_module_version": "1.5.0",
            "box_style": "",
            "layout": "IPY_MODEL_ab0c8bf46fd142539fd6a41c9c5313ac",
            "_model_module": "@jupyter-widgets/controls",
            "children": [
              "IPY_MODEL_55253c9a4d7c4eafa2ee5db93d49c2d0",
              "IPY_MODEL_f5671047b87243df9745e86b58a4a1f2"
            ]
          }
        },
        "ab0c8bf46fd142539fd6a41c9c5313ac": {
          "model_module": "@jupyter-widgets/base",
          "model_name": "LayoutModel",
          "state": {
            "_view_name": "LayoutView",
            "grid_template_rows": null,
            "right": null,
            "justify_content": null,
            "_view_module": "@jupyter-widgets/base",
            "overflow": null,
            "_model_module_version": "1.2.0",
            "_view_count": null,
            "flex_flow": null,
            "width": null,
            "min_width": null,
            "border": null,
            "align_items": null,
            "bottom": null,
            "_model_module": "@jupyter-widgets/base",
            "top": null,
            "grid_column": null,
            "overflow_y": null,
            "overflow_x": null,
            "grid_auto_flow": null,
            "grid_area": null,
            "grid_template_columns": null,
            "flex": null,
            "_model_name": "LayoutModel",
            "justify_items": null,
            "grid_row": null,
            "max_height": null,
            "align_content": null,
            "visibility": null,
            "align_self": null,
            "height": null,
            "min_height": null,
            "padding": null,
            "grid_auto_rows": null,
            "grid_gap": null,
            "max_width": null,
            "order": null,
            "_view_module_version": "1.2.0",
            "grid_template_areas": null,
            "object_position": null,
            "object_fit": null,
            "grid_auto_columns": null,
            "margin": null,
            "display": null,
            "left": null
          }
        },
        "55253c9a4d7c4eafa2ee5db93d49c2d0": {
          "model_module": "@jupyter-widgets/controls",
          "model_name": "FloatProgressModel",
          "state": {
            "_view_name": "ProgressView",
            "style": "IPY_MODEL_257f32f61f4649b49bd8475930575854",
            "_dom_classes": [],
            "description": " 86%",
            "_model_name": "FloatProgressModel",
            "bar_style": "danger",
            "max": 27558,
            "_view_module": "@jupyter-widgets/controls",
            "_model_module_version": "1.5.0",
            "value": 23834,
            "_view_count": null,
            "_view_module_version": "1.5.0",
            "orientation": "horizontal",
            "min": 0,
            "description_tooltip": null,
            "_model_module": "@jupyter-widgets/controls",
            "layout": "IPY_MODEL_5e52250131fa401fa666df87f430f40c"
          }
        },
        "f5671047b87243df9745e86b58a4a1f2": {
          "model_module": "@jupyter-widgets/controls",
          "model_name": "HTMLModel",
          "state": {
            "_view_name": "HTMLView",
            "style": "IPY_MODEL_25979afa0e8b4d97879dcef627f7fa38",
            "_dom_classes": [],
            "description": "",
            "_model_name": "HTMLModel",
            "placeholder": "​",
            "_view_module": "@jupyter-widgets/controls",
            "_model_module_version": "1.5.0",
            "value": " 23834/27558 [00:00&lt;00:46, 80.05 examples/s]",
            "_view_count": null,
            "_view_module_version": "1.5.0",
            "description_tooltip": null,
            "_model_module": "@jupyter-widgets/controls",
            "layout": "IPY_MODEL_9fe5ceadb4874971823ab6b69f93e75e"
          }
        },
        "257f32f61f4649b49bd8475930575854": {
          "model_module": "@jupyter-widgets/controls",
          "model_name": "ProgressStyleModel",
          "state": {
            "_view_name": "StyleView",
            "_model_name": "ProgressStyleModel",
            "description_width": "initial",
            "_view_module": "@jupyter-widgets/base",
            "_model_module_version": "1.5.0",
            "_view_count": null,
            "_view_module_version": "1.2.0",
            "bar_color": null,
            "_model_module": "@jupyter-widgets/controls"
          }
        },
        "5e52250131fa401fa666df87f430f40c": {
          "model_module": "@jupyter-widgets/base",
          "model_name": "LayoutModel",
          "state": {
            "_view_name": "LayoutView",
            "grid_template_rows": null,
            "right": null,
            "justify_content": null,
            "_view_module": "@jupyter-widgets/base",
            "overflow": null,
            "_model_module_version": "1.2.0",
            "_view_count": null,
            "flex_flow": null,
            "width": null,
            "min_width": null,
            "border": null,
            "align_items": null,
            "bottom": null,
            "_model_module": "@jupyter-widgets/base",
            "top": null,
            "grid_column": null,
            "overflow_y": null,
            "overflow_x": null,
            "grid_auto_flow": null,
            "grid_area": null,
            "grid_template_columns": null,
            "flex": null,
            "_model_name": "LayoutModel",
            "justify_items": null,
            "grid_row": null,
            "max_height": null,
            "align_content": null,
            "visibility": null,
            "align_self": null,
            "height": null,
            "min_height": null,
            "padding": null,
            "grid_auto_rows": null,
            "grid_gap": null,
            "max_width": null,
            "order": null,
            "_view_module_version": "1.2.0",
            "grid_template_areas": null,
            "object_position": null,
            "object_fit": null,
            "grid_auto_columns": null,
            "margin": null,
            "display": null,
            "left": null
          }
        },
        "25979afa0e8b4d97879dcef627f7fa38": {
          "model_module": "@jupyter-widgets/controls",
          "model_name": "DescriptionStyleModel",
          "state": {
            "_view_name": "StyleView",
            "_model_name": "DescriptionStyleModel",
            "description_width": "",
            "_view_module": "@jupyter-widgets/base",
            "_model_module_version": "1.5.0",
            "_view_count": null,
            "_view_module_version": "1.2.0",
            "_model_module": "@jupyter-widgets/controls"
          }
        },
        "9fe5ceadb4874971823ab6b69f93e75e": {
          "model_module": "@jupyter-widgets/base",
          "model_name": "LayoutModel",
          "state": {
            "_view_name": "LayoutView",
            "grid_template_rows": null,
            "right": null,
            "justify_content": null,
            "_view_module": "@jupyter-widgets/base",
            "overflow": null,
            "_model_module_version": "1.2.0",
            "_view_count": null,
            "flex_flow": null,
            "width": null,
            "min_width": null,
            "border": null,
            "align_items": null,
            "bottom": null,
            "_model_module": "@jupyter-widgets/base",
            "top": null,
            "grid_column": null,
            "overflow_y": null,
            "overflow_x": null,
            "grid_auto_flow": null,
            "grid_area": null,
            "grid_template_columns": null,
            "flex": null,
            "_model_name": "LayoutModel",
            "justify_items": null,
            "grid_row": null,
            "max_height": null,
            "align_content": null,
            "visibility": null,
            "align_self": null,
            "height": null,
            "min_height": null,
            "padding": null,
            "grid_auto_rows": null,
            "grid_gap": null,
            "max_width": null,
            "order": null,
            "_view_module_version": "1.2.0",
            "grid_template_areas": null,
            "object_position": null,
            "object_fit": null,
            "grid_auto_columns": null,
            "margin": null,
            "display": null,
            "left": null
          }
        },
        "b7575f7d9a8c4e238890e27dbb27621a": {
          "model_module": "@jupyter-widgets/controls",
          "model_name": "HBoxModel",
          "state": {
            "_view_name": "HBoxView",
            "_dom_classes": [],
            "_model_name": "HBoxModel",
            "_view_module": "@jupyter-widgets/controls",
            "_model_module_version": "1.5.0",
            "_view_count": null,
            "_view_module_version": "1.5.0",
            "box_style": "",
            "layout": "IPY_MODEL_ff841649bda243e18d4d58be89c56e1e",
            "_model_module": "@jupyter-widgets/controls",
            "children": [
              "IPY_MODEL_4e25fc56832b491bbfed3c9fd2318576",
              "IPY_MODEL_7216b53963024db6aee6be4434fc586d"
            ]
          }
        },
        "ff841649bda243e18d4d58be89c56e1e": {
          "model_module": "@jupyter-widgets/base",
          "model_name": "LayoutModel",
          "state": {
            "_view_name": "LayoutView",
            "grid_template_rows": null,
            "right": null,
            "justify_content": null,
            "_view_module": "@jupyter-widgets/base",
            "overflow": null,
            "_model_module_version": "1.2.0",
            "_view_count": null,
            "flex_flow": null,
            "width": null,
            "min_width": null,
            "border": null,
            "align_items": null,
            "bottom": null,
            "_model_module": "@jupyter-widgets/base",
            "top": null,
            "grid_column": null,
            "overflow_y": null,
            "overflow_x": null,
            "grid_auto_flow": null,
            "grid_area": null,
            "grid_template_columns": null,
            "flex": null,
            "_model_name": "LayoutModel",
            "justify_items": null,
            "grid_row": null,
            "max_height": null,
            "align_content": null,
            "visibility": null,
            "align_self": null,
            "height": null,
            "min_height": null,
            "padding": null,
            "grid_auto_rows": null,
            "grid_gap": null,
            "max_width": null,
            "order": null,
            "_view_module_version": "1.2.0",
            "grid_template_areas": null,
            "object_position": null,
            "object_fit": null,
            "grid_auto_columns": null,
            "margin": null,
            "display": null,
            "left": null
          }
        },
        "4e25fc56832b491bbfed3c9fd2318576": {
          "model_module": "@jupyter-widgets/controls",
          "model_name": "FloatProgressModel",
          "state": {
            "_view_name": "ProgressView",
            "style": "IPY_MODEL_5c545e2bef754839a49d79d71da0969a",
            "_dom_classes": [],
            "description": "Computing statistics...: 100%",
            "_model_name": "FloatProgressModel",
            "bar_style": "success",
            "max": 1,
            "_view_module": "@jupyter-widgets/controls",
            "_model_module_version": "1.5.0",
            "value": 1,
            "_view_count": null,
            "_view_module_version": "1.5.0",
            "orientation": "horizontal",
            "min": 0,
            "description_tooltip": null,
            "_model_module": "@jupyter-widgets/controls",
            "layout": "IPY_MODEL_f44e1b58e13d44cb93cfe2295c85f55e"
          }
        },
        "7216b53963024db6aee6be4434fc586d": {
          "model_module": "@jupyter-widgets/controls",
          "model_name": "HTMLModel",
          "state": {
            "_view_name": "HTMLView",
            "style": "IPY_MODEL_3bbf489ad257461891934af195c69421",
            "_dom_classes": [],
            "description": "",
            "_model_name": "HTMLModel",
            "placeholder": "​",
            "_view_module": "@jupyter-widgets/controls",
            "_model_module_version": "1.5.0",
            "value": " 1/1 [00:33&lt;00:00, 33.26s/ split]",
            "_view_count": null,
            "_view_module_version": "1.5.0",
            "description_tooltip": null,
            "_model_module": "@jupyter-widgets/controls",
            "layout": "IPY_MODEL_aa9bd9c57f194567821e73f068f09c1e"
          }
        },
        "5c545e2bef754839a49d79d71da0969a": {
          "model_module": "@jupyter-widgets/controls",
          "model_name": "ProgressStyleModel",
          "state": {
            "_view_name": "StyleView",
            "_model_name": "ProgressStyleModel",
            "description_width": "initial",
            "_view_module": "@jupyter-widgets/base",
            "_model_module_version": "1.5.0",
            "_view_count": null,
            "_view_module_version": "1.2.0",
            "bar_color": null,
            "_model_module": "@jupyter-widgets/controls"
          }
        },
        "f44e1b58e13d44cb93cfe2295c85f55e": {
          "model_module": "@jupyter-widgets/base",
          "model_name": "LayoutModel",
          "state": {
            "_view_name": "LayoutView",
            "grid_template_rows": null,
            "right": null,
            "justify_content": null,
            "_view_module": "@jupyter-widgets/base",
            "overflow": null,
            "_model_module_version": "1.2.0",
            "_view_count": null,
            "flex_flow": null,
            "width": null,
            "min_width": null,
            "border": null,
            "align_items": null,
            "bottom": null,
            "_model_module": "@jupyter-widgets/base",
            "top": null,
            "grid_column": null,
            "overflow_y": null,
            "overflow_x": null,
            "grid_auto_flow": null,
            "grid_area": null,
            "grid_template_columns": null,
            "flex": null,
            "_model_name": "LayoutModel",
            "justify_items": null,
            "grid_row": null,
            "max_height": null,
            "align_content": null,
            "visibility": null,
            "align_self": null,
            "height": null,
            "min_height": null,
            "padding": null,
            "grid_auto_rows": null,
            "grid_gap": null,
            "max_width": null,
            "order": null,
            "_view_module_version": "1.2.0",
            "grid_template_areas": null,
            "object_position": null,
            "object_fit": null,
            "grid_auto_columns": null,
            "margin": null,
            "display": null,
            "left": null
          }
        },
        "3bbf489ad257461891934af195c69421": {
          "model_module": "@jupyter-widgets/controls",
          "model_name": "DescriptionStyleModel",
          "state": {
            "_view_name": "StyleView",
            "_model_name": "DescriptionStyleModel",
            "description_width": "",
            "_view_module": "@jupyter-widgets/base",
            "_model_module_version": "1.5.0",
            "_view_count": null,
            "_view_module_version": "1.2.0",
            "_model_module": "@jupyter-widgets/controls"
          }
        },
        "aa9bd9c57f194567821e73f068f09c1e": {
          "model_module": "@jupyter-widgets/base",
          "model_name": "LayoutModel",
          "state": {
            "_view_name": "LayoutView",
            "grid_template_rows": null,
            "right": null,
            "justify_content": null,
            "_view_module": "@jupyter-widgets/base",
            "overflow": null,
            "_model_module_version": "1.2.0",
            "_view_count": null,
            "flex_flow": null,
            "width": null,
            "min_width": null,
            "border": null,
            "align_items": null,
            "bottom": null,
            "_model_module": "@jupyter-widgets/base",
            "top": null,
            "grid_column": null,
            "overflow_y": null,
            "overflow_x": null,
            "grid_auto_flow": null,
            "grid_area": null,
            "grid_template_columns": null,
            "flex": null,
            "_model_name": "LayoutModel",
            "justify_items": null,
            "grid_row": null,
            "max_height": null,
            "align_content": null,
            "visibility": null,
            "align_self": null,
            "height": null,
            "min_height": null,
            "padding": null,
            "grid_auto_rows": null,
            "grid_gap": null,
            "max_width": null,
            "order": null,
            "_view_module_version": "1.2.0",
            "grid_template_areas": null,
            "object_position": null,
            "object_fit": null,
            "grid_auto_columns": null,
            "margin": null,
            "display": null,
            "left": null
          }
        },
        "7f2793fe1fe441569bcdd5b327b0f6cd": {
          "model_module": "@jupyter-widgets/controls",
          "model_name": "HBoxModel",
          "state": {
            "_view_name": "HBoxView",
            "_dom_classes": [],
            "_model_name": "HBoxModel",
            "_view_module": "@jupyter-widgets/controls",
            "_model_module_version": "1.5.0",
            "_view_count": null,
            "_view_module_version": "1.5.0",
            "box_style": "",
            "layout": "IPY_MODEL_a08c68276aaa401bb5541e6ff5ce5645",
            "_model_module": "@jupyter-widgets/controls",
            "children": [
              "IPY_MODEL_b04969fae0b743abb1618311b78d9cc2",
              "IPY_MODEL_a6bbdabf78934c92adb02c7192a678ef"
            ]
          }
        },
        "a08c68276aaa401bb5541e6ff5ce5645": {
          "model_module": "@jupyter-widgets/base",
          "model_name": "LayoutModel",
          "state": {
            "_view_name": "LayoutView",
            "grid_template_rows": null,
            "right": null,
            "justify_content": null,
            "_view_module": "@jupyter-widgets/base",
            "overflow": null,
            "_model_module_version": "1.2.0",
            "_view_count": null,
            "flex_flow": null,
            "width": null,
            "min_width": null,
            "border": null,
            "align_items": null,
            "bottom": null,
            "_model_module": "@jupyter-widgets/base",
            "top": null,
            "grid_column": null,
            "overflow_y": null,
            "overflow_x": null,
            "grid_auto_flow": null,
            "grid_area": null,
            "grid_template_columns": null,
            "flex": null,
            "_model_name": "LayoutModel",
            "justify_items": null,
            "grid_row": null,
            "max_height": null,
            "align_content": null,
            "visibility": null,
            "align_self": null,
            "height": null,
            "min_height": null,
            "padding": null,
            "grid_auto_rows": null,
            "grid_gap": null,
            "max_width": null,
            "order": null,
            "_view_module_version": "1.2.0",
            "grid_template_areas": null,
            "object_position": null,
            "object_fit": null,
            "grid_auto_columns": null,
            "margin": null,
            "display": null,
            "left": null
          }
        },
        "b04969fae0b743abb1618311b78d9cc2": {
          "model_module": "@jupyter-widgets/controls",
          "model_name": "FloatProgressModel",
          "state": {
            "_view_name": "ProgressView",
            "style": "IPY_MODEL_16556eb4969746a2a9bb25f6d9567286",
            "_dom_classes": [],
            "description": "",
            "_model_name": "FloatProgressModel",
            "bar_style": "info",
            "max": 1,
            "_view_module": "@jupyter-widgets/controls",
            "_model_module_version": "1.5.0",
            "value": 1,
            "_view_count": null,
            "_view_module_version": "1.5.0",
            "orientation": "horizontal",
            "min": 0,
            "description_tooltip": null,
            "_model_module": "@jupyter-widgets/controls",
            "layout": "IPY_MODEL_19fe3992d70441cfbdf3d4b8d3642c16"
          }
        },
        "a6bbdabf78934c92adb02c7192a678ef": {
          "model_module": "@jupyter-widgets/controls",
          "model_name": "HTMLModel",
          "state": {
            "_view_name": "HTMLView",
            "style": "IPY_MODEL_756baa0292d5483482284bdbba1bcc8a",
            "_dom_classes": [],
            "description": "",
            "_model_name": "HTMLModel",
            "placeholder": "​",
            "_view_module": "@jupyter-widgets/controls",
            "_model_module_version": "1.5.0",
            "value": " 27558/? [00:24&lt;00:00, 1189.38 examples/s]",
            "_view_count": null,
            "_view_module_version": "1.5.0",
            "description_tooltip": null,
            "_model_module": "@jupyter-widgets/controls",
            "layout": "IPY_MODEL_8364939c053a4d0e8de09d24c4d9cde4"
          }
        },
        "16556eb4969746a2a9bb25f6d9567286": {
          "model_module": "@jupyter-widgets/controls",
          "model_name": "ProgressStyleModel",
          "state": {
            "_view_name": "StyleView",
            "_model_name": "ProgressStyleModel",
            "description_width": "initial",
            "_view_module": "@jupyter-widgets/base",
            "_model_module_version": "1.5.0",
            "_view_count": null,
            "_view_module_version": "1.2.0",
            "bar_color": null,
            "_model_module": "@jupyter-widgets/controls"
          }
        },
        "19fe3992d70441cfbdf3d4b8d3642c16": {
          "model_module": "@jupyter-widgets/base",
          "model_name": "LayoutModel",
          "state": {
            "_view_name": "LayoutView",
            "grid_template_rows": null,
            "right": null,
            "justify_content": null,
            "_view_module": "@jupyter-widgets/base",
            "overflow": null,
            "_model_module_version": "1.2.0",
            "_view_count": null,
            "flex_flow": null,
            "width": null,
            "min_width": null,
            "border": null,
            "align_items": null,
            "bottom": null,
            "_model_module": "@jupyter-widgets/base",
            "top": null,
            "grid_column": null,
            "overflow_y": null,
            "overflow_x": null,
            "grid_auto_flow": null,
            "grid_area": null,
            "grid_template_columns": null,
            "flex": null,
            "_model_name": "LayoutModel",
            "justify_items": null,
            "grid_row": null,
            "max_height": null,
            "align_content": null,
            "visibility": null,
            "align_self": null,
            "height": null,
            "min_height": null,
            "padding": null,
            "grid_auto_rows": null,
            "grid_gap": null,
            "max_width": null,
            "order": null,
            "_view_module_version": "1.2.0",
            "grid_template_areas": null,
            "object_position": null,
            "object_fit": null,
            "grid_auto_columns": null,
            "margin": null,
            "display": null,
            "left": null
          }
        },
        "756baa0292d5483482284bdbba1bcc8a": {
          "model_module": "@jupyter-widgets/controls",
          "model_name": "DescriptionStyleModel",
          "state": {
            "_view_name": "StyleView",
            "_model_name": "DescriptionStyleModel",
            "description_width": "",
            "_view_module": "@jupyter-widgets/base",
            "_model_module_version": "1.5.0",
            "_view_count": null,
            "_view_module_version": "1.2.0",
            "_model_module": "@jupyter-widgets/controls"
          }
        },
        "8364939c053a4d0e8de09d24c4d9cde4": {
          "model_module": "@jupyter-widgets/base",
          "model_name": "LayoutModel",
          "state": {
            "_view_name": "LayoutView",
            "grid_template_rows": null,
            "right": null,
            "justify_content": null,
            "_view_module": "@jupyter-widgets/base",
            "overflow": null,
            "_model_module_version": "1.2.0",
            "_view_count": null,
            "flex_flow": null,
            "width": null,
            "min_width": null,
            "border": null,
            "align_items": null,
            "bottom": null,
            "_model_module": "@jupyter-widgets/base",
            "top": null,
            "grid_column": null,
            "overflow_y": null,
            "overflow_x": null,
            "grid_auto_flow": null,
            "grid_area": null,
            "grid_template_columns": null,
            "flex": null,
            "_model_name": "LayoutModel",
            "justify_items": null,
            "grid_row": null,
            "max_height": null,
            "align_content": null,
            "visibility": null,
            "align_self": null,
            "height": null,
            "min_height": null,
            "padding": null,
            "grid_auto_rows": null,
            "grid_gap": null,
            "max_width": null,
            "order": null,
            "_view_module_version": "1.2.0",
            "grid_template_areas": null,
            "object_position": null,
            "object_fit": null,
            "grid_auto_columns": null,
            "margin": null,
            "display": null,
            "left": null
          }
        }
      }
    }
  },
  "cells": [
    {
      "cell_type": "markdown",
      "metadata": {
        "id": "view-in-github",
        "colab_type": "text"
      },
      "source": [
        "<a href=\"https://colab.research.google.com/github/ProfAI/tf00/blob/master/5%20-%20Reti%20Neurali%20Convoluzionali/convnet.ipynb\" target=\"_parent\"><img src=\"https://colab.research.google.com/assets/colab-badge.svg\" alt=\"Open In Colab\"/></a>"
      ]
    },
    {
      "cell_type": "markdown",
      "metadata": {
        "id": "Z3oGZuqVtps1",
        "colab_type": "text"
      },
      "source": [
        "#ConvNet: Reti Neurali Convoluzionali\n",
        "Le Reti Neurali Convoluzionali (ConvNet - Convolutional Neural Networks) sono una classe di Reti Neurali molto utilizzate in ambito Computer Vision. A differenza delle Vanilla Neural Netwoks che ragionano pixel per pixel, le ConvNet ragionano su intere porzioni delle immagini.\n",
        "<br>\n",
        "In questo notebook addestreremo una ConvNet per riconoscere casi di malaria in immagini di campioni di sangue."
      ]
    },
    {
      "cell_type": "markdown",
      "metadata": {
        "id": "At8-zBbBthwy",
        "colab_type": "text"
      },
      "source": [
        "## Importiamo i moduli"
      ]
    },
    {
      "cell_type": "code",
      "metadata": {
        "id": "FKwl1DD6tohs",
        "colab_type": "code",
        "colab": {}
      },
      "source": [
        "import numpy as np\n",
        "\n",
        "import tensorflow as tf\n",
        "import tensorflow_datasets as tfds\n",
        "\n",
        "from tensorflow.keras.models import Sequential\n",
        "from tensorflow.keras.layers import Dense, Conv2D, Flatten, Dropout\n",
        "\n",
        "from tensorflow.keras.layers import MaxPooling2D\n",
        "\n",
        "from sklearn.model_selection import train_test_split\n",
        "import matplotlib.pyplot as plt\n",
        "\n",
        "import cv2"
      ],
      "execution_count": 4,
      "outputs": []
    },
    {
      "cell_type": "markdown",
      "metadata": {
        "id": "aHcPEYmptk7g",
        "colab_type": "text"
      },
      "source": [
        "## Prepariamo i Dati\n",
        "Scarichiamo il dataset con le immagini utilizzando tensorflow-dataset."
      ]
    },
    {
      "cell_type": "code",
      "metadata": {
        "id": "mcBu4LIGvcP1",
        "colab_type": "code",
        "colab": {
          "base_uri": "https://localhost:8080/",
          "height": 381,
          "referenced_widgets": [
            "7b980530699c4a9db93a279d94ebdb59",
            "bd68b1dfa9d4461ca9992b55852426ba",
            "7142d6e7845841d384eeda8a3fbcb98e",
            "ae0fbd07ff5b400a999b56daa399415b",
            "666ec251efe14881825a634e74d8daaf",
            "1a5fec83c66d49f59d25f2826951fd50",
            "1e22b6f90a714d5eb0ebdc0b1c20c533",
            "e1df004c49a0421ba47b953d09f5c4d0",
            "2bd0feeee4ce4fd7b3114a08123aeba0",
            "985c40642ad740db9557065448460984",
            "1ea217c06b54491789130591eaa23866",
            "c61071becc404f0aa0a523518b690dca",
            "438781e97a00407daf761190f51eaaef",
            "0eaf0d7b3f8a4efca548679890cd1218",
            "5aba7e3d18394dc8b6e1437a15f87bd1",
            "1f0535afdb464a0686fcb636edd3d4b8",
            "11181a381212407eaab4db85a61d462c",
            "bc3e0820f8664dd387efd87adbd5223d",
            "c66c160f12d446a6a7356b87327f1e2a",
            "233a4c70f8a044ad97fd0fc97cd39e68",
            "2c428229782b464eb4a4f1107b272d80",
            "a9aa011e389347c8886e5ebe36ec87c1",
            "eb23cdd7dcb1450394aace2a0ac2dea2",
            "3558e485372c4e7ea610a81fa9e48e8b",
            "dc8bd0295d0b4f0fba88bcbe86d2e6fa",
            "baf3d4ff52fd47589b7d5e38f07b10b8",
            "104327d6253d4d8ebcd3dd23cf2f5a3e",
            "1140383322cb462baefedb88ede1ce80",
            "3d6b8948ab7c4af5bdd77b138dc7b55a",
            "7002ef26b46d437d9ef2ce9fe36926cf",
            "025a945136d04fc4a28796d47225f225",
            "f39e2ab8ebed4b5784d78efafcd215d7",
            "71c143012d3242528aeec3c7fab666fb",
            "ab0c8bf46fd142539fd6a41c9c5313ac",
            "55253c9a4d7c4eafa2ee5db93d49c2d0",
            "f5671047b87243df9745e86b58a4a1f2",
            "257f32f61f4649b49bd8475930575854",
            "5e52250131fa401fa666df87f430f40c",
            "25979afa0e8b4d97879dcef627f7fa38",
            "9fe5ceadb4874971823ab6b69f93e75e",
            "b7575f7d9a8c4e238890e27dbb27621a",
            "ff841649bda243e18d4d58be89c56e1e",
            "4e25fc56832b491bbfed3c9fd2318576",
            "7216b53963024db6aee6be4434fc586d",
            "5c545e2bef754839a49d79d71da0969a",
            "f44e1b58e13d44cb93cfe2295c85f55e",
            "3bbf489ad257461891934af195c69421",
            "aa9bd9c57f194567821e73f068f09c1e",
            "7f2793fe1fe441569bcdd5b327b0f6cd",
            "a08c68276aaa401bb5541e6ff5ce5645",
            "b04969fae0b743abb1618311b78d9cc2",
            "a6bbdabf78934c92adb02c7192a678ef",
            "16556eb4969746a2a9bb25f6d9567286",
            "19fe3992d70441cfbdf3d4b8d3642c16",
            "756baa0292d5483482284bdbba1bcc8a",
            "8364939c053a4d0e8de09d24c4d9cde4"
          ]
        },
        "outputId": "29c5a3ba-181b-4826-abf9-014688e566e4"
      },
      "source": [
        "dataset = tfds.load('malaria', split='train', shuffle_files=True)"
      ],
      "execution_count": 5,
      "outputs": [
        {
          "output_type": "stream",
          "text": [
            "\u001b[1mDownloading and preparing dataset malaria/1.0.0 (download: 337.08 MiB, generated: Unknown size, total: 337.08 MiB) to /root/tensorflow_datasets/malaria/1.0.0...\u001b[0m\n"
          ],
          "name": "stdout"
        },
        {
          "output_type": "display_data",
          "data": {
            "application/vnd.jupyter.widget-view+json": {
              "model_id": "7b980530699c4a9db93a279d94ebdb59",
              "version_minor": 0,
              "version_major": 2
            },
            "text/plain": [
              "HBox(children=(FloatProgress(value=1.0, bar_style='info', description='Dl Completed...', max=1.0, style=Progre…"
            ]
          },
          "metadata": {
            "tags": []
          }
        },
        {
          "output_type": "display_data",
          "data": {
            "application/vnd.jupyter.widget-view+json": {
              "model_id": "2bd0feeee4ce4fd7b3114a08123aeba0",
              "version_minor": 0,
              "version_major": 2
            },
            "text/plain": [
              "HBox(children=(FloatProgress(value=1.0, bar_style='info', description='Dl Size...', max=1.0, style=ProgressSty…"
            ]
          },
          "metadata": {
            "tags": []
          }
        },
        {
          "output_type": "display_data",
          "data": {
            "application/vnd.jupyter.widget-view+json": {
              "model_id": "11181a381212407eaab4db85a61d462c",
              "version_minor": 0,
              "version_major": 2
            },
            "text/plain": [
              "HBox(children=(FloatProgress(value=1.0, bar_style='info', description='Extraction completed...', max=1.0, styl…"
            ]
          },
          "metadata": {
            "tags": []
          }
        },
        {
          "output_type": "stream",
          "text": [
            "/usr/local/lib/python3.6/dist-packages/urllib3/connectionpool.py:847: InsecureRequestWarning: Unverified HTTPS request is being made. Adding certificate verification is strongly advised. See: https://urllib3.readthedocs.io/en/latest/advanced-usage.html#ssl-warnings\n",
            "  InsecureRequestWarning)\n"
          ],
          "name": "stderr"
        },
        {
          "output_type": "stream",
          "text": [
            "\n",
            "\n",
            "\n",
            "\n",
            "\n",
            "\n"
          ],
          "name": "stdout"
        },
        {
          "output_type": "display_data",
          "data": {
            "application/vnd.jupyter.widget-view+json": {
              "model_id": "dc8bd0295d0b4f0fba88bcbe86d2e6fa",
              "version_minor": 0,
              "version_major": 2
            },
            "text/plain": [
              "HBox(children=(FloatProgress(value=1.0, bar_style='info', max=1.0), HTML(value='')))"
            ]
          },
          "metadata": {
            "tags": []
          }
        },
        {
          "output_type": "stream",
          "text": [
            "\rShuffling and writing examples to /root/tensorflow_datasets/malaria/1.0.0.incomplete5V7B3J/malaria-train.tfrecord\n"
          ],
          "name": "stdout"
        },
        {
          "output_type": "display_data",
          "data": {
            "application/vnd.jupyter.widget-view+json": {
              "model_id": "71c143012d3242528aeec3c7fab666fb",
              "version_minor": 0,
              "version_major": 2
            },
            "text/plain": [
              "HBox(children=(FloatProgress(value=0.0, max=27558.0), HTML(value='')))"
            ]
          },
          "metadata": {
            "tags": []
          }
        },
        {
          "output_type": "display_data",
          "data": {
            "application/vnd.jupyter.widget-view+json": {
              "model_id": "b7575f7d9a8c4e238890e27dbb27621a",
              "version_minor": 0,
              "version_major": 2
            },
            "text/plain": [
              "HBox(children=(FloatProgress(value=0.0, description='Computing statistics...', max=1.0, style=ProgressStyle(de…"
            ]
          },
          "metadata": {
            "tags": []
          }
        },
        {
          "output_type": "stream",
          "text": [
            "\r"
          ],
          "name": "stdout"
        },
        {
          "output_type": "display_data",
          "data": {
            "application/vnd.jupyter.widget-view+json": {
              "model_id": "7f2793fe1fe441569bcdd5b327b0f6cd",
              "version_minor": 0,
              "version_major": 2
            },
            "text/plain": [
              "HBox(children=(FloatProgress(value=1.0, bar_style='info', max=1.0), HTML(value='')))"
            ]
          },
          "metadata": {
            "tags": []
          }
        },
        {
          "output_type": "stream",
          "text": [
            "\r\n",
            "\u001b[1mDataset malaria downloaded and prepared to /root/tensorflow_datasets/malaria/1.0.0. Subsequent calls will reuse this data.\u001b[0m\n"
          ],
          "name": "stdout"
        }
      ]
    },
    {
      "cell_type": "markdown",
      "metadata": {
        "id": "9cTTIUCStqgG",
        "colab_type": "text"
      },
      "source": [
        "Le immagini sono parecchie e la RAM di Colab, o del nostro PC, potrebbe non essere sufficiente, limitiamo il numero di campioni da utilizzare. Nel caso in cui avessi un PC con una buona GPU e tanta RAM, sentiti libero di aumentare il numero di capioni utilizzando la costante NUM_SAMPLES."
      ]
    },
    {
      "cell_type": "code",
      "metadata": {
        "id": "7-Ad6c0exhgo",
        "colab_type": "code",
        "colab": {}
      },
      "source": [
        "NUM_SAMPLES = 10000 # Numero di campioni per addestramento e test\n",
        "IMG_SIZE = (150, 150) # dimensione di ogni immagine"
      ],
      "execution_count": 6,
      "outputs": []
    },
    {
      "cell_type": "markdown",
      "metadata": {
        "id": "dMcAjMhct9_i",
        "colab_type": "text"
      },
      "source": [
        "Ridefiniamo la funzione load_data, ridimensionando al suo interno le immagini e convertendole in bianco e nero, per farlo ci serviremo di OpenCV."
      ]
    },
    {
      "cell_type": "code",
      "metadata": {
        "id": "iA8OBM07vNu9",
        "colab_type": "code",
        "colab": {}
      },
      "source": [
        "def load_data(dataset, num_samples=None):\n",
        "  images = []\n",
        "  labels = []\n",
        "\n",
        "  for i, example in enumerate(tfds.as_numpy(dataset)):\n",
        "\n",
        "    if(num_samples!=None and i>=num_samples):\n",
        "      break\n",
        "\n",
        "    img = example[\"image\"]\n",
        "    img = cv2.resize(img, IMG_SIZE) # ridimensioniamo l'immagine\n",
        "    img = cv2.cvtColor(img, cv2.COLOR_BGR2GRAY) # convertiamo in bianco e nero\n",
        "    images.append(img)\n",
        "    labels.append(example[\"label\"])\n",
        "\n",
        "  images = np.array(images)\n",
        "  labels = np.array(labels)\n",
        "\n",
        "  return images, labels\n",
        "\n",
        "images, labels = load_data(dataset, num_samples=NUM_SAMPLES)\n",
        "num_classes = np.unique(labels).shape[0]"
      ],
      "execution_count": 7,
      "outputs": []
    },
    {
      "cell_type": "markdown",
      "metadata": {
        "id": "yggTsg4IuMIy",
        "colab_type": "text"
      },
      "source": [
        "Stampiamo la prima immagine del dataset utilizzando matplotlib insieme al relativo target."
      ]
    },
    {
      "cell_type": "code",
      "metadata": {
        "id": "MNnptwwOvfHt",
        "colab_type": "code",
        "colab": {
          "base_uri": "https://localhost:8080/",
          "height": 286
        },
        "outputId": "a0c1873f-5725-4275-9bea-37daec579aec"
      },
      "source": [
        "plt.imshow(images[0], cmap=\"gray\")\n",
        "print(labels[0])"
      ],
      "execution_count": 11,
      "outputs": [
        {
          "output_type": "stream",
          "text": [
            "1\n"
          ],
          "name": "stdout"
        },
        {
          "output_type": "display_data",
          "data": {
            "image/png": "[encoded data removed]",
            "text/plain": [
              "<Figure size 432x288 with 1 Axes>"
            ]
          },
          "metadata": {
            "tags": [],
            "needs_background": "light"
          }
        }
      ]
    },
    {
      "cell_type": "code",
      "metadata": {
        "id": "vN0u8cGCxMiu",
        "colab_type": "code",
        "colab": {
          "base_uri": "https://localhost:8080/",
          "height": 286
        },
        "outputId": "9ce453f9-ecab-46ad-ac9d-ac15127dc3df"
      },
      "source": [
        "plt.imshow(images[2], cmap=\"gray\")\n",
        "print(labels[2])"
      ],
      "execution_count": 14,
      "outputs": [
        {
          "output_type": "stream",
          "text": [
            "0\n"
          ],
          "name": "stdout"
        },
        {
          "output_type": "display_data",
          "data": {
            "image/png": "[encoded data removed]",
            "text/plain": [
              "<Figure size 432x288 with 1 Axes>"
            ]
          },
          "metadata": {
            "tags": [],
            "needs_background": "light"
          }
        }
      ]
    },
    {
      "cell_type": "markdown",
      "metadata": {
        "id": "fENvgnUHuTwn",
        "colab_type": "text"
      },
      "source": [
        "Si tratta di un problema di classificazione binaria e le possibili classi per il target sono 2:\n",
        "\n",
        " - **0**: classe negativa, cellula infetta.\n",
        " - **1**: classe positiva, cellula sana.\n",
        "\n",
        "\n",
        " Come sempre, normalizziamo le immagini dividendo per 255"
      ]
    },
    {
      "cell_type": "code",
      "metadata": {
        "id": "tlDgnq-ovS2D",
        "colab_type": "code",
        "colab": {}
      },
      "source": [
        "X = images/255"
      ],
      "execution_count": 9,
      "outputs": []
    },
    {
      "cell_type": "markdown",
      "metadata": {
        "id": "9rR-T2Udus8a",
        "colab_type": "text"
      },
      "source": [
        "L'input di uno strato convoluzionale di tf.keras deve avere questa dimensione: *(NUM_SAMPLES, WIDTH, HEIGHT, NUM_CHANNELS)*, dove:\n",
        "\n",
        " - **NUM_SAMPES** è il numero di osservazioni (immagini in questo caso) che abbiamo.\n",
        " - **WIDTH e HEIGHT** sono rispettivamente larghezza e altezza di ogni immagine.\n",
        " - **NUM_CHANNELS** sono il numero di canali dell'immagine, 1 per immagini in bianco e nero, 3 per immagini in RGB.\n",
        "\n",
        "\n",
        " Possiamo ridimensionare il dataset per dargli questa forma utilizzando il metodo reshape di numpy."
      ]
    },
    {
      "cell_type": "code",
      "metadata": {
        "id": "Ttm6p5qAwNWe",
        "colab_type": "code",
        "colab": {}
      },
      "source": [
        "X = X.reshape(X.shape[0], X.shape[1], X.shape[2], 1)"
      ],
      "execution_count": null,
      "outputs": []
    },
    {
      "cell_type": "markdown",
      "metadata": {
        "id": "qHJJ1DU1vf9x",
        "colab_type": "text"
      },
      "source": [
        "Ora possiamo dividere il dataset in Train Set e Test Set"
      ]
    },
    {
      "cell_type": "code",
      "metadata": {
        "id": "hQGuhNNcwMS8",
        "colab_type": "code",
        "colab": {}
      },
      "source": [
        "y = labels # lo faccio solo perché sono pignolo\n",
        "X_train, X_test, y_train, y_test = train_test_split(X, y, test_size=0.2)"
      ],
      "execution_count": 10,
      "outputs": []
    },
    {
      "cell_type": "markdown",
      "metadata": {
        "id": "bU8Ep5G2wLkl",
        "colab_type": "text"
      },
      "source": [
        "## La nostra prima ConvNet\n",
        "Per aggiungere degli strati convoluzionali alla rete neurale, possiamo utilizzare la classe *Conv2D*, questa richiede alcuni parametri:\n",
        " - **filters**: il numero di filtri che verranno ottimizzati durante la fase di addestramento.\n",
        " - **kernel_size**: la dimensione di ogni filtro, un valore di 2 indica che verranno utilizzati filtri di dimensione 2x2.\n",
        " - **padding**: il tipo di padding da utilizzare, i possibili valori sono:\n",
        " - - **same**: la dimensione della matrice di output sarà pari a quella di input.\n",
        " - - **valid**: non viene utilizzato nessun padding."
      ]
    },
    {
      "cell_type": "code",
      "metadata": {
        "id": "yRryUUUfgg6P",
        "colab_type": "code",
        "colab": {}
      },
      "source": [
        "model = tf.keras.models.Sequential()\n",
        "\n",
        "model.add(Conv2D(filters=8, kernel_size=2, padding='same', activation='relu', input_shape=(IMG_SIZE[0], IMG_SIZE[1], 1)))\n",
        "model.add(Flatten())\n",
        "model.add(Dense(1, activation='sigmoid'))"
      ],
      "execution_count": 15,
      "outputs": []
    },
    {
      "cell_type": "code",
      "metadata": {
        "id": "5Bt4yJncglWD",
        "colab_type": "code",
        "colab": {
          "base_uri": "https://localhost:8080/",
          "height": 269
        },
        "outputId": "c8a8476e-f478-40a5-f594-84e2b824e6a0"
      },
      "source": [
        "model.summary()"
      ],
      "execution_count": null,
      "outputs": [
        {
          "output_type": "stream",
          "text": [
            "Model: \"sequential_3\"\n",
            "_________________________________________________________________\n",
            "Layer (type)                 Output Shape              Param #   \n",
            "=================================================================\n",
            "conv2d_3 (Conv2D)            (None, 150, 150, 8)       40        \n",
            "_________________________________________________________________\n",
            "flatten_3 (Flatten)          (None, 180000)            0         \n",
            "_________________________________________________________________\n",
            "dense_3 (Dense)              (None, 1)                 180001    \n",
            "=================================================================\n",
            "Total params: 180,041\n",
            "Trainable params: 180,041\n",
            "Non-trainable params: 0\n",
            "_________________________________________________________________\n"
          ],
          "name": "stdout"
        }
      ]
    },
    {
      "cell_type": "markdown",
      "metadata": {
        "id": "8U_H9W6OzAJ3",
        "colab_type": "text"
      },
      "source": [
        "Il modello che stiamo andando ad addestrare ha 180.041 parametri, configuriamolo e avviamo l'addestramento."
      ]
    },
    {
      "cell_type": "code",
      "metadata": {
        "id": "5bLCjZzswlv_",
        "colab_type": "code",
        "colab": {
          "base_uri": "https://localhost:8080/",
          "height": 395
        },
        "outputId": "64b218b4-2108-485f-b3e2-25830c44d26a"
      },
      "source": [
        "model.compile(optimizer=\"adam\", loss=\"binary_crossentropy\", metrics=[\"accuracy\"])\n",
        "model.fit(X_train, y_train, epochs=10, batch_size=512)"
      ],
      "execution_count": null,
      "outputs": [
        {
          "output_type": "stream",
          "text": [
            "Epoch 1/10\n",
            "16/16 [==============================] - 2s 127ms/step - loss: 2.6902 - accuracy: 0.4983\n",
            "Epoch 2/10\n",
            "16/16 [==============================] - 2s 111ms/step - loss: 0.8889 - accuracy: 0.5310\n",
            "Epoch 3/10\n",
            "16/16 [==============================] - 2s 110ms/step - loss: 0.6862 - accuracy: 0.5717\n",
            "Epoch 4/10\n",
            "16/16 [==============================] - 2s 109ms/step - loss: 0.6547 - accuracy: 0.6059\n",
            "Epoch 5/10\n",
            "16/16 [==============================] - 2s 109ms/step - loss: 0.6398 - accuracy: 0.6280\n",
            "Epoch 6/10\n",
            "16/16 [==============================] - 2s 111ms/step - loss: 0.6154 - accuracy: 0.6736\n",
            "Epoch 7/10\n",
            "16/16 [==============================] - 2s 110ms/step - loss: 0.5755 - accuracy: 0.7084\n",
            "Epoch 8/10\n",
            "16/16 [==============================] - 2s 109ms/step - loss: 0.5624 - accuracy: 0.7044\n",
            "Epoch 9/10\n",
            "16/16 [==============================] - 2s 111ms/step - loss: 0.5378 - accuracy: 0.7344\n",
            "Epoch 10/10\n",
            "16/16 [==============================] - 2s 110ms/step - loss: 0.5112 - accuracy: 0.7625\n"
          ],
          "name": "stdout"
        },
        {
          "output_type": "execute_result",
          "data": {
            "text/plain": [
              "<tensorflow.python.keras.callbacks.History at 0x7f4d087bb630>"
            ]
          },
          "metadata": {
            "tags": []
          },
          "execution_count": 22
        }
      ]
    },
    {
      "cell_type": "code",
      "metadata": {
        "id": "DiSW1FP4woyF",
        "colab_type": "code",
        "colab": {
          "base_uri": "https://localhost:8080/",
          "height": 53
        },
        "outputId": "9754415f-3539-47b0-fa89-fa3607435de6"
      },
      "source": [
        "metrics_train = model.evaluate(X_train, y_train, verbose=0)\n",
        "metrics_test = model.evaluate(X_test, y_test, verbose=0)\n",
        "print(\"Train Set: Accuracy=%.2f, Log Loss=%.4f\" % (metrics_train[1], metrics_train[0]))\n",
        "print(\"Test Set: Accuracy=%.2f, Log Loss=%.4f\" % (metrics_test[1], metrics_test[0]))"
      ],
      "execution_count": null,
      "outputs": [
        {
          "output_type": "stream",
          "text": [
            "Train Set: Accuracy=0.78, Log Loss=0.4905\n",
            "Test Set: Accuracy=0.68, Log Loss=0.5866\n"
          ],
          "name": "stdout"
        }
      ]
    },
    {
      "cell_type": "markdown",
      "metadata": {
        "id": "ShzeMdKTzLOE",
        "colab_type": "text"
      },
      "source": [
        "Il risultato finale non è buonissimo e mostra un'accenno di overfitting, possiamo fare di meglio."
      ]
    },
    {
      "cell_type": "markdown",
      "metadata": {
        "id": "7ytlmy5Lv3qG",
        "colab_type": "text"
      },
      "source": [
        "## MaxPooling\n",
        "Solitamente una ConvNet presenta più di un'unico strato convoluzionale."
      ]
    },
    {
      "cell_type": "code",
      "metadata": {
        "id": "WkgzZZVizmBb",
        "colab_type": "code",
        "colab": {}
      },
      "source": [
        "model = Sequential()\n",
        "\n",
        "model.add(Conv2D(filters=32, kernel_size=2, padding='same', activation='relu', input_shape=(150, 150, 1)))\n",
        "model.add(Conv2D(filters=32, kernel_size=2, padding='same', activation='relu'))\n",
        "model.add(Dropout(0.5))\n",
        "model.add(Flatten())\n",
        "model.add(Dense(128, activation='relu'))\n",
        "model.add(Dropout(0.5))\n",
        "model.add(Dense(1, activation='sigmoid'))"
      ],
      "execution_count": 16,
      "outputs": []
    },
    {
      "cell_type": "markdown",
      "metadata": {
        "id": "xazuUZq6zrvw",
        "colab_type": "text"
      },
      "source": [
        "Ma un problema di questo approccio è che il numero di parametri da ottimizzare cresce a dismisura, rendendo la rete pesante da addestrare e decisamente incline all'overfitting."
      ]
    },
    {
      "cell_type": "code",
      "metadata": {
        "id": "eNA1fNF9zphr",
        "colab_type": "code",
        "colab": {
          "base_uri": "https://localhost:8080/",
          "height": 391
        },
        "outputId": "1efde62d-7b69-40d5-da4c-559cecc15c4b"
      },
      "source": [
        "model.summary()"
      ],
      "execution_count": 17,
      "outputs": [
        {
          "output_type": "stream",
          "text": [
            "Model: \"sequential_1\"\n",
            "_________________________________________________________________\n",
            "Layer (type)                 Output Shape              Param #   \n",
            "=================================================================\n",
            "conv2d_1 (Conv2D)            (None, 150, 150, 32)      160       \n",
            "_________________________________________________________________\n",
            "conv2d_2 (Conv2D)            (None, 150, 150, 32)      4128      \n",
            "_________________________________________________________________\n",
            "dropout (Dropout)            (None, 150, 150, 32)      0         \n",
            "_________________________________________________________________\n",
            "flatten_1 (Flatten)          (None, 720000)            0         \n",
            "_________________________________________________________________\n",
            "dense_1 (Dense)              (None, 128)               92160128  \n",
            "_________________________________________________________________\n",
            "dropout_1 (Dropout)          (None, 128)               0         \n",
            "_________________________________________________________________\n",
            "dense_2 (Dense)              (None, 1)                 129       \n",
            "=================================================================\n",
            "Total params: 92,164,545\n",
            "Trainable params: 92,164,545\n",
            "Non-trainable params: 0\n",
            "_________________________________________________________________\n"
          ],
          "name": "stdout"
        }
      ]
    },
    {
      "cell_type": "markdown",
      "metadata": {
        "id": "A2mCJtRSz0KK",
        "colab_type": "text"
      },
      "source": [
        "In questo caso ne abbiamo oltre 92 milioni, davvero tanti per il problema che stiamo affrontando. Una tecnica che possiamo sfruttare per ridurre il numero di parametri è il MaxPooling, che riduce la dimensione delle matrici tenendo soltanto il valore maggiore, all'interno di una finestra di dimensione definita (parametro *pool_size*)."
      ]
    },
    {
      "cell_type": "code",
      "metadata": {
        "id": "MakAewsRv5Ax",
        "colab_type": "code",
        "colab": {}
      },
      "source": [
        "model = Sequential()\n",
        "\n",
        "model.add(Conv2D(filters=32, kernel_size=2, padding='same', activation='relu', input_shape=(150, 150, 1)))\n",
        "model.add(MaxPooling2D(pool_size=3, strides=3))\n",
        "model.add(Conv2D(filters=32, kernel_size=2, padding='same', activation='relu'))\n",
        "model.add(MaxPooling2D(pool_size=3, strides=3))\n",
        "model.add(Dropout(0.5))\n",
        "model.add(Flatten())\n",
        "model.add(Dense(128, activation='relu'))\n",
        "model.add(Dropout(0.5))\n",
        "model.add(Dense(1, activation='sigmoid'))"
      ],
      "execution_count": 18,
      "outputs": []
    },
    {
      "cell_type": "code",
      "metadata": {
        "id": "EgmiELknBMcZ",
        "colab_type": "code",
        "colab": {
          "base_uri": "https://localhost:8080/",
          "height": 459
        },
        "outputId": "2743ca70-178e-4337-fcbf-acc8fcf3dcba"
      },
      "source": [
        "model.summary()"
      ],
      "execution_count": 19,
      "outputs": [
        {
          "output_type": "stream",
          "text": [
            "Model: \"sequential_2\"\n",
            "_________________________________________________________________\n",
            "Layer (type)                 Output Shape              Param #   \n",
            "=================================================================\n",
            "conv2d_3 (Conv2D)            (None, 150, 150, 32)      160       \n",
            "_________________________________________________________________\n",
            "max_pooling2d (MaxPooling2D) (None, 50, 50, 32)        0         \n",
            "_________________________________________________________________\n",
            "conv2d_4 (Conv2D)            (None, 50, 50, 32)        4128      \n",
            "_________________________________________________________________\n",
            "max_pooling2d_1 (MaxPooling2 (None, 16, 16, 32)        0         \n",
            "_________________________________________________________________\n",
            "dropout_2 (Dropout)          (None, 16, 16, 32)        0         \n",
            "_________________________________________________________________\n",
            "flatten_2 (Flatten)          (None, 8192)              0         \n",
            "_________________________________________________________________\n",
            "dense_3 (Dense)              (None, 128)               1048704   \n",
            "_________________________________________________________________\n",
            "dropout_3 (Dropout)          (None, 128)               0         \n",
            "_________________________________________________________________\n",
            "dense_4 (Dense)              (None, 1)                 129       \n",
            "=================================================================\n",
            "Total params: 1,053,121\n",
            "Trainable params: 1,053,121\n",
            "Non-trainable params: 0\n",
            "_________________________________________________________________\n"
          ],
          "name": "stdout"
        }
      ]
    },
    {
      "cell_type": "markdown",
      "metadata": {
        "id": "JYzRjeCO0Ne9",
        "colab_type": "text"
      },
      "source": [
        "Utilizzando il MaxPooling abbiamo ridotto il numero di parametri da ottimizzare a poco più di un milione, davvero un guadagno notevole. Compiliamo il modello e avviamo l'addestramento."
      ]
    },
    {
      "cell_type": "code",
      "metadata": {
        "id": "5OVjcoNIv8e3",
        "colab_type": "code",
        "colab": {
          "base_uri": "https://localhost:8080/",
          "height": 1000
        },
        "outputId": "4c9621fd-ef95-4cd9-b90c-f45fc6fd1ee6"
      },
      "source": [
        "model.compile(optimizer=\"adam\", loss=\"binary_crossentropy\", metrics=[\"accuracy\"])\n",
        "model.fit(X_train, y_train, epochs=30, batch_size=512)"
      ],
      "execution_count": null,
      "outputs": [
        {
          "output_type": "stream",
          "text": [
            "Epoch 1/30\n",
            "16/16 [==============================] - 5s 284ms/step - loss: 0.6926 - accuracy: 0.5366\n",
            "Epoch 2/30\n",
            "16/16 [==============================] - 4s 274ms/step - loss: 0.6676 - accuracy: 0.5981\n",
            "Epoch 3/30\n",
            "16/16 [==============================] - 4s 276ms/step - loss: 0.6489 - accuracy: 0.6246\n",
            "Epoch 4/30\n",
            "16/16 [==============================] - 4s 276ms/step - loss: 0.6279 - accuracy: 0.6425\n",
            "Epoch 5/30\n",
            "16/16 [==============================] - 4s 276ms/step - loss: 0.6051 - accuracy: 0.6691\n",
            "Epoch 6/30\n",
            "16/16 [==============================] - 4s 278ms/step - loss: 0.5924 - accuracy: 0.6808\n",
            "Epoch 7/30\n",
            "16/16 [==============================] - 4s 276ms/step - loss: 0.5802 - accuracy: 0.6934\n",
            "Epoch 8/30\n",
            "16/16 [==============================] - 4s 275ms/step - loss: 0.5666 - accuracy: 0.7156\n",
            "Epoch 9/30\n",
            "16/16 [==============================] - 4s 275ms/step - loss: 0.5556 - accuracy: 0.7120\n",
            "Epoch 10/30\n",
            "16/16 [==============================] - 4s 276ms/step - loss: 0.5409 - accuracy: 0.7295\n",
            "Epoch 11/30\n",
            "16/16 [==============================] - 4s 276ms/step - loss: 0.5457 - accuracy: 0.7231\n",
            "Epoch 12/30\n",
            "16/16 [==============================] - 4s 276ms/step - loss: 0.5339 - accuracy: 0.7319\n",
            "Epoch 13/30\n",
            "16/16 [==============================] - 4s 275ms/step - loss: 0.5215 - accuracy: 0.7448\n",
            "Epoch 14/30\n",
            "16/16 [==============================] - 4s 277ms/step - loss: 0.5063 - accuracy: 0.7589\n",
            "Epoch 15/30\n",
            "16/16 [==============================] - 4s 277ms/step - loss: 0.4867 - accuracy: 0.7703\n",
            "Epoch 16/30\n",
            "16/16 [==============================] - 4s 274ms/step - loss: 0.4839 - accuracy: 0.7729\n",
            "Epoch 17/30\n",
            "16/16 [==============================] - 4s 276ms/step - loss: 0.4695 - accuracy: 0.7828\n",
            "Epoch 18/30\n",
            "16/16 [==============================] - 4s 276ms/step - loss: 0.4643 - accuracy: 0.7881\n",
            "Epoch 19/30\n",
            "16/16 [==============================] - 4s 276ms/step - loss: 0.4801 - accuracy: 0.7742\n",
            "Epoch 20/30\n",
            "16/16 [==============================] - 4s 274ms/step - loss: 0.4648 - accuracy: 0.7899\n",
            "Epoch 21/30\n",
            "16/16 [==============================] - 4s 275ms/step - loss: 0.4439 - accuracy: 0.8030\n",
            "Epoch 22/30\n",
            "16/16 [==============================] - 4s 276ms/step - loss: 0.4180 - accuracy: 0.8221\n",
            "Epoch 23/30\n",
            "16/16 [==============================] - 4s 277ms/step - loss: 0.4206 - accuracy: 0.8190\n",
            "Epoch 24/30\n",
            "16/16 [==============================] - 4s 276ms/step - loss: 0.4014 - accuracy: 0.8291\n",
            "Epoch 25/30\n",
            "16/16 [==============================] - 4s 275ms/step - loss: 0.3983 - accuracy: 0.8307\n",
            "Epoch 26/30\n",
            "16/16 [==============================] - 4s 278ms/step - loss: 0.3818 - accuracy: 0.8472\n",
            "Epoch 27/30\n",
            "16/16 [==============================] - 4s 275ms/step - loss: 0.3638 - accuracy: 0.8555\n",
            "Epoch 28/30\n",
            "16/16 [==============================] - 4s 275ms/step - loss: 0.3477 - accuracy: 0.8654\n",
            "Epoch 29/30\n",
            "16/16 [==============================] - 4s 278ms/step - loss: 0.3400 - accuracy: 0.8666\n",
            "Epoch 30/30\n",
            "16/16 [==============================] - 4s 278ms/step - loss: 0.3383 - accuracy: 0.8684\n"
          ],
          "name": "stdout"
        },
        {
          "output_type": "execute_result",
          "data": {
            "text/plain": [
              "<tensorflow.python.keras.callbacks.History at 0x7f4d0484e5f8>"
            ]
          },
          "metadata": {
            "tags": []
          },
          "execution_count": 34
        }
      ]
    },
    {
      "cell_type": "code",
      "metadata": {
        "id": "CkBM_xgU3l67",
        "colab_type": "code",
        "colab": {
          "base_uri": "https://localhost:8080/",
          "height": 53
        },
        "outputId": "bec4891c-b26b-499b-c9b0-0a38dc498cf6"
      },
      "source": [
        "metrics_train = model.evaluate(X_train, y_train, verbose=0)\n",
        "metrics_test = model.evaluate(X_test, y_test, verbose=0)\n",
        "print(\"Train Set: Accuracy=%.2f, Log Loss=%.4f\" % (metrics_train[1], metrics_train[0]))\n",
        "print(\"Test Set: Accuracy=%.2f, Log Loss=%.4f\" % (metrics_test[1], metrics_test[0]))"
      ],
      "execution_count": null,
      "outputs": [
        {
          "output_type": "stream",
          "text": [
            "Train Set: Accuracy=0.89, Log Loss=0.3315\n",
            "Test Set: Accuracy=0.85, Log Loss=0.4076\n"
          ],
          "name": "stdout"
        }
      ]
    },
    {
      "cell_type": "markdown",
      "metadata": {
        "id": "lhXp5S2Q0Z0U",
        "colab_type": "text"
      },
      "source": [
        "Adesso le metrice sono decisamente migliori."
      ]
    }
  ]
}