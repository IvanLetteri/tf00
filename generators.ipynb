{
  "nbformat": 4,
  "nbformat_minor": 0,
  "metadata": {
    "colab": {
      "name": "Untitled57.ipynb",
      "provenance": [],
      "authorship_tag": "ABX9TyM2LuFafGEdIpt7HNuAMcOg",
      "include_colab_link": true
    },
    "kernelspec": {
      "name": "python3",
      "display_name": "Python 3"
    },
    "accelerator": "GPU"
  },
  "cells": [
    {
      "cell_type": "markdown",
      "metadata": {
        "id": "view-in-github",
        "colab_type": "text"
      },
      "source": [
        "<a href=\"https://colab.research.google.com/github/ProfAI/tf00/blob/master/generators.ipynb\" target=\"_parent\"><img src=\"https://colab.research.google.com/assets/colab-badge.svg\" alt=\"Open In Colab\"/></a>"
      ]
    },
    {
      "cell_type": "code",
      "metadata": {
        "id": "IyOa3RQSmv4i",
        "colab_type": "code",
        "colab": {
          "base_uri": "https://localhost:8080/",
          "height": 215
        },
        "outputId": "bee862cb-60b4-4d94-d0d3-838c36220991"
      },
      "source": [
        "!wget https://profession.ai/datasets/dessert.zip\n",
        "!unzip -qq dessert.zip"
      ],
      "execution_count": 2,
      "outputs": [
        {
          "output_type": "stream",
          "text": [
            "--2020-06-26 12:31:47--  https://profession.ai/datasets/dessert.zip\n",
            "Resolving profession.ai (profession.ai)... 13.35.153.5, 13.35.153.89, 13.35.153.51, ...\n",
            "Connecting to profession.ai (profession.ai)|13.35.153.5|:443... connected.\n",
            "HTTP request sent, awaiting response... 200 OK\n",
            "Length: 232148910 (221M) [application/zip]\n",
            "Saving to: ‘dessert.zip’\n",
            "\n",
            "dessert.zip         100%[===================>] 221.39M  24.3MB/s    in 11s     \n",
            "\n",
            "2020-06-26 12:31:58 (20.7 MB/s) - ‘dessert.zip’ saved [232148910/232148910]\n",
            "\n"
          ],
          "name": "stdout"
        }
      ]
    },
    {
      "cell_type": "code",
      "metadata": {
        "id": "OWRBp74AnLRC",
        "colab_type": "code",
        "colab": {}
      },
      "source": [
        "from tensorflow.keras.models import Sequential\n",
        "from tensorflow.keras.layers import Conv2D, MaxPooling2D\n",
        "from tensorflow.keras.layers import Dropout, Flatten, Dense\n",
        "\n",
        "from tensorflow.keras.preprocessing.image import ImageDataGenerator"
      ],
      "execution_count": 3,
      "outputs": []
    },
    {
      "cell_type": "code",
      "metadata": {
        "id": "BOVyUUWKnU8t",
        "colab_type": "code",
        "colab": {}
      },
      "source": [
        "DATASET_DIR = \"dessert\"\n",
        "BATCH_SIZE = 64\n",
        "\n",
        "TOT_IMAGES = 10000 \n",
        "IMG_SIZE = (228, 228)"
      ],
      "execution_count": 19,
      "outputs": []
    },
    {
      "cell_type": "code",
      "metadata": {
        "id": "Dpr62Dk2naf7",
        "colab_type": "code",
        "colab": {
          "base_uri": "https://localhost:8080/",
          "height": 89
        },
        "outputId": "f0a35da2-6dfc-4bdd-98bb-9a9df77fdc31"
      },
      "source": [
        "datagen = ImageDataGenerator(validation_split=0.1, rescale=1./255,)\n",
        "\n",
        "train_generator = datagen.flow_from_directory(\n",
        "        DATASET_DIR, \n",
        "        target_size=IMG_SIZE, \n",
        "        batch_size=BATCH_SIZE,\n",
        "        class_mode='categorical',\n",
        "        subset='training')\n",
        "\n",
        "test_generator = datagen.flow_from_directory(\n",
        "        DATASET_DIR,\n",
        "        target_size=IMG_SIZE,\n",
        "        batch_size=BATCH_SIZE,\n",
        "        class_mode='categorical',\n",
        "        subset='validation')\n",
        "\n",
        "print(train_generator.class_indices)\n",
        "print(len(train_generator))"
      ],
      "execution_count": 20,
      "outputs": [
        {
          "output_type": "stream",
          "text": [
            "Found 9000 images belonging to 5 classes.\n",
            "Found 1000 images belonging to 5 classes.\n",
            "{'cannoli': 0, 'gelato': 1, 'panna_cotta': 2, 'tiramisu': 3, 'torta_di_mele': 4}\n",
            "141\n"
          ],
          "name": "stdout"
        }
      ]
    },
    {
      "cell_type": "code",
      "metadata": {
        "id": "Aln-iSetnd2E",
        "colab_type": "code",
        "colab": {
          "base_uri": "https://localhost:8080/",
          "height": 683
        },
        "outputId": "547a9fcf-f441-45c0-b104-5205c02d94a1"
      },
      "source": [
        "model = Sequential()\n",
        "\n",
        "model.add(Conv2D(filters=32, kernel_size=3, padding='same', activation='relu', input_shape=(IMG_SIZE[0], IMG_SIZE[1], 3)))\n",
        "model.add(Conv2D(filters=32, kernel_size=3, padding='same', activation='relu'))\n",
        "model.add(MaxPooling2D(pool_size=3, strides=3))\n",
        "model.add(Dropout(0.4))\n",
        "model.add(Conv2D(filters=32, kernel_size=3, padding='same', activation='relu'))\n",
        "model.add(Conv2D(filters=32, kernel_size=3, padding='same', activation='relu'))\n",
        "model.add(MaxPooling2D(pool_size=3, strides=3))\n",
        "model.add(Dropout(0.4))\n",
        "model.add(Flatten())\n",
        "model.add(Dense(256, activation='relu'))\n",
        "model.add(Dropout(0.4))\n",
        "model.add(Dense(64, activation='relu'))\n",
        "model.add(Dropout(0.4))\n",
        "model.add(Dense(5, activation='softmax'))\n",
        "\n",
        "print(model.summary())"
      ],
      "execution_count": 25,
      "outputs": [
        {
          "output_type": "stream",
          "text": [
            "Model: \"sequential_5\"\n",
            "_________________________________________________________________\n",
            "Layer (type)                 Output Shape              Param #   \n",
            "=================================================================\n",
            "conv2d_18 (Conv2D)           (None, 228, 228, 32)      896       \n",
            "_________________________________________________________________\n",
            "conv2d_19 (Conv2D)           (None, 228, 228, 32)      9248      \n",
            "_________________________________________________________________\n",
            "max_pooling2d_10 (MaxPooling (None, 76, 76, 32)        0         \n",
            "_________________________________________________________________\n",
            "dropout_19 (Dropout)         (None, 76, 76, 32)        0         \n",
            "_________________________________________________________________\n",
            "conv2d_20 (Conv2D)           (None, 76, 76, 32)        9248      \n",
            "_________________________________________________________________\n",
            "conv2d_21 (Conv2D)           (None, 76, 76, 32)        9248      \n",
            "_________________________________________________________________\n",
            "max_pooling2d_11 (MaxPooling (None, 25, 25, 32)        0         \n",
            "_________________________________________________________________\n",
            "dropout_20 (Dropout)         (None, 25, 25, 32)        0         \n",
            "_________________________________________________________________\n",
            "flatten_5 (Flatten)          (None, 20000)             0         \n",
            "_________________________________________________________________\n",
            "dense_14 (Dense)             (None, 256)               5120256   \n",
            "_________________________________________________________________\n",
            "dropout_21 (Dropout)         (None, 256)               0         \n",
            "_________________________________________________________________\n",
            "dense_15 (Dense)             (None, 64)                16448     \n",
            "_________________________________________________________________\n",
            "dropout_22 (Dropout)         (None, 64)                0         \n",
            "_________________________________________________________________\n",
            "dense_16 (Dense)             (None, 5)                 325       \n",
            "=================================================================\n",
            "Total params: 5,165,669\n",
            "Trainable params: 5,165,669\n",
            "Non-trainable params: 0\n",
            "_________________________________________________________________\n",
            "None\n"
          ],
          "name": "stdout"
        }
      ]
    },
    {
      "cell_type": "code",
      "metadata": {
        "id": "t3rQYmkrngo8",
        "colab_type": "code",
        "colab": {
          "base_uri": "https://localhost:8080/",
          "height": 737
        },
        "outputId": "552e4d65-163d-42f2-bbd4-dc0298e0d3ce"
      },
      "source": [
        "model.compile(optimizer=\"adam\", loss=\"categorical_crossentropy\", metrics=[\"accuracy\"])\n",
        "\n",
        "model.fit(\n",
        "        train_generator,\n",
        "        steps_per_epoch=int(TOT_IMAGES*0.9 // BATCH_SIZE),\n",
        "        epochs=100)"
      ],
      "execution_count": null,
      "outputs": [
        {
          "output_type": "stream",
          "text": [
            "Epoch 1/100\n",
            "140/140 [==============================] - 41s 293ms/step - loss: 1.6186 - accuracy: 0.1979\n",
            "Epoch 2/100\n",
            "140/140 [==============================] - 41s 293ms/step - loss: 1.6097 - accuracy: 0.1955\n",
            "Epoch 3/100\n",
            "140/140 [==============================] - 41s 293ms/step - loss: 1.6096 - accuracy: 0.2099\n",
            "Epoch 4/100\n",
            "140/140 [==============================] - 41s 290ms/step - loss: 1.6098 - accuracy: 0.1955\n",
            "Epoch 5/100\n",
            "140/140 [==============================] - 41s 291ms/step - loss: 1.6098 - accuracy: 0.1939\n",
            "Epoch 6/100\n",
            "140/140 [==============================] - 40s 289ms/step - loss: 1.6099 - accuracy: 0.1987\n",
            "Epoch 7/100\n",
            "140/140 [==============================] - 40s 289ms/step - loss: 1.6095 - accuracy: 0.2006\n",
            "Epoch 8/100\n",
            "140/140 [==============================] - 41s 290ms/step - loss: 1.6099 - accuracy: 0.1967\n",
            "Epoch 9/100\n",
            "140/140 [==============================] - 40s 288ms/step - loss: 1.6097 - accuracy: 0.1944\n",
            "Epoch 10/100\n",
            "140/140 [==============================] - 40s 289ms/step - loss: 1.6085 - accuracy: 0.2033\n",
            "Epoch 11/100\n",
            "140/140 [==============================] - 40s 289ms/step - loss: 1.5770 - accuracy: 0.2592\n",
            "Epoch 12/100\n",
            "140/140 [==============================] - 40s 288ms/step - loss: 1.5417 - accuracy: 0.2908\n",
            "Epoch 13/100\n",
            "140/140 [==============================] - 40s 287ms/step - loss: 1.5227 - accuracy: 0.3033\n",
            "Epoch 14/100\n",
            "140/140 [==============================] - 40s 288ms/step - loss: 1.5135 - accuracy: 0.3117\n",
            "Epoch 15/100\n",
            "140/140 [==============================] - 40s 286ms/step - loss: 1.4908 - accuracy: 0.3254\n",
            "Epoch 16/100\n",
            "140/140 [==============================] - 40s 286ms/step - loss: 1.4648 - accuracy: 0.3612\n",
            "Epoch 17/100\n",
            "140/140 [==============================] - 40s 288ms/step - loss: 1.4111 - accuracy: 0.4057\n",
            "Epoch 18/100\n",
            "140/140 [==============================] - 40s 288ms/step - loss: 1.3586 - accuracy: 0.4396\n",
            "Epoch 19/100\n",
            "140/140 [==============================] - 40s 287ms/step - loss: 1.2972 - accuracy: 0.4709\n",
            "Epoch 20/100\n",
            " 33/140 [======>.......................] - ETA: 29s - loss: 1.2305 - accuracy: 0.4943"
          ],
          "name": "stdout"
        }
      ]
    },
    {
      "cell_type": "code",
      "metadata": {
        "id": "G1mM8_-Oni7X",
        "colab_type": "code",
        "colab": {
          "base_uri": "https://localhost:8080/",
          "height": 89
        },
        "outputId": "58245048-8839-4028-9b39-8cfe8ae95f55"
      },
      "source": [
        "metrics_train = model.evaluate(train_generator)\n",
        "metrics_test = model.evaluate(test_generator)\n",
        "\n",
        "print(\"Train Accuracy = %.4f - Train Loss = %.4f\" % (metrics_train[1], metrics_train[0]))\n",
        "print(\"Test Accuracy = %.4f - Test Loss = %.4f\" % (metrics_test[1], metrics_test[0]))"
      ],
      "execution_count": 24,
      "outputs": [
        {
          "output_type": "stream",
          "text": [
            "141/141 [==============================] - 33s 233ms/step - loss: 1.0308 - accuracy: 0.6358\n",
            "16/16 [==============================] - 3s 211ms/step - loss: 1.2819 - accuracy: 0.4770\n",
            "Train Accuracy = 0.6358 - Train Loss = 1.0308\n",
            "Test Accuracy = 0.4770 - Test Loss = 1.2819\n"
          ],
          "name": "stdout"
        }
      ]
    },
    {
      "cell_type": "code",
      "metadata": {
        "id": "4VkMSZElptgm",
        "colab_type": "code",
        "colab": {}
      },
      "source": [
        ""
      ],
      "execution_count": null,
      "outputs": []
    }
  ]
}