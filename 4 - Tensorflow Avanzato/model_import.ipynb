{
  "nbformat": 4,
  "nbformat_minor": 0,
  "metadata": {
    "colab": {
      "name": "model_import.ipynb",
      "provenance": [],
      "collapsed_sections": [],
      "authorship_tag": "ABX9TyMDadZ/JHV3SJoNsUDXFBna",
      "include_colab_link": true
    },
    "kernelspec": {
      "name": "python3",
      "display_name": "Python 3"
    }
  },
  "cells": [
    {
      "cell_type": "markdown",
      "metadata": {
        "id": "view-in-github",
        "colab_type": "text"
      },
      "source": [
        "<a href=\"https://colab.research.google.com/github/ProfAI/tf00/blob/master/4%20-%20Tensorflow%20Avanzato/model_import.ipynb\" target=\"_parent\"><img src=\"https://colab.research.google.com/assets/colab-badge.svg\" alt=\"Open In Colab\"/></a>"
      ]
    },
    {
      "cell_type": "markdown",
      "metadata": {
        "id": "3Bo_madI_veo",
        "colab_type": "text"
      },
      "source": [
        "## Importare una Rete Neurale\n",
        "Dopo aver visto come salvare una rete su disco, al termine dell'addestramento e durante, vediamo come possiamo re-importarla e utilizzarla per fare predizioni."
      ]
    },
    {
      "cell_type": "markdown",
      "metadata": {
        "id": "vnoDw5XX_4gl",
        "colab_type": "text"
      },
      "source": [
        "## Importiamo i Moduli"
      ]
    },
    {
      "cell_type": "code",
      "metadata": {
        "id": "QlPrSGn3EpNw",
        "colab_type": "code",
        "colab": {}
      },
      "source": [
        "import tensorflow as tf\n",
        "import numpy as np"
      ],
      "execution_count": null,
      "outputs": []
    },
    {
      "cell_type": "markdown",
      "metadata": {
        "id": "Gp6Ua_gX_8wP",
        "colab_type": "text"
      },
      "source": [
        "## Importiamo la Rete Neurale\n",
        "Importare la Rete è estremamente semplice, ci basta utilizzare la funzione *load_model* di tf.keras."
      ]
    },
    {
      "cell_type": "code",
      "metadata": {
        "id": "2sSuOnJpEv_q",
        "colab_type": "code",
        "colab": {}
      },
      "source": [
        "model = tf.keras.models.load_model('model_mnist_2.h5')"
      ],
      "execution_count": null,
      "outputs": []
    },
    {
      "cell_type": "markdown",
      "metadata": {
        "id": "7WmbJ80bAHYV",
        "colab_type": "text"
      },
      "source": [
        "## Eseguiamo delle predizioni\n",
        "Adesso possiamo utilizzare la rete per eseguire predizioni su nuovi dati, prima applichiamo le trasformazioni necessarie all'immagine."
      ]
    },
    {
      "cell_type": "code",
      "metadata": {
        "id": "ejWXmPEEFSsr",
        "colab_type": "code",
        "colab": {}
      },
      "source": [
        "img = tf.keras.preprocessing.image.load_img(\"4.png\", color_mode=\"grayscale\")\n",
        "img = np.array(img)\n",
        "img = np.expand_dims(img, axis=0)"
      ],
      "execution_count": null,
      "outputs": []
    },
    {
      "cell_type": "markdown",
      "metadata": {
        "id": "JPP5HD3XAQWa",
        "colab_type": "text"
      },
      "source": [
        "poi utilizziamo il metodo *predict* per ottenere la predizione."
      ]
    },
    {
      "cell_type": "code",
      "metadata": {
        "id": "C_mz3_02F4tp",
        "colab_type": "code",
        "colab": {
          "base_uri": "https://localhost:8080/",
          "height": 34
        },
        "outputId": "02ddbf9d-5fc4-4114-8762-5193950bf654"
      },
      "source": [
        "model.predict(img)"
      ],
      "execution_count": null,
      "outputs": [
        {
          "output_type": "execute_result",
          "data": {
            "text/plain": [
              "array([4])"
            ]
          },
          "metadata": {
            "tags": []
          },
          "execution_count": 20
        }
      ]
    },
    {
      "cell_type": "markdown",
      "metadata": {
        "id": "bJAhaDHzAWyt",
        "colab_type": "text"
      },
      "source": [
        "Semplice semplice :)"
      ]
    },
    {
      "cell_type": "code",
      "metadata": {
        "id": "HDvOUqbLAX8B",
        "colab_type": "code",
        "colab": {}
      },
      "source": [
        ""
      ],
      "execution_count": null,
      "outputs": []
    }
  ]
}