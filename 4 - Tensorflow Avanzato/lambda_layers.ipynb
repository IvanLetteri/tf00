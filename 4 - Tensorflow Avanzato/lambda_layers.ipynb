{
  "nbformat": 4,
  "nbformat_minor": 0,
  "metadata": {
    "colab": {
      "name": "Untitled47.ipynb",
      "provenance": [],
      "authorship_tag": "ABX9TyOwvpfHOO6AAtIvSf57jGiS",
      "include_colab_link": true
    },
    "kernelspec": {
      "name": "python3",
      "display_name": "Python 3"
    },
    "accelerator": "GPU"
  },
  "cells": [
    {
      "cell_type": "markdown",
      "metadata": {
        "id": "view-in-github",
        "colab_type": "text"
      },
      "source": [
        "<a href=\"https://colab.research.google.com/github/ProfAI/tf00/blob/master/4%20-%20Tensorflow%20Avanzato/lambda_layers.ipynb\" target=\"_parent\"><img src=\"https://colab.research.google.com/assets/colab-badge.svg\" alt=\"Open In Colab\"/></a>"
      ]
    },
    {
      "cell_type": "markdown",
      "metadata": {
        "id": "n9twyV00mRkS",
        "colab_type": "text"
      },
      "source": [
        "# Strati Lambda\n",
        "In questo notebook addestreremo una rete neurale per affrontare un semplicissimo problema di computer vision: riconoscere cifre scritte a mano. Inoltre vedremo come utilizzare degli **Strati Lambda** per eseguire del codice custom all'interno della rete neurale"
      ]
    },
    {
      "cell_type": "markdown",
      "metadata": {
        "id": "W3UYKGVzMihH",
        "colab_type": "text"
      },
      "source": [
        "## Importiamo i Moduli"
      ]
    },
    {
      "cell_type": "code",
      "metadata": {
        "id": "-SpjeUHFl_e5",
        "colab_type": "code",
        "colab": {}
      },
      "source": [
        "import numpy as np\n",
        "\n",
        "import tensorflow as tf\n",
        "import tensorflow_datasets as tfds\n",
        "\n",
        "from sklearn.model_selection import train_test_split\n",
        "import matplotlib.pyplot as plt\n",
        "\n",
        "from time import time"
      ],
      "execution_count": null,
      "outputs": []
    },
    {
      "cell_type": "markdown",
      "metadata": {
        "id": "ZN7_P3lcMmUG",
        "colab_type": "text"
      },
      "source": [
        "## Prepariamo i Dati\n",
        "Il dataset che utilizzeremo è il MNIST, una raccolta di immagini in bianco e nero di cifre scritte a mano. Per importare il dataset possiamo sfruttare il modulo *tensorflow_datasets*."
      ]
    },
    {
      "cell_type": "code",
      "metadata": {
        "id": "lR4X7M2hng_1",
        "colab_type": "code",
        "colab": {}
      },
      "source": [
        "dataset = tfds.load('mnist', split='train', shuffle_files=True)"
      ],
      "execution_count": null,
      "outputs": []
    },
    {
      "cell_type": "markdown",
      "metadata": {
        "id": "IOKYxu9AM7zI",
        "colab_type": "text"
      },
      "source": [
        "Definiamo una funzione che legge gli esempi dal dataset e li inserisce all'interno di due array numpy, uno con le features e un'altro con i target. Utilizziamo il parametro opzionale *num_samples* per limitare il numero di esempi da utilizzare."
      ]
    },
    {
      "cell_type": "code",
      "metadata": {
        "id": "RCKbkUDLn8ue",
        "colab_type": "code",
        "colab": {}
      },
      "source": [
        "def load_data(dataset, num_samples=None):\n",
        "  images = []\n",
        "  labels = []\n",
        "\n",
        "  for i, example in enumerate(tfds.as_numpy(dataset)):\n",
        "\n",
        "    if(num_samples!=None and i>=num_samples):\n",
        "      break\n",
        "\n",
        "    images.append(example[\"image\"])\n",
        "    labels.append(example[\"label\"])\n",
        "\n",
        "  images = np.array(images)\n",
        "  labels = np.array(labels)\n",
        "\n",
        "  return images, labels"
      ],
      "execution_count": null,
      "outputs": []
    },
    {
      "cell_type": "markdown",
      "metadata": {
        "id": "XzBDy11bNN9T",
        "colab_type": "text"
      },
      "source": [
        "Adesso utilizziamo la funzione per creare il dataset."
      ]
    },
    {
      "cell_type": "code",
      "metadata": {
        "id": "ZJtZfgSNn_OP",
        "colab_type": "code",
        "colab": {
          "base_uri": "https://localhost:8080/",
          "height": 69
        },
        "outputId": "2e4cfb38-9afc-4d6b-a6c9-8d20e9b89ac8"
      },
      "source": [
        "images, labels = load_data(dataset)\n",
        "num_classes = np.unique(labels).shape[0] # contiamo il numero di classi uniche\n",
        "print(\"Numero di esempi: %d\" % images.shape[0])\n",
        "print(\"Dimensioni immagine: %s\" % str(images[0].shape))\n",
        "print(\"Classi = %d %s\" % (num_classes, np.unique(labels)))"
      ],
      "execution_count": null,
      "outputs": [
        {
          "output_type": "stream",
          "text": [
            "Numero di esempi: 60000\n",
            "Dimensioni immagine: (28, 28, 1)\n",
            "Classi = 10 [0 1 2 3 4 5 6 7 8 9]\n"
          ],
          "name": "stdout"
        }
      ]
    },
    {
      "cell_type": "markdown",
      "metadata": {
        "id": "lUy7oV53NgmE",
        "colab_type": "text"
      },
      "source": [
        "Nel caso di classificazioni multiclasse, dobbiamo codificare il target utilizzando il **one-hot encoding**, con tnsorflow possiamo farlo tramite la funzione *one_hot*."
      ]
    },
    {
      "cell_type": "code",
      "metadata": {
        "id": "q5vEv1dZn_lZ",
        "colab_type": "code",
        "colab": {}
      },
      "source": [
        "X = images\n",
        "y = tf.one_hot(labels, num_classes).numpy()"
      ],
      "execution_count": null,
      "outputs": []
    },
    {
      "cell_type": "markdown",
      "metadata": {
        "id": "ZM8NKwpXNy7J",
        "colab_type": "text"
      },
      "source": [
        "Adesso dividiamo il dataset in Train Set e Test Set."
      ]
    },
    {
      "cell_type": "code",
      "metadata": {
        "id": "7xOqjENRoFMI",
        "colab_type": "code",
        "colab": {}
      },
      "source": [
        "X_train, X_test, y_train, y_test = train_test_split(X, y, test_size=0.2)"
      ],
      "execution_count": null,
      "outputs": []
    },
    {
      "cell_type": "markdown",
      "metadata": {
        "id": "_8MZUqfxu-z7",
        "colab_type": "text"
      },
      "source": [
        "### Flattening delle Immagini\n",
        "L'input della nostra rete neurale deve essere sempre un vettore, mentre un'immagine è una matrice di pixel, per convertire una matrice in un vettore possiamo eseguire il **Flattening**, che consiste nel riorganizzare le varie righe del dataset in un unica riga in successione. Possiamo farlo utilizzando il metodo reshape."
      ]
    },
    {
      "cell_type": "code",
      "metadata": {
        "id": "WziV_ZhNqt23",
        "colab_type": "code",
        "colab": {
          "base_uri": "https://localhost:8080/",
          "height": 35
        },
        "outputId": "0e840836-1a7d-432a-87ab-d48400db1fcd"
      },
      "source": [
        "X_train_1d = X_train.reshape(X_train.shape[0], X_train.shape[1]*X_train.shape[2])\n",
        "X_test_1d = X_test.reshape(X_test.shape[0], X_test.shape[1]*X_test.shape[2])\n",
        "\n",
        "X_train_1d.shape"
      ],
      "execution_count": null,
      "outputs": [
        {
          "output_type": "execute_result",
          "data": {
            "text/plain": [
              "(48000, 784)"
            ]
          },
          "metadata": {
            "tags": []
          },
          "execution_count": 7
        }
      ]
    },
    {
      "cell_type": "markdown",
      "metadata": {
        "id": "Xc_03OjgOdrf",
        "colab_type": "text"
      },
      "source": [
        "Per assicurarci di non aver *rotto* le immagini, eseguiamo la trasformarzione inversa e proviamo a stampare un'immagine."
      ]
    },
    {
      "cell_type": "code",
      "metadata": {
        "id": "WRj56pLJoGdW",
        "colab_type": "code",
        "colab": {
          "base_uri": "https://localhost:8080/",
          "height": 283
        },
        "outputId": "f3db06dc-1e1c-496d-8696-660ebd9ba78f"
      },
      "source": [
        "plt.imshow(X_train_1d[0].reshape(28,28))\n",
        "print(np.argmax(y_train[0]))"
      ],
      "execution_count": null,
      "outputs": [
        {
          "output_type": "stream",
          "text": [
            "2\n"
          ],
          "name": "stdout"
        },
        {
          "output_type": "display_data",
          "data": {
            "image/png": "[encoded data removed]",
            "text/plain": [
              "<Figure size 432x288 with 1 Axes>"
            ]
          },
          "metadata": {
            "tags": [],
            "needs_background": "light"
          }
        }
      ]
    },
    {
      "cell_type": "markdown",
      "metadata": {
        "id": "cMR1R3X1ppg6",
        "colab_type": "text"
      },
      "source": [
        "## Addestramento della Rete Neurale\n",
        "Definiamo e addestriamo la rete neurale, trattandosi di un problema di classificazione multiclasse, la funzione di attivazione dell'ultimo strato deve essere la sigmoide, mentre la funzione di costo da utilizzare è la Categorical Crossentropy."
      ]
    },
    {
      "cell_type": "code",
      "metadata": {
        "id": "UhufjrX_oIOe",
        "colab_type": "code",
        "colab": {
          "base_uri": "https://localhost:8080/",
          "height": 381
        },
        "outputId": "9b7be56c-eb03-4046-b2f3-9f2bbb322d02"
      },
      "source": [
        "model = tf.keras.models.Sequential()\n",
        "model.add(tf.keras.layers.Dense(32, activation='relu', input_shape=[X_train_1d.shape[1]]))\n",
        "model.add(tf.keras.layers.Dense(32, activation='relu'))\n",
        "model.add(tf.keras.layers.Dense(num_classes, activation='softmax'))\n",
        "\n",
        "model.compile(loss='categorical_crossentropy', optimizer='sgd', metrics=['accuracy'])\n",
        "\n",
        "model.fit(X_train_1d, y_train, epochs=10)"
      ],
      "execution_count": null,
      "outputs": [
        {
          "output_type": "stream",
          "text": [
            "Epoch 1/10\n",
            "1500/1500 [==============================] - 3s 2ms/step - loss: 45.1150 - accuracy: 0.1136\n",
            "Epoch 2/10\n",
            "1500/1500 [==============================] - 3s 2ms/step - loss: 2.3010 - accuracy: 0.1139\n",
            "Epoch 3/10\n",
            "1500/1500 [==============================] - 3s 2ms/step - loss: 2.3010 - accuracy: 0.1139\n",
            "Epoch 4/10\n",
            "1500/1500 [==============================] - 3s 2ms/step - loss: 2.3010 - accuracy: 0.1139\n",
            "Epoch 5/10\n",
            "1500/1500 [==============================] - 3s 2ms/step - loss: 2.3010 - accuracy: 0.1139\n",
            "Epoch 6/10\n",
            "1500/1500 [==============================] - 3s 2ms/step - loss: 2.3010 - accuracy: 0.1139\n",
            "Epoch 7/10\n",
            "1500/1500 [==============================] - 3s 2ms/step - loss: 2.3010 - accuracy: 0.1139\n",
            "Epoch 8/10\n",
            "1500/1500 [==============================] - 3s 2ms/step - loss: 2.3010 - accuracy: 0.1139\n",
            "Epoch 9/10\n",
            "1500/1500 [==============================] - 3s 2ms/step - loss: 2.3010 - accuracy: 0.1139\n",
            "Epoch 10/10\n",
            "1500/1500 [==============================] - 3s 2ms/step - loss: 2.3010 - accuracy: 0.1139\n"
          ],
          "name": "stdout"
        },
        {
          "output_type": "execute_result",
          "data": {
            "text/plain": [
              "<tensorflow.python.keras.callbacks.History at 0x7ffb50125780>"
            ]
          },
          "metadata": {
            "tags": []
          },
          "execution_count": 9
        }
      ]
    },
    {
      "cell_type": "markdown",
      "metadata": {
        "id": "RFdGG11WO_79",
        "colab_type": "text"
      },
      "source": [
        "Il risultato dell'addestramento è davvero molto scarso."
      ]
    },
    {
      "cell_type": "markdown",
      "metadata": {
        "id": "mOuOKfVvoo6k",
        "colab_type": "text"
      },
      "source": [
        "### Normalizzazione delle immagini\n",
        "Una rete neurale apprende molti pesi tutti di dimensione abbastanza piccola, e utilizzre delle features con valori elevati può rallentare, se non addirittura rompere, la fase di addestramento. Per questo motivo è sempre consigliabile normalizzare o standardizzare il dataset. Per normalizzare delle immagini è sufficiente dividere per 255 (il valore massimo che un pixel può avere) in modo tale da portare il range di valori a 0-1."
      ]
    },
    {
      "cell_type": "code",
      "metadata": {
        "id": "84KCeodppYzR",
        "colab_type": "code",
        "colab": {}
      },
      "source": [
        "X_train_norm = X_train_1d/255"
      ],
      "execution_count": null,
      "outputs": []
    },
    {
      "cell_type": "markdown",
      "metadata": {
        "id": "1ps9xjNGQvd8",
        "colab_type": "text"
      },
      "source": [
        "Proviamo ora ad addestrare nuovamente la stessa rete neurale di prima."
      ]
    },
    {
      "cell_type": "code",
      "metadata": {
        "id": "w4zb2hkLof-P",
        "colab_type": "code",
        "colab": {
          "base_uri": "https://localhost:8080/",
          "height": 381
        },
        "outputId": "7d69aaaa-0e2e-4f3e-d981-98186bce9629"
      },
      "source": [
        "model = tf.keras.models.Sequential()\n",
        "model.add(tf.keras.layers.Dense(32, activation='relu', input_shape=[X_train_norm.shape[1]]))\n",
        "model.add(tf.keras.layers.Dense(32, activation='relu'))\n",
        "model.add(tf.keras.layers.Dense(num_classes, activation='softmax'))\n",
        "\n",
        "model.compile(loss='categorical_crossentropy', optimizer='sgd', metrics=['accuracy'])\n",
        "\n",
        "model.fit(X_train_norm, y_train, epochs=10)"
      ],
      "execution_count": null,
      "outputs": [
        {
          "output_type": "stream",
          "text": [
            "Epoch 1/10\n",
            "1500/1500 [==============================] - 3s 2ms/step - loss: 0.8145 - accuracy: 0.7680\n",
            "Epoch 2/10\n",
            "1500/1500 [==============================] - 3s 2ms/step - loss: 0.3442 - accuracy: 0.9006\n",
            "Epoch 3/10\n",
            "1500/1500 [==============================] - 3s 2ms/step - loss: 0.2868 - accuracy: 0.9162\n",
            "Epoch 4/10\n",
            "1500/1500 [==============================] - 3s 2ms/step - loss: 0.2550 - accuracy: 0.9255\n",
            "Epoch 5/10\n",
            "1500/1500 [==============================] - 3s 2ms/step - loss: 0.2317 - accuracy: 0.9322\n",
            "Epoch 6/10\n",
            "1500/1500 [==============================] - 3s 2ms/step - loss: 0.2135 - accuracy: 0.9375\n",
            "Epoch 7/10\n",
            "1500/1500 [==============================] - 3s 2ms/step - loss: 0.1979 - accuracy: 0.9426\n",
            "Epoch 8/10\n",
            "1500/1500 [==============================] - 3s 2ms/step - loss: 0.1845 - accuracy: 0.9465\n",
            "Epoch 9/10\n",
            "1500/1500 [==============================] - 3s 2ms/step - loss: 0.1734 - accuracy: 0.9496\n",
            "Epoch 10/10\n",
            "1500/1500 [==============================] - 3s 2ms/step - loss: 0.1645 - accuracy: 0.9529\n"
          ],
          "name": "stdout"
        },
        {
          "output_type": "execute_result",
          "data": {
            "text/plain": [
              "<tensorflow.python.keras.callbacks.History at 0x7ffb0a3e35c0>"
            ]
          },
          "metadata": {
            "tags": []
          },
          "execution_count": 11
        }
      ]
    },
    {
      "cell_type": "markdown",
      "metadata": {
        "id": "oZGZ4FmjQy4b",
        "colab_type": "text"
      },
      "source": [
        "Come vedi ora il risultato è totalmente differente."
      ]
    },
    {
      "cell_type": "markdown",
      "metadata": {
        "id": "SVqtq5mJp6_Z",
        "colab_type": "text"
      },
      "source": [
        "## Utilizzare Strati Lambda"
      ]
    },
    {
      "cell_type": "markdown",
      "metadata": {
        "id": "l9FYpK9nQ2q0",
        "colab_type": "text"
      },
      "source": [
        "Vediamo ora come possiamo utilizzare gli strati lambda per incorporare alcuni calcoli all'interno degli stessi strati della rete."
      ]
    },
    {
      "cell_type": "markdown",
      "metadata": {
        "id": "kRx49wt2r7qO",
        "colab_type": "text"
      },
      "source": [
        "### Normalizzazione\n",
        "Aggiungiamo uno strato lambda prima dello strato di input, il cui scopo è normalizzare le immagini, dopodichè eseguiamo l'addestramento sul Train Set non normalizzato."
      ]
    },
    {
      "cell_type": "code",
      "metadata": {
        "id": "SIe0385Gp2mE",
        "colab_type": "code",
        "colab": {
          "base_uri": "https://localhost:8080/",
          "height": 381
        },
        "outputId": "769af4fc-4692-475d-b4dd-133ff65992e5"
      },
      "source": [
        "model = tf.keras.models.Sequential()\n",
        "model.add(tf.keras.layers.Lambda(lambda x: x/255))\n",
        "model.add(tf.keras.layers.Dense(32, activation='relu', input_shape=[X_train_1d.shape[1]]))\n",
        "model.add(tf.keras.layers.Dense(32, activation='relu'))\n",
        "model.add(tf.keras.layers.Dense(num_classes, activation='softmax'))\n",
        "\n",
        "model.compile(loss='categorical_crossentropy', optimizer='sgd', metrics=['accuracy'])\n",
        "\n",
        "model.fit(X_train_1d, y_train, epochs=10)"
      ],
      "execution_count": null,
      "outputs": [
        {
          "output_type": "stream",
          "text": [
            "Epoch 1/10\n",
            "1500/1500 [==============================] - 3s 2ms/step - loss: 0.7986 - accuracy: 0.7780\n",
            "Epoch 2/10\n",
            "1500/1500 [==============================] - 3s 2ms/step - loss: 0.3497 - accuracy: 0.8996\n",
            "Epoch 3/10\n",
            "1500/1500 [==============================] - 3s 2ms/step - loss: 0.2986 - accuracy: 0.9138\n",
            "Epoch 4/10\n",
            "1500/1500 [==============================] - 3s 2ms/step - loss: 0.2681 - accuracy: 0.9227\n",
            "Epoch 5/10\n",
            "1500/1500 [==============================] - 3s 2ms/step - loss: 0.2444 - accuracy: 0.9299\n",
            "Epoch 6/10\n",
            "1500/1500 [==============================] - 3s 2ms/step - loss: 0.2253 - accuracy: 0.9346\n",
            "Epoch 7/10\n",
            "1500/1500 [==============================] - 3s 2ms/step - loss: 0.2088 - accuracy: 0.9397\n",
            "Epoch 8/10\n",
            "1500/1500 [==============================] - 3s 2ms/step - loss: 0.1944 - accuracy: 0.9441\n",
            "Epoch 9/10\n",
            "1500/1500 [==============================] - 3s 2ms/step - loss: 0.1816 - accuracy: 0.9477\n",
            "Epoch 10/10\n",
            "1500/1500 [==============================] - 3s 2ms/step - loss: 0.1703 - accuracy: 0.9510\n"
          ],
          "name": "stdout"
        },
        {
          "output_type": "execute_result",
          "data": {
            "text/plain": [
              "<tensorflow.python.keras.callbacks.History at 0x7ffb0a32db00>"
            ]
          },
          "metadata": {
            "tags": []
          },
          "execution_count": 12
        }
      ]
    },
    {
      "cell_type": "markdown",
      "metadata": {
        "id": "4iwcbCXdRNyX",
        "colab_type": "text"
      },
      "source": [
        "Come vedi il risultato è lo stesso di prima, dato che anche in questo caso la normalizzazione viene eseguita, ma avviene all'interno della rete neurale."
      ]
    },
    {
      "cell_type": "markdown",
      "metadata": {
        "id": "cxodJcsbr-9r",
        "colab_type": "text"
      },
      "source": [
        "### Flattening\n",
        "Aggiungiamo un'ulteriore strato Lambda, per eseguire il flattening delle immagini e addestriamo la rete sul Train Set originale, cioè quello in cui ogni immagine è rappresentata da una matrice."
      ]
    },
    {
      "cell_type": "code",
      "metadata": {
        "id": "BS09ViXvqB8R",
        "colab_type": "code",
        "colab": {
          "base_uri": "https://localhost:8080/",
          "height": 381
        },
        "outputId": "1e3efeb3-3624-405a-f3d9-05bd38cddf79"
      },
      "source": [
        "model = tf.keras.models.Sequential()\n",
        "model.add(tf.keras.layers.Lambda(lambda x: tf.reshape(x, [x.shape[0], x.shape[1]*x.shape[2]])))\n",
        "model.add(tf.keras.layers.Lambda(lambda x: x/255))\n",
        "model.add(tf.keras.layers.Dense(32, activation='relu'))\n",
        "model.add(tf.keras.layers.Dense(32, activation='relu'))\n",
        "model.add(tf.keras.layers.Dense(num_classes, activation='softmax'))\n",
        "\n",
        "model.compile(loss='categorical_crossentropy', optimizer='sgd', metrics=['accuracy'])\n",
        "\n",
        "model.fit(X_train, y_train, epochs=10)"
      ],
      "execution_count": null,
      "outputs": [
        {
          "output_type": "stream",
          "text": [
            "Epoch 1/10\n",
            "1500/1500 [==============================] - 3s 2ms/step - loss: 0.8627 - accuracy: 0.7545\n",
            "Epoch 2/10\n",
            "1500/1500 [==============================] - 3s 2ms/step - loss: 0.3488 - accuracy: 0.8991\n",
            "Epoch 3/10\n",
            "1500/1500 [==============================] - 3s 2ms/step - loss: 0.2944 - accuracy: 0.9137\n",
            "Epoch 4/10\n",
            "1500/1500 [==============================] - 3s 2ms/step - loss: 0.2623 - accuracy: 0.9237\n",
            "Epoch 5/10\n",
            "1500/1500 [==============================] - 3s 2ms/step - loss: 0.2371 - accuracy: 0.9308\n",
            "Epoch 6/10\n",
            "1500/1500 [==============================] - 3s 2ms/step - loss: 0.2174 - accuracy: 0.9375\n",
            "Epoch 7/10\n",
            "1500/1500 [==============================] - 3s 2ms/step - loss: 0.2012 - accuracy: 0.9420\n",
            "Epoch 8/10\n",
            "1500/1500 [==============================] - 3s 2ms/step - loss: 0.1877 - accuracy: 0.9450\n",
            "Epoch 9/10\n",
            "1500/1500 [==============================] - 3s 2ms/step - loss: 0.1762 - accuracy: 0.9486\n",
            "Epoch 10/10\n",
            "1500/1500 [==============================] - 3s 2ms/step - loss: 0.1672 - accuracy: 0.9512\n"
          ],
          "name": "stdout"
        },
        {
          "output_type": "execute_result",
          "data": {
            "text/plain": [
              "<tensorflow.python.keras.callbacks.History at 0x7ffb0a26d240>"
            ]
          },
          "metadata": {
            "tags": []
          },
          "execution_count": 13
        }
      ]
    },
    {
      "cell_type": "markdown",
      "metadata": {
        "id": "R-YoPN-ZRny_",
        "colab_type": "text"
      },
      "source": [
        "Il risultato è semrpre lo stesso, abbiamo trasformato la nostra rete neurale in un modello end-to-end. Per finire valutiamo il nostro modello sul Test Set."
      ]
    },
    {
      "cell_type": "code",
      "metadata": {
        "id": "6diMCZk8s3n2",
        "colab_type": "code",
        "colab": {
          "base_uri": "https://localhost:8080/",
          "height": 52
        },
        "outputId": "dc4cebf8-963e-4f31-d768-95373af7d026"
      },
      "source": [
        "model.evaluate(X_test, y_test)"
      ],
      "execution_count": null,
      "outputs": [
        {
          "output_type": "stream",
          "text": [
            "375/375 [==============================] - 1s 2ms/step - loss: 0.1898 - accuracy: 0.9461\n"
          ],
          "name": "stdout"
        },
        {
          "output_type": "execute_result",
          "data": {
            "text/plain": [
              "[0.18978886306285858, 0.9460833072662354]"
            ]
          },
          "metadata": {
            "tags": []
          },
          "execution_count": 15
        }
      ]
    },
    {
      "cell_type": "markdown",
      "metadata": {
        "id": "zW4yNf1vR5kI",
        "colab_type": "text"
      },
      "source": [
        "Non c'è overfitting, quindi il modello va bene, quindi possiamo pure utilizzare la rete per riconoscere nuove immagini (non avendo altre immagini utilizzerò sempre il Test Set)."
      ]
    },
    {
      "cell_type": "code",
      "metadata": {
        "id": "iTNsNiLqsTC5",
        "colab_type": "code",
        "colab": {
          "base_uri": "https://localhost:8080/",
          "height": 159
        },
        "outputId": "0c9a483d-7ef6-41c2-fc03-f0fa756bff6b"
      },
      "source": [
        "model.predict_classes(X_test)"
      ],
      "execution_count": null,
      "outputs": [
        {
          "output_type": "stream",
          "text": [
            "WARNING:tensorflow:From <ipython-input-14-bc459dba29cd>:1: Sequential.predict_classes (from tensorflow.python.keras.engine.sequential) is deprecated and will be removed after 2021-01-01.\n",
            "Instructions for updating:\n",
            "Please use instead:* `np.argmax(model.predict(x), axis=-1)`,   if your model does multi-class classification   (e.g. if it uses a `softmax` last-layer activation).* `(model.predict(x) > 0.5).astype(\"int32\")`,   if your model does binary classification   (e.g. if it uses a `sigmoid` last-layer activation).\n"
          ],
          "name": "stdout"
        },
        {
          "output_type": "stream",
          "text": [
            "WARNING:tensorflow:From <ipython-input-14-bc459dba29cd>:1: Sequential.predict_classes (from tensorflow.python.keras.engine.sequential) is deprecated and will be removed after 2021-01-01.\n",
            "Instructions for updating:\n",
            "Please use instead:* `np.argmax(model.predict(x), axis=-1)`,   if your model does multi-class classification   (e.g. if it uses a `softmax` last-layer activation).* `(model.predict(x) > 0.5).astype(\"int32\")`,   if your model does binary classification   (e.g. if it uses a `sigmoid` last-layer activation).\n"
          ],
          "name": "stderr"
        },
        {
          "output_type": "execute_result",
          "data": {
            "text/plain": [
              "array([9, 2, 9, ..., 2, 5, 8])"
            ]
          },
          "metadata": {
            "tags": []
          },
          "execution_count": 14
        }
      ]
    }
  ]
}