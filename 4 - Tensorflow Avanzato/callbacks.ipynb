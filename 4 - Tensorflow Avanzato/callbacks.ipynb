{
  "nbformat": 4,
  "nbformat_minor": 0,
  "metadata": {
    "colab": {
      "name": "Untitled48.ipynb",
      "provenance": [],
      "collapsed_sections": [],
      "toc_visible": true,
      "authorship_tag": "ABX9TyPZlpHfaOv1e2N9tMP7LNSt",
      "include_colab_link": true
    },
    "kernelspec": {
      "name": "python3",
      "display_name": "Python 3"
    },
    "accelerator": "GPU"
  },
  "cells": [
    {
      "cell_type": "markdown",
      "metadata": {
        "id": "view-in-github",
        "colab_type": "text"
      },
      "source": [
        "<a href=\"https://colab.research.google.com/github/ProfAI/tf00/blob/master/4%20-%20Tensorflow%20Avanzato/callbacks.ipynb\" target=\"_parent\"><img src=\"https://colab.research.google.com/assets/colab-badge.svg\" alt=\"Open In Colab\"/></a>"
      ]
    },
    {
      "cell_type": "markdown",
      "metadata": {
        "id": "Y_fvwD7w1aFf",
        "colab_type": "text"
      },
      "source": [
        "# Callbacks\n",
        "I callback ci permettono di eseguire del codice durante le varie fasi dell'addestramento di una Rete Neurale. In questo notebook vedremo come utilizzarli."
      ]
    },
    {
      "cell_type": "markdown",
      "metadata": {
        "id": "lhm1zCXzz1FD",
        "colab_type": "text"
      },
      "source": [
        "## Importiamo i Moduli"
      ]
    },
    {
      "cell_type": "code",
      "metadata": {
        "id": "wshrGGvT1Zxt",
        "colab_type": "code",
        "colab": {}
      },
      "source": [
        "import numpy as np\n",
        "\n",
        "import tensorflow as tf\n",
        "import tensorflow_datasets as tfds\n",
        "\n",
        "from sklearn.model_selection import train_test_split\n",
        "import matplotlib.pyplot as plt\n",
        "\n",
        "from time import time"
      ],
      "execution_count": null,
      "outputs": []
    },
    {
      "cell_type": "markdown",
      "metadata": {
        "id": "5tYRKeHy0siW",
        "colab_type": "text"
      },
      "source": [
        "## Prepariamo i Dati"
      ]
    },
    {
      "cell_type": "code",
      "metadata": {
        "id": "TqOmBoWG1T28",
        "colab_type": "code",
        "colab": {}
      },
      "source": [
        "dataset = tfds.load('mnist', split='train', shuffle_files=True)\n",
        "\n",
        "def load_data(dataset, num_samples=None):\n",
        "  images = []\n",
        "  labels = []\n",
        "\n",
        "  for i, example in enumerate(tfds.as_numpy(dataset)):\n",
        "\n",
        "    if(num_samples!=None and i>=num_samples):\n",
        "      break\n",
        "\n",
        "    images.append(example[\"image\"])\n",
        "    labels.append(example[\"label\"])\n",
        "\n",
        "  images = np.array(images)\n",
        "  labels = np.array(labels)\n",
        "\n",
        "  return images, labels\n",
        "\n",
        "images, labels = load_data(dataset)\n",
        "num_classes = np.unique(labels).shape[0]\n",
        "\n",
        "X = images\n",
        "y = tf.one_hot(labels, num_classes).numpy()\n",
        "\n",
        "X_train, X_test, y_train, y_test = train_test_split(X, y, test_size=0.2)"
      ],
      "execution_count": null,
      "outputs": []
    },
    {
      "cell_type": "markdown",
      "metadata": {
        "id": "b-h86l318LFm",
        "colab_type": "text"
      },
      "source": [
        "## Costruiamo la Rete Neurale\n",
        "Dato che dovremo addestrare la Rete più volte, definiamo una funzione che ci permette di definirla e compilarla."
      ]
    },
    {
      "cell_type": "code",
      "metadata": {
        "id": "QkqWHWiX8NeK",
        "colab_type": "code",
        "colab": {}
      },
      "source": [
        "def build_model():\n",
        "  model = tf.keras.models.Sequential()\n",
        "  model.add(tf.keras.layers.Lambda(lambda x: tf.reshape(x, [x.shape[0], x.shape[1]*x.shape[2]])))\n",
        "  model.add(tf.keras.layers.Lambda(lambda x: x/255))\n",
        "  model.add(tf.keras.layers.Dense(32, activation='relu'))\n",
        "  model.add(tf.keras.layers.Dense(32, activation='relu'))\n",
        "  model.add(tf.keras.layers.Dense(num_classes, activation='softmax'))\n",
        "\n",
        "  model.compile(loss='categorical_crossentropy', optimizer='sgd', metrics=['accuracy'])\n",
        "\n",
        "  return model"
      ],
      "execution_count": null,
      "outputs": []
    },
    {
      "cell_type": "markdown",
      "metadata": {
        "id": "kQLFi6Gf2WaH",
        "colab_type": "text"
      },
      "source": [
        "## Custom Callbacks\n",
        "Un Custom Callback ci permette di eseguire del codice arbitrario durante la fase di addestramento. Per creare il nostro callback dobbiamo definire una nuova classe derivante dalla classe Callback di Keras, questa classe ha diversi metodi che ci permettono di eseguire del codice durante le varie fasi dell'addestramento, [qui](https://www.tensorflow.org/api_docs/python/tf/keras/callbacks/Callback) puoi trovare l'elenco di tutti i metodi che puoi sfruttare."
      ]
    },
    {
      "cell_type": "code",
      "metadata": {
        "id": "FzVitjfH2Aq6",
        "colab_type": "code",
        "colab": {}
      },
      "source": [
        "from time import time\n",
        "from google.colab import output\n",
        "\n",
        "class MyCustomCallback(tf.keras.callbacks.Callback):\n",
        "\n",
        "  # Viene eseguito al termine di ogni epoca\n",
        "  def on_epoch_end(self, epoch, logs=None):\n",
        "    metrics_test = model.evaluate(X_test, y_test)\n",
        "    print(\"Epoca %d: Test loss=%.4f, Test accuracy=%.2f\" % (epoch+1, metrics_test[0], metrics_test[1]))\n",
        "\n",
        "  # Viene eseguito all'avvio dell'addestramento \n",
        "  def on_train_begin(self, logs=None):\n",
        "    print(\"Avvio dell'addestramento...\")\n",
        "    self.start_time = time()\n",
        "\n",
        "  # Viene eseguito al termine dell'addestramento\n",
        "  def on_train_end(self, logs=None):\n",
        "    exec_time = time()-self.start_time\n",
        "    print(\"\\n+++ Addestramento completato in: %d minuti e %d secondi +++\" % (exec_time/60, exec_time%60))\n",
        "    output.eval_js('new Audio(\"https://raw.githubusercontent.com/ProfAI/tf00/master/gilfoyle_alert.mp3\").play()') # avviamo un suono"
      ],
      "execution_count": null,
      "outputs": []
    },
    {
      "cell_type": "markdown",
      "metadata": {
        "id": "Dz3nf81c3SC6",
        "colab_type": "text"
      },
      "source": [
        "ora possiamo passare un'istanza del callback all'interno del parametro callbacks del metodo fit."
      ]
    },
    {
      "cell_type": "code",
      "metadata": {
        "id": "UBLsT68F1qBg",
        "colab_type": "code",
        "colab": {
          "base_uri": "https://localhost:8080/",
          "height": 773
        },
        "outputId": "ca085f9d-64ef-4e75-b45e-911f176088fc"
      },
      "source": [
        "model = build_model()\n",
        "model.fit(X_train, y_train, epochs=10, callbacks=[MyCustomCallback()])"
      ],
      "execution_count": null,
      "outputs": [
        {
          "output_type": "stream",
          "text": [
            "Avvio dell'addestramento...\n",
            "Epoch 1/10\n",
            "375/375 [==============================] - 1s 3ms/step - loss: 0.4156 - accuracy: 0.8863\n",
            "Epoca 1: Test loss=0.4156, Test accuracy=0.89\n",
            "1500/1500 [==============================] - 6s 4ms/step - loss: 0.9276 - accuracy: 0.7275\n",
            "Epoch 2/10\n",
            "375/375 [==============================] - 1s 3ms/step - loss: 0.3222 - accuracy: 0.9072\n",
            "Epoca 2: Test loss=0.3222, Test accuracy=0.91\n",
            "1500/1500 [==============================] - 6s 4ms/step - loss: 0.3474 - accuracy: 0.9007\n",
            "Epoch 3/10\n",
            "375/375 [==============================] - 1s 3ms/step - loss: 0.2770 - accuracy: 0.9198\n",
            "Epoca 3: Test loss=0.2770, Test accuracy=0.92\n",
            "1500/1500 [==============================] - 6s 4ms/step - loss: 0.2870 - accuracy: 0.9163\n",
            "Epoch 4/10\n",
            "375/375 [==============================] - 1s 3ms/step - loss: 0.2540 - accuracy: 0.9243\n",
            "Epoca 4: Test loss=0.2540, Test accuracy=0.92\n",
            "1500/1500 [==============================] - 6s 4ms/step - loss: 0.2548 - accuracy: 0.9260\n",
            "Epoch 5/10\n",
            "375/375 [==============================] - 1s 3ms/step - loss: 0.2332 - accuracy: 0.9310\n",
            "Epoca 5: Test loss=0.2332, Test accuracy=0.93\n",
            "1500/1500 [==============================] - 6s 4ms/step - loss: 0.2322 - accuracy: 0.9334\n",
            "Epoch 6/10\n",
            "375/375 [==============================] - 1s 3ms/step - loss: 0.2198 - accuracy: 0.9350\n",
            "Epoca 6: Test loss=0.2198, Test accuracy=0.94\n",
            "1500/1500 [==============================] - 6s 4ms/step - loss: 0.2148 - accuracy: 0.9389\n",
            "Epoch 7/10\n",
            "375/375 [==============================] - 1s 3ms/step - loss: 0.2081 - accuracy: 0.9366\n",
            "Epoca 7: Test loss=0.2081, Test accuracy=0.94\n",
            "1500/1500 [==============================] - 6s 4ms/step - loss: 0.2012 - accuracy: 0.9417\n",
            "Epoch 8/10\n",
            "375/375 [==============================] - 1s 3ms/step - loss: 0.1943 - accuracy: 0.9421\n",
            "Epoca 8: Test loss=0.1943, Test accuracy=0.94\n",
            "1500/1500 [==============================] - 6s 4ms/step - loss: 0.1896 - accuracy: 0.9454\n",
            "Epoch 9/10\n",
            "375/375 [==============================] - 1s 3ms/step - loss: 0.1917 - accuracy: 0.9437\n",
            "Epoca 9: Test loss=0.1917, Test accuracy=0.94\n",
            "1500/1500 [==============================] - 6s 4ms/step - loss: 0.1794 - accuracy: 0.9482\n",
            "Epoch 10/10\n",
            "375/375 [==============================] - 1s 3ms/step - loss: 0.1820 - accuracy: 0.9460\n",
            "Epoca 10: Test loss=0.1820, Test accuracy=0.95\n",
            "1500/1500 [==============================] - 6s 4ms/step - loss: 0.1706 - accuracy: 0.9511\n",
            "+++ Addestramento completato in: 0 minuti e 56 secondi +++\n"
          ],
          "name": "stdout"
        },
        {
          "output_type": "execute_result",
          "data": {
            "text/plain": [
              "<tensorflow.python.keras.callbacks.History at 0x7fc21bd24518>"
            ]
          },
          "metadata": {
            "tags": []
          },
          "execution_count": 32
        }
      ]
    },
    {
      "cell_type": "markdown",
      "metadata": {
        "id": "hZq6ufjR7ELY",
        "colab_type": "text"
      },
      "source": [
        "## History Callbacks\n",
        "Oltre ai Custom Callbacks, possiamo anche sfruttare dei callback che hanno delle funzioni predefinite. Uno di questi è l'History Callback, che ci permette ad accedere ai valori delle metriche ottenute al termine delle varie epoche."
      ]
    },
    {
      "cell_type": "code",
      "metadata": {
        "id": "CGG6nS6U2iIk",
        "colab_type": "code",
        "colab": {
          "base_uri": "https://localhost:8080/",
          "height": 386
        },
        "outputId": "2b46a8fb-be10-4758-db2b-8206745b221b"
      },
      "source": [
        "model = build_model()\n",
        "model.fit(X_train, y_train, epochs=10, callbacks=[tf.keras.callbacks.History()])"
      ],
      "execution_count": null,
      "outputs": [
        {
          "output_type": "stream",
          "text": [
            "Epoch 1/10\n",
            "1500/1500 [==============================] - 5s 3ms/step - loss: 0.1629 - accuracy: 0.9528\n",
            "Epoch 2/10\n",
            "1500/1500 [==============================] - 5s 3ms/step - loss: 0.1560 - accuracy: 0.9550\n",
            "Epoch 3/10\n",
            "1500/1500 [==============================] - 5s 3ms/step - loss: 0.1494 - accuracy: 0.9561\n",
            "Epoch 4/10\n",
            "1500/1500 [==============================] - 5s 3ms/step - loss: 0.1438 - accuracy: 0.9586\n",
            "Epoch 5/10\n",
            "1500/1500 [==============================] - 5s 3ms/step - loss: 0.1384 - accuracy: 0.9592\n",
            "Epoch 6/10\n",
            "1500/1500 [==============================] - 5s 3ms/step - loss: 0.1338 - accuracy: 0.9613\n",
            "Epoch 7/10\n",
            "1500/1500 [==============================] - 5s 3ms/step - loss: 0.1290 - accuracy: 0.9621\n",
            "Epoch 8/10\n",
            "1500/1500 [==============================] - 5s 3ms/step - loss: 0.1252 - accuracy: 0.9634\n",
            "Epoch 9/10\n",
            "1500/1500 [==============================] - 5s 3ms/step - loss: 0.1213 - accuracy: 0.9651\n",
            "Epoch 10/10\n",
            "1500/1500 [==============================] - 5s 3ms/step - loss: 0.1179 - accuracy: 0.9659\n"
          ],
          "name": "stdout"
        },
        {
          "output_type": "execute_result",
          "data": {
            "text/plain": [
              "<tensorflow.python.keras.callbacks.History at 0x7fc21bd13da0>"
            ]
          },
          "metadata": {
            "tags": []
          },
          "execution_count": 33
        }
      ]
    },
    {
      "cell_type": "markdown",
      "metadata": {
        "id": "zz7RyHNU8aP7",
        "colab_type": "text"
      },
      "source": [
        "Queste informazioni sono utili per mostrare graficamente l'evoluzione delle metriche durante l'addestramento."
      ]
    },
    {
      "cell_type": "code",
      "metadata": {
        "id": "0du92IwS85_d",
        "colab_type": "code",
        "colab": {
          "base_uri": "https://localhost:8080/",
          "height": 587
        },
        "outputId": "dc0fe6da-95e6-4f6a-de61-769d9671d1a8"
      },
      "source": [
        "import matplotlib.pyplot as plt\n",
        "\n",
        "plt.figure(figsize=(14,10))\n",
        "plt.title(\"MNIST Classification\")\n",
        "plt.xlabel(\"Epoca\")\n",
        "plt.ylabel(\"Log-Loss\")\n",
        "  \n",
        "plt.plot(model.history.history['loss'], label=\"Training Loss\")\n",
        "plt.plot(model.history.history['accuracy'], label=\"Training Accuracy\")\n",
        "plt.legend()\n",
        "plt.show()"
      ],
      "execution_count": null,
      "outputs": [
        {
          "output_type": "display_data",
          "data": {
            "image/png": "[encoded data removed]",
            "text/plain": [
              "<Figure size 1008x720 with 1 Axes>"
            ]
          },
          "metadata": {
            "tags": [],
            "needs_background": "light"
          }
        }
      ]
    },
    {
      "cell_type": "markdown",
      "metadata": {
        "id": "tQbCZh_79WY6",
        "colab_type": "text"
      },
      "source": [
        "## Early Stopping Callbacks\n",
        "Early Stopping è una tecnica che consiste nell'interrompere l'addestramento in maniera preventiva se il modello non sta migliorando."
      ]
    },
    {
      "cell_type": "code",
      "metadata": {
        "id": "ZAY5jpzz9FrO",
        "colab_type": "code",
        "colab": {
          "base_uri": "https://localhost:8080/",
          "height": 280
        },
        "outputId": "6c82e190-909a-4249-ea71-9728aab743b7"
      },
      "source": [
        "model = build_model()\n",
        "\n",
        "early_stopping = tf.keras.callbacks.EarlyStopping(monitor=\"accuracy\",\n",
        "                              min_delta=0.01,\n",
        "                              patience=2,\n",
        "                              restore_best_weight=True)\n",
        "\n",
        "model.fit(X_train, y_train, epochs=10, callbacks=[early_stopping])"
      ],
      "execution_count": null,
      "outputs": [
        {
          "output_type": "stream",
          "text": [
            "Epoch 1/10\n",
            "1500/1500 [==============================] - 5s 3ms/step - loss: 0.8740 - accuracy: 0.7583\n",
            "Epoch 2/10\n",
            "1500/1500 [==============================] - 5s 3ms/step - loss: 0.3474 - accuracy: 0.8996\n",
            "Epoch 3/10\n",
            "1500/1500 [==============================] - 5s 3ms/step - loss: 0.2888 - accuracy: 0.9166\n",
            "Epoch 4/10\n",
            "1500/1500 [==============================] - 5s 3ms/step - loss: 0.2548 - accuracy: 0.9259\n",
            "Epoch 5/10\n",
            "1500/1500 [==============================] - 5s 3ms/step - loss: 0.2309 - accuracy: 0.9329\n",
            "Epoch 6/10\n",
            "1500/1500 [==============================] - 5s 3ms/step - loss: 0.2118 - accuracy: 0.9379\n",
            "Epoch 7/10\n",
            "1500/1500 [==============================] - 5s 3ms/step - loss: 0.1961 - accuracy: 0.9429\n"
          ],
          "name": "stdout"
        },
        {
          "output_type": "execute_result",
          "data": {
            "text/plain": [
              "<tensorflow.python.keras.callbacks.History at 0x7fc21ca96908>"
            ]
          },
          "metadata": {
            "tags": []
          },
          "execution_count": 44
        }
      ]
    },
    {
      "cell_type": "markdown",
      "metadata": {
        "id": "AD_PKum-8x3F",
        "colab_type": "text"
      },
      "source": [
        "Così facendo abbiamo indicato di interrompere l'addestramento se dopo almeno *patience* epoche il valore della *loss* non è migliorato di almeno *min_delta*, e in tal caso di ripristinare i pesi che hanno portato al migliore risultato."
      ]
    },
    {
      "cell_type": "markdown",
      "metadata": {
        "id": "X9uElDS6_xqS",
        "colab_type": "text"
      },
      "source": [
        "## Model Checkpoint Callbacks\n",
        "I checkpoint sono uno strumento estremamente utile, che ci permette di fare un backup su disco della rete neurale al termine di ogni epoca, o di un'altro intervallo temporale definito da noi."
      ]
    },
    {
      "cell_type": "code",
      "metadata": {
        "id": "9S12wIKe9Z42",
        "colab_type": "code",
        "colab": {
          "base_uri": "https://localhost:8080/",
          "height": 386
        },
        "outputId": "8c28c840-1c12-4ef2-c559-be7992615225"
      },
      "source": [
        "model = build_model()\n",
        "\n",
        "model_checkpoint = tf.keras.callbacks.ModelCheckpoint(\n",
        "    \"checkpoint.h5\", \n",
        "    monitor='loss', \n",
        "    save_best_only=True,\n",
        "    #save_weights_only=False, \n",
        "    #save_freq='epoch'\n",
        ")\n",
        "\n",
        "model.fit(X_train, y_train, epochs=10, callbacks=[model_checkpoint])"
      ],
      "execution_count": null,
      "outputs": [
        {
          "output_type": "stream",
          "text": [
            "Epoch 1/10\n",
            "1500/1500 [==============================] - 5s 3ms/step - loss: 0.8580 - accuracy: 0.7634\n",
            "Epoch 2/10\n",
            "1500/1500 [==============================] - 4s 3ms/step - loss: 0.3607 - accuracy: 0.8960\n",
            "Epoch 3/10\n",
            "1500/1500 [==============================] - 5s 3ms/step - loss: 0.3059 - accuracy: 0.9119\n",
            "Epoch 4/10\n",
            "1500/1500 [==============================] - 5s 3ms/step - loss: 0.2752 - accuracy: 0.9213\n",
            "Epoch 5/10\n",
            "1500/1500 [==============================] - 4s 3ms/step - loss: 0.2521 - accuracy: 0.9279\n",
            "Epoch 6/10\n",
            "1500/1500 [==============================] - 4s 3ms/step - loss: 0.2331 - accuracy: 0.9331\n",
            "Epoch 7/10\n",
            "1500/1500 [==============================] - 4s 3ms/step - loss: 0.2172 - accuracy: 0.9385\n",
            "Epoch 8/10\n",
            "1500/1500 [==============================] - 4s 3ms/step - loss: 0.2028 - accuracy: 0.9416\n",
            "Epoch 9/10\n",
            "1500/1500 [==============================] - 4s 3ms/step - loss: 0.1906 - accuracy: 0.9453\n",
            "Epoch 10/10\n",
            "1500/1500 [==============================] - 4s 3ms/step - loss: 0.1799 - accuracy: 0.9483\n"
          ],
          "name": "stdout"
        },
        {
          "output_type": "execute_result",
          "data": {
            "text/plain": [
              "<tensorflow.python.keras.callbacks.History at 0x7f6d3028d780>"
            ]
          },
          "metadata": {
            "tags": []
          },
          "execution_count": 9
        }
      ]
    },
    {
      "cell_type": "markdown",
      "metadata": {
        "id": "xWyjvwI4-JmV",
        "colab_type": "text"
      },
      "source": [
        "La rete viene salvata con formato h5, nel prossimo notebook vedremo come ripristinarla."
      ]
    },
    {
      "cell_type": "markdown",
      "metadata": {
        "id": "Q9M5wKek9cxp",
        "colab_type": "text"
      },
      "source": [
        "## Utilizzare più Callbacks\n",
        "Come avrai notato, l'input dell parametro *callbacks* deve essere una lista di callback, infatti possiamo utilizzare anche più callback, custom e/o predefiniti, durante l'addestramento, per una lista estensiva di tutti i callback disponibili puoi far rifermento alla documentazione di Tensorflow.\n",
        "<br>\n",
        "[Tutti i Callback di tf.keras](https://www.tensorflow.org/api_docs/python/tf/keras/callbacks])"
      ]
    },
    {
      "cell_type": "code",
      "metadata": {
        "id": "-BSRoo1u-Bj-",
        "colab_type": "code",
        "colab": {}
      },
      "source": [
        ""
      ],
      "execution_count": null,
      "outputs": []
    }
  ]
}