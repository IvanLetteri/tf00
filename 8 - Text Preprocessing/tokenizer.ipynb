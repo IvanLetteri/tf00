{
  "nbformat": 4,
  "nbformat_minor": 0,
  "metadata": {
    "colab": {
      "name": "Untitled73.ipynb",
      "provenance": [],
      "authorship_tag": "ABX9TyMDVPNIdjeOuyrmRw9YTG1l",
      "include_colab_link": true
    },
    "kernelspec": {
      "name": "python3",
      "display_name": "Python 3"
    }
  },
  "cells": [
    {
      "cell_type": "markdown",
      "metadata": {
        "id": "view-in-github",
        "colab_type": "text"
      },
      "source": [
        "<a href=\"https://colab.research.google.com/github/ProfAI/tf00/blob/master/8%20-%20Text%20Preprocessing/tokenizer.ipynb\" target=\"_parent\"><img src=\"https://colab.research.google.com/assets/colab-badge.svg\" alt=\"Open In Colab\"/></a>"
      ]
    },
    {
      "cell_type": "markdown",
      "metadata": {
        "id": "qGsNHpnip2zW",
        "colab_type": "text"
      },
      "source": [
        "# Preprocessing del testo"
      ]
    },
    {
      "cell_type": "code",
      "metadata": {
        "id": "fR0H2jdMoGVz",
        "colab_type": "code",
        "colab": {}
      },
      "source": [
        "import tensorflow as tf\n",
        "from tensorflow.keras.preprocessing.text import Tokenizer\n",
        "from tensorflow.keras.preprocessing.sequence import pad_sequences"
      ],
      "execution_count": 4,
      "outputs": []
    },
    {
      "cell_type": "code",
      "metadata": {
        "id": "aI-3F8xzplGr",
        "colab_type": "code",
        "colab": {}
      },
      "source": [
        "texts = [\"i miei gatti\", \"I gatti sono bellissimi\", \"I gatti sono malvagi e crudeli\", \"I gatti conquisteranno il mondo\", \"Il mondo appartiene ai gatti\"]"
      ],
      "execution_count": 17,
      "outputs": []
    },
    {
      "cell_type": "code",
      "metadata": {
        "id": "SD263oMZp2Ct",
        "colab_type": "code",
        "colab": {}
      },
      "source": [
        "tokenizer = Tokenizer()\n",
        "tokenizer.fit_on_texts(texts)"
      ],
      "execution_count": 18,
      "outputs": []
    },
    {
      "cell_type": "code",
      "metadata": {
        "id": "KV6TuThiqOdv",
        "colab_type": "code",
        "colab": {
          "base_uri": "https://localhost:8080/",
          "height": 35
        },
        "outputId": "c1c6c97a-0b8c-4ae2-e392-67c0117a0efa"
      },
      "source": [
        "sequences = tokenizer.texts_to_sequences(texts)\n",
        "sequences[0]"
      ],
      "execution_count": 19,
      "outputs": [
        {
          "output_type": "execute_result",
          "data": {
            "text/plain": [
              "[2, 6, 1]"
            ]
          },
          "metadata": {
            "tags": []
          },
          "execution_count": 19
        }
      ]
    },
    {
      "cell_type": "code",
      "metadata": {
        "id": "fJJpbh61qWeQ",
        "colab_type": "code",
        "colab": {
          "base_uri": "https://localhost:8080/",
          "height": 254
        },
        "outputId": "40f1b174-7138-4547-b79a-c1499ad76f9b"
      },
      "source": [
        "tokenizer.word_index"
      ],
      "execution_count": 20,
      "outputs": [
        {
          "output_type": "execute_result",
          "data": {
            "text/plain": [
              "{'ai': 13,\n",
              " 'appartiene': 12,\n",
              " 'bellissimi': 7,\n",
              " 'conquisteranno': 11,\n",
              " 'crudeli': 10,\n",
              " 'e': 9,\n",
              " 'gatti': 1,\n",
              " 'i': 2,\n",
              " 'il': 4,\n",
              " 'malvagi': 8,\n",
              " 'miei': 6,\n",
              " 'mondo': 5,\n",
              " 'sono': 3}"
            ]
          },
          "metadata": {
            "tags": []
          },
          "execution_count": 20
        }
      ]
    },
    {
      "cell_type": "code",
      "metadata": {
        "id": "oG9mhP1sqdF5",
        "colab_type": "code",
        "colab": {
          "base_uri": "https://localhost:8080/",
          "height": 35
        },
        "outputId": "a778ff40-baf4-4a1e-fa3a-2ac1764b1482"
      },
      "source": [
        "padded_sequences = pad_sequences(sequences)\n",
        "padded_sequences.shape"
      ],
      "execution_count": 21,
      "outputs": [
        {
          "output_type": "execute_result",
          "data": {
            "text/plain": [
              "(5, 6)"
            ]
          },
          "metadata": {
            "tags": []
          },
          "execution_count": 21
        }
      ]
    },
    {
      "cell_type": "code",
      "metadata": {
        "id": "BdMBQsZpq6Il",
        "colab_type": "code",
        "colab": {
          "base_uri": "https://localhost:8080/",
          "height": 35
        },
        "outputId": "d125c960-5d21-466a-ece6-d957e48f990d"
      },
      "source": [
        "padded_sequences[0]"
      ],
      "execution_count": 22,
      "outputs": [
        {
          "output_type": "execute_result",
          "data": {
            "text/plain": [
              "array([0, 0, 0, 2, 6, 1], dtype=int32)"
            ]
          },
          "metadata": {
            "tags": []
          },
          "execution_count": 22
        }
      ]
    },
    {
      "cell_type": "code",
      "metadata": {
        "id": "mKuiA0WxrNKl",
        "colab_type": "code",
        "colab": {}
      },
      "source": [
        ""
      ],
      "execution_count": null,
      "outputs": []
    }
  ]
}